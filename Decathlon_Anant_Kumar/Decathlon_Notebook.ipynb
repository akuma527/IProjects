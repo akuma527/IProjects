{
 "cells": [
  {
   "cell_type": "code",
   "execution_count": 66,
   "metadata": {},
   "outputs": [],
   "source": [
    "import nltk\n",
    "from bs4 import BeautifulSoup\n",
    "from urllib.request import urlopen\n",
    "import re\n",
    "from nltk.corpus import wordnet\n",
    "from nltk.corpus import words\n",
    "import pandas as pd\n",
    "import numpy as np\n",
    "from nltk import sent_tokenize"
   ]
  },
  {
   "cell_type": "markdown",
   "metadata": {},
   "source": [
    "# Creating offline data"
   ]
  },
  {
   "cell_type": "code",
   "execution_count": 67,
   "metadata": {},
   "outputs": [],
   "source": [
    "d = {}\n",
    "links = [\"https://sportsadvice.decathlon.in/advice-alias/feminine-hygiene-hike-tp_9223\",\"https://sportsadvice.decathlon.in/advice-alias/how-choose-waterproof-hiking-jacket-tp_6800\",\"https://sportsadvice.decathlon.in/advice-alias/do-you-know-7-leave-no-trace-principles-tp_9251\",\"https://sportsadvice.decathlon.in/advice-alias/aquaphobia-lets-talk-about-it-tp_1919\",\"https://sportsadvice.decathlon.in/advice-alias/aqua-sports-are-growing-popularity-tp_4027\",\"https://sportsadvice.decathlon.in/advice-alias/5-basics-sharing-swimming-pool-tp_3274\"]\n",
    "for url in links:\n",
    "    html = urlopen(url).read()\n",
    "    cleantext = BeautifulSoup(html, \"lxml\").text\n",
    "    d[f'{url}'] = cleantext"
   ]
  },
  {
   "cell_type": "code",
   "execution_count": 68,
   "metadata": {},
   "outputs": [],
   "source": [
    "df = pd.DataFrame(list(d.items()), columns=['Link','Text'])"
   ]
  },
  {
   "cell_type": "code",
   "execution_count": 69,
   "metadata": {},
   "outputs": [],
   "source": [
    "df.to_excel('data.xlsx')"
   ]
  },
  {
   "cell_type": "markdown",
   "metadata": {},
   "source": [
    "# Remove Special Characters"
   ]
  },
  {
   "cell_type": "code",
   "execution_count": 70,
   "metadata": {},
   "outputs": [
    {
     "data": {
      "text/html": [
       "<div>\n",
       "<style scoped>\n",
       "    .dataframe tbody tr th:only-of-type {\n",
       "        vertical-align: middle;\n",
       "    }\n",
       "\n",
       "    .dataframe tbody tr th {\n",
       "        vertical-align: top;\n",
       "    }\n",
       "\n",
       "    .dataframe thead th {\n",
       "        text-align: right;\n",
       "    }\n",
       "</style>\n",
       "<table border=\"1\" class=\"dataframe\">\n",
       "  <thead>\n",
       "    <tr style=\"text-align: right;\">\n",
       "      <th></th>\n",
       "      <th>Link</th>\n",
       "      <th>Text</th>\n",
       "    </tr>\n",
       "  </thead>\n",
       "  <tbody>\n",
       "    <tr>\n",
       "      <th>0</th>\n",
       "      <td>https://sportsadvice.decathlon.in/advice-alias...</td>\n",
       "      <td>\\n\\n\\n\\n\\n\\n\\n\\n\\n\\n\\n\\n\\n\\n\\n\\n\\n\\n\\n\\ndataLa...</td>\n",
       "    </tr>\n",
       "    <tr>\n",
       "      <th>1</th>\n",
       "      <td>https://sportsadvice.decathlon.in/advice-alias...</td>\n",
       "      <td>\\n\\n\\n\\n\\n\\n\\n\\n\\n\\n\\n\\n\\n\\n\\n\\n\\n\\n\\n\\ndataLa...</td>\n",
       "    </tr>\n",
       "    <tr>\n",
       "      <th>2</th>\n",
       "      <td>https://sportsadvice.decathlon.in/advice-alias...</td>\n",
       "      <td>\\n\\n\\n\\n\\n\\n\\n\\n\\n\\n\\n\\n\\n\\n\\n\\n\\n\\n\\n\\ndataLa...</td>\n",
       "    </tr>\n",
       "    <tr>\n",
       "      <th>3</th>\n",
       "      <td>https://sportsadvice.decathlon.in/advice-alias...</td>\n",
       "      <td>\\n\\n\\n\\n\\n\\n\\n\\n\\n\\n\\n\\n\\n\\n\\n\\n\\n\\n\\n\\ndataLa...</td>\n",
       "    </tr>\n",
       "    <tr>\n",
       "      <th>4</th>\n",
       "      <td>https://sportsadvice.decathlon.in/advice-alias...</td>\n",
       "      <td>\\n\\n\\n\\n\\n\\n\\n\\n\\n\\n\\n\\n\\n\\n\\n\\n\\n\\n\\n\\ndataLa...</td>\n",
       "    </tr>\n",
       "  </tbody>\n",
       "</table>\n",
       "</div>"
      ],
      "text/plain": [
       "                                                Link  \\\n",
       "0  https://sportsadvice.decathlon.in/advice-alias...   \n",
       "1  https://sportsadvice.decathlon.in/advice-alias...   \n",
       "2  https://sportsadvice.decathlon.in/advice-alias...   \n",
       "3  https://sportsadvice.decathlon.in/advice-alias...   \n",
       "4  https://sportsadvice.decathlon.in/advice-alias...   \n",
       "\n",
       "                                                Text  \n",
       "0  \\n\\n\\n\\n\\n\\n\\n\\n\\n\\n\\n\\n\\n\\n\\n\\n\\n\\n\\n\\ndataLa...  \n",
       "1  \\n\\n\\n\\n\\n\\n\\n\\n\\n\\n\\n\\n\\n\\n\\n\\n\\n\\n\\n\\ndataLa...  \n",
       "2  \\n\\n\\n\\n\\n\\n\\n\\n\\n\\n\\n\\n\\n\\n\\n\\n\\n\\n\\n\\ndataLa...  \n",
       "3  \\n\\n\\n\\n\\n\\n\\n\\n\\n\\n\\n\\n\\n\\n\\n\\n\\n\\n\\n\\ndataLa...  \n",
       "4  \\n\\n\\n\\n\\n\\n\\n\\n\\n\\n\\n\\n\\n\\n\\n\\n\\n\\n\\n\\ndataLa...  "
      ]
     },
     "execution_count": 70,
     "metadata": {},
     "output_type": "execute_result"
    }
   ],
   "source": [
    "df = pd.read_excel('data.xlsx')\n",
    "df.head()"
   ]
  },
  {
   "cell_type": "code",
   "execution_count": 71,
   "metadata": {},
   "outputs": [],
   "source": [
    "cleantext = []\n",
    "for i in range(len(df)):\n",
    "    cleantext.append(df.Text.loc[i])"
   ]
  },
  {
   "cell_type": "code",
   "execution_count": 72,
   "metadata": {},
   "outputs": [],
   "source": [
    "dt = []\n",
    "for c in cleantext:\n",
    "    zzz = re.sub('[^A-Za-z0-9]+', ' ', c)\n",
    "    dt.append(zzz.split())"
   ]
  },
  {
   "cell_type": "markdown",
   "metadata": {},
   "source": [
    "# Remove words with length less than 4"
   ]
  },
  {
   "cell_type": "code",
   "execution_count": 73,
   "metadata": {},
   "outputs": [],
   "source": [
    "def _remove_smallW(str_list):\n",
    "    dt = []\n",
    "    for w in str_list:\n",
    "        if(len(w)>3):\n",
    "            dt.append(w)\n",
    "    return dt\n",
    "ddt = _remove_smallW(dt)"
   ]
  },
  {
   "cell_type": "code",
   "execution_count": 74,
   "metadata": {},
   "outputs": [],
   "source": [
    "# # Lemmatizer\n",
    "# def _list_lemmatizer(cl_list):\n",
    "#     lemmatizer = nltk.WordNetLemmatizer()\n",
    "#     new_list = []\n",
    "#     for le in cl_list:\n",
    "#         new_list.append(lemmatizer.lemmatize(le))\n",
    "#     return new_list\n",
    "\n",
    "# # Stemmer\n",
    "# def _list_stemmer(st3):\n",
    "#     stemmer = nltk.stem.PorterStemmer()\n",
    "#     new_list = []\n",
    "#     for le in st3:\n",
    "#         new_list.append(stemmer.stem(le))\n",
    "#     return new_list"
   ]
  },
  {
   "cell_type": "markdown",
   "metadata": {},
   "source": [
    "# Creating a Vocabulary"
   ]
  },
  {
   "cell_type": "code",
   "execution_count": 75,
   "metadata": {},
   "outputs": [],
   "source": [
    "from nltk.corpus import stopwords\n",
    "stw = stopwords.words()"
   ]
  },
  {
   "cell_type": "code",
   "execution_count": 76,
   "metadata": {},
   "outputs": [],
   "source": [
    "dpt = []\n",
    "for ww in ddt:\n",
    "    for w in ww:\n",
    "        if w.lower() not in stw:\n",
    "            dpt.append(w.lower())"
   ]
  },
  {
   "cell_type": "code",
   "execution_count": 77,
   "metadata": {},
   "outputs": [
    {
     "data": {
      "text/plain": [
       "1459"
      ]
     },
     "execution_count": 77,
     "metadata": {},
     "output_type": "execute_result"
    }
   ],
   "source": [
    "dpt = list(set(dpt))\n",
    "len(dpt)"
   ]
  },
  {
   "cell_type": "markdown",
   "metadata": {},
   "source": [
    "# Filtering Vocabulary"
   ]
  },
  {
   "cell_type": "code",
   "execution_count": 78,
   "metadata": {},
   "outputs": [],
   "source": [
    "def _nonEng(dpt):\n",
    "    dl = words.words()\n",
    "    cl_list = []; rej_list = []\n",
    "    for w in dpt:\n",
    "        if(w in dl):\n",
    "            cl_list.append(w)\n",
    "        else:\n",
    "            rej_list.append(w)\n",
    "    return cl_list, rej_list"
   ]
  },
  {
   "cell_type": "code",
   "execution_count": 79,
   "metadata": {},
   "outputs": [],
   "source": [
    "dkt, b = _nonEng(dpt)"
   ]
  },
  {
   "cell_type": "code",
   "execution_count": 80,
   "metadata": {},
   "outputs": [],
   "source": [
    "# lem_l = _list_lemmatizer(dkt)\n",
    "# stem_l = _list_stemmer(lem_l)"
   ]
  },
  {
   "cell_type": "code",
   "execution_count": 81,
   "metadata": {},
   "outputs": [],
   "source": [
    "# preVoc = list(set(stem_l))\n",
    "# len(preVoc)"
   ]
  },
  {
   "cell_type": "markdown",
   "metadata": {},
   "source": [
    "# TfIdf Vectorizer: Providing it the custom vocabulary"
   ]
  },
  {
   "cell_type": "code",
   "execution_count": 82,
   "metadata": {},
   "outputs": [],
   "source": [
    "from sklearn.feature_extraction.text import TfidfVectorizer"
   ]
  },
  {
   "cell_type": "code",
   "execution_count": 83,
   "metadata": {},
   "outputs": [],
   "source": [
    "tf = TfidfVectorizer(vocabulary=dkt)"
   ]
  },
  {
   "cell_type": "code",
   "execution_count": 84,
   "metadata": {},
   "outputs": [],
   "source": [
    "# def _frame_lemmatizer(df):\n",
    "#     lemmatizer = nltk.WordNetLemmatizer()\n",
    "#     zzz = lemmatizer.lemmatize(df['Text'])\n",
    "#     return zzz\n",
    "# def _frame_stemmer(df):\n",
    "#     stemmer = nltk.stem.PorterStemmer()\n",
    "#     zzz = stemmer.stem(df['Text'])\n",
    "#     return zzz"
   ]
  },
  {
   "cell_type": "code",
   "execution_count": 85,
   "metadata": {},
   "outputs": [],
   "source": [
    "# for i in range(len(df)):\n",
    "#     m = _clean_all(df.Text.loc[i])\n",
    "#     df.Text.at[i] = m\n",
    "# df['Text'] = df.apply(_frame_lemmatizer,axis=1)\n",
    "# df['Text'] = df.apply(_frame_stemmer,axis=1)"
   ]
  },
  {
   "cell_type": "markdown",
   "metadata": {},
   "source": [
    "# Transforming Documents into Tf-Idf matrix"
   ]
  },
  {
   "cell_type": "code",
   "execution_count": 86,
   "metadata": {},
   "outputs": [],
   "source": [
    "tfidf_mat = tf.fit_transform(cleantext)"
   ]
  },
  {
   "cell_type": "code",
   "execution_count": 87,
   "metadata": {},
   "outputs": [
    {
     "data": {
      "text/plain": [
       "(6, 977)"
      ]
     },
     "execution_count": 87,
     "metadata": {},
     "output_type": "execute_result"
    }
   ],
   "source": [
    "tfidf_mat.shape"
   ]
  },
  {
   "cell_type": "markdown",
   "metadata": {},
   "source": [
    "# Latent Dirichlet Allocation \n",
    "<b>keep commented"
   ]
  },
  {
   "cell_type": "code",
   "execution_count": 88,
   "metadata": {},
   "outputs": [],
   "source": [
    "# from sklearn.decomposition import LatentDirichletAllocation "
   ]
  },
  {
   "cell_type": "code",
   "execution_count": 89,
   "metadata": {},
   "outputs": [],
   "source": [
    "# lda = LatentDirichletAllocation(n_components=10, max_iter=500,\n",
    "#                                 learning_method='online',\n",
    "#                                 learning_offset=50.,\n",
    "#                                 random_state=0)"
   ]
  },
  {
   "cell_type": "code",
   "execution_count": 90,
   "metadata": {},
   "outputs": [],
   "source": [
    "# a = lda.fit_transform(tfidf_mat)"
   ]
  },
  {
   "cell_type": "code",
   "execution_count": 91,
   "metadata": {},
   "outputs": [],
   "source": [
    "# topic_words = {}\n",
    "# n_top_words = 10; vocab = dkt\n",
    "# for topic, comp in enumerate(lda.components_):\n",
    "#     word_idx = np.argsort(comp)[::-1][:n_top_words]\n",
    "#     # store the words most relevant to the topic\n",
    "#     topic_words[topic] = [vocab[i] for i in word_idx]"
   ]
  },
  {
   "cell_type": "code",
   "execution_count": 92,
   "metadata": {},
   "outputs": [],
   "source": [
    "# lda.transform(tf.transform([df.Text.loc[1]]))"
   ]
  },
  {
   "cell_type": "code",
   "execution_count": 93,
   "metadata": {},
   "outputs": [],
   "source": [
    "# for topic, words in topic_words.items():\n",
    "#     print('Topic: %d' % topic)\n",
    "#     print('  %s' % ', '.join(words))"
   ]
  },
  {
   "cell_type": "markdown",
   "metadata": {},
   "source": [
    "# Get Tags for respective documents\n",
    "<br/>\n",
    "Input: 1. Tf-Idf of documents, 2. Specific document, 3. Number of Tags"
   ]
  },
  {
   "cell_type": "code",
   "execution_count": 118,
   "metadata": {},
   "outputs": [],
   "source": [
    "def _give_tags(tfidf_mat,doc,num_tags):\n",
    "    feature_index = tfidf_mat[doc,:].nonzero()[1]\n",
    "    tfidf_scores = zip(feature_index, [tfidf_mat[doc, x] for x in feature_index])\n",
    "    \n",
    "    scr = {}\n",
    "    for w, s in [(feature_names[i], s) for (i, s) in tfidf_scores]:\n",
    "        scr[f'{w}'] =  s\n",
    "    \n",
    "    ddf = pd.DataFrame(list(scr.items()), columns=['Tag','Score'])\n",
    "    ddff = ddf.sort_values('Score',ascending=False)\n",
    "    ddff = ddff.reset_index(drop=True)\n",
    "    \n",
    "    return ddff.Tag.loc[:num_tags-1]"
   ]
  },
  {
   "cell_type": "code",
   "execution_count": 119,
   "metadata": {},
   "outputs": [
    {
     "data": {
      "text/plain": [
       "0       hike\n",
       "1     advice\n",
       "2    hygiene\n",
       "Name: Tag, dtype: object"
      ]
     },
     "execution_count": 119,
     "metadata": {},
     "output_type": "execute_result"
    }
   ],
   "source": [
    "_give_tags(tfidf_mat,doc,3)"
   ]
  },
  {
   "cell_type": "markdown",
   "metadata": {},
   "source": [
    "# Visualizing Documents\n",
    "<br/>\n",
    "The documents have been visualized using a Singular Value Decomposition technique, which utilizes the current data and transforms it, representing the document in a 2D plot"
   ]
  },
  {
   "cell_type": "code",
   "execution_count": 40,
   "metadata": {},
   "outputs": [],
   "source": [
    "from sklearn.decomposition import TruncatedSVD"
   ]
  },
  {
   "cell_type": "code",
   "execution_count": 44,
   "metadata": {},
   "outputs": [],
   "source": [
    "svd = TruncatedSVD(n_components=2, random_state=42)\n",
    "data = svd.fit_transform(tfidf_mat) "
   ]
  },
  {
   "cell_type": "code",
   "execution_count": 53,
   "metadata": {},
   "outputs": [],
   "source": [
    "import matplotlib.pyplot as plt\n",
    "%matplotlib inline"
   ]
  },
  {
   "cell_type": "code",
   "execution_count": 65,
   "metadata": {},
   "outputs": [
    {
     "data": {
      "image/png": "[encoded data removed]",
      "text/plain": [
       "<Figure size 720x720 with 1 Axes>"
      ]
     },
     "metadata": {},
     "output_type": "display_data"
    }
   ],
   "source": [
    "fig, ax = plt.subplots(figsize=(10,10))\n",
    "n=['d1','d2','d3','d4','d5','d6']\n",
    "axes = plt.gca()\n",
    "ax.set_title(\"Visualizing Documents\")\n",
    "ax.set_xlabel('Swimming')\n",
    "ax.set_ylabel('Hiking')\n",
    "\n",
    "axes.set_xlim([0.4,0.8])\n",
    "axes.set_ylim([-0.45,0.9])\n",
    "for i, txt in enumerate(n):\n",
    "    ax.annotate(txt, (data[i,0], data[i,1]))"
   ]
  }
 ],
 "metadata": {
  "kernelspec": {
   "display_name": "Python 3",
   "language": "python",
   "name": "python3"
  },
  "language_info": {
   "codemirror_mode": {
    "name": "ipython",
    "version": 3
   },
   "file_extension": ".py",
   "mimetype": "text/x-python",
   "name": "python",
   "nbconvert_exporter": "python",
   "pygments_lexer": "ipython3",
   "version": "3.6.5"
  }
 },
 "nbformat": 4,
 "nbformat_minor": 2
}
