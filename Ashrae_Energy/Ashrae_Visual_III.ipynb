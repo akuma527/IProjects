{
 "cells": [
  {
   "cell_type": "code",
   "execution_count": 1,
   "metadata": {},
   "outputs": [],
   "source": [
    "import pandas as pd "
   ]
  },
  {
   "cell_type": "code",
   "execution_count": 2,
   "metadata": {},
   "outputs": [],
   "source": [
    "df = pd.read_csv('train_final.zip')"
   ]
  },
  {
   "cell_type": "code",
   "execution_count": 3,
   "metadata": {},
   "outputs": [],
   "source": [
    "def _low_mem_mgmt(df):\n",
    "    df[['meter','site_id','building_id','square_feet']] = df[['meter','site_id', 'building_id', 'square_feet']].astype('int32')\n",
    "\n",
    "    # Change the dtypes (float64 -> float32)\n",
    "    df[['meter_reading', 'year_built','floor_count', 'air_temperature', 'cloud_coverage',\n",
    "        'dew_temperature', 'precip_depth_1_hr', 'sea_level_pressure',\n",
    "        'wind_direction','wind_speed']] = df[['meter_reading', 'year_built',\n",
    "        'floor_count', 'air_temperature', 'cloud_coverage',\n",
    "        'dew_temperature', 'precip_depth_1_hr', 'sea_level_pressure',\n",
    "        'wind_direction','wind_speed']].astype('float32')\n",
    "    return df"
   ]
  },
  {
   "cell_type": "code",
   "execution_count": 4,
   "metadata": {},
   "outputs": [],
   "source": [
    "df = _low_mem_mgmt(df)"
   ]
  },
  {
   "cell_type": "code",
   "execution_count": 5,
   "metadata": {},
   "outputs": [],
   "source": [
    "df['timestamp'] = pd.to_datetime(df['timestamp'])"
   ]
  },
  {
   "cell_type": "code",
   "execution_count": 6,
   "metadata": {},
   "outputs": [],
   "source": [
    "df.drop(columns=['year_built', 'floor_count'], inplace=True)"
   ]
  },
  {
   "cell_type": "markdown",
   "metadata": {},
   "source": [
    "# Visualizations"
   ]
  },
  {
   "cell_type": "code",
   "execution_count": 7,
   "metadata": {},
   "outputs": [],
   "source": [
    "import seaborn as sns\n",
    "import matplotlib.pyplot as plt\n",
    "%matplotlib inline\n",
    "sns.set(rc={'figure.figsize':(11.7,8.27)})"
   ]
  },
  {
   "cell_type": "code",
   "execution_count": 8,
   "metadata": {},
   "outputs": [],
   "source": [
    "def _create_dew_temp_air_temp_plot():\n",
    "    sns.set(rc={'figure.figsize':(40, 40)})\n",
    "    %matplotlib agg\n",
    "    %matplotlib agg\n",
    "    fig, axs = plt.subplots(ncols=4, nrows=4)\n",
    "    axs = axs.reshape(-1,1).tolist()\n",
    "    axss = [i for x in axs for i in x]\n",
    "    for i in list(df['site_id'].unique()):\n",
    "        tmp_df = df[df['site_id']==i].copy()\n",
    "        tmp_df.set_index(\"timestamp\", inplace=True)    \n",
    "        sns_plot = sns.scatterplot(x=\"dew_temperature\", y=\"air_temperature\", data=tmp_df, ax=axss[i])\n",
    "        axss[i].set_title(f'Site_ID_{i}',  fontdict={'fontsize': 30, 'fontweight': 'bold'})\n",
    "    axss[i].figure.savefig(f\"visual/dew_temp_air_temp.png\")\n",
    "    return 'DONE'"
   ]
  },
  {
   "cell_type": "code",
   "execution_count": 10,
   "metadata": {},
   "outputs": [
    {
     "data": {
      "text/html": [
       "<div>\n",
       "<style scoped>\n",
       "    .dataframe tbody tr th:only-of-type {\n",
       "        vertical-align: middle;\n",
       "    }\n",
       "\n",
       "    .dataframe tbody tr th {\n",
       "        vertical-align: top;\n",
       "    }\n",
       "\n",
       "    .dataframe thead th {\n",
       "        text-align: right;\n",
       "    }\n",
       "</style>\n",
       "<table border=\"1\" class=\"dataframe\">\n",
       "  <thead>\n",
       "    <tr style=\"text-align: right;\">\n",
       "      <th></th>\n",
       "      <th>air_temperature</th>\n",
       "      <th>dew_temperature</th>\n",
       "    </tr>\n",
       "  </thead>\n",
       "  <tbody>\n",
       "    <tr>\n",
       "      <th>air_temperature</th>\n",
       "      <td>1.00000</td>\n",
       "      <td>0.75064</td>\n",
       "    </tr>\n",
       "    <tr>\n",
       "      <th>dew_temperature</th>\n",
       "      <td>0.75064</td>\n",
       "      <td>1.00000</td>\n",
       "    </tr>\n",
       "  </tbody>\n",
       "</table>\n",
       "</div>"
      ],
      "text/plain": [
       "                 air_temperature  dew_temperature\n",
       "air_temperature          1.00000          0.75064\n",
       "dew_temperature          0.75064          1.00000"
      ]
     },
     "execution_count": 10,
     "metadata": {},
     "output_type": "execute_result"
    }
   ],
   "source": [
    "df[['air_temperature', 'dew_temperature']].corr()"
   ]
  },
  {
   "cell_type": "code",
   "execution_count": 16,
   "metadata": {},
   "outputs": [
    {
     "data": {
      "text/plain": [
       "meter                 0.000000\n",
       "timestamp             0.000000\n",
       "meter_reading         0.000000\n",
       "site_id               0.000000\n",
       "building_id           0.000000\n",
       "primary_use           0.000000\n",
       "square_feet           0.000000\n",
       "air_temperature       0.004781\n",
       "cloud_coverage        0.436551\n",
       "dew_temperature       0.004953\n",
       "precip_depth_1_hr     0.185447\n",
       "sea_level_pressure    0.060925\n",
       "wind_direction        0.071678\n",
       "wind_speed            0.007107\n",
       "dtype: float64"
      ]
     },
     "execution_count": 16,
     "metadata": {},
     "output_type": "execute_result"
    }
   ],
   "source": [
    "df.isnull().sum()/len(df)"
   ]
  },
  {
   "cell_type": "code",
   "execution_count": null,
   "metadata": {},
   "outputs": [],
   "source": []
  }
 ],
 "metadata": {
  "kernelspec": {
   "display_name": "Python 3",
   "language": "python",
   "name": "python3"
  },
  "language_info": {
   "codemirror_mode": {
    "name": "ipython",
    "version": 3
   },
   "file_extension": ".py",
   "mimetype": "text/x-python",
   "name": "python",
   "nbconvert_exporter": "python",
   "pygments_lexer": "ipython3",
   "version": "3.6.5"
  }
 },
 "nbformat": 4,
 "nbformat_minor": 2
}
