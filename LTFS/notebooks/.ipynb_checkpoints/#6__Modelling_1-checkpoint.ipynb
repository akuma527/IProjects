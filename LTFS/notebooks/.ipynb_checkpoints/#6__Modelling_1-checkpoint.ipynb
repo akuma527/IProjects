{
 "cells": [
  {
   "cell_type": "code",
   "execution_count": 1,
   "metadata": {},
   "outputs": [],
   "source": [
    "import pandas as pd \n",
    "import numpy as np \n",
    "import matplotlib.pyplot as plt\n",
    "import seaborn as sns \n",
    "%matplotlib inline"
   ]
  },
  {
   "cell_type": "code",
   "execution_count": 59,
   "metadata": {},
   "outputs": [],
   "source": [
    "train = pd.read_csv('../data/v3/training_seg2.csv')\n",
    "test = pd.read_csv('../data/v3/test_seg2.csv')"
   ]
  },
  {
   "cell_type": "code",
   "execution_count": 60,
   "metadata": {},
   "outputs": [
    {
     "data": {
      "text/plain": [
       "((12474, 14), (93, 14))"
      ]
     },
     "execution_count": 60,
     "metadata": {},
     "output_type": "execute_result"
    }
   ],
   "source": [
    "train.shape, test.shape"
   ]
  },
  {
   "cell_type": "code",
   "execution_count": 61,
   "metadata": {},
   "outputs": [
    {
     "data": {
      "text/html": [
       "<div>\n",
       "<style scoped>\n",
       "    .dataframe tbody tr th:only-of-type {\n",
       "        vertical-align: middle;\n",
       "    }\n",
       "\n",
       "    .dataframe tbody tr th {\n",
       "        vertical-align: top;\n",
       "    }\n",
       "\n",
       "    .dataframe thead th {\n",
       "        text-align: right;\n",
       "    }\n",
       "</style>\n",
       "<table border=\"1\" class=\"dataframe\">\n",
       "  <thead>\n",
       "    <tr style=\"text-align: right;\">\n",
       "      <th></th>\n",
       "      <th>application_date</th>\n",
       "      <th>segment</th>\n",
       "      <th>case_count</th>\n",
       "      <th>day</th>\n",
       "      <th>year</th>\n",
       "      <th>month</th>\n",
       "      <th>Holiday</th>\n",
       "      <th>Type</th>\n",
       "      <th>cos_day</th>\n",
       "      <th>sin_day</th>\n",
       "      <th>cos_mon</th>\n",
       "      <th>sin_mon</th>\n",
       "      <th>day_of_week</th>\n",
       "      <th>week_num</th>\n",
       "    </tr>\n",
       "  </thead>\n",
       "  <tbody>\n",
       "    <tr>\n",
       "      <th>0</th>\n",
       "      <td>2017-04-01</td>\n",
       "      <td>2</td>\n",
       "      <td>0.0</td>\n",
       "      <td>1</td>\n",
       "      <td>2017</td>\n",
       "      <td>4</td>\n",
       "      <td>NaN</td>\n",
       "      <td>NaN</td>\n",
       "      <td>0.978148</td>\n",
       "      <td>0.207912</td>\n",
       "      <td>-0.5</td>\n",
       "      <td>0.866025</td>\n",
       "      <td>5</td>\n",
       "      <td>13</td>\n",
       "    </tr>\n",
       "    <tr>\n",
       "      <th>1</th>\n",
       "      <td>2017-04-02</td>\n",
       "      <td>2</td>\n",
       "      <td>0.0</td>\n",
       "      <td>2</td>\n",
       "      <td>2017</td>\n",
       "      <td>4</td>\n",
       "      <td>NaN</td>\n",
       "      <td>NaN</td>\n",
       "      <td>0.913545</td>\n",
       "      <td>0.406737</td>\n",
       "      <td>-0.5</td>\n",
       "      <td>0.866025</td>\n",
       "      <td>6</td>\n",
       "      <td>13</td>\n",
       "    </tr>\n",
       "    <tr>\n",
       "      <th>2</th>\n",
       "      <td>2017-04-03</td>\n",
       "      <td>2</td>\n",
       "      <td>0.0</td>\n",
       "      <td>3</td>\n",
       "      <td>2017</td>\n",
       "      <td>4</td>\n",
       "      <td>NaN</td>\n",
       "      <td>NaN</td>\n",
       "      <td>0.809017</td>\n",
       "      <td>0.587785</td>\n",
       "      <td>-0.5</td>\n",
       "      <td>0.866025</td>\n",
       "      <td>0</td>\n",
       "      <td>14</td>\n",
       "    </tr>\n",
       "    <tr>\n",
       "      <th>3</th>\n",
       "      <td>2017-04-04</td>\n",
       "      <td>2</td>\n",
       "      <td>0.0</td>\n",
       "      <td>4</td>\n",
       "      <td>2017</td>\n",
       "      <td>4</td>\n",
       "      <td>Rama Navami</td>\n",
       "      <td>G</td>\n",
       "      <td>0.669131</td>\n",
       "      <td>0.743145</td>\n",
       "      <td>-0.5</td>\n",
       "      <td>0.866025</td>\n",
       "      <td>1</td>\n",
       "      <td>14</td>\n",
       "    </tr>\n",
       "    <tr>\n",
       "      <th>4</th>\n",
       "      <td>2017-04-05</td>\n",
       "      <td>2</td>\n",
       "      <td>0.0</td>\n",
       "      <td>5</td>\n",
       "      <td>2017</td>\n",
       "      <td>4</td>\n",
       "      <td>NaN</td>\n",
       "      <td>NaN</td>\n",
       "      <td>0.500000</td>\n",
       "      <td>0.866025</td>\n",
       "      <td>-0.5</td>\n",
       "      <td>0.866025</td>\n",
       "      <td>2</td>\n",
       "      <td>14</td>\n",
       "    </tr>\n",
       "  </tbody>\n",
       "</table>\n",
       "</div>"
      ],
      "text/plain": [
       "  application_date  segment  case_count  day  year  month      Holiday Type  \\\n",
       "0       2017-04-01        2         0.0    1  2017      4          NaN  NaN   \n",
       "1       2017-04-02        2         0.0    2  2017      4          NaN  NaN   \n",
       "2       2017-04-03        2         0.0    3  2017      4          NaN  NaN   \n",
       "3       2017-04-04        2         0.0    4  2017      4  Rama Navami    G   \n",
       "4       2017-04-05        2         0.0    5  2017      4          NaN  NaN   \n",
       "\n",
       "    cos_day   sin_day  cos_mon   sin_mon  day_of_week  week_num  \n",
       "0  0.978148  0.207912     -0.5  0.866025            5        13  \n",
       "1  0.913545  0.406737     -0.5  0.866025            6        13  \n",
       "2  0.809017  0.587785     -0.5  0.866025            0        14  \n",
       "3  0.669131  0.743145     -0.5  0.866025            1        14  \n",
       "4  0.500000  0.866025     -0.5  0.866025            2        14  "
      ]
     },
     "execution_count": 61,
     "metadata": {},
     "output_type": "execute_result"
    }
   ],
   "source": [
    "train.head()"
   ]
  },
  {
   "cell_type": "code",
   "execution_count": 64,
   "metadata": {},
   "outputs": [],
   "source": [
    "train['log_case'] = np.log1p(train['case_count'])"
   ]
  },
  {
   "cell_type": "markdown",
   "metadata": {},
   "source": [
    "# Feature Engineering"
   ]
  },
  {
   "cell_type": "code",
   "execution_count": 65,
   "metadata": {},
   "outputs": [],
   "source": [
    "a1 = [0] + [i for i in train['log_case'].iloc[:-1].tolist()]\n",
    "a2 = [0] + [0] + [i for i in train['log_case'].iloc[:-2].tolist()]\n",
    "a3 = [0] + [0] + [0] + [i for i in train['log_case'].iloc[:-3].tolist()]\n",
    "a4 = [0] + [0] + [0] + [0] + [i for i in train['log_case'].iloc[:-4].tolist()]"
   ]
  },
  {
   "cell_type": "code",
   "execution_count": 66,
   "metadata": {},
   "outputs": [],
   "source": [
    "train['case_count_prev'] = a1\n",
    "train['case_count_prev_2'] = a2\n",
    "train['case_count_prev_3'] = a3\n",
    "train['case_count_prev_4'] = a4"
   ]
  },
  {
   "cell_type": "markdown",
   "metadata": {},
   "source": [
    "# Modelling"
   ]
  },
  {
   "cell_type": "code",
   "execution_count": 67,
   "metadata": {},
   "outputs": [],
   "source": [
    "train.Type.fillna(value=\"Nope\", inplace=True)\n",
    "test.Type.fillna(value=\"Nope\", inplace=True)"
   ]
  },
  {
   "cell_type": "code",
   "execution_count": 68,
   "metadata": {},
   "outputs": [],
   "source": [
    "from sklearn.preprocessing import LabelEncoder, OneHotEncoder"
   ]
  },
  {
   "cell_type": "code",
   "execution_count": 69,
   "metadata": {},
   "outputs": [],
   "source": [
    "la = LabelEncoder()\n",
    "on = OneHotEncoder()\n",
    "on2 = OneHotEncoder()"
   ]
  },
  {
   "cell_type": "code",
   "execution_count": 70,
   "metadata": {},
   "outputs": [],
   "source": [
    "train['Type_Mat'] = la.fit_transform(train['Type'])"
   ]
  },
  {
   "cell_type": "code",
   "execution_count": 71,
   "metadata": {},
   "outputs": [],
   "source": [
    "type_mat = on.fit_transform(train['Type_Mat'].values.reshape(-1,1))\n",
    "day_mat = on2.fit_transform(train['day_of_week'].values.reshape(-1,1))\n",
    "type_mat = type_mat.todense()\n",
    "day_mat = day_mat.todense()\n",
    "mat = np.append(type_mat, day_mat, axis=1)"
   ]
  },
  {
   "cell_type": "code",
   "execution_count": 72,
   "metadata": {},
   "outputs": [],
   "source": [
    "mat = np.append(mat, train['day'].values.reshape(-1, 1), axis=1)\n",
    "mat = np.append(mat, train['week_num'].values.reshape(-1, 1), axis=1)\n",
    "mat = np.append(mat, train['month'].values.reshape(-1, 1), axis=1)\n",
    "mat = np.append(mat, train['year'].values.reshape(-1, 1), axis=1)\n",
    "mat = np.append(mat, train['sin_mon'].values.reshape(-1, 1), axis=1)\n",
    "mat = np.append(mat, train['cos_mon'].values.reshape(-1, 1), axis=1)\n",
    "mat = np.append(mat, train['sin_day'].values.reshape(-1, 1), axis=1)\n",
    "mat = np.append(mat, train['cos_day'].values.reshape(-1, 1), axis=1)\n",
    "mat = np.append(mat, np.log1p(train['case_count_prev'].values.reshape(-1, 1)), axis=1)\n",
    "mat = np.append(mat, np.log1p(train['case_count_prev_2'].values.reshape(-1, 1)), axis=1)\n",
    "mat = np.append(mat, np.log1p(train['case_count_prev_3'].values.reshape(-1, 1)), axis=1)\n",
    "mat = np.append(mat, np.log1p(train['case_count_prev_4'].values.reshape(-1, 1)), axis=1)"
   ]
  },
  {
   "cell_type": "code",
   "execution_count": 73,
   "metadata": {},
   "outputs": [
    {
     "data": {
      "text/plain": [
       "(12474, 26)"
      ]
     },
     "execution_count": 73,
     "metadata": {},
     "output_type": "execute_result"
    }
   ],
   "source": [
    "mat.shape"
   ]
  },
  {
   "cell_type": "code",
   "execution_count": 74,
   "metadata": {},
   "outputs": [],
   "source": [
    "from sklearn.linear_model import LinearRegression, HuberRegressor, Lasso\n",
    "from sklearn.ensemble import RandomForestRegressor, ExtraTreesRegressor\n",
    "from sklearn.model_selection import train_test_split\n",
    "from sklearn.metrics import mean_absolute_error\n",
    "# import lightgbm as lgb"
   ]
  },
  {
   "cell_type": "code",
   "execution_count": 75,
   "metadata": {},
   "outputs": [],
   "source": [
    "X_train, X_test, y_train, y_test = train_test_split(mat,train['log_case'], test_size=0.33, random_state=42)"
   ]
  },
  {
   "cell_type": "code",
   "execution_count": 76,
   "metadata": {},
   "outputs": [],
   "source": [
    "rf = RandomForestRegressor(n_estimators=100)\n",
    "ls = Lasso()\n",
    "hu = HuberRegressor()"
   ]
  },
  {
   "cell_type": "code",
   "execution_count": 77,
   "metadata": {},
   "outputs": [
    {
     "data": {
      "text/plain": [
       "HuberRegressor(alpha=0.0001, epsilon=1.35, fit_intercept=True, max_iter=100,\n",
       "        tol=1e-05, warm_start=False)"
      ]
     },
     "execution_count": 77,
     "metadata": {},
     "output_type": "execute_result"
    }
   ],
   "source": [
    "rf.fit(X_train, y_train)\n",
    "ls.fit(X_train, y_train)\n",
    "hu.fit(X_train, y_train)"
   ]
  },
  {
   "cell_type": "code",
   "execution_count": 78,
   "metadata": {},
   "outputs": [],
   "source": [
    "rf_pred = np.round(np.expm1(rf.predict(X_test)))\n",
    "ls_pred = np.round(np.expm1(ls.predict(X_test)))\n",
    "et_pred = np.round(np.expm1(hu.predict(X_test)))"
   ]
  },
  {
   "cell_type": "code",
   "execution_count": 79,
   "metadata": {},
   "outputs": [
    {
     "data": {
      "text/plain": [
       "[3.1624769044434973, 9.022236337197691, 5.697638464044975]"
      ]
     },
     "execution_count": 79,
     "metadata": {},
     "output_type": "execute_result"
    }
   ],
   "source": [
    "[mean_absolute_error(np.expm1(y_test), rf_pred) * (100/len(y_test)), \n",
    "mean_absolute_error(np.expm1(y_test), ls_pred) * (100/len(y_test)),\n",
    "mean_absolute_error(np.expm1(y_test), et_pred) * (100/len(y_test))]"
   ]
  },
  {
   "cell_type": "code",
   "execution_count": 80,
   "metadata": {},
   "outputs": [],
   "source": [
    "xtest = train.iloc[y_test.index].reset_index(drop=True)\n",
    "# xtest['true'] = np.expm1(y_test.values)\n",
    "xtest['pred_rf'] = rf_pred\n",
    "xtest['pred_ls'] = ls_pred\n",
    "xtest['pred_hu'] = et_pred"
   ]
  },
  {
   "cell_type": "code",
   "execution_count": 81,
   "metadata": {},
   "outputs": [
    {
     "data": {
      "text/html": [
       "<div>\n",
       "<style scoped>\n",
       "    .dataframe tbody tr th:only-of-type {\n",
       "        vertical-align: middle;\n",
       "    }\n",
       "\n",
       "    .dataframe tbody tr th {\n",
       "        vertical-align: top;\n",
       "    }\n",
       "\n",
       "    .dataframe thead th {\n",
       "        text-align: right;\n",
       "    }\n",
       "</style>\n",
       "<table border=\"1\" class=\"dataframe\">\n",
       "  <thead>\n",
       "    <tr style=\"text-align: right;\">\n",
       "      <th></th>\n",
       "      <th>case_count</th>\n",
       "      <th>case_count_prev</th>\n",
       "      <th>case_count_prev_2</th>\n",
       "      <th>case_count_prev_3</th>\n",
       "      <th>case_count_prev_4</th>\n",
       "      <th>pred_rf</th>\n",
       "      <th>pred_ls</th>\n",
       "      <th>pred_hu</th>\n",
       "    </tr>\n",
       "  </thead>\n",
       "  <tbody>\n",
       "    <tr>\n",
       "      <th>0</th>\n",
       "      <td>297.0</td>\n",
       "      <td>5.932245</td>\n",
       "      <td>5.455321</td>\n",
       "      <td>6.408529</td>\n",
       "      <td>6.371612</td>\n",
       "      <td>282.0</td>\n",
       "      <td>209.0</td>\n",
       "      <td>318.0</td>\n",
       "    </tr>\n",
       "    <tr>\n",
       "      <th>1</th>\n",
       "      <td>0.0</td>\n",
       "      <td>0.000000</td>\n",
       "      <td>0.000000</td>\n",
       "      <td>0.000000</td>\n",
       "      <td>0.000000</td>\n",
       "      <td>0.0</td>\n",
       "      <td>8.0</td>\n",
       "      <td>0.0</td>\n",
       "    </tr>\n",
       "    <tr>\n",
       "      <th>2</th>\n",
       "      <td>186.0</td>\n",
       "      <td>5.247024</td>\n",
       "      <td>4.595120</td>\n",
       "      <td>3.091042</td>\n",
       "      <td>4.330733</td>\n",
       "      <td>240.0</td>\n",
       "      <td>176.0</td>\n",
       "      <td>187.0</td>\n",
       "    </tr>\n",
       "    <tr>\n",
       "      <th>3</th>\n",
       "      <td>623.0</td>\n",
       "      <td>6.403574</td>\n",
       "      <td>6.165418</td>\n",
       "      <td>6.507278</td>\n",
       "      <td>6.563856</td>\n",
       "      <td>614.0</td>\n",
       "      <td>233.0</td>\n",
       "      <td>828.0</td>\n",
       "    </tr>\n",
       "    <tr>\n",
       "      <th>4</th>\n",
       "      <td>1530.0</td>\n",
       "      <td>7.108244</td>\n",
       "      <td>7.293698</td>\n",
       "      <td>7.109062</td>\n",
       "      <td>7.071573</td>\n",
       "      <td>1314.0</td>\n",
       "      <td>270.0</td>\n",
       "      <td>768.0</td>\n",
       "    </tr>\n",
       "    <tr>\n",
       "      <th>...</th>\n",
       "      <td>...</td>\n",
       "      <td>...</td>\n",
       "      <td>...</td>\n",
       "      <td>...</td>\n",
       "      <td>...</td>\n",
       "      <td>...</td>\n",
       "      <td>...</td>\n",
       "      <td>...</td>\n",
       "    </tr>\n",
       "    <tr>\n",
       "      <th>4112</th>\n",
       "      <td>1397.0</td>\n",
       "      <td>7.209340</td>\n",
       "      <td>5.874931</td>\n",
       "      <td>6.746412</td>\n",
       "      <td>7.089243</td>\n",
       "      <td>1337.0</td>\n",
       "      <td>276.0</td>\n",
       "      <td>904.0</td>\n",
       "    </tr>\n",
       "    <tr>\n",
       "      <th>4113</th>\n",
       "      <td>1144.0</td>\n",
       "      <td>7.351158</td>\n",
       "      <td>7.585789</td>\n",
       "      <td>7.029973</td>\n",
       "      <td>7.112327</td>\n",
       "      <td>1267.0</td>\n",
       "      <td>284.0</td>\n",
       "      <td>730.0</td>\n",
       "    </tr>\n",
       "    <tr>\n",
       "      <th>4114</th>\n",
       "      <td>551.0</td>\n",
       "      <td>6.583409</td>\n",
       "      <td>6.419995</td>\n",
       "      <td>6.313548</td>\n",
       "      <td>6.206576</td>\n",
       "      <td>597.0</td>\n",
       "      <td>242.0</td>\n",
       "      <td>689.0</td>\n",
       "    </tr>\n",
       "    <tr>\n",
       "      <th>4115</th>\n",
       "      <td>680.0</td>\n",
       "      <td>6.306275</td>\n",
       "      <td>5.673323</td>\n",
       "      <td>6.522093</td>\n",
       "      <td>6.738152</td>\n",
       "      <td>567.0</td>\n",
       "      <td>228.0</td>\n",
       "      <td>640.0</td>\n",
       "    </tr>\n",
       "    <tr>\n",
       "      <th>4116</th>\n",
       "      <td>1103.0</td>\n",
       "      <td>7.257708</td>\n",
       "      <td>7.063904</td>\n",
       "      <td>7.166266</td>\n",
       "      <td>7.243513</td>\n",
       "      <td>888.0</td>\n",
       "      <td>279.0</td>\n",
       "      <td>701.0</td>\n",
       "    </tr>\n",
       "  </tbody>\n",
       "</table>\n",
       "<p>4117 rows × 8 columns</p>\n",
       "</div>"
      ],
      "text/plain": [
       "      case_count  case_count_prev  case_count_prev_2  case_count_prev_3  \\\n",
       "0          297.0         5.932245           5.455321           6.408529   \n",
       "1            0.0         0.000000           0.000000           0.000000   \n",
       "2          186.0         5.247024           4.595120           3.091042   \n",
       "3          623.0         6.403574           6.165418           6.507278   \n",
       "4         1530.0         7.108244           7.293698           7.109062   \n",
       "...          ...              ...                ...                ...   \n",
       "4112      1397.0         7.209340           5.874931           6.746412   \n",
       "4113      1144.0         7.351158           7.585789           7.029973   \n",
       "4114       551.0         6.583409           6.419995           6.313548   \n",
       "4115       680.0         6.306275           5.673323           6.522093   \n",
       "4116      1103.0         7.257708           7.063904           7.166266   \n",
       "\n",
       "      case_count_prev_4  pred_rf  pred_ls  pred_hu  \n",
       "0              6.371612    282.0    209.0    318.0  \n",
       "1              0.000000      0.0      8.0      0.0  \n",
       "2              4.330733    240.0    176.0    187.0  \n",
       "3              6.563856    614.0    233.0    828.0  \n",
       "4              7.071573   1314.0    270.0    768.0  \n",
       "...                 ...      ...      ...      ...  \n",
       "4112           7.089243   1337.0    276.0    904.0  \n",
       "4113           7.112327   1267.0    284.0    730.0  \n",
       "4114           6.206576    597.0    242.0    689.0  \n",
       "4115           6.738152    567.0    228.0    640.0  \n",
       "4116           7.243513    888.0    279.0    701.0  \n",
       "\n",
       "[4117 rows x 8 columns]"
      ]
     },
     "execution_count": 81,
     "metadata": {},
     "output_type": "execute_result"
    }
   ],
   "source": [
    "xtest[['case_count', 'case_count_prev', 'case_count_prev_2', 'case_count_prev_3', 'case_count_prev_4', 'pred_rf', 'pred_ls', 'pred_hu']]"
   ]
  },
  {
   "cell_type": "code",
   "execution_count": 82,
   "metadata": {},
   "outputs": [
    {
     "data": {
      "text/html": [
       "<div>\n",
       "<style scoped>\n",
       "    .dataframe tbody tr th:only-of-type {\n",
       "        vertical-align: middle;\n",
       "    }\n",
       "\n",
       "    .dataframe tbody tr th {\n",
       "        vertical-align: top;\n",
       "    }\n",
       "\n",
       "    .dataframe thead th {\n",
       "        text-align: right;\n",
       "    }\n",
       "</style>\n",
       "<table border=\"1\" class=\"dataframe\">\n",
       "  <thead>\n",
       "    <tr style=\"text-align: right;\">\n",
       "      <th></th>\n",
       "      <th>0</th>\n",
       "      <th>1</th>\n",
       "      <th>2</th>\n",
       "      <th>3</th>\n",
       "      <th>4</th>\n",
       "      <th>5</th>\n",
       "      <th>6</th>\n",
       "      <th>7</th>\n",
       "      <th>8</th>\n",
       "      <th>9</th>\n",
       "      <th>...</th>\n",
       "      <th>16</th>\n",
       "      <th>17</th>\n",
       "      <th>18</th>\n",
       "      <th>19</th>\n",
       "      <th>20</th>\n",
       "      <th>21</th>\n",
       "      <th>22</th>\n",
       "      <th>23</th>\n",
       "      <th>24</th>\n",
       "      <th>25</th>\n",
       "    </tr>\n",
       "  </thead>\n",
       "  <tbody>\n",
       "    <tr>\n",
       "      <th>0</th>\n",
       "      <td>0.000006</td>\n",
       "      <td>0.000409</td>\n",
       "      <td>0.000042</td>\n",
       "      <td>0.000724</td>\n",
       "      <td>0.000213</td>\n",
       "      <td>0.000472</td>\n",
       "      <td>0.000256</td>\n",
       "      <td>0.000652</td>\n",
       "      <td>0.000493</td>\n",
       "      <td>0.00035</td>\n",
       "      <td>...</td>\n",
       "      <td>0.001186</td>\n",
       "      <td>0.001479</td>\n",
       "      <td>0.001931</td>\n",
       "      <td>0.001572</td>\n",
       "      <td>0.003274</td>\n",
       "      <td>0.006774</td>\n",
       "      <td>0.937826</td>\n",
       "      <td>0.011849</td>\n",
       "      <td>0.008538</td>\n",
       "      <td>0.006</td>\n",
       "    </tr>\n",
       "  </tbody>\n",
       "</table>\n",
       "<p>1 rows × 26 columns</p>\n",
       "</div>"
      ],
      "text/plain": [
       "         0         1         2         3         4         5         6   \\\n",
       "0  0.000006  0.000409  0.000042  0.000724  0.000213  0.000472  0.000256   \n",
       "\n",
       "         7         8        9   ...        16        17        18        19  \\\n",
       "0  0.000652  0.000493  0.00035  ...  0.001186  0.001479  0.001931  0.001572   \n",
       "\n",
       "         20        21        22        23        24     25  \n",
       "0  0.003274  0.006774  0.937826  0.011849  0.008538  0.006  \n",
       "\n",
       "[1 rows x 26 columns]"
      ]
     },
     "execution_count": 82,
     "metadata": {},
     "output_type": "execute_result"
    }
   ],
   "source": [
    "pd.DataFrame(rf.feature_importances_).T"
   ]
  },
  {
   "cell_type": "markdown",
   "metadata": {},
   "source": [
    "# Testing"
   ]
  },
  {
   "cell_type": "code",
   "execution_count": 83,
   "metadata": {},
   "outputs": [],
   "source": [
    "test['Type_Mat'] = la.fit_transform(test['Type'])\n",
    "type_mat_test = on.transform(test['Type_Mat'].values.reshape(-1,1))\n",
    "day_mat_test = on2.transform(test['day_of_week'].values.reshape(-1,1))\n",
    "type_mat_test = type_mat_test.todense()\n",
    "day_mat_test = day_mat_test.todense()\n",
    "mat_test = np.append(type_mat_test, day_mat_test, axis=1)"
   ]
  },
  {
   "cell_type": "code",
   "execution_count": 84,
   "metadata": {},
   "outputs": [],
   "source": [
    "mat_test = np.append(mat_test, test['day'].values.reshape(-1, 1), axis=1)\n",
    "mat_test = np.append(mat_test, test['week_num'].values.reshape(-1, 1), axis=1)\n",
    "mat_test = np.append(mat_test, test['month'].values.reshape(-1, 1), axis=1)\n",
    "mat_test = np.append(mat_test, test['year'].values.reshape(-1, 1), axis=1)\n",
    "mat_test = np.append(mat_test, test['sin_mon'].values.reshape(-1, 1), axis=1)\n",
    "mat_test = np.append(mat_test, test['cos_mon'].values.reshape(-1, 1), axis=1)\n",
    "mat_test = np.append(mat_test, test['sin_day'].values.reshape(-1, 1), axis=1)\n",
    "mat_test = np.append(mat_test, test['cos_day'].values.reshape(-1, 1), axis=1)"
   ]
  },
  {
   "cell_type": "code",
   "execution_count": 85,
   "metadata": {},
   "outputs": [
    {
     "data": {
      "text/plain": [
       "((12474, 26), (93, 22))"
      ]
     },
     "execution_count": 85,
     "metadata": {},
     "output_type": "execute_result"
    }
   ],
   "source": [
    "mat.shape, mat_test.shape"
   ]
  },
  {
   "cell_type": "code",
   "execution_count": 86,
   "metadata": {
    "scrolled": true
   },
   "outputs": [
    {
     "name": "stdout",
     "output_type": "stream",
     "text": [
      "0\n",
      "1\n",
      "2\n",
      "3\n",
      "4\n",
      "5\n",
      "6\n",
      "7\n",
      "8\n",
      "9\n",
      "10\n",
      "11\n",
      "12\n",
      "13\n",
      "14\n",
      "15\n",
      "16\n",
      "17\n",
      "18\n",
      "19\n",
      "20\n",
      "21\n",
      "22\n",
      "23\n",
      "24\n",
      "25\n",
      "26\n",
      "27\n",
      "28\n",
      "29\n",
      "30\n",
      "31\n",
      "32\n",
      "33\n",
      "34\n",
      "35\n",
      "36\n",
      "37\n",
      "38\n",
      "39\n",
      "40\n",
      "41\n",
      "42\n",
      "43\n",
      "44\n",
      "45\n",
      "46\n",
      "47\n",
      "48\n",
      "49\n",
      "50\n",
      "51\n",
      "52\n",
      "53\n",
      "54\n",
      "55\n",
      "56\n",
      "57\n",
      "58\n",
      "59\n",
      "60\n",
      "61\n",
      "62\n",
      "63\n",
      "64\n",
      "65\n",
      "66\n",
      "67\n",
      "68\n",
      "69\n",
      "70\n",
      "71\n",
      "72\n",
      "73\n",
      "74\n",
      "75\n",
      "76\n",
      "77\n",
      "78\n",
      "79\n",
      "80\n",
      "81\n",
      "82\n",
      "83\n",
      "84\n",
      "85\n",
      "86\n",
      "87\n",
      "88\n",
      "89\n",
      "90\n",
      "91\n",
      "92\n"
     ]
    }
   ],
   "source": [
    "a = []\n",
    "for i in range(len(mat_test)):\n",
    "    print(i)\n",
    "    if i ==0:\n",
    "        k = np.append(np.array(mat_test[i]), np.log1p(np.array([[1480., 1028., 1946., 1984.]])), axis=1)\n",
    "#         a.append(np.round(np.expm1(rf.predict(k))))\n",
    "    if i==1:\n",
    "        k = np.append(np.array(mat_test[i]), np.array([[a[0],0,0,0]]), axis=1)\n",
    "#         a.append(np.round(np.expm1(rf.predict(k))))\n",
    "    if i==2:\n",
    "        k = np.append(np.array(mat_test[i]), np.array([[a[1],a[0],0,0]]), axis=1)\n",
    "#         a.append(np.round(np.expm1(rf.predict(k))))\n",
    "    if i==3:\n",
    "        k = np.append(np.array(mat_test[i]), np.array([[a[2],a[1],a[0],0]]), axis=1)\n",
    "#         a.append(np.round(np.expm1(rf.predict(k))))\n",
    "    if i>3:\n",
    "        k = np.append(np.array(mat_test[i]), np.array([[a[i-1],a[i-2],a[i-3],a[i-4]]]), axis=1)\n",
    "    \n",
    "    a.append(np.round(np.expm1(rf.predict(k)))[0])\n",
    "        \n",
    "    "
   ]
  },
  {
   "cell_type": "code",
   "execution_count": 87,
   "metadata": {
    "scrolled": true
   },
   "outputs": [],
   "source": [
    "test['case_count'] = a"
   ]
  },
  {
   "cell_type": "code",
   "execution_count": 88,
   "metadata": {},
   "outputs": [],
   "source": [
    "test[['id','application_date','segment','case_count']].to_csv('pred_prev_seg_2.csv', index=False)"
   ]
  },
  {
   "cell_type": "code",
   "execution_count": null,
   "metadata": {},
   "outputs": [],
   "source": []
  }
 ],
 "metadata": {
  "kernelspec": {
   "display_name": "Python 3",
   "language": "python",
   "name": "python3"
  },
  "language_info": {
   "codemirror_mode": {
    "name": "ipython",
    "version": 3
   },
   "file_extension": ".py",
   "mimetype": "text/x-python",
   "name": "python",
   "nbconvert_exporter": "python",
   "pygments_lexer": "ipython3",
   "version": "3.6.5"
  }
 },
 "nbformat": 4,
 "nbformat_minor": 2
}
