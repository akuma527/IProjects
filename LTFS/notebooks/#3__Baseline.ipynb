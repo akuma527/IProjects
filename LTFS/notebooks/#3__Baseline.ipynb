{
 "cells": [
  {
   "cell_type": "code",
   "execution_count": 1,
   "metadata": {
    "ExecuteTime": {
     "end_time": "2020-01-18T09:10:20.998953Z",
     "start_time": "2020-01-18T09:10:20.332446Z"
    }
   },
   "outputs": [],
   "source": [
    "import pandas as pd \n",
    "import numpy as np"
   ]
  },
  {
   "cell_type": "code",
   "execution_count": 2,
   "metadata": {
    "ExecuteTime": {
     "end_time": "2020-01-18T09:10:47.459125Z",
     "start_time": "2020-01-18T09:10:47.245446Z"
    }
   },
   "outputs": [],
   "source": [
    "train = pd.read_csv('data/v2/training_v2.csv')\n",
    "test = pd.read_csv('data/v2/test_v2.csv')"
   ]
  },
  {
   "cell_type": "code",
   "execution_count": 8,
   "metadata": {
    "ExecuteTime": {
     "end_time": "2020-01-18T09:20:41.728284Z",
     "start_time": "2020-01-18T09:20:41.718284Z"
    }
   },
   "outputs": [],
   "source": [
    "train.Type.fillna(value=\"Nope\", inplace=True)\n",
    "test.Type.fillna(value=\"Nope\", inplace=True)"
   ]
  },
  {
   "cell_type": "code",
   "execution_count": 9,
   "metadata": {
    "ExecuteTime": {
     "end_time": "2020-01-18T09:20:42.619953Z",
     "start_time": "2020-01-18T09:20:42.602003Z"
    }
   },
   "outputs": [
    {
     "data": {
      "text/html": [
       "<div>\n",
       "<style scoped>\n",
       "    .dataframe tbody tr th:only-of-type {\n",
       "        vertical-align: middle;\n",
       "    }\n",
       "\n",
       "    .dataframe tbody tr th {\n",
       "        vertical-align: top;\n",
       "    }\n",
       "\n",
       "    .dataframe thead th {\n",
       "        text-align: right;\n",
       "    }\n",
       "</style>\n",
       "<table border=\"1\" class=\"dataframe\">\n",
       "  <thead>\n",
       "    <tr style=\"text-align: right;\">\n",
       "      <th></th>\n",
       "      <th>application_date</th>\n",
       "      <th>segment</th>\n",
       "      <th>case_count</th>\n",
       "      <th>day</th>\n",
       "      <th>year</th>\n",
       "      <th>month</th>\n",
       "      <th>Holiday</th>\n",
       "      <th>Type</th>\n",
       "      <th>cos_day</th>\n",
       "      <th>sin_day</th>\n",
       "      <th>cos_mon</th>\n",
       "      <th>sin_mon</th>\n",
       "    </tr>\n",
       "  </thead>\n",
       "  <tbody>\n",
       "    <tr>\n",
       "      <th>0</th>\n",
       "      <td>2017-04-01</td>\n",
       "      <td>1</td>\n",
       "      <td>40.0</td>\n",
       "      <td>1</td>\n",
       "      <td>2017</td>\n",
       "      <td>4</td>\n",
       "      <td>NaN</td>\n",
       "      <td>Nope</td>\n",
       "      <td>0.978148</td>\n",
       "      <td>0.207912</td>\n",
       "      <td>-0.5</td>\n",
       "      <td>0.866025</td>\n",
       "    </tr>\n",
       "    <tr>\n",
       "      <th>1</th>\n",
       "      <td>2017-04-03</td>\n",
       "      <td>1</td>\n",
       "      <td>5.0</td>\n",
       "      <td>3</td>\n",
       "      <td>2017</td>\n",
       "      <td>4</td>\n",
       "      <td>NaN</td>\n",
       "      <td>Nope</td>\n",
       "      <td>0.809017</td>\n",
       "      <td>0.587785</td>\n",
       "      <td>-0.5</td>\n",
       "      <td>0.866025</td>\n",
       "    </tr>\n",
       "    <tr>\n",
       "      <th>2</th>\n",
       "      <td>2017-04-04</td>\n",
       "      <td>1</td>\n",
       "      <td>4.0</td>\n",
       "      <td>4</td>\n",
       "      <td>2017</td>\n",
       "      <td>4</td>\n",
       "      <td>Rama Navami</td>\n",
       "      <td>G</td>\n",
       "      <td>0.669131</td>\n",
       "      <td>0.743145</td>\n",
       "      <td>-0.5</td>\n",
       "      <td>0.866025</td>\n",
       "    </tr>\n",
       "    <tr>\n",
       "      <th>3</th>\n",
       "      <td>2017-04-05</td>\n",
       "      <td>1</td>\n",
       "      <td>113.0</td>\n",
       "      <td>5</td>\n",
       "      <td>2017</td>\n",
       "      <td>4</td>\n",
       "      <td>NaN</td>\n",
       "      <td>Nope</td>\n",
       "      <td>0.500000</td>\n",
       "      <td>0.866025</td>\n",
       "      <td>-0.5</td>\n",
       "      <td>0.866025</td>\n",
       "    </tr>\n",
       "    <tr>\n",
       "      <th>4</th>\n",
       "      <td>2017-04-07</td>\n",
       "      <td>1</td>\n",
       "      <td>76.0</td>\n",
       "      <td>7</td>\n",
       "      <td>2017</td>\n",
       "      <td>4</td>\n",
       "      <td>NaN</td>\n",
       "      <td>Nope</td>\n",
       "      <td>0.104528</td>\n",
       "      <td>0.994522</td>\n",
       "      <td>-0.5</td>\n",
       "      <td>0.866025</td>\n",
       "    </tr>\n",
       "  </tbody>\n",
       "</table>\n",
       "</div>"
      ],
      "text/plain": [
       "  application_date  segment  case_count  day  year  month      Holiday  Type  \\\n",
       "0       2017-04-01        1        40.0    1  2017      4          NaN  Nope   \n",
       "1       2017-04-03        1         5.0    3  2017      4          NaN  Nope   \n",
       "2       2017-04-04        1         4.0    4  2017      4  Rama Navami     G   \n",
       "3       2017-04-05        1       113.0    5  2017      4          NaN  Nope   \n",
       "4       2017-04-07        1        76.0    7  2017      4          NaN  Nope   \n",
       "\n",
       "    cos_day   sin_day  cos_mon   sin_mon  \n",
       "0  0.978148  0.207912     -0.5  0.866025  \n",
       "1  0.809017  0.587785     -0.5  0.866025  \n",
       "2  0.669131  0.743145     -0.5  0.866025  \n",
       "3  0.500000  0.866025     -0.5  0.866025  \n",
       "4  0.104528  0.994522     -0.5  0.866025  "
      ]
     },
     "execution_count": 9,
     "metadata": {},
     "output_type": "execute_result"
    }
   ],
   "source": [
    "train.head()"
   ]
  },
  {
   "cell_type": "code",
   "execution_count": 11,
   "metadata": {
    "ExecuteTime": {
     "end_time": "2020-01-18T09:21:04.120923Z",
     "start_time": "2020-01-18T09:21:04.097984Z"
    }
   },
   "outputs": [
    {
     "data": {
      "text/html": [
       "<div>\n",
       "<style scoped>\n",
       "    .dataframe tbody tr th:only-of-type {\n",
       "        vertical-align: middle;\n",
       "    }\n",
       "\n",
       "    .dataframe tbody tr th {\n",
       "        vertical-align: top;\n",
       "    }\n",
       "\n",
       "    .dataframe thead th {\n",
       "        text-align: right;\n",
       "    }\n",
       "</style>\n",
       "<table border=\"1\" class=\"dataframe\">\n",
       "  <thead>\n",
       "    <tr style=\"text-align: right;\">\n",
       "      <th></th>\n",
       "      <th>id</th>\n",
       "      <th>application_date</th>\n",
       "      <th>segment</th>\n",
       "      <th>day</th>\n",
       "      <th>year</th>\n",
       "      <th>month</th>\n",
       "      <th>Holiday</th>\n",
       "      <th>Type</th>\n",
       "      <th>cos_mon</th>\n",
       "      <th>sin_mon</th>\n",
       "      <th>cos_day</th>\n",
       "      <th>sin_day</th>\n",
       "    </tr>\n",
       "  </thead>\n",
       "  <tbody>\n",
       "    <tr>\n",
       "      <th>0</th>\n",
       "      <td>1</td>\n",
       "      <td>2019-07-06</td>\n",
       "      <td>1</td>\n",
       "      <td>6</td>\n",
       "      <td>2019</td>\n",
       "      <td>7</td>\n",
       "      <td>NaN</td>\n",
       "      <td>Nope</td>\n",
       "      <td>-0.866025</td>\n",
       "      <td>-0.5</td>\n",
       "      <td>0.347305</td>\n",
       "      <td>0.937752</td>\n",
       "    </tr>\n",
       "    <tr>\n",
       "      <th>1</th>\n",
       "      <td>2</td>\n",
       "      <td>2019-07-07</td>\n",
       "      <td>1</td>\n",
       "      <td>7</td>\n",
       "      <td>2019</td>\n",
       "      <td>7</td>\n",
       "      <td>NaN</td>\n",
       "      <td>Nope</td>\n",
       "      <td>-0.866025</td>\n",
       "      <td>-0.5</td>\n",
       "      <td>0.151428</td>\n",
       "      <td>0.988468</td>\n",
       "    </tr>\n",
       "    <tr>\n",
       "      <th>2</th>\n",
       "      <td>3</td>\n",
       "      <td>2019-07-08</td>\n",
       "      <td>1</td>\n",
       "      <td>8</td>\n",
       "      <td>2019</td>\n",
       "      <td>7</td>\n",
       "      <td>NaN</td>\n",
       "      <td>Nope</td>\n",
       "      <td>-0.866025</td>\n",
       "      <td>-0.5</td>\n",
       "      <td>-0.050649</td>\n",
       "      <td>0.998717</td>\n",
       "    </tr>\n",
       "    <tr>\n",
       "      <th>3</th>\n",
       "      <td>4</td>\n",
       "      <td>2019-07-09</td>\n",
       "      <td>1</td>\n",
       "      <td>9</td>\n",
       "      <td>2019</td>\n",
       "      <td>7</td>\n",
       "      <td>NaN</td>\n",
       "      <td>Nope</td>\n",
       "      <td>-0.866025</td>\n",
       "      <td>-0.5</td>\n",
       "      <td>-0.250653</td>\n",
       "      <td>0.968077</td>\n",
       "    </tr>\n",
       "    <tr>\n",
       "      <th>4</th>\n",
       "      <td>5</td>\n",
       "      <td>2019-07-10</td>\n",
       "      <td>1</td>\n",
       "      <td>10</td>\n",
       "      <td>2019</td>\n",
       "      <td>7</td>\n",
       "      <td>NaN</td>\n",
       "      <td>Nope</td>\n",
       "      <td>-0.866025</td>\n",
       "      <td>-0.5</td>\n",
       "      <td>-0.440394</td>\n",
       "      <td>0.897805</td>\n",
       "    </tr>\n",
       "  </tbody>\n",
       "</table>\n",
       "</div>"
      ],
      "text/plain": [
       "   id application_date  segment  day  year  month Holiday  Type   cos_mon  \\\n",
       "0   1       2019-07-06        1    6  2019      7     NaN  Nope -0.866025   \n",
       "1   2       2019-07-07        1    7  2019      7     NaN  Nope -0.866025   \n",
       "2   3       2019-07-08        1    8  2019      7     NaN  Nope -0.866025   \n",
       "3   4       2019-07-09        1    9  2019      7     NaN  Nope -0.866025   \n",
       "4   5       2019-07-10        1   10  2019      7     NaN  Nope -0.866025   \n",
       "\n",
       "   sin_mon   cos_day   sin_day  \n",
       "0     -0.5  0.347305  0.937752  \n",
       "1     -0.5  0.151428  0.988468  \n",
       "2     -0.5 -0.050649  0.998717  \n",
       "3     -0.5 -0.250653  0.968077  \n",
       "4     -0.5 -0.440394  0.897805  "
      ]
     },
     "execution_count": 11,
     "metadata": {},
     "output_type": "execute_result"
    }
   ],
   "source": [
    "test.head()"
   ]
  },
  {
   "cell_type": "markdown",
   "metadata": {},
   "source": [
    "# Encoding Type of Holiday"
   ]
  },
  {
   "cell_type": "code",
   "execution_count": 14,
   "metadata": {
    "ExecuteTime": {
     "end_time": "2020-01-18T09:22:32.598722Z",
     "start_time": "2020-01-18T09:22:32.595729Z"
    }
   },
   "outputs": [],
   "source": [
    "from sklearn.preprocessing import OneHotEncoder"
   ]
  },
  {
   "cell_type": "code",
   "execution_count": 15,
   "metadata": {
    "ExecuteTime": {
     "end_time": "2020-01-18T09:22:41.994408Z",
     "start_time": "2020-01-18T09:22:41.990416Z"
    }
   },
   "outputs": [],
   "source": [
    "on = OneHotEncoder()"
   ]
  },
  {
   "cell_type": "code",
   "execution_count": 18,
   "metadata": {
    "ExecuteTime": {
     "end_time": "2020-01-18T09:23:24.403602Z",
     "start_time": "2020-01-18T09:23:24.378666Z"
    }
   },
   "outputs": [],
   "source": [
    "type_mat = on.fit_transform(train['Type'].values.reshape(-1,1))"
   ]
  },
  {
   "cell_type": "code",
   "execution_count": 29,
   "metadata": {
    "ExecuteTime": {
     "end_time": "2020-01-18T09:25:53.262037Z",
     "start_time": "2020-01-18T09:25:53.254033Z"
    }
   },
   "outputs": [],
   "source": [
    "mat = type_mat.todense()"
   ]
  },
  {
   "cell_type": "code",
   "execution_count": 30,
   "metadata": {
    "ExecuteTime": {
     "end_time": "2020-01-18T09:25:54.461915Z",
     "start_time": "2020-01-18T09:25:54.455892Z"
    }
   },
   "outputs": [
    {
     "data": {
      "text/plain": [
       "(82398, 7)"
      ]
     },
     "execution_count": 30,
     "metadata": {},
     "output_type": "execute_result"
    }
   ],
   "source": [
    "mat.shape"
   ]
  },
  {
   "cell_type": "code",
   "execution_count": 31,
   "metadata": {
    "ExecuteTime": {
     "end_time": "2020-01-18T09:25:55.215860Z",
     "start_time": "2020-01-18T09:25:55.176684Z"
    }
   },
   "outputs": [],
   "source": [
    "mat = np.append(mat, train['segment'].values.reshape(-1, 1), axis=1)\n",
    "mat = np.append(mat, train['cos_day'].values.reshape(-1, 1), axis=1)\n",
    "mat = np.append(mat, train['sin_day'].values.reshape(-1, 1), axis=1)\n",
    "mat = np.append(mat, train['cos_mon'].values.reshape(-1, 1), axis=1)\n",
    "mat = np.append(mat, train['sin_mon'].values.reshape(-1, 1), axis=1)"
   ]
  },
  {
   "cell_type": "code",
   "execution_count": 32,
   "metadata": {
    "ExecuteTime": {
     "end_time": "2020-01-18T09:25:58.611184Z",
     "start_time": "2020-01-18T09:25:58.605174Z"
    }
   },
   "outputs": [
    {
     "data": {
      "text/plain": [
       "(82398, 12)"
      ]
     },
     "execution_count": 32,
     "metadata": {},
     "output_type": "execute_result"
    }
   ],
   "source": [
    "mat.shape"
   ]
  },
  {
   "cell_type": "code",
   "execution_count": 39,
   "metadata": {
    "ExecuteTime": {
     "end_time": "2020-01-18T09:29:45.728509Z",
     "start_time": "2020-01-18T09:29:45.707561Z"
    }
   },
   "outputs": [
    {
     "data": {
      "text/html": [
       "<div>\n",
       "<style scoped>\n",
       "    .dataframe tbody tr th:only-of-type {\n",
       "        vertical-align: middle;\n",
       "    }\n",
       "\n",
       "    .dataframe tbody tr th {\n",
       "        vertical-align: top;\n",
       "    }\n",
       "\n",
       "    .dataframe thead th {\n",
       "        text-align: right;\n",
       "    }\n",
       "</style>\n",
       "<table border=\"1\" class=\"dataframe\">\n",
       "  <thead>\n",
       "    <tr style=\"text-align: right;\">\n",
       "      <th></th>\n",
       "      <th>id</th>\n",
       "      <th>application_date</th>\n",
       "      <th>segment</th>\n",
       "      <th>day</th>\n",
       "      <th>year</th>\n",
       "      <th>month</th>\n",
       "      <th>Holiday</th>\n",
       "      <th>Type</th>\n",
       "      <th>cos_mon</th>\n",
       "      <th>sin_mon</th>\n",
       "      <th>cos_day</th>\n",
       "      <th>sin_day</th>\n",
       "    </tr>\n",
       "  </thead>\n",
       "  <tbody>\n",
       "    <tr>\n",
       "      <th>0</th>\n",
       "      <td>1</td>\n",
       "      <td>2019-07-06</td>\n",
       "      <td>1</td>\n",
       "      <td>6</td>\n",
       "      <td>2019</td>\n",
       "      <td>7</td>\n",
       "      <td>NaN</td>\n",
       "      <td>Nope</td>\n",
       "      <td>-0.866025</td>\n",
       "      <td>-0.5</td>\n",
       "      <td>0.347305</td>\n",
       "      <td>0.937752</td>\n",
       "    </tr>\n",
       "    <tr>\n",
       "      <th>1</th>\n",
       "      <td>2</td>\n",
       "      <td>2019-07-07</td>\n",
       "      <td>1</td>\n",
       "      <td>7</td>\n",
       "      <td>2019</td>\n",
       "      <td>7</td>\n",
       "      <td>NaN</td>\n",
       "      <td>Nope</td>\n",
       "      <td>-0.866025</td>\n",
       "      <td>-0.5</td>\n",
       "      <td>0.151428</td>\n",
       "      <td>0.988468</td>\n",
       "    </tr>\n",
       "    <tr>\n",
       "      <th>2</th>\n",
       "      <td>3</td>\n",
       "      <td>2019-07-08</td>\n",
       "      <td>1</td>\n",
       "      <td>8</td>\n",
       "      <td>2019</td>\n",
       "      <td>7</td>\n",
       "      <td>NaN</td>\n",
       "      <td>Nope</td>\n",
       "      <td>-0.866025</td>\n",
       "      <td>-0.5</td>\n",
       "      <td>-0.050649</td>\n",
       "      <td>0.998717</td>\n",
       "    </tr>\n",
       "    <tr>\n",
       "      <th>3</th>\n",
       "      <td>4</td>\n",
       "      <td>2019-07-09</td>\n",
       "      <td>1</td>\n",
       "      <td>9</td>\n",
       "      <td>2019</td>\n",
       "      <td>7</td>\n",
       "      <td>NaN</td>\n",
       "      <td>Nope</td>\n",
       "      <td>-0.866025</td>\n",
       "      <td>-0.5</td>\n",
       "      <td>-0.250653</td>\n",
       "      <td>0.968077</td>\n",
       "    </tr>\n",
       "    <tr>\n",
       "      <th>4</th>\n",
       "      <td>5</td>\n",
       "      <td>2019-07-10</td>\n",
       "      <td>1</td>\n",
       "      <td>10</td>\n",
       "      <td>2019</td>\n",
       "      <td>7</td>\n",
       "      <td>NaN</td>\n",
       "      <td>Nope</td>\n",
       "      <td>-0.866025</td>\n",
       "      <td>-0.5</td>\n",
       "      <td>-0.440394</td>\n",
       "      <td>0.897805</td>\n",
       "    </tr>\n",
       "  </tbody>\n",
       "</table>\n",
       "</div>"
      ],
      "text/plain": [
       "   id application_date  segment  day  year  month Holiday  Type   cos_mon  \\\n",
       "0   1       2019-07-06        1    6  2019      7     NaN  Nope -0.866025   \n",
       "1   2       2019-07-07        1    7  2019      7     NaN  Nope -0.866025   \n",
       "2   3       2019-07-08        1    8  2019      7     NaN  Nope -0.866025   \n",
       "3   4       2019-07-09        1    9  2019      7     NaN  Nope -0.866025   \n",
       "4   5       2019-07-10        1   10  2019      7     NaN  Nope -0.866025   \n",
       "\n",
       "   sin_mon   cos_day   sin_day  \n",
       "0     -0.5  0.347305  0.937752  \n",
       "1     -0.5  0.151428  0.988468  \n",
       "2     -0.5 -0.050649  0.998717  \n",
       "3     -0.5 -0.250653  0.968077  \n",
       "4     -0.5 -0.440394  0.897805  "
      ]
     },
     "execution_count": 39,
     "metadata": {},
     "output_type": "execute_result"
    }
   ],
   "source": [
    "test.head()"
   ]
  },
  {
   "cell_type": "code",
   "execution_count": 45,
   "metadata": {
    "ExecuteTime": {
     "end_time": "2020-01-18T09:31:23.848921Z",
     "start_time": "2020-01-18T09:31:23.842937Z"
    }
   },
   "outputs": [],
   "source": [
    "mat_test = on.transform(test['Type'].values.reshape(-1,1))"
   ]
  },
  {
   "cell_type": "code",
   "execution_count": 46,
   "metadata": {
    "ExecuteTime": {
     "end_time": "2020-01-18T09:31:24.435541Z",
     "start_time": "2020-01-18T09:31:24.431578Z"
    }
   },
   "outputs": [],
   "source": [
    "mat_test = mat_test.todense()"
   ]
  },
  {
   "cell_type": "code",
   "execution_count": 47,
   "metadata": {
    "ExecuteTime": {
     "end_time": "2020-01-18T09:31:25.103721Z",
     "start_time": "2020-01-18T09:31:25.097740Z"
    }
   },
   "outputs": [],
   "source": [
    "mat_test = np.append(mat_test, test['segment'].values.reshape(-1, 1), axis=1)\n",
    "mat_test = np.append(mat_test, test['cos_day'].values.reshape(-1, 1), axis=1)\n",
    "mat_test = np.append(mat_test, test['sin_day'].values.reshape(-1, 1), axis=1)\n",
    "mat_test = np.append(mat_test, test['cos_mon'].values.reshape(-1, 1), axis=1)\n",
    "mat_test = np.append(mat_test, test['sin_mon'].values.reshape(-1, 1), axis=1)"
   ]
  },
  {
   "cell_type": "code",
   "execution_count": 48,
   "metadata": {
    "ExecuteTime": {
     "end_time": "2020-01-18T09:31:31.533777Z",
     "start_time": "2020-01-18T09:31:31.528790Z"
    }
   },
   "outputs": [
    {
     "data": {
      "text/plain": [
       "(182, 12)"
      ]
     },
     "execution_count": 48,
     "metadata": {},
     "output_type": "execute_result"
    }
   ],
   "source": [
    "mat_test.shape"
   ]
  },
  {
   "cell_type": "code",
   "execution_count": 81,
   "metadata": {
    "ExecuteTime": {
     "end_time": "2020-01-18T09:53:17.331955Z",
     "start_time": "2020-01-18T09:53:17.326970Z"
    }
   },
   "outputs": [],
   "source": [
    "from sklearn.linear_model import LinearRegression, HuberRegressor, SGDRegressor\n",
    "from sklearn.ensemble import RandomForestRegressor, ExtraTreesRegressor\n",
    "from sklearn.model_selection import train_test_split\n",
    "from sklearn.metrics import mean_absolute_error\n",
    "import lightgbm as lgb"
   ]
  },
  {
   "cell_type": "code",
   "execution_count": 107,
   "metadata": {
    "ExecuteTime": {
     "end_time": "2020-01-18T10:10:48.034316Z",
     "start_time": "2020-01-18T10:10:48.014335Z"
    }
   },
   "outputs": [],
   "source": [
    "X_train, X_test, y_train, y_test = train_test_split(mat, train['case_count'], test_size=0.33, random_state=42)"
   ]
  },
  {
   "cell_type": "code",
   "execution_count": 108,
   "metadata": {
    "ExecuteTime": {
     "end_time": "2020-01-18T10:10:48.928115Z",
     "start_time": "2020-01-18T10:10:48.923128Z"
    }
   },
   "outputs": [],
   "source": [
    "lr = LinearRegression()\n",
    "hu = HuberRegressor()\n",
    "sgd = SGDRegressor()"
   ]
  },
  {
   "cell_type": "code",
   "execution_count": 109,
   "metadata": {
    "ExecuteTime": {
     "end_time": "2020-01-18T10:10:49.094562Z",
     "start_time": "2020-01-18T10:10:49.089608Z"
    }
   },
   "outputs": [],
   "source": [
    "rf = RandomForestRegressor(n_estimators=100)\n",
    "et = ExtraTreesRegressor(n_estimators=100)"
   ]
  },
  {
   "cell_type": "code",
   "execution_count": 110,
   "metadata": {
    "ExecuteTime": {
     "end_time": "2020-01-18T10:11:01.496194Z",
     "start_time": "2020-01-18T10:10:49.695181Z"
    }
   },
   "outputs": [
    {
     "data": {
      "text/plain": [
       "ExtraTreesRegressor(bootstrap=False, criterion='mse', max_depth=None,\n",
       "          max_features='auto', max_leaf_nodes=None,\n",
       "          min_impurity_decrease=0.0, min_impurity_split=None,\n",
       "          min_samples_leaf=1, min_samples_split=2,\n",
       "          min_weight_fraction_leaf=0.0, n_estimators=100, n_jobs=None,\n",
       "          oob_score=False, random_state=None, verbose=0, warm_start=False)"
      ]
     },
     "execution_count": 110,
     "metadata": {},
     "output_type": "execute_result"
    }
   ],
   "source": [
    "rf.fit(X_train, y_train)\n",
    "et.fit(X_train, y_train)"
   ]
  },
  {
   "cell_type": "code",
   "execution_count": 52,
   "metadata": {
    "ExecuteTime": {
     "end_time": "2020-01-18T09:33:50.934212Z",
     "start_time": "2020-01-18T09:33:49.679892Z"
    }
   },
   "outputs": [
    {
     "name": "stderr",
     "output_type": "stream",
     "text": [
      "C:\\Users\\EW\\AppData\\Roaming\\Python\\Python36\\site-packages\\sklearn\\linear_model\\stochastic_gradient.py:166: FutureWarning: max_iter and tol parameters have been added in SGDRegressor in 0.19. If both are left unset, they default to max_iter=5 and tol=None. If tol is not None, max_iter defaults to max_iter=1000. From 0.21, default max_iter will be 1000, and default tol will be 1e-3.\n",
      "  FutureWarning)\n"
     ]
    },
    {
     "data": {
      "text/plain": [
       "SGDRegressor(alpha=0.0001, average=False, early_stopping=False, epsilon=0.1,\n",
       "       eta0=0.01, fit_intercept=True, l1_ratio=0.15,\n",
       "       learning_rate='invscaling', loss='squared_loss', max_iter=None,\n",
       "       n_iter=None, n_iter_no_change=5, penalty='l2', power_t=0.25,\n",
       "       random_state=None, shuffle=True, tol=None, validation_fraction=0.1,\n",
       "       verbose=0, warm_start=False)"
      ]
     },
     "execution_count": 52,
     "metadata": {},
     "output_type": "execute_result"
    }
   ],
   "source": [
    "lr.fit(X_train, y_train)\n",
    "hu.fit(X_train, y_train)\n",
    "sgd.fit(X_train, y_train)"
   ]
  },
  {
   "cell_type": "code",
   "execution_count": 75,
   "metadata": {
    "ExecuteTime": {
     "end_time": "2020-01-18T09:41:22.968471Z",
     "start_time": "2020-01-18T09:41:22.953521Z"
    }
   },
   "outputs": [],
   "source": [
    "lr_pred = np.round(abs(lr.predict(X_test)))\n",
    "hu_pred = np.round(abs(hu.predict(X_test)))\n",
    "sgd_pred = np.round(abs(sgd.predict(X_test)))"
   ]
  },
  {
   "cell_type": "code",
   "execution_count": 113,
   "metadata": {
    "ExecuteTime": {
     "end_time": "2020-01-18T10:12:04.521731Z",
     "start_time": "2020-01-18T10:12:03.731589Z"
    }
   },
   "outputs": [],
   "source": [
    "rf_pred = np.round(abs(rf.predict(X_test)))\n",
    "et_pred = np.round(abs(et.predict(X_test)))"
   ]
  },
  {
   "cell_type": "code",
   "execution_count": 112,
   "metadata": {
    "ExecuteTime": {
     "end_time": "2020-01-18T10:11:46.290394Z",
     "start_time": "2020-01-18T10:11:46.280382Z"
    }
   },
   "outputs": [
    {
     "data": {
      "text/plain": [
       "(122.75519787655709, 89.52239103938133, 124.95192913882234)"
      ]
     },
     "execution_count": 112,
     "metadata": {},
     "output_type": "execute_result"
    }
   ],
   "source": [
    "mean_absolute_error(y_test, lr_pred) * 100/182, mean_absolute_error(y_test, hu_pred) * 100/182, mean_absolute_error(y_test, sgd_pred) * 100/182"
   ]
  },
  {
   "cell_type": "code",
   "execution_count": 114,
   "metadata": {
    "ExecuteTime": {
     "end_time": "2020-01-18T10:12:07.982702Z",
     "start_time": "2020-01-18T10:12:07.974722Z"
    }
   },
   "outputs": [
    {
     "data": {
      "text/plain": [
       "(101.79159432800209, 101.88696820978376)"
      ]
     },
     "execution_count": 114,
     "metadata": {},
     "output_type": "execute_result"
    }
   ],
   "source": [
    "mean_absolute_error(y_test, rf_pred) * 100/182, mean_absolute_error(y_test, et_pred) * 100/182"
   ]
  },
  {
   "cell_type": "code",
   "execution_count": 78,
   "metadata": {
    "ExecuteTime": {
     "end_time": "2020-01-18T09:41:27.667305Z",
     "start_time": "2020-01-18T09:41:27.659328Z"
    }
   },
   "outputs": [
    {
     "data": {
      "text/plain": [
       "124.95192913882234"
      ]
     },
     "execution_count": 78,
     "metadata": {},
     "output_type": "execute_result"
    }
   ],
   "source": []
  },
  {
   "cell_type": "code",
   "execution_count": 115,
   "metadata": {
    "ExecuteTime": {
     "end_time": "2020-01-18T10:12:23.083048Z",
     "start_time": "2020-01-18T10:12:23.069061Z"
    }
   },
   "outputs": [],
   "source": [
    "test_pred = np.round(rf.predict(mat_test))"
   ]
  },
  {
   "cell_type": "code",
   "execution_count": 116,
   "metadata": {
    "ExecuteTime": {
     "end_time": "2020-01-18T10:12:27.208854Z",
     "start_time": "2020-01-18T10:12:27.203866Z"
    }
   },
   "outputs": [],
   "source": [
    "test['case_count'] = test_pred.reshape(-1,1)"
   ]
  },
  {
   "cell_type": "code",
   "execution_count": 117,
   "metadata": {
    "ExecuteTime": {
     "end_time": "2020-01-18T10:12:34.932745Z",
     "start_time": "2020-01-18T10:12:34.918790Z"
    }
   },
   "outputs": [],
   "source": [
    "test[['id','application_date','segment','case_count']].to_csv('pred_baseline_rf.csv', index=False)"
   ]
  },
  {
   "cell_type": "markdown",
   "metadata": {
    "ExecuteTime": {
     "end_time": "2020-01-18T09:53:11.547680Z",
     "start_time": "2020-01-18T09:53:11.226671Z"
    }
   },
   "source": [
    "# LGM"
   ]
  },
  {
   "cell_type": "code",
   "execution_count": 85,
   "metadata": {
    "ExecuteTime": {
     "end_time": "2020-01-18T10:01:08.478046Z",
     "start_time": "2020-01-18T10:01:08.474053Z"
    }
   },
   "outputs": [],
   "source": [
    "median_val = np.median(train['case_count'].values)"
   ]
  },
  {
   "cell_type": "code",
   "execution_count": 89,
   "metadata": {
    "ExecuteTime": {
     "end_time": "2020-01-18T10:05:29.345484Z",
     "start_time": "2020-01-18T10:05:29.339498Z"
    }
   },
   "outputs": [],
   "source": [
    "params = {\n",
    "    'boosting_type': 'gbdt',\n",
    "    'objective': 'regression',\n",
    "    'metric': 'rmsle',\n",
    "    'max_depth': 6, \n",
    "    'learning_rate': 0.1,\n",
    "    'verbose': 0}\n",
    "#     'early_stopping_round': 20}\n",
    "n_estimators = 100"
   ]
  },
  {
   "cell_type": "code",
   "execution_count": 124,
   "metadata": {
    "ExecuteTime": {
     "end_time": "2020-01-18T10:17:35.464788Z",
     "start_time": "2020-01-18T10:17:33.338472Z"
    }
   },
   "outputs": [
    {
     "name": "stdout",
     "output_type": "stream",
     "text": [
      "MAE% = 2.133783523513568\n",
      "MAE% = 2.226129904020018\n",
      "MAE% = 2.161169430293224\n",
      "MAE% = 2.1387945927443752\n",
      "MAE% = 2.3745359280677167\n",
      "Mean MAE% = 2.2068826757277806 +/- 0.09005247661674118\n"
     ]
    }
   ],
   "source": [
    "n_iters = 5\n",
    "preds_buf = []\n",
    "err_buf = []\n",
    "for i in range(n_iters): \n",
    "    x_train, x_valid, y_train, y_valid = train_test_split(np.array(mat), train['case_count'].values.reshape(-1,1).ravel(), test_size=0.1, random_state=i)\n",
    "    d_train = lgb.Dataset(x_train, label=y_train)\n",
    "    d_valid = lgb.Dataset(x_valid, label=y_valid)\n",
    "    watchlist = [d_valid]\n",
    "\n",
    "    model = lgb.train(params, d_train, n_estimators, watchlist, verbose_eval=1)\n",
    "\n",
    "    preds = model.predict(x_valid)\n",
    "#     preds = np.exp(preds)\n",
    "    preds[preds < 0] = median_val\n",
    "    err = mean_absolute_error(y_valid, preds) * 100/len(y_valid)\n",
    "    err_buf.append(err)\n",
    "    print('MAE% = ' + str(err))\n",
    "    \n",
    "    preds = model.predict(np.array(mat_test))\n",
    "#     preds = np.exp(preds)\n",
    "    preds[preds < 0] = median_val\n",
    "    preds_buf.append(preds)\n",
    "\n",
    "print('Mean MAE% = ' + str(np.mean(err_buf)) + ' +/- ' + str(np.std(err_buf)))\n",
    "# Average predictions\n",
    "preds = np.round(np.mean(preds_buf, axis=0))"
   ]
  },
  {
   "cell_type": "code",
   "execution_count": 96,
   "metadata": {
    "ExecuteTime": {
     "end_time": "2020-01-18T10:07:32.083681Z",
     "start_time": "2020-01-18T10:07:32.077696Z"
    }
   },
   "outputs": [
    {
     "data": {
      "text/plain": [
       "82398"
      ]
     },
     "execution_count": 96,
     "metadata": {},
     "output_type": "execute_result"
    }
   ],
   "source": [
    "len(train['case_count'].values.reshape(-1,1).ravel())"
   ]
  },
  {
   "cell_type": "code",
   "execution_count": 121,
   "metadata": {
    "ExecuteTime": {
     "end_time": "2020-01-18T10:16:42.644414Z",
     "start_time": "2020-01-18T10:16:42.638396Z"
    }
   },
   "outputs": [
    {
     "data": {
      "text/plain": [
       "matrix([[ 0.        ,  0.        ,  0.        , ...,  0.93775213,\n",
       "         -0.8660254 , -0.5       ],\n",
       "        [ 0.        ,  0.        ,  0.        , ...,  0.98846832,\n",
       "         -0.8660254 , -0.5       ],\n",
       "        [ 0.        ,  0.        ,  0.        , ...,  0.99871651,\n",
       "         -0.8660254 , -0.5       ],\n",
       "        ...,\n",
       "        [ 0.        ,  0.        ,  0.        , ..., -0.96807712,\n",
       "          0.5       , -0.8660254 ],\n",
       "        [ 0.        ,  0.        ,  0.        , ..., -0.99871651,\n",
       "          0.5       , -0.8660254 ],\n",
       "        [ 0.        ,  0.        ,  0.        , ..., -0.98846832,\n",
       "          0.5       , -0.8660254 ]])"
      ]
     },
     "execution_count": 121,
     "metadata": {},
     "output_type": "execute_result"
    }
   ],
   "source": [
    "mat_test"
   ]
  },
  {
   "cell_type": "code",
   "execution_count": 128,
   "metadata": {
    "ExecuteTime": {
     "end_time": "2020-01-18T10:18:07.683111Z",
     "start_time": "2020-01-18T10:18:07.679119Z"
    }
   },
   "outputs": [],
   "source": [
    "test['case_count_lgb'] = preds"
   ]
  },
  {
   "cell_type": "code",
   "execution_count": 134,
   "metadata": {
    "ExecuteTime": {
     "end_time": "2020-01-18T10:21:33.840482Z",
     "start_time": "2020-01-18T10:21:33.833501Z"
    }
   },
   "outputs": [],
   "source": [
    "test = test.drop_duplicates(subset=['id'])"
   ]
  },
  {
   "cell_type": "code",
   "execution_count": 135,
   "metadata": {
    "ExecuteTime": {
     "end_time": "2020-01-18T10:21:58.600570Z",
     "start_time": "2020-01-18T10:21:58.587578Z"
    }
   },
   "outputs": [],
   "source": [
    "test[['id','application_date','segment','case_count_lgb']].to_csv('pred_baseline_lgb.csv', index=False)"
   ]
  },
  {
   "cell_type": "code",
   "execution_count": null,
   "metadata": {},
   "outputs": [],
   "source": []
  }
 ],
 "metadata": {
  "kernelspec": {
   "display_name": "Python 3",
   "language": "python",
   "name": "python3"
  },
  "language_info": {
   "codemirror_mode": {
    "name": "ipython",
    "version": 3
   },
   "file_extension": ".py",
   "mimetype": "text/x-python",
   "name": "python",
   "nbconvert_exporter": "python",
   "pygments_lexer": "ipython3",
   "version": "3.6.5"
  }
 },
 "nbformat": 4,
 "nbformat_minor": 2
}
