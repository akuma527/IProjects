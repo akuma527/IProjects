{
 "cells": [
  {
   "cell_type": "code",
   "execution_count": 1,
   "metadata": {
    "ExecuteTime": {
     "end_time": "2020-01-20T17:40:19.125809Z",
     "start_time": "2020-01-20T17:39:56.262984Z"
    }
   },
   "outputs": [],
   "source": [
    "import pandas as pd \n",
    "import numpy as np \n",
    "import matplotlib.pyplot as plt\n",
    "import seaborn as sns \n",
    "%matplotlib inline"
   ]
  },
  {
   "cell_type": "code",
   "execution_count": 2,
   "metadata": {
    "ExecuteTime": {
     "end_time": "2020-01-20T18:03:26.786628Z",
     "start_time": "2020-01-20T18:03:26.702443Z"
    }
   },
   "outputs": [],
   "source": [
    "train = pd.read_csv('../data/v3/training_seg1.csv')\n",
    "test = pd.read_csv('../data/v3/test_seg1.csv')"
   ]
  },
  {
   "cell_type": "code",
   "execution_count": 3,
   "metadata": {
    "ExecuteTime": {
     "end_time": "2020-01-20T18:03:26.879638Z",
     "start_time": "2020-01-20T18:03:26.871643Z"
    }
   },
   "outputs": [
    {
     "data": {
      "text/plain": [
       "((62562, 14), (87, 14))"
      ]
     },
     "execution_count": 3,
     "metadata": {},
     "output_type": "execute_result"
    }
   ],
   "source": [
    "train.shape, test.shape"
   ]
  },
  {
   "cell_type": "code",
   "execution_count": 4,
   "metadata": {
    "ExecuteTime": {
     "end_time": "2020-01-20T18:03:27.081948Z",
     "start_time": "2020-01-20T18:03:27.049922Z"
    }
   },
   "outputs": [
    {
     "data": {
      "text/html": [
       "<div>\n",
       "<style scoped>\n",
       "    .dataframe tbody tr th:only-of-type {\n",
       "        vertical-align: middle;\n",
       "    }\n",
       "\n",
       "    .dataframe tbody tr th {\n",
       "        vertical-align: top;\n",
       "    }\n",
       "\n",
       "    .dataframe thead th {\n",
       "        text-align: right;\n",
       "    }\n",
       "</style>\n",
       "<table border=\"1\" class=\"dataframe\">\n",
       "  <thead>\n",
       "    <tr style=\"text-align: right;\">\n",
       "      <th></th>\n",
       "      <th>application_date</th>\n",
       "      <th>segment</th>\n",
       "      <th>case_count</th>\n",
       "      <th>day</th>\n",
       "      <th>year</th>\n",
       "      <th>month</th>\n",
       "      <th>Holiday</th>\n",
       "      <th>Type</th>\n",
       "      <th>cos_day</th>\n",
       "      <th>sin_day</th>\n",
       "      <th>cos_mon</th>\n",
       "      <th>sin_mon</th>\n",
       "      <th>day_of_week</th>\n",
       "      <th>week_num</th>\n",
       "    </tr>\n",
       "  </thead>\n",
       "  <tbody>\n",
       "    <tr>\n",
       "      <th>0</th>\n",
       "      <td>2017-04-01</td>\n",
       "      <td>1</td>\n",
       "      <td>40.0</td>\n",
       "      <td>1</td>\n",
       "      <td>2017</td>\n",
       "      <td>4</td>\n",
       "      <td>NaN</td>\n",
       "      <td>NaN</td>\n",
       "      <td>0.978148</td>\n",
       "      <td>0.207912</td>\n",
       "      <td>-0.5</td>\n",
       "      <td>0.866025</td>\n",
       "      <td>5</td>\n",
       "      <td>13</td>\n",
       "    </tr>\n",
       "    <tr>\n",
       "      <th>1</th>\n",
       "      <td>2017-04-03</td>\n",
       "      <td>1</td>\n",
       "      <td>5.0</td>\n",
       "      <td>3</td>\n",
       "      <td>2017</td>\n",
       "      <td>4</td>\n",
       "      <td>NaN</td>\n",
       "      <td>NaN</td>\n",
       "      <td>0.809017</td>\n",
       "      <td>0.587785</td>\n",
       "      <td>-0.5</td>\n",
       "      <td>0.866025</td>\n",
       "      <td>0</td>\n",
       "      <td>14</td>\n",
       "    </tr>\n",
       "    <tr>\n",
       "      <th>2</th>\n",
       "      <td>2017-04-04</td>\n",
       "      <td>1</td>\n",
       "      <td>4.0</td>\n",
       "      <td>4</td>\n",
       "      <td>2017</td>\n",
       "      <td>4</td>\n",
       "      <td>Rama Navami</td>\n",
       "      <td>G</td>\n",
       "      <td>0.669131</td>\n",
       "      <td>0.743145</td>\n",
       "      <td>-0.5</td>\n",
       "      <td>0.866025</td>\n",
       "      <td>1</td>\n",
       "      <td>14</td>\n",
       "    </tr>\n",
       "    <tr>\n",
       "      <th>3</th>\n",
       "      <td>2017-04-07</td>\n",
       "      <td>1</td>\n",
       "      <td>76.0</td>\n",
       "      <td>7</td>\n",
       "      <td>2017</td>\n",
       "      <td>4</td>\n",
       "      <td>NaN</td>\n",
       "      <td>NaN</td>\n",
       "      <td>0.104528</td>\n",
       "      <td>0.994522</td>\n",
       "      <td>-0.5</td>\n",
       "      <td>0.866025</td>\n",
       "      <td>4</td>\n",
       "      <td>14</td>\n",
       "    </tr>\n",
       "    <tr>\n",
       "      <th>4</th>\n",
       "      <td>2017-04-13</td>\n",
       "      <td>1</td>\n",
       "      <td>81.0</td>\n",
       "      <td>13</td>\n",
       "      <td>2017</td>\n",
       "      <td>4</td>\n",
       "      <td>Maundy Thursday</td>\n",
       "      <td>C</td>\n",
       "      <td>-0.913545</td>\n",
       "      <td>0.406737</td>\n",
       "      <td>-0.5</td>\n",
       "      <td>0.866025</td>\n",
       "      <td>3</td>\n",
       "      <td>15</td>\n",
       "    </tr>\n",
       "  </tbody>\n",
       "</table>\n",
       "</div>"
      ],
      "text/plain": [
       "  application_date  segment  case_count  day  year  month          Holiday  \\\n",
       "0       2017-04-01        1        40.0    1  2017      4              NaN   \n",
       "1       2017-04-03        1         5.0    3  2017      4              NaN   \n",
       "2       2017-04-04        1         4.0    4  2017      4      Rama Navami   \n",
       "3       2017-04-07        1        76.0    7  2017      4              NaN   \n",
       "4       2017-04-13        1        81.0   13  2017      4  Maundy Thursday   \n",
       "\n",
       "  Type   cos_day   sin_day  cos_mon   sin_mon  day_of_week  week_num  \n",
       "0  NaN  0.978148  0.207912     -0.5  0.866025            5        13  \n",
       "1  NaN  0.809017  0.587785     -0.5  0.866025            0        14  \n",
       "2    G  0.669131  0.743145     -0.5  0.866025            1        14  \n",
       "3  NaN  0.104528  0.994522     -0.5  0.866025            4        14  \n",
       "4    C -0.913545  0.406737     -0.5  0.866025            3        15  "
      ]
     },
     "execution_count": 4,
     "metadata": {},
     "output_type": "execute_result"
    }
   ],
   "source": [
    "train.head()"
   ]
  },
  {
   "cell_type": "code",
   "execution_count": 5,
   "metadata": {
    "ExecuteTime": {
     "end_time": "2020-01-20T18:03:27.225857Z",
     "start_time": "2020-01-20T18:03:27.201899Z"
    }
   },
   "outputs": [],
   "source": [
    "train['log_case'] = np.log1p(train['case_count'])"
   ]
  },
  {
   "cell_type": "markdown",
   "metadata": {},
   "source": [
    "# Feature Engineering"
   ]
  },
  {
   "cell_type": "code",
   "execution_count": 6,
   "metadata": {
    "ExecuteTime": {
     "end_time": "2020-01-20T18:03:27.546716Z",
     "start_time": "2020-01-20T18:03:27.526722Z"
    }
   },
   "outputs": [],
   "source": [
    "a1 = [0] + [i for i in train['log_case'].iloc[:-1].tolist()]\n",
    "a2 = [0] + [0] + [i for i in train['log_case'].iloc[:-2].tolist()]\n",
    "a3 = [0] + [0] + [0] + [i for i in train['log_case'].iloc[:-3].tolist()]\n",
    "a4 = [0] + [0] + [0] + [0] + [i for i in train['log_case'].iloc[:-4].tolist()]"
   ]
  },
  {
   "cell_type": "code",
   "execution_count": 7,
   "metadata": {
    "ExecuteTime": {
     "end_time": "2020-01-20T18:03:27.707607Z",
     "start_time": "2020-01-20T18:03:27.691612Z"
    }
   },
   "outputs": [],
   "source": [
    "train['case_count_prev'] = a1\n",
    "train['case_count_prev_2'] = a2\n",
    "train['case_count_prev_3'] = a3\n",
    "train['case_count_prev_4'] = a4"
   ]
  },
  {
   "cell_type": "markdown",
   "metadata": {},
   "source": [
    "# Modelling"
   ]
  },
  {
   "cell_type": "code",
   "execution_count": 8,
   "metadata": {
    "ExecuteTime": {
     "end_time": "2020-01-20T18:03:28.012539Z",
     "start_time": "2020-01-20T18:03:28.000578Z"
    }
   },
   "outputs": [],
   "source": [
    "train.Type.fillna(value=\"Nope\", inplace=True)\n",
    "test.Type.fillna(value=\"Nope\", inplace=True)"
   ]
  },
  {
   "cell_type": "code",
   "execution_count": 9,
   "metadata": {
    "ExecuteTime": {
     "end_time": "2020-01-20T18:03:28.172375Z",
     "start_time": "2020-01-20T18:03:28.164379Z"
    }
   },
   "outputs": [],
   "source": [
    "from sklearn.preprocessing import LabelEncoder, OneHotEncoder"
   ]
  },
  {
   "cell_type": "code",
   "execution_count": 10,
   "metadata": {
    "ExecuteTime": {
     "end_time": "2020-01-20T18:03:28.336350Z",
     "start_time": "2020-01-20T18:03:28.328352Z"
    }
   },
   "outputs": [],
   "source": [
    "la = LabelEncoder()\n",
    "on = OneHotEncoder()\n",
    "on2 = OneHotEncoder()"
   ]
  },
  {
   "cell_type": "code",
   "execution_count": 11,
   "metadata": {
    "ExecuteTime": {
     "end_time": "2020-01-20T18:03:28.502349Z",
     "start_time": "2020-01-20T18:03:28.490352Z"
    }
   },
   "outputs": [],
   "source": [
    "train['Type_Mat'] = la.fit_transform(train['Type'])"
   ]
  },
  {
   "cell_type": "code",
   "execution_count": 12,
   "metadata": {
    "ExecuteTime": {
     "end_time": "2020-01-20T18:03:28.680359Z",
     "start_time": "2020-01-20T18:03:28.656367Z"
    }
   },
   "outputs": [],
   "source": [
    "type_mat = on.fit_transform(train['Type_Mat'].values.reshape(-1,1))\n",
    "day_mat = on2.fit_transform(train['day_of_week'].values.reshape(-1,1))\n",
    "type_mat = type_mat.todense()\n",
    "day_mat = day_mat.todense()\n",
    "mat = np.append(type_mat, day_mat, axis=1)"
   ]
  },
  {
   "cell_type": "code",
   "execution_count": 13,
   "metadata": {
    "ExecuteTime": {
     "end_time": "2020-01-20T18:14:03.420297Z",
     "start_time": "2020-01-20T18:14:03.376340Z"
    }
   },
   "outputs": [],
   "source": [
    "mat = np.append(type_mat, day_mat, axis=1)\n",
    "mat = np.append(mat, train['day'].values.reshape(-1, 1), axis=1)\n",
    "mat = np.append(mat, train['week_num'].values.reshape(-1, 1), axis=1)\n",
    "mat = np.append(mat, train['month'].values.reshape(-1, 1), axis=1)\n",
    "mat = np.append(mat, train['year'].values.reshape(-1, 1), axis=1)\n",
    "mat = np.append(mat, train['sin_mon'].values.reshape(-1, 1), axis=1)\n",
    "mat = np.append(mat, train['cos_mon'].values.reshape(-1, 1), axis=1)\n",
    "mat = np.append(mat, train['sin_day'].values.reshape(-1, 1), axis=1)\n",
    "mat = np.append(mat, train['cos_day'].values.reshape(-1, 1), axis=1)\n",
    "mat = np.append(mat, train['case_count_prev'].values.reshape(-1, 1), axis=1)\n",
    "mat = np.append(mat, train['case_count_prev_2'].values.reshape(-1, 1), axis=1)\n",
    "mat = np.append(mat, train['case_count_prev_3'].values.reshape(-1, 1), axis=1)\n",
    "mat = np.append(mat, train['case_count_prev_4'].values.reshape(-1, 1), axis=1)"
   ]
  },
  {
   "cell_type": "code",
   "execution_count": 14,
   "metadata": {
    "ExecuteTime": {
     "end_time": "2020-01-20T18:14:03.975148Z",
     "start_time": "2020-01-20T18:14:03.967151Z"
    }
   },
   "outputs": [
    {
     "data": {
      "text/plain": [
       "(62562, 26)"
      ]
     },
     "execution_count": 14,
     "metadata": {},
     "output_type": "execute_result"
    }
   ],
   "source": [
    "mat.shape"
   ]
  },
  {
   "cell_type": "code",
   "execution_count": 2,
   "metadata": {
    "ExecuteTime": {
     "end_time": "2020-01-20T18:14:04.846294Z",
     "start_time": "2020-01-20T18:14:04.838256Z"
    }
   },
   "outputs": [
    {
     "name": "stderr",
     "output_type": "stream",
     "text": [
      "c:\\programs files\\python\\python36\\lib\\site-packages\\sklearn\\ensemble\\weight_boosting.py:29: DeprecationWarning: numpy.core.umath_tests is an internal NumPy module and should not be imported. It will be removed in a future NumPy release.\n",
      "  from numpy.core.umath_tests import inner1d\n"
     ]
    }
   ],
   "source": [
    "from sklearn.neighbors import KNeighborsRegressor\n",
    "from sklearn.ensemble import RandomForestRegressor, ExtraTreesRegressor\n",
    "from sklearn.model_selection import train_test_split\n",
    "from sklearn.metrics import mean_absolute_error\n",
    "import lightgbm as lgb\n",
    "import xgboost\n",
    "from xgboost import XGBRegressor"
   ]
  },
  {
   "cell_type": "code",
   "execution_count": 16,
   "metadata": {
    "ExecuteTime": {
     "end_time": "2020-01-20T18:37:11.716121Z",
     "start_time": "2020-01-20T18:37:11.708124Z"
    }
   },
   "outputs": [],
   "source": [
    "def instantiate_models():\n",
    "    rf = RandomForestRegressor(n_estimators=100)\n",
    "    et = ExtraTreesRegressor(n_estimators=100)\n",
    "    knn = KNeighborsRegressor()\n",
    "    LGB = lgb.LGBMRegressor()\n",
    "    xgb = XGBRegressor()\n",
    "    return rf, knn, et, LGB, xgb"
   ]
  },
  {
   "cell_type": "code",
   "execution_count": 17,
   "metadata": {
    "ExecuteTime": {
     "end_time": "2020-01-20T18:37:23.803366Z",
     "start_time": "2020-01-20T18:37:14.872978Z"
    }
   },
   "outputs": [],
   "source": [
    "def training(X_train, y_train, models):\n",
    "    rf, et, knn, LGB, xgb = models\n",
    "    LGB.fit(X_train, y_train)\n",
    "    et.fit(X_train, y_train)\n",
    "    knn.fit(X_train, y_train)\n",
    "    rf.fit(X_train, y_train)\n",
    "    xgb.fit(X_train, y_train)\n",
    "    return  rf, et, knn, LGB, xgb"
   ]
  },
  {
   "cell_type": "code",
   "execution_count": 18,
   "metadata": {
    "ExecuteTime": {
     "end_time": "2020-01-20T18:37:23.979329Z",
     "start_time": "2020-01-20T18:37:23.803366Z"
    }
   },
   "outputs": [],
   "source": [
    "def predict(X_test, models):\n",
    "    rf, et, knn, LGB, xgb = models\n",
    "    lgb_pred = abs(np.round(np.expm1(LGB.predict(X_test))))\n",
    "    xgb_pred = abs(np.round(np.expm1(xgb.predict(X_test))))\n",
    "    rf_pred = abs(np.round(np.expm1(rf.predict(X_test))))\n",
    "    et_pred = abs(np.round(np.expm1(et.predict(X_test))))\n",
    "    knn_pred = abs(np.round(np.expm1(knn.predict(X_test))))\n",
    "    return lgb_pred, xgb_pred, rf_pred, et_pred, knn_pred"
   ]
  },
  {
   "cell_type": "code",
   "execution_count": 19,
   "metadata": {
    "ExecuteTime": {
     "end_time": "2020-01-20T18:37:25.907879Z",
     "start_time": "2020-01-20T18:37:25.891918Z"
    }
   },
   "outputs": [],
   "source": [
    "def MAPE(y_test, predictions):\n",
    "    lgb_pred, xgb_pred, rf_pred, et_pred, knn_pred = predictions\n",
    "    return [mean_absolute_error(np.expm1(y_test), lgb_pred) * (100/len(y_test)),\n",
    "            mean_absolute_error(np.expm1(y_test), xgb_pred) * (100/len(y_test)),\n",
    "            mean_absolute_error(np.expm1(y_test), rf_pred) * (100/len(y_test)),\n",
    "            mean_absolute_error(np.expm1(y_test), et_pred) * (100/len(y_test)),\n",
    "            mean_absolute_error(np.expm1(y_test), knn_pred) * (100/len(y_test)),\n",
    "           ]\n",
    "    "
   ]
  },
  {
   "cell_type": "code",
   "execution_count": 20,
   "metadata": {
    "ExecuteTime": {
     "end_time": "2020-01-20T18:21:32.126544Z",
     "start_time": "2020-01-20T18:21:32.009972Z"
    }
   },
   "outputs": [],
   "source": [
    "def export_csv(y_test, prediction, train, seed):\n",
    "    lgb_pred, xgb_pred, rf_pred, et_pred, knn_pred = prediction\n",
    "    xtest = train.iloc[y_test.index].reset_index(drop=True)\n",
    "    xtest['log_case'] = y_test.values\n",
    "    xtest['lgb_pred'] = lgb_pred\n",
    "    xtest['xgb_pred'] = xgb_pred\n",
    "    xtest['knn_pred'] = knn_pred\n",
    "    xtest['et_pred'] = et_pred\n",
    "    xtest['rf_pred'] = rf_pred\n",
    "    xtest[['log_case', 'case_count_prev', 'case_count_prev_2',\n",
    "       'case_count_prev_3', 'case_count_prev_4', \n",
    "       'knn_pred', 'et_pred', 'rf_pred', 'lgb_pred', 'xgb_pred', 'case_count']].to_csv(f'stack_v{seed}.csv')"
   ]
  },
  {
   "cell_type": "code",
   "execution_count": 21,
   "metadata": {},
   "outputs": [
    {
     "name": "stderr",
     "output_type": "stream",
     "text": [
      "c:\\programs files\\python\\python36\\lib\\site-packages\\xgboost\\core.py:587: FutureWarning: Series.base is deprecated and will be removed in a future version\n",
      "  if getattr(data, 'base', None) is not None and \\\n",
      "c:\\programs files\\python\\python36\\lib\\site-packages\\xgboost\\core.py:587: FutureWarning: Series.base is deprecated and will be removed in a future version\n",
      "  if getattr(data, 'base', None) is not None and \\\n",
      "c:\\programs files\\python\\python36\\lib\\site-packages\\xgboost\\core.py:587: FutureWarning: Series.base is deprecated and will be removed in a future version\n",
      "  if getattr(data, 'base', None) is not None and \\\n",
      "c:\\programs files\\python\\python36\\lib\\site-packages\\xgboost\\core.py:587: FutureWarning: Series.base is deprecated and will be removed in a future version\n",
      "  if getattr(data, 'base', None) is not None and \\\n",
      "c:\\programs files\\python\\python36\\lib\\site-packages\\xgboost\\core.py:587: FutureWarning: Series.base is deprecated and will be removed in a future version\n",
      "  if getattr(data, 'base', None) is not None and \\\n",
      "c:\\programs files\\python\\python36\\lib\\site-packages\\xgboost\\core.py:587: FutureWarning: Series.base is deprecated and will be removed in a future version\n",
      "  if getattr(data, 'base', None) is not None and \\\n",
      "c:\\programs files\\python\\python36\\lib\\site-packages\\xgboost\\core.py:587: FutureWarning: Series.base is deprecated and will be removed in a future version\n",
      "  if getattr(data, 'base', None) is not None and \\\n",
      "c:\\programs files\\python\\python36\\lib\\site-packages\\xgboost\\core.py:587: FutureWarning: Series.base is deprecated and will be removed in a future version\n",
      "  if getattr(data, 'base', None) is not None and \\\n",
      "c:\\programs files\\python\\python36\\lib\\site-packages\\xgboost\\core.py:587: FutureWarning: Series.base is deprecated and will be removed in a future version\n",
      "  if getattr(data, 'base', None) is not None and \\\n",
      "c:\\programs files\\python\\python36\\lib\\site-packages\\xgboost\\core.py:587: FutureWarning: Series.base is deprecated and will be removed in a future version\n",
      "  if getattr(data, 'base', None) is not None and \\\n"
     ]
    }
   ],
   "source": [
    "for seed in range(10):\n",
    "    X_train, X_test, y_train, y_test = train_test_split(mat, train['log_case'], test_size=0.3, random_state=seed)\n",
    "    inst_models = instantiate_models()\n",
    "    trained_models = training(X_train, y_train, inst_models)\n",
    "    prediction =  predict(X_test, trained_models)\n",
    "    err = MAPE(y_test, prediction)\n",
    "    export_csv(y_test, prediction, train, seed)"
   ]
  },
  {
   "cell_type": "code",
   "execution_count": 22,
   "metadata": {
    "ExecuteTime": {
     "end_time": "2020-01-20T18:21:32.346321Z",
     "start_time": "2020-01-20T18:21:32.126544Z"
    }
   },
   "outputs": [
    {
     "data": {
      "text/plain": [
       "[0.031821981441387266,\n",
       " 0.036787699154469104,\n",
       " 0.031874213308946124,\n",
       " 0.03425047941402862,\n",
       " 0.030860801530766153]"
      ]
     },
     "execution_count": 22,
     "metadata": {},
     "output_type": "execute_result"
    }
   ],
   "source": [
    "err"
   ]
  },
  {
   "cell_type": "markdown",
   "metadata": {},
   "source": [
    "# Loading Stacked Data"
   ]
  },
  {
   "cell_type": "code",
   "execution_count": 19,
   "metadata": {
    "ExecuteTime": {
     "end_time": "2020-01-20T18:23:59.447338Z",
     "start_time": "2020-01-20T18:23:59.215067Z"
    }
   },
   "outputs": [],
   "source": [
    "pk = []\n",
    "for i in range(4):\n",
    "    pk.append(pd.read_csv(f'../notebooks_Day_#1/stack_seg_1/stack_v{i}.csv'))"
   ]
  },
  {
   "cell_type": "code",
   "execution_count": 20,
   "metadata": {
    "ExecuteTime": {
     "end_time": "2020-01-20T18:24:19.137555Z",
     "start_time": "2020-01-20T18:24:19.125557Z"
    }
   },
   "outputs": [],
   "source": [
    "df = pd.concat(pk, ignore_index=True, sort=False)\n",
    "df.drop(columns='Unnamed: 0', inplace=True)"
   ]
  },
  {
   "cell_type": "code",
   "execution_count": 21,
   "metadata": {
    "ExecuteTime": {
     "end_time": "2020-01-20T18:29:28.712605Z",
     "start_time": "2020-01-20T18:29:28.688611Z"
    }
   },
   "outputs": [
    {
     "data": {
      "text/html": [
       "<div>\n",
       "<style scoped>\n",
       "    .dataframe tbody tr th:only-of-type {\n",
       "        vertical-align: middle;\n",
       "    }\n",
       "\n",
       "    .dataframe tbody tr th {\n",
       "        vertical-align: top;\n",
       "    }\n",
       "\n",
       "    .dataframe thead th {\n",
       "        text-align: right;\n",
       "    }\n",
       "</style>\n",
       "<table border=\"1\" class=\"dataframe\">\n",
       "  <thead>\n",
       "    <tr style=\"text-align: right;\">\n",
       "      <th></th>\n",
       "      <th>log_case</th>\n",
       "      <th>case_count_prev</th>\n",
       "      <th>case_count_prev_2</th>\n",
       "      <th>case_count_prev_3</th>\n",
       "      <th>case_count_prev_4</th>\n",
       "      <th>knn_pred</th>\n",
       "      <th>et_pred</th>\n",
       "      <th>rf_pred</th>\n",
       "      <th>lgb_pred</th>\n",
       "      <th>xgb_pred</th>\n",
       "      <th>case_count</th>\n",
       "    </tr>\n",
       "  </thead>\n",
       "  <tbody>\n",
       "    <tr>\n",
       "      <th>0</th>\n",
       "      <td>1.609438</td>\n",
       "      <td>2.639057</td>\n",
       "      <td>2.302585</td>\n",
       "      <td>2.397895</td>\n",
       "      <td>2.397895</td>\n",
       "      <td>1.0</td>\n",
       "      <td>1.0</td>\n",
       "      <td>1.0</td>\n",
       "      <td>2.0</td>\n",
       "      <td>4.0</td>\n",
       "      <td>4.0</td>\n",
       "    </tr>\n",
       "    <tr>\n",
       "      <th>1</th>\n",
       "      <td>1.791759</td>\n",
       "      <td>3.496508</td>\n",
       "      <td>3.784190</td>\n",
       "      <td>3.401197</td>\n",
       "      <td>3.912023</td>\n",
       "      <td>19.0</td>\n",
       "      <td>10.0</td>\n",
       "      <td>18.0</td>\n",
       "      <td>14.0</td>\n",
       "      <td>16.0</td>\n",
       "      <td>5.0</td>\n",
       "    </tr>\n",
       "    <tr>\n",
       "      <th>2</th>\n",
       "      <td>0.000000</td>\n",
       "      <td>0.000000</td>\n",
       "      <td>0.000000</td>\n",
       "      <td>0.000000</td>\n",
       "      <td>0.000000</td>\n",
       "      <td>0.0</td>\n",
       "      <td>0.0</td>\n",
       "      <td>0.0</td>\n",
       "      <td>0.0</td>\n",
       "      <td>0.0</td>\n",
       "      <td>0.0</td>\n",
       "    </tr>\n",
       "    <tr>\n",
       "      <th>3</th>\n",
       "      <td>2.484907</td>\n",
       "      <td>2.564949</td>\n",
       "      <td>2.079442</td>\n",
       "      <td>1.609438</td>\n",
       "      <td>2.197225</td>\n",
       "      <td>11.0</td>\n",
       "      <td>14.0</td>\n",
       "      <td>10.0</td>\n",
       "      <td>11.0</td>\n",
       "      <td>11.0</td>\n",
       "      <td>11.0</td>\n",
       "    </tr>\n",
       "    <tr>\n",
       "      <th>4</th>\n",
       "      <td>3.871201</td>\n",
       "      <td>3.610918</td>\n",
       "      <td>3.931826</td>\n",
       "      <td>2.079442</td>\n",
       "      <td>1.098612</td>\n",
       "      <td>34.0</td>\n",
       "      <td>28.0</td>\n",
       "      <td>34.0</td>\n",
       "      <td>37.0</td>\n",
       "      <td>37.0</td>\n",
       "      <td>47.0</td>\n",
       "    </tr>\n",
       "  </tbody>\n",
       "</table>\n",
       "</div>"
      ],
      "text/plain": [
       "   log_case  case_count_prev  case_count_prev_2  case_count_prev_3  \\\n",
       "0  1.609438         2.639057           2.302585           2.397895   \n",
       "1  1.791759         3.496508           3.784190           3.401197   \n",
       "2  0.000000         0.000000           0.000000           0.000000   \n",
       "3  2.484907         2.564949           2.079442           1.609438   \n",
       "4  3.871201         3.610918           3.931826           2.079442   \n",
       "\n",
       "   case_count_prev_4  knn_pred  et_pred  rf_pred  lgb_pred  xgb_pred  \\\n",
       "0           2.397895       1.0      1.0      1.0       2.0       4.0   \n",
       "1           3.912023      19.0     10.0     18.0      14.0      16.0   \n",
       "2           0.000000       0.0      0.0      0.0       0.0       0.0   \n",
       "3           2.197225      11.0     14.0     10.0      11.0      11.0   \n",
       "4           1.098612      34.0     28.0     34.0      37.0      37.0   \n",
       "\n",
       "   case_count  \n",
       "0         4.0  \n",
       "1         5.0  \n",
       "2         0.0  \n",
       "3        11.0  \n",
       "4        47.0  "
      ]
     },
     "execution_count": 21,
     "metadata": {},
     "output_type": "execute_result"
    }
   ],
   "source": [
    "df.head()"
   ]
  },
  {
   "cell_type": "code",
   "execution_count": 22,
   "metadata": {
    "ExecuteTime": {
     "end_time": "2020-01-20T18:29:31.828957Z",
     "start_time": "2020-01-20T18:29:31.784932Z"
    }
   },
   "outputs": [
    {
     "data": {
      "text/html": [
       "<div>\n",
       "<style scoped>\n",
       "    .dataframe tbody tr th:only-of-type {\n",
       "        vertical-align: middle;\n",
       "    }\n",
       "\n",
       "    .dataframe tbody tr th {\n",
       "        vertical-align: top;\n",
       "    }\n",
       "\n",
       "    .dataframe thead th {\n",
       "        text-align: right;\n",
       "    }\n",
       "</style>\n",
       "<table border=\"1\" class=\"dataframe\">\n",
       "  <thead>\n",
       "    <tr style=\"text-align: right;\">\n",
       "      <th></th>\n",
       "      <th>log_case</th>\n",
       "      <th>case_count_prev</th>\n",
       "      <th>case_count_prev_2</th>\n",
       "      <th>case_count_prev_3</th>\n",
       "      <th>case_count_prev_4</th>\n",
       "      <th>knn_pred</th>\n",
       "      <th>et_pred</th>\n",
       "      <th>rf_pred</th>\n",
       "      <th>lgb_pred</th>\n",
       "      <th>xgb_pred</th>\n",
       "      <th>case_count</th>\n",
       "    </tr>\n",
       "  </thead>\n",
       "  <tbody>\n",
       "    <tr>\n",
       "      <th>log_case</th>\n",
       "      <td>1.000000</td>\n",
       "      <td>0.781775</td>\n",
       "      <td>0.735564</td>\n",
       "      <td>0.711110</td>\n",
       "      <td>0.695802</td>\n",
       "      <td>0.817128</td>\n",
       "      <td>0.817117</td>\n",
       "      <td>0.814294</td>\n",
       "      <td>0.817506</td>\n",
       "      <td>0.783138</td>\n",
       "      <td>0.854872</td>\n",
       "    </tr>\n",
       "    <tr>\n",
       "      <th>case_count_prev</th>\n",
       "      <td>0.781775</td>\n",
       "      <td>1.000000</td>\n",
       "      <td>0.783450</td>\n",
       "      <td>0.735737</td>\n",
       "      <td>0.713768</td>\n",
       "      <td>0.704363</td>\n",
       "      <td>0.688721</td>\n",
       "      <td>0.707452</td>\n",
       "      <td>0.725134</td>\n",
       "      <td>0.756082</td>\n",
       "      <td>0.642709</td>\n",
       "    </tr>\n",
       "    <tr>\n",
       "      <th>case_count_prev_2</th>\n",
       "      <td>0.735564</td>\n",
       "      <td>0.783450</td>\n",
       "      <td>1.000000</td>\n",
       "      <td>0.780926</td>\n",
       "      <td>0.735052</td>\n",
       "      <td>0.657855</td>\n",
       "      <td>0.652943</td>\n",
       "      <td>0.664488</td>\n",
       "      <td>0.681992</td>\n",
       "      <td>0.697080</td>\n",
       "      <td>0.608408</td>\n",
       "    </tr>\n",
       "    <tr>\n",
       "      <th>case_count_prev_3</th>\n",
       "      <td>0.711110</td>\n",
       "      <td>0.735737</td>\n",
       "      <td>0.780926</td>\n",
       "      <td>1.000000</td>\n",
       "      <td>0.780007</td>\n",
       "      <td>0.630917</td>\n",
       "      <td>0.630960</td>\n",
       "      <td>0.638425</td>\n",
       "      <td>0.649334</td>\n",
       "      <td>0.660471</td>\n",
       "      <td>0.585398</td>\n",
       "    </tr>\n",
       "    <tr>\n",
       "      <th>case_count_prev_4</th>\n",
       "      <td>0.695802</td>\n",
       "      <td>0.713768</td>\n",
       "      <td>0.735052</td>\n",
       "      <td>0.780007</td>\n",
       "      <td>1.000000</td>\n",
       "      <td>0.617571</td>\n",
       "      <td>0.615965</td>\n",
       "      <td>0.623663</td>\n",
       "      <td>0.634778</td>\n",
       "      <td>0.648220</td>\n",
       "      <td>0.571144</td>\n",
       "    </tr>\n",
       "    <tr>\n",
       "      <th>knn_pred</th>\n",
       "      <td>0.817128</td>\n",
       "      <td>0.704363</td>\n",
       "      <td>0.657855</td>\n",
       "      <td>0.630917</td>\n",
       "      <td>0.617571</td>\n",
       "      <td>1.000000</td>\n",
       "      <td>0.941692</td>\n",
       "      <td>0.980662</td>\n",
       "      <td>0.963562</td>\n",
       "      <td>0.925318</td>\n",
       "      <td>0.878297</td>\n",
       "    </tr>\n",
       "    <tr>\n",
       "      <th>et_pred</th>\n",
       "      <td>0.817117</td>\n",
       "      <td>0.688721</td>\n",
       "      <td>0.652943</td>\n",
       "      <td>0.630960</td>\n",
       "      <td>0.615965</td>\n",
       "      <td>0.941692</td>\n",
       "      <td>1.000000</td>\n",
       "      <td>0.925371</td>\n",
       "      <td>0.927594</td>\n",
       "      <td>0.890657</td>\n",
       "      <td>0.849413</td>\n",
       "    </tr>\n",
       "    <tr>\n",
       "      <th>rf_pred</th>\n",
       "      <td>0.814294</td>\n",
       "      <td>0.707452</td>\n",
       "      <td>0.664488</td>\n",
       "      <td>0.638425</td>\n",
       "      <td>0.623663</td>\n",
       "      <td>0.980662</td>\n",
       "      <td>0.925371</td>\n",
       "      <td>1.000000</td>\n",
       "      <td>0.965457</td>\n",
       "      <td>0.931440</td>\n",
       "      <td>0.870197</td>\n",
       "    </tr>\n",
       "    <tr>\n",
       "      <th>lgb_pred</th>\n",
       "      <td>0.817506</td>\n",
       "      <td>0.725134</td>\n",
       "      <td>0.681992</td>\n",
       "      <td>0.649334</td>\n",
       "      <td>0.634778</td>\n",
       "      <td>0.963562</td>\n",
       "      <td>0.927594</td>\n",
       "      <td>0.965457</td>\n",
       "      <td>1.000000</td>\n",
       "      <td>0.964121</td>\n",
       "      <td>0.870699</td>\n",
       "    </tr>\n",
       "    <tr>\n",
       "      <th>xgb_pred</th>\n",
       "      <td>0.783138</td>\n",
       "      <td>0.756082</td>\n",
       "      <td>0.697080</td>\n",
       "      <td>0.660471</td>\n",
       "      <td>0.648220</td>\n",
       "      <td>0.925318</td>\n",
       "      <td>0.890657</td>\n",
       "      <td>0.931440</td>\n",
       "      <td>0.964121</td>\n",
       "      <td>1.000000</td>\n",
       "      <td>0.829156</td>\n",
       "    </tr>\n",
       "    <tr>\n",
       "      <th>case_count</th>\n",
       "      <td>0.854872</td>\n",
       "      <td>0.642709</td>\n",
       "      <td>0.608408</td>\n",
       "      <td>0.585398</td>\n",
       "      <td>0.571144</td>\n",
       "      <td>0.878297</td>\n",
       "      <td>0.849413</td>\n",
       "      <td>0.870197</td>\n",
       "      <td>0.870699</td>\n",
       "      <td>0.829156</td>\n",
       "      <td>1.000000</td>\n",
       "    </tr>\n",
       "  </tbody>\n",
       "</table>\n",
       "</div>"
      ],
      "text/plain": [
       "                   log_case  case_count_prev  case_count_prev_2  \\\n",
       "log_case           1.000000         0.781775           0.735564   \n",
       "case_count_prev    0.781775         1.000000           0.783450   \n",
       "case_count_prev_2  0.735564         0.783450           1.000000   \n",
       "case_count_prev_3  0.711110         0.735737           0.780926   \n",
       "case_count_prev_4  0.695802         0.713768           0.735052   \n",
       "knn_pred           0.817128         0.704363           0.657855   \n",
       "et_pred            0.817117         0.688721           0.652943   \n",
       "rf_pred            0.814294         0.707452           0.664488   \n",
       "lgb_pred           0.817506         0.725134           0.681992   \n",
       "xgb_pred           0.783138         0.756082           0.697080   \n",
       "case_count         0.854872         0.642709           0.608408   \n",
       "\n",
       "                   case_count_prev_3  case_count_prev_4  knn_pred   et_pred  \\\n",
       "log_case                    0.711110           0.695802  0.817128  0.817117   \n",
       "case_count_prev             0.735737           0.713768  0.704363  0.688721   \n",
       "case_count_prev_2           0.780926           0.735052  0.657855  0.652943   \n",
       "case_count_prev_3           1.000000           0.780007  0.630917  0.630960   \n",
       "case_count_prev_4           0.780007           1.000000  0.617571  0.615965   \n",
       "knn_pred                    0.630917           0.617571  1.000000  0.941692   \n",
       "et_pred                     0.630960           0.615965  0.941692  1.000000   \n",
       "rf_pred                     0.638425           0.623663  0.980662  0.925371   \n",
       "lgb_pred                    0.649334           0.634778  0.963562  0.927594   \n",
       "xgb_pred                    0.660471           0.648220  0.925318  0.890657   \n",
       "case_count                  0.585398           0.571144  0.878297  0.849413   \n",
       "\n",
       "                    rf_pred  lgb_pred  xgb_pred  case_count  \n",
       "log_case           0.814294  0.817506  0.783138    0.854872  \n",
       "case_count_prev    0.707452  0.725134  0.756082    0.642709  \n",
       "case_count_prev_2  0.664488  0.681992  0.697080    0.608408  \n",
       "case_count_prev_3  0.638425  0.649334  0.660471    0.585398  \n",
       "case_count_prev_4  0.623663  0.634778  0.648220    0.571144  \n",
       "knn_pred           0.980662  0.963562  0.925318    0.878297  \n",
       "et_pred            0.925371  0.927594  0.890657    0.849413  \n",
       "rf_pred            1.000000  0.965457  0.931440    0.870197  \n",
       "lgb_pred           0.965457  1.000000  0.964121    0.870699  \n",
       "xgb_pred           0.931440  0.964121  1.000000    0.829156  \n",
       "case_count         0.870197  0.870699  0.829156    1.000000  "
      ]
     },
     "execution_count": 22,
     "metadata": {},
     "output_type": "execute_result"
    }
   ],
   "source": [
    "df.corr()"
   ]
  },
  {
   "cell_type": "code",
   "execution_count": 23,
   "metadata": {
    "ExecuteTime": {
     "end_time": "2020-01-20T18:34:22.325886Z",
     "start_time": "2020-01-20T18:34:22.309863Z"
    }
   },
   "outputs": [],
   "source": [
    "training = df[['log_case', 'case_count_prev', 'case_count_prev_2', 'case_count_prev_3',\n",
    "               'case_count_prev_4', 'knn_pred', 'et_pred', 'rf_pred', 'lgb_pred',\n",
    "               'xgb_pred']]\n",
    "label = df['case_count']"
   ]
  },
  {
   "cell_type": "code",
   "execution_count": 24,
   "metadata": {
    "ExecuteTime": {
     "end_time": "2020-01-20T18:34:22.818897Z",
     "start_time": "2020-01-20T18:34:22.802895Z"
    }
   },
   "outputs": [],
   "source": [
    "X_train, X_test, y_train, y_test = train_test_split(training, label, test_size=0.3, random_state=42)"
   ]
  },
  {
   "cell_type": "code",
   "execution_count": 25,
   "metadata": {
    "ExecuteTime": {
     "end_time": "2020-01-20T18:34:23.404619Z",
     "start_time": "2020-01-20T18:34:23.396620Z"
    }
   },
   "outputs": [],
   "source": [
    "rfs = RandomForestRegressor(n_estimators=100)"
   ]
  },
  {
   "cell_type": "code",
   "execution_count": 26,
   "metadata": {
    "ExecuteTime": {
     "end_time": "2020-01-20T18:34:34.780077Z",
     "start_time": "2020-01-20T18:34:23.870902Z"
    }
   },
   "outputs": [
    {
     "data": {
      "text/plain": [
       "RandomForestRegressor(bootstrap=True, criterion='mse', max_depth=None,\n",
       "           max_features='auto', max_leaf_nodes=None,\n",
       "           min_impurity_decrease=0.0, min_impurity_split=None,\n",
       "           min_samples_leaf=1, min_samples_split=2,\n",
       "           min_weight_fraction_leaf=0.0, n_estimators=100, n_jobs=1,\n",
       "           oob_score=False, random_state=None, verbose=0, warm_start=False)"
      ]
     },
     "execution_count": 26,
     "metadata": {},
     "output_type": "execute_result"
    }
   ],
   "source": [
    "rfs.fit(X_train, y_train)"
   ]
  },
  {
   "cell_type": "code",
   "execution_count": 27,
   "metadata": {
    "ExecuteTime": {
     "end_time": "2020-01-20T18:34:41.455476Z",
     "start_time": "2020-01-20T18:34:41.279495Z"
    }
   },
   "outputs": [],
   "source": [
    "pred = rfs.predict(X_test)"
   ]
  },
  {
   "cell_type": "code",
   "execution_count": 28,
   "metadata": {
    "ExecuteTime": {
     "end_time": "2020-01-20T18:34:46.305634Z",
     "start_time": "2020-01-20T18:34:46.297602Z"
    }
   },
   "outputs": [],
   "source": [
    "xtest = X_test.loc[y_test.index].reset_index(drop=True)"
   ]
  },
  {
   "cell_type": "code",
   "execution_count": 29,
   "metadata": {},
   "outputs": [],
   "source": [
    "xtest['pred'] = pred"
   ]
  },
  {
   "cell_type": "code",
   "execution_count": 30,
   "metadata": {
    "ExecuteTime": {
     "end_time": "2020-01-20T18:35:15.803813Z",
     "start_time": "2020-01-20T18:35:15.795849Z"
    }
   },
   "outputs": [
    {
     "data": {
      "text/plain": [
       "0.0"
      ]
     },
     "execution_count": 30,
     "metadata": {},
     "output_type": "execute_result"
    }
   ],
   "source": [
    "mean_absolute_error(y_test, pred) * (100/len(y_test))"
   ]
  },
  {
   "cell_type": "code",
   "execution_count": 31,
   "metadata": {},
   "outputs": [
    {
     "data": {
      "text/plain": [
       "(52553, 10)"
      ]
     },
     "execution_count": 31,
     "metadata": {},
     "output_type": "execute_result"
    }
   ],
   "source": [
    "X_train.shape"
   ]
  },
  {
   "cell_type": "markdown",
   "metadata": {},
   "source": [
    "# Testing"
   ]
  },
  {
   "cell_type": "code",
   "execution_count": 32,
   "metadata": {
    "ExecuteTime": {
     "end_time": "2020-01-20T18:37:37.430142Z",
     "start_time": "2020-01-20T18:37:37.418110Z"
    }
   },
   "outputs": [
    {
     "ename": "NameError",
     "evalue": "name 'la' is not defined",
     "output_type": "error",
     "traceback": [
      "\u001b[1;31m---------------------------------------------------------------------------\u001b[0m",
      "\u001b[1;31mNameError\u001b[0m                                 Traceback (most recent call last)",
      "\u001b[1;32m<ipython-input-32-3cff80d13d9c>\u001b[0m in \u001b[0;36m<module>\u001b[1;34m()\u001b[0m\n\u001b[1;32m----> 1\u001b[1;33m \u001b[0mtest\u001b[0m\u001b[1;33m[\u001b[0m\u001b[1;34m'Type_Mat'\u001b[0m\u001b[1;33m]\u001b[0m \u001b[1;33m=\u001b[0m \u001b[0mla\u001b[0m\u001b[1;33m.\u001b[0m\u001b[0mfit_transform\u001b[0m\u001b[1;33m(\u001b[0m\u001b[0mtest\u001b[0m\u001b[1;33m[\u001b[0m\u001b[1;34m'Type'\u001b[0m\u001b[1;33m]\u001b[0m\u001b[1;33m)\u001b[0m\u001b[1;33m\u001b[0m\u001b[0m\n\u001b[0m\u001b[0;32m      2\u001b[0m \u001b[0mtype_mat_test\u001b[0m \u001b[1;33m=\u001b[0m \u001b[0mon\u001b[0m\u001b[1;33m.\u001b[0m\u001b[0mtransform\u001b[0m\u001b[1;33m(\u001b[0m\u001b[0mtest\u001b[0m\u001b[1;33m[\u001b[0m\u001b[1;34m'Type_Mat'\u001b[0m\u001b[1;33m]\u001b[0m\u001b[1;33m.\u001b[0m\u001b[0mvalues\u001b[0m\u001b[1;33m.\u001b[0m\u001b[0mreshape\u001b[0m\u001b[1;33m(\u001b[0m\u001b[1;33m-\u001b[0m\u001b[1;36m1\u001b[0m\u001b[1;33m,\u001b[0m\u001b[1;36m1\u001b[0m\u001b[1;33m)\u001b[0m\u001b[1;33m)\u001b[0m\u001b[1;33m\u001b[0m\u001b[0m\n\u001b[0;32m      3\u001b[0m \u001b[0mday_mat_test\u001b[0m \u001b[1;33m=\u001b[0m \u001b[0mon2\u001b[0m\u001b[1;33m.\u001b[0m\u001b[0mtransform\u001b[0m\u001b[1;33m(\u001b[0m\u001b[0mtest\u001b[0m\u001b[1;33m[\u001b[0m\u001b[1;34m'day_of_week'\u001b[0m\u001b[1;33m]\u001b[0m\u001b[1;33m.\u001b[0m\u001b[0mvalues\u001b[0m\u001b[1;33m.\u001b[0m\u001b[0mreshape\u001b[0m\u001b[1;33m(\u001b[0m\u001b[1;33m-\u001b[0m\u001b[1;36m1\u001b[0m\u001b[1;33m,\u001b[0m\u001b[1;36m1\u001b[0m\u001b[1;33m)\u001b[0m\u001b[1;33m)\u001b[0m\u001b[1;33m\u001b[0m\u001b[0m\n\u001b[0;32m      4\u001b[0m \u001b[0mtype_mat_test\u001b[0m \u001b[1;33m=\u001b[0m \u001b[0mtype_mat_test\u001b[0m\u001b[1;33m.\u001b[0m\u001b[0mtodense\u001b[0m\u001b[1;33m(\u001b[0m\u001b[1;33m)\u001b[0m\u001b[1;33m\u001b[0m\u001b[0m\n\u001b[0;32m      5\u001b[0m \u001b[0mday_mat_test\u001b[0m \u001b[1;33m=\u001b[0m \u001b[0mday_mat_test\u001b[0m\u001b[1;33m.\u001b[0m\u001b[0mtodense\u001b[0m\u001b[1;33m(\u001b[0m\u001b[1;33m)\u001b[0m\u001b[1;33m\u001b[0m\u001b[0m\n",
      "\u001b[1;31mNameError\u001b[0m: name 'la' is not defined"
     ]
    }
   ],
   "source": [
    "test['Type_Mat'] = la.fit_transform(test['Type'])\n",
    "type_mat_test = on.transform(test['Type_Mat'].values.reshape(-1,1))\n",
    "day_mat_test = on2.transform(test['day_of_week'].values.reshape(-1,1))\n",
    "type_mat_test = type_mat_test.todense()\n",
    "day_mat_test = day_mat_test.todense()\n",
    "mat_test = np.append(type_mat_test, day_mat_test, axis=1)"
   ]
  },
  {
   "cell_type": "code",
   "execution_count": 35,
   "metadata": {
    "ExecuteTime": {
     "end_time": "2020-01-20T18:37:41.784349Z",
     "start_time": "2020-01-20T18:37:41.772350Z"
    }
   },
   "outputs": [],
   "source": [
    "mat_test = np.append(mat_test, test['day'].values.reshape(-1, 1), axis=1)\n",
    "mat_test = np.append(mat_test, test['week_num'].values.reshape(-1, 1), axis=1)\n",
    "mat_test = np.append(mat_test, test['month'].values.reshape(-1, 1), axis=1)\n",
    "mat_test = np.append(mat_test, test['year'].values.reshape(-1, 1), axis=1)\n",
    "mat_test = np.append(mat_test, test['sin_mon'].values.reshape(-1, 1), axis=1)\n",
    "mat_test = np.append(mat_test, test['cos_mon'].values.reshape(-1, 1), axis=1)\n",
    "mat_test = np.append(mat_test, test['sin_day'].values.reshape(-1, 1), axis=1)\n",
    "mat_test = np.append(mat_test, test['cos_day'].values.reshape(-1, 1), axis=1)"
   ]
  },
  {
   "cell_type": "code",
   "execution_count": 36,
   "metadata": {
    "ExecuteTime": {
     "end_time": "2020-01-20T18:37:42.336614Z",
     "start_time": "2020-01-20T18:37:42.328614Z"
    }
   },
   "outputs": [
    {
     "data": {
      "text/plain": [
       "((62562, 26), (87, 22))"
      ]
     },
     "execution_count": 36,
     "metadata": {},
     "output_type": "execute_result"
    }
   ],
   "source": [
    "mat.shape, mat_test.shape"
   ]
  },
  {
   "cell_type": "code",
   "execution_count": 37,
   "metadata": {},
   "outputs": [
    {
     "data": {
      "text/html": [
       "<div>\n",
       "<style scoped>\n",
       "    .dataframe tbody tr th:only-of-type {\n",
       "        vertical-align: middle;\n",
       "    }\n",
       "\n",
       "    .dataframe tbody tr th {\n",
       "        vertical-align: top;\n",
       "    }\n",
       "\n",
       "    .dataframe thead th {\n",
       "        text-align: right;\n",
       "    }\n",
       "</style>\n",
       "<table border=\"1\" class=\"dataframe\">\n",
       "  <thead>\n",
       "    <tr style=\"text-align: right;\">\n",
       "      <th></th>\n",
       "      <th>application_date</th>\n",
       "      <th>segment</th>\n",
       "      <th>case_count</th>\n",
       "      <th>day</th>\n",
       "      <th>year</th>\n",
       "      <th>month</th>\n",
       "      <th>Holiday</th>\n",
       "      <th>Type</th>\n",
       "      <th>cos_day</th>\n",
       "      <th>sin_day</th>\n",
       "      <th>cos_mon</th>\n",
       "      <th>sin_mon</th>\n",
       "      <th>day_of_week</th>\n",
       "      <th>week_num</th>\n",
       "      <th>log_case</th>\n",
       "      <th>case_count_prev</th>\n",
       "      <th>case_count_prev_2</th>\n",
       "      <th>case_count_prev_3</th>\n",
       "      <th>case_count_prev_4</th>\n",
       "      <th>Type_Mat</th>\n",
       "    </tr>\n",
       "  </thead>\n",
       "  <tbody>\n",
       "    <tr>\n",
       "      <th>62557</th>\n",
       "      <td>2019-07-01</td>\n",
       "      <td>1</td>\n",
       "      <td>6.0</td>\n",
       "      <td>1</td>\n",
       "      <td>2019</td>\n",
       "      <td>7</td>\n",
       "      <td>NaN</td>\n",
       "      <td>Nope</td>\n",
       "      <td>0.979530</td>\n",
       "      <td>0.201299</td>\n",
       "      <td>-0.866025</td>\n",
       "      <td>-0.5</td>\n",
       "      <td>0</td>\n",
       "      <td>27</td>\n",
       "      <td>1.945910</td>\n",
       "      <td>0.000000</td>\n",
       "      <td>1.386294</td>\n",
       "      <td>1.386294</td>\n",
       "      <td>1.386294</td>\n",
       "      <td>3</td>\n",
       "    </tr>\n",
       "    <tr>\n",
       "      <th>62558</th>\n",
       "      <td>2019-07-02</td>\n",
       "      <td>1</td>\n",
       "      <td>3.0</td>\n",
       "      <td>2</td>\n",
       "      <td>2019</td>\n",
       "      <td>7</td>\n",
       "      <td>NaN</td>\n",
       "      <td>Nope</td>\n",
       "      <td>0.918958</td>\n",
       "      <td>0.394356</td>\n",
       "      <td>-0.866025</td>\n",
       "      <td>-0.5</td>\n",
       "      <td>1</td>\n",
       "      <td>27</td>\n",
       "      <td>1.386294</td>\n",
       "      <td>1.945910</td>\n",
       "      <td>0.000000</td>\n",
       "      <td>1.386294</td>\n",
       "      <td>1.386294</td>\n",
       "      <td>3</td>\n",
       "    </tr>\n",
       "    <tr>\n",
       "      <th>62559</th>\n",
       "      <td>2019-07-03</td>\n",
       "      <td>1</td>\n",
       "      <td>3.0</td>\n",
       "      <td>3</td>\n",
       "      <td>2019</td>\n",
       "      <td>7</td>\n",
       "      <td>NaN</td>\n",
       "      <td>Nope</td>\n",
       "      <td>0.820763</td>\n",
       "      <td>0.571268</td>\n",
       "      <td>-0.866025</td>\n",
       "      <td>-0.5</td>\n",
       "      <td>2</td>\n",
       "      <td>27</td>\n",
       "      <td>1.386294</td>\n",
       "      <td>1.386294</td>\n",
       "      <td>1.945910</td>\n",
       "      <td>0.000000</td>\n",
       "      <td>1.386294</td>\n",
       "      <td>3</td>\n",
       "    </tr>\n",
       "    <tr>\n",
       "      <th>62560</th>\n",
       "      <td>2019-07-04</td>\n",
       "      <td>1</td>\n",
       "      <td>5.0</td>\n",
       "      <td>4</td>\n",
       "      <td>2019</td>\n",
       "      <td>7</td>\n",
       "      <td>Rath Yatra</td>\n",
       "      <td>R</td>\n",
       "      <td>0.688967</td>\n",
       "      <td>0.724793</td>\n",
       "      <td>-0.866025</td>\n",
       "      <td>-0.5</td>\n",
       "      <td>3</td>\n",
       "      <td>27</td>\n",
       "      <td>1.791759</td>\n",
       "      <td>1.386294</td>\n",
       "      <td>1.386294</td>\n",
       "      <td>1.945910</td>\n",
       "      <td>0.000000</td>\n",
       "      <td>5</td>\n",
       "    </tr>\n",
       "    <tr>\n",
       "      <th>62561</th>\n",
       "      <td>2019-07-05</td>\n",
       "      <td>1</td>\n",
       "      <td>0.0</td>\n",
       "      <td>5</td>\n",
       "      <td>2019</td>\n",
       "      <td>7</td>\n",
       "      <td>NaN</td>\n",
       "      <td>Nope</td>\n",
       "      <td>0.528964</td>\n",
       "      <td>0.848644</td>\n",
       "      <td>-0.866025</td>\n",
       "      <td>-0.5</td>\n",
       "      <td>4</td>\n",
       "      <td>27</td>\n",
       "      <td>0.000000</td>\n",
       "      <td>1.791759</td>\n",
       "      <td>1.386294</td>\n",
       "      <td>1.386294</td>\n",
       "      <td>1.945910</td>\n",
       "      <td>3</td>\n",
       "    </tr>\n",
       "  </tbody>\n",
       "</table>\n",
       "</div>"
      ],
      "text/plain": [
       "      application_date  segment  case_count  day  year  month     Holiday  \\\n",
       "62557       2019-07-01        1         6.0    1  2019      7         NaN   \n",
       "62558       2019-07-02        1         3.0    2  2019      7         NaN   \n",
       "62559       2019-07-03        1         3.0    3  2019      7         NaN   \n",
       "62560       2019-07-04        1         5.0    4  2019      7  Rath Yatra   \n",
       "62561       2019-07-05        1         0.0    5  2019      7         NaN   \n",
       "\n",
       "       Type   cos_day   sin_day   cos_mon  sin_mon  day_of_week  week_num  \\\n",
       "62557  Nope  0.979530  0.201299 -0.866025     -0.5            0        27   \n",
       "62558  Nope  0.918958  0.394356 -0.866025     -0.5            1        27   \n",
       "62559  Nope  0.820763  0.571268 -0.866025     -0.5            2        27   \n",
       "62560     R  0.688967  0.724793 -0.866025     -0.5            3        27   \n",
       "62561  Nope  0.528964  0.848644 -0.866025     -0.5            4        27   \n",
       "\n",
       "       log_case  case_count_prev  case_count_prev_2  case_count_prev_3  \\\n",
       "62557  1.945910         0.000000           1.386294           1.386294   \n",
       "62558  1.386294         1.945910           0.000000           1.386294   \n",
       "62559  1.386294         1.386294           1.945910           0.000000   \n",
       "62560  1.791759         1.386294           1.386294           1.945910   \n",
       "62561  0.000000         1.791759           1.386294           1.386294   \n",
       "\n",
       "       case_count_prev_4  Type_Mat  \n",
       "62557           1.386294         3  \n",
       "62558           1.386294         3  \n",
       "62559           1.386294         3  \n",
       "62560           0.000000         5  \n",
       "62561           1.945910         3  "
      ]
     },
     "execution_count": 37,
     "metadata": {},
     "output_type": "execute_result"
    }
   ],
   "source": [
    "train.tail()"
   ]
  },
  {
   "cell_type": "code",
   "execution_count": 40,
   "metadata": {},
   "outputs": [
    {
     "data": {
      "text/plain": [
       "[0.0, 5.0, 3.0, 3.0]"
      ]
     },
     "execution_count": 40,
     "metadata": {},
     "output_type": "execute_result"
    }
   ],
   "source": [
    "[i for i in reversed(train['case_count'].iloc[-4:].tolist())]"
   ]
  },
  {
   "cell_type": "code",
   "execution_count": 41,
   "metadata": {
    "ExecuteTime": {
     "end_time": "2020-01-20T18:48:39.534235Z",
     "start_time": "2020-01-20T18:48:39.527255Z"
    },
    "scrolled": true
   },
   "outputs": [],
   "source": [
    "def func(model):\n",
    "    a = []\n",
    "    for i in range(len(mat_test)):\n",
    "        if i ==0:\n",
    "            k = np.append(np.array(mat_test[i]), np.log1p(np.array([[0.0, 5.0, 3.0, 3.0]])), axis=1)\n",
    "    #         a.append(np.round(np.expm1(rf.predict(k))))\n",
    "        if i==1:\n",
    "            k = np.append(np.array(mat_test[i]),  np.log1p(np.array([[a[0],0.0,5.0,3.0]])), axis=1)\n",
    "    #         a.append(np.round(np.expm1(rf.predict(k))))\n",
    "        if i==2:\n",
    "            k = np.append(np.array(mat_test[i]),  np.log1p(np.array([[a[1],a[0],0.0,5.0]])), axis=1)\n",
    "    #         a.append(np.round(np.expm1(rf.predict(k))))\n",
    "        if i==3:\n",
    "            k = np.append(np.array(mat_test[i]),  np.log1p(np.array([[a[2],a[1],a[0],0.0]])), axis=1)\n",
    "    #         a.append(np.round(np.expm1(rf.predict(k))))\n",
    "        if i>3:\n",
    "            k = np.append(np.array(mat_test[i]),  np.log1p(np.array([[a[i-1],a[i-2],a[i-3],a[i-4]]])), axis=1)\n",
    "\n",
    "        a.append((np.expm1(model.predict(k)))[0])\n",
    "    return a"
   ]
  },
  {
   "cell_type": "code",
   "execution_count": 42,
   "metadata": {
    "ExecuteTime": {
     "end_time": "2020-01-20T18:50:31.850313Z",
     "start_time": "2020-01-20T18:50:30.956289Z"
    }
   },
   "outputs": [],
   "source": [
    "rf, et, knn, LGB, xgb = trained_models\n",
    "a_rf = func(rf)\n",
    "a_et = func(et)\n",
    "a_knn = func(knn)\n",
    "a_LGB = func(LGB)\n",
    "a_xgb = func(xgb)"
   ]
  },
  {
   "cell_type": "code",
   "execution_count": 43,
   "metadata": {
    "ExecuteTime": {
     "end_time": "2020-01-20T18:44:35.758155Z",
     "start_time": "2020-01-20T18:44:35.751175Z"
    }
   },
   "outputs": [
    {
     "data": {
      "text/plain": [
       "array([0.        , 1.79175947, 1.38629436, 1.38629436])"
      ]
     },
     "execution_count": 43,
     "metadata": {},
     "output_type": "execute_result"
    }
   ],
   "source": [
    "np.log1p([0.0, 5.0, 3.0, 3.0])"
   ]
  },
  {
   "cell_type": "code",
   "execution_count": 44,
   "metadata": {},
   "outputs": [],
   "source": [
    "a=[np.mean(x) for x in zip(a_rf, a_et, a_knn, a_LGB, a_xgb)]"
   ]
  },
  {
   "cell_type": "code",
   "execution_count": 45,
   "metadata": {},
   "outputs": [],
   "source": [
    "test['log_case'] = np.log1p(a)"
   ]
  },
  {
   "cell_type": "code",
   "execution_count": 46,
   "metadata": {
    "ExecuteTime": {
     "end_time": "2020-01-20T18:45:50.787907Z",
     "start_time": "2020-01-20T18:45:50.778957Z"
    }
   },
   "outputs": [],
   "source": [
    "a1 = [0] + [i for i in test['log_case'].iloc[:-1].tolist()]\n",
    "a2 = [1.79175947] + [0] + [i for i in test['log_case'].iloc[:-2].tolist()]\n",
    "a3 = [1.38629436] + [1.79175947] + [0] + [i for i in test['log_case'].iloc[:-3].tolist()]\n",
    "a4 = [1.38629436] + [1.38629436] + [1.79175947] + [0] + [i for i in test['log_case'].iloc[:-4].tolist()]"
   ]
  },
  {
   "cell_type": "code",
   "execution_count": 47,
   "metadata": {
    "ExecuteTime": {
     "end_time": "2020-01-20T18:45:52.809296Z",
     "start_time": "2020-01-20T18:45:52.804311Z"
    }
   },
   "outputs": [],
   "source": [
    "test['case_count_prev'] = a1\n",
    "test['case_count_prev_2'] = a2\n",
    "test['case_count_prev_3'] = a3\n",
    "test['case_count_prev_4'] = a4"
   ]
  },
  {
   "cell_type": "code",
   "execution_count": 48,
   "metadata": {},
   "outputs": [],
   "source": [
    "test['knn_pred'] = a_knn\n",
    "test['et_pred'] = a_et\n",
    "test['rf_pred'] = a_rf\n",
    "test['lgb_pred'] = a_LGB\n",
    "test['xgb_pred'] = a_xgb"
   ]
  },
  {
   "cell_type": "code",
   "execution_count": 49,
   "metadata": {
    "ExecuteTime": {
     "end_time": "2020-01-20T18:45:54.115622Z",
     "start_time": "2020-01-20T18:45:54.029860Z"
    }
   },
   "outputs": [
    {
     "data": {
      "text/html": [
       "<div>\n",
       "<style scoped>\n",
       "    .dataframe tbody tr th:only-of-type {\n",
       "        vertical-align: middle;\n",
       "    }\n",
       "\n",
       "    .dataframe tbody tr th {\n",
       "        vertical-align: top;\n",
       "    }\n",
       "\n",
       "    .dataframe thead th {\n",
       "        text-align: right;\n",
       "    }\n",
       "</style>\n",
       "<table border=\"1\" class=\"dataframe\">\n",
       "  <thead>\n",
       "    <tr style=\"text-align: right;\">\n",
       "      <th></th>\n",
       "      <th>log_case</th>\n",
       "      <th>case_count_prev</th>\n",
       "      <th>case_count_prev_2</th>\n",
       "      <th>case_count_prev_3</th>\n",
       "      <th>case_count_prev_4</th>\n",
       "      <th>knn_pred</th>\n",
       "      <th>et_pred</th>\n",
       "      <th>rf_pred</th>\n",
       "      <th>lgb_pred</th>\n",
       "      <th>xgb_pred</th>\n",
       "    </tr>\n",
       "  </thead>\n",
       "  <tbody>\n",
       "    <tr>\n",
       "      <th>0</th>\n",
       "      <td>1.040164</td>\n",
       "      <td>0.000000</td>\n",
       "      <td>1.791759</td>\n",
       "      <td>1.386294</td>\n",
       "      <td>1.386294</td>\n",
       "      <td>1.995133</td>\n",
       "      <td>0.820564</td>\n",
       "      <td>2.784826</td>\n",
       "      <td>1.735212</td>\n",
       "      <td>1.812670</td>\n",
       "    </tr>\n",
       "    <tr>\n",
       "      <th>1</th>\n",
       "      <td>0.766437</td>\n",
       "      <td>1.040164</td>\n",
       "      <td>0.000000</td>\n",
       "      <td>1.791759</td>\n",
       "      <td>1.386294</td>\n",
       "      <td>1.374712</td>\n",
       "      <td>0.584893</td>\n",
       "      <td>1.253003</td>\n",
       "      <td>1.097321</td>\n",
       "      <td>1.450490</td>\n",
       "    </tr>\n",
       "    <tr>\n",
       "      <th>2</th>\n",
       "      <td>1.081785</td>\n",
       "      <td>0.766437</td>\n",
       "      <td>1.040164</td>\n",
       "      <td>0.000000</td>\n",
       "      <td>1.791759</td>\n",
       "      <td>3.822518</td>\n",
       "      <td>1.491462</td>\n",
       "      <td>3.390112</td>\n",
       "      <td>0.235943</td>\n",
       "      <td>0.809667</td>\n",
       "    </tr>\n",
       "    <tr>\n",
       "      <th>3</th>\n",
       "      <td>0.881175</td>\n",
       "      <td>1.081785</td>\n",
       "      <td>0.766437</td>\n",
       "      <td>1.040164</td>\n",
       "      <td>0.000000</td>\n",
       "      <td>3.019700</td>\n",
       "      <td>0.000000</td>\n",
       "      <td>1.577598</td>\n",
       "      <td>1.065499</td>\n",
       "      <td>1.405874</td>\n",
       "    </tr>\n",
       "    <tr>\n",
       "      <th>4</th>\n",
       "      <td>1.130816</td>\n",
       "      <td>0.881175</td>\n",
       "      <td>1.081785</td>\n",
       "      <td>0.766437</td>\n",
       "      <td>1.040164</td>\n",
       "      <td>3.461769</td>\n",
       "      <td>0.515717</td>\n",
       "      <td>2.534735</td>\n",
       "      <td>1.658348</td>\n",
       "      <td>2.320352</td>\n",
       "    </tr>\n",
       "  </tbody>\n",
       "</table>\n",
       "</div>"
      ],
      "text/plain": [
       "   log_case  case_count_prev  case_count_prev_2  case_count_prev_3  \\\n",
       "0  1.040164         0.000000           1.791759           1.386294   \n",
       "1  0.766437         1.040164           0.000000           1.791759   \n",
       "2  1.081785         0.766437           1.040164           0.000000   \n",
       "3  0.881175         1.081785           0.766437           1.040164   \n",
       "4  1.130816         0.881175           1.081785           0.766437   \n",
       "\n",
       "   case_count_prev_4  knn_pred   et_pred   rf_pred  lgb_pred  xgb_pred  \n",
       "0           1.386294  1.995133  0.820564  2.784826  1.735212  1.812670  \n",
       "1           1.386294  1.374712  0.584893  1.253003  1.097321  1.450490  \n",
       "2           1.791759  3.822518  1.491462  3.390112  0.235943  0.809667  \n",
       "3           0.000000  3.019700  0.000000  1.577598  1.065499  1.405874  \n",
       "4           1.040164  3.461769  0.515717  2.534735  1.658348  2.320352  "
      ]
     },
     "execution_count": 49,
     "metadata": {},
     "output_type": "execute_result"
    }
   ],
   "source": [
    "df_test = test[['log_case', 'case_count_prev', 'case_count_prev_2', 'case_count_prev_3',\n",
    "                'case_count_prev_4', 'knn_pred', 'et_pred', 'rf_pred', 'lgb_pred',\n",
    "                'xgb_pred']]\n",
    "df_test.head()"
   ]
  },
  {
   "cell_type": "code",
   "execution_count": 50,
   "metadata": {},
   "outputs": [],
   "source": [
    "test['case_count'] = rfs.predict(df_test)"
   ]
  },
  {
   "cell_type": "code",
   "execution_count": 51,
   "metadata": {},
   "outputs": [],
   "source": [
    "test[['id', 'application_date', 'segment', 'case_count']].to_csv('stacked_V1_seg_1.csv', index=False)"
   ]
  },
  {
   "cell_type": "code",
   "execution_count": null,
   "metadata": {},
   "outputs": [],
   "source": []
  },
  {
   "cell_type": "code",
   "execution_count": null,
   "metadata": {},
   "outputs": [],
   "source": []
  }
 ],
 "metadata": {
  "kernelspec": {
   "display_name": "Python 3",
   "language": "python",
   "name": "python3"
  },
  "language_info": {
   "codemirror_mode": {
    "name": "ipython",
    "version": 3
   },
   "file_extension": ".py",
   "mimetype": "text/x-python",
   "name": "python",
   "nbconvert_exporter": "python",
   "pygments_lexer": "ipython3",
   "version": "3.6.5"
  }
 },
 "nbformat": 4,
 "nbformat_minor": 2
}
