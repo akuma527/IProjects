{
 "cells": [
  {
   "cell_type": "code",
   "execution_count": 54,
   "metadata": {
    "ExecuteTime": {
     "end_time": "2020-01-20T17:40:19.125809Z",
     "start_time": "2020-01-20T17:39:56.262984Z"
    }
   },
   "outputs": [],
   "source": [
    "import pandas as pd \n",
    "import numpy as np \n",
    "import matplotlib.pyplot as plt\n",
    "import seaborn as sns \n",
    "%matplotlib inline"
   ]
  },
  {
   "cell_type": "code",
   "execution_count": 55,
   "metadata": {
    "ExecuteTime": {
     "end_time": "2020-01-20T18:03:26.786628Z",
     "start_time": "2020-01-20T18:03:26.702443Z"
    }
   },
   "outputs": [],
   "source": [
    "train = pd.read_csv('../data/v3/training_seg2.csv')\n",
    "test = pd.read_csv('../data/v3/test_seg2.csv')"
   ]
  },
  {
   "cell_type": "code",
   "execution_count": 56,
   "metadata": {
    "ExecuteTime": {
     "end_time": "2020-01-20T18:03:26.879638Z",
     "start_time": "2020-01-20T18:03:26.871643Z"
    }
   },
   "outputs": [
    {
     "data": {
      "text/plain": [
       "((12474, 14), (93, 14))"
      ]
     },
     "execution_count": 56,
     "metadata": {},
     "output_type": "execute_result"
    }
   ],
   "source": [
    "train.shape, test.shape"
   ]
  },
  {
   "cell_type": "code",
   "execution_count": 57,
   "metadata": {
    "ExecuteTime": {
     "end_time": "2020-01-20T18:03:27.081948Z",
     "start_time": "2020-01-20T18:03:27.049922Z"
    }
   },
   "outputs": [
    {
     "data": {
      "text/html": [
       "<div>\n",
       "<style scoped>\n",
       "    .dataframe tbody tr th:only-of-type {\n",
       "        vertical-align: middle;\n",
       "    }\n",
       "\n",
       "    .dataframe tbody tr th {\n",
       "        vertical-align: top;\n",
       "    }\n",
       "\n",
       "    .dataframe thead th {\n",
       "        text-align: right;\n",
       "    }\n",
       "</style>\n",
       "<table border=\"1\" class=\"dataframe\">\n",
       "  <thead>\n",
       "    <tr style=\"text-align: right;\">\n",
       "      <th></th>\n",
       "      <th>application_date</th>\n",
       "      <th>segment</th>\n",
       "      <th>case_count</th>\n",
       "      <th>day</th>\n",
       "      <th>year</th>\n",
       "      <th>month</th>\n",
       "      <th>Holiday</th>\n",
       "      <th>Type</th>\n",
       "      <th>cos_day</th>\n",
       "      <th>sin_day</th>\n",
       "      <th>cos_mon</th>\n",
       "      <th>sin_mon</th>\n",
       "      <th>day_of_week</th>\n",
       "      <th>week_num</th>\n",
       "    </tr>\n",
       "  </thead>\n",
       "  <tbody>\n",
       "    <tr>\n",
       "      <th>0</th>\n",
       "      <td>2017-04-01</td>\n",
       "      <td>2</td>\n",
       "      <td>0.0</td>\n",
       "      <td>1</td>\n",
       "      <td>2017</td>\n",
       "      <td>4</td>\n",
       "      <td>NaN</td>\n",
       "      <td>NaN</td>\n",
       "      <td>0.978148</td>\n",
       "      <td>0.207912</td>\n",
       "      <td>-0.5</td>\n",
       "      <td>0.866025</td>\n",
       "      <td>5</td>\n",
       "      <td>13</td>\n",
       "    </tr>\n",
       "    <tr>\n",
       "      <th>1</th>\n",
       "      <td>2017-04-02</td>\n",
       "      <td>2</td>\n",
       "      <td>0.0</td>\n",
       "      <td>2</td>\n",
       "      <td>2017</td>\n",
       "      <td>4</td>\n",
       "      <td>NaN</td>\n",
       "      <td>NaN</td>\n",
       "      <td>0.913545</td>\n",
       "      <td>0.406737</td>\n",
       "      <td>-0.5</td>\n",
       "      <td>0.866025</td>\n",
       "      <td>6</td>\n",
       "      <td>13</td>\n",
       "    </tr>\n",
       "    <tr>\n",
       "      <th>2</th>\n",
       "      <td>2017-04-03</td>\n",
       "      <td>2</td>\n",
       "      <td>0.0</td>\n",
       "      <td>3</td>\n",
       "      <td>2017</td>\n",
       "      <td>4</td>\n",
       "      <td>NaN</td>\n",
       "      <td>NaN</td>\n",
       "      <td>0.809017</td>\n",
       "      <td>0.587785</td>\n",
       "      <td>-0.5</td>\n",
       "      <td>0.866025</td>\n",
       "      <td>0</td>\n",
       "      <td>14</td>\n",
       "    </tr>\n",
       "    <tr>\n",
       "      <th>3</th>\n",
       "      <td>2017-04-04</td>\n",
       "      <td>2</td>\n",
       "      <td>0.0</td>\n",
       "      <td>4</td>\n",
       "      <td>2017</td>\n",
       "      <td>4</td>\n",
       "      <td>Rama Navami</td>\n",
       "      <td>G</td>\n",
       "      <td>0.669131</td>\n",
       "      <td>0.743145</td>\n",
       "      <td>-0.5</td>\n",
       "      <td>0.866025</td>\n",
       "      <td>1</td>\n",
       "      <td>14</td>\n",
       "    </tr>\n",
       "    <tr>\n",
       "      <th>4</th>\n",
       "      <td>2017-04-05</td>\n",
       "      <td>2</td>\n",
       "      <td>0.0</td>\n",
       "      <td>5</td>\n",
       "      <td>2017</td>\n",
       "      <td>4</td>\n",
       "      <td>NaN</td>\n",
       "      <td>NaN</td>\n",
       "      <td>0.500000</td>\n",
       "      <td>0.866025</td>\n",
       "      <td>-0.5</td>\n",
       "      <td>0.866025</td>\n",
       "      <td>2</td>\n",
       "      <td>14</td>\n",
       "    </tr>\n",
       "  </tbody>\n",
       "</table>\n",
       "</div>"
      ],
      "text/plain": [
       "  application_date  segment  case_count  day  year  month      Holiday Type  \\\n",
       "0       2017-04-01        2         0.0    1  2017      4          NaN  NaN   \n",
       "1       2017-04-02        2         0.0    2  2017      4          NaN  NaN   \n",
       "2       2017-04-03        2         0.0    3  2017      4          NaN  NaN   \n",
       "3       2017-04-04        2         0.0    4  2017      4  Rama Navami    G   \n",
       "4       2017-04-05        2         0.0    5  2017      4          NaN  NaN   \n",
       "\n",
       "    cos_day   sin_day  cos_mon   sin_mon  day_of_week  week_num  \n",
       "0  0.978148  0.207912     -0.5  0.866025            5        13  \n",
       "1  0.913545  0.406737     -0.5  0.866025            6        13  \n",
       "2  0.809017  0.587785     -0.5  0.866025            0        14  \n",
       "3  0.669131  0.743145     -0.5  0.866025            1        14  \n",
       "4  0.500000  0.866025     -0.5  0.866025            2        14  "
      ]
     },
     "execution_count": 57,
     "metadata": {},
     "output_type": "execute_result"
    }
   ],
   "source": [
    "train.head()"
   ]
  },
  {
   "cell_type": "code",
   "execution_count": 58,
   "metadata": {
    "ExecuteTime": {
     "end_time": "2020-01-20T18:03:27.225857Z",
     "start_time": "2020-01-20T18:03:27.201899Z"
    }
   },
   "outputs": [],
   "source": [
    "train['log_case'] = np.log1p(train['case_count'])"
   ]
  },
  {
   "cell_type": "markdown",
   "metadata": {},
   "source": [
    "# Feature Engineering"
   ]
  },
  {
   "cell_type": "code",
   "execution_count": 59,
   "metadata": {
    "ExecuteTime": {
     "end_time": "2020-01-20T18:03:27.546716Z",
     "start_time": "2020-01-20T18:03:27.526722Z"
    }
   },
   "outputs": [],
   "source": [
    "a1 = [0] + [i for i in train['log_case'].iloc[:-1].tolist()]\n",
    "a2 = [0] + [0] + [i for i in train['log_case'].iloc[:-2].tolist()]\n",
    "a3 = [0] + [0] + [0] + [i for i in train['log_case'].iloc[:-3].tolist()]\n",
    "a4 = [0] + [0] + [0] + [0] + [i for i in train['log_case'].iloc[:-4].tolist()]"
   ]
  },
  {
   "cell_type": "code",
   "execution_count": 60,
   "metadata": {
    "ExecuteTime": {
     "end_time": "2020-01-20T18:03:27.707607Z",
     "start_time": "2020-01-20T18:03:27.691612Z"
    }
   },
   "outputs": [],
   "source": [
    "train['case_count_prev'] = a1\n",
    "train['case_count_prev_2'] = a2\n",
    "train['case_count_prev_3'] = a3\n",
    "train['case_count_prev_4'] = a4"
   ]
  },
  {
   "cell_type": "markdown",
   "metadata": {},
   "source": [
    "# Modelling"
   ]
  },
  {
   "cell_type": "code",
   "execution_count": 61,
   "metadata": {
    "ExecuteTime": {
     "end_time": "2020-01-20T18:03:28.012539Z",
     "start_time": "2020-01-20T18:03:28.000578Z"
    }
   },
   "outputs": [],
   "source": [
    "train.Type.fillna(value=\"Nope\", inplace=True)\n",
    "test.Type.fillna(value=\"Nope\", inplace=True)"
   ]
  },
  {
   "cell_type": "code",
   "execution_count": 62,
   "metadata": {
    "ExecuteTime": {
     "end_time": "2020-01-20T18:03:28.172375Z",
     "start_time": "2020-01-20T18:03:28.164379Z"
    }
   },
   "outputs": [],
   "source": [
    "from sklearn.preprocessing import LabelEncoder, OneHotEncoder"
   ]
  },
  {
   "cell_type": "code",
   "execution_count": 63,
   "metadata": {
    "ExecuteTime": {
     "end_time": "2020-01-20T18:03:28.336350Z",
     "start_time": "2020-01-20T18:03:28.328352Z"
    }
   },
   "outputs": [],
   "source": [
    "la = LabelEncoder()\n",
    "on = OneHotEncoder()\n",
    "on2 = OneHotEncoder()"
   ]
  },
  {
   "cell_type": "code",
   "execution_count": 64,
   "metadata": {
    "ExecuteTime": {
     "end_time": "2020-01-20T18:03:28.502349Z",
     "start_time": "2020-01-20T18:03:28.490352Z"
    }
   },
   "outputs": [],
   "source": [
    "train['Type_Mat'] = la.fit_transform(train['Type'])"
   ]
  },
  {
   "cell_type": "code",
   "execution_count": 65,
   "metadata": {
    "ExecuteTime": {
     "end_time": "2020-01-20T18:03:28.680359Z",
     "start_time": "2020-01-20T18:03:28.656367Z"
    }
   },
   "outputs": [],
   "source": [
    "type_mat = on.fit_transform(train['Type_Mat'].values.reshape(-1,1))\n",
    "day_mat = on2.fit_transform(train['day_of_week'].values.reshape(-1,1))\n",
    "type_mat = type_mat.todense()\n",
    "day_mat = day_mat.todense()\n",
    "mat = np.append(type_mat, day_mat, axis=1)"
   ]
  },
  {
   "cell_type": "code",
   "execution_count": 66,
   "metadata": {
    "ExecuteTime": {
     "end_time": "2020-01-20T18:14:03.420297Z",
     "start_time": "2020-01-20T18:14:03.376340Z"
    }
   },
   "outputs": [],
   "source": [
    "mat = np.append(type_mat, day_mat, axis=1)\n",
    "mat = np.append(mat, train['day'].values.reshape(-1, 1), axis=1)\n",
    "mat = np.append(mat, train['week_num'].values.reshape(-1, 1), axis=1)\n",
    "mat = np.append(mat, train['month'].values.reshape(-1, 1), axis=1)\n",
    "mat = np.append(mat, train['year'].values.reshape(-1, 1), axis=1)\n",
    "mat = np.append(mat, train['sin_mon'].values.reshape(-1, 1), axis=1)\n",
    "mat = np.append(mat, train['cos_mon'].values.reshape(-1, 1), axis=1)\n",
    "mat = np.append(mat, train['sin_day'].values.reshape(-1, 1), axis=1)\n",
    "mat = np.append(mat, train['cos_day'].values.reshape(-1, 1), axis=1)\n",
    "mat = np.append(mat, train['case_count_prev'].values.reshape(-1, 1), axis=1)\n",
    "mat = np.append(mat, train['case_count_prev_2'].values.reshape(-1, 1), axis=1)\n",
    "mat = np.append(mat, train['case_count_prev_3'].values.reshape(-1, 1), axis=1)\n",
    "mat = np.append(mat, train['case_count_prev_4'].values.reshape(-1, 1), axis=1)"
   ]
  },
  {
   "cell_type": "code",
   "execution_count": 67,
   "metadata": {
    "ExecuteTime": {
     "end_time": "2020-01-20T18:14:03.975148Z",
     "start_time": "2020-01-20T18:14:03.967151Z"
    }
   },
   "outputs": [
    {
     "data": {
      "text/plain": [
       "(12474, 26)"
      ]
     },
     "execution_count": 67,
     "metadata": {},
     "output_type": "execute_result"
    }
   ],
   "source": [
    "mat.shape"
   ]
  },
  {
   "cell_type": "code",
   "execution_count": 68,
   "metadata": {
    "ExecuteTime": {
     "end_time": "2020-01-20T18:14:04.846294Z",
     "start_time": "2020-01-20T18:14:04.838256Z"
    }
   },
   "outputs": [],
   "source": [
    "from sklearn.neighbors import KNeighborsRegressor\n",
    "from sklearn.ensemble import RandomForestRegressor, ExtraTreesRegressor\n",
    "from sklearn.model_selection import train_test_split\n",
    "from sklearn.metrics import mean_absolute_error\n",
    "import lightgbm as lgb\n",
    "import xgboost\n",
    "from xgboost import XGBRegressor"
   ]
  },
  {
   "cell_type": "code",
   "execution_count": 69,
   "metadata": {
    "ExecuteTime": {
     "end_time": "2020-01-20T18:37:11.716121Z",
     "start_time": "2020-01-20T18:37:11.708124Z"
    }
   },
   "outputs": [],
   "source": [
    "def instantiate_models():\n",
    "    rf = RandomForestRegressor(n_estimators=100)\n",
    "    et = ExtraTreesRegressor(n_estimators=100)\n",
    "    knn = KNeighborsRegressor()\n",
    "    LGB = lgb.LGBMRegressor()\n",
    "    xgb = XGBRegressor()\n",
    "    return rf, knn, et, LGB, xgb"
   ]
  },
  {
   "cell_type": "code",
   "execution_count": 70,
   "metadata": {
    "ExecuteTime": {
     "end_time": "2020-01-20T18:37:23.803366Z",
     "start_time": "2020-01-20T18:37:14.872978Z"
    }
   },
   "outputs": [],
   "source": [
    "def training(X_train, y_train, models):\n",
    "    rf, et, knn, LGB, xgb = models\n",
    "    LGB.fit(X_train, y_train)\n",
    "    et.fit(X_train, y_train)\n",
    "    knn.fit(X_train, y_train)\n",
    "    rf.fit(X_train, y_train)\n",
    "    xgb.fit(X_train, y_train)\n",
    "    return  rf, et, knn, LGB, xgb"
   ]
  },
  {
   "cell_type": "code",
   "execution_count": 71,
   "metadata": {
    "ExecuteTime": {
     "end_time": "2020-01-20T18:37:23.979329Z",
     "start_time": "2020-01-20T18:37:23.803366Z"
    }
   },
   "outputs": [],
   "source": [
    "def predict(X_test, models):\n",
    "    rf, et, knn, LGB, xgb = models\n",
    "    lgb_pred = abs(np.round(np.expm1(LGB.predict(X_test))))\n",
    "    xgb_pred = abs(np.round(np.expm1(xgb.predict(X_test))))\n",
    "    rf_pred = abs(np.round(np.expm1(rf.predict(X_test))))\n",
    "    et_pred = abs(np.round(np.expm1(et.predict(X_test))))\n",
    "    knn_pred = abs(np.round(np.expm1(knn.predict(X_test))))\n",
    "    return lgb_pred, xgb_pred, rf_pred, et_pred, knn_pred"
   ]
  },
  {
   "cell_type": "code",
   "execution_count": 72,
   "metadata": {
    "ExecuteTime": {
     "end_time": "2020-01-20T18:37:25.907879Z",
     "start_time": "2020-01-20T18:37:25.891918Z"
    }
   },
   "outputs": [],
   "source": [
    "def MAPE(y_test, predictions):\n",
    "    lgb_pred, xgb_pred, rf_pred, et_pred, knn_pred = predictions\n",
    "    return [mean_absolute_error(np.expm1(y_test), lgb_pred) * (100/len(y_test)),\n",
    "            mean_absolute_error(np.expm1(y_test), xgb_pred) * (100/len(y_test)),\n",
    "            mean_absolute_error(np.expm1(y_test), rf_pred) * (100/len(y_test)),\n",
    "            mean_absolute_error(np.expm1(y_test), et_pred) * (100/len(y_test)),\n",
    "            mean_absolute_error(np.expm1(y_test), knn_pred) * (100/len(y_test)),\n",
    "           ]\n",
    "    "
   ]
  },
  {
   "cell_type": "code",
   "execution_count": 73,
   "metadata": {
    "ExecuteTime": {
     "end_time": "2020-01-20T18:21:32.126544Z",
     "start_time": "2020-01-20T18:21:32.009972Z"
    }
   },
   "outputs": [],
   "source": [
    "def export_csv(y_test, prediction, train, seed):\n",
    "    lgb_pred, xgb_pred, rf_pred, et_pred, knn_pred = prediction\n",
    "    xtest = train.iloc[y_test.index].reset_index(drop=True)\n",
    "    xtest['log_case'] = y_test.values\n",
    "    xtest['lgb_pred'] = lgb_pred\n",
    "    xtest['xgb_pred'] = xgb_pred\n",
    "    xtest['knn_pred'] = knn_pred\n",
    "    xtest['et_pred'] = et_pred\n",
    "    xtest['rf_pred'] = rf_pred\n",
    "    xtest[['log_case', 'case_count_prev', 'case_count_prev_2',\n",
    "       'case_count_prev_3', 'case_count_prev_4', \n",
    "       'knn_pred', 'et_pred', 'rf_pred', 'lgb_pred', 'xgb_pred', 'case_count']].to_csv(f'stack_v{seed}.csv')"
   ]
  },
  {
   "cell_type": "code",
   "execution_count": 74,
   "metadata": {},
   "outputs": [
    {
     "name": "stderr",
     "output_type": "stream",
     "text": [
      "c:\\programs files\\python\\python36\\lib\\site-packages\\xgboost\\core.py:587: FutureWarning: Series.base is deprecated and will be removed in a future version\n",
      "  if getattr(data, 'base', None) is not None and \\\n",
      "c:\\programs files\\python\\python36\\lib\\site-packages\\xgboost\\core.py:587: FutureWarning: Series.base is deprecated and will be removed in a future version\n",
      "  if getattr(data, 'base', None) is not None and \\\n",
      "c:\\programs files\\python\\python36\\lib\\site-packages\\xgboost\\core.py:587: FutureWarning: Series.base is deprecated and will be removed in a future version\n",
      "  if getattr(data, 'base', None) is not None and \\\n",
      "c:\\programs files\\python\\python36\\lib\\site-packages\\xgboost\\core.py:587: FutureWarning: Series.base is deprecated and will be removed in a future version\n",
      "  if getattr(data, 'base', None) is not None and \\\n",
      "c:\\programs files\\python\\python36\\lib\\site-packages\\xgboost\\core.py:587: FutureWarning: Series.base is deprecated and will be removed in a future version\n",
      "  if getattr(data, 'base', None) is not None and \\\n",
      "c:\\programs files\\python\\python36\\lib\\site-packages\\xgboost\\core.py:587: FutureWarning: Series.base is deprecated and will be removed in a future version\n",
      "  if getattr(data, 'base', None) is not None and \\\n",
      "c:\\programs files\\python\\python36\\lib\\site-packages\\xgboost\\core.py:587: FutureWarning: Series.base is deprecated and will be removed in a future version\n",
      "  if getattr(data, 'base', None) is not None and \\\n",
      "c:\\programs files\\python\\python36\\lib\\site-packages\\xgboost\\core.py:587: FutureWarning: Series.base is deprecated and will be removed in a future version\n",
      "  if getattr(data, 'base', None) is not None and \\\n",
      "c:\\programs files\\python\\python36\\lib\\site-packages\\xgboost\\core.py:587: FutureWarning: Series.base is deprecated and will be removed in a future version\n",
      "  if getattr(data, 'base', None) is not None and \\\n",
      "c:\\programs files\\python\\python36\\lib\\site-packages\\xgboost\\core.py:587: FutureWarning: Series.base is deprecated and will be removed in a future version\n",
      "  if getattr(data, 'base', None) is not None and \\\n"
     ]
    }
   ],
   "source": [
    "for seed in range(10):\n",
    "    X_train, X_test, y_train, y_test = train_test_split(mat, train['log_case'], test_size=0.3, random_state=seed)\n",
    "    inst_models = instantiate_models()\n",
    "    trained_models = training(X_train, y_train, inst_models)\n",
    "    prediction =  predict(X_test, trained_models)\n",
    "    err = MAPE(y_test, prediction)\n",
    "    export_csv(y_test, prediction, train, seed)"
   ]
  },
  {
   "cell_type": "code",
   "execution_count": 75,
   "metadata": {
    "ExecuteTime": {
     "end_time": "2020-01-20T18:21:32.346321Z",
     "start_time": "2020-01-20T18:21:32.126544Z"
    }
   },
   "outputs": [
    {
     "data": {
      "text/plain": [
       "[3.3072974976747047,\n",
       " 3.4975966179704296,\n",
       " 3.442728858407276,\n",
       " 4.691760892485101,\n",
       " 3.4331857083440607]"
      ]
     },
     "execution_count": 75,
     "metadata": {},
     "output_type": "execute_result"
    }
   ],
   "source": [
    "err"
   ]
  },
  {
   "cell_type": "markdown",
   "metadata": {},
   "source": [
    "# Loading Stacked Data"
   ]
  },
  {
   "cell_type": "code",
   "execution_count": 76,
   "metadata": {
    "ExecuteTime": {
     "end_time": "2020-01-20T18:23:59.447338Z",
     "start_time": "2020-01-20T18:23:59.215067Z"
    }
   },
   "outputs": [],
   "source": [
    "pk = []\n",
    "for i in range(10):\n",
    "    pk.append(pd.read_csv(f'stack_v{i}.csv'))"
   ]
  },
  {
   "cell_type": "code",
   "execution_count": 77,
   "metadata": {
    "ExecuteTime": {
     "end_time": "2020-01-20T18:24:19.137555Z",
     "start_time": "2020-01-20T18:24:19.125557Z"
    }
   },
   "outputs": [],
   "source": [
    "df = pd.concat(pk, ignore_index=True, sort=False)\n",
    "df.drop(columns='Unnamed: 0', inplace=True)"
   ]
  },
  {
   "cell_type": "code",
   "execution_count": 78,
   "metadata": {
    "ExecuteTime": {
     "end_time": "2020-01-20T18:29:28.712605Z",
     "start_time": "2020-01-20T18:29:28.688611Z"
    }
   },
   "outputs": [
    {
     "data": {
      "text/html": [
       "<div>\n",
       "<style scoped>\n",
       "    .dataframe tbody tr th:only-of-type {\n",
       "        vertical-align: middle;\n",
       "    }\n",
       "\n",
       "    .dataframe tbody tr th {\n",
       "        vertical-align: top;\n",
       "    }\n",
       "\n",
       "    .dataframe thead th {\n",
       "        text-align: right;\n",
       "    }\n",
       "</style>\n",
       "<table border=\"1\" class=\"dataframe\">\n",
       "  <thead>\n",
       "    <tr style=\"text-align: right;\">\n",
       "      <th></th>\n",
       "      <th>log_case</th>\n",
       "      <th>case_count_prev</th>\n",
       "      <th>case_count_prev_2</th>\n",
       "      <th>case_count_prev_3</th>\n",
       "      <th>case_count_prev_4</th>\n",
       "      <th>knn_pred</th>\n",
       "      <th>et_pred</th>\n",
       "      <th>rf_pred</th>\n",
       "      <th>lgb_pred</th>\n",
       "      <th>xgb_pred</th>\n",
       "      <th>case_count</th>\n",
       "    </tr>\n",
       "  </thead>\n",
       "  <tbody>\n",
       "    <tr>\n",
       "      <th>0</th>\n",
       "      <td>6.232448</td>\n",
       "      <td>6.059123</td>\n",
       "      <td>6.042633</td>\n",
       "      <td>5.638355</td>\n",
       "      <td>6.095825</td>\n",
       "      <td>400.0</td>\n",
       "      <td>507.0</td>\n",
       "      <td>387.0</td>\n",
       "      <td>458.0</td>\n",
       "      <td>458.0</td>\n",
       "      <td>508.0</td>\n",
       "    </tr>\n",
       "    <tr>\n",
       "      <th>1</th>\n",
       "      <td>6.280396</td>\n",
       "      <td>5.247024</td>\n",
       "      <td>6.306275</td>\n",
       "      <td>6.357842</td>\n",
       "      <td>6.539586</td>\n",
       "      <td>377.0</td>\n",
       "      <td>478.0</td>\n",
       "      <td>362.0</td>\n",
       "      <td>329.0</td>\n",
       "      <td>301.0</td>\n",
       "      <td>533.0</td>\n",
       "    </tr>\n",
       "    <tr>\n",
       "      <th>2</th>\n",
       "      <td>4.077537</td>\n",
       "      <td>4.394449</td>\n",
       "      <td>2.302585</td>\n",
       "      <td>2.302585</td>\n",
       "      <td>1.609438</td>\n",
       "      <td>84.0</td>\n",
       "      <td>32.0</td>\n",
       "      <td>76.0</td>\n",
       "      <td>59.0</td>\n",
       "      <td>70.0</td>\n",
       "      <td>58.0</td>\n",
       "    </tr>\n",
       "    <tr>\n",
       "      <th>3</th>\n",
       "      <td>7.113956</td>\n",
       "      <td>7.201171</td>\n",
       "      <td>7.561642</td>\n",
       "      <td>5.680173</td>\n",
       "      <td>6.948897</td>\n",
       "      <td>1561.0</td>\n",
       "      <td>923.0</td>\n",
       "      <td>1419.0</td>\n",
       "      <td>1387.0</td>\n",
       "      <td>1301.0</td>\n",
       "      <td>1228.0</td>\n",
       "    </tr>\n",
       "    <tr>\n",
       "      <th>4</th>\n",
       "      <td>4.418841</td>\n",
       "      <td>4.912655</td>\n",
       "      <td>5.375278</td>\n",
       "      <td>5.648974</td>\n",
       "      <td>5.568345</td>\n",
       "      <td>153.0</td>\n",
       "      <td>184.0</td>\n",
       "      <td>141.0</td>\n",
       "      <td>129.0</td>\n",
       "      <td>128.0</td>\n",
       "      <td>82.0</td>\n",
       "    </tr>\n",
       "  </tbody>\n",
       "</table>\n",
       "</div>"
      ],
      "text/plain": [
       "   log_case  case_count_prev  case_count_prev_2  case_count_prev_3  \\\n",
       "0  6.232448         6.059123           6.042633           5.638355   \n",
       "1  6.280396         5.247024           6.306275           6.357842   \n",
       "2  4.077537         4.394449           2.302585           2.302585   \n",
       "3  7.113956         7.201171           7.561642           5.680173   \n",
       "4  4.418841         4.912655           5.375278           5.648974   \n",
       "\n",
       "   case_count_prev_4  knn_pred  et_pred  rf_pred  lgb_pred  xgb_pred  \\\n",
       "0           6.095825     400.0    507.0    387.0     458.0     458.0   \n",
       "1           6.539586     377.0    478.0    362.0     329.0     301.0   \n",
       "2           1.609438      84.0     32.0     76.0      59.0      70.0   \n",
       "3           6.948897    1561.0    923.0   1419.0    1387.0    1301.0   \n",
       "4           5.568345     153.0    184.0    141.0     129.0     128.0   \n",
       "\n",
       "   case_count  \n",
       "0       508.0  \n",
       "1       533.0  \n",
       "2        58.0  \n",
       "3      1228.0  \n",
       "4        82.0  "
      ]
     },
     "execution_count": 78,
     "metadata": {},
     "output_type": "execute_result"
    }
   ],
   "source": [
    "df.head()"
   ]
  },
  {
   "cell_type": "code",
   "execution_count": 79,
   "metadata": {
    "ExecuteTime": {
     "end_time": "2020-01-20T18:29:31.828957Z",
     "start_time": "2020-01-20T18:29:31.784932Z"
    }
   },
   "outputs": [
    {
     "data": {
      "text/html": [
       "<div>\n",
       "<style scoped>\n",
       "    .dataframe tbody tr th:only-of-type {\n",
       "        vertical-align: middle;\n",
       "    }\n",
       "\n",
       "    .dataframe tbody tr th {\n",
       "        vertical-align: top;\n",
       "    }\n",
       "\n",
       "    .dataframe thead th {\n",
       "        text-align: right;\n",
       "    }\n",
       "</style>\n",
       "<table border=\"1\" class=\"dataframe\">\n",
       "  <thead>\n",
       "    <tr style=\"text-align: right;\">\n",
       "      <th></th>\n",
       "      <th>log_case</th>\n",
       "      <th>case_count_prev</th>\n",
       "      <th>case_count_prev_2</th>\n",
       "      <th>case_count_prev_3</th>\n",
       "      <th>case_count_prev_4</th>\n",
       "      <th>knn_pred</th>\n",
       "      <th>et_pred</th>\n",
       "      <th>rf_pred</th>\n",
       "      <th>lgb_pred</th>\n",
       "      <th>xgb_pred</th>\n",
       "      <th>case_count</th>\n",
       "    </tr>\n",
       "  </thead>\n",
       "  <tbody>\n",
       "    <tr>\n",
       "      <th>log_case</th>\n",
       "      <td>1.000000</td>\n",
       "      <td>0.966637</td>\n",
       "      <td>0.942833</td>\n",
       "      <td>0.924051</td>\n",
       "      <td>0.906837</td>\n",
       "      <td>0.696521</td>\n",
       "      <td>0.728457</td>\n",
       "      <td>0.696026</td>\n",
       "      <td>0.702251</td>\n",
       "      <td>0.700502</td>\n",
       "      <td>0.704678</td>\n",
       "    </tr>\n",
       "    <tr>\n",
       "      <th>case_count_prev</th>\n",
       "      <td>0.966637</td>\n",
       "      <td>1.000000</td>\n",
       "      <td>0.966652</td>\n",
       "      <td>0.944168</td>\n",
       "      <td>0.923503</td>\n",
       "      <td>0.698670</td>\n",
       "      <td>0.722563</td>\n",
       "      <td>0.701541</td>\n",
       "      <td>0.703896</td>\n",
       "      <td>0.709770</td>\n",
       "      <td>0.668099</td>\n",
       "    </tr>\n",
       "    <tr>\n",
       "      <th>case_count_prev_2</th>\n",
       "      <td>0.942833</td>\n",
       "      <td>0.966652</td>\n",
       "      <td>1.000000</td>\n",
       "      <td>0.966735</td>\n",
       "      <td>0.941801</td>\n",
       "      <td>0.667634</td>\n",
       "      <td>0.706440</td>\n",
       "      <td>0.669879</td>\n",
       "      <td>0.671792</td>\n",
       "      <td>0.675827</td>\n",
       "      <td>0.640385</td>\n",
       "    </tr>\n",
       "    <tr>\n",
       "      <th>case_count_prev_3</th>\n",
       "      <td>0.924051</td>\n",
       "      <td>0.944168</td>\n",
       "      <td>0.966735</td>\n",
       "      <td>1.000000</td>\n",
       "      <td>0.966110</td>\n",
       "      <td>0.639242</td>\n",
       "      <td>0.685233</td>\n",
       "      <td>0.639766</td>\n",
       "      <td>0.642716</td>\n",
       "      <td>0.646467</td>\n",
       "      <td>0.613681</td>\n",
       "    </tr>\n",
       "    <tr>\n",
       "      <th>case_count_prev_4</th>\n",
       "      <td>0.906837</td>\n",
       "      <td>0.923503</td>\n",
       "      <td>0.941801</td>\n",
       "      <td>0.966110</td>\n",
       "      <td>1.000000</td>\n",
       "      <td>0.612399</td>\n",
       "      <td>0.660474</td>\n",
       "      <td>0.613602</td>\n",
       "      <td>0.617484</td>\n",
       "      <td>0.620504</td>\n",
       "      <td>0.591582</td>\n",
       "    </tr>\n",
       "    <tr>\n",
       "      <th>knn_pred</th>\n",
       "      <td>0.696521</td>\n",
       "      <td>0.698670</td>\n",
       "      <td>0.667634</td>\n",
       "      <td>0.639242</td>\n",
       "      <td>0.612399</td>\n",
       "      <td>1.000000</td>\n",
       "      <td>0.913091</td>\n",
       "      <td>0.990830</td>\n",
       "      <td>0.985128</td>\n",
       "      <td>0.980433</td>\n",
       "      <td>0.924328</td>\n",
       "    </tr>\n",
       "    <tr>\n",
       "      <th>et_pred</th>\n",
       "      <td>0.728457</td>\n",
       "      <td>0.722563</td>\n",
       "      <td>0.706440</td>\n",
       "      <td>0.685233</td>\n",
       "      <td>0.660474</td>\n",
       "      <td>0.913091</td>\n",
       "      <td>1.000000</td>\n",
       "      <td>0.906274</td>\n",
       "      <td>0.913785</td>\n",
       "      <td>0.910472</td>\n",
       "      <td>0.862560</td>\n",
       "    </tr>\n",
       "    <tr>\n",
       "      <th>rf_pred</th>\n",
       "      <td>0.696026</td>\n",
       "      <td>0.701541</td>\n",
       "      <td>0.669879</td>\n",
       "      <td>0.639766</td>\n",
       "      <td>0.613602</td>\n",
       "      <td>0.990830</td>\n",
       "      <td>0.906274</td>\n",
       "      <td>1.000000</td>\n",
       "      <td>0.986740</td>\n",
       "      <td>0.984148</td>\n",
       "      <td>0.923554</td>\n",
       "    </tr>\n",
       "    <tr>\n",
       "      <th>lgb_pred</th>\n",
       "      <td>0.702251</td>\n",
       "      <td>0.703896</td>\n",
       "      <td>0.671792</td>\n",
       "      <td>0.642716</td>\n",
       "      <td>0.617484</td>\n",
       "      <td>0.985128</td>\n",
       "      <td>0.913785</td>\n",
       "      <td>0.986740</td>\n",
       "      <td>1.000000</td>\n",
       "      <td>0.988846</td>\n",
       "      <td>0.931099</td>\n",
       "    </tr>\n",
       "    <tr>\n",
       "      <th>xgb_pred</th>\n",
       "      <td>0.700502</td>\n",
       "      <td>0.709770</td>\n",
       "      <td>0.675827</td>\n",
       "      <td>0.646467</td>\n",
       "      <td>0.620504</td>\n",
       "      <td>0.980433</td>\n",
       "      <td>0.910472</td>\n",
       "      <td>0.984148</td>\n",
       "      <td>0.988846</td>\n",
       "      <td>1.000000</td>\n",
       "      <td>0.921821</td>\n",
       "    </tr>\n",
       "    <tr>\n",
       "      <th>case_count</th>\n",
       "      <td>0.704678</td>\n",
       "      <td>0.668099</td>\n",
       "      <td>0.640385</td>\n",
       "      <td>0.613681</td>\n",
       "      <td>0.591582</td>\n",
       "      <td>0.924328</td>\n",
       "      <td>0.862560</td>\n",
       "      <td>0.923554</td>\n",
       "      <td>0.931099</td>\n",
       "      <td>0.921821</td>\n",
       "      <td>1.000000</td>\n",
       "    </tr>\n",
       "  </tbody>\n",
       "</table>\n",
       "</div>"
      ],
      "text/plain": [
       "                   log_case  case_count_prev  case_count_prev_2  \\\n",
       "log_case           1.000000         0.966637           0.942833   \n",
       "case_count_prev    0.966637         1.000000           0.966652   \n",
       "case_count_prev_2  0.942833         0.966652           1.000000   \n",
       "case_count_prev_3  0.924051         0.944168           0.966735   \n",
       "case_count_prev_4  0.906837         0.923503           0.941801   \n",
       "knn_pred           0.696521         0.698670           0.667634   \n",
       "et_pred            0.728457         0.722563           0.706440   \n",
       "rf_pred            0.696026         0.701541           0.669879   \n",
       "lgb_pred           0.702251         0.703896           0.671792   \n",
       "xgb_pred           0.700502         0.709770           0.675827   \n",
       "case_count         0.704678         0.668099           0.640385   \n",
       "\n",
       "                   case_count_prev_3  case_count_prev_4  knn_pred   et_pred  \\\n",
       "log_case                    0.924051           0.906837  0.696521  0.728457   \n",
       "case_count_prev             0.944168           0.923503  0.698670  0.722563   \n",
       "case_count_prev_2           0.966735           0.941801  0.667634  0.706440   \n",
       "case_count_prev_3           1.000000           0.966110  0.639242  0.685233   \n",
       "case_count_prev_4           0.966110           1.000000  0.612399  0.660474   \n",
       "knn_pred                    0.639242           0.612399  1.000000  0.913091   \n",
       "et_pred                     0.685233           0.660474  0.913091  1.000000   \n",
       "rf_pred                     0.639766           0.613602  0.990830  0.906274   \n",
       "lgb_pred                    0.642716           0.617484  0.985128  0.913785   \n",
       "xgb_pred                    0.646467           0.620504  0.980433  0.910472   \n",
       "case_count                  0.613681           0.591582  0.924328  0.862560   \n",
       "\n",
       "                    rf_pred  lgb_pred  xgb_pred  case_count  \n",
       "log_case           0.696026  0.702251  0.700502    0.704678  \n",
       "case_count_prev    0.701541  0.703896  0.709770    0.668099  \n",
       "case_count_prev_2  0.669879  0.671792  0.675827    0.640385  \n",
       "case_count_prev_3  0.639766  0.642716  0.646467    0.613681  \n",
       "case_count_prev_4  0.613602  0.617484  0.620504    0.591582  \n",
       "knn_pred           0.990830  0.985128  0.980433    0.924328  \n",
       "et_pred            0.906274  0.913785  0.910472    0.862560  \n",
       "rf_pred            1.000000  0.986740  0.984148    0.923554  \n",
       "lgb_pred           0.986740  1.000000  0.988846    0.931099  \n",
       "xgb_pred           0.984148  0.988846  1.000000    0.921821  \n",
       "case_count         0.923554  0.931099  0.921821    1.000000  "
      ]
     },
     "execution_count": 79,
     "metadata": {},
     "output_type": "execute_result"
    }
   ],
   "source": [
    "df.corr()"
   ]
  },
  {
   "cell_type": "code",
   "execution_count": 80,
   "metadata": {
    "ExecuteTime": {
     "end_time": "2020-01-20T18:34:22.325886Z",
     "start_time": "2020-01-20T18:34:22.309863Z"
    }
   },
   "outputs": [],
   "source": [
    "training = df[['log_case', 'case_count_prev', 'case_count_prev_2', 'case_count_prev_3',\n",
    "               'case_count_prev_4', 'knn_pred', 'et_pred', 'rf_pred', 'lgb_pred',\n",
    "               'xgb_pred']]\n",
    "label = df['case_count']"
   ]
  },
  {
   "cell_type": "code",
   "execution_count": 81,
   "metadata": {
    "ExecuteTime": {
     "end_time": "2020-01-20T18:34:22.818897Z",
     "start_time": "2020-01-20T18:34:22.802895Z"
    }
   },
   "outputs": [],
   "source": [
    "X_train, X_test, y_train, y_test = train_test_split(training, label, test_size=0.3, random_state=42)"
   ]
  },
  {
   "cell_type": "code",
   "execution_count": 82,
   "metadata": {
    "ExecuteTime": {
     "end_time": "2020-01-20T18:34:23.404619Z",
     "start_time": "2020-01-20T18:34:23.396620Z"
    }
   },
   "outputs": [],
   "source": [
    "rfs = RandomForestRegressor(n_estimators=100)"
   ]
  },
  {
   "cell_type": "code",
   "execution_count": 83,
   "metadata": {
    "ExecuteTime": {
     "end_time": "2020-01-20T18:34:34.780077Z",
     "start_time": "2020-01-20T18:34:23.870902Z"
    }
   },
   "outputs": [
    {
     "data": {
      "text/plain": [
       "RandomForestRegressor(bootstrap=True, criterion='mse', max_depth=None,\n",
       "           max_features='auto', max_leaf_nodes=None,\n",
       "           min_impurity_decrease=0.0, min_impurity_split=None,\n",
       "           min_samples_leaf=1, min_samples_split=2,\n",
       "           min_weight_fraction_leaf=0.0, n_estimators=100, n_jobs=1,\n",
       "           oob_score=False, random_state=None, verbose=0, warm_start=False)"
      ]
     },
     "execution_count": 83,
     "metadata": {},
     "output_type": "execute_result"
    }
   ],
   "source": [
    "rfs.fit(X_train, y_train)"
   ]
  },
  {
   "cell_type": "code",
   "execution_count": 84,
   "metadata": {
    "ExecuteTime": {
     "end_time": "2020-01-20T18:34:41.455476Z",
     "start_time": "2020-01-20T18:34:41.279495Z"
    }
   },
   "outputs": [],
   "source": [
    "pred = rfs.predict(X_test)"
   ]
  },
  {
   "cell_type": "code",
   "execution_count": 85,
   "metadata": {
    "ExecuteTime": {
     "end_time": "2020-01-20T18:34:46.305634Z",
     "start_time": "2020-01-20T18:34:46.297602Z"
    }
   },
   "outputs": [],
   "source": [
    "xtest = X_test.loc[y_test.index].reset_index(drop=True)"
   ]
  },
  {
   "cell_type": "code",
   "execution_count": 86,
   "metadata": {
    "ExecuteTime": {
     "end_time": "2020-01-20T18:35:15.803813Z",
     "start_time": "2020-01-20T18:35:15.795849Z"
    }
   },
   "outputs": [
    {
     "data": {
      "text/plain": [
       "0.0003515730427177913"
      ]
     },
     "execution_count": 86,
     "metadata": {},
     "output_type": "execute_result"
    }
   ],
   "source": [
    "mean_absolute_error(y_test, pred) * (100/len(y_test))"
   ]
  },
  {
   "cell_type": "code",
   "execution_count": null,
   "metadata": {},
   "outputs": [],
   "source": []
  },
  {
   "cell_type": "markdown",
   "metadata": {},
   "source": [
    "# Testing"
   ]
  },
  {
   "cell_type": "code",
   "execution_count": 87,
   "metadata": {
    "ExecuteTime": {
     "end_time": "2020-01-20T18:37:37.430142Z",
     "start_time": "2020-01-20T18:37:37.418110Z"
    }
   },
   "outputs": [],
   "source": [
    "test['Type_Mat'] = la.fit_transform(test['Type'])\n",
    "type_mat_test = on.transform(test['Type_Mat'].values.reshape(-1,1))\n",
    "day_mat_test = on2.transform(test['day_of_week'].values.reshape(-1,1))\n",
    "type_mat_test = type_mat_test.todense()\n",
    "day_mat_test = day_mat_test.todense()\n",
    "mat_test = np.append(type_mat_test, day_mat_test, axis=1)"
   ]
  },
  {
   "cell_type": "code",
   "execution_count": 88,
   "metadata": {
    "ExecuteTime": {
     "end_time": "2020-01-20T18:37:41.784349Z",
     "start_time": "2020-01-20T18:37:41.772350Z"
    }
   },
   "outputs": [],
   "source": [
    "mat_test = np.append(mat_test, test['day'].values.reshape(-1, 1), axis=1)\n",
    "mat_test = np.append(mat_test, test['week_num'].values.reshape(-1, 1), axis=1)\n",
    "mat_test = np.append(mat_test, test['month'].values.reshape(-1, 1), axis=1)\n",
    "mat_test = np.append(mat_test, test['year'].values.reshape(-1, 1), axis=1)\n",
    "mat_test = np.append(mat_test, test['sin_mon'].values.reshape(-1, 1), axis=1)\n",
    "mat_test = np.append(mat_test, test['cos_mon'].values.reshape(-1, 1), axis=1)\n",
    "mat_test = np.append(mat_test, test['sin_day'].values.reshape(-1, 1), axis=1)\n",
    "mat_test = np.append(mat_test, test['cos_day'].values.reshape(-1, 1), axis=1)"
   ]
  },
  {
   "cell_type": "code",
   "execution_count": 89,
   "metadata": {
    "ExecuteTime": {
     "end_time": "2020-01-20T18:37:42.336614Z",
     "start_time": "2020-01-20T18:37:42.328614Z"
    }
   },
   "outputs": [
    {
     "data": {
      "text/plain": [
       "((12474, 26), (93, 22))"
      ]
     },
     "execution_count": 89,
     "metadata": {},
     "output_type": "execute_result"
    }
   ],
   "source": [
    "mat.shape, mat_test.shape"
   ]
  },
  {
   "cell_type": "code",
   "execution_count": 90,
   "metadata": {},
   "outputs": [
    {
     "data": {
      "text/html": [
       "<div>\n",
       "<style scoped>\n",
       "    .dataframe tbody tr th:only-of-type {\n",
       "        vertical-align: middle;\n",
       "    }\n",
       "\n",
       "    .dataframe tbody tr th {\n",
       "        vertical-align: top;\n",
       "    }\n",
       "\n",
       "    .dataframe thead th {\n",
       "        text-align: right;\n",
       "    }\n",
       "</style>\n",
       "<table border=\"1\" class=\"dataframe\">\n",
       "  <thead>\n",
       "    <tr style=\"text-align: right;\">\n",
       "      <th></th>\n",
       "      <th>application_date</th>\n",
       "      <th>segment</th>\n",
       "      <th>case_count</th>\n",
       "      <th>day</th>\n",
       "      <th>year</th>\n",
       "      <th>month</th>\n",
       "      <th>Holiday</th>\n",
       "      <th>Type</th>\n",
       "      <th>cos_day</th>\n",
       "      <th>sin_day</th>\n",
       "      <th>cos_mon</th>\n",
       "      <th>sin_mon</th>\n",
       "      <th>day_of_week</th>\n",
       "      <th>week_num</th>\n",
       "      <th>log_case</th>\n",
       "      <th>case_count_prev</th>\n",
       "      <th>case_count_prev_2</th>\n",
       "      <th>case_count_prev_3</th>\n",
       "      <th>case_count_prev_4</th>\n",
       "      <th>Type_Mat</th>\n",
       "    </tr>\n",
       "  </thead>\n",
       "  <tbody>\n",
       "    <tr>\n",
       "      <th>12469</th>\n",
       "      <td>2019-07-19</td>\n",
       "      <td>2</td>\n",
       "      <td>1886.0</td>\n",
       "      <td>19</td>\n",
       "      <td>2019</td>\n",
       "      <td>7</td>\n",
       "      <td>NaN</td>\n",
       "      <td>Nope</td>\n",
       "      <td>-0.758758</td>\n",
       "      <td>-0.651372</td>\n",
       "      <td>-0.866025</td>\n",
       "      <td>-0.5</td>\n",
       "      <td>4</td>\n",
       "      <td>29</td>\n",
       "      <td>7.542744</td>\n",
       "      <td>7.786967</td>\n",
       "      <td>7.698936</td>\n",
       "      <td>6.779922</td>\n",
       "      <td>7.337588</td>\n",
       "      <td>3</td>\n",
       "    </tr>\n",
       "    <tr>\n",
       "      <th>12470</th>\n",
       "      <td>2019-07-20</td>\n",
       "      <td>2</td>\n",
       "      <td>1480.0</td>\n",
       "      <td>20</td>\n",
       "      <td>2019</td>\n",
       "      <td>7</td>\n",
       "      <td>NaN</td>\n",
       "      <td>Nope</td>\n",
       "      <td>-0.612106</td>\n",
       "      <td>-0.790776</td>\n",
       "      <td>-0.866025</td>\n",
       "      <td>-0.5</td>\n",
       "      <td>5</td>\n",
       "      <td>29</td>\n",
       "      <td>7.300473</td>\n",
       "      <td>7.542744</td>\n",
       "      <td>7.786967</td>\n",
       "      <td>7.698936</td>\n",
       "      <td>6.779922</td>\n",
       "      <td>3</td>\n",
       "    </tr>\n",
       "    <tr>\n",
       "      <th>12471</th>\n",
       "      <td>2019-07-21</td>\n",
       "      <td>2</td>\n",
       "      <td>1028.0</td>\n",
       "      <td>21</td>\n",
       "      <td>2019</td>\n",
       "      <td>7</td>\n",
       "      <td>NaN</td>\n",
       "      <td>Nope</td>\n",
       "      <td>-0.440394</td>\n",
       "      <td>-0.897805</td>\n",
       "      <td>-0.866025</td>\n",
       "      <td>-0.5</td>\n",
       "      <td>6</td>\n",
       "      <td>29</td>\n",
       "      <td>6.936343</td>\n",
       "      <td>7.300473</td>\n",
       "      <td>7.542744</td>\n",
       "      <td>7.786967</td>\n",
       "      <td>7.698936</td>\n",
       "      <td>3</td>\n",
       "    </tr>\n",
       "    <tr>\n",
       "      <th>12472</th>\n",
       "      <td>2019-07-22</td>\n",
       "      <td>2</td>\n",
       "      <td>1946.0</td>\n",
       "      <td>22</td>\n",
       "      <td>2019</td>\n",
       "      <td>7</td>\n",
       "      <td>NaN</td>\n",
       "      <td>Nope</td>\n",
       "      <td>-0.250653</td>\n",
       "      <td>-0.968077</td>\n",
       "      <td>-0.866025</td>\n",
       "      <td>-0.5</td>\n",
       "      <td>0</td>\n",
       "      <td>30</td>\n",
       "      <td>7.574045</td>\n",
       "      <td>6.936343</td>\n",
       "      <td>7.300473</td>\n",
       "      <td>7.542744</td>\n",
       "      <td>7.786967</td>\n",
       "      <td>3</td>\n",
       "    </tr>\n",
       "    <tr>\n",
       "      <th>12473</th>\n",
       "      <td>2019-07-23</td>\n",
       "      <td>2</td>\n",
       "      <td>1984.0</td>\n",
       "      <td>23</td>\n",
       "      <td>2019</td>\n",
       "      <td>7</td>\n",
       "      <td>NaN</td>\n",
       "      <td>Nope</td>\n",
       "      <td>-0.050649</td>\n",
       "      <td>-0.998717</td>\n",
       "      <td>-0.866025</td>\n",
       "      <td>-0.5</td>\n",
       "      <td>1</td>\n",
       "      <td>30</td>\n",
       "      <td>7.593374</td>\n",
       "      <td>7.574045</td>\n",
       "      <td>6.936343</td>\n",
       "      <td>7.300473</td>\n",
       "      <td>7.542744</td>\n",
       "      <td>3</td>\n",
       "    </tr>\n",
       "  </tbody>\n",
       "</table>\n",
       "</div>"
      ],
      "text/plain": [
       "      application_date  segment  case_count  day  year  month Holiday  Type  \\\n",
       "12469       2019-07-19        2      1886.0   19  2019      7     NaN  Nope   \n",
       "12470       2019-07-20        2      1480.0   20  2019      7     NaN  Nope   \n",
       "12471       2019-07-21        2      1028.0   21  2019      7     NaN  Nope   \n",
       "12472       2019-07-22        2      1946.0   22  2019      7     NaN  Nope   \n",
       "12473       2019-07-23        2      1984.0   23  2019      7     NaN  Nope   \n",
       "\n",
       "        cos_day   sin_day   cos_mon  sin_mon  day_of_week  week_num  log_case  \\\n",
       "12469 -0.758758 -0.651372 -0.866025     -0.5            4        29  7.542744   \n",
       "12470 -0.612106 -0.790776 -0.866025     -0.5            5        29  7.300473   \n",
       "12471 -0.440394 -0.897805 -0.866025     -0.5            6        29  6.936343   \n",
       "12472 -0.250653 -0.968077 -0.866025     -0.5            0        30  7.574045   \n",
       "12473 -0.050649 -0.998717 -0.866025     -0.5            1        30  7.593374   \n",
       "\n",
       "       case_count_prev  case_count_prev_2  case_count_prev_3  \\\n",
       "12469         7.786967           7.698936           6.779922   \n",
       "12470         7.542744           7.786967           7.698936   \n",
       "12471         7.300473           7.542744           7.786967   \n",
       "12472         6.936343           7.300473           7.542744   \n",
       "12473         7.574045           6.936343           7.300473   \n",
       "\n",
       "       case_count_prev_4  Type_Mat  \n",
       "12469           7.337588         3  \n",
       "12470           6.779922         3  \n",
       "12471           7.698936         3  \n",
       "12472           7.786967         3  \n",
       "12473           7.542744         3  "
      ]
     },
     "execution_count": 90,
     "metadata": {},
     "output_type": "execute_result"
    }
   ],
   "source": [
    "train.tail()"
   ]
  },
  {
   "cell_type": "code",
   "execution_count": 91,
   "metadata": {
    "ExecuteTime": {
     "end_time": "2020-01-20T18:48:39.534235Z",
     "start_time": "2020-01-20T18:48:39.527255Z"
    },
    "scrolled": true
   },
   "outputs": [],
   "source": [
    "def func(model):\n",
    "    a = []\n",
    "    for i in range(len(mat_test)):\n",
    "        if i ==0:\n",
    "            k = np.append(np.array(mat_test[i]), np.log1p(np.array([[1984.0, 1946.0, 1028.0, 1480.0]])), axis=1)\n",
    "    #         a.append(np.round(np.expm1(rf.predict(k))))\n",
    "        if i==1:\n",
    "            k = np.append(np.array(mat_test[i]),  np.log1p(np.array([[a[0],1984,1946,1028]])), axis=1)\n",
    "    #         a.append(np.round(np.expm1(rf.predict(k))))\n",
    "        if i==2:\n",
    "            k = np.append(np.array(mat_test[i]),  np.log1p(np.array([[a[1],a[0],1984,1946]])), axis=1)\n",
    "    #         a.append(np.round(np.expm1(rf.predict(k))))\n",
    "        if i==3:\n",
    "            k = np.append(np.array(mat_test[i]),  np.log1p(np.array([[a[2],a[1],a[0],1984]])), axis=1)\n",
    "    #         a.append(np.round(np.expm1(rf.predict(k))))\n",
    "        if i>3:\n",
    "            k = np.append(np.array(mat_test[i]),  np.log1p(np.array([[a[i-1],a[i-2],a[i-3],a[i-4]]])), axis=1)\n",
    "\n",
    "        a.append((np.expm1(model.predict(k)))[0])\n",
    "    return a"
   ]
  },
  {
   "cell_type": "code",
   "execution_count": 92,
   "metadata": {
    "ExecuteTime": {
     "end_time": "2020-01-20T18:50:31.850313Z",
     "start_time": "2020-01-20T18:50:30.956289Z"
    }
   },
   "outputs": [],
   "source": [
    "rf, et, knn, LGB, xgb = trained_models\n",
    "a_rf = func(rf)\n",
    "a_et = func(et)\n",
    "a_knn = func(knn)\n",
    "a_LGB = func(LGB)\n",
    "a_xgb = func(xgb)"
   ]
  },
  {
   "cell_type": "code",
   "execution_count": 106,
   "metadata": {},
   "outputs": [
    {
     "data": {
      "text/html": [
       "<div>\n",
       "<style scoped>\n",
       "    .dataframe tbody tr th:only-of-type {\n",
       "        vertical-align: middle;\n",
       "    }\n",
       "\n",
       "    .dataframe tbody tr th {\n",
       "        vertical-align: top;\n",
       "    }\n",
       "\n",
       "    .dataframe thead th {\n",
       "        text-align: right;\n",
       "    }\n",
       "</style>\n",
       "<table border=\"1\" class=\"dataframe\">\n",
       "  <thead>\n",
       "    <tr style=\"text-align: right;\">\n",
       "      <th></th>\n",
       "      <th>application_date</th>\n",
       "      <th>segment</th>\n",
       "      <th>case_count</th>\n",
       "      <th>day</th>\n",
       "      <th>year</th>\n",
       "      <th>month</th>\n",
       "      <th>Holiday</th>\n",
       "      <th>Type</th>\n",
       "      <th>cos_day</th>\n",
       "      <th>sin_day</th>\n",
       "      <th>cos_mon</th>\n",
       "      <th>sin_mon</th>\n",
       "      <th>day_of_week</th>\n",
       "      <th>week_num</th>\n",
       "      <th>log_case</th>\n",
       "      <th>case_count_prev</th>\n",
       "      <th>case_count_prev_2</th>\n",
       "      <th>case_count_prev_3</th>\n",
       "      <th>case_count_prev_4</th>\n",
       "      <th>Type_Mat</th>\n",
       "    </tr>\n",
       "  </thead>\n",
       "  <tbody>\n",
       "    <tr>\n",
       "      <th>12469</th>\n",
       "      <td>2019-07-19</td>\n",
       "      <td>2</td>\n",
       "      <td>1886.0</td>\n",
       "      <td>19</td>\n",
       "      <td>2019</td>\n",
       "      <td>7</td>\n",
       "      <td>NaN</td>\n",
       "      <td>Nope</td>\n",
       "      <td>-0.758758</td>\n",
       "      <td>-0.651372</td>\n",
       "      <td>-0.866025</td>\n",
       "      <td>-0.5</td>\n",
       "      <td>4</td>\n",
       "      <td>29</td>\n",
       "      <td>7.542744</td>\n",
       "      <td>7.786967</td>\n",
       "      <td>7.698936</td>\n",
       "      <td>6.779922</td>\n",
       "      <td>7.337588</td>\n",
       "      <td>3</td>\n",
       "    </tr>\n",
       "    <tr>\n",
       "      <th>12470</th>\n",
       "      <td>2019-07-20</td>\n",
       "      <td>2</td>\n",
       "      <td>1480.0</td>\n",
       "      <td>20</td>\n",
       "      <td>2019</td>\n",
       "      <td>7</td>\n",
       "      <td>NaN</td>\n",
       "      <td>Nope</td>\n",
       "      <td>-0.612106</td>\n",
       "      <td>-0.790776</td>\n",
       "      <td>-0.866025</td>\n",
       "      <td>-0.5</td>\n",
       "      <td>5</td>\n",
       "      <td>29</td>\n",
       "      <td>7.300473</td>\n",
       "      <td>7.542744</td>\n",
       "      <td>7.786967</td>\n",
       "      <td>7.698936</td>\n",
       "      <td>6.779922</td>\n",
       "      <td>3</td>\n",
       "    </tr>\n",
       "    <tr>\n",
       "      <th>12471</th>\n",
       "      <td>2019-07-21</td>\n",
       "      <td>2</td>\n",
       "      <td>1028.0</td>\n",
       "      <td>21</td>\n",
       "      <td>2019</td>\n",
       "      <td>7</td>\n",
       "      <td>NaN</td>\n",
       "      <td>Nope</td>\n",
       "      <td>-0.440394</td>\n",
       "      <td>-0.897805</td>\n",
       "      <td>-0.866025</td>\n",
       "      <td>-0.5</td>\n",
       "      <td>6</td>\n",
       "      <td>29</td>\n",
       "      <td>6.936343</td>\n",
       "      <td>7.300473</td>\n",
       "      <td>7.542744</td>\n",
       "      <td>7.786967</td>\n",
       "      <td>7.698936</td>\n",
       "      <td>3</td>\n",
       "    </tr>\n",
       "    <tr>\n",
       "      <th>12472</th>\n",
       "      <td>2019-07-22</td>\n",
       "      <td>2</td>\n",
       "      <td>1946.0</td>\n",
       "      <td>22</td>\n",
       "      <td>2019</td>\n",
       "      <td>7</td>\n",
       "      <td>NaN</td>\n",
       "      <td>Nope</td>\n",
       "      <td>-0.250653</td>\n",
       "      <td>-0.968077</td>\n",
       "      <td>-0.866025</td>\n",
       "      <td>-0.5</td>\n",
       "      <td>0</td>\n",
       "      <td>30</td>\n",
       "      <td>7.574045</td>\n",
       "      <td>6.936343</td>\n",
       "      <td>7.300473</td>\n",
       "      <td>7.542744</td>\n",
       "      <td>7.786967</td>\n",
       "      <td>3</td>\n",
       "    </tr>\n",
       "    <tr>\n",
       "      <th>12473</th>\n",
       "      <td>2019-07-23</td>\n",
       "      <td>2</td>\n",
       "      <td>1984.0</td>\n",
       "      <td>23</td>\n",
       "      <td>2019</td>\n",
       "      <td>7</td>\n",
       "      <td>NaN</td>\n",
       "      <td>Nope</td>\n",
       "      <td>-0.050649</td>\n",
       "      <td>-0.998717</td>\n",
       "      <td>-0.866025</td>\n",
       "      <td>-0.5</td>\n",
       "      <td>1</td>\n",
       "      <td>30</td>\n",
       "      <td>7.593374</td>\n",
       "      <td>7.574045</td>\n",
       "      <td>6.936343</td>\n",
       "      <td>7.300473</td>\n",
       "      <td>7.542744</td>\n",
       "      <td>3</td>\n",
       "    </tr>\n",
       "  </tbody>\n",
       "</table>\n",
       "</div>"
      ],
      "text/plain": [
       "      application_date  segment  case_count  day  year  month Holiday  Type  \\\n",
       "12469       2019-07-19        2      1886.0   19  2019      7     NaN  Nope   \n",
       "12470       2019-07-20        2      1480.0   20  2019      7     NaN  Nope   \n",
       "12471       2019-07-21        2      1028.0   21  2019      7     NaN  Nope   \n",
       "12472       2019-07-22        2      1946.0   22  2019      7     NaN  Nope   \n",
       "12473       2019-07-23        2      1984.0   23  2019      7     NaN  Nope   \n",
       "\n",
       "        cos_day   sin_day   cos_mon  sin_mon  day_of_week  week_num  log_case  \\\n",
       "12469 -0.758758 -0.651372 -0.866025     -0.5            4        29  7.542744   \n",
       "12470 -0.612106 -0.790776 -0.866025     -0.5            5        29  7.300473   \n",
       "12471 -0.440394 -0.897805 -0.866025     -0.5            6        29  6.936343   \n",
       "12472 -0.250653 -0.968077 -0.866025     -0.5            0        30  7.574045   \n",
       "12473 -0.050649 -0.998717 -0.866025     -0.5            1        30  7.593374   \n",
       "\n",
       "       case_count_prev  case_count_prev_2  case_count_prev_3  \\\n",
       "12469         7.786967           7.698936           6.779922   \n",
       "12470         7.542744           7.786967           7.698936   \n",
       "12471         7.300473           7.542744           7.786967   \n",
       "12472         6.936343           7.300473           7.542744   \n",
       "12473         7.574045           6.936343           7.300473   \n",
       "\n",
       "       case_count_prev_4  Type_Mat  \n",
       "12469           7.337588         3  \n",
       "12470           6.779922         3  \n",
       "12471           7.698936         3  \n",
       "12472           7.786967         3  \n",
       "12473           7.542744         3  "
      ]
     },
     "execution_count": 106,
     "metadata": {},
     "output_type": "execute_result"
    }
   ],
   "source": [
    "train.tail()"
   ]
  },
  {
   "cell_type": "code",
   "execution_count": 93,
   "metadata": {
    "ExecuteTime": {
     "end_time": "2020-01-20T18:44:35.758155Z",
     "start_time": "2020-01-20T18:44:35.751175Z"
    }
   },
   "outputs": [
    {
     "data": {
      "text/plain": [
       "array([7.30047281, 6.93634274, 7.57404501, 7.59337419])"
      ]
     },
     "execution_count": 93,
     "metadata": {},
     "output_type": "execute_result"
    }
   ],
   "source": [
    "np.log1p([1480., 1028., 1946., 1984.])"
   ]
  },
  {
   "cell_type": "code",
   "execution_count": 94,
   "metadata": {},
   "outputs": [],
   "source": [
    "a=[np.mean(x) for x in zip(a_rf, a_et, a_knn, a_LGB, a_xgb)]"
   ]
  },
  {
   "cell_type": "code",
   "execution_count": 95,
   "metadata": {},
   "outputs": [],
   "source": [
    "test['log_case'] = np.log1p(a)"
   ]
  },
  {
   "cell_type": "code",
   "execution_count": 96,
   "metadata": {
    "ExecuteTime": {
     "end_time": "2020-01-20T18:45:50.787907Z",
     "start_time": "2020-01-20T18:45:50.778957Z"
    }
   },
   "outputs": [],
   "source": [
    "a1 = [7.59337419] + [i for i in test['log_case'].iloc[:-1].tolist()]\n",
    "a2 = [7.57404501] + [7.59337419] + [i for i in test['log_case'].iloc[:-2].tolist()]\n",
    "a3 = [6.93634274] + [7.57404501] + [7.59337419] + [i for i in test['log_case'].iloc[:-3].tolist()]\n",
    "a4 = [7.30047281] + [6.93634274] + [7.57404501] + [7.59337419] + [i for i in test['log_case'].iloc[:-4].tolist()]"
   ]
  },
  {
   "cell_type": "code",
   "execution_count": 97,
   "metadata": {
    "ExecuteTime": {
     "end_time": "2020-01-20T18:45:52.809296Z",
     "start_time": "2020-01-20T18:45:52.804311Z"
    }
   },
   "outputs": [],
   "source": [
    "test['case_count_prev'] = a1\n",
    "test['case_count_prev_2'] = a2\n",
    "test['case_count_prev_3'] = a3\n",
    "test['case_count_prev_4'] = a4"
   ]
  },
  {
   "cell_type": "code",
   "execution_count": 98,
   "metadata": {},
   "outputs": [],
   "source": [
    "test['knn_pred'] = a_knn\n",
    "test['et_pred'] = a_et\n",
    "test['rf_pred'] = a_rf\n",
    "test['lgb_pred'] = a_LGB\n",
    "test['xgb_pred'] = a_xgb"
   ]
  },
  {
   "cell_type": "code",
   "execution_count": 99,
   "metadata": {
    "ExecuteTime": {
     "end_time": "2020-01-20T18:45:54.115622Z",
     "start_time": "2020-01-20T18:45:54.029860Z"
    }
   },
   "outputs": [
    {
     "data": {
      "text/html": [
       "<div>\n",
       "<style scoped>\n",
       "    .dataframe tbody tr th:only-of-type {\n",
       "        vertical-align: middle;\n",
       "    }\n",
       "\n",
       "    .dataframe tbody tr th {\n",
       "        vertical-align: top;\n",
       "    }\n",
       "\n",
       "    .dataframe thead th {\n",
       "        text-align: right;\n",
       "    }\n",
       "</style>\n",
       "<table border=\"1\" class=\"dataframe\">\n",
       "  <thead>\n",
       "    <tr style=\"text-align: right;\">\n",
       "      <th></th>\n",
       "      <th>log_case</th>\n",
       "      <th>case_count_prev</th>\n",
       "      <th>case_count_prev_2</th>\n",
       "      <th>case_count_prev_3</th>\n",
       "      <th>case_count_prev_4</th>\n",
       "      <th>knn_pred</th>\n",
       "      <th>et_pred</th>\n",
       "      <th>rf_pred</th>\n",
       "      <th>lgb_pred</th>\n",
       "      <th>xgb_pred</th>\n",
       "    </tr>\n",
       "  </thead>\n",
       "  <tbody>\n",
       "    <tr>\n",
       "      <th>0</th>\n",
       "      <td>7.430936</td>\n",
       "      <td>7.593374</td>\n",
       "      <td>7.574045</td>\n",
       "      <td>6.936343</td>\n",
       "      <td>7.300473</td>\n",
       "      <td>1572.411646</td>\n",
       "      <td>1610.962019</td>\n",
       "      <td>1808.046583</td>\n",
       "      <td>1710.958276</td>\n",
       "      <td>1729.550537</td>\n",
       "    </tr>\n",
       "    <tr>\n",
       "      <th>1</th>\n",
       "      <td>7.322112</td>\n",
       "      <td>7.430936</td>\n",
       "      <td>7.593374</td>\n",
       "      <td>7.574045</td>\n",
       "      <td>6.936343</td>\n",
       "      <td>1413.655971</td>\n",
       "      <td>1783.805290</td>\n",
       "      <td>1602.576429</td>\n",
       "      <td>1297.203004</td>\n",
       "      <td>1464.740479</td>\n",
       "    </tr>\n",
       "    <tr>\n",
       "      <th>2</th>\n",
       "      <td>7.223720</td>\n",
       "      <td>7.322112</td>\n",
       "      <td>7.430936</td>\n",
       "      <td>7.593374</td>\n",
       "      <td>7.574045</td>\n",
       "      <td>1319.183247</td>\n",
       "      <td>2019.405533</td>\n",
       "      <td>1470.830285</td>\n",
       "      <td>905.046689</td>\n",
       "      <td>1138.441284</td>\n",
       "    </tr>\n",
       "    <tr>\n",
       "      <th>3</th>\n",
       "      <td>6.981066</td>\n",
       "      <td>7.223720</td>\n",
       "      <td>7.322112</td>\n",
       "      <td>7.430936</td>\n",
       "      <td>7.593374</td>\n",
       "      <td>1037.099378</td>\n",
       "      <td>1619.169211</td>\n",
       "      <td>1124.789990</td>\n",
       "      <td>744.769977</td>\n",
       "      <td>849.495483</td>\n",
       "    </tr>\n",
       "    <tr>\n",
       "      <th>4</th>\n",
       "      <td>6.290602</td>\n",
       "      <td>6.981066</td>\n",
       "      <td>7.223720</td>\n",
       "      <td>7.322112</td>\n",
       "      <td>7.430936</td>\n",
       "      <td>787.955351</td>\n",
       "      <td>529.654298</td>\n",
       "      <td>570.878881</td>\n",
       "      <td>349.572341</td>\n",
       "      <td>454.330353</td>\n",
       "    </tr>\n",
       "  </tbody>\n",
       "</table>\n",
       "</div>"
      ],
      "text/plain": [
       "   log_case  case_count_prev  case_count_prev_2  case_count_prev_3  \\\n",
       "0  7.430936         7.593374           7.574045           6.936343   \n",
       "1  7.322112         7.430936           7.593374           7.574045   \n",
       "2  7.223720         7.322112           7.430936           7.593374   \n",
       "3  6.981066         7.223720           7.322112           7.430936   \n",
       "4  6.290602         6.981066           7.223720           7.322112   \n",
       "\n",
       "   case_count_prev_4     knn_pred      et_pred      rf_pred     lgb_pred  \\\n",
       "0           7.300473  1572.411646  1610.962019  1808.046583  1710.958276   \n",
       "1           6.936343  1413.655971  1783.805290  1602.576429  1297.203004   \n",
       "2           7.574045  1319.183247  2019.405533  1470.830285   905.046689   \n",
       "3           7.593374  1037.099378  1619.169211  1124.789990   744.769977   \n",
       "4           7.430936   787.955351   529.654298   570.878881   349.572341   \n",
       "\n",
       "      xgb_pred  \n",
       "0  1729.550537  \n",
       "1  1464.740479  \n",
       "2  1138.441284  \n",
       "3   849.495483  \n",
       "4   454.330353  "
      ]
     },
     "execution_count": 99,
     "metadata": {},
     "output_type": "execute_result"
    }
   ],
   "source": [
    "df_test = test[['log_case', 'case_count_prev', 'case_count_prev_2', 'case_count_prev_3',\n",
    "                'case_count_prev_4', 'knn_pred', 'et_pred', 'rf_pred', 'lgb_pred',\n",
    "                'xgb_pred']]\n",
    "df_test.head()"
   ]
  },
  {
   "cell_type": "code",
   "execution_count": 103,
   "metadata": {},
   "outputs": [],
   "source": [
    "test['case_count'] = np.round(rfs.predict(df_test))"
   ]
  },
  {
   "cell_type": "code",
   "execution_count": 104,
   "metadata": {},
   "outputs": [
    {
     "data": {
      "text/html": [
       "<div>\n",
       "<style scoped>\n",
       "    .dataframe tbody tr th:only-of-type {\n",
       "        vertical-align: middle;\n",
       "    }\n",
       "\n",
       "    .dataframe tbody tr th {\n",
       "        vertical-align: top;\n",
       "    }\n",
       "\n",
       "    .dataframe thead th {\n",
       "        text-align: right;\n",
       "    }\n",
       "</style>\n",
       "<table border=\"1\" class=\"dataframe\">\n",
       "  <thead>\n",
       "    <tr style=\"text-align: right;\">\n",
       "      <th></th>\n",
       "      <th>id</th>\n",
       "      <th>application_date</th>\n",
       "      <th>segment</th>\n",
       "      <th>day</th>\n",
       "      <th>year</th>\n",
       "      <th>month</th>\n",
       "      <th>Holiday</th>\n",
       "      <th>Type</th>\n",
       "      <th>cos_mon</th>\n",
       "      <th>sin_mon</th>\n",
       "      <th>...</th>\n",
       "      <th>case_count_prev</th>\n",
       "      <th>case_count_prev_2</th>\n",
       "      <th>case_count_prev_3</th>\n",
       "      <th>case_count_prev_4</th>\n",
       "      <th>knn_pred</th>\n",
       "      <th>et_pred</th>\n",
       "      <th>rf_pred</th>\n",
       "      <th>lgb_pred</th>\n",
       "      <th>xgb_pred</th>\n",
       "      <th>case_count</th>\n",
       "    </tr>\n",
       "  </thead>\n",
       "  <tbody>\n",
       "    <tr>\n",
       "      <th>0</th>\n",
       "      <td>88</td>\n",
       "      <td>2019-07-24</td>\n",
       "      <td>2</td>\n",
       "      <td>24</td>\n",
       "      <td>2019</td>\n",
       "      <td>7</td>\n",
       "      <td>NaN</td>\n",
       "      <td>Nope</td>\n",
       "      <td>-0.866025</td>\n",
       "      <td>-0.5</td>\n",
       "      <td>...</td>\n",
       "      <td>7.593374</td>\n",
       "      <td>7.574045</td>\n",
       "      <td>6.936343</td>\n",
       "      <td>7.300473</td>\n",
       "      <td>1572.411646</td>\n",
       "      <td>1610.962019</td>\n",
       "      <td>1808.046583</td>\n",
       "      <td>1710.958276</td>\n",
       "      <td>1729.550537</td>\n",
       "      <td>1685.0</td>\n",
       "    </tr>\n",
       "    <tr>\n",
       "      <th>1</th>\n",
       "      <td>89</td>\n",
       "      <td>2019-07-25</td>\n",
       "      <td>2</td>\n",
       "      <td>25</td>\n",
       "      <td>2019</td>\n",
       "      <td>7</td>\n",
       "      <td>NaN</td>\n",
       "      <td>Nope</td>\n",
       "      <td>-0.866025</td>\n",
       "      <td>-0.5</td>\n",
       "      <td>...</td>\n",
       "      <td>7.430936</td>\n",
       "      <td>7.593374</td>\n",
       "      <td>7.574045</td>\n",
       "      <td>6.936343</td>\n",
       "      <td>1413.655971</td>\n",
       "      <td>1783.805290</td>\n",
       "      <td>1602.576429</td>\n",
       "      <td>1297.203004</td>\n",
       "      <td>1464.740479</td>\n",
       "      <td>1512.0</td>\n",
       "    </tr>\n",
       "    <tr>\n",
       "      <th>2</th>\n",
       "      <td>90</td>\n",
       "      <td>2019-07-26</td>\n",
       "      <td>2</td>\n",
       "      <td>26</td>\n",
       "      <td>2019</td>\n",
       "      <td>7</td>\n",
       "      <td>NaN</td>\n",
       "      <td>Nope</td>\n",
       "      <td>-0.866025</td>\n",
       "      <td>-0.5</td>\n",
       "      <td>...</td>\n",
       "      <td>7.322112</td>\n",
       "      <td>7.430936</td>\n",
       "      <td>7.593374</td>\n",
       "      <td>7.574045</td>\n",
       "      <td>1319.183247</td>\n",
       "      <td>2019.405533</td>\n",
       "      <td>1470.830285</td>\n",
       "      <td>905.046689</td>\n",
       "      <td>1138.441284</td>\n",
       "      <td>1370.0</td>\n",
       "    </tr>\n",
       "    <tr>\n",
       "      <th>3</th>\n",
       "      <td>91</td>\n",
       "      <td>2019-07-27</td>\n",
       "      <td>2</td>\n",
       "      <td>27</td>\n",
       "      <td>2019</td>\n",
       "      <td>7</td>\n",
       "      <td>NaN</td>\n",
       "      <td>Nope</td>\n",
       "      <td>-0.866025</td>\n",
       "      <td>-0.5</td>\n",
       "      <td>...</td>\n",
       "      <td>7.223720</td>\n",
       "      <td>7.322112</td>\n",
       "      <td>7.430936</td>\n",
       "      <td>7.593374</td>\n",
       "      <td>1037.099378</td>\n",
       "      <td>1619.169211</td>\n",
       "      <td>1124.789990</td>\n",
       "      <td>744.769977</td>\n",
       "      <td>849.495483</td>\n",
       "      <td>1075.0</td>\n",
       "    </tr>\n",
       "    <tr>\n",
       "      <th>4</th>\n",
       "      <td>92</td>\n",
       "      <td>2019-07-28</td>\n",
       "      <td>2</td>\n",
       "      <td>28</td>\n",
       "      <td>2019</td>\n",
       "      <td>7</td>\n",
       "      <td>NaN</td>\n",
       "      <td>Nope</td>\n",
       "      <td>-0.866025</td>\n",
       "      <td>-0.5</td>\n",
       "      <td>...</td>\n",
       "      <td>6.981066</td>\n",
       "      <td>7.223720</td>\n",
       "      <td>7.322112</td>\n",
       "      <td>7.430936</td>\n",
       "      <td>787.955351</td>\n",
       "      <td>529.654298</td>\n",
       "      <td>570.878881</td>\n",
       "      <td>349.572341</td>\n",
       "      <td>454.330353</td>\n",
       "      <td>538.0</td>\n",
       "    </tr>\n",
       "  </tbody>\n",
       "</table>\n",
       "<p>5 rows × 26 columns</p>\n",
       "</div>"
      ],
      "text/plain": [
       "   id application_date  segment  day  year  month Holiday  Type   cos_mon  \\\n",
       "0  88       2019-07-24        2   24  2019      7     NaN  Nope -0.866025   \n",
       "1  89       2019-07-25        2   25  2019      7     NaN  Nope -0.866025   \n",
       "2  90       2019-07-26        2   26  2019      7     NaN  Nope -0.866025   \n",
       "3  91       2019-07-27        2   27  2019      7     NaN  Nope -0.866025   \n",
       "4  92       2019-07-28        2   28  2019      7     NaN  Nope -0.866025   \n",
       "\n",
       "   sin_mon  ...  case_count_prev  case_count_prev_2  case_count_prev_3  \\\n",
       "0     -0.5  ...         7.593374           7.574045           6.936343   \n",
       "1     -0.5  ...         7.430936           7.593374           7.574045   \n",
       "2     -0.5  ...         7.322112           7.430936           7.593374   \n",
       "3     -0.5  ...         7.223720           7.322112           7.430936   \n",
       "4     -0.5  ...         6.981066           7.223720           7.322112   \n",
       "\n",
       "   case_count_prev_4     knn_pred      et_pred      rf_pred     lgb_pred  \\\n",
       "0           7.300473  1572.411646  1610.962019  1808.046583  1710.958276   \n",
       "1           6.936343  1413.655971  1783.805290  1602.576429  1297.203004   \n",
       "2           7.574045  1319.183247  2019.405533  1470.830285   905.046689   \n",
       "3           7.593374  1037.099378  1619.169211  1124.789990   744.769977   \n",
       "4           7.430936   787.955351   529.654298   570.878881   349.572341   \n",
       "\n",
       "      xgb_pred  case_count  \n",
       "0  1729.550537      1685.0  \n",
       "1  1464.740479      1512.0  \n",
       "2  1138.441284      1370.0  \n",
       "3   849.495483      1075.0  \n",
       "4   454.330353       538.0  \n",
       "\n",
       "[5 rows x 26 columns]"
      ]
     },
     "execution_count": 104,
     "metadata": {},
     "output_type": "execute_result"
    }
   ],
   "source": [
    "test.head()"
   ]
  },
  {
   "cell_type": "code",
   "execution_count": 105,
   "metadata": {},
   "outputs": [],
   "source": [
    "test[['id', 'application_date', 'segment', 'case_count']].to_csv('stacked_V1_seg_2.csv', index=False)"
   ]
  },
  {
   "cell_type": "code",
   "execution_count": null,
   "metadata": {},
   "outputs": [],
   "source": []
  },
  {
   "cell_type": "code",
   "execution_count": null,
   "metadata": {},
   "outputs": [],
   "source": []
  }
 ],
 "metadata": {
  "kernelspec": {
   "display_name": "Python 3",
   "language": "python",
   "name": "python3"
  },
  "language_info": {
   "codemirror_mode": {
    "name": "ipython",
    "version": 3
   },
   "file_extension": ".py",
   "mimetype": "text/x-python",
   "name": "python",
   "nbconvert_exporter": "python",
   "pygments_lexer": "ipython3",
   "version": "3.6.5"
  }
 },
 "nbformat": 4,
 "nbformat_minor": 2
}
