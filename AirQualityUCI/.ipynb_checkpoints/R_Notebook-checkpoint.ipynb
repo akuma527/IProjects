{
 "cells": [
  {
   "cell_type": "code",
   "execution_count": 1,
   "metadata": {},
   "outputs": [],
   "source": [
    "df = read.csv('AirQualityUCI.csv', sep = \";\")"
   ]
  },
  {
   "cell_type": "code",
   "execution_count": 4,
   "metadata": {},
   "outputs": [
    {
     "data": {
      "text/html": [
       "<table>\n",
       "<caption>A data.frame: 6 × 17</caption>\n",
       "<thead>\n",
       "\t<tr><th></th><th scope=col>Date</th><th scope=col>Time</th><th scope=col>CO.GT.</th><th scope=col>PT08.S1.CO.</th><th scope=col>NMHC.GT.</th><th scope=col>C6H6.GT.</th><th scope=col>PT08.S2.NMHC.</th><th scope=col>NOx.GT.</th><th scope=col>PT08.S3.NOx.</th><th scope=col>NO2.GT.</th><th scope=col>PT08.S4.NO2.</th><th scope=col>PT08.S5.O3.</th><th scope=col>T</th><th scope=col>RH</th><th scope=col>AH</th><th scope=col>X</th><th scope=col>X.1</th></tr>\n",
       "\t<tr><th></th><th scope=col>&lt;fct&gt;</th><th scope=col>&lt;fct&gt;</th><th scope=col>&lt;fct&gt;</th><th scope=col>&lt;int&gt;</th><th scope=col>&lt;int&gt;</th><th scope=col>&lt;fct&gt;</th><th scope=col>&lt;int&gt;</th><th scope=col>&lt;int&gt;</th><th scope=col>&lt;int&gt;</th><th scope=col>&lt;int&gt;</th><th scope=col>&lt;int&gt;</th><th scope=col>&lt;int&gt;</th><th scope=col>&lt;fct&gt;</th><th scope=col>&lt;fct&gt;</th><th scope=col>&lt;fct&gt;</th><th scope=col>&lt;lgl&gt;</th><th scope=col>&lt;lgl&gt;</th></tr>\n",
       "</thead>\n",
       "<tbody>\n",
       "\t<tr><th scope=row>1</th><td>10/03/2004</td><td>18.00.00</td><td>2,6</td><td>1360</td><td>150</td><td>11,9</td><td>1046</td><td>166</td><td>1056</td><td>113</td><td>1692</td><td>1268</td><td>13,6</td><td>48,9</td><td>0,7578</td><td>NA</td><td>NA</td></tr>\n",
       "\t<tr><th scope=row>2</th><td>10/03/2004</td><td>19.00.00</td><td>2  </td><td>1292</td><td>112</td><td>9,4 </td><td> 955</td><td>103</td><td>1174</td><td> 92</td><td>1559</td><td> 972</td><td>13,3</td><td>47,7</td><td>0,7255</td><td>NA</td><td>NA</td></tr>\n",
       "\t<tr><th scope=row>3</th><td>10/03/2004</td><td>20.00.00</td><td>2,2</td><td>1402</td><td> 88</td><td>9,0 </td><td> 939</td><td>131</td><td>1140</td><td>114</td><td>1555</td><td>1074</td><td>11,9</td><td>54,0</td><td>0,7502</td><td>NA</td><td>NA</td></tr>\n",
       "\t<tr><th scope=row>4</th><td>10/03/2004</td><td>21.00.00</td><td>2,2</td><td>1376</td><td> 80</td><td>9,2 </td><td> 948</td><td>172</td><td>1092</td><td>122</td><td>1584</td><td>1203</td><td>11,0</td><td>60,0</td><td>0,7867</td><td>NA</td><td>NA</td></tr>\n",
       "\t<tr><th scope=row>5</th><td>10/03/2004</td><td>22.00.00</td><td>1,6</td><td>1272</td><td> 51</td><td>6,5 </td><td> 836</td><td>131</td><td>1205</td><td>116</td><td>1490</td><td>1110</td><td>11,2</td><td>59,6</td><td>0,7888</td><td>NA</td><td>NA</td></tr>\n",
       "\t<tr><th scope=row>6</th><td>10/03/2004</td><td>23.00.00</td><td>1,2</td><td>1197</td><td> 38</td><td>4,7 </td><td> 750</td><td> 89</td><td>1337</td><td> 96</td><td>1393</td><td> 949</td><td>11,2</td><td>59,2</td><td>0,7848</td><td>NA</td><td>NA</td></tr>\n",
       "</tbody>\n",
       "</table>\n"
      ],
      "text/latex": [
       "A data.frame: 6 × 17\n",
       "\\begin{tabular}{r|lllllllllllllllll}\n",
       "  & Date & Time & CO.GT. & PT08.S1.CO. & NMHC.GT. & C6H6.GT. & PT08.S2.NMHC. & NOx.GT. & PT08.S3.NOx. & NO2.GT. & PT08.S4.NO2. & PT08.S5.O3. & T & RH & AH & X & X.1\\\\\n",
       "  & <fct> & <fct> & <fct> & <int> & <int> & <fct> & <int> & <int> & <int> & <int> & <int> & <int> & <fct> & <fct> & <fct> & <lgl> & <lgl>\\\\\n",
       "\\hline\n",
       "\t1 & 10/03/2004 & 18.00.00 & 2,6 & 1360 & 150 & 11,9 & 1046 & 166 & 1056 & 113 & 1692 & 1268 & 13,6 & 48,9 & 0,7578 & NA & NA\\\\\n",
       "\t2 & 10/03/2004 & 19.00.00 & 2   & 1292 & 112 & 9,4  &  955 & 103 & 1174 &  92 & 1559 &  972 & 13,3 & 47,7 & 0,7255 & NA & NA\\\\\n",
       "\t3 & 10/03/2004 & 20.00.00 & 2,2 & 1402 &  88 & 9,0  &  939 & 131 & 1140 & 114 & 1555 & 1074 & 11,9 & 54,0 & 0,7502 & NA & NA\\\\\n",
       "\t4 & 10/03/2004 & 21.00.00 & 2,2 & 1376 &  80 & 9,2  &  948 & 172 & 1092 & 122 & 1584 & 1203 & 11,0 & 60,0 & 0,7867 & NA & NA\\\\\n",
       "\t5 & 10/03/2004 & 22.00.00 & 1,6 & 1272 &  51 & 6,5  &  836 & 131 & 1205 & 116 & 1490 & 1110 & 11,2 & 59,6 & 0,7888 & NA & NA\\\\\n",
       "\t6 & 10/03/2004 & 23.00.00 & 1,2 & 1197 &  38 & 4,7  &  750 &  89 & 1337 &  96 & 1393 &  949 & 11,2 & 59,2 & 0,7848 & NA & NA\\\\\n",
       "\\end{tabular}\n"
      ],
      "text/markdown": [
       "\n",
       "A data.frame: 6 × 17\n",
       "\n",
       "| <!--/--> | Date &lt;fct&gt; | Time &lt;fct&gt; | CO.GT. &lt;fct&gt; | PT08.S1.CO. &lt;int&gt; | NMHC.GT. &lt;int&gt; | C6H6.GT. &lt;fct&gt; | PT08.S2.NMHC. &lt;int&gt; | NOx.GT. &lt;int&gt; | PT08.S3.NOx. &lt;int&gt; | NO2.GT. &lt;int&gt; | PT08.S4.NO2. &lt;int&gt; | PT08.S5.O3. &lt;int&gt; | T &lt;fct&gt; | RH &lt;fct&gt; | AH &lt;fct&gt; | X &lt;lgl&gt; | X.1 &lt;lgl&gt; |\n",
       "|---|---|---|---|---|---|---|---|---|---|---|---|---|---|---|---|---|---|\n",
       "| 1 | 10/03/2004 | 18.00.00 | 2,6 | 1360 | 150 | 11,9 | 1046 | 166 | 1056 | 113 | 1692 | 1268 | 13,6 | 48,9 | 0,7578 | NA | NA |\n",
       "| 2 | 10/03/2004 | 19.00.00 | 2   | 1292 | 112 | 9,4  |  955 | 103 | 1174 |  92 | 1559 |  972 | 13,3 | 47,7 | 0,7255 | NA | NA |\n",
       "| 3 | 10/03/2004 | 20.00.00 | 2,2 | 1402 |  88 | 9,0  |  939 | 131 | 1140 | 114 | 1555 | 1074 | 11,9 | 54,0 | 0,7502 | NA | NA |\n",
       "| 4 | 10/03/2004 | 21.00.00 | 2,2 | 1376 |  80 | 9,2  |  948 | 172 | 1092 | 122 | 1584 | 1203 | 11,0 | 60,0 | 0,7867 | NA | NA |\n",
       "| 5 | 10/03/2004 | 22.00.00 | 1,6 | 1272 |  51 | 6,5  |  836 | 131 | 1205 | 116 | 1490 | 1110 | 11,2 | 59,6 | 0,7888 | NA | NA |\n",
       "| 6 | 10/03/2004 | 23.00.00 | 1,2 | 1197 |  38 | 4,7  |  750 |  89 | 1337 |  96 | 1393 |  949 | 11,2 | 59,2 | 0,7848 | NA | NA |\n",
       "\n"
      ],
      "text/plain": [
       "  Date       Time     CO.GT. PT08.S1.CO. NMHC.GT. C6H6.GT. PT08.S2.NMHC.\n",
       "1 10/03/2004 18.00.00 2,6    1360        150      11,9     1046         \n",
       "2 10/03/2004 19.00.00 2      1292        112      9,4       955         \n",
       "3 10/03/2004 20.00.00 2,2    1402         88      9,0       939         \n",
       "4 10/03/2004 21.00.00 2,2    1376         80      9,2       948         \n",
       "5 10/03/2004 22.00.00 1,6    1272         51      6,5       836         \n",
       "6 10/03/2004 23.00.00 1,2    1197         38      4,7       750         \n",
       "  NOx.GT. PT08.S3.NOx. NO2.GT. PT08.S4.NO2. PT08.S5.O3. T    RH   AH     X  X.1\n",
       "1 166     1056         113     1692         1268        13,6 48,9 0,7578 NA NA \n",
       "2 103     1174          92     1559          972        13,3 47,7 0,7255 NA NA \n",
       "3 131     1140         114     1555         1074        11,9 54,0 0,7502 NA NA \n",
       "4 172     1092         122     1584         1203        11,0 60,0 0,7867 NA NA \n",
       "5 131     1205         116     1490         1110        11,2 59,6 0,7888 NA NA \n",
       "6  89     1337          96     1393          949        11,2 59,2 0,7848 NA NA "
      ]
     },
     "metadata": {},
     "output_type": "display_data"
    }
   ],
   "source": [
    "head(df)"
   ]
  },
  {
   "cell_type": "code",
   "execution_count": null,
   "metadata": {},
   "outputs": [],
   "source": []
  }
 ],
 "metadata": {
  "kernelspec": {
   "display_name": "R",
   "language": "R",
   "name": "ir"
  },
  "language_info": {
   "codemirror_mode": "r",
   "file_extension": ".r",
   "mimetype": "text/x-r-source",
   "name": "R",
   "pygments_lexer": "r",
   "version": "3.5.1"
  }
 },
 "nbformat": 4,
 "nbformat_minor": 2
}
