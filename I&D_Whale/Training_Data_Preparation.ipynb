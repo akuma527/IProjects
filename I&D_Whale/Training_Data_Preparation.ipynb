{
  "nbformat": 4,
  "nbformat_minor": 0,
  "metadata": {
    "colab": {
      "name": "Training_Data_Preparation.ipynb",
      "provenance": [],
      "authorship_tag": "ABX9TyMugHU4S1FZmGL50R8jDK68",
      "include_colab_link": true
    },
    "kernelspec": {
      "name": "python3",
      "display_name": "Python 3"
    }
  },
  "cells": [
    {
      "cell_type": "markdown",
      "metadata": {
        "id": "view-in-github",
        "colab_type": "text"
      },
      "source": [
        "<a href=\"https://colab.research.google.com/github/akuma527/IProjects/blob/master/I%26D_Whale/Training_Data_Preparation.ipynb\" target=\"_parent\"><img src=\"https://colab.research.google.com/assets/colab-badge.svg\" alt=\"Open In Colab\"/></a>"
      ]
    },
    {
      "cell_type": "code",
      "metadata": {
        "id": "Iif8Geo8RE54",
        "colab_type": "code",
        "colab": {
          "base_uri": "https://localhost:8080/",
          "height": 126
        },
        "outputId": "090d12d4-575b-4b1e-f463-bf566e52cc4e"
      },
      "source": [
        "from google.colab import drive\n",
        "drive.mount('/content/drive')"
      ],
      "execution_count": 3,
      "outputs": [
        {
          "output_type": "stream",
          "text": [
            "Go to this URL in a browser: https://accounts.google.com/o/oauth2/auth?client_id=947318989803-6bn6qk8qdgf4n4g3pfee6491hc0brc4i.apps.googleusercontent.com&redirect_uri=urn%3aietf%3awg%3aoauth%3a2.0%3aoob&response_type=code&scope=email%20https%3a%2f%2fwww.googleapis.com%2fauth%2fdocs.test%20https%3a%2f%2fwww.googleapis.com%2fauth%2fdrive%20https%3a%2f%2fwww.googleapis.com%2fauth%2fdrive.photos.readonly%20https%3a%2f%2fwww.googleapis.com%2fauth%2fpeopleapi.readonly\n",
            "\n",
            "Enter your authorization code:\n",
            "··········\n",
            "Mounted at /content/drive\n"
          ],
          "name": "stdout"
        }
      ]
    },
    {
      "cell_type": "code",
      "metadata": {
        "id": "RamazY0sRVRL",
        "colab_type": "code",
        "colab": {
          "base_uri": "https://localhost:8080/",
          "height": 35
        },
        "outputId": "bcbec5de-2ecd-4c45-9fa9-192b1dd0a548"
      },
      "source": [
        "%cd /content/drive/My Drive/Colab Notebooks/I&D_Whale/data/"
      ],
      "execution_count": 4,
      "outputs": [
        {
          "output_type": "stream",
          "text": [
            "/content/drive/My Drive/Colab Notebooks/I&D_Whale/data\n"
          ],
          "name": "stdout"
        }
      ]
    },
    {
      "cell_type": "code",
      "metadata": {
        "id": "Q3qBP-D4RXiC",
        "colab_type": "code",
        "colab": {}
      },
      "source": [
        "import pandas as pd\n",
        "import os\n",
        "import cv2\n",
        "import re\n",
        "import numpy as np\n",
        "import matplotlib.pyplot as plt\n",
        "%matplotlib inline"
      ],
      "execution_count": 0,
      "outputs": []
    },
    {
      "cell_type": "markdown",
      "metadata": {
        "id": "w_JOuQ-TRn6W",
        "colab_type": "text"
      },
      "source": [
        "## Importing Data"
      ]
    },
    {
      "cell_type": "code",
      "metadata": {
        "id": "LyQaAAqjRpSH",
        "colab_type": "code",
        "colab": {}
      },
      "source": [
        "df = pd.read_csv('data_prep_fin.csv')"
      ],
      "execution_count": 0,
      "outputs": []
    },
    {
      "cell_type": "code",
      "metadata": {
        "id": "mjaANuwJRv-5",
        "colab_type": "code",
        "colab": {
          "base_uri": "https://localhost:8080/",
          "height": 200
        },
        "outputId": "5c13c067-1e3e-49d3-83ff-a504d4d1e324"
      },
      "source": [
        "df.head()"
      ],
      "execution_count": 10,
      "outputs": [
        {
          "output_type": "execute_result",
          "data": {
            "text/html": [
              "<div>\n",
              "<style scoped>\n",
              "    .dataframe tbody tr th:only-of-type {\n",
              "        vertical-align: middle;\n",
              "    }\n",
              "\n",
              "    .dataframe tbody tr th {\n",
              "        vertical-align: top;\n",
              "    }\n",
              "\n",
              "    .dataframe thead th {\n",
              "        text-align: right;\n",
              "    }\n",
              "</style>\n",
              "<table border=\"1\" class=\"dataframe\">\n",
              "  <thead>\n",
              "    <tr style=\"text-align: right;\">\n",
              "      <th></th>\n",
              "      <th>Image</th>\n",
              "      <th>Similar_Images</th>\n",
              "      <th>Id</th>\n",
              "      <th>fil_path</th>\n",
              "    </tr>\n",
              "  </thead>\n",
              "  <tbody>\n",
              "    <tr>\n",
              "      <th>0</th>\n",
              "      <td>IMG_2270-16.jpg</td>\n",
              "      <td>['']</td>\n",
              "      <td>1756</td>\n",
              "      <td>train/1756/IMG_2270-16.jpg</td>\n",
              "    </tr>\n",
              "    <tr>\n",
              "      <th>1</th>\n",
              "      <td>PM-WWA-20050413-003a.jpg</td>\n",
              "      <td>['']</td>\n",
              "      <td>2824</td>\n",
              "      <td>train/2824/PM-WWA-20050413-003a.jpg</td>\n",
              "    </tr>\n",
              "    <tr>\n",
              "      <th>2</th>\n",
              "      <td>PM-WWA-20050413-003b.jpg</td>\n",
              "      <td>['PM-WWA-20050413-029.jpg']</td>\n",
              "      <td>2764</td>\n",
              "      <td>train/2764/PM-WWA-20050413-003b.jpg</td>\n",
              "    </tr>\n",
              "    <tr>\n",
              "      <th>3</th>\n",
              "      <td>PM-WWA-20050413-029.jpg</td>\n",
              "      <td>['PM-WWA-20050413-003b.jpg']</td>\n",
              "      <td>2764</td>\n",
              "      <td>train/2764/PM-WWA-20050413-029.jpg</td>\n",
              "    </tr>\n",
              "    <tr>\n",
              "      <th>4</th>\n",
              "      <td>PM-WWA-20050413-006.jpg</td>\n",
              "      <td>['PM-WWA-20050413-007.jpg']</td>\n",
              "      <td>2825</td>\n",
              "      <td>train/2825/PM-WWA-20050413-006.jpg</td>\n",
              "    </tr>\n",
              "  </tbody>\n",
              "</table>\n",
              "</div>"
            ],
            "text/plain": [
              "                      Image  ...                             fil_path\n",
              "0           IMG_2270-16.jpg  ...           train/1756/IMG_2270-16.jpg\n",
              "1  PM-WWA-20050413-003a.jpg  ...  train/2824/PM-WWA-20050413-003a.jpg\n",
              "2  PM-WWA-20050413-003b.jpg  ...  train/2764/PM-WWA-20050413-003b.jpg\n",
              "3   PM-WWA-20050413-029.jpg  ...   train/2764/PM-WWA-20050413-029.jpg\n",
              "4   PM-WWA-20050413-006.jpg  ...   train/2825/PM-WWA-20050413-006.jpg\n",
              "\n",
              "[5 rows x 4 columns]"
            ]
          },
          "metadata": {
            "tags": []
          },
          "execution_count": 10
        }
      ]
    },
    {
      "cell_type": "code",
      "metadata": {
        "id": "CidT1qPOTydD",
        "colab_type": "code",
        "colab": {}
      },
      "source": [
        "df['Similar_Images'] = df['Similar_Images'].replace(str(['']), np.nan)"
      ],
      "execution_count": 0,
      "outputs": []
    },
    {
      "cell_type": "markdown",
      "metadata": {
        "id": "B9BY-uiQR-Au",
        "colab_type": "text"
      },
      "source": [
        "# Creating Image and Similar Image data set"
      ]
    },
    {
      "cell_type": "code",
      "metadata": {
        "id": "HKecpTjjUKXb",
        "colab_type": "code",
        "colab": {
          "base_uri": "https://localhost:8080/",
          "height": 200
        },
        "outputId": "47c218d4-5519-4be8-9eb7-62ee3d4a6873"
      },
      "source": [
        "df.head()"
      ],
      "execution_count": 51,
      "outputs": [
        {
          "output_type": "execute_result",
          "data": {
            "text/html": [
              "<div>\n",
              "<style scoped>\n",
              "    .dataframe tbody tr th:only-of-type {\n",
              "        vertical-align: middle;\n",
              "    }\n",
              "\n",
              "    .dataframe tbody tr th {\n",
              "        vertical-align: top;\n",
              "    }\n",
              "\n",
              "    .dataframe thead th {\n",
              "        text-align: right;\n",
              "    }\n",
              "</style>\n",
              "<table border=\"1\" class=\"dataframe\">\n",
              "  <thead>\n",
              "    <tr style=\"text-align: right;\">\n",
              "      <th></th>\n",
              "      <th>Image</th>\n",
              "      <th>Similar_Images</th>\n",
              "      <th>Id</th>\n",
              "      <th>fil_path</th>\n",
              "    </tr>\n",
              "  </thead>\n",
              "  <tbody>\n",
              "    <tr>\n",
              "      <th>0</th>\n",
              "      <td>IMG_2270-16.jpg</td>\n",
              "      <td>NaN</td>\n",
              "      <td>1756</td>\n",
              "      <td>train/1756/IMG_2270-16.jpg</td>\n",
              "    </tr>\n",
              "    <tr>\n",
              "      <th>1</th>\n",
              "      <td>PM-WWA-20050413-003a.jpg</td>\n",
              "      <td>NaN</td>\n",
              "      <td>2824</td>\n",
              "      <td>train/2824/PM-WWA-20050413-003a.jpg</td>\n",
              "    </tr>\n",
              "    <tr>\n",
              "      <th>2</th>\n",
              "      <td>PM-WWA-20050413-003b.jpg</td>\n",
              "      <td>['PM-WWA-20050413-029.jpg']</td>\n",
              "      <td>2764</td>\n",
              "      <td>train/2764/PM-WWA-20050413-003b.jpg</td>\n",
              "    </tr>\n",
              "    <tr>\n",
              "      <th>3</th>\n",
              "      <td>PM-WWA-20050413-029.jpg</td>\n",
              "      <td>['PM-WWA-20050413-003b.jpg']</td>\n",
              "      <td>2764</td>\n",
              "      <td>train/2764/PM-WWA-20050413-029.jpg</td>\n",
              "    </tr>\n",
              "    <tr>\n",
              "      <th>4</th>\n",
              "      <td>PM-WWA-20050413-006.jpg</td>\n",
              "      <td>['PM-WWA-20050413-007.jpg']</td>\n",
              "      <td>2825</td>\n",
              "      <td>train/2825/PM-WWA-20050413-006.jpg</td>\n",
              "    </tr>\n",
              "  </tbody>\n",
              "</table>\n",
              "</div>"
            ],
            "text/plain": [
              "                      Image  ...                             fil_path\n",
              "0           IMG_2270-16.jpg  ...           train/1756/IMG_2270-16.jpg\n",
              "1  PM-WWA-20050413-003a.jpg  ...  train/2824/PM-WWA-20050413-003a.jpg\n",
              "2  PM-WWA-20050413-003b.jpg  ...  train/2764/PM-WWA-20050413-003b.jpg\n",
              "3   PM-WWA-20050413-029.jpg  ...   train/2764/PM-WWA-20050413-029.jpg\n",
              "4   PM-WWA-20050413-006.jpg  ...   train/2825/PM-WWA-20050413-006.jpg\n",
              "\n",
              "[5 rows x 4 columns]"
            ]
          },
          "metadata": {
            "tags": []
          },
          "execution_count": 51
        }
      ]
    },
    {
      "cell_type": "code",
      "metadata": {
        "id": "rwi_FBmhZRqL",
        "colab_type": "code",
        "colab": {}
      },
      "source": [
        "coupled = df[~df['Similar_Images'].isna()].reset_index(drop=True)"
      ],
      "execution_count": 0,
      "outputs": []
    },
    {
      "cell_type": "code",
      "metadata": {
        "id": "L9drjlYgZaFt",
        "colab_type": "code",
        "colab": {
          "base_uri": "https://localhost:8080/",
          "height": 200
        },
        "outputId": "fb8c418c-9e72-432e-e4af-945e441880b7"
      },
      "source": [
        "coupled.head()"
      ],
      "execution_count": 55,
      "outputs": [
        {
          "output_type": "execute_result",
          "data": {
            "text/html": [
              "<div>\n",
              "<style scoped>\n",
              "    .dataframe tbody tr th:only-of-type {\n",
              "        vertical-align: middle;\n",
              "    }\n",
              "\n",
              "    .dataframe tbody tr th {\n",
              "        vertical-align: top;\n",
              "    }\n",
              "\n",
              "    .dataframe thead th {\n",
              "        text-align: right;\n",
              "    }\n",
              "</style>\n",
              "<table border=\"1\" class=\"dataframe\">\n",
              "  <thead>\n",
              "    <tr style=\"text-align: right;\">\n",
              "      <th></th>\n",
              "      <th>Image</th>\n",
              "      <th>Similar_Images</th>\n",
              "      <th>Id</th>\n",
              "      <th>fil_path</th>\n",
              "    </tr>\n",
              "  </thead>\n",
              "  <tbody>\n",
              "    <tr>\n",
              "      <th>0</th>\n",
              "      <td>PM-WWA-20050413-003b.jpg</td>\n",
              "      <td>['PM-WWA-20050413-029.jpg']</td>\n",
              "      <td>2764</td>\n",
              "      <td>train/2764/PM-WWA-20050413-003b.jpg</td>\n",
              "    </tr>\n",
              "    <tr>\n",
              "      <th>1</th>\n",
              "      <td>PM-WWA-20050413-029.jpg</td>\n",
              "      <td>['PM-WWA-20050413-003b.jpg']</td>\n",
              "      <td>2764</td>\n",
              "      <td>train/2764/PM-WWA-20050413-029.jpg</td>\n",
              "    </tr>\n",
              "    <tr>\n",
              "      <th>2</th>\n",
              "      <td>PM-WWA-20050413-006.jpg</td>\n",
              "      <td>['PM-WWA-20050413-007.jpg']</td>\n",
              "      <td>2825</td>\n",
              "      <td>train/2825/PM-WWA-20050413-006.jpg</td>\n",
              "    </tr>\n",
              "    <tr>\n",
              "      <th>3</th>\n",
              "      <td>PM-WWA-20050413-007.jpg</td>\n",
              "      <td>['PM-WWA-20050413-006.jpg']</td>\n",
              "      <td>2825</td>\n",
              "      <td>train/2825/PM-WWA-20050413-007.jpg</td>\n",
              "    </tr>\n",
              "    <tr>\n",
              "      <th>4</th>\n",
              "      <td>PM-WWA-20050413-009.jpg</td>\n",
              "      <td>['PM-BIO-20050413-049.jpg']</td>\n",
              "      <td>2826</td>\n",
              "      <td>train/2826/PM-WWA-20050413-009.jpg</td>\n",
              "    </tr>\n",
              "  </tbody>\n",
              "</table>\n",
              "</div>"
            ],
            "text/plain": [
              "                      Image  ...                             fil_path\n",
              "0  PM-WWA-20050413-003b.jpg  ...  train/2764/PM-WWA-20050413-003b.jpg\n",
              "1   PM-WWA-20050413-029.jpg  ...   train/2764/PM-WWA-20050413-029.jpg\n",
              "2   PM-WWA-20050413-006.jpg  ...   train/2825/PM-WWA-20050413-006.jpg\n",
              "3   PM-WWA-20050413-007.jpg  ...   train/2825/PM-WWA-20050413-007.jpg\n",
              "4   PM-WWA-20050413-009.jpg  ...   train/2826/PM-WWA-20050413-009.jpg\n",
              "\n",
              "[5 rows x 4 columns]"
            ]
          },
          "metadata": {
            "tags": []
          },
          "execution_count": 55
        }
      ]
    },
    {
      "cell_type": "code",
      "metadata": {
        "id": "i6PI496_Zv-n",
        "colab_type": "code",
        "colab": {
          "base_uri": "https://localhost:8080/",
          "height": 35
        },
        "outputId": "39ce6101-6e9c-4ced-c4c8-2194a1332c76"
      },
      "source": [
        "coupled.shape"
      ],
      "execution_count": 71,
      "outputs": [
        {
          "output_type": "execute_result",
          "data": {
            "text/plain": [
              "(2302, 4)"
            ]
          },
          "metadata": {
            "tags": []
          },
          "execution_count": 71
        }
      ]
    },
    {
      "cell_type": "code",
      "metadata": {
        "id": "vA2mKXKU6EsC",
        "colab_type": "code",
        "colab": {}
      },
      "source": [
        "coupled['Similar_Images'] = coupled['Similar_Images'].apply(lambda x: eval(x))"
      ],
      "execution_count": 0,
      "outputs": []
    },
    {
      "cell_type": "code",
      "metadata": {
        "id": "v4lH2YcsZoRz",
        "colab_type": "code",
        "colab": {}
      },
      "source": [
        "def _de_norm(df):\n",
        "    lst_col = 'Similar_Images'\n",
        "    r = pd.DataFrame({col: np.repeat(df[col].values, df[lst_col].str.len())\n",
        "                      for col in df.columns.drop(lst_col)}\n",
        "                     ).assign(**{lst_col: np.concatenate(df[lst_col].values)})[df.columns]\n",
        "    return r"
      ],
      "execution_count": 0,
      "outputs": []
    },
    {
      "cell_type": "code",
      "metadata": {
        "id": "jTZzWyjhaKaN",
        "colab_type": "code",
        "colab": {}
      },
      "source": [
        "de_coupled = _de_norm(coupled)"
      ],
      "execution_count": 0,
      "outputs": []
    },
    {
      "cell_type": "code",
      "metadata": {
        "id": "EMnJhKOebC7E",
        "colab_type": "code",
        "colab": {
          "base_uri": "https://localhost:8080/",
          "height": 35
        },
        "outputId": "4ff29a69-3acf-454a-c372-1ff7503a6274"
      },
      "source": [
        "de_coupled['Id'].nunique()"
      ],
      "execution_count": 107,
      "outputs": [
        {
          "output_type": "execute_result",
          "data": {
            "text/plain": [
              "577"
            ]
          },
          "metadata": {
            "tags": []
          },
          "execution_count": 107
        }
      ]
    },
    {
      "cell_type": "code",
      "metadata": {
        "id": "ObqWmLWO6QDZ",
        "colab_type": "code",
        "colab": {}
      },
      "source": [
        "no_coupled = df[df['Similar_Images'].isna()].reset_index(drop=True)"
      ],
      "execution_count": 0,
      "outputs": []
    },
    {
      "cell_type": "code",
      "metadata": {
        "id": "V9DxSzwF6sBj",
        "colab_type": "code",
        "colab": {
          "base_uri": "https://localhost:8080/",
          "height": 35
        },
        "outputId": "d3695cc9-cd47-4058-ad34-0638efffe1f2"
      },
      "source": [
        "no_coupled.shape"
      ],
      "execution_count": 109,
      "outputs": [
        {
          "output_type": "execute_result",
          "data": {
            "text/plain": [
              "(1660, 4)"
            ]
          },
          "metadata": {
            "tags": []
          },
          "execution_count": 109
        }
      ]
    },
    {
      "cell_type": "code",
      "metadata": {
        "id": "2B63s4ag6tWU",
        "colab_type": "code",
        "colab": {
          "base_uri": "https://localhost:8080/",
          "height": 200
        },
        "outputId": "d992341f-5caf-4a6f-ddc2-46ff8b35f1ab"
      },
      "source": [
        "no_coupled.head()"
      ],
      "execution_count": 110,
      "outputs": [
        {
          "output_type": "execute_result",
          "data": {
            "text/html": [
              "<div>\n",
              "<style scoped>\n",
              "    .dataframe tbody tr th:only-of-type {\n",
              "        vertical-align: middle;\n",
              "    }\n",
              "\n",
              "    .dataframe tbody tr th {\n",
              "        vertical-align: top;\n",
              "    }\n",
              "\n",
              "    .dataframe thead th {\n",
              "        text-align: right;\n",
              "    }\n",
              "</style>\n",
              "<table border=\"1\" class=\"dataframe\">\n",
              "  <thead>\n",
              "    <tr style=\"text-align: right;\">\n",
              "      <th></th>\n",
              "      <th>Image</th>\n",
              "      <th>Similar_Images</th>\n",
              "      <th>Id</th>\n",
              "      <th>fil_path</th>\n",
              "    </tr>\n",
              "  </thead>\n",
              "  <tbody>\n",
              "    <tr>\n",
              "      <th>0</th>\n",
              "      <td>IMG_2270-16.jpg</td>\n",
              "      <td>NaN</td>\n",
              "      <td>1756</td>\n",
              "      <td>train/1756/IMG_2270-16.jpg</td>\n",
              "    </tr>\n",
              "    <tr>\n",
              "      <th>1</th>\n",
              "      <td>PM-WWA-20050413-003a.jpg</td>\n",
              "      <td>NaN</td>\n",
              "      <td>2824</td>\n",
              "      <td>train/2824/PM-WWA-20050413-003a.jpg</td>\n",
              "    </tr>\n",
              "    <tr>\n",
              "      <th>2</th>\n",
              "      <td>PM-WWA-20050413-012.jpg</td>\n",
              "      <td>NaN</td>\n",
              "      <td>2827</td>\n",
              "      <td>train/2827/PM-WWA-20050413-012.jpg</td>\n",
              "    </tr>\n",
              "    <tr>\n",
              "      <th>3</th>\n",
              "      <td>PM-BIO-20050414-116.jpg</td>\n",
              "      <td>NaN</td>\n",
              "      <td>2830</td>\n",
              "      <td>train/2830/PM-BIO-20050414-116.jpg</td>\n",
              "    </tr>\n",
              "    <tr>\n",
              "      <th>4</th>\n",
              "      <td>PM-WWA-20050414-096.jpg</td>\n",
              "      <td>NaN</td>\n",
              "      <td>2829</td>\n",
              "      <td>train/2829/PM-WWA-20050414-096.jpg</td>\n",
              "    </tr>\n",
              "  </tbody>\n",
              "</table>\n",
              "</div>"
            ],
            "text/plain": [
              "                      Image  ...                             fil_path\n",
              "0           IMG_2270-16.jpg  ...           train/1756/IMG_2270-16.jpg\n",
              "1  PM-WWA-20050413-003a.jpg  ...  train/2824/PM-WWA-20050413-003a.jpg\n",
              "2   PM-WWA-20050413-012.jpg  ...   train/2827/PM-WWA-20050413-012.jpg\n",
              "3   PM-BIO-20050414-116.jpg  ...   train/2830/PM-BIO-20050414-116.jpg\n",
              "4   PM-WWA-20050414-096.jpg  ...   train/2829/PM-WWA-20050414-096.jpg\n",
              "\n",
              "[5 rows x 4 columns]"
            ]
          },
          "metadata": {
            "tags": []
          },
          "execution_count": 110
        }
      ]
    },
    {
      "cell_type": "code",
      "metadata": {
        "id": "37jtUXgd6xr3",
        "colab_type": "code",
        "colab": {}
      },
      "source": [
        "shifted = no_coupled.shift(-1).drop(columns=['Similar_Images'])"
      ],
      "execution_count": 0,
      "outputs": []
    },
    {
      "cell_type": "code",
      "metadata": {
        "id": "4uY6ySWH8UwF",
        "colab_type": "code",
        "colab": {}
      },
      "source": [
        "shifted.columns=['Image_2', 'Id_2', 'fil_path_2']"
      ],
      "execution_count": 0,
      "outputs": []
    },
    {
      "cell_type": "code",
      "metadata": {
        "id": "mlJtry3E8nEB",
        "colab_type": "code",
        "colab": {}
      },
      "source": [
        "shifted.iloc[-1] = no_coupled[['Image', 'Id', 'fil_path']].iloc[0].tolist()"
      ],
      "execution_count": 0,
      "outputs": []
    },
    {
      "cell_type": "code",
      "metadata": {
        "id": "xHqqsn-K9KbT",
        "colab_type": "code",
        "colab": {}
      },
      "source": [
        "pd.merge(no_coupled[['Image', 'Id', 'fil_path']], shifted, left_index=True, right_index=True).to_csv('not_similar.csv', index=False)"
      ],
      "execution_count": 0,
      "outputs": []
    },
    {
      "cell_type": "code",
      "metadata": {
        "id": "0F5j7CF9_WCN",
        "colab_type": "code",
        "colab": {
          "base_uri": "https://localhost:8080/",
          "height": 200
        },
        "outputId": "7537dd35-4b70-47a1-c4bc-6a74d35cc3f8"
      },
      "source": [
        "de_coupled.head()"
      ],
      "execution_count": 150,
      "outputs": [
        {
          "output_type": "execute_result",
          "data": {
            "text/html": [
              "<div>\n",
              "<style scoped>\n",
              "    .dataframe tbody tr th:only-of-type {\n",
              "        vertical-align: middle;\n",
              "    }\n",
              "\n",
              "    .dataframe tbody tr th {\n",
              "        vertical-align: top;\n",
              "    }\n",
              "\n",
              "    .dataframe thead th {\n",
              "        text-align: right;\n",
              "    }\n",
              "</style>\n",
              "<table border=\"1\" class=\"dataframe\">\n",
              "  <thead>\n",
              "    <tr style=\"text-align: right;\">\n",
              "      <th></th>\n",
              "      <th>Image</th>\n",
              "      <th>Similar_Images</th>\n",
              "      <th>Id</th>\n",
              "      <th>fil_path</th>\n",
              "    </tr>\n",
              "  </thead>\n",
              "  <tbody>\n",
              "    <tr>\n",
              "      <th>0</th>\n",
              "      <td>PM-WWA-20050413-003b.jpg</td>\n",
              "      <td>PM-WWA-20050413-029.jpg</td>\n",
              "      <td>2764</td>\n",
              "      <td>train/2764/PM-WWA-20050413-003b.jpg</td>\n",
              "    </tr>\n",
              "    <tr>\n",
              "      <th>1</th>\n",
              "      <td>PM-WWA-20050413-029.jpg</td>\n",
              "      <td>PM-WWA-20050413-003b.jpg</td>\n",
              "      <td>2764</td>\n",
              "      <td>train/2764/PM-WWA-20050413-029.jpg</td>\n",
              "    </tr>\n",
              "    <tr>\n",
              "      <th>2</th>\n",
              "      <td>PM-WWA-20050413-006.jpg</td>\n",
              "      <td>PM-WWA-20050413-007.jpg</td>\n",
              "      <td>2825</td>\n",
              "      <td>train/2825/PM-WWA-20050413-006.jpg</td>\n",
              "    </tr>\n",
              "    <tr>\n",
              "      <th>3</th>\n",
              "      <td>PM-WWA-20050413-007.jpg</td>\n",
              "      <td>PM-WWA-20050413-006.jpg</td>\n",
              "      <td>2825</td>\n",
              "      <td>train/2825/PM-WWA-20050413-007.jpg</td>\n",
              "    </tr>\n",
              "    <tr>\n",
              "      <th>4</th>\n",
              "      <td>PM-WWA-20050413-009.jpg</td>\n",
              "      <td>PM-BIO-20050413-049.jpg</td>\n",
              "      <td>2826</td>\n",
              "      <td>train/2826/PM-WWA-20050413-009.jpg</td>\n",
              "    </tr>\n",
              "  </tbody>\n",
              "</table>\n",
              "</div>"
            ],
            "text/plain": [
              "                      Image  ...                             fil_path\n",
              "0  PM-WWA-20050413-003b.jpg  ...  train/2764/PM-WWA-20050413-003b.jpg\n",
              "1   PM-WWA-20050413-029.jpg  ...   train/2764/PM-WWA-20050413-029.jpg\n",
              "2   PM-WWA-20050413-006.jpg  ...   train/2825/PM-WWA-20050413-006.jpg\n",
              "3   PM-WWA-20050413-007.jpg  ...   train/2825/PM-WWA-20050413-007.jpg\n",
              "4   PM-WWA-20050413-009.jpg  ...   train/2826/PM-WWA-20050413-009.jpg\n",
              "\n",
              "[5 rows x 4 columns]"
            ]
          },
          "metadata": {
            "tags": []
          },
          "execution_count": 150
        }
      ]
    },
    {
      "cell_type": "code",
      "metadata": {
        "id": "8kHuxq08EkLe",
        "colab_type": "code",
        "colab": {
          "base_uri": "https://localhost:8080/",
          "height": 200
        },
        "outputId": "370da4db-cca9-4edd-ab21-67db4474d6ee"
      },
      "source": [
        "train = pd.read_csv('train.csv')\n",
        "train.head()"
      ],
      "execution_count": 167,
      "outputs": [
        {
          "output_type": "execute_result",
          "data": {
            "text/html": [
              "<div>\n",
              "<style scoped>\n",
              "    .dataframe tbody tr th:only-of-type {\n",
              "        vertical-align: middle;\n",
              "    }\n",
              "\n",
              "    .dataframe tbody tr th {\n",
              "        vertical-align: top;\n",
              "    }\n",
              "\n",
              "    .dataframe thead th {\n",
              "        text-align: right;\n",
              "    }\n",
              "</style>\n",
              "<table border=\"1\" class=\"dataframe\">\n",
              "  <thead>\n",
              "    <tr style=\"text-align: right;\">\n",
              "      <th></th>\n",
              "      <th>Image</th>\n",
              "      <th>Id</th>\n",
              "      <th>fil_path</th>\n",
              "    </tr>\n",
              "  </thead>\n",
              "  <tbody>\n",
              "    <tr>\n",
              "      <th>0</th>\n",
              "      <td>PM-WWA-20050416-037.jpg</td>\n",
              "      <td>-1</td>\n",
              "      <td>train/-1/PM-WWA-20050416-037.jpg</td>\n",
              "    </tr>\n",
              "    <tr>\n",
              "      <th>1</th>\n",
              "      <td>PM-WWA-20050513-229.jpg</td>\n",
              "      <td>-1</td>\n",
              "      <td>train/-1/PM-WWA-20050513-229.jpg</td>\n",
              "    </tr>\n",
              "    <tr>\n",
              "      <th>2</th>\n",
              "      <td>PM-WWA-20050513-243.jpg</td>\n",
              "      <td>-1</td>\n",
              "      <td>train/-1/PM-WWA-20050513-243.jpg</td>\n",
              "    </tr>\n",
              "    <tr>\n",
              "      <th>3</th>\n",
              "      <td>PM-WWA-20050520-134.jpg</td>\n",
              "      <td>-1</td>\n",
              "      <td>train/-1/PM-WWA-20050520-134.jpg</td>\n",
              "    </tr>\n",
              "    <tr>\n",
              "      <th>4</th>\n",
              "      <td>PM-WWA-20050612-047.jpg</td>\n",
              "      <td>-1</td>\n",
              "      <td>train/-1/PM-WWA-20050612-047.jpg</td>\n",
              "    </tr>\n",
              "  </tbody>\n",
              "</table>\n",
              "</div>"
            ],
            "text/plain": [
              "                     Image  Id                          fil_path\n",
              "0  PM-WWA-20050416-037.jpg  -1  train/-1/PM-WWA-20050416-037.jpg\n",
              "1  PM-WWA-20050513-229.jpg  -1  train/-1/PM-WWA-20050513-229.jpg\n",
              "2  PM-WWA-20050513-243.jpg  -1  train/-1/PM-WWA-20050513-243.jpg\n",
              "3  PM-WWA-20050520-134.jpg  -1  train/-1/PM-WWA-20050520-134.jpg\n",
              "4  PM-WWA-20050612-047.jpg  -1  train/-1/PM-WWA-20050612-047.jpg"
            ]
          },
          "metadata": {
            "tags": []
          },
          "execution_count": 167
        }
      ]
    },
    {
      "cell_type": "code",
      "metadata": {
        "id": "SQ-xyuhLRRsd",
        "colab_type": "code",
        "colab": {}
      },
      "source": [
        "fin_train = pd.merge(de_coupled, train, left_on='Similar_Images', right_on='Image', how='left')"
      ],
      "execution_count": 0,
      "outputs": []
    },
    {
      "cell_type": "code",
      "metadata": {
        "id": "kz5fwTp7Rvo4",
        "colab_type": "code",
        "colab": {}
      },
      "source": [
        "fin_train = fin_train[['Image_x', 'Id_x', 'fil_path_x', 'Image_y', 'Id_y',\n",
        "       'fil_path_y']]"
      ],
      "execution_count": 0,
      "outputs": []
    },
    {
      "cell_type": "code",
      "metadata": {
        "id": "lRpIzFZLSCH0",
        "colab_type": "code",
        "colab": {}
      },
      "source": [
        "fin_train.columns = ['Image', 'Id', 'fil_path', 'Image_2', 'Id_2', 'fil_path_2']"
      ],
      "execution_count": 0,
      "outputs": []
    },
    {
      "cell_type": "code",
      "metadata": {
        "id": "AFvlb3iUSOEN",
        "colab_type": "code",
        "colab": {}
      },
      "source": [
        "fin_train.to_csv('final_train.csv', index=False)"
      ],
      "execution_count": 0,
      "outputs": []
    },
    {
      "cell_type": "code",
      "metadata": {
        "id": "3S2Xoxj9Sln7",
        "colab_type": "code",
        "colab": {}
      },
      "source": [
        ""
      ],
      "execution_count": 0,
      "outputs": []
    }
  ]
}