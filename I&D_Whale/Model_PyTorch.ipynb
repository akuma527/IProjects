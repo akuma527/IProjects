{
  "nbformat": 4,
  "nbformat_minor": 0,
  "metadata": {
    "colab": {
      "name": "Model_PyTorch.ipynb",
      "provenance": [],
      "collapsed_sections": [],
      "machine_shape": "hm",
      "authorship_tag": "ABX9TyP7N2s15JHaYzu74WMcd+PS",
      "include_colab_link": true
    },
    "kernelspec": {
      "name": "python3",
      "display_name": "Python 3"
    },
    "accelerator": "GPU",
    "widgets": {
      "application/vnd.jupyter.widget-state+json": {
        "bd037819afad4ba8955ac19effddb2b4": {
          "model_module": "@jupyter-widgets/controls",
          "model_name": "HBoxModel",
          "state": {
            "_view_name": "HBoxView",
            "_dom_classes": [],
            "_model_name": "HBoxModel",
            "_view_module": "@jupyter-widgets/controls",
            "_model_module_version": "1.5.0",
            "_view_count": null,
            "_view_module_version": "1.5.0",
            "box_style": "",
            "layout": "IPY_MODEL_036f2f9672c04a8586d47a41931a7cbc",
            "_model_module": "@jupyter-widgets/controls",
            "children": [
              "IPY_MODEL_9857d7f7c49a4a818e0a8899180944ac",
              "IPY_MODEL_c74ea1321cc94e74bea2a39b5e94b11f"
            ]
          }
        },
        "036f2f9672c04a8586d47a41931a7cbc": {
          "model_module": "@jupyter-widgets/base",
          "model_name": "LayoutModel",
          "state": {
            "_view_name": "LayoutView",
            "grid_template_rows": null,
            "right": null,
            "justify_content": null,
            "_view_module": "@jupyter-widgets/base",
            "overflow": null,
            "_model_module_version": "1.2.0",
            "_view_count": null,
            "flex_flow": null,
            "width": null,
            "min_width": null,
            "border": null,
            "align_items": null,
            "bottom": null,
            "_model_module": "@jupyter-widgets/base",
            "top": null,
            "grid_column": null,
            "overflow_y": null,
            "overflow_x": null,
            "grid_auto_flow": null,
            "grid_area": null,
            "grid_template_columns": null,
            "flex": null,
            "_model_name": "LayoutModel",
            "justify_items": null,
            "grid_row": null,
            "max_height": null,
            "align_content": null,
            "visibility": null,
            "align_self": null,
            "height": null,
            "min_height": null,
            "padding": null,
            "grid_auto_rows": null,
            "grid_gap": null,
            "max_width": null,
            "order": null,
            "_view_module_version": "1.2.0",
            "grid_template_areas": null,
            "object_position": null,
            "object_fit": null,
            "grid_auto_columns": null,
            "margin": null,
            "display": null,
            "left": null
          }
        },
        "9857d7f7c49a4a818e0a8899180944ac": {
          "model_module": "@jupyter-widgets/controls",
          "model_name": "FloatProgressModel",
          "state": {
            "_view_name": "ProgressView",
            "style": "IPY_MODEL_67fd82eae88a4856bbc3193884e867b7",
            "_dom_classes": [],
            "description": "  0%",
            "_model_name": "FloatProgressModel",
            "bar_style": "",
            "max": 15026,
            "_view_module": "@jupyter-widgets/controls",
            "_model_module_version": "1.5.0",
            "value": 13,
            "_view_count": null,
            "_view_module_version": "1.5.0",
            "orientation": "horizontal",
            "min": 0,
            "description_tooltip": null,
            "_model_module": "@jupyter-widgets/controls",
            "layout": "IPY_MODEL_d80545d873bd4abc9a5b6ffb785a2239"
          }
        },
        "c74ea1321cc94e74bea2a39b5e94b11f": {
          "model_module": "@jupyter-widgets/controls",
          "model_name": "HTMLModel",
          "state": {
            "_view_name": "HTMLView",
            "style": "IPY_MODEL_3beb2541b7a6490097f43cf80151161f",
            "_dom_classes": [],
            "description": "",
            "_model_name": "HTMLModel",
            "placeholder": "​",
            "_view_module": "@jupyter-widgets/controls",
            "_model_module_version": "1.5.0",
            "value": " 13/15026 [00:21&lt;6:41:46,  1.61s/it]",
            "_view_count": null,
            "_view_module_version": "1.5.0",
            "description_tooltip": null,
            "_model_module": "@jupyter-widgets/controls",
            "layout": "IPY_MODEL_3be3713614de44439a463825f427fae3"
          }
        },
        "67fd82eae88a4856bbc3193884e867b7": {
          "model_module": "@jupyter-widgets/controls",
          "model_name": "ProgressStyleModel",
          "state": {
            "_view_name": "StyleView",
            "_model_name": "ProgressStyleModel",
            "description_width": "initial",
            "_view_module": "@jupyter-widgets/base",
            "_model_module_version": "1.5.0",
            "_view_count": null,
            "_view_module_version": "1.2.0",
            "bar_color": null,
            "_model_module": "@jupyter-widgets/controls"
          }
        },
        "d80545d873bd4abc9a5b6ffb785a2239": {
          "model_module": "@jupyter-widgets/base",
          "model_name": "LayoutModel",
          "state": {
            "_view_name": "LayoutView",
            "grid_template_rows": null,
            "right": null,
            "justify_content": null,
            "_view_module": "@jupyter-widgets/base",
            "overflow": null,
            "_model_module_version": "1.2.0",
            "_view_count": null,
            "flex_flow": null,
            "width": null,
            "min_width": null,
            "border": null,
            "align_items": null,
            "bottom": null,
            "_model_module": "@jupyter-widgets/base",
            "top": null,
            "grid_column": null,
            "overflow_y": null,
            "overflow_x": null,
            "grid_auto_flow": null,
            "grid_area": null,
            "grid_template_columns": null,
            "flex": null,
            "_model_name": "LayoutModel",
            "justify_items": null,
            "grid_row": null,
            "max_height": null,
            "align_content": null,
            "visibility": null,
            "align_self": null,
            "height": null,
            "min_height": null,
            "padding": null,
            "grid_auto_rows": null,
            "grid_gap": null,
            "max_width": null,
            "order": null,
            "_view_module_version": "1.2.0",
            "grid_template_areas": null,
            "object_position": null,
            "object_fit": null,
            "grid_auto_columns": null,
            "margin": null,
            "display": null,
            "left": null
          }
        },
        "3beb2541b7a6490097f43cf80151161f": {
          "model_module": "@jupyter-widgets/controls",
          "model_name": "DescriptionStyleModel",
          "state": {
            "_view_name": "StyleView",
            "_model_name": "DescriptionStyleModel",
            "description_width": "",
            "_view_module": "@jupyter-widgets/base",
            "_model_module_version": "1.5.0",
            "_view_count": null,
            "_view_module_version": "1.2.0",
            "_model_module": "@jupyter-widgets/controls"
          }
        },
        "3be3713614de44439a463825f427fae3": {
          "model_module": "@jupyter-widgets/base",
          "model_name": "LayoutModel",
          "state": {
            "_view_name": "LayoutView",
            "grid_template_rows": null,
            "right": null,
            "justify_content": null,
            "_view_module": "@jupyter-widgets/base",
            "overflow": null,
            "_model_module_version": "1.2.0",
            "_view_count": null,
            "flex_flow": null,
            "width": null,
            "min_width": null,
            "border": null,
            "align_items": null,
            "bottom": null,
            "_model_module": "@jupyter-widgets/base",
            "top": null,
            "grid_column": null,
            "overflow_y": null,
            "overflow_x": null,
            "grid_auto_flow": null,
            "grid_area": null,
            "grid_template_columns": null,
            "flex": null,
            "_model_name": "LayoutModel",
            "justify_items": null,
            "grid_row": null,
            "max_height": null,
            "align_content": null,
            "visibility": null,
            "align_self": null,
            "height": null,
            "min_height": null,
            "padding": null,
            "grid_auto_rows": null,
            "grid_gap": null,
            "max_width": null,
            "order": null,
            "_view_module_version": "1.2.0",
            "grid_template_areas": null,
            "object_position": null,
            "object_fit": null,
            "grid_auto_columns": null,
            "margin": null,
            "display": null,
            "left": null
          }
        }
      }
    }
  },
  "cells": [
    {
      "cell_type": "markdown",
      "metadata": {
        "id": "view-in-github",
        "colab_type": "text"
      },
      "source": [
        "<a href=\"https://colab.research.google.com/github/akuma527/IProjects/blob/master/I%26D_Whale/Model_PyTorch.ipynb\" target=\"_parent\"><img src=\"https://colab.research.google.com/assets/colab-badge.svg\" alt=\"Open In Colab\"/></a>"
      ]
    },
    {
      "cell_type": "code",
      "metadata": {
        "id": "HYz2Ss4x2WOG",
        "colab_type": "code",
        "outputId": "8cd4e80d-1b30-497a-9c71-06c74bfed935",
        "colab": {
          "base_uri": "https://localhost:8080/",
          "height": 122
        }
      },
      "source": [
        "from google.colab import drive\n",
        "drive.mount('/content/drive')"
      ],
      "execution_count": 12,
      "outputs": [
        {
          "output_type": "stream",
          "text": [
            "Go to this URL in a browser: https://accounts.google.com/o/oauth2/auth?client_id=947318989803-6bn6qk8qdgf4n4g3pfee6491hc0brc4i.apps.googleusercontent.com&redirect_uri=urn%3aietf%3awg%3aoauth%3a2.0%3aoob&response_type=code&scope=email%20https%3a%2f%2fwww.googleapis.com%2fauth%2fdocs.test%20https%3a%2f%2fwww.googleapis.com%2fauth%2fdrive%20https%3a%2f%2fwww.googleapis.com%2fauth%2fdrive.photos.readonly%20https%3a%2f%2fwww.googleapis.com%2fauth%2fpeopleapi.readonly\n",
            "\n",
            "Enter your authorization code:\n",
            "··········\n",
            "Mounted at /content/drive\n"
          ],
          "name": "stdout"
        }
      ]
    },
    {
      "cell_type": "code",
      "metadata": {
        "id": "yvoiLT-5l1yJ",
        "colab_type": "code",
        "outputId": "dbc2e01a-b807-4a70-f6fa-58ec226ce2e7",
        "colab": {
          "base_uri": "https://localhost:8080/",
          "height": 34
        }
      },
      "source": [
        "pip install -U tqdm"
      ],
      "execution_count": 13,
      "outputs": [
        {
          "output_type": "stream",
          "text": [
            "Requirement already up-to-date: tqdm in /usr/local/lib/python3.6/dist-packages (4.43.0)\n"
          ],
          "name": "stdout"
        }
      ]
    },
    {
      "cell_type": "code",
      "metadata": {
        "id": "DAbhEW1z2ihS",
        "colab_type": "code",
        "outputId": "4faa7868-3b2c-4311-8f92-2b6b814069e2",
        "colab": {
          "base_uri": "https://localhost:8080/",
          "height": 34
        }
      },
      "source": [
        "%cd /content/drive/My Drive/Colab Notebooks/I&D_Whale/data/"
      ],
      "execution_count": 14,
      "outputs": [
        {
          "output_type": "stream",
          "text": [
            "/content/drive/My Drive/Colab Notebooks/I&D_Whale/data\n"
          ],
          "name": "stdout"
        }
      ]
    },
    {
      "cell_type": "markdown",
      "metadata": {
        "id": "vbYUXMt5RcIb",
        "colab_type": "text"
      },
      "source": [
        "## Loading a Pretrained VGG16"
      ]
    },
    {
      "cell_type": "code",
      "metadata": {
        "id": "EzT_W6Io4heY",
        "colab_type": "code",
        "colab": {}
      },
      "source": [
        "import torch\n",
        "import numpy as np\n",
        "import torchvision.models as models\n",
        "from torchvision import transforms\n",
        "from torch.autograd import Variable\n",
        "from PIL import Image"
      ],
      "execution_count": 0,
      "outputs": []
    },
    {
      "cell_type": "code",
      "metadata": {
        "id": "aTED1Y2gH025",
        "colab_type": "code",
        "colab": {}
      },
      "source": [
        "model = models.vgg16(pretrained=True, progress=True)"
      ],
      "execution_count": 0,
      "outputs": []
    },
    {
      "cell_type": "code",
      "metadata": {
        "id": "8itA4SnzlOEE",
        "colab_type": "code",
        "colab": {}
      },
      "source": [
        "# model = models.resnet34(pretrained=True, progress=True)"
      ],
      "execution_count": 0,
      "outputs": []
    },
    {
      "cell_type": "markdown",
      "metadata": {
        "id": "cp7mRy_URkbf",
        "colab_type": "text"
      },
      "source": [
        "Image Preprocessing Function"
      ]
    },
    {
      "cell_type": "code",
      "metadata": {
        "id": "hpdcE2oWRO8U",
        "colab_type": "code",
        "colab": {}
      },
      "source": [
        "import pandas as pd\n",
        "import os\n",
        "import cv2"
      ],
      "execution_count": 0,
      "outputs": []
    },
    {
      "cell_type": "code",
      "metadata": {
        "id": "OI9ob4DaRQIs",
        "colab_type": "code",
        "colab": {}
      },
      "source": [
        "t1 = pd.read_csv('final_train.csv')\n",
        "t2 = pd.read_csv('test.csv')"
      ],
      "execution_count": 0,
      "outputs": []
    },
    {
      "cell_type": "code",
      "metadata": {
        "id": "UOIkvNPnnGUK",
        "colab_type": "code",
        "outputId": "9aee0dd0-b8c7-4779-8d89-fbc83d08835d",
        "colab": {
          "base_uri": "https://localhost:8080/",
          "height": 204
        }
      },
      "source": [
        "t2.head()"
      ],
      "execution_count": 20,
      "outputs": [
        {
          "output_type": "execute_result",
          "data": {
            "text/html": [
              "<div>\n",
              "<style scoped>\n",
              "    .dataframe tbody tr th:only-of-type {\n",
              "        vertical-align: middle;\n",
              "    }\n",
              "\n",
              "    .dataframe tbody tr th {\n",
              "        vertical-align: top;\n",
              "    }\n",
              "\n",
              "    .dataframe thead th {\n",
              "        text-align: right;\n",
              "    }\n",
              "</style>\n",
              "<table border=\"1\" class=\"dataframe\">\n",
              "  <thead>\n",
              "    <tr style=\"text-align: right;\">\n",
              "      <th></th>\n",
              "      <th>Image</th>\n",
              "      <th>Id</th>\n",
              "      <th>fil_path</th>\n",
              "    </tr>\n",
              "  </thead>\n",
              "  <tbody>\n",
              "    <tr>\n",
              "      <th>0</th>\n",
              "      <td>PM-WWA-20170321-046.jpg</td>\n",
              "      <td>0</td>\n",
              "      <td>test/PM-WWA-20170321-046.jpg</td>\n",
              "    </tr>\n",
              "    <tr>\n",
              "      <th>1</th>\n",
              "      <td>PM-WWA-20170321-053.jpg</td>\n",
              "      <td>0</td>\n",
              "      <td>test/PM-WWA-20170321-053.jpg</td>\n",
              "    </tr>\n",
              "    <tr>\n",
              "      <th>2</th>\n",
              "      <td>PM-WWA-20170321-322.jpg</td>\n",
              "      <td>0</td>\n",
              "      <td>test/PM-WWA-20170321-322.jpg</td>\n",
              "    </tr>\n",
              "    <tr>\n",
              "      <th>3</th>\n",
              "      <td>PM-WWA-20170321-332.jpg</td>\n",
              "      <td>0</td>\n",
              "      <td>test/PM-WWA-20170321-332.jpg</td>\n",
              "    </tr>\n",
              "    <tr>\n",
              "      <th>4</th>\n",
              "      <td>PM-WWA-20170321-344.jpg</td>\n",
              "      <td>0</td>\n",
              "      <td>test/PM-WWA-20170321-344.jpg</td>\n",
              "    </tr>\n",
              "  </tbody>\n",
              "</table>\n",
              "</div>"
            ],
            "text/plain": [
              "                     Image  Id                      fil_path\n",
              "0  PM-WWA-20170321-046.jpg   0  test/PM-WWA-20170321-046.jpg\n",
              "1  PM-WWA-20170321-053.jpg   0  test/PM-WWA-20170321-053.jpg\n",
              "2  PM-WWA-20170321-322.jpg   0  test/PM-WWA-20170321-322.jpg\n",
              "3  PM-WWA-20170321-332.jpg   0  test/PM-WWA-20170321-332.jpg\n",
              "4  PM-WWA-20170321-344.jpg   0  test/PM-WWA-20170321-344.jpg"
            ]
          },
          "metadata": {
            "tags": []
          },
          "execution_count": 20
        }
      ]
    },
    {
      "cell_type": "code",
      "metadata": {
        "id": "yL-acsFpRQCj",
        "colab_type": "code",
        "outputId": "31be46b6-c7c0-4753-a6b5-89fed6679c40",
        "colab": {
          "base_uri": "https://localhost:8080/",
          "height": 204
        }
      },
      "source": [
        "t1.head()"
      ],
      "execution_count": 21,
      "outputs": [
        {
          "output_type": "execute_result",
          "data": {
            "text/html": [
              "<div>\n",
              "<style scoped>\n",
              "    .dataframe tbody tr th:only-of-type {\n",
              "        vertical-align: middle;\n",
              "    }\n",
              "\n",
              "    .dataframe tbody tr th {\n",
              "        vertical-align: top;\n",
              "    }\n",
              "\n",
              "    .dataframe thead th {\n",
              "        text-align: right;\n",
              "    }\n",
              "</style>\n",
              "<table border=\"1\" class=\"dataframe\">\n",
              "  <thead>\n",
              "    <tr style=\"text-align: right;\">\n",
              "      <th></th>\n",
              "      <th>Image</th>\n",
              "      <th>Id</th>\n",
              "      <th>fil_path</th>\n",
              "      <th>Image_2</th>\n",
              "      <th>Id_2</th>\n",
              "      <th>fil_path_2</th>\n",
              "    </tr>\n",
              "  </thead>\n",
              "  <tbody>\n",
              "    <tr>\n",
              "      <th>0</th>\n",
              "      <td>PM-WWA-20050413-003b.jpg</td>\n",
              "      <td>2764</td>\n",
              "      <td>train/2764/PM-WWA-20050413-003b.jpg</td>\n",
              "      <td>PM-WWA-20050413-029.jpg</td>\n",
              "      <td>2764</td>\n",
              "      <td>train/2764/PM-WWA-20050413-029.jpg</td>\n",
              "    </tr>\n",
              "    <tr>\n",
              "      <th>1</th>\n",
              "      <td>PM-WWA-20050413-029.jpg</td>\n",
              "      <td>2764</td>\n",
              "      <td>train/2764/PM-WWA-20050413-029.jpg</td>\n",
              "      <td>PM-WWA-20050413-003b.jpg</td>\n",
              "      <td>2764</td>\n",
              "      <td>train/2764/PM-WWA-20050413-003b.jpg</td>\n",
              "    </tr>\n",
              "    <tr>\n",
              "      <th>2</th>\n",
              "      <td>PM-WWA-20050413-006.jpg</td>\n",
              "      <td>2825</td>\n",
              "      <td>train/2825/PM-WWA-20050413-006.jpg</td>\n",
              "      <td>PM-WWA-20050413-007.jpg</td>\n",
              "      <td>2825</td>\n",
              "      <td>train/2825/PM-WWA-20050413-007.jpg</td>\n",
              "    </tr>\n",
              "    <tr>\n",
              "      <th>3</th>\n",
              "      <td>PM-WWA-20050413-007.jpg</td>\n",
              "      <td>2825</td>\n",
              "      <td>train/2825/PM-WWA-20050413-007.jpg</td>\n",
              "      <td>PM-WWA-20050413-006.jpg</td>\n",
              "      <td>2825</td>\n",
              "      <td>train/2825/PM-WWA-20050413-006.jpg</td>\n",
              "    </tr>\n",
              "    <tr>\n",
              "      <th>4</th>\n",
              "      <td>PM-WWA-20050413-009.jpg</td>\n",
              "      <td>2826</td>\n",
              "      <td>train/2826/PM-WWA-20050413-009.jpg</td>\n",
              "      <td>PM-BIO-20050413-049.jpg</td>\n",
              "      <td>2826</td>\n",
              "      <td>train/2826/PM-BIO-20050413-049.jpg</td>\n",
              "    </tr>\n",
              "  </tbody>\n",
              "</table>\n",
              "</div>"
            ],
            "text/plain": [
              "                      Image    Id  ...  Id_2                           fil_path_2\n",
              "0  PM-WWA-20050413-003b.jpg  2764  ...  2764   train/2764/PM-WWA-20050413-029.jpg\n",
              "1   PM-WWA-20050413-029.jpg  2764  ...  2764  train/2764/PM-WWA-20050413-003b.jpg\n",
              "2   PM-WWA-20050413-006.jpg  2825  ...  2825   train/2825/PM-WWA-20050413-007.jpg\n",
              "3   PM-WWA-20050413-007.jpg  2825  ...  2825   train/2825/PM-WWA-20050413-006.jpg\n",
              "4   PM-WWA-20050413-009.jpg  2826  ...  2826   train/2826/PM-BIO-20050413-049.jpg\n",
              "\n",
              "[5 rows x 6 columns]"
            ]
          },
          "metadata": {
            "tags": []
          },
          "execution_count": 21
        }
      ]
    },
    {
      "cell_type": "markdown",
      "metadata": {
        "id": "gzv00mspRg3l",
        "colab_type": "text"
      },
      "source": [
        "Removing Classification Layer"
      ]
    },
    {
      "cell_type": "code",
      "metadata": {
        "id": "eQvXbb3VcdpZ",
        "colab_type": "code",
        "colab": {}
      },
      "source": [
        "model.classifier = torch.nn.Sequential(*[model.classifier[i] for i in range(4)])"
      ],
      "execution_count": 0,
      "outputs": []
    },
    {
      "cell_type": "markdown",
      "metadata": {
        "id": "d8um1ci7eVI2",
        "colab_type": "text"
      },
      "source": [
        "# Convert Images to Embeddings"
      ]
    },
    {
      "cell_type": "code",
      "metadata": {
        "id": "gu28zfJXOUqN",
        "colab_type": "code",
        "colab": {}
      },
      "source": [
        "imsize = 256\n",
        "loader = transforms.Compose([transforms.Resize(imsize), transforms.ToTensor()])\n",
        "\n",
        "def image_loader(image_name):\n",
        "    \"\"\"load image, returns cuda tensor\"\"\"\n",
        "    image = Image.open(image_name)\n",
        "    image = loader(image).float()\n",
        "    image = Variable(image, requires_grad=True)\n",
        "    image = image.unsqueeze(0)  #this is for VGG, may not be needed for ResNet\n",
        "    v = model(image).detach().numpy().flatten().reshape(1,-1)\n",
        "    return v #assumes that you're using GPU"
      ],
      "execution_count": 0,
      "outputs": []
    },
    {
      "cell_type": "code",
      "metadata": {
        "id": "POo5HTIOnizY",
        "colab_type": "code",
        "outputId": "6ba3b67b-43d7-4526-ead5-6445ed818d07",
        "colab": {
          "base_uri": "https://localhost:8080/",
          "height": 119
        }
      },
      "source": [
        "a = t1[['Image', 'fil_path']]\n",
        "a['type'] = 'train'"
      ],
      "execution_count": 24,
      "outputs": [
        {
          "output_type": "stream",
          "text": [
            "/usr/local/lib/python3.6/dist-packages/ipykernel_launcher.py:2: SettingWithCopyWarning: \n",
            "A value is trying to be set on a copy of a slice from a DataFrame.\n",
            "Try using .loc[row_indexer,col_indexer] = value instead\n",
            "\n",
            "See the caveats in the documentation: http://pandas.pydata.org/pandas-docs/stable/user_guide/indexing.html#returning-a-view-versus-a-copy\n",
            "  \n"
          ],
          "name": "stderr"
        }
      ]
    },
    {
      "cell_type": "code",
      "metadata": {
        "id": "6O6GB4pepcSg",
        "colab_type": "code",
        "colab": {}
      },
      "source": [
        "b = t2[['Image', 'fil_path']]\n",
        "b['type'] = 'test'"
      ],
      "execution_count": 0,
      "outputs": []
    },
    {
      "cell_type": "code",
      "metadata": {
        "id": "UTQ4CThnpr96",
        "colab_type": "code",
        "colab": {}
      },
      "source": [
        "df = pd.concat([a, b], ignore_index=True, sort=False)"
      ],
      "execution_count": 0,
      "outputs": []
    },
    {
      "cell_type": "code",
      "metadata": {
        "id": "1VetsL1Lp3Lz",
        "colab_type": "code",
        "outputId": "dcf57708-5ee7-4ec7-f4d9-ca59ed4182da",
        "colab": {
          "base_uri": "https://localhost:8080/",
          "height": 204
        }
      },
      "source": [
        "df.head()"
      ],
      "execution_count": 27,
      "outputs": [
        {
          "output_type": "execute_result",
          "data": {
            "text/html": [
              "<div>\n",
              "<style scoped>\n",
              "    .dataframe tbody tr th:only-of-type {\n",
              "        vertical-align: middle;\n",
              "    }\n",
              "\n",
              "    .dataframe tbody tr th {\n",
              "        vertical-align: top;\n",
              "    }\n",
              "\n",
              "    .dataframe thead th {\n",
              "        text-align: right;\n",
              "    }\n",
              "</style>\n",
              "<table border=\"1\" class=\"dataframe\">\n",
              "  <thead>\n",
              "    <tr style=\"text-align: right;\">\n",
              "      <th></th>\n",
              "      <th>Image</th>\n",
              "      <th>fil_path</th>\n",
              "      <th>type</th>\n",
              "    </tr>\n",
              "  </thead>\n",
              "  <tbody>\n",
              "    <tr>\n",
              "      <th>0</th>\n",
              "      <td>PM-WWA-20050413-003b.jpg</td>\n",
              "      <td>train/2764/PM-WWA-20050413-003b.jpg</td>\n",
              "      <td>train</td>\n",
              "    </tr>\n",
              "    <tr>\n",
              "      <th>1</th>\n",
              "      <td>PM-WWA-20050413-029.jpg</td>\n",
              "      <td>train/2764/PM-WWA-20050413-029.jpg</td>\n",
              "      <td>train</td>\n",
              "    </tr>\n",
              "    <tr>\n",
              "      <th>2</th>\n",
              "      <td>PM-WWA-20050413-006.jpg</td>\n",
              "      <td>train/2825/PM-WWA-20050413-006.jpg</td>\n",
              "      <td>train</td>\n",
              "    </tr>\n",
              "    <tr>\n",
              "      <th>3</th>\n",
              "      <td>PM-WWA-20050413-007.jpg</td>\n",
              "      <td>train/2825/PM-WWA-20050413-007.jpg</td>\n",
              "      <td>train</td>\n",
              "    </tr>\n",
              "    <tr>\n",
              "      <th>4</th>\n",
              "      <td>PM-WWA-20050413-009.jpg</td>\n",
              "      <td>train/2826/PM-WWA-20050413-009.jpg</td>\n",
              "      <td>train</td>\n",
              "    </tr>\n",
              "  </tbody>\n",
              "</table>\n",
              "</div>"
            ],
            "text/plain": [
              "                      Image                             fil_path   type\n",
              "0  PM-WWA-20050413-003b.jpg  train/2764/PM-WWA-20050413-003b.jpg  train\n",
              "1   PM-WWA-20050413-029.jpg   train/2764/PM-WWA-20050413-029.jpg  train\n",
              "2   PM-WWA-20050413-006.jpg   train/2825/PM-WWA-20050413-006.jpg  train\n",
              "3   PM-WWA-20050413-007.jpg   train/2825/PM-WWA-20050413-007.jpg  train\n",
              "4   PM-WWA-20050413-009.jpg   train/2826/PM-WWA-20050413-009.jpg  train"
            ]
          },
          "metadata": {
            "tags": []
          },
          "execution_count": 27
        }
      ]
    },
    {
      "cell_type": "code",
      "metadata": {
        "id": "Tn57xIS1FHvp",
        "colab_type": "code",
        "colab": {}
      },
      "source": [
        "from sklearn.metrics.pairwise import cosine_similarity"
      ],
      "execution_count": 0,
      "outputs": []
    },
    {
      "cell_type": "code",
      "metadata": {
        "id": "YFDF-1-hAujV",
        "colab_type": "code",
        "colab": {}
      },
      "source": [
        "from tqdm.auto import tqdm\n",
        "tqdm.pandas()"
      ],
      "execution_count": 0,
      "outputs": []
    },
    {
      "cell_type": "code",
      "metadata": {
        "id": "ei1lsqOEA2p7",
        "colab_type": "code",
        "outputId": "82db230f-e474-4545-f25e-8f2955d2041f",
        "colab": {
          "base_uri": "https://localhost:8080/",
          "height": 49,
          "referenced_widgets": [
            "bd037819afad4ba8955ac19effddb2b4",
            "036f2f9672c04a8586d47a41931a7cbc",
            "9857d7f7c49a4a818e0a8899180944ac",
            "c74ea1321cc94e74bea2a39b5e94b11f",
            "67fd82eae88a4856bbc3193884e867b7",
            "d80545d873bd4abc9a5b6ffb785a2239",
            "3beb2541b7a6490097f43cf80151161f",
            "3be3713614de44439a463825f427fae3"
          ]
        }
      },
      "source": [
        "df['vector'] = df['fil_path'].progress_apply(image_loader)"
      ],
      "execution_count": 0,
      "outputs": [
        {
          "output_type": "display_data",
          "data": {
            "application/vnd.jupyter.widget-view+json": {
              "model_id": "bd037819afad4ba8955ac19effddb2b4",
              "version_minor": 0,
              "version_major": 2
            },
            "text/plain": [
              "HBox(children=(FloatProgress(value=0.0, max=15026.0), HTML(value='')))"
            ]
          },
          "metadata": {
            "tags": []
          }
        }
      ]
    },
    {
      "cell_type": "code",
      "metadata": {
        "id": "Sk0g5U9xBDcn",
        "colab_type": "code",
        "colab": {}
      },
      "source": [
        "import pickle\n",
        "with open('Fruits.obj', 'wb') as fp:\n",
        "    pickle.dump(df, fp)"
      ],
      "execution_count": 0,
      "outputs": []
    },
    {
      "cell_type": "code",
      "metadata": {
        "id": "l2jeD_XLF2cX",
        "colab_type": "code",
        "colab": {}
      },
      "source": [
        "k_df = pd.DataFrame(k.items(), columns=['fil_path', 'embeddings'])"
      ],
      "execution_count": 0,
      "outputs": []
    },
    {
      "cell_type": "code",
      "metadata": {
        "id": "o4kPUjvvH7lE",
        "colab_type": "code",
        "colab": {}
      },
      "source": [
        "k_df.set_index('fil_path', inplace=True)"
      ],
      "execution_count": 0,
      "outputs": []
    },
    {
      "cell_type": "code",
      "metadata": {
        "id": "DfZ_X3JoIb0v",
        "colab_type": "code",
        "colab": {}
      },
      "source": [
        "p = []\n",
        "for i in tqdm_notebook(range(len(k_df))):\n",
        "    for j in range(len(k_df)):\n",
        "        p.append(cosine_similarity(k_df['embeddings'].iloc[i], k_df['embeddings'].iloc[j]))"
      ],
      "execution_count": 0,
      "outputs": []
    },
    {
      "cell_type": "code",
      "metadata": {
        "id": "RqjsjwXHJKum",
        "colab_type": "code",
        "colab": {}
      },
      "source": [
        "len(p)"
      ],
      "execution_count": 0,
      "outputs": []
    },
    {
      "cell_type": "code",
      "metadata": {
        "id": "5I09ABUPizlQ",
        "colab_type": "code",
        "colab": {}
      },
      "source": [
        ""
      ],
      "execution_count": 0,
      "outputs": []
    }
  ]
}