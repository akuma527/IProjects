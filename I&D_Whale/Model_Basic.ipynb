{
  "nbformat": 4,
  "nbformat_minor": 0,
  "metadata": {
    "colab": {
      "name": "Model_Basic.ipynb",
      "provenance": [],
      "collapsed_sections": [],
      "machine_shape": "hm",
      "authorship_tag": "ABX9TyMruQ3DPoeHLT6Q7BDFcznh",
      "include_colab_link": true
    },
    "kernelspec": {
      "name": "python3",
      "display_name": "Python 3"
    },
    "accelerator": "TPU",
    "widgets": {
      "application/vnd.jupyter.widget-state+json": {
        "0f65bd582476465da3eceabdd0804757": {
          "model_module": "@jupyter-widgets/controls",
          "model_name": "HBoxModel",
          "state": {
            "_view_name": "HBoxView",
            "_dom_classes": [],
            "_model_name": "HBoxModel",
            "_view_module": "@jupyter-widgets/controls",
            "_model_module_version": "1.5.0",
            "_view_count": null,
            "_view_module_version": "1.5.0",
            "box_style": "",
            "layout": "IPY_MODEL_d1bee7cef64a498f93e143b43d4bf669",
            "_model_module": "@jupyter-widgets/controls",
            "children": [
              "IPY_MODEL_95fd8990eb8c4081bea2f522728ad964",
              "IPY_MODEL_7892a2dc6b214049808173ca43b5c290"
            ]
          }
        },
        "d1bee7cef64a498f93e143b43d4bf669": {
          "model_module": "@jupyter-widgets/base",
          "model_name": "LayoutModel",
          "state": {
            "_view_name": "LayoutView",
            "grid_template_rows": null,
            "right": null,
            "justify_content": null,
            "_view_module": "@jupyter-widgets/base",
            "overflow": null,
            "_model_module_version": "1.2.0",
            "_view_count": null,
            "flex_flow": null,
            "width": null,
            "min_width": null,
            "border": null,
            "align_items": null,
            "bottom": null,
            "_model_module": "@jupyter-widgets/base",
            "top": null,
            "grid_column": null,
            "overflow_y": null,
            "overflow_x": null,
            "grid_auto_flow": null,
            "grid_area": null,
            "grid_template_columns": null,
            "flex": null,
            "_model_name": "LayoutModel",
            "justify_items": null,
            "grid_row": null,
            "max_height": null,
            "align_content": null,
            "visibility": null,
            "align_self": null,
            "height": null,
            "min_height": null,
            "padding": null,
            "grid_auto_rows": null,
            "grid_gap": null,
            "max_width": null,
            "order": null,
            "_view_module_version": "1.2.0",
            "grid_template_areas": null,
            "object_position": null,
            "object_fit": null,
            "grid_auto_columns": null,
            "margin": null,
            "display": null,
            "left": null
          }
        },
        "95fd8990eb8c4081bea2f522728ad964": {
          "model_module": "@jupyter-widgets/controls",
          "model_name": "FloatProgressModel",
          "state": {
            "_view_name": "ProgressView",
            "style": "IPY_MODEL_957adb35b86f453da4be100a75ad9ab8",
            "_dom_classes": [],
            "description": "100%",
            "_model_name": "FloatProgressModel",
            "bar_style": "success",
            "max": 15878,
            "_view_module": "@jupyter-widgets/controls",
            "_model_module_version": "1.5.0",
            "value": 15878,
            "_view_count": null,
            "_view_module_version": "1.5.0",
            "orientation": "horizontal",
            "min": 0,
            "description_tooltip": null,
            "_model_module": "@jupyter-widgets/controls",
            "layout": "IPY_MODEL_22ec2c4d031b492b91ff3fc28cb8a3c3"
          }
        },
        "7892a2dc6b214049808173ca43b5c290": {
          "model_module": "@jupyter-widgets/controls",
          "model_name": "HTMLModel",
          "state": {
            "_view_name": "HTMLView",
            "style": "IPY_MODEL_2d064178b3f943729cc93bf4b43979dc",
            "_dom_classes": [],
            "description": "",
            "_model_name": "HTMLModel",
            "placeholder": "​",
            "_view_module": "@jupyter-widgets/controls",
            "_model_module_version": "1.5.0",
            "value": " 15878/15878 [45:27&lt;00:00,  5.82it/s]",
            "_view_count": null,
            "_view_module_version": "1.5.0",
            "description_tooltip": null,
            "_model_module": "@jupyter-widgets/controls",
            "layout": "IPY_MODEL_c32ff5732785483eb14de02e14d43513"
          }
        },
        "957adb35b86f453da4be100a75ad9ab8": {
          "model_module": "@jupyter-widgets/controls",
          "model_name": "ProgressStyleModel",
          "state": {
            "_view_name": "StyleView",
            "_model_name": "ProgressStyleModel",
            "description_width": "initial",
            "_view_module": "@jupyter-widgets/base",
            "_model_module_version": "1.5.0",
            "_view_count": null,
            "_view_module_version": "1.2.0",
            "bar_color": null,
            "_model_module": "@jupyter-widgets/controls"
          }
        },
        "22ec2c4d031b492b91ff3fc28cb8a3c3": {
          "model_module": "@jupyter-widgets/base",
          "model_name": "LayoutModel",
          "state": {
            "_view_name": "LayoutView",
            "grid_template_rows": null,
            "right": null,
            "justify_content": null,
            "_view_module": "@jupyter-widgets/base",
            "overflow": null,
            "_model_module_version": "1.2.0",
            "_view_count": null,
            "flex_flow": null,
            "width": null,
            "min_width": null,
            "border": null,
            "align_items": null,
            "bottom": null,
            "_model_module": "@jupyter-widgets/base",
            "top": null,
            "grid_column": null,
            "overflow_y": null,
            "overflow_x": null,
            "grid_auto_flow": null,
            "grid_area": null,
            "grid_template_columns": null,
            "flex": null,
            "_model_name": "LayoutModel",
            "justify_items": null,
            "grid_row": null,
            "max_height": null,
            "align_content": null,
            "visibility": null,
            "align_self": null,
            "height": null,
            "min_height": null,
            "padding": null,
            "grid_auto_rows": null,
            "grid_gap": null,
            "max_width": null,
            "order": null,
            "_view_module_version": "1.2.0",
            "grid_template_areas": null,
            "object_position": null,
            "object_fit": null,
            "grid_auto_columns": null,
            "margin": null,
            "display": null,
            "left": null
          }
        },
        "2d064178b3f943729cc93bf4b43979dc": {
          "model_module": "@jupyter-widgets/controls",
          "model_name": "DescriptionStyleModel",
          "state": {
            "_view_name": "StyleView",
            "_model_name": "DescriptionStyleModel",
            "description_width": "",
            "_view_module": "@jupyter-widgets/base",
            "_model_module_version": "1.5.0",
            "_view_count": null,
            "_view_module_version": "1.2.0",
            "_model_module": "@jupyter-widgets/controls"
          }
        },
        "c32ff5732785483eb14de02e14d43513": {
          "model_module": "@jupyter-widgets/base",
          "model_name": "LayoutModel",
          "state": {
            "_view_name": "LayoutView",
            "grid_template_rows": null,
            "right": null,
            "justify_content": null,
            "_view_module": "@jupyter-widgets/base",
            "overflow": null,
            "_model_module_version": "1.2.0",
            "_view_count": null,
            "flex_flow": null,
            "width": null,
            "min_width": null,
            "border": null,
            "align_items": null,
            "bottom": null,
            "_model_module": "@jupyter-widgets/base",
            "top": null,
            "grid_column": null,
            "overflow_y": null,
            "overflow_x": null,
            "grid_auto_flow": null,
            "grid_area": null,
            "grid_template_columns": null,
            "flex": null,
            "_model_name": "LayoutModel",
            "justify_items": null,
            "grid_row": null,
            "max_height": null,
            "align_content": null,
            "visibility": null,
            "align_self": null,
            "height": null,
            "min_height": null,
            "padding": null,
            "grid_auto_rows": null,
            "grid_gap": null,
            "max_width": null,
            "order": null,
            "_view_module_version": "1.2.0",
            "grid_template_areas": null,
            "object_position": null,
            "object_fit": null,
            "grid_auto_columns": null,
            "margin": null,
            "display": null,
            "left": null
          }
        }
      }
    }
  },
  "cells": [
    {
      "cell_type": "markdown",
      "metadata": {
        "id": "view-in-github",
        "colab_type": "text"
      },
      "source": [
        "<a href=\"https://colab.research.google.com/github/akuma527/IProjects/blob/master/I%26D_Whale/Model_Basic.ipynb\" target=\"_parent\"><img src=\"https://colab.research.google.com/assets/colab-badge.svg\" alt=\"Open In Colab\"/></a>"
      ]
    },
    {
      "cell_type": "code",
      "metadata": {
        "id": "DAZ4qksuO5Zs",
        "colab_type": "code",
        "outputId": "7eea1674-c50e-4691-f369-3aa03479cd6c",
        "colab": {
          "base_uri": "https://localhost:8080/",
          "height": 126
        }
      },
      "source": [
        "from google.colab import drive\n",
        "drive.mount('/content/drive')"
      ],
      "execution_count": 1,
      "outputs": [
        {
          "output_type": "stream",
          "text": [
            "Go to this URL in a browser: https://accounts.google.com/o/oauth2/auth?client_id=947318989803-6bn6qk8qdgf4n4g3pfee6491hc0brc4i.apps.googleusercontent.com&redirect_uri=urn%3aietf%3awg%3aoauth%3a2.0%3aoob&response_type=code&scope=email%20https%3a%2f%2fwww.googleapis.com%2fauth%2fdocs.test%20https%3a%2f%2fwww.googleapis.com%2fauth%2fdrive%20https%3a%2f%2fwww.googleapis.com%2fauth%2fdrive.photos.readonly%20https%3a%2f%2fwww.googleapis.com%2fauth%2fpeopleapi.readonly\n",
            "\n",
            "Enter your authorization code:\n",
            "··········\n",
            "Mounted at /content/drive\n"
          ],
          "name": "stdout"
        }
      ]
    },
    {
      "cell_type": "code",
      "metadata": {
        "id": "8VsGkL9rPDPk",
        "colab_type": "code",
        "outputId": "4633cea0-3c59-49cc-96c6-1812fab187ac",
        "colab": {
          "base_uri": "https://localhost:8080/",
          "height": 35
        }
      },
      "source": [
        "%cd /content/drive/My Drive/Colab Notebooks/I&D_Whale/data/"
      ],
      "execution_count": 2,
      "outputs": [
        {
          "output_type": "stream",
          "text": [
            "/content/drive/My Drive/Colab Notebooks/I&D_Whale/data\n"
          ],
          "name": "stdout"
        }
      ]
    },
    {
      "cell_type": "code",
      "metadata": {
        "id": "SRyzjOo5PsPm",
        "colab_type": "code",
        "outputId": "e5b2c84d-a4f3-4900-eec6-c8983fd5b161",
        "colab": {
          "base_uri": "https://localhost:8080/",
          "height": 247
        }
      },
      "source": [
        "!pip install tqdm -U"
      ],
      "execution_count": 3,
      "outputs": [
        {
          "output_type": "stream",
          "text": [
            "Collecting tqdm\n",
            "\u001b[?25l  Downloading https://files.pythonhosted.org/packages/cd/80/5bb262050dd2f30f8819626b7c92339708fe2ed7bd5554c8193b4487b367/tqdm-4.42.1-py2.py3-none-any.whl (59kB)\n",
            "\r\u001b[K     |█████▌                          | 10kB 23.3MB/s eta 0:00:01\r\u001b[K     |███████████                     | 20kB 2.2MB/s eta 0:00:01\r\u001b[K     |████████████████▋               | 30kB 2.8MB/s eta 0:00:01\r\u001b[K     |██████████████████████▏         | 40kB 2.1MB/s eta 0:00:01\r\u001b[K     |███████████████████████████▊    | 51kB 2.4MB/s eta 0:00:01\r\u001b[K     |████████████████████████████████| 61kB 1.7MB/s \n",
            "\u001b[?25hInstalling collected packages: tqdm\n",
            "  Found existing installation: tqdm 4.28.1\n",
            "    Uninstalling tqdm-4.28.1:\n",
            "      Successfully uninstalled tqdm-4.28.1\n",
            "Successfully installed tqdm-4.42.1\n"
          ],
          "name": "stdout"
        },
        {
          "output_type": "display_data",
          "data": {
            "application/vnd.colab-display-data+json": {
              "pip_warning": {
                "packages": [
                  "tqdm"
                ]
              }
            }
          },
          "metadata": {
            "tags": []
          }
        }
      ]
    },
    {
      "cell_type": "code",
      "metadata": {
        "id": "X9Q8XWV7P1sq",
        "colab_type": "code",
        "outputId": "35eb9aef-4be3-40d7-dfca-0acba9565e86",
        "colab": {
          "base_uri": "https://localhost:8080/",
          "height": 81
        }
      },
      "source": [
        "import pandas as pd\n",
        "import os\n",
        "import cv2\n",
        "import re\n",
        "import numpy as np\n",
        "import matplotlib.pyplot as plt\n",
        "import keras\n",
        "import tensorflow as tf\n",
        "%matplotlib inline\n",
        "from tqdm.notebook import tqdm"
      ],
      "execution_count": 4,
      "outputs": [
        {
          "output_type": "stream",
          "text": [
            "Using TensorFlow backend.\n"
          ],
          "name": "stderr"
        },
        {
          "output_type": "display_data",
          "data": {
            "text/html": [
              "<p style=\"color: red;\">\n",
              "The default version of TensorFlow in Colab will soon switch to TensorFlow 2.x.<br>\n",
              "We recommend you <a href=\"https://www.tensorflow.org/guide/migrate\" target=\"_blank\">upgrade</a> now \n",
              "or ensure your notebook will continue to use TensorFlow 1.x via the <code>%tensorflow_version 1.x</code> magic:\n",
              "<a href=\"https://colab.research.google.com/notebooks/tensorflow_version.ipynb\" target=\"_blank\">more info</a>.</p>\n"
            ],
            "text/plain": [
              "<IPython.core.display.HTML object>"
            ]
          },
          "metadata": {
            "tags": []
          }
        }
      ]
    },
    {
      "cell_type": "code",
      "metadata": {
        "id": "ALVBLphBP5I_",
        "colab_type": "code",
        "colab": {}
      },
      "source": [
        "t1 = pd.read_csv('final_train.csv')\n",
        "t2 = pd.read_csv('not_similar.csv')\n",
        "t1['sim'] = 1\n",
        "t2['sim'] = 0\n",
        "train = pd.concat([t1, t2], ignore_index=True, sort=False)\n",
        "del t1, t2"
      ],
      "execution_count": 0,
      "outputs": []
    },
    {
      "cell_type": "code",
      "metadata": {
        "id": "vfm2WdF3P-UI",
        "colab_type": "code",
        "outputId": "1807065e-ee3c-4e1b-ca38-cf1741ff5256",
        "colab": {
          "base_uri": "https://localhost:8080/",
          "height": 200
        }
      },
      "source": [
        "train.head()"
      ],
      "execution_count": 6,
      "outputs": [
        {
          "output_type": "execute_result",
          "data": {
            "text/html": [
              "<div>\n",
              "<style scoped>\n",
              "    .dataframe tbody tr th:only-of-type {\n",
              "        vertical-align: middle;\n",
              "    }\n",
              "\n",
              "    .dataframe tbody tr th {\n",
              "        vertical-align: top;\n",
              "    }\n",
              "\n",
              "    .dataframe thead th {\n",
              "        text-align: right;\n",
              "    }\n",
              "</style>\n",
              "<table border=\"1\" class=\"dataframe\">\n",
              "  <thead>\n",
              "    <tr style=\"text-align: right;\">\n",
              "      <th></th>\n",
              "      <th>Image</th>\n",
              "      <th>Id</th>\n",
              "      <th>fil_path</th>\n",
              "      <th>Image_2</th>\n",
              "      <th>Id_2</th>\n",
              "      <th>fil_path_2</th>\n",
              "      <th>sim</th>\n",
              "    </tr>\n",
              "  </thead>\n",
              "  <tbody>\n",
              "    <tr>\n",
              "      <th>0</th>\n",
              "      <td>PM-WWA-20050413-003b.jpg</td>\n",
              "      <td>2764</td>\n",
              "      <td>train/2764/PM-WWA-20050413-003b.jpg</td>\n",
              "      <td>PM-WWA-20050413-029.jpg</td>\n",
              "      <td>2764</td>\n",
              "      <td>train/2764/PM-WWA-20050413-029.jpg</td>\n",
              "      <td>1</td>\n",
              "    </tr>\n",
              "    <tr>\n",
              "      <th>1</th>\n",
              "      <td>PM-WWA-20050413-029.jpg</td>\n",
              "      <td>2764</td>\n",
              "      <td>train/2764/PM-WWA-20050413-029.jpg</td>\n",
              "      <td>PM-WWA-20050413-003b.jpg</td>\n",
              "      <td>2764</td>\n",
              "      <td>train/2764/PM-WWA-20050413-003b.jpg</td>\n",
              "      <td>1</td>\n",
              "    </tr>\n",
              "    <tr>\n",
              "      <th>2</th>\n",
              "      <td>PM-WWA-20050413-006.jpg</td>\n",
              "      <td>2825</td>\n",
              "      <td>train/2825/PM-WWA-20050413-006.jpg</td>\n",
              "      <td>PM-WWA-20050413-007.jpg</td>\n",
              "      <td>2825</td>\n",
              "      <td>train/2825/PM-WWA-20050413-007.jpg</td>\n",
              "      <td>1</td>\n",
              "    </tr>\n",
              "    <tr>\n",
              "      <th>3</th>\n",
              "      <td>PM-WWA-20050413-007.jpg</td>\n",
              "      <td>2825</td>\n",
              "      <td>train/2825/PM-WWA-20050413-007.jpg</td>\n",
              "      <td>PM-WWA-20050413-006.jpg</td>\n",
              "      <td>2825</td>\n",
              "      <td>train/2825/PM-WWA-20050413-006.jpg</td>\n",
              "      <td>1</td>\n",
              "    </tr>\n",
              "    <tr>\n",
              "      <th>4</th>\n",
              "      <td>PM-WWA-20050413-009.jpg</td>\n",
              "      <td>2826</td>\n",
              "      <td>train/2826/PM-WWA-20050413-009.jpg</td>\n",
              "      <td>PM-BIO-20050413-049.jpg</td>\n",
              "      <td>2826</td>\n",
              "      <td>train/2826/PM-BIO-20050413-049.jpg</td>\n",
              "      <td>1</td>\n",
              "    </tr>\n",
              "  </tbody>\n",
              "</table>\n",
              "</div>"
            ],
            "text/plain": [
              "                      Image    Id  ...                           fil_path_2 sim\n",
              "0  PM-WWA-20050413-003b.jpg  2764  ...   train/2764/PM-WWA-20050413-029.jpg   1\n",
              "1   PM-WWA-20050413-029.jpg  2764  ...  train/2764/PM-WWA-20050413-003b.jpg   1\n",
              "2   PM-WWA-20050413-006.jpg  2825  ...   train/2825/PM-WWA-20050413-007.jpg   1\n",
              "3   PM-WWA-20050413-007.jpg  2825  ...   train/2825/PM-WWA-20050413-006.jpg   1\n",
              "4   PM-WWA-20050413-009.jpg  2826  ...   train/2826/PM-BIO-20050413-049.jpg   1\n",
              "\n",
              "[5 rows x 7 columns]"
            ]
          },
          "metadata": {
            "tags": []
          },
          "execution_count": 6
        }
      ]
    },
    {
      "cell_type": "markdown",
      "metadata": {
        "id": "vIAoVV7YQPKp",
        "colab_type": "text"
      },
      "source": [
        "# Model"
      ]
    },
    {
      "cell_type": "code",
      "metadata": {
        "id": "_EBFrlYqQyfN",
        "colab_type": "code",
        "outputId": "d828778e-d334-4a80-9c19-5dbb34e9014d",
        "colab": {
          "base_uri": "https://localhost:8080/",
          "height": 67,
          "referenced_widgets": [
            "0f65bd582476465da3eceabdd0804757",
            "d1bee7cef64a498f93e143b43d4bf669",
            "95fd8990eb8c4081bea2f522728ad964",
            "7892a2dc6b214049808173ca43b5c290",
            "957adb35b86f453da4be100a75ad9ab8",
            "22ec2c4d031b492b91ff3fc28cb8a3c3",
            "2d064178b3f943729cc93bf4b43979dc",
            "c32ff5732785483eb14de02e14d43513"
          ]
        }
      },
      "source": [
        "training_data = []\n",
        "for i in tqdm(range(len(train))):\n",
        "    s = train['fil_path'].iloc[i]\n",
        "    ss = train['fil_path_2'].iloc[i]\n",
        "    img_array_1 = cv2.imread(s, cv2.IMREAD_GRAYSCALE)\n",
        "    img_array_2 = cv2.imread(ss, cv2.IMREAD_GRAYSCALE)\n",
        "    new_array_1 = cv2.resize(img_array_1, (384, 384))\n",
        "    new_array_2 = cv2.resize(img_array_2, (384, 384))\n",
        "    lab = train['sim'].iloc[i]\n",
        "\n",
        "    training_data.append([new_array_1, new_array_2, lab])\n",
        "    \n",
        "a = np.array([i[0].reshape((384,384,1)) for i in training_data])\n",
        "b = np.array([i[1].reshape((384,384,1)) for i in training_data])\n",
        "c = np.array([i[2].reshape(1,) for i in training_data])"
      ],
      "execution_count": 7,
      "outputs": [
        {
          "output_type": "display_data",
          "data": {
            "application/vnd.jupyter.widget-view+json": {
              "model_id": "0f65bd582476465da3eceabdd0804757",
              "version_minor": 0,
              "version_major": 2
            },
            "text/plain": [
              "HBox(children=(FloatProgress(value=0.0, max=15878.0), HTML(value='')))"
            ]
          },
          "metadata": {
            "tags": []
          }
        },
        {
          "output_type": "stream",
          "text": [
            "\n"
          ],
          "name": "stdout"
        }
      ]
    },
    {
      "cell_type": "code",
      "metadata": {
        "id": "xn9eRfP5QYVV",
        "colab_type": "code",
        "colab": {}
      },
      "source": [
        "from keras import regularizers\n",
        "from keras.optimizers import Adam\n",
        "from keras.engine.topology import Input\n",
        "from keras.layers import Activation, Add, BatchNormalization, Concatenate, Conv2D, Dense, Flatten, GlobalMaxPooling2D, Lambda, MaxPooling2D, Reshape\n",
        "from keras.models import Model\n",
        "from keras import backend as K"
      ],
      "execution_count": 0,
      "outputs": []
    },
    {
      "cell_type": "code",
      "metadata": {
        "id": "BdoNlQ1uQuX0",
        "colab_type": "code",
        "colab": {}
      },
      "source": [
        "def subblock(x, filter, **kwargs):\n",
        "    x = BatchNormalization()(x)\n",
        "    y = x\n",
        "    y = Conv2D(filter, (1, 1), activation='relu', **kwargs)(y) # Reduce the number of features to 'filter'\n",
        "    y = BatchNormalization()(y)\n",
        "    y = Conv2D(filter, (3, 3), activation='relu', **kwargs)(y) # Extend the feature field\n",
        "    y = BatchNormalization()(y)\n",
        "    y = Conv2D(K.int_shape(x)[-1], (1, 1), **kwargs)(y) # no activation # Restore the number of original features\n",
        "    y = Add()([x,y]) # Add the bypass connection\n",
        "    y = Activation('relu')(y)\n",
        "    return y\n"
      ],
      "execution_count": 0,
      "outputs": []
    },
    {
      "cell_type": "code",
      "metadata": {
        "id": "KNtPgvTFQwIK",
        "colab_type": "code",
        "colab": {}
      },
      "source": [
        "def build_model(lr, l2, activation='sigmoid'):\n",
        "\n",
        "    ##############\n",
        "    # BRANCH MODEL\n",
        "    ##############\n",
        "    regul  = regularizers.l2(l2)\n",
        "    optim  = Adam(lr=lr)\n",
        "    kwargs = {'padding':'same', 'kernel_regularizer':regul}\n",
        "    img_shape = (384, 384, 1)\n",
        "    inp = Input(shape=img_shape) # 384x384x1\n",
        "    x   = Conv2D(64, (9,9), strides=2, activation='relu', **kwargs)(inp)\n",
        "\n",
        "    x   = MaxPooling2D((2, 2), strides=(2, 2))(x) # 96x96x64\n",
        "    for _ in range(2):\n",
        "        x = BatchNormalization()(x)\n",
        "        x = Conv2D(64, (3,3), activation='relu', **kwargs)(x)\n",
        "\n",
        "    x = MaxPooling2D((2, 2), strides=(2, 2))(x) # 48x48x64\n",
        "    x = BatchNormalization()(x)\n",
        "    x = Conv2D(128, (1,1), activation='relu', **kwargs)(x) # 48x48x128\n",
        "    for _ in range(4): x = subblock(x, 64, **kwargs)\n",
        "\n",
        "    x = MaxPooling2D((2, 2), strides=(2, 2))(x) # 24x24x128\n",
        "    x = BatchNormalization()(x)\n",
        "    x = Conv2D(256, (1,1), activation='relu', **kwargs)(x) # 24x24x256\n",
        "    for _ in range(4): x = subblock(x, 64, **kwargs)\n",
        "\n",
        "    x = MaxPooling2D((2, 2), strides=(2, 2))(x) # 12x12x256\n",
        "    x = BatchNormalization()(x)\n",
        "    x = Conv2D(384, (1,1), activation='relu', **kwargs)(x) # 12x12x384\n",
        "    for _ in range(4): x = subblock(x, 96, **kwargs)\n",
        "\n",
        "    x = MaxPooling2D((2, 2), strides=(2, 2))(x) # 6x6x384\n",
        "    x = BatchNormalization()(x)\n",
        "    x = Conv2D(512, (1,1), activation='relu', **kwargs)(x) # 6x6x512\n",
        "    for _ in range(4): x = subblock(x, 128, **kwargs)\n",
        "    \n",
        "    x             = GlobalMaxPooling2D()(x) # 512\n",
        "    branch_model  = Model(inp, x)\n",
        "    # ------X------X------X------X-------#\n",
        "    \n",
        "    ############\n",
        "    # HEAD MODEL\n",
        "    ############\n",
        "    mid        = 32\n",
        "    xa_inp     = Input(shape=branch_model.output_shape[1:])\n",
        "    xb_inp     = Input(shape=branch_model.output_shape[1:])\n",
        "    x1         = Lambda(lambda x : x[0]*x[1])([xa_inp, xb_inp])\n",
        "    x2         = Lambda(lambda x : x[0] + x[1])([xa_inp, xb_inp])\n",
        "    x3         = Lambda(lambda x : K.abs(x[0] - x[1]))([xa_inp, xb_inp])\n",
        "    x4         = Lambda(lambda x : K.square(x))(x3)\n",
        "    x          = Concatenate()([x1, x2, x3, x4])\n",
        "    x          = Reshape((4, branch_model.output_shape[1], 1), name='reshape1')(x)\n",
        "\n",
        "    # Per feature NN with shared weight is implemented using CONV2D with appropriate stride.\n",
        "    x          = Conv2D(mid, (4, 1), activation='relu', padding='valid')(x)\n",
        "    x          = Reshape((branch_model.output_shape[1], mid, 1))(x)\n",
        "    x          = Conv2D(1, (1, mid), activation='linear', padding='valid')(x)\n",
        "    x          = Flatten(name='flatten')(x)\n",
        "    \n",
        "    # Weighted sum implemented as a Dense layer.\n",
        "    x          = Dense(1, use_bias=True, activation=activation, name='weighted-average')(x)\n",
        "    head_model = Model([xa_inp, xb_inp], x, name='head')\n",
        "    # ------X------X------X------X-------#\n",
        "\n",
        "    ########################\n",
        "    # SIAMESE NEURAL NETWORK\n",
        "    ########################\n",
        "    # Complete model is constructed by calling the branch model on each input image,\n",
        "    # and then the head model on the resulting 512-vectors.\n",
        "    img_a      = Input(shape=img_shape)\n",
        "    img_b      = Input(shape=img_shape)\n",
        "    xa         = branch_model(img_a)\n",
        "    xb         = branch_model(img_b)\n",
        "    x          = head_model([xa, xb])\n",
        "    model      = Model([img_a, img_b], x)\n",
        "    model.compile(optim, loss='binary_crossentropy', metrics=['binary_crossentropy', 'acc'])\n",
        "    return model, branch_model, head_model\n",
        "    # ------X------X------X------X-------#"
      ],
      "execution_count": 0,
      "outputs": []
    },
    {
      "cell_type": "code",
      "metadata": {
        "id": "GVgT9D1KRc1M",
        "colab_type": "code",
        "colab": {
          "base_uri": "https://localhost:8080/",
          "height": 588
        },
        "outputId": "b9a3b9da-7c36-4591-e2ba-2b376ee78f27"
      },
      "source": [
        "model, branch_model, head_model = build_model(lr=0.0001, l2=0.00001, activation='sigmoid')"
      ],
      "execution_count": 11,
      "outputs": [
        {
          "output_type": "stream",
          "text": [
            "WARNING:tensorflow:From /usr/local/lib/python3.6/dist-packages/keras/backend/tensorflow_backend.py:66: The name tf.get_default_graph is deprecated. Please use tf.compat.v1.get_default_graph instead.\n",
            "\n",
            "WARNING:tensorflow:From /usr/local/lib/python3.6/dist-packages/keras/backend/tensorflow_backend.py:541: The name tf.placeholder is deprecated. Please use tf.compat.v1.placeholder instead.\n",
            "\n",
            "WARNING:tensorflow:From /usr/local/lib/python3.6/dist-packages/keras/backend/tensorflow_backend.py:4432: The name tf.random_uniform is deprecated. Please use tf.random.uniform instead.\n",
            "\n",
            "WARNING:tensorflow:From /usr/local/lib/python3.6/dist-packages/keras/backend/tensorflow_backend.py:4267: The name tf.nn.max_pool is deprecated. Please use tf.nn.max_pool2d instead.\n",
            "\n",
            "WARNING:tensorflow:From /usr/local/lib/python3.6/dist-packages/keras/backend/tensorflow_backend.py:190: The name tf.get_default_session is deprecated. Please use tf.compat.v1.get_default_session instead.\n",
            "\n",
            "WARNING:tensorflow:From /usr/local/lib/python3.6/dist-packages/keras/backend/tensorflow_backend.py:197: The name tf.ConfigProto is deprecated. Please use tf.compat.v1.ConfigProto instead.\n",
            "\n",
            "WARNING:tensorflow:From /usr/local/lib/python3.6/dist-packages/keras/backend/tensorflow_backend.py:203: The name tf.Session is deprecated. Please use tf.compat.v1.Session instead.\n",
            "\n",
            "WARNING:tensorflow:From /usr/local/lib/python3.6/dist-packages/keras/backend/tensorflow_backend.py:207: The name tf.global_variables is deprecated. Please use tf.compat.v1.global_variables instead.\n",
            "\n",
            "WARNING:tensorflow:From /usr/local/lib/python3.6/dist-packages/keras/backend/tensorflow_backend.py:216: The name tf.is_variable_initialized is deprecated. Please use tf.compat.v1.is_variable_initialized instead.\n",
            "\n",
            "WARNING:tensorflow:From /usr/local/lib/python3.6/dist-packages/keras/backend/tensorflow_backend.py:223: The name tf.variables_initializer is deprecated. Please use tf.compat.v1.variables_initializer instead.\n",
            "\n",
            "WARNING:tensorflow:From /usr/local/lib/python3.6/dist-packages/keras/backend/tensorflow_backend.py:2041: The name tf.nn.fused_batch_norm is deprecated. Please use tf.compat.v1.nn.fused_batch_norm instead.\n",
            "\n",
            "WARNING:tensorflow:From /usr/local/lib/python3.6/dist-packages/keras/backend/tensorflow_backend.py:148: The name tf.placeholder_with_default is deprecated. Please use tf.compat.v1.placeholder_with_default instead.\n",
            "\n",
            "WARNING:tensorflow:From /usr/local/lib/python3.6/dist-packages/keras/optimizers.py:793: The name tf.train.Optimizer is deprecated. Please use tf.compat.v1.train.Optimizer instead.\n",
            "\n",
            "WARNING:tensorflow:From /usr/local/lib/python3.6/dist-packages/keras/backend/tensorflow_backend.py:3657: The name tf.log is deprecated. Please use tf.math.log instead.\n",
            "\n",
            "WARNING:tensorflow:From /usr/local/lib/python3.6/dist-packages/tensorflow_core/python/ops/nn_impl.py:183: where (from tensorflow.python.ops.array_ops) is deprecated and will be removed in a future version.\n",
            "Instructions for updating:\n",
            "Use tf.where in 2.0, which has the same broadcast rule as np.where\n"
          ],
          "name": "stdout"
        }
      ]
    },
    {
      "cell_type": "code",
      "metadata": {
        "id": "tr4ZxL37wraT",
        "colab_type": "code",
        "outputId": "9db452b2-19a6-452f-ce19-388d0a25fbfd",
        "colab": {
          "base_uri": "https://localhost:8080/",
          "height": 1000
        }
      },
      "source": [
        "model.fit([a, b], c, epochs=10, verbose=1, batch_size=32)"
      ],
      "execution_count": 12,
      "outputs": [
        {
          "output_type": "stream",
          "text": [
            "WARNING:tensorflow:From /usr/local/lib/python3.6/dist-packages/keras/backend/tensorflow_backend.py:1033: The name tf.assign_add is deprecated. Please use tf.compat.v1.assign_add instead.\n",
            "\n",
            "WARNING:tensorflow:From /usr/local/lib/python3.6/dist-packages/keras/backend/tensorflow_backend.py:1020: The name tf.assign is deprecated. Please use tf.compat.v1.assign instead.\n",
            "\n",
            "Epoch 1/10\n",
            "15878/15878 [==============================] - 1555s 98ms/step - loss: 0.5657 - binary_crossentropy: 0.4965 - acc: 0.8273\n",
            "Epoch 2/10\n",
            " 6144/15878 [==========>...................] - ETA: 15:51 - loss: 0.4150 - binary_crossentropy: 0.3458 - acc: 0.8910"
          ],
          "name": "stdout"
        },
        {
          "output_type": "stream",
          "text": [
            "ERROR:root:Internal Python error in the inspect module.\n",
            "Below is the traceback from this internal error.\n",
            "\n"
          ],
          "name": "stderr"
        },
        {
          "output_type": "stream",
          "text": [
            "Traceback (most recent call last):\n",
            "  File \"/usr/local/lib/python3.6/dist-packages/IPython/core/interactiveshell.py\", line 2882, in run_code\n",
            "    exec(code_obj, self.user_global_ns, self.user_ns)\n",
            "  File \"<ipython-input-12-593c7ce4d333>\", line 1, in <module>\n",
            "    model.fit([a, b], c, epochs=10, verbose=1, batch_size=32)\n",
            "  File \"/usr/local/lib/python3.6/dist-packages/keras/engine/training.py\", line 1178, in fit\n",
            "    validation_freq=validation_freq)\n",
            "  File \"/usr/local/lib/python3.6/dist-packages/keras/engine/training_arrays.py\", line 204, in fit_loop\n",
            "    outs = fit_function(ins_batch)\n",
            "  File \"/usr/local/lib/python3.6/dist-packages/keras/backend/tensorflow_backend.py\", line 2979, in __call__\n",
            "    return self._call(inputs)\n",
            "  File \"/usr/local/lib/python3.6/dist-packages/keras/backend/tensorflow_backend.py\", line 2937, in _call\n",
            "    fetched = self._callable_fn(*array_vals)\n",
            "  File \"/usr/local/lib/python3.6/dist-packages/tensorflow_core/python/client/session.py\", line 1472, in __call__\n",
            "    run_metadata_ptr)\n",
            "KeyboardInterrupt\n",
            "\n",
            "During handling of the above exception, another exception occurred:\n",
            "\n",
            "Traceback (most recent call last):\n",
            "  File \"/usr/local/lib/python3.6/dist-packages/IPython/core/interactiveshell.py\", line 1823, in showtraceback\n",
            "    stb = value._render_traceback_()\n",
            "AttributeError: 'KeyboardInterrupt' object has no attribute '_render_traceback_'\n",
            "\n",
            "During handling of the above exception, another exception occurred:\n",
            "\n",
            "Traceback (most recent call last):\n",
            "  File \"/usr/local/lib/python3.6/dist-packages/IPython/core/ultratb.py\", line 1132, in get_records\n",
            "    return _fixed_getinnerframes(etb, number_of_lines_of_context, tb_offset)\n",
            "  File \"/usr/local/lib/python3.6/dist-packages/IPython/core/ultratb.py\", line 313, in wrapped\n",
            "    return f(*args, **kwargs)\n",
            "  File \"/usr/local/lib/python3.6/dist-packages/IPython/core/ultratb.py\", line 358, in _fixed_getinnerframes\n",
            "    records = fix_frame_records_filenames(inspect.getinnerframes(etb, context))\n",
            "  File \"/usr/lib/python3.6/inspect.py\", line 1490, in getinnerframes\n",
            "    frameinfo = (tb.tb_frame,) + getframeinfo(tb, context)\n",
            "  File \"/usr/lib/python3.6/inspect.py\", line 1448, in getframeinfo\n",
            "    filename = getsourcefile(frame) or getfile(frame)\n",
            "  File \"/usr/lib/python3.6/inspect.py\", line 696, in getsourcefile\n",
            "    if getattr(getmodule(object, filename), '__loader__', None) is not None:\n",
            "  File \"/usr/lib/python3.6/inspect.py\", line 733, in getmodule\n",
            "    if ismodule(module) and hasattr(module, '__file__'):\n",
            "  File \"/usr/local/lib/python3.6/dist-packages/tensorflow/__init__.py\", line 50, in __getattr__\n",
            "    module = self._load()\n",
            "  File \"/usr/local/lib/python3.6/dist-packages/tensorflow/__init__.py\", line 44, in _load\n",
            "    module = _importlib.import_module(self.__name__)\n",
            "  File \"/usr/lib/python3.6/importlib/__init__.py\", line 126, in import_module\n",
            "    return _bootstrap._gcd_import(name[level:], package, level)\n",
            "  File \"<frozen importlib._bootstrap>\", line 994, in _gcd_import\n",
            "  File \"<frozen importlib._bootstrap>\", line 971, in _find_and_load\n",
            "  File \"<frozen importlib._bootstrap>\", line 955, in _find_and_load_unlocked\n",
            "  File \"<frozen importlib._bootstrap>\", line 665, in _load_unlocked\n",
            "  File \"<frozen importlib._bootstrap_external>\", line 678, in exec_module\n",
            "  File \"<frozen importlib._bootstrap>\", line 219, in _call_with_frames_removed\n",
            "  File \"/usr/local/lib/python3.6/dist-packages/tensorflow_core/contrib/__init__.py\", line 43, in <module>\n",
            "    from tensorflow.contrib import cudnn_rnn\n",
            "  File \"/usr/local/lib/python3.6/dist-packages/tensorflow_core/contrib/cudnn_rnn/__init__.py\", line 38, in <module>\n",
            "    from tensorflow.contrib.cudnn_rnn.python.layers import *\n",
            "  File \"/usr/local/lib/python3.6/dist-packages/tensorflow_core/contrib/cudnn_rnn/__init__.py\", line 38, in <module>\n",
            "    from tensorflow.contrib.cudnn_rnn.python.layers import *\n",
            "  File \"/usr/local/lib/python3.6/dist-packages/tensorflow_core/contrib/cudnn_rnn/python/layers/__init__.py\", line 23, in <module>\n",
            "    from tensorflow.contrib.cudnn_rnn.python.layers.cudnn_rnn import *\n",
            "  File \"/usr/local/lib/python3.6/dist-packages/tensorflow_core/contrib/cudnn_rnn/python/layers/cudnn_rnn.py\", line 20, in <module>\n",
            "    from tensorflow.contrib.cudnn_rnn.python.ops import cudnn_rnn_ops\n",
            "  File \"/usr/local/lib/python3.6/dist-packages/tensorflow_core/contrib/cudnn_rnn/python/ops/cudnn_rnn_ops.py\", line 22, in <module>\n",
            "    from tensorflow.contrib.rnn.python.ops import lstm_ops\n",
            "  File \"/usr/local/lib/python3.6/dist-packages/tensorflow_core/contrib/rnn/__init__.py\", line 93, in <module>\n",
            "    from tensorflow.contrib.rnn.python.ops.rnn_cell import *\n",
            "  File \"/usr/local/lib/python3.6/dist-packages/tensorflow_core/contrib/rnn/python/ops/rnn_cell.py\", line 24, in <module>\n",
            "    from tensorflow.contrib.layers.python.layers import layers\n",
            "  File \"/usr/local/lib/python3.6/dist-packages/tensorflow_core/contrib/layers/__init__.py\", line 116, in <module>\n",
            "    from tensorflow.contrib.layers.python.layers import *\n",
            "  File \"/usr/local/lib/python3.6/dist-packages/tensorflow_core/contrib/layers/python/layers/__init__.py\", line 33, in <module>\n",
            "    from tensorflow.contrib.layers.python.layers.target_column import *\n",
            "  File \"/usr/local/lib/python3.6/dist-packages/tensorflow_core/contrib/layers/python/layers/target_column.py\", line 24, in <module>\n",
            "    from tensorflow.contrib.losses.python.losses import loss_ops\n",
            "  File \"/usr/local/lib/python3.6/dist-packages/tensorflow_core/contrib/losses/__init__.py\", line 25, in <module>\n",
            "    from tensorflow.contrib.losses.python import metric_learning\n",
            "  File \"/usr/local/lib/python3.6/dist-packages/tensorflow_core/contrib/losses/python/metric_learning/__init__.py\", line 25, in <module>\n",
            "    from tensorflow.contrib.losses.python.metric_learning.metric_loss_ops import *\n",
            "  File \"/usr/local/lib/python3.6/dist-packages/tensorflow_core/contrib/losses/python/metric_learning/metric_loss_ops.py\", line 34, in <module>\n",
            "    from sklearn import metrics\n",
            "  File \"/usr/local/lib/python3.6/dist-packages/sklearn/__init__.py\", line 82, in <module>\n",
            "    from .base import clone\n",
            "  File \"/usr/local/lib/python3.6/dist-packages/sklearn/base.py\", line 20, in <module>\n",
            "    from .utils import _IS_32BIT\n",
            "  File \"/usr/local/lib/python3.6/dist-packages/sklearn/utils/__init__.py\", line 27, in <module>\n",
            "    from .fixes import np_version\n",
            "  File \"/usr/local/lib/python3.6/dist-packages/sklearn/utils/fixes.py\", line 18, in <module>\n",
            "    import scipy.stats\n",
            "  File \"/usr/local/lib/python3.6/dist-packages/scipy/stats/__init__.py\", line 384, in <module>\n",
            "    from .stats import *\n",
            "  File \"/usr/local/lib/python3.6/dist-packages/scipy/stats/stats.py\", line 185, in <module>\n",
            "    from . import distributions\n",
            "  File \"/usr/local/lib/python3.6/dist-packages/scipy/stats/distributions.py\", line 10, in <module>\n",
            "    from ._distn_infrastructure import (entropy, rv_discrete, rv_continuous,\n",
            "  File \"/usr/local/lib/python3.6/dist-packages/scipy/stats/_distn_infrastructure.py\", line 25, in <module>\n",
            "    from scipy import optimize\n",
            "  File \"/usr/local/lib/python3.6/dist-packages/scipy/optimize/__init__.py\", line 390, in <module>\n",
            "    from ._minimize import *\n",
            "  File \"/usr/local/lib/python3.6/dist-packages/scipy/optimize/_minimize.py\", line 30, in <module>\n",
            "    from ._trustregion_constr import _minimize_trustregion_constr\n",
            "  File \"/usr/local/lib/python3.6/dist-packages/scipy/optimize/_trustregion_constr/__init__.py\", line 4, in <module>\n",
            "    from .minimize_trustregion_constr import _minimize_trustregion_constr\n",
            "  File \"/usr/local/lib/python3.6/dist-packages/scipy/optimize/_trustregion_constr/minimize_trustregion_constr.py\", line 4, in <module>\n",
            "    from scipy.sparse.linalg import LinearOperator\n",
            "  File \"/usr/local/lib/python3.6/dist-packages/scipy/sparse/linalg/__init__.py\", line 113, in <module>\n",
            "    from .isolve import *\n",
            "  File \"<frozen importlib._bootstrap>\", line 971, in _find_and_load\n",
            "  File \"<frozen importlib._bootstrap>\", line 955, in _find_and_load_unlocked\n",
            "  File \"<frozen importlib._bootstrap>\", line 665, in _load_unlocked\n",
            "  File \"<frozen importlib._bootstrap_external>\", line 674, in exec_module\n",
            "  File \"<frozen importlib._bootstrap_external>\", line 764, in get_code\n",
            "  File \"<frozen importlib._bootstrap_external>\", line 833, in get_data\n",
            "KeyboardInterrupt\n"
          ],
          "name": "stdout"
        },
        {
          "output_type": "error",
          "ename": "KeyboardInterrupt",
          "evalue": "ignored",
          "traceback": [
            "\u001b[0;31m---------------------------------------------------------------------------\u001b[0m"
          ]
        }
      ]
    },
    {
      "cell_type": "code",
      "metadata": {
        "id": "DZFBMbqeySM-",
        "colab_type": "code",
        "colab": {}
      },
      "source": [
        ""
      ],
      "execution_count": 0,
      "outputs": []
    }
  ]
}