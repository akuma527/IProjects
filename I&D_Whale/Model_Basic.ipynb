{
  "nbformat": 4,
  "nbformat_minor": 0,
  "metadata": {
    "colab": {
      "name": "Model_Basic.ipynb",
      "provenance": [],
      "collapsed_sections": [],
      "machine_shape": "hm",
      "authorship_tag": "ABX9TyMruQ3DPoeHLT6Q7BDFcznh",
      "include_colab_link": true
    },
    "kernelspec": {
      "name": "python3",
      "display_name": "Python 3"
    },
    "accelerator": "TPU",
    "widgets": {
      "application/vnd.jupyter.widget-state+json": {
        "dfbc0ab499844cfebdfff192dec6e8b1": {
          "model_module": "@jupyter-widgets/controls",
          "model_name": "HBoxModel",
          "state": {
            "_view_name": "HBoxView",
            "_dom_classes": [],
            "_model_name": "HBoxModel",
            "_view_module": "@jupyter-widgets/controls",
            "_model_module_version": "1.5.0",
            "_view_count": null,
            "_view_module_version": "1.5.0",
            "box_style": "",
            "layout": "IPY_MODEL_b8daa09ceecc4e979d15e66fd476331f",
            "_model_module": "@jupyter-widgets/controls",
            "children": [
              "IPY_MODEL_7f2fe0e2dc184be390c4ca41cb0dc247",
              "IPY_MODEL_a60517d5712a4d208c4797fee87825bd"
            ]
          }
        },
        "b8daa09ceecc4e979d15e66fd476331f": {
          "model_module": "@jupyter-widgets/base",
          "model_name": "LayoutModel",
          "state": {
            "_view_name": "LayoutView",
            "grid_template_rows": null,
            "right": null,
            "justify_content": null,
            "_view_module": "@jupyter-widgets/base",
            "overflow": null,
            "_model_module_version": "1.2.0",
            "_view_count": null,
            "flex_flow": null,
            "width": null,
            "min_width": null,
            "border": null,
            "align_items": null,
            "bottom": null,
            "_model_module": "@jupyter-widgets/base",
            "top": null,
            "grid_column": null,
            "overflow_y": null,
            "overflow_x": null,
            "grid_auto_flow": null,
            "grid_area": null,
            "grid_template_columns": null,
            "flex": null,
            "_model_name": "LayoutModel",
            "justify_items": null,
            "grid_row": null,
            "max_height": null,
            "align_content": null,
            "visibility": null,
            "align_self": null,
            "height": null,
            "min_height": null,
            "padding": null,
            "grid_auto_rows": null,
            "grid_gap": null,
            "max_width": null,
            "order": null,
            "_view_module_version": "1.2.0",
            "grid_template_areas": null,
            "object_position": null,
            "object_fit": null,
            "grid_auto_columns": null,
            "margin": null,
            "display": null,
            "left": null
          }
        },
        "7f2fe0e2dc184be390c4ca41cb0dc247": {
          "model_module": "@jupyter-widgets/controls",
          "model_name": "FloatProgressModel",
          "state": {
            "_view_name": "ProgressView",
            "style": "IPY_MODEL_5354ecf232c84a3d8916cb6cec5a5ad7",
            "_dom_classes": [],
            "description": "  0%",
            "_model_name": "FloatProgressModel",
            "bar_style": "",
            "max": 15878,
            "_view_module": "@jupyter-widgets/controls",
            "_model_module_version": "1.5.0",
            "value": 25,
            "_view_count": null,
            "_view_module_version": "1.5.0",
            "orientation": "horizontal",
            "min": 0,
            "description_tooltip": null,
            "_model_module": "@jupyter-widgets/controls",
            "layout": "IPY_MODEL_0464f5c8d8f64efb8d4d86969801f4e9"
          }
        },
        "a60517d5712a4d208c4797fee87825bd": {
          "model_module": "@jupyter-widgets/controls",
          "model_name": "HTMLModel",
          "state": {
            "_view_name": "HTMLView",
            "style": "IPY_MODEL_bb21151dea484e09826892c579174dcb",
            "_dom_classes": [],
            "description": "",
            "_model_name": "HTMLModel",
            "placeholder": "​",
            "_view_module": "@jupyter-widgets/controls",
            "_model_module_version": "1.5.0",
            "value": " 25/15878 [00:13&lt;1:20:00,  3.30it/s]",
            "_view_count": null,
            "_view_module_version": "1.5.0",
            "description_tooltip": null,
            "_model_module": "@jupyter-widgets/controls",
            "layout": "IPY_MODEL_683ae4952c0d49b5aa62bd3d00441e04"
          }
        },
        "5354ecf232c84a3d8916cb6cec5a5ad7": {
          "model_module": "@jupyter-widgets/controls",
          "model_name": "ProgressStyleModel",
          "state": {
            "_view_name": "StyleView",
            "_model_name": "ProgressStyleModel",
            "description_width": "initial",
            "_view_module": "@jupyter-widgets/base",
            "_model_module_version": "1.5.0",
            "_view_count": null,
            "_view_module_version": "1.2.0",
            "bar_color": null,
            "_model_module": "@jupyter-widgets/controls"
          }
        },
        "0464f5c8d8f64efb8d4d86969801f4e9": {
          "model_module": "@jupyter-widgets/base",
          "model_name": "LayoutModel",
          "state": {
            "_view_name": "LayoutView",
            "grid_template_rows": null,
            "right": null,
            "justify_content": null,
            "_view_module": "@jupyter-widgets/base",
            "overflow": null,
            "_model_module_version": "1.2.0",
            "_view_count": null,
            "flex_flow": null,
            "width": null,
            "min_width": null,
            "border": null,
            "align_items": null,
            "bottom": null,
            "_model_module": "@jupyter-widgets/base",
            "top": null,
            "grid_column": null,
            "overflow_y": null,
            "overflow_x": null,
            "grid_auto_flow": null,
            "grid_area": null,
            "grid_template_columns": null,
            "flex": null,
            "_model_name": "LayoutModel",
            "justify_items": null,
            "grid_row": null,
            "max_height": null,
            "align_content": null,
            "visibility": null,
            "align_self": null,
            "height": null,
            "min_height": null,
            "padding": null,
            "grid_auto_rows": null,
            "grid_gap": null,
            "max_width": null,
            "order": null,
            "_view_module_version": "1.2.0",
            "grid_template_areas": null,
            "object_position": null,
            "object_fit": null,
            "grid_auto_columns": null,
            "margin": null,
            "display": null,
            "left": null
          }
        },
        "bb21151dea484e09826892c579174dcb": {
          "model_module": "@jupyter-widgets/controls",
          "model_name": "DescriptionStyleModel",
          "state": {
            "_view_name": "StyleView",
            "_model_name": "DescriptionStyleModel",
            "description_width": "",
            "_view_module": "@jupyter-widgets/base",
            "_model_module_version": "1.5.0",
            "_view_count": null,
            "_view_module_version": "1.2.0",
            "_model_module": "@jupyter-widgets/controls"
          }
        },
        "683ae4952c0d49b5aa62bd3d00441e04": {
          "model_module": "@jupyter-widgets/base",
          "model_name": "LayoutModel",
          "state": {
            "_view_name": "LayoutView",
            "grid_template_rows": null,
            "right": null,
            "justify_content": null,
            "_view_module": "@jupyter-widgets/base",
            "overflow": null,
            "_model_module_version": "1.2.0",
            "_view_count": null,
            "flex_flow": null,
            "width": null,
            "min_width": null,
            "border": null,
            "align_items": null,
            "bottom": null,
            "_model_module": "@jupyter-widgets/base",
            "top": null,
            "grid_column": null,
            "overflow_y": null,
            "overflow_x": null,
            "grid_auto_flow": null,
            "grid_area": null,
            "grid_template_columns": null,
            "flex": null,
            "_model_name": "LayoutModel",
            "justify_items": null,
            "grid_row": null,
            "max_height": null,
            "align_content": null,
            "visibility": null,
            "align_self": null,
            "height": null,
            "min_height": null,
            "padding": null,
            "grid_auto_rows": null,
            "grid_gap": null,
            "max_width": null,
            "order": null,
            "_view_module_version": "1.2.0",
            "grid_template_areas": null,
            "object_position": null,
            "object_fit": null,
            "grid_auto_columns": null,
            "margin": null,
            "display": null,
            "left": null
          }
        }
      }
    }
  },
  "cells": [
    {
      "cell_type": "markdown",
      "metadata": {
        "id": "view-in-github",
        "colab_type": "text"
      },
      "source": [
        "<a href=\"https://colab.research.google.com/github/akuma527/IProjects/blob/master/I%26D_Whale/Model_Basic.ipynb\" target=\"_parent\"><img src=\"https://colab.research.google.com/assets/colab-badge.svg\" alt=\"Open In Colab\"/></a>"
      ]
    },
    {
      "cell_type": "code",
      "metadata": {
        "id": "DAZ4qksuO5Zs",
        "colab_type": "code",
        "outputId": "f59fa414-e89e-459d-f8bf-5c1602d418c8",
        "colab": {
          "base_uri": "https://localhost:8080/",
          "height": 126
        }
      },
      "source": [
        "from google.colab import drive\n",
        "drive.mount('/content/drive')"
      ],
      "execution_count": 0,
      "outputs": [
        {
          "output_type": "stream",
          "text": [
            "Go to this URL in a browser: https://accounts.google.com/o/oauth2/auth?client_id=947318989803-6bn6qk8qdgf4n4g3pfee6491hc0brc4i.apps.googleusercontent.com&redirect_uri=urn%3aietf%3awg%3aoauth%3a2.0%3aoob&response_type=code&scope=email%20https%3a%2f%2fwww.googleapis.com%2fauth%2fdocs.test%20https%3a%2f%2fwww.googleapis.com%2fauth%2fdrive%20https%3a%2f%2fwww.googleapis.com%2fauth%2fdrive.photos.readonly%20https%3a%2f%2fwww.googleapis.com%2fauth%2fpeopleapi.readonly\n",
            "\n",
            "Enter your authorization code:\n",
            "··········\n",
            "Mounted at /content/drive\n"
          ],
          "name": "stdout"
        }
      ]
    },
    {
      "cell_type": "code",
      "metadata": {
        "id": "8VsGkL9rPDPk",
        "colab_type": "code",
        "outputId": "fdd17680-cc82-45b8-e248-3abe699d0397",
        "colab": {
          "base_uri": "https://localhost:8080/",
          "height": 35
        }
      },
      "source": [
        "%cd /content/drive/My Drive/Colab Notebooks/I&D_Whale/data/"
      ],
      "execution_count": 0,
      "outputs": [
        {
          "output_type": "stream",
          "text": [
            "/content/drive/My Drive/Colab Notebooks/I&D_Whale/data\n"
          ],
          "name": "stdout"
        }
      ]
    },
    {
      "cell_type": "code",
      "metadata": {
        "id": "SRyzjOo5PsPm",
        "colab_type": "code",
        "outputId": "254e710b-7e54-43dd-9791-56fa84538459",
        "colab": {
          "base_uri": "https://localhost:8080/",
          "height": 267
        }
      },
      "source": [
        "!pip install tqdm -U"
      ],
      "execution_count": 0,
      "outputs": [
        {
          "output_type": "stream",
          "text": [
            "Collecting tqdm\n",
            "\u001b[?25l  Downloading https://files.pythonhosted.org/packages/cd/80/5bb262050dd2f30f8819626b7c92339708fe2ed7bd5554c8193b4487b367/tqdm-4.42.1-py2.py3-none-any.whl (59kB)\n",
            "\r\u001b[K     |█████▌                          | 10kB 20.7MB/s eta 0:00:01\r\u001b[K     |███████████                     | 20kB 2.2MB/s eta 0:00:01\r\u001b[K     |████████████████▋               | 30kB 3.3MB/s eta 0:00:01\r\u001b[K     |██████████████████████▏         | 40kB 2.1MB/s eta 0:00:01\r\u001b[K     |███████████████████████████▊    | 51kB 2.6MB/s eta 0:00:01\r\u001b[K     |████████████████████████████████| 61kB 2.4MB/s \n",
            "\u001b[?25hInstalling collected packages: tqdm\n",
            "  Found existing installation: tqdm 4.28.1\n",
            "    Uninstalling tqdm-4.28.1:\n",
            "      Successfully uninstalled tqdm-4.28.1\n",
            "Successfully installed tqdm-4.42.1\n"
          ],
          "name": "stdout"
        },
        {
          "output_type": "display_data",
          "data": {
            "application/vnd.colab-display-data+json": {
              "pip_warning": {
                "packages": [
                  "tqdm"
                ]
              }
            }
          },
          "metadata": {
            "tags": []
          }
        }
      ]
    },
    {
      "cell_type": "code",
      "metadata": {
        "id": "X9Q8XWV7P1sq",
        "colab_type": "code",
        "outputId": "0b9933c1-541a-48ca-879a-5d1aefaff5f4",
        "colab": {
          "base_uri": "https://localhost:8080/",
          "height": 99
        }
      },
      "source": [
        "import pandas as pd\n",
        "import os\n",
        "import cv2\n",
        "import re\n",
        "import numpy as np\n",
        "import matplotlib.pyplot as plt\n",
        "import keras\n",
        "import tensorflow as tf\n",
        "%matplotlib inline\n",
        "from tqdm.notebook import tqdm"
      ],
      "execution_count": 0,
      "outputs": [
        {
          "output_type": "stream",
          "text": [
            "Using TensorFlow backend.\n"
          ],
          "name": "stderr"
        },
        {
          "output_type": "display_data",
          "data": {
            "text/html": [
              "<p style=\"color: red;\">\n",
              "The default version of TensorFlow in Colab will soon switch to TensorFlow 2.x.<br>\n",
              "We recommend you <a href=\"https://www.tensorflow.org/guide/migrate\" target=\"_blank\">upgrade</a> now \n",
              "or ensure your notebook will continue to use TensorFlow 1.x via the <code>%tensorflow_version 1.x</code> magic:\n",
              "<a href=\"https://colab.research.google.com/notebooks/tensorflow_version.ipynb\" target=\"_blank\">more info</a>.</p>\n"
            ],
            "text/plain": [
              "<IPython.core.display.HTML object>"
            ]
          },
          "metadata": {
            "tags": []
          }
        }
      ]
    },
    {
      "cell_type": "code",
      "metadata": {
        "id": "ALVBLphBP5I_",
        "colab_type": "code",
        "colab": {}
      },
      "source": [
        "t1 = pd.read_csv('final_train.csv')\n",
        "t2 = pd.read_csv('not_similar.csv')\n",
        "t1['sim'] = 1\n",
        "t2['sim'] = 0\n",
        "train = pd.concat([t1, t2], ignore_index=True, sort=False)\n",
        "del t1, t2"
      ],
      "execution_count": 0,
      "outputs": []
    },
    {
      "cell_type": "code",
      "metadata": {
        "id": "vfm2WdF3P-UI",
        "colab_type": "code",
        "outputId": "827aa1ec-ea12-48c8-c898-d183325e0a5b",
        "colab": {
          "base_uri": "https://localhost:8080/",
          "height": 285
        }
      },
      "source": [
        "train.head()"
      ],
      "execution_count": 0,
      "outputs": [
        {
          "output_type": "execute_result",
          "data": {
            "text/html": [
              "<div>\n",
              "<style scoped>\n",
              "    .dataframe tbody tr th:only-of-type {\n",
              "        vertical-align: middle;\n",
              "    }\n",
              "\n",
              "    .dataframe tbody tr th {\n",
              "        vertical-align: top;\n",
              "    }\n",
              "\n",
              "    .dataframe thead th {\n",
              "        text-align: right;\n",
              "    }\n",
              "</style>\n",
              "<table border=\"1\" class=\"dataframe\">\n",
              "  <thead>\n",
              "    <tr style=\"text-align: right;\">\n",
              "      <th></th>\n",
              "      <th>Image</th>\n",
              "      <th>Id</th>\n",
              "      <th>fil_path</th>\n",
              "      <th>Image_2</th>\n",
              "      <th>Id_2</th>\n",
              "      <th>fil_path_2</th>\n",
              "      <th>sim</th>\n",
              "    </tr>\n",
              "  </thead>\n",
              "  <tbody>\n",
              "    <tr>\n",
              "      <th>0</th>\n",
              "      <td>PM-WWA-20050413-003b.jpg</td>\n",
              "      <td>2764</td>\n",
              "      <td>train/2764/PM-WWA-20050413-003b.jpg</td>\n",
              "      <td>PM-WWA-20050413-029.jpg</td>\n",
              "      <td>2764</td>\n",
              "      <td>train/2764/PM-WWA-20050413-029.jpg</td>\n",
              "      <td>1</td>\n",
              "    </tr>\n",
              "    <tr>\n",
              "      <th>1</th>\n",
              "      <td>PM-WWA-20050413-029.jpg</td>\n",
              "      <td>2764</td>\n",
              "      <td>train/2764/PM-WWA-20050413-029.jpg</td>\n",
              "      <td>PM-WWA-20050413-003b.jpg</td>\n",
              "      <td>2764</td>\n",
              "      <td>train/2764/PM-WWA-20050413-003b.jpg</td>\n",
              "      <td>1</td>\n",
              "    </tr>\n",
              "    <tr>\n",
              "      <th>2</th>\n",
              "      <td>PM-WWA-20050413-006.jpg</td>\n",
              "      <td>2825</td>\n",
              "      <td>train/2825/PM-WWA-20050413-006.jpg</td>\n",
              "      <td>PM-WWA-20050413-007.jpg</td>\n",
              "      <td>2825</td>\n",
              "      <td>train/2825/PM-WWA-20050413-007.jpg</td>\n",
              "      <td>1</td>\n",
              "    </tr>\n",
              "    <tr>\n",
              "      <th>3</th>\n",
              "      <td>PM-WWA-20050413-007.jpg</td>\n",
              "      <td>2825</td>\n",
              "      <td>train/2825/PM-WWA-20050413-007.jpg</td>\n",
              "      <td>PM-WWA-20050413-006.jpg</td>\n",
              "      <td>2825</td>\n",
              "      <td>train/2825/PM-WWA-20050413-006.jpg</td>\n",
              "      <td>1</td>\n",
              "    </tr>\n",
              "    <tr>\n",
              "      <th>4</th>\n",
              "      <td>PM-WWA-20050413-009.jpg</td>\n",
              "      <td>2826</td>\n",
              "      <td>train/2826/PM-WWA-20050413-009.jpg</td>\n",
              "      <td>PM-BIO-20050413-049.jpg</td>\n",
              "      <td>2826</td>\n",
              "      <td>train/2826/PM-BIO-20050413-049.jpg</td>\n",
              "      <td>1</td>\n",
              "    </tr>\n",
              "  </tbody>\n",
              "</table>\n",
              "</div>"
            ],
            "text/plain": [
              "                      Image    Id  ...                           fil_path_2 sim\n",
              "0  PM-WWA-20050413-003b.jpg  2764  ...   train/2764/PM-WWA-20050413-029.jpg   1\n",
              "1   PM-WWA-20050413-029.jpg  2764  ...  train/2764/PM-WWA-20050413-003b.jpg   1\n",
              "2   PM-WWA-20050413-006.jpg  2825  ...   train/2825/PM-WWA-20050413-007.jpg   1\n",
              "3   PM-WWA-20050413-007.jpg  2825  ...   train/2825/PM-WWA-20050413-006.jpg   1\n",
              "4   PM-WWA-20050413-009.jpg  2826  ...   train/2826/PM-BIO-20050413-049.jpg   1\n",
              "\n",
              "[5 rows x 7 columns]"
            ]
          },
          "metadata": {
            "tags": []
          },
          "execution_count": 6
        }
      ]
    },
    {
      "cell_type": "markdown",
      "metadata": {
        "id": "vIAoVV7YQPKp",
        "colab_type": "text"
      },
      "source": [
        "# Model"
      ]
    },
    {
      "cell_type": "code",
      "metadata": {
        "id": "_EBFrlYqQyfN",
        "colab_type": "code",
        "outputId": "a40b7092-16cb-46fb-b88b-1c7a3af7590a",
        "colab": {
          "base_uri": "https://localhost:8080/",
          "height": 49,
          "referenced_widgets": [
            "dfbc0ab499844cfebdfff192dec6e8b1",
            "b8daa09ceecc4e979d15e66fd476331f",
            "7f2fe0e2dc184be390c4ca41cb0dc247",
            "a60517d5712a4d208c4797fee87825bd",
            "5354ecf232c84a3d8916cb6cec5a5ad7",
            "0464f5c8d8f64efb8d4d86969801f4e9",
            "bb21151dea484e09826892c579174dcb",
            "683ae4952c0d49b5aa62bd3d00441e04"
          ]
        }
      },
      "source": [
        "training_data = []\n",
        "for i in tqdm(range(len(train))):\n",
        "    s = train['fil_path'].iloc[i]\n",
        "    ss = train['fil_path_2'].iloc[i]\n",
        "    img_array_1 = cv2.imread(s, cv2.IMREAD_GRAYSCALE)\n",
        "    img_array_2 = cv2.imread(ss, cv2.IMREAD_GRAYSCALE)\n",
        "    new_array_1 = cv2.resize(img_array_1, (384, 384))\n",
        "    new_array_2 = cv2.resize(img_array_2, (384, 384))\n",
        "    lab = train['sim'].iloc[i]\n",
        "\n",
        "    training_data.append([new_array_1, new_array_2, lab])\n",
        "    \n",
        "a = np.array([i[0].reshape((384,384,1)) for i in training_data])\n",
        "b = np.array([i[1].reshape((384,384,1)) for i in training_data])\n",
        "c = np.array([i[2].reshape(1,) for i in training_data])"
      ],
      "execution_count": 0,
      "outputs": [
        {
          "output_type": "display_data",
          "data": {
            "application/vnd.jupyter.widget-view+json": {
              "model_id": "dfbc0ab499844cfebdfff192dec6e8b1",
              "version_minor": 0,
              "version_major": 2
            },
            "text/plain": [
              "HBox(children=(FloatProgress(value=0.0, max=15878.0), HTML(value='')))"
            ]
          },
          "metadata": {
            "tags": []
          }
        }
      ]
    },
    {
      "cell_type": "code",
      "metadata": {
        "id": "xn9eRfP5QYVV",
        "colab_type": "code",
        "colab": {}
      },
      "source": [
        "from keras import regularizers\n",
        "from keras.optimizers import Adam\n",
        "from keras.engine.topology import Input\n",
        "from keras.layers import Activation, Add, BatchNormalization, Concatenate, Conv2D, Dense, Flatten, GlobalMaxPooling2D, Lambda, MaxPooling2D, Reshape\n",
        "from keras.models import Model\n",
        "from keras import backend as K"
      ],
      "execution_count": 0,
      "outputs": []
    },
    {
      "cell_type": "code",
      "metadata": {
        "id": "BdoNlQ1uQuX0",
        "colab_type": "code",
        "colab": {}
      },
      "source": [
        "def subblock(x, filter, **kwargs):\n",
        "    x = BatchNormalization()(x)\n",
        "    y = x\n",
        "    y = Conv2D(filter, (1, 1), activation='relu', **kwargs)(y) # Reduce the number of features to 'filter'\n",
        "    y = BatchNormalization()(y)\n",
        "    y = Conv2D(filter, (3, 3), activation='relu', **kwargs)(y) # Extend the feature field\n",
        "    y = BatchNormalization()(y)\n",
        "    y = Conv2D(K.int_shape(x)[-1], (1, 1), **kwargs)(y) # no activation # Restore the number of original features\n",
        "    y = Add()([x,y]) # Add the bypass connection\n",
        "    y = Activation('relu')(y)\n",
        "    return y\n"
      ],
      "execution_count": 0,
      "outputs": []
    },
    {
      "cell_type": "code",
      "metadata": {
        "id": "KNtPgvTFQwIK",
        "colab_type": "code",
        "colab": {}
      },
      "source": [
        "def build_model(lr, l2, activation='sigmoid'):\n",
        "\n",
        "    ##############\n",
        "    # BRANCH MODEL\n",
        "    ##############\n",
        "    regul  = regularizers.l2(l2)\n",
        "    optim  = Adam(lr=lr)\n",
        "    kwargs = {'padding':'same', 'kernel_regularizer':regul}\n",
        "    img_shape = (384, 384, 1)\n",
        "    inp = Input(shape=img_shape) # 384x384x1\n",
        "    x   = Conv2D(64, (9,9), strides=2, activation='relu', **kwargs)(inp)\n",
        "\n",
        "    x   = MaxPooling2D((2, 2), strides=(2, 2))(x) # 96x96x64\n",
        "    for _ in range(2):\n",
        "        x = BatchNormalization()(x)\n",
        "        x = Conv2D(64, (3,3), activation='relu', **kwargs)(x)\n",
        "\n",
        "    x = MaxPooling2D((2, 2), strides=(2, 2))(x) # 48x48x64\n",
        "    x = BatchNormalization()(x)\n",
        "    x = Conv2D(128, (1,1), activation='relu', **kwargs)(x) # 48x48x128\n",
        "    for _ in range(4): x = subblock(x, 64, **kwargs)\n",
        "\n",
        "    x = MaxPooling2D((2, 2), strides=(2, 2))(x) # 24x24x128\n",
        "    x = BatchNormalization()(x)\n",
        "    x = Conv2D(256, (1,1), activation='relu', **kwargs)(x) # 24x24x256\n",
        "    for _ in range(4): x = subblock(x, 64, **kwargs)\n",
        "\n",
        "    x = MaxPooling2D((2, 2), strides=(2, 2))(x) # 12x12x256\n",
        "    x = BatchNormalization()(x)\n",
        "    x = Conv2D(384, (1,1), activation='relu', **kwargs)(x) # 12x12x384\n",
        "    for _ in range(4): x = subblock(x, 96, **kwargs)\n",
        "\n",
        "    x = MaxPooling2D((2, 2), strides=(2, 2))(x) # 6x6x384\n",
        "    x = BatchNormalization()(x)\n",
        "    x = Conv2D(512, (1,1), activation='relu', **kwargs)(x) # 6x6x512\n",
        "    for _ in range(4): x = subblock(x, 128, **kwargs)\n",
        "    \n",
        "    x             = GlobalMaxPooling2D()(x) # 512\n",
        "    branch_model  = Model(inp, x)\n",
        "    # ------X------X------X------X-------#\n",
        "    \n",
        "    ############\n",
        "    # HEAD MODEL\n",
        "    ############\n",
        "    mid        = 32\n",
        "    xa_inp     = Input(shape=branch_model.output_shape[1:])\n",
        "    xb_inp     = Input(shape=branch_model.output_shape[1:])\n",
        "    x1         = Lambda(lambda x : x[0]*x[1])([xa_inp, xb_inp])\n",
        "    x2         = Lambda(lambda x : x[0] + x[1])([xa_inp, xb_inp])\n",
        "    x3         = Lambda(lambda x : K.abs(x[0] - x[1]))([xa_inp, xb_inp])\n",
        "    x4         = Lambda(lambda x : K.square(x))(x3)\n",
        "    x          = Concatenate()([x1, x2, x3, x4])\n",
        "    x          = Reshape((4, branch_model.output_shape[1], 1), name='reshape1')(x)\n",
        "\n",
        "    # Per feature NN with shared weight is implemented using CONV2D with appropriate stride.\n",
        "    x          = Conv2D(mid, (4, 1), activation='relu', padding='valid')(x)\n",
        "    x          = Reshape((branch_model.output_shape[1], mid, 1))(x)\n",
        "    x          = Conv2D(1, (1, mid), activation='linear', padding='valid')(x)\n",
        "    x          = Flatten(name='flatten')(x)\n",
        "    \n",
        "    # Weighted sum implemented as a Dense layer.\n",
        "    x          = Dense(1, use_bias=True, activation=activation, name='weighted-average')(x)\n",
        "    head_model = Model([xa_inp, xb_inp], x, name='head')\n",
        "    # ------X------X------X------X-------#\n",
        "\n",
        "    ########################\n",
        "    # SIAMESE NEURAL NETWORK\n",
        "    ########################\n",
        "    # Complete model is constructed by calling the branch model on each input image,\n",
        "    # and then the head model on the resulting 512-vectors.\n",
        "    img_a      = Input(shape=img_shape)\n",
        "    img_b      = Input(shape=img_shape)\n",
        "    xa         = branch_model(img_a)\n",
        "    xb         = branch_model(img_b)\n",
        "    x          = head_model([xa, xb])\n",
        "    model      = Model([img_a, img_b], x)\n",
        "    model.compile(optim, loss='binary_crossentropy', metrics=['binary_crossentropy', 'acc'])\n",
        "    return model, branch_model, head_model\n",
        "    # ------X------X------X------X-------#"
      ],
      "execution_count": 0,
      "outputs": []
    },
    {
      "cell_type": "code",
      "metadata": {
        "id": "GVgT9D1KRc1M",
        "colab_type": "code",
        "colab": {}
      },
      "source": [
        "model, branch_model, head_model = build_model(lr=0.0001, l2=0.00001, activation='sigmoid')"
      ],
      "execution_count": 0,
      "outputs": []
    },
    {
      "cell_type": "code",
      "metadata": {
        "id": "tr4ZxL37wraT",
        "colab_type": "code",
        "outputId": "8cea2745-1c12-402a-f427-df4bd19b2db5",
        "colab": {
          "base_uri": "https://localhost:8080/",
          "height": 126
        }
      },
      "source": [
        "model.fit([a, b], c, epochs=10, verbose=1, batch_size=32)"
      ],
      "execution_count": 0,
      "outputs": [
        {
          "output_type": "stream",
          "text": [
            "WARNING:tensorflow:From /usr/local/lib/python3.6/dist-packages/keras/backend/tensorflow_backend.py:1033: The name tf.assign_add is deprecated. Please use tf.compat.v1.assign_add instead.\n",
            "\n",
            "WARNING:tensorflow:From /usr/local/lib/python3.6/dist-packages/keras/backend/tensorflow_backend.py:1020: The name tf.assign is deprecated. Please use tf.compat.v1.assign instead.\n",
            "\n",
            "Epoch 1/10\n"
          ],
          "name": "stdout"
        }
      ]
    },
    {
      "cell_type": "code",
      "metadata": {
        "id": "DZFBMbqeySM-",
        "colab_type": "code",
        "colab": {}
      },
      "source": [
        ""
      ],
      "execution_count": 0,
      "outputs": []
    }
  ]
}