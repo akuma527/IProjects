{
  "nbformat": 4,
  "nbformat_minor": 0,
  "metadata": {
    "kernelspec": {
      "display_name": "Python 3",
      "language": "python",
      "name": "python3"
    },
    "language_info": {
      "codemirror_mode": {
        "name": "ipython",
        "version": 3
      },
      "file_extension": ".py",
      "mimetype": "text/x-python",
      "name": "python",
      "nbconvert_exporter": "python",
      "pygments_lexer": "ipython3",
      "version": "3.6.7"
    },
    "colab": {
      "name": "notebooks_Tutorial2_A_First_Model.ipynb",
      "provenance": []
    },
    "widgets": {
      "application/vnd.jupyter.widget-state+json": {
        "802c1caa5ae1458da0b4f4ce71c77fef": {
          "model_module": "@jupyter-widgets/controls",
          "model_name": "HBoxModel",
          "state": {
            "_view_name": "HBoxView",
            "_dom_classes": [],
            "_model_name": "HBoxModel",
            "_view_module": "@jupyter-widgets/controls",
            "_model_module_version": "1.5.0",
            "_view_count": null,
            "_view_module_version": "1.5.0",
            "box_style": "",
            "layout": "IPY_MODEL_09d91d04e9a7466fbc28301fbd84cc79",
            "_model_module": "@jupyter-widgets/controls",
            "children": [
              "IPY_MODEL_82862bbc8d5549a7bf1839317a5fe606",
              "IPY_MODEL_52c2eed9034b4e0f9742a4a01ac37849"
            ]
          }
        },
        "09d91d04e9a7466fbc28301fbd84cc79": {
          "model_module": "@jupyter-widgets/base",
          "model_name": "LayoutModel",
          "state": {
            "_view_name": "LayoutView",
            "grid_template_rows": null,
            "right": null,
            "justify_content": null,
            "_view_module": "@jupyter-widgets/base",
            "overflow": null,
            "_model_module_version": "1.2.0",
            "_view_count": null,
            "flex_flow": null,
            "width": null,
            "min_width": null,
            "border": null,
            "align_items": null,
            "bottom": null,
            "_model_module": "@jupyter-widgets/base",
            "top": null,
            "grid_column": null,
            "overflow_y": null,
            "overflow_x": null,
            "grid_auto_flow": null,
            "grid_area": null,
            "grid_template_columns": null,
            "flex": null,
            "_model_name": "LayoutModel",
            "justify_items": null,
            "grid_row": null,
            "max_height": null,
            "align_content": null,
            "visibility": null,
            "align_self": null,
            "height": null,
            "min_height": null,
            "padding": null,
            "grid_auto_rows": null,
            "grid_gap": null,
            "max_width": null,
            "order": null,
            "_view_module_version": "1.2.0",
            "grid_template_areas": null,
            "object_position": null,
            "object_fit": null,
            "grid_auto_columns": null,
            "margin": null,
            "display": null,
            "left": null
          }
        },
        "82862bbc8d5549a7bf1839317a5fe606": {
          "model_module": "@jupyter-widgets/controls",
          "model_name": "FloatProgressModel",
          "state": {
            "_view_name": "ProgressView",
            "style": "IPY_MODEL_cba47eb8dae94a5f8879bfbd41c7068c",
            "_dom_classes": [],
            "description": "100%",
            "_model_name": "FloatProgressModel",
            "bar_style": "success",
            "max": 15026,
            "_view_module": "@jupyter-widgets/controls",
            "_model_module_version": "1.5.0",
            "value": 15026,
            "_view_count": null,
            "_view_module_version": "1.5.0",
            "orientation": "horizontal",
            "min": 0,
            "description_tooltip": null,
            "_model_module": "@jupyter-widgets/controls",
            "layout": "IPY_MODEL_55ae1e44952a4383a1d622e4a968d2d0"
          }
        },
        "52c2eed9034b4e0f9742a4a01ac37849": {
          "model_module": "@jupyter-widgets/controls",
          "model_name": "HTMLModel",
          "state": {
            "_view_name": "HTMLView",
            "style": "IPY_MODEL_e926a663e80c4d5f8961d6e868545006",
            "_dom_classes": [],
            "description": "",
            "_model_name": "HTMLModel",
            "placeholder": "​",
            "_view_module": "@jupyter-widgets/controls",
            "_model_module_version": "1.5.0",
            "value": " 15026/15026 [17:51&lt;00:00, 14.02it/s]",
            "_view_count": null,
            "_view_module_version": "1.5.0",
            "description_tooltip": null,
            "_model_module": "@jupyter-widgets/controls",
            "layout": "IPY_MODEL_a16c4a7fbf164ad4904f581f897c5f8c"
          }
        },
        "cba47eb8dae94a5f8879bfbd41c7068c": {
          "model_module": "@jupyter-widgets/controls",
          "model_name": "ProgressStyleModel",
          "state": {
            "_view_name": "StyleView",
            "_model_name": "ProgressStyleModel",
            "description_width": "initial",
            "_view_module": "@jupyter-widgets/base",
            "_model_module_version": "1.5.0",
            "_view_count": null,
            "_view_module_version": "1.2.0",
            "bar_color": null,
            "_model_module": "@jupyter-widgets/controls"
          }
        },
        "55ae1e44952a4383a1d622e4a968d2d0": {
          "model_module": "@jupyter-widgets/base",
          "model_name": "LayoutModel",
          "state": {
            "_view_name": "LayoutView",
            "grid_template_rows": null,
            "right": null,
            "justify_content": null,
            "_view_module": "@jupyter-widgets/base",
            "overflow": null,
            "_model_module_version": "1.2.0",
            "_view_count": null,
            "flex_flow": null,
            "width": null,
            "min_width": null,
            "border": null,
            "align_items": null,
            "bottom": null,
            "_model_module": "@jupyter-widgets/base",
            "top": null,
            "grid_column": null,
            "overflow_y": null,
            "overflow_x": null,
            "grid_auto_flow": null,
            "grid_area": null,
            "grid_template_columns": null,
            "flex": null,
            "_model_name": "LayoutModel",
            "justify_items": null,
            "grid_row": null,
            "max_height": null,
            "align_content": null,
            "visibility": null,
            "align_self": null,
            "height": null,
            "min_height": null,
            "padding": null,
            "grid_auto_rows": null,
            "grid_gap": null,
            "max_width": null,
            "order": null,
            "_view_module_version": "1.2.0",
            "grid_template_areas": null,
            "object_position": null,
            "object_fit": null,
            "grid_auto_columns": null,
            "margin": null,
            "display": null,
            "left": null
          }
        },
        "e926a663e80c4d5f8961d6e868545006": {
          "model_module": "@jupyter-widgets/controls",
          "model_name": "DescriptionStyleModel",
          "state": {
            "_view_name": "StyleView",
            "_model_name": "DescriptionStyleModel",
            "description_width": "",
            "_view_module": "@jupyter-widgets/base",
            "_model_module_version": "1.5.0",
            "_view_count": null,
            "_view_module_version": "1.2.0",
            "_model_module": "@jupyter-widgets/controls"
          }
        },
        "a16c4a7fbf164ad4904f581f897c5f8c": {
          "model_module": "@jupyter-widgets/base",
          "model_name": "LayoutModel",
          "state": {
            "_view_name": "LayoutView",
            "grid_template_rows": null,
            "right": null,
            "justify_content": null,
            "_view_module": "@jupyter-widgets/base",
            "overflow": null,
            "_model_module_version": "1.2.0",
            "_view_count": null,
            "flex_flow": null,
            "width": null,
            "min_width": null,
            "border": null,
            "align_items": null,
            "bottom": null,
            "_model_module": "@jupyter-widgets/base",
            "top": null,
            "grid_column": null,
            "overflow_y": null,
            "overflow_x": null,
            "grid_auto_flow": null,
            "grid_area": null,
            "grid_template_columns": null,
            "flex": null,
            "_model_name": "LayoutModel",
            "justify_items": null,
            "grid_row": null,
            "max_height": null,
            "align_content": null,
            "visibility": null,
            "align_self": null,
            "height": null,
            "min_height": null,
            "padding": null,
            "grid_auto_rows": null,
            "grid_gap": null,
            "max_width": null,
            "order": null,
            "_view_module_version": "1.2.0",
            "grid_template_areas": null,
            "object_position": null,
            "object_fit": null,
            "grid_auto_columns": null,
            "margin": null,
            "display": null,
            "left": null
          }
        },
        "503c3b523131454eba4afe31ea0cda93": {
          "model_module": "@jupyter-widgets/controls",
          "model_name": "HBoxModel",
          "state": {
            "_view_name": "HBoxView",
            "_dom_classes": [],
            "_model_name": "HBoxModel",
            "_view_module": "@jupyter-widgets/controls",
            "_model_module_version": "1.5.0",
            "_view_count": null,
            "_view_module_version": "1.5.0",
            "box_style": "",
            "layout": "IPY_MODEL_13def2c5bf944e579f508beb93c4ed3c",
            "_model_module": "@jupyter-widgets/controls",
            "children": [
              "IPY_MODEL_bf91bc4058494d8c87c0e9527d06db30",
              "IPY_MODEL_f7df574a55e343548ab0d821002c066c"
            ]
          }
        },
        "13def2c5bf944e579f508beb93c4ed3c": {
          "model_module": "@jupyter-widgets/base",
          "model_name": "LayoutModel",
          "state": {
            "_view_name": "LayoutView",
            "grid_template_rows": null,
            "right": null,
            "justify_content": null,
            "_view_module": "@jupyter-widgets/base",
            "overflow": null,
            "_model_module_version": "1.2.0",
            "_view_count": null,
            "flex_flow": null,
            "width": null,
            "min_width": null,
            "border": null,
            "align_items": null,
            "bottom": null,
            "_model_module": "@jupyter-widgets/base",
            "top": null,
            "grid_column": null,
            "overflow_y": null,
            "overflow_x": null,
            "grid_auto_flow": null,
            "grid_area": null,
            "grid_template_columns": null,
            "flex": null,
            "_model_name": "LayoutModel",
            "justify_items": null,
            "grid_row": null,
            "max_height": null,
            "align_content": null,
            "visibility": null,
            "align_self": null,
            "height": null,
            "min_height": null,
            "padding": null,
            "grid_auto_rows": null,
            "grid_gap": null,
            "max_width": null,
            "order": null,
            "_view_module_version": "1.2.0",
            "grid_template_areas": null,
            "object_position": null,
            "object_fit": null,
            "grid_auto_columns": null,
            "margin": null,
            "display": null,
            "left": null
          }
        },
        "bf91bc4058494d8c87c0e9527d06db30": {
          "model_module": "@jupyter-widgets/controls",
          "model_name": "FloatProgressModel",
          "state": {
            "_view_name": "ProgressView",
            "style": "IPY_MODEL_0efbd3b349934f5ca86405723acf0509",
            "_dom_classes": [],
            "description": "100%",
            "_model_name": "FloatProgressModel",
            "bar_style": "success",
            "max": 15026,
            "_view_module": "@jupyter-widgets/controls",
            "_model_module_version": "1.5.0",
            "value": 15026,
            "_view_count": null,
            "_view_module_version": "1.5.0",
            "orientation": "horizontal",
            "min": 0,
            "description_tooltip": null,
            "_model_module": "@jupyter-widgets/controls",
            "layout": "IPY_MODEL_7def957f04c34cdfaa1a22a2d71fb656"
          }
        },
        "f7df574a55e343548ab0d821002c066c": {
          "model_module": "@jupyter-widgets/controls",
          "model_name": "HTMLModel",
          "state": {
            "_view_name": "HTMLView",
            "style": "IPY_MODEL_821ed9c24a184be3843925c38b1803b3",
            "_dom_classes": [],
            "description": "",
            "_model_name": "HTMLModel",
            "placeholder": "​",
            "_view_module": "@jupyter-widgets/controls",
            "_model_module_version": "1.5.0",
            "value": " 15026/15026 [00:23&lt;00:00, 644.71it/s]",
            "_view_count": null,
            "_view_module_version": "1.5.0",
            "description_tooltip": null,
            "_model_module": "@jupyter-widgets/controls",
            "layout": "IPY_MODEL_f2aa3842b44d46f58c9cead4b16a6905"
          }
        },
        "0efbd3b349934f5ca86405723acf0509": {
          "model_module": "@jupyter-widgets/controls",
          "model_name": "ProgressStyleModel",
          "state": {
            "_view_name": "StyleView",
            "_model_name": "ProgressStyleModel",
            "description_width": "initial",
            "_view_module": "@jupyter-widgets/base",
            "_model_module_version": "1.5.0",
            "_view_count": null,
            "_view_module_version": "1.2.0",
            "bar_color": null,
            "_model_module": "@jupyter-widgets/controls"
          }
        },
        "7def957f04c34cdfaa1a22a2d71fb656": {
          "model_module": "@jupyter-widgets/base",
          "model_name": "LayoutModel",
          "state": {
            "_view_name": "LayoutView",
            "grid_template_rows": null,
            "right": null,
            "justify_content": null,
            "_view_module": "@jupyter-widgets/base",
            "overflow": null,
            "_model_module_version": "1.2.0",
            "_view_count": null,
            "flex_flow": null,
            "width": null,
            "min_width": null,
            "border": null,
            "align_items": null,
            "bottom": null,
            "_model_module": "@jupyter-widgets/base",
            "top": null,
            "grid_column": null,
            "overflow_y": null,
            "overflow_x": null,
            "grid_auto_flow": null,
            "grid_area": null,
            "grid_template_columns": null,
            "flex": null,
            "_model_name": "LayoutModel",
            "justify_items": null,
            "grid_row": null,
            "max_height": null,
            "align_content": null,
            "visibility": null,
            "align_self": null,
            "height": null,
            "min_height": null,
            "padding": null,
            "grid_auto_rows": null,
            "grid_gap": null,
            "max_width": null,
            "order": null,
            "_view_module_version": "1.2.0",
            "grid_template_areas": null,
            "object_position": null,
            "object_fit": null,
            "grid_auto_columns": null,
            "margin": null,
            "display": null,
            "left": null
          }
        },
        "821ed9c24a184be3843925c38b1803b3": {
          "model_module": "@jupyter-widgets/controls",
          "model_name": "DescriptionStyleModel",
          "state": {
            "_view_name": "StyleView",
            "_model_name": "DescriptionStyleModel",
            "description_width": "",
            "_view_module": "@jupyter-widgets/base",
            "_model_module_version": "1.5.0",
            "_view_count": null,
            "_view_module_version": "1.2.0",
            "_model_module": "@jupyter-widgets/controls"
          }
        },
        "f2aa3842b44d46f58c9cead4b16a6905": {
          "model_module": "@jupyter-widgets/base",
          "model_name": "LayoutModel",
          "state": {
            "_view_name": "LayoutView",
            "grid_template_rows": null,
            "right": null,
            "justify_content": null,
            "_view_module": "@jupyter-widgets/base",
            "overflow": null,
            "_model_module_version": "1.2.0",
            "_view_count": null,
            "flex_flow": null,
            "width": null,
            "min_width": null,
            "border": null,
            "align_items": null,
            "bottom": null,
            "_model_module": "@jupyter-widgets/base",
            "top": null,
            "grid_column": null,
            "overflow_y": null,
            "overflow_x": null,
            "grid_auto_flow": null,
            "grid_area": null,
            "grid_template_columns": null,
            "flex": null,
            "_model_name": "LayoutModel",
            "justify_items": null,
            "grid_row": null,
            "max_height": null,
            "align_content": null,
            "visibility": null,
            "align_self": null,
            "height": null,
            "min_height": null,
            "padding": null,
            "grid_auto_rows": null,
            "grid_gap": null,
            "max_width": null,
            "order": null,
            "_view_module_version": "1.2.0",
            "grid_template_areas": null,
            "object_position": null,
            "object_fit": null,
            "grid_auto_columns": null,
            "margin": null,
            "display": null,
            "left": null
          }
        }
      }
    }
  },
  "cells": [
    {
      "cell_type": "markdown",
      "metadata": {
        "id": "Cadvu-nVIinK",
        "colab_type": "text"
      },
      "source": [
        "# Tutorial 2: Building a first model\n",
        "\n",
        "In tutorial 1, we got a basic understanding of our problem. We learned that the images show over 1000 different whales. For the majority of them exists only a single image. \n",
        "We also considered the score function that determins the placings on the leaderboard. Recall that our task is:\n",
        "\n",
        "**For every image *i* in the *test_val* folder, predict the 20 images that are most similar to *i*.**\n",
        "\n",
        "In this tutorial, we will build two solutions to this problem. Let's get started!"
      ]
    },
    {
      "cell_type": "markdown",
      "metadata": {
        "id": "S6gQu-5DIinR",
        "colab_type": "text"
      },
      "source": [
        "### Table of contents\n",
        "\n",
        "[1. Similarity between Images](#section1) <br>\n",
        "[2. A bit of history: The ImageNet Challenge](#section2) <br>\n",
        "&emsp; [2.1 What is a Deep Learning Model for image classification](#section2.1) <br>\n",
        "[3. On the shoulders of giants: Using pretrained model to convert images](#section3) <br>\n",
        "[4. How to measure similarity](#section4) <br>\n",
        "[5. Our baseline](#section5) <br>\n",
        "[6. Learn, don't define: A better similarity measure](#section6) <br>\n",
        "&emsp; [6.1 Examples for the AI: Creating image pairs ](#section6.1) <br>\n",
        "&emsp; [6.2 Feeding examples to the AI ](#section6.2) <br>\n",
        "&emsp; [6.3 Defining the model ](#section6.3) <br>\n",
        "&emsp; [6.4 Training the model ](#section6.4) <br>\n",
        "&emsp; [6.5 Creating predictions  ](#section6.5) <br>\n"
      ]
    },
    {
      "cell_type": "code",
      "metadata": {
        "id": "JkxN6HqMIinT",
        "colab_type": "code",
        "colab": {
          "base_uri": "https://localhost:8080/",
          "height": 64
        },
        "outputId": "b50e5b62-aec4-4201-f013-a66d6c6bc7c3"
      },
      "source": [
        "# For readability, we list all libraries we use in this notebook at the beginning\n",
        "import sys\n",
        "sys.path.insert(0, '..')\n",
        "import numpy as np\n",
        "import pandas as pd\n",
        "import tensorflow as tf\n",
        "from pathlib import Path\n",
        "from matplotlib.pyplot import imshow\n",
        "from pathlib import Path\n",
        "from itertools import combinations\n",
        "# from src.data.process_dataset import DataGeneratorFromEmbeddings\n",
        "from sklearn.metrics.pairwise import cosine_similarity\n",
        "from tensorflow.keras import backend as K\n",
        "from tensorflow.keras.applications import MobileNet\n",
        "from tensorflow.keras.applications.mobilenet import preprocess_input\n",
        "from tensorflow.keras.preprocessing.image import load_img, img_to_array\n",
        "from tensorflow.keras.models import Model\n",
        "from tensorflow.keras.layers import Input, Lambda, Dense\n",
        "from tensorflow.keras.initializers import RandomNormal\n",
        "import matplotlib.pyplot as plt"
      ],
      "execution_count": 1,
      "outputs": [
        {
          "output_type": "display_data",
          "data": {
            "text/html": [
              "<p style=\"color: red;\">\n",
              "The default version of TensorFlow in Colab will soon switch to TensorFlow 2.x.<br>\n",
              "We recommend you <a href=\"https://www.tensorflow.org/guide/migrate\" target=\"_blank\">upgrade</a> now \n",
              "or ensure your notebook will continue to use TensorFlow 1.x via the <code>%tensorflow_version 1.x</code> magic:\n",
              "<a href=\"https://colab.research.google.com/notebooks/tensorflow_version.ipynb\" target=\"_blank\">more info</a>.</p>\n"
            ],
            "text/plain": [
              "<IPython.core.display.HTML object>"
            ]
          },
          "metadata": {
            "tags": []
          }
        }
      ]
    },
    {
      "cell_type": "markdown",
      "metadata": {
        "id": "uu_lay0tK3T7",
        "colab_type": "text"
      },
      "source": [
        "## Data Generator Class"
      ]
    },
    {
      "cell_type": "code",
      "metadata": {
        "id": "snlV7kgNK1Wc",
        "colab_type": "code",
        "colab": {}
      },
      "source": [
        "import random\n",
        "from pathlib import Path\n",
        "\n",
        "import numpy as np\n",
        "from tensorflow.keras.utils import Sequence\n",
        "\n",
        "EMBEDDING_SHAPE = 1024\n",
        "\n",
        "\n",
        "class DataGeneratorFromEmbeddings(Sequence):\n",
        "    \"\"\"\n",
        "    Takes a list of pairs and precomputed embeddings and labels\n",
        "    and feeds them in batches to a deep learning model.\n",
        "    \"\"\"\n",
        "\n",
        "    def __init__(\n",
        "        self,\n",
        "        pairs,\n",
        "        embeddings,\n",
        "        labels,\n",
        "        batch_size=32,\n",
        "        dim=EMBEDDING_SHAPE,\n",
        "        shuffle=True,\n",
        "    ):\n",
        "        self.dim = dim\n",
        "        self.batch_size = batch_size\n",
        "        self.labels = labels\n",
        "        self.pairs = pairs\n",
        "        self.embeddings = embeddings\n",
        "        self.shuffle = shuffle\n",
        "        self.indices = np.arange(len(self.pairs))\n",
        "        self.on_epoch_end()\n",
        "\n",
        "    def __len__(self):\n",
        "        \"\"\"\n",
        "        Denotes the number of batches per epoch\n",
        "        :return:\n",
        "        \"\"\"\n",
        "        return int(np.floor(len(self.pairs) / self.batch_size))\n",
        "\n",
        "    def __getitem__(self, index):\n",
        "        \"\"\"\n",
        "        Generate one batch of data\n",
        "        :param index:\n",
        "        :return:\n",
        "        \"\"\"\n",
        "        # Generate indexes of the batch\n",
        "        indices = self.indices[\n",
        "            index * self.batch_size : (index + 1) * self.batch_size\n",
        "        ]\n",
        "        # Find list of IDs\n",
        "        pairs_temp = [self.pairs[k] for k in indices]\n",
        "        # Generate data\n",
        "        x, y = self.__data_generation(pairs_temp)\n",
        "        return x, y\n",
        "\n",
        "    def get_sample(self, index):\n",
        "        \"\"\"\n",
        "        Gets one sample batch\n",
        "        :param index:\n",
        "        :return:\n",
        "        \"\"\"\n",
        "        x, y = self.__getitem__(index)\n",
        "        return x, y\n",
        "\n",
        "    def on_epoch_end(self):\n",
        "        \"\"\"\n",
        "        Updates indexes after each epoch\n",
        "        :return:\n",
        "        \"\"\"\n",
        "        if self.shuffle:\n",
        "            np.random.shuffle(self.indices)\n",
        "\n",
        "    def __data_generation(self, pairs_temp):\n",
        "        \"\"\"\n",
        "        Generates data containing batch_size samples\n",
        "        :param pairs_temp:\n",
        "        :return:\n",
        "        \"\"\"\n",
        "        # Initialization\n",
        "        x = [np.empty((self.batch_size, self.dim)) for i in range(2)]\n",
        "        y = np.empty(self.batch_size, dtype=int)\n",
        "        if self.labels is None:\n",
        "            for i, pair in enumerate(pairs_temp):\n",
        "                x[0][i,] = self.embeddings[pair[0]]\n",
        "                x[1][i,] = self.embeddings[pair[1]]\n",
        "        else:\n",
        "            # Generate data\n",
        "            for i, pair in enumerate(pairs_temp):\n",
        "                # Store sample\n",
        "                x[0][i,] = self.embeddings[pair[0][0]]\n",
        "                x[1][i,] = self.embeddings[pair[1][0]]\n",
        "                # Store class\n",
        "                y[i] = self.labels[pair]\n",
        "        return x, y\n",
        "\n",
        "\n",
        "class BalancedDataGeneratorFromEmbeddings(Sequence):\n",
        "    \"\"\"\n",
        "    Reads classes from the train_data_path,\n",
        "    removes the -1 class and classes with one picture and\n",
        "    creates batches containing a balanced amount of matching\n",
        "    and non-matching samples.\n",
        "    \"\"\"\n",
        "\n",
        "    def __init__(\n",
        "        self,\n",
        "        train_data_path,\n",
        "        embeddings,\n",
        "        batch_size=32,\n",
        "        dim=EMBEDDING_SHAPE,\n",
        "        shuffle=True,\n",
        "    ):\n",
        "        assert batch_size % 2 == 0, \"Batch size must be an even number\"\n",
        "        self.train_data_path = Path(train_data_path)\n",
        "        self.embeddings = embeddings\n",
        "        self.batch_size = batch_size\n",
        "        self.dim = dim\n",
        "        self.shuffle = shuffle\n",
        "        self.id_to_images, self.image_to_id = self.__parse_folder()\n",
        "        self.indices = list(self.image_to_id.keys())\n",
        "        self.on_epoch_end()\n",
        "\n",
        "    def __len__(self):\n",
        "        \"\"\"\n",
        "        Denotes the number of batches per epoch\n",
        "        :return:\n",
        "        \"\"\"\n",
        "        half_batch = self.batch_size / 2\n",
        "        return int(np.floor(len(self.indices) / half_batch))\n",
        "\n",
        "    def __getitem__(self, index):\n",
        "        \"\"\"\n",
        "        Generate one batch of data\n",
        "        :param index:\n",
        "        :return:\n",
        "        \"\"\"\n",
        "        # Generate indexes of the batch\n",
        "        half_batch = int(self.batch_size / 2)\n",
        "        start_index = index * half_batch\n",
        "        end_index = start_index + half_batch\n",
        "        images = self.indices[start_index:end_index]\n",
        "        x, y = self.__data_generation(images)\n",
        "        return x, y\n",
        "\n",
        "    def get_sample(self, index):\n",
        "        \"\"\"\n",
        "        Gets one sample batch\n",
        "        :param index:\n",
        "        :return:\n",
        "        \"\"\"\n",
        "        x, y = self.__getitem__(index)\n",
        "        return x, y\n",
        "\n",
        "    def on_epoch_end(self):\n",
        "        \"\"\"\n",
        "        Updates indexes after each epoch\n",
        "        :return:\n",
        "        \"\"\"\n",
        "        if self.shuffle:\n",
        "            np.random.shuffle(self.indices)\n",
        "\n",
        "    def __parse_folder(self):\n",
        "        \"\"\"\n",
        "        Creates id_to_images and image_to_ids mappings.\n",
        "        Ignores all whale ids with only one image and the -1 class\n",
        "        :return:\n",
        "        \"\"\"\n",
        "        id_folders = list(self.train_data_path.glob(\"*\"))\n",
        "        id_to_images = {}\n",
        "        image_to_id = {}\n",
        "        for folder in id_folders:\n",
        "            if folder.name == \"-1\":\n",
        "                continue\n",
        "            pics = list(folder.glob(\"*.jpg\"))\n",
        "            if len(pics) == 1:\n",
        "                continue\n",
        "            id_to_images[folder.name] = {p.name for p in pics}\n",
        "            for p in pics:\n",
        "                image_to_id[p.name] = folder.name\n",
        "        return id_to_images, image_to_id\n",
        "\n",
        "    def __data_generation(self, images):\n",
        "        \"\"\"\n",
        "        Generates data containing batch_size samples\n",
        "        :param images:\n",
        "        :return:\n",
        "        \"\"\"\n",
        "        # Initialization\n",
        "        x = [np.empty((self.batch_size, self.dim)) for _i in range(2)]\n",
        "        y = np.empty(self.batch_size, dtype=int)\n",
        "        # Generate data\n",
        "        for i, image in enumerate(images):\n",
        "            output_index = 2 * i\n",
        "\n",
        "            # Store similar sample\n",
        "            similar_img = self.__get_similar_image(image)\n",
        "            x[0][output_index,] = self.embeddings[image]\n",
        "            x[1][output_index,] = self.embeddings[similar_img]\n",
        "            y[output_index] = 1\n",
        "\n",
        "            # Store different sample\n",
        "            different_img = self.__get_different_image(image)\n",
        "            x[0][output_index + 1,] = self.embeddings[image]\n",
        "            x[1][output_index + 1,] = self.embeddings[different_img]\n",
        "            y[output_index + 1] = 0\n",
        "\n",
        "        return x, y\n",
        "\n",
        "    def __get_similar_image(self, image):\n",
        "        \"\"\"\n",
        "        Returns an image of the same class than input image\n",
        "        :param image: img file name to search for similar one\n",
        "        :return: file name of similar image\n",
        "        \"\"\"\n",
        "        image_id = self.image_to_id[image]\n",
        "        potential_images = self.id_to_images[image_id].difference(set([image]))\n",
        "        similar_image = random.sample(potential_images, 1)[0]\n",
        "        return similar_image\n",
        "\n",
        "    def __get_different_image(self, image):\n",
        "        \"\"\"\n",
        "        Returns and image of a different class than input class\n",
        "        :param image: class to exclude\n",
        "        :return: file name for an image not in class img_id\n",
        "        \"\"\"\n",
        "        image_id = self.image_to_id[image]\n",
        "        while True:\n",
        "            candidate = random.sample(self.indices, 1)[0]\n",
        "            if self.image_to_id[candidate] != image_id:\n",
        "                return candidate\n"
      ],
      "execution_count": 0,
      "outputs": []
    },
    {
      "cell_type": "markdown",
      "metadata": {
        "id": "i090nMOEIinY",
        "colab_type": "text"
      },
      "source": [
        "<a id='section1'></a>\n",
        "# Similarity between images\n",
        "\n",
        "What makes two images similar? The colors? The shapes that appear? If you were to write an algorithm for it, how would you even start?\n",
        "\n",
        "Let's start by considering how a machine sees a picture. For a computer, an image is essentially a 3-d matrix. Take for example one of our whale fluke images:"
      ]
    },
    {
      "cell_type": "code",
      "metadata": {
        "id": "rMbMVoFgIinZ",
        "colab_type": "code",
        "colab": {},
        "outputId": "4e658d97-c97e-43b1-d4c8-63815124c64c"
      },
      "source": [
        "img_path = Path('../data/raw/Whale Watch Azores 2006/PM-WWA-20060929-070.JPG')\n",
        "img = load_img(img_path)\n",
        "print(img.layers)\n",
        "print(img.size)"
      ],
      "execution_count": 0,
      "outputs": [
        {
          "output_type": "stream",
          "text": [
            "3\n",
            "(900, 504)\n"
          ],
          "name": "stdout"
        }
      ]
    },
    {
      "cell_type": "markdown",
      "metadata": {
        "id": "QEd5zziaIind",
        "colab_type": "text"
      },
      "source": [
        "The image has three layers, representing the colors red-green-blue (RGB), a width of 900 pixels and a height of 504 pixels.\n",
        "For every pixel the RGB values are stored. Hence in total we get"
      ]
    },
    {
      "cell_type": "code",
      "metadata": {
        "id": "9DosbmCQIinf",
        "colab_type": "code",
        "colab": {},
        "outputId": "447ffb76-db98-4e23-b29d-d998ed2c3c2c"
      },
      "source": [
        "3*900*504"
      ],
      "execution_count": 0,
      "outputs": [
        {
          "output_type": "execute_result",
          "data": {
            "text/plain": [
              "1360800"
            ]
          },
          "metadata": {
            "tags": []
          },
          "execution_count": 3
        }
      ]
    },
    {
      "cell_type": "markdown",
      "metadata": {
        "id": "b8s5DkuxIinj",
        "colab_type": "text"
      },
      "source": [
        "values. We can also display images:"
      ]
    },
    {
      "cell_type": "code",
      "metadata": {
        "id": "e3fUY5FHIinl",
        "colab_type": "code",
        "colab": {},
        "outputId": "e159f7f7-e6d4-4417-c8e4-a35fb4753e11"
      },
      "source": [
        "imshow(img_to_array(img, dtype=int))"
      ],
      "execution_count": 0,
      "outputs": [
        {
          "output_type": "execute_result",
          "data": {
            "text/plain": [
              "<matplotlib.image.AxesImage at 0x4db44e0>"
            ]
          },
          "metadata": {
            "tags": []
          },
          "execution_count": 4
        },
        {
          "output_type": "display_data",
          "data": {
            "image/png": "[encoded data removed]",
            "text/plain": [
              "<Figure size 432x288 with 1 Axes>"
            ]
          },
          "metadata": {
            "tags": [],
            "needs_background": "light"
          }
        }
      ]
    },
    {
      "cell_type": "markdown",
      "metadata": {
        "id": "u_kbPYb1Iinp",
        "colab_type": "text"
      },
      "source": [
        "Now we could *just* use a [matrix distance](https://math.stackexchange.com/questions/507742/distance-similarity-between-two-matrices) for computing the similarity. But this would put too much importance on individual pixels. In the end, we don't care if the water color is slightly different. What matters is the shape of the fluke! \n",
        "\n",
        "So how can we extract the *relevant* information in the image?"
      ]
    },
    {
      "cell_type": "markdown",
      "metadata": {
        "id": "Vq5SKbq9Iinq",
        "colab_type": "text"
      },
      "source": [
        "<a id='section2'></a>\n",
        "## A bit of history: The ImageNet Challenge\n",
        "Up until a few years ago computer vision was a very hard problem.\n",
        "![An XKCD from 2014-09-24](https://imgs.xkcd.com/comics/tasks.png)\n",
        "Since then, we made **immense** progress in this field. Tasks like image classification can nowadays be done with a few lines of code. In fact, this is one of the reasons why AI is so hyped nowadays.\n",
        "\n",
        "All of this was made possible by advances in theory, hardware.. and data. But let's start with ImageNet.\n",
        "\n",
        "### The ImageNet Challenge\n",
        "\n",
        ">The ImageNet project is a large visual database designed for use in visual object recognition software research. More than 14 million images have been hand-annotated by the project to indicate what objects are pictured and in at least one million of the images, bounding boxes are also provided.ImageNet contains more than 20,000 categories with a typical category, such as \"balloon\" or \"strawberry\", consisting of several hundred images. -- From [Wikipedia](https://en.wikipedia.org/wiki/ImageNet)\n",
        "\n",
        "The [ImageNet challenge](http://www.image-net.org/challenges/LSVRC/) was a yearly competition based on the ImageNet dataset. The number of categories was reduced to 1000 and the participants had to create an algorithm that can detect the category of an image.\n",
        "\n",
        "* Around 2011, a good error rate was 25%\n",
        "* By 2015, the first algorithms exceeded human ability, which corresponds to an [5.1% error rate](https://arxiv.org/pdf/1705.02498.pdf) and \n",
        "* In 2018 the challenge was suspended. The problem was deemed *solved*\n",
        "\n",
        "Thanks to the ImageNet challenge, we learned how to use *Deep Learning* to build models that can process images [better than humans](https://www.nature.com/articles/nature21056), given enough training data. Now you might argue that this is not really applicable in real life. After all, how often do you have millions of labelled pictures to train from? This is where the real benefit of ImageNet comes in!\n",
        "\n",
        "As it turns out, models that are trained on ImageNet can be used as building blocks for visual applications. We can take a model that was trained on ImageNet and *fine-tune* it to a new application. This fine-tuning often only needs dozens of images to achieve acceptable to great performance."
      ]
    },
    {
      "cell_type": "markdown",
      "metadata": {
        "id": "zS1MU1fTIinr",
        "colab_type": "text"
      },
      "source": [
        "<a id='section2.1'></a>\n",
        "### What is a Deep Learning Model for image classification\n",
        "\n",
        "At a very high level, a deep learning model is an [AI brain](https://towardsdatascience.com/a-gentle-introduction-to-neural-networks-series-part-1-2b90b87795bc). Like the human brain, it consists of (artificial) interconnected neurons. The strengh of the individual connection is defined by so called *weights*. Each model is build for a specific purpose. It takes an input (e.g. an image), processes it through all of its neurons, and finally creates an output (e.g. the probability that the image shows a dog). \n",
        "\n",
        "Researchers spend a lot of time finding the best *architecture*, i.e. the best way to connect different neurons. All successful deep learning model have one similarity: They are structured in layers, with each neuron taking the output of some of the neurons of the previous layer as input. The second-to-last layer, the last layer before the final output is called the *logits* layer. The logits are usually a vector of size 1024 and the final output of the model is a weighted linear combination of them.\n",
        "\n",
        "![Deep-Learning-Tutorial-Sketch-v2a-TD.jpg](attachment:Deep-Learning-Tutorial-Sketch-v2a-TD.jpg)\n",
        "\n",
        "This means that all the information of an image is compressed in a vector of size 1024. *Let that sink in.* \n",
        "In the example above, the image consisted 1.360.800 integers. With deep learning, we can compress it to 1024 floats while maintaining almost all of the relevant information in the image.\n",
        "\n",
        "To summarize, a deep learning model consists of\n",
        "\n",
        "* An architecture that defines how the different neurons are connected\n",
        "* Weights that specify the importance of the individual connections"
      ]
    },
    {
      "cell_type": "markdown",
      "metadata": {
        "id": "n4c3LJInIins",
        "colab_type": "text"
      },
      "source": [
        "#### How does a model learn?\n",
        "\n",
        "To *train* a model, we need two things. Examples and a measure that tells us how good we are. The rough process is as follows\n",
        "\n",
        "* The model is initialized with random weights for the inter-neuron connections.\n",
        "* We take one example, feed it into the model and compare the output with the expected output.\n",
        "* If the predicted output is not the same as the expected output, we use [fancy math](https://en.wikipedia.org/wiki/Backpropagation) to change the weights a tiny bit so that the predicted output is a bit closer to the expected output.\n",
        "* We iterate the previous step thousands of times. If everything went well, all the tiny changes to the weights lead to a model that creates predictions that are very close to the expected values.\n",
        "\n",
        "![Deep-Learning-Tutorial-Sketch-v2b-TD.jpg](attachment:Deep-Learning-Tutorial-Sketch-v2b-TD.jpg)\n",
        "\n",
        "This short introduction barely scratches the surface. There is a lot more to learn and we highly recommend to take one of the many good [online courses on deep learning](https://www.deeplearning.ai/deep-learning-specialization/)."
      ]
    },
    {
      "cell_type": "markdown",
      "metadata": {
        "id": "gzUhB5UnIinu",
        "colab_type": "text"
      },
      "source": [
        "<a id='section3'></a>\n",
        "## On the shoulders of giants: Using pretrained model to convert images\n",
        "\n",
        "As described in the previous section, pre-trained deep learning models allow us to convert an image to a vector of size 1024 that contains the relevant information in the image. In this section, you'll learn how to do this.\n",
        "\n",
        "We'll use a model called [MobileNet](https://arxiv.org/pdf/1704.04861.pdf) that was trained on the ImageNet dataset for a first test. MobileNet is a second generation model that trades accuracy for speed. I.e. the vector representation will not be the best, but it will run on our laptops.\n",
        "In the next tutorial we will show you how to use AWS to take advantage of [more advanced models](https://keras.io/applications/) and even train your own models."
      ]
    },
    {
      "cell_type": "code",
      "metadata": {
        "id": "YEcvYWn2Iinu",
        "colab_type": "code",
        "colab": {
          "base_uri": "https://localhost:8080/",
          "height": 126
        },
        "outputId": "31e2074f-b6e4-4907-895b-46b83983de73"
      },
      "source": [
        "IMG_HEIGHT = 224\n",
        "IMG_WIDTH = 224\n",
        "mobilenet = MobileNet(weights='imagenet', include_top=False, pooling='avg', input_shape=(IMG_HEIGHT, IMG_WIDTH, 3))"
      ],
      "execution_count": 3,
      "outputs": [
        {
          "output_type": "stream",
          "text": [
            "WARNING:tensorflow:From /usr/local/lib/python3.6/dist-packages/tensorflow_core/python/ops/resource_variable_ops.py:1630: calling BaseResourceVariable.__init__ (from tensorflow.python.ops.resource_variable_ops) with constraint is deprecated and will be removed in a future version.\n",
            "Instructions for updating:\n",
            "If using Keras pass *_constraint arguments to layers.\n",
            "Downloading data from https://github.com/fchollet/deep-learning-models/releases/download/v0.6/mobilenet_1_0_224_tf_no_top.h5\n",
            "17227776/17225924 [==============================] - 1s 0us/step\n"
          ],
          "name": "stdout"
        }
      ]
    },
    {
      "cell_type": "markdown",
      "metadata": {
        "id": "SNBCUDdrIiny",
        "colab_type": "text"
      },
      "source": [
        "The options *include_top=False* and *pooling='avg'* are necessary to extract the *logits* layer. \n",
        "The *input_shape* defines the size of the images. The default for ImageNet models is 224x224 pixels with 3 channels for colors.\n",
        "We can check out the architecture of the model with the *summary* function."
      ]
    },
    {
      "cell_type": "code",
      "metadata": {
        "id": "GaBpPS2oIinz",
        "colab_type": "code",
        "colab": {
          "base_uri": "https://localhost:8080/",
          "height": 1000
        },
        "outputId": "b03a1019-27d9-45ab-9af7-0ce14f135aec"
      },
      "source": [
        "mobilenet.summary()"
      ],
      "execution_count": 4,
      "outputs": [
        {
          "output_type": "stream",
          "text": [
            "Model: \"mobilenet_1.00_224\"\n",
            "_________________________________________________________________\n",
            "Layer (type)                 Output Shape              Param #   \n",
            "=================================================================\n",
            "input_1 (InputLayer)         [(None, 224, 224, 3)]     0         \n",
            "_________________________________________________________________\n",
            "conv1_pad (ZeroPadding2D)    (None, 225, 225, 3)       0         \n",
            "_________________________________________________________________\n",
            "conv1 (Conv2D)               (None, 112, 112, 32)      864       \n",
            "_________________________________________________________________\n",
            "conv1_bn (BatchNormalization (None, 112, 112, 32)      128       \n",
            "_________________________________________________________________\n",
            "conv1_relu (ReLU)            (None, 112, 112, 32)      0         \n",
            "_________________________________________________________________\n",
            "conv_dw_1 (DepthwiseConv2D)  (None, 112, 112, 32)      288       \n",
            "_________________________________________________________________\n",
            "conv_dw_1_bn (BatchNormaliza (None, 112, 112, 32)      128       \n",
            "_________________________________________________________________\n",
            "conv_dw_1_relu (ReLU)        (None, 112, 112, 32)      0         \n",
            "_________________________________________________________________\n",
            "conv_pw_1 (Conv2D)           (None, 112, 112, 64)      2048      \n",
            "_________________________________________________________________\n",
            "conv_pw_1_bn (BatchNormaliza (None, 112, 112, 64)      256       \n",
            "_________________________________________________________________\n",
            "conv_pw_1_relu (ReLU)        (None, 112, 112, 64)      0         \n",
            "_________________________________________________________________\n",
            "conv_pad_2 (ZeroPadding2D)   (None, 113, 113, 64)      0         \n",
            "_________________________________________________________________\n",
            "conv_dw_2 (DepthwiseConv2D)  (None, 56, 56, 64)        576       \n",
            "_________________________________________________________________\n",
            "conv_dw_2_bn (BatchNormaliza (None, 56, 56, 64)        256       \n",
            "_________________________________________________________________\n",
            "conv_dw_2_relu (ReLU)        (None, 56, 56, 64)        0         \n",
            "_________________________________________________________________\n",
            "conv_pw_2 (Conv2D)           (None, 56, 56, 128)       8192      \n",
            "_________________________________________________________________\n",
            "conv_pw_2_bn (BatchNormaliza (None, 56, 56, 128)       512       \n",
            "_________________________________________________________________\n",
            "conv_pw_2_relu (ReLU)        (None, 56, 56, 128)       0         \n",
            "_________________________________________________________________\n",
            "conv_dw_3 (DepthwiseConv2D)  (None, 56, 56, 128)       1152      \n",
            "_________________________________________________________________\n",
            "conv_dw_3_bn (BatchNormaliza (None, 56, 56, 128)       512       \n",
            "_________________________________________________________________\n",
            "conv_dw_3_relu (ReLU)        (None, 56, 56, 128)       0         \n",
            "_________________________________________________________________\n",
            "conv_pw_3 (Conv2D)           (None, 56, 56, 128)       16384     \n",
            "_________________________________________________________________\n",
            "conv_pw_3_bn (BatchNormaliza (None, 56, 56, 128)       512       \n",
            "_________________________________________________________________\n",
            "conv_pw_3_relu (ReLU)        (None, 56, 56, 128)       0         \n",
            "_________________________________________________________________\n",
            "conv_pad_4 (ZeroPadding2D)   (None, 57, 57, 128)       0         \n",
            "_________________________________________________________________\n",
            "conv_dw_4 (DepthwiseConv2D)  (None, 28, 28, 128)       1152      \n",
            "_________________________________________________________________\n",
            "conv_dw_4_bn (BatchNormaliza (None, 28, 28, 128)       512       \n",
            "_________________________________________________________________\n",
            "conv_dw_4_relu (ReLU)        (None, 28, 28, 128)       0         \n",
            "_________________________________________________________________\n",
            "conv_pw_4 (Conv2D)           (None, 28, 28, 256)       32768     \n",
            "_________________________________________________________________\n",
            "conv_pw_4_bn (BatchNormaliza (None, 28, 28, 256)       1024      \n",
            "_________________________________________________________________\n",
            "conv_pw_4_relu (ReLU)        (None, 28, 28, 256)       0         \n",
            "_________________________________________________________________\n",
            "conv_dw_5 (DepthwiseConv2D)  (None, 28, 28, 256)       2304      \n",
            "_________________________________________________________________\n",
            "conv_dw_5_bn (BatchNormaliza (None, 28, 28, 256)       1024      \n",
            "_________________________________________________________________\n",
            "conv_dw_5_relu (ReLU)        (None, 28, 28, 256)       0         \n",
            "_________________________________________________________________\n",
            "conv_pw_5 (Conv2D)           (None, 28, 28, 256)       65536     \n",
            "_________________________________________________________________\n",
            "conv_pw_5_bn (BatchNormaliza (None, 28, 28, 256)       1024      \n",
            "_________________________________________________________________\n",
            "conv_pw_5_relu (ReLU)        (None, 28, 28, 256)       0         \n",
            "_________________________________________________________________\n",
            "conv_pad_6 (ZeroPadding2D)   (None, 29, 29, 256)       0         \n",
            "_________________________________________________________________\n",
            "conv_dw_6 (DepthwiseConv2D)  (None, 14, 14, 256)       2304      \n",
            "_________________________________________________________________\n",
            "conv_dw_6_bn (BatchNormaliza (None, 14, 14, 256)       1024      \n",
            "_________________________________________________________________\n",
            "conv_dw_6_relu (ReLU)        (None, 14, 14, 256)       0         \n",
            "_________________________________________________________________\n",
            "conv_pw_6 (Conv2D)           (None, 14, 14, 512)       131072    \n",
            "_________________________________________________________________\n",
            "conv_pw_6_bn (BatchNormaliza (None, 14, 14, 512)       2048      \n",
            "_________________________________________________________________\n",
            "conv_pw_6_relu (ReLU)        (None, 14, 14, 512)       0         \n",
            "_________________________________________________________________\n",
            "conv_dw_7 (DepthwiseConv2D)  (None, 14, 14, 512)       4608      \n",
            "_________________________________________________________________\n",
            "conv_dw_7_bn (BatchNormaliza (None, 14, 14, 512)       2048      \n",
            "_________________________________________________________________\n",
            "conv_dw_7_relu (ReLU)        (None, 14, 14, 512)       0         \n",
            "_________________________________________________________________\n",
            "conv_pw_7 (Conv2D)           (None, 14, 14, 512)       262144    \n",
            "_________________________________________________________________\n",
            "conv_pw_7_bn (BatchNormaliza (None, 14, 14, 512)       2048      \n",
            "_________________________________________________________________\n",
            "conv_pw_7_relu (ReLU)        (None, 14, 14, 512)       0         \n",
            "_________________________________________________________________\n",
            "conv_dw_8 (DepthwiseConv2D)  (None, 14, 14, 512)       4608      \n",
            "_________________________________________________________________\n",
            "conv_dw_8_bn (BatchNormaliza (None, 14, 14, 512)       2048      \n",
            "_________________________________________________________________\n",
            "conv_dw_8_relu (ReLU)        (None, 14, 14, 512)       0         \n",
            "_________________________________________________________________\n",
            "conv_pw_8 (Conv2D)           (None, 14, 14, 512)       262144    \n",
            "_________________________________________________________________\n",
            "conv_pw_8_bn (BatchNormaliza (None, 14, 14, 512)       2048      \n",
            "_________________________________________________________________\n",
            "conv_pw_8_relu (ReLU)        (None, 14, 14, 512)       0         \n",
            "_________________________________________________________________\n",
            "conv_dw_9 (DepthwiseConv2D)  (None, 14, 14, 512)       4608      \n",
            "_________________________________________________________________\n",
            "conv_dw_9_bn (BatchNormaliza (None, 14, 14, 512)       2048      \n",
            "_________________________________________________________________\n",
            "conv_dw_9_relu (ReLU)        (None, 14, 14, 512)       0         \n",
            "_________________________________________________________________\n",
            "conv_pw_9 (Conv2D)           (None, 14, 14, 512)       262144    \n",
            "_________________________________________________________________\n",
            "conv_pw_9_bn (BatchNormaliza (None, 14, 14, 512)       2048      \n",
            "_________________________________________________________________\n",
            "conv_pw_9_relu (ReLU)        (None, 14, 14, 512)       0         \n",
            "_________________________________________________________________\n",
            "conv_dw_10 (DepthwiseConv2D) (None, 14, 14, 512)       4608      \n",
            "_________________________________________________________________\n",
            "conv_dw_10_bn (BatchNormaliz (None, 14, 14, 512)       2048      \n",
            "_________________________________________________________________\n",
            "conv_dw_10_relu (ReLU)       (None, 14, 14, 512)       0         \n",
            "_________________________________________________________________\n",
            "conv_pw_10 (Conv2D)          (None, 14, 14, 512)       262144    \n",
            "_________________________________________________________________\n",
            "conv_pw_10_bn (BatchNormaliz (None, 14, 14, 512)       2048      \n",
            "_________________________________________________________________\n",
            "conv_pw_10_relu (ReLU)       (None, 14, 14, 512)       0         \n",
            "_________________________________________________________________\n",
            "conv_dw_11 (DepthwiseConv2D) (None, 14, 14, 512)       4608      \n",
            "_________________________________________________________________\n",
            "conv_dw_11_bn (BatchNormaliz (None, 14, 14, 512)       2048      \n",
            "_________________________________________________________________\n",
            "conv_dw_11_relu (ReLU)       (None, 14, 14, 512)       0         \n",
            "_________________________________________________________________\n",
            "conv_pw_11 (Conv2D)          (None, 14, 14, 512)       262144    \n",
            "_________________________________________________________________\n",
            "conv_pw_11_bn (BatchNormaliz (None, 14, 14, 512)       2048      \n",
            "_________________________________________________________________\n",
            "conv_pw_11_relu (ReLU)       (None, 14, 14, 512)       0         \n",
            "_________________________________________________________________\n",
            "conv_pad_12 (ZeroPadding2D)  (None, 15, 15, 512)       0         \n",
            "_________________________________________________________________\n",
            "conv_dw_12 (DepthwiseConv2D) (None, 7, 7, 512)         4608      \n",
            "_________________________________________________________________\n",
            "conv_dw_12_bn (BatchNormaliz (None, 7, 7, 512)         2048      \n",
            "_________________________________________________________________\n",
            "conv_dw_12_relu (ReLU)       (None, 7, 7, 512)         0         \n",
            "_________________________________________________________________\n",
            "conv_pw_12 (Conv2D)          (None, 7, 7, 1024)        524288    \n",
            "_________________________________________________________________\n",
            "conv_pw_12_bn (BatchNormaliz (None, 7, 7, 1024)        4096      \n",
            "_________________________________________________________________\n",
            "conv_pw_12_relu (ReLU)       (None, 7, 7, 1024)        0         \n",
            "_________________________________________________________________\n",
            "conv_dw_13 (DepthwiseConv2D) (None, 7, 7, 1024)        9216      \n",
            "_________________________________________________________________\n",
            "conv_dw_13_bn (BatchNormaliz (None, 7, 7, 1024)        4096      \n",
            "_________________________________________________________________\n",
            "conv_dw_13_relu (ReLU)       (None, 7, 7, 1024)        0         \n",
            "_________________________________________________________________\n",
            "conv_pw_13 (Conv2D)          (None, 7, 7, 1024)        1048576   \n",
            "_________________________________________________________________\n",
            "conv_pw_13_bn (BatchNormaliz (None, 7, 7, 1024)        4096      \n",
            "_________________________________________________________________\n",
            "conv_pw_13_relu (ReLU)       (None, 7, 7, 1024)        0         \n",
            "_________________________________________________________________\n",
            "global_average_pooling2d (Gl (None, 1024)              0         \n",
            "=================================================================\n",
            "Total params: 3,228,864\n",
            "Trainable params: 3,206,976\n",
            "Non-trainable params: 21,888\n",
            "_________________________________________________________________\n"
          ],
          "name": "stdout"
        }
      ]
    },
    {
      "cell_type": "markdown",
      "metadata": {
        "id": "rUafUiCFIin2",
        "colab_type": "text"
      },
      "source": [
        "Note that the number of parameters is over 3 million! This might seem like a lot, but [state-of-the-art models](https://paperswithcode.com/task/image-classification) can have over 100 million parameters.\n",
        "\n",
        "To convert our example image we load the image, rescale it to 224x224 pixel and change the format to the right datatype."
      ]
    },
    {
      "cell_type": "code",
      "metadata": {
        "id": "qSyG_jNYIin4",
        "colab_type": "code",
        "colab": {}
      },
      "source": [
        "img_path = Path('../data/raw/Whale Watch Azores 2006/PM-WWA-20060929-070.JPG')\n",
        "img = load_img(img_path, target_size=(IMG_HEIGHT, IMG_WIDTH))  # The standard size for ImageNet trained models is 224x224 pixels.\n",
        "img_array = img_to_array(img)  # Convert the image to an array\n",
        "img_array_expanded_dims = np.expand_dims(img_array, axis=0)  # Add additional dimension for the model"
      ],
      "execution_count": 0,
      "outputs": []
    },
    {
      "cell_type": "markdown",
      "metadata": {
        "id": "9KhcZMQtIin7",
        "colab_type": "text"
      },
      "source": [
        "Then we can convert the image to a vector of size 1024"
      ]
    },
    {
      "cell_type": "code",
      "metadata": {
        "id": "f65cbfVcIin8",
        "colab_type": "code",
        "colab": {},
        "outputId": "a3620d4e-f185-415a-bd8b-7ef2bdc85d33"
      },
      "source": [
        "image_converted_wrong_shape = mobilenet.predict(img_array_expanded_dims)  # Run the image through the model \n",
        "image_converted = np.reshape(image_converted_wrong_shape, -1)  # Remove unnecessary dimension\n",
        "image_converted.shape  # Shows the dimensions of an array"
      ],
      "execution_count": 0,
      "outputs": [
        {
          "output_type": "execute_result",
          "data": {
            "text/plain": [
              "(1024,)"
            ]
          },
          "metadata": {
            "tags": []
          },
          "execution_count": 8
        }
      ]
    },
    {
      "cell_type": "markdown",
      "metadata": {
        "id": "h4q_FbYgIioB",
        "colab_type": "text"
      },
      "source": [
        "And voila, we just implemented a first method to extract *relevant* information of an image. \n",
        "With this we can refer back to our initial question: How can we measure similarity between images?"
      ]
    },
    {
      "cell_type": "markdown",
      "metadata": {
        "id": "XNTOr8fsIioC",
        "colab_type": "text"
      },
      "source": [
        "<a id='section4'></a>\n",
        "## How to measure similarity\n",
        "\n",
        "As usual there are multiple ways to measure similarity between vectors. A good first start is the [cosine similarity](https://en.wikipedia.org/wiki/Cosine_similarity) which measures the cosine of the angle between two vectors.\n",
        "It is equal to \n",
        "\n",
        "* −1, if the vectors are opposite\n",
        "* 0, if they are orthogonal\n",
        "* 1, if they are exactly the same\n",
        "\n",
        "Luckily for us, [sklearn](https://scikit-learn.org/stable/index.html) has a function just for this, aptly called [cosine_similiarity](https://scikit-learn.org/stable/modules/generated/sklearn.metrics.pairwise.cosine_similarity.html)\n",
        "\n",
        "Assume we have the vectors [1,0] and [0,1] then the cosine similarity between the two is 0:"
      ]
    },
    {
      "cell_type": "code",
      "metadata": {
        "id": "2x33RpbkIioD",
        "colab_type": "code",
        "colab": {},
        "outputId": "9c6de8eb-2f26-48ae-e7ca-84f07f43c2a6"
      },
      "source": [
        "vec_a = [1,0]\n",
        "vec_b = [0,1]\n",
        "cosine_similarity([vec_a], [vec_b])"
      ],
      "execution_count": 0,
      "outputs": [
        {
          "output_type": "execute_result",
          "data": {
            "text/plain": [
              "array([[0.]])"
            ]
          },
          "metadata": {
            "tags": []
          },
          "execution_count": 9
        }
      ]
    },
    {
      "cell_type": "markdown",
      "metadata": {
        "id": "oCRAgQAtIioH",
        "colab_type": "text"
      },
      "source": [
        "and the cosine similarity between a vector and itself is 1"
      ]
    },
    {
      "cell_type": "code",
      "metadata": {
        "id": "BYxOmS-oIioI",
        "colab_type": "code",
        "colab": {},
        "outputId": "d9923d80-df2a-4d78-f2f9-64308ce339c3"
      },
      "source": [
        "cosine_similarity([vec_a], [vec_a])"
      ],
      "execution_count": 0,
      "outputs": [
        {
          "output_type": "execute_result",
          "data": {
            "text/plain": [
              "array([[1.]])"
            ]
          },
          "metadata": {
            "tags": []
          },
          "execution_count": 10
        }
      ]
    },
    {
      "cell_type": "markdown",
      "metadata": {
        "id": "qAiRLsgYIioL",
        "colab_type": "text"
      },
      "source": [
        "and we can even compute the similarity for multiple vectors at once"
      ]
    },
    {
      "cell_type": "code",
      "metadata": {
        "id": "PUvdQWFHIioN",
        "colab_type": "code",
        "colab": {},
        "outputId": "644b8956-168c-4dce-a6b7-e4103feb6c2a"
      },
      "source": [
        "cosine_similarity([vec_a, vec_b], [vec_a, vec_b])"
      ],
      "execution_count": 0,
      "outputs": [
        {
          "output_type": "execute_result",
          "data": {
            "text/plain": [
              "array([[1., 0.],\n",
              "       [0., 1.]])"
            ]
          },
          "metadata": {
            "tags": []
          },
          "execution_count": 11
        }
      ]
    },
    {
      "cell_type": "markdown",
      "metadata": {
        "id": "yNTkh6fcIioQ",
        "colab_type": "text"
      },
      "source": [
        "With this, we have all the ingredients for a first baseline model!"
      ]
    },
    {
      "cell_type": "markdown",
      "metadata": {
        "id": "bDd442W-IioQ",
        "colab_type": "text"
      },
      "source": [
        "<a id='section5'></a>\n",
        "## Our baseline model"
      ]
    },
    {
      "cell_type": "markdown",
      "metadata": {
        "id": "Nzt4HkZLIioR",
        "colab_type": "text"
      },
      "source": [
        "Now that we are aware of the concept, we are one step closer to our first submission. We will \n",
        "\n",
        "- use Mobilenet to compute the embeddings for all of the train and test pictures \n",
        "- calculate the cosine similarity between each of the embeddings of the test pictures and the embeddings of the train pictures\n",
        "- create a submission that predicts the 20 matches with the highest similarity score\n",
        "\n",
        "We start with loading all pictures with [Tensorflow Dataset](https://www.tensorflow.org/api_docs/python/tf/data/Dataset).As first step we are going to list all file paths and names."
      ]
    },
    {
      "cell_type": "code",
      "metadata": {
        "id": "nTlqxjDuIioS",
        "colab_type": "code",
        "colab": {}
      },
      "source": [
        "train_data_path = Path('../data/train')\n",
        "train_files_paths = list(train_data_path.glob('*/*.jpg'))  # All file paths\n",
        "train_files_names = [p.name for p in train_files_paths]  # Only the file names without the full path\n",
        "train_files_classes = [p.parent.name for p in train_files_paths]  # The parent directory, i.e. the whale ID, for each image\n",
        "\n",
        "test_data_path = Path('../data/test_val')\n",
        "test_files_paths = list(test_data_path.glob('*.jpg'))\n",
        "test_files_names = [p.name for p in test_files_paths]"
      ],
      "execution_count": 0,
      "outputs": []
    },
    {
      "cell_type": "markdown",
      "metadata": {
        "id": "2kudlIXtIioU",
        "colab_type": "text"
      },
      "source": [
        "To load a single picture we have to read the file, convert it into a [tensor](https://www.tensorflow.org/api_docs/python/tf/Tensor) object, adjust the size and standardize it to the MobileNet input format."
      ]
    },
    {
      "cell_type": "code",
      "metadata": {
        "scrolled": true,
        "id": "TBSoON_kIioV",
        "colab_type": "code",
        "colab": {}
      },
      "source": [
        "BATCH_SIZE = 32\n",
        "\n",
        "def load_image(img_path):\n",
        "    img = tf.io.read_file(img_path)\n",
        "    img = tf.image.decode_jpeg(img, channels=3)\n",
        "    img = tf.image.resize(img, [IMG_HEIGHT, IMG_WIDTH])  # Resize image to 224x224 pixels\n",
        "    img = preprocess_input(img)  # Do additional preprocessing that is required for MobileNet\n",
        "    return img"
      ],
      "execution_count": 0,
      "outputs": []
    },
    {
      "cell_type": "markdown",
      "metadata": {
        "id": "J9d-kH3aIioY",
        "colab_type": "text"
      },
      "source": [
        "Now that we have defined the prerequisites to load a single picture, we can apply it to all of our pictures. We create a dataset from our input data paths and apply the defined function to each entry in the dataset.\n",
        "\n",
        "The batch size specifies the number of examples we use in one iteration of calcuation. For now you can ignore it. It will become more relevant later."
      ]
    },
    {
      "cell_type": "markdown",
      "metadata": {
        "id": "4FDTN9I3LQNF",
        "colab_type": "text"
      },
      "source": [
        "# Data Loading"
      ]
    },
    {
      "cell_type": "code",
      "metadata": {
        "id": "EagYj1UxLeJV",
        "colab_type": "code",
        "colab": {
          "base_uri": "https://localhost:8080/",
          "height": 126
        },
        "outputId": "eaed38f0-0584-4339-b1a1-5e215bc72327"
      },
      "source": [
        "from google.colab import drive\n",
        "drive.mount('/content/drive')"
      ],
      "execution_count": 7,
      "outputs": [
        {
          "output_type": "stream",
          "text": [
            "Go to this URL in a browser: https://accounts.google.com/o/oauth2/auth?client_id=947318989803-6bn6qk8qdgf4n4g3pfee6491hc0brc4i.apps.googleusercontent.com&redirect_uri=urn%3aietf%3awg%3aoauth%3a2.0%3aoob&response_type=code&scope=email%20https%3a%2f%2fwww.googleapis.com%2fauth%2fdocs.test%20https%3a%2f%2fwww.googleapis.com%2fauth%2fdrive%20https%3a%2f%2fwww.googleapis.com%2fauth%2fdrive.photos.readonly%20https%3a%2f%2fwww.googleapis.com%2fauth%2fpeopleapi.readonly\n",
            "\n",
            "Enter your authorization code:\n",
            "··········\n",
            "Mounted at /content/drive\n"
          ],
          "name": "stdout"
        }
      ]
    },
    {
      "cell_type": "code",
      "metadata": {
        "id": "MLjOIAvvMPqH",
        "colab_type": "code",
        "colab": {
          "base_uri": "https://localhost:8080/",
          "height": 247
        },
        "outputId": "55c9dae6-3868-4ca1-9f5d-98935a3c6efc"
      },
      "source": [
        "pip install -U tqdm"
      ],
      "execution_count": 13,
      "outputs": [
        {
          "output_type": "stream",
          "text": [
            "Collecting tqdm\n",
            "\u001b[?25l  Downloading https://files.pythonhosted.org/packages/47/55/fd9170ba08a1a64a18a7f8a18f088037316f2a41be04d2fe6ece5a653e8f/tqdm-4.43.0-py2.py3-none-any.whl (59kB)\n",
            "\r\u001b[K     |█████▌                          | 10kB 19.3MB/s eta 0:00:01\r\u001b[K     |███████████                     | 20kB 3.2MB/s eta 0:00:01\r\u001b[K     |████████████████▋               | 30kB 4.7MB/s eta 0:00:01\r\u001b[K     |██████████████████████▏         | 40kB 3.1MB/s eta 0:00:01\r\u001b[K     |███████████████████████████▊    | 51kB 3.8MB/s eta 0:00:01\r\u001b[K     |████████████████████████████████| 61kB 3.2MB/s \n",
            "\u001b[?25hInstalling collected packages: tqdm\n",
            "  Found existing installation: tqdm 4.28.1\n",
            "    Uninstalling tqdm-4.28.1:\n",
            "      Successfully uninstalled tqdm-4.28.1\n",
            "Successfully installed tqdm-4.43.0\n"
          ],
          "name": "stdout"
        },
        {
          "output_type": "display_data",
          "data": {
            "application/vnd.colab-display-data+json": {
              "pip_warning": {
                "packages": [
                  "tqdm"
                ]
              }
            }
          },
          "metadata": {
            "tags": []
          }
        }
      ]
    },
    {
      "cell_type": "code",
      "metadata": {
        "id": "feRmKzHOLeG_",
        "colab_type": "code",
        "colab": {
          "base_uri": "https://localhost:8080/",
          "height": 35
        },
        "outputId": "a7ed4064-b04f-4af6-e835-b50815e6c546"
      },
      "source": [
        "%cd /content/drive/My Drive/Colab Notebooks/I&D_Whale/data/"
      ],
      "execution_count": 8,
      "outputs": [
        {
          "output_type": "stream",
          "text": [
            "/content/drive/My Drive/Colab Notebooks/I&D_Whale/data\n"
          ],
          "name": "stdout"
        }
      ]
    },
    {
      "cell_type": "code",
      "metadata": {
        "id": "aMQz9ZPWLeEt",
        "colab_type": "code",
        "colab": {}
      },
      "source": [
        "import pandas as pd"
      ],
      "execution_count": 0,
      "outputs": []
    },
    {
      "cell_type": "code",
      "metadata": {
        "id": "KD_tR7-tLeA6",
        "colab_type": "code",
        "colab": {
          "base_uri": "https://localhost:8080/",
          "height": 307
        },
        "outputId": "6e931aef-790d-49ca-ae8d-c1264c9e4397"
      },
      "source": [
        "t1 = pd.read_csv('final_train.csv')\n",
        "t2 = pd.read_csv('test.csv')\n",
        "a = t1[['Image', 'fil_path']]\n",
        "a['type'] = 'train'\n",
        "b = t2[['Image', 'fil_path']]\n",
        "b['type'] = 'test'\n",
        "df = pd.concat([a, b], ignore_index=True, sort=False)\n",
        "df.head()"
      ],
      "execution_count": 12,
      "outputs": [
        {
          "output_type": "stream",
          "text": [
            "/usr/local/lib/python3.6/dist-packages/ipykernel_launcher.py:4: SettingWithCopyWarning: \n",
            "A value is trying to be set on a copy of a slice from a DataFrame.\n",
            "Try using .loc[row_indexer,col_indexer] = value instead\n",
            "\n",
            "See the caveats in the documentation: http://pandas.pydata.org/pandas-docs/stable/user_guide/indexing.html#returning-a-view-versus-a-copy\n",
            "  after removing the cwd from sys.path.\n"
          ],
          "name": "stderr"
        },
        {
          "output_type": "execute_result",
          "data": {
            "text/html": [
              "<div>\n",
              "<style scoped>\n",
              "    .dataframe tbody tr th:only-of-type {\n",
              "        vertical-align: middle;\n",
              "    }\n",
              "\n",
              "    .dataframe tbody tr th {\n",
              "        vertical-align: top;\n",
              "    }\n",
              "\n",
              "    .dataframe thead th {\n",
              "        text-align: right;\n",
              "    }\n",
              "</style>\n",
              "<table border=\"1\" class=\"dataframe\">\n",
              "  <thead>\n",
              "    <tr style=\"text-align: right;\">\n",
              "      <th></th>\n",
              "      <th>Image</th>\n",
              "      <th>fil_path</th>\n",
              "      <th>type</th>\n",
              "    </tr>\n",
              "  </thead>\n",
              "  <tbody>\n",
              "    <tr>\n",
              "      <th>0</th>\n",
              "      <td>PM-WWA-20050413-003b.jpg</td>\n",
              "      <td>train/2764/PM-WWA-20050413-003b.jpg</td>\n",
              "      <td>train</td>\n",
              "    </tr>\n",
              "    <tr>\n",
              "      <th>1</th>\n",
              "      <td>PM-WWA-20050413-029.jpg</td>\n",
              "      <td>train/2764/PM-WWA-20050413-029.jpg</td>\n",
              "      <td>train</td>\n",
              "    </tr>\n",
              "    <tr>\n",
              "      <th>2</th>\n",
              "      <td>PM-WWA-20050413-006.jpg</td>\n",
              "      <td>train/2825/PM-WWA-20050413-006.jpg</td>\n",
              "      <td>train</td>\n",
              "    </tr>\n",
              "    <tr>\n",
              "      <th>3</th>\n",
              "      <td>PM-WWA-20050413-007.jpg</td>\n",
              "      <td>train/2825/PM-WWA-20050413-007.jpg</td>\n",
              "      <td>train</td>\n",
              "    </tr>\n",
              "    <tr>\n",
              "      <th>4</th>\n",
              "      <td>PM-WWA-20050413-009.jpg</td>\n",
              "      <td>train/2826/PM-WWA-20050413-009.jpg</td>\n",
              "      <td>train</td>\n",
              "    </tr>\n",
              "  </tbody>\n",
              "</table>\n",
              "</div>"
            ],
            "text/plain": [
              "                      Image                             fil_path   type\n",
              "0  PM-WWA-20050413-003b.jpg  train/2764/PM-WWA-20050413-003b.jpg  train\n",
              "1   PM-WWA-20050413-029.jpg   train/2764/PM-WWA-20050413-029.jpg  train\n",
              "2   PM-WWA-20050413-006.jpg   train/2825/PM-WWA-20050413-006.jpg  train\n",
              "3   PM-WWA-20050413-007.jpg   train/2825/PM-WWA-20050413-007.jpg  train\n",
              "4   PM-WWA-20050413-009.jpg   train/2826/PM-WWA-20050413-009.jpg  train"
            ]
          },
          "metadata": {
            "tags": []
          },
          "execution_count": 12
        }
      ]
    },
    {
      "cell_type": "code",
      "metadata": {
        "id": "UyNOvXNpMm3V",
        "colab_type": "code",
        "colab": {}
      },
      "source": [
        "from tqdm.auto import tqdm\n",
        "tqdm.pandas()"
      ],
      "execution_count": 0,
      "outputs": []
    },
    {
      "cell_type": "code",
      "metadata": {
        "id": "bqWrYlVFMR_t",
        "colab_type": "code",
        "colab": {
          "base_uri": "https://localhost:8080/",
          "height": 67,
          "referenced_widgets": [
            "802c1caa5ae1458da0b4f4ce71c77fef",
            "09d91d04e9a7466fbc28301fbd84cc79",
            "82862bbc8d5549a7bf1839317a5fe606",
            "52c2eed9034b4e0f9742a4a01ac37849",
            "cba47eb8dae94a5f8879bfbd41c7068c",
            "55ae1e44952a4383a1d622e4a968d2d0",
            "e926a663e80c4d5f8961d6e868545006",
            "a16c4a7fbf164ad4904f581f897c5f8c"
          ]
        },
        "outputId": "00bcd1eb-d9c0-4c03-b22f-6674ec7a725e"
      },
      "source": [
        "df['vector'] = df['fil_path'].progress_apply(load_image)"
      ],
      "execution_count": 15,
      "outputs": [
        {
          "output_type": "display_data",
          "data": {
            "application/vnd.jupyter.widget-view+json": {
              "model_id": "802c1caa5ae1458da0b4f4ce71c77fef",
              "version_minor": 0,
              "version_major": 2
            },
            "text/plain": [
              "HBox(children=(FloatProgress(value=0.0, max=15026.0), HTML(value='')))"
            ]
          },
          "metadata": {
            "tags": []
          }
        },
        {
          "output_type": "stream",
          "text": [
            "\n"
          ],
          "name": "stdout"
        }
      ]
    },
    {
      "cell_type": "code",
      "metadata": {
        "id": "hSNwHEAbOosF",
        "colab_type": "code",
        "colab": {
          "base_uri": "https://localhost:8080/",
          "height": 200
        },
        "outputId": "f7b5f356-75dc-4f23-9707-e4e0e62d22f0"
      },
      "source": [
        "df.head()"
      ],
      "execution_count": 16,
      "outputs": [
        {
          "output_type": "execute_result",
          "data": {
            "text/html": [
              "<div>\n",
              "<style scoped>\n",
              "    .dataframe tbody tr th:only-of-type {\n",
              "        vertical-align: middle;\n",
              "    }\n",
              "\n",
              "    .dataframe tbody tr th {\n",
              "        vertical-align: top;\n",
              "    }\n",
              "\n",
              "    .dataframe thead th {\n",
              "        text-align: right;\n",
              "    }\n",
              "</style>\n",
              "<table border=\"1\" class=\"dataframe\">\n",
              "  <thead>\n",
              "    <tr style=\"text-align: right;\">\n",
              "      <th></th>\n",
              "      <th>Image</th>\n",
              "      <th>fil_path</th>\n",
              "      <th>type</th>\n",
              "      <th>vector</th>\n",
              "    </tr>\n",
              "  </thead>\n",
              "  <tbody>\n",
              "    <tr>\n",
              "      <th>0</th>\n",
              "      <td>PM-WWA-20050413-003b.jpg</td>\n",
              "      <td>train/2764/PM-WWA-20050413-003b.jpg</td>\n",
              "      <td>train</td>\n",
              "      <td>Tensor(\"sub:0\", shape=(224, 224, 3), dtype=flo...</td>\n",
              "    </tr>\n",
              "    <tr>\n",
              "      <th>1</th>\n",
              "      <td>PM-WWA-20050413-029.jpg</td>\n",
              "      <td>train/2764/PM-WWA-20050413-029.jpg</td>\n",
              "      <td>train</td>\n",
              "      <td>Tensor(\"sub_1:0\", shape=(224, 224, 3), dtype=f...</td>\n",
              "    </tr>\n",
              "    <tr>\n",
              "      <th>2</th>\n",
              "      <td>PM-WWA-20050413-006.jpg</td>\n",
              "      <td>train/2825/PM-WWA-20050413-006.jpg</td>\n",
              "      <td>train</td>\n",
              "      <td>Tensor(\"sub_2:0\", shape=(224, 224, 3), dtype=f...</td>\n",
              "    </tr>\n",
              "    <tr>\n",
              "      <th>3</th>\n",
              "      <td>PM-WWA-20050413-007.jpg</td>\n",
              "      <td>train/2825/PM-WWA-20050413-007.jpg</td>\n",
              "      <td>train</td>\n",
              "      <td>Tensor(\"sub_3:0\", shape=(224, 224, 3), dtype=f...</td>\n",
              "    </tr>\n",
              "    <tr>\n",
              "      <th>4</th>\n",
              "      <td>PM-WWA-20050413-009.jpg</td>\n",
              "      <td>train/2826/PM-WWA-20050413-009.jpg</td>\n",
              "      <td>train</td>\n",
              "      <td>Tensor(\"sub_4:0\", shape=(224, 224, 3), dtype=f...</td>\n",
              "    </tr>\n",
              "  </tbody>\n",
              "</table>\n",
              "</div>"
            ],
            "text/plain": [
              "                      Image  ...                                             vector\n",
              "0  PM-WWA-20050413-003b.jpg  ...  Tensor(\"sub:0\", shape=(224, 224, 3), dtype=flo...\n",
              "1   PM-WWA-20050413-029.jpg  ...  Tensor(\"sub_1:0\", shape=(224, 224, 3), dtype=f...\n",
              "2   PM-WWA-20050413-006.jpg  ...  Tensor(\"sub_2:0\", shape=(224, 224, 3), dtype=f...\n",
              "3   PM-WWA-20050413-007.jpg  ...  Tensor(\"sub_3:0\", shape=(224, 224, 3), dtype=f...\n",
              "4   PM-WWA-20050413-009.jpg  ...  Tensor(\"sub_4:0\", shape=(224, 224, 3), dtype=f...\n",
              "\n",
              "[5 rows x 4 columns]"
            ]
          },
          "metadata": {
            "tags": []
          },
          "execution_count": 16
        }
      ]
    },
    {
      "cell_type": "code",
      "metadata": {
        "id": "gwwtYiw3QoOr",
        "colab_type": "code",
        "colab": {
          "base_uri": "https://localhost:8080/",
          "height": 67,
          "referenced_widgets": [
            "503c3b523131454eba4afe31ea0cda93",
            "13def2c5bf944e579f508beb93c4ed3c",
            "bf91bc4058494d8c87c0e9527d06db30",
            "f7df574a55e343548ab0d821002c066c",
            "0efbd3b349934f5ca86405723acf0509",
            "7def957f04c34cdfaa1a22a2d71fb656",
            "821ed9c24a184be3843925c38b1803b3",
            "f2aa3842b44d46f58c9cead4b16a6905"
          ]
        },
        "outputId": "4b560f6a-89f8-4604-f7bc-b8beb37a5f45"
      },
      "source": [
        "train_files = df['fil_path'].progress_apply(lambda x : tf.data.Dataset.from_tensor_slices(list(map(str, x))))"
      ],
      "execution_count": 26,
      "outputs": [
        {
          "output_type": "display_data",
          "data": {
            "application/vnd.jupyter.widget-view+json": {
              "model_id": "503c3b523131454eba4afe31ea0cda93",
              "version_minor": 0,
              "version_major": 2
            },
            "text/plain": [
              "HBox(children=(FloatProgress(value=0.0, max=15026.0), HTML(value='')))"
            ]
          },
          "metadata": {
            "tags": []
          }
        },
        {
          "output_type": "stream",
          "text": [
            "\n"
          ],
          "name": "stdout"
        }
      ]
    },
    {
      "cell_type": "code",
      "metadata": {
        "id": "cN1Tj5IbRM_4",
        "colab_type": "code",
        "colab": {
          "base_uri": "https://localhost:8080/",
          "height": 35
        },
        "outputId": "ad9cd261-8f1a-4ebf-ea74-359cd25f82eb"
      },
      "source": [
        "train_files[0]"
      ],
      "execution_count": 28,
      "outputs": [
        {
          "output_type": "execute_result",
          "data": {
            "text/plain": [
              "<DatasetV1Adapter shapes: (), types: tf.string>"
            ]
          },
          "metadata": {
            "tags": []
          },
          "execution_count": 28
        }
      ]
    },
    {
      "cell_type": "code",
      "metadata": {
        "scrolled": true,
        "id": "YBK2C7NkIioZ",
        "colab_type": "code",
        "colab": {
          "base_uri": "https://localhost:8080/",
          "height": 1000
        },
        "outputId": "cde742b1-ac86-4fc9-beea-5fec7c95158a"
      },
      "source": [
        "# train_files = tf.data.Dataset.from_tensor_slices(list(map(str, train_files_paths)))  # Convert paths to strings\n",
        "train_ds = train_files.map(load_image)  # Apply the load_image function to every image\n",
        "train_ds = train_ds.batch(BATCH_SIZE)  # Set the batch size\n",
        "\n",
        "# test_files = tf.data.Dataset.from_tensor_slices(list(map(str, test_files_paths)))\n",
        "# test_ds = test_files.map(load_image)\n",
        "# test_ds = test_ds.batch(BATCH_SIZE)"
      ],
      "execution_count": 29,
      "outputs": [
        {
          "output_type": "error",
          "ename": "TypeError",
          "evalue": "ignored",
          "traceback": [
            "\u001b[0;31m---------------------------------------------------------------------------\u001b[0m",
            "\u001b[0;31mValueError\u001b[0m                                Traceback (most recent call last)",
            "\u001b[0;32m/usr/local/lib/python3.6/dist-packages/tensorflow_core/python/framework/tensor_util.py\u001b[0m in \u001b[0;36m_AssertCompatible\u001b[0;34m(values, dtype)\u001b[0m\n\u001b[1;32m    323\u001b[0m   \u001b[0;32mtry\u001b[0m\u001b[0;34m:\u001b[0m\u001b[0;34m\u001b[0m\u001b[0;34m\u001b[0m\u001b[0m\n\u001b[0;32m--> 324\u001b[0;31m     \u001b[0mfn\u001b[0m\u001b[0;34m(\u001b[0m\u001b[0mvalues\u001b[0m\u001b[0;34m)\u001b[0m\u001b[0;34m\u001b[0m\u001b[0;34m\u001b[0m\u001b[0m\n\u001b[0m\u001b[1;32m    325\u001b[0m   \u001b[0;32mexcept\u001b[0m \u001b[0mValueError\u001b[0m \u001b[0;32mas\u001b[0m \u001b[0me\u001b[0m\u001b[0;34m:\u001b[0m\u001b[0;34m\u001b[0m\u001b[0;34m\u001b[0m\u001b[0m\n",
            "\u001b[0;32m/usr/local/lib/python3.6/dist-packages/tensorflow_core/python/framework/tensor_util.py\u001b[0m in \u001b[0;36minner\u001b[0;34m(values)\u001b[0m\n\u001b[1;32m    262\u001b[0m   \u001b[0;32mdef\u001b[0m \u001b[0minner\u001b[0m\u001b[0;34m(\u001b[0m\u001b[0mvalues\u001b[0m\u001b[0;34m)\u001b[0m\u001b[0;34m:\u001b[0m\u001b[0;34m\u001b[0m\u001b[0;34m\u001b[0m\u001b[0m\n\u001b[0;32m--> 263\u001b[0;31m     _ = [_check_failed(v) for v in nest.flatten(values)\n\u001b[0m\u001b[1;32m    264\u001b[0m          if not isinstance(v, expected_types)]\n",
            "\u001b[0;32m/usr/local/lib/python3.6/dist-packages/tensorflow_core/python/framework/tensor_util.py\u001b[0m in \u001b[0;36m<listcomp>\u001b[0;34m(.0)\u001b[0m\n\u001b[1;32m    263\u001b[0m     _ = [_check_failed(v) for v in nest.flatten(values)\n\u001b[0;32m--> 264\u001b[0;31m          if not isinstance(v, expected_types)]\n\u001b[0m\u001b[1;32m    265\u001b[0m   \u001b[0;32mreturn\u001b[0m \u001b[0minner\u001b[0m\u001b[0;34m\u001b[0m\u001b[0;34m\u001b[0m\u001b[0m\n",
            "\u001b[0;32m/usr/local/lib/python3.6/dist-packages/tensorflow_core/python/framework/tensor_util.py\u001b[0m in \u001b[0;36m_check_failed\u001b[0;34m(v)\u001b[0m\n\u001b[1;32m    247\u001b[0m   \u001b[0;31m# it is safe to use here.\u001b[0m\u001b[0;34m\u001b[0m\u001b[0;34m\u001b[0m\u001b[0;34m\u001b[0m\u001b[0m\n\u001b[0;32m--> 248\u001b[0;31m   \u001b[0;32mraise\u001b[0m \u001b[0mValueError\u001b[0m\u001b[0;34m(\u001b[0m\u001b[0mv\u001b[0m\u001b[0;34m)\u001b[0m\u001b[0;34m\u001b[0m\u001b[0;34m\u001b[0m\u001b[0m\n\u001b[0m\u001b[1;32m    249\u001b[0m \u001b[0;34m\u001b[0m\u001b[0m\n",
            "\u001b[0;31mValueError\u001b[0m: <DatasetV1Adapter shapes: (), types: tf.string>",
            "\nDuring handling of the above exception, another exception occurred:\n",
            "\u001b[0;31mTypeError\u001b[0m                                 Traceback (most recent call last)",
            "\u001b[0;32m/usr/local/lib/python3.6/dist-packages/tensorflow_core/python/framework/op_def_library.py\u001b[0m in \u001b[0;36m_apply_op_helper\u001b[0;34m(self, op_type_name, name, **keywords)\u001b[0m\n\u001b[1;32m    527\u001b[0m                 \u001b[0mas_ref\u001b[0m\u001b[0;34m=\u001b[0m\u001b[0minput_arg\u001b[0m\u001b[0;34m.\u001b[0m\u001b[0mis_ref\u001b[0m\u001b[0;34m,\u001b[0m\u001b[0;34m\u001b[0m\u001b[0;34m\u001b[0m\u001b[0m\n\u001b[0;32m--> 528\u001b[0;31m                 preferred_dtype=default_dtype)\n\u001b[0m\u001b[1;32m    529\u001b[0m           \u001b[0;32mexcept\u001b[0m \u001b[0mTypeError\u001b[0m \u001b[0;32mas\u001b[0m \u001b[0merr\u001b[0m\u001b[0;34m:\u001b[0m\u001b[0;34m\u001b[0m\u001b[0;34m\u001b[0m\u001b[0m\n",
            "\u001b[0;32m/usr/local/lib/python3.6/dist-packages/tensorflow_core/python/framework/ops.py\u001b[0m in \u001b[0;36minternal_convert_to_tensor\u001b[0;34m(value, dtype, name, as_ref, preferred_dtype, ctx, accepted_result_types)\u001b[0m\n\u001b[1;32m   1296\u001b[0m     \u001b[0;32mif\u001b[0m \u001b[0mret\u001b[0m \u001b[0;32mis\u001b[0m \u001b[0;32mNone\u001b[0m\u001b[0;34m:\u001b[0m\u001b[0;34m\u001b[0m\u001b[0;34m\u001b[0m\u001b[0m\n\u001b[0;32m-> 1297\u001b[0;31m       \u001b[0mret\u001b[0m \u001b[0;34m=\u001b[0m \u001b[0mconversion_func\u001b[0m\u001b[0;34m(\u001b[0m\u001b[0mvalue\u001b[0m\u001b[0;34m,\u001b[0m \u001b[0mdtype\u001b[0m\u001b[0;34m=\u001b[0m\u001b[0mdtype\u001b[0m\u001b[0;34m,\u001b[0m \u001b[0mname\u001b[0m\u001b[0;34m=\u001b[0m\u001b[0mname\u001b[0m\u001b[0;34m,\u001b[0m \u001b[0mas_ref\u001b[0m\u001b[0;34m=\u001b[0m\u001b[0mas_ref\u001b[0m\u001b[0;34m)\u001b[0m\u001b[0;34m\u001b[0m\u001b[0;34m\u001b[0m\u001b[0m\n\u001b[0m\u001b[1;32m   1298\u001b[0m \u001b[0;34m\u001b[0m\u001b[0m\n",
            "\u001b[0;32m/usr/local/lib/python3.6/dist-packages/tensorflow_core/python/framework/constant_op.py\u001b[0m in \u001b[0;36m_constant_tensor_conversion_function\u001b[0;34m(v, dtype, name, as_ref)\u001b[0m\n\u001b[1;32m    285\u001b[0m   \u001b[0m_\u001b[0m \u001b[0;34m=\u001b[0m \u001b[0mas_ref\u001b[0m\u001b[0;34m\u001b[0m\u001b[0;34m\u001b[0m\u001b[0m\n\u001b[0;32m--> 286\u001b[0;31m   \u001b[0;32mreturn\u001b[0m \u001b[0mconstant\u001b[0m\u001b[0;34m(\u001b[0m\u001b[0mv\u001b[0m\u001b[0;34m,\u001b[0m \u001b[0mdtype\u001b[0m\u001b[0;34m=\u001b[0m\u001b[0mdtype\u001b[0m\u001b[0;34m,\u001b[0m \u001b[0mname\u001b[0m\u001b[0;34m=\u001b[0m\u001b[0mname\u001b[0m\u001b[0;34m)\u001b[0m\u001b[0;34m\u001b[0m\u001b[0;34m\u001b[0m\u001b[0m\n\u001b[0m\u001b[1;32m    287\u001b[0m \u001b[0;34m\u001b[0m\u001b[0m\n",
            "\u001b[0;32m/usr/local/lib/python3.6/dist-packages/tensorflow_core/python/framework/constant_op.py\u001b[0m in \u001b[0;36mconstant\u001b[0;34m(value, dtype, shape, name)\u001b[0m\n\u001b[1;32m    226\u001b[0m   return _constant_impl(value, dtype, shape, name, verify_shape=False,\n\u001b[0;32m--> 227\u001b[0;31m                         allow_broadcast=True)\n\u001b[0m\u001b[1;32m    228\u001b[0m \u001b[0;34m\u001b[0m\u001b[0m\n",
            "\u001b[0;32m/usr/local/lib/python3.6/dist-packages/tensorflow_core/python/framework/constant_op.py\u001b[0m in \u001b[0;36m_constant_impl\u001b[0;34m(value, dtype, shape, name, verify_shape, allow_broadcast)\u001b[0m\n\u001b[1;32m    264\u001b[0m           \u001b[0mvalue\u001b[0m\u001b[0;34m,\u001b[0m \u001b[0mdtype\u001b[0m\u001b[0;34m=\u001b[0m\u001b[0mdtype\u001b[0m\u001b[0;34m,\u001b[0m \u001b[0mshape\u001b[0m\u001b[0;34m=\u001b[0m\u001b[0mshape\u001b[0m\u001b[0;34m,\u001b[0m \u001b[0mverify_shape\u001b[0m\u001b[0;34m=\u001b[0m\u001b[0mverify_shape\u001b[0m\u001b[0;34m,\u001b[0m\u001b[0;34m\u001b[0m\u001b[0;34m\u001b[0m\u001b[0m\n\u001b[0;32m--> 265\u001b[0;31m           allow_broadcast=allow_broadcast))\n\u001b[0m\u001b[1;32m    266\u001b[0m   \u001b[0mdtype_value\u001b[0m \u001b[0;34m=\u001b[0m \u001b[0mattr_value_pb2\u001b[0m\u001b[0;34m.\u001b[0m\u001b[0mAttrValue\u001b[0m\u001b[0;34m(\u001b[0m\u001b[0mtype\u001b[0m\u001b[0;34m=\u001b[0m\u001b[0mtensor_value\u001b[0m\u001b[0;34m.\u001b[0m\u001b[0mtensor\u001b[0m\u001b[0;34m.\u001b[0m\u001b[0mdtype\u001b[0m\u001b[0;34m)\u001b[0m\u001b[0;34m\u001b[0m\u001b[0;34m\u001b[0m\u001b[0m\n",
            "\u001b[0;32m/usr/local/lib/python3.6/dist-packages/tensorflow_core/python/framework/tensor_util.py\u001b[0m in \u001b[0;36mmake_tensor_proto\u001b[0;34m(values, dtype, shape, verify_shape, allow_broadcast)\u001b[0m\n\u001b[1;32m    448\u001b[0m     \u001b[0;32melse\u001b[0m\u001b[0;34m:\u001b[0m\u001b[0;34m\u001b[0m\u001b[0;34m\u001b[0m\u001b[0m\n\u001b[0;32m--> 449\u001b[0;31m       \u001b[0m_AssertCompatible\u001b[0m\u001b[0;34m(\u001b[0m\u001b[0mvalues\u001b[0m\u001b[0;34m,\u001b[0m \u001b[0mdtype\u001b[0m\u001b[0;34m)\u001b[0m\u001b[0;34m\u001b[0m\u001b[0;34m\u001b[0m\u001b[0m\n\u001b[0m\u001b[1;32m    450\u001b[0m       \u001b[0mnparray\u001b[0m \u001b[0;34m=\u001b[0m \u001b[0mnp\u001b[0m\u001b[0;34m.\u001b[0m\u001b[0marray\u001b[0m\u001b[0;34m(\u001b[0m\u001b[0mvalues\u001b[0m\u001b[0;34m,\u001b[0m \u001b[0mdtype\u001b[0m\u001b[0;34m=\u001b[0m\u001b[0mnp_dt\u001b[0m\u001b[0;34m)\u001b[0m\u001b[0;34m\u001b[0m\u001b[0;34m\u001b[0m\u001b[0m\n",
            "\u001b[0;32m/usr/local/lib/python3.6/dist-packages/tensorflow_core/python/framework/tensor_util.py\u001b[0m in \u001b[0;36m_AssertCompatible\u001b[0;34m(values, dtype)\u001b[0m\n\u001b[1;32m    330\u001b[0m       raise TypeError(\"Expected %s, got %s of type '%s' instead.\" %\n\u001b[0;32m--> 331\u001b[0;31m                       (dtype.name, repr(mismatch), type(mismatch).__name__))\n\u001b[0m\u001b[1;32m    332\u001b[0m \u001b[0;34m\u001b[0m\u001b[0m\n",
            "\u001b[0;31mTypeError\u001b[0m: Expected string, got <DatasetV1Adapter shapes: (), types: tf.string> of type 'DatasetV1Adapter' instead.",
            "\nDuring handling of the above exception, another exception occurred:\n",
            "\u001b[0;31mTypeError\u001b[0m                                 Traceback (most recent call last)",
            "\u001b[0;32m<ipython-input-29-c79a6589047f>\u001b[0m in \u001b[0;36m<module>\u001b[0;34m()\u001b[0m\n\u001b[0;32m----> 1\u001b[0;31m \u001b[0mtrain_ds\u001b[0m \u001b[0;34m=\u001b[0m \u001b[0mtrain_files\u001b[0m\u001b[0;34m.\u001b[0m\u001b[0mmap\u001b[0m\u001b[0;34m(\u001b[0m\u001b[0mload_image\u001b[0m\u001b[0;34m)\u001b[0m  \u001b[0;31m# Apply the load_image function to every image\u001b[0m\u001b[0;34m\u001b[0m\u001b[0;34m\u001b[0m\u001b[0m\n\u001b[0m\u001b[1;32m      2\u001b[0m \u001b[0mtrain_ds\u001b[0m \u001b[0;34m=\u001b[0m \u001b[0mtrain_ds\u001b[0m\u001b[0;34m.\u001b[0m\u001b[0mbatch\u001b[0m\u001b[0;34m(\u001b[0m\u001b[0mBATCH_SIZE\u001b[0m\u001b[0;34m)\u001b[0m  \u001b[0;31m# Set the batch size\u001b[0m\u001b[0;34m\u001b[0m\u001b[0;34m\u001b[0m\u001b[0m\n\u001b[1;32m      3\u001b[0m \u001b[0;34m\u001b[0m\u001b[0m\n\u001b[1;32m      4\u001b[0m \u001b[0;31m# test_files = tf.data.Dataset.from_tensor_slices(list(map(str, test_files_paths)))\u001b[0m\u001b[0;34m\u001b[0m\u001b[0;34m\u001b[0m\u001b[0;34m\u001b[0m\u001b[0m\n\u001b[1;32m      5\u001b[0m \u001b[0;31m# test_ds = test_files.map(load_image)\u001b[0m\u001b[0;34m\u001b[0m\u001b[0;34m\u001b[0m\u001b[0;34m\u001b[0m\u001b[0m\n",
            "\u001b[0;32m/usr/local/lib/python3.6/dist-packages/pandas/core/series.py\u001b[0m in \u001b[0;36mmap\u001b[0;34m(self, arg, na_action)\u001b[0m\n\u001b[1;32m   3826\u001b[0m         \u001b[0mdtype\u001b[0m\u001b[0;34m:\u001b[0m \u001b[0mobject\u001b[0m\u001b[0;34m\u001b[0m\u001b[0;34m\u001b[0m\u001b[0m\n\u001b[1;32m   3827\u001b[0m         \"\"\"\n\u001b[0;32m-> 3828\u001b[0;31m         \u001b[0mnew_values\u001b[0m \u001b[0;34m=\u001b[0m \u001b[0msuper\u001b[0m\u001b[0;34m(\u001b[0m\u001b[0;34m)\u001b[0m\u001b[0;34m.\u001b[0m\u001b[0m_map_values\u001b[0m\u001b[0;34m(\u001b[0m\u001b[0marg\u001b[0m\u001b[0;34m,\u001b[0m \u001b[0mna_action\u001b[0m\u001b[0;34m=\u001b[0m\u001b[0mna_action\u001b[0m\u001b[0;34m)\u001b[0m\u001b[0;34m\u001b[0m\u001b[0;34m\u001b[0m\u001b[0m\n\u001b[0m\u001b[1;32m   3829\u001b[0m         \u001b[0;32mreturn\u001b[0m \u001b[0mself\u001b[0m\u001b[0;34m.\u001b[0m\u001b[0m_constructor\u001b[0m\u001b[0;34m(\u001b[0m\u001b[0mnew_values\u001b[0m\u001b[0;34m,\u001b[0m \u001b[0mindex\u001b[0m\u001b[0;34m=\u001b[0m\u001b[0mself\u001b[0m\u001b[0;34m.\u001b[0m\u001b[0mindex\u001b[0m\u001b[0;34m)\u001b[0m\u001b[0;34m.\u001b[0m\u001b[0m__finalize__\u001b[0m\u001b[0;34m(\u001b[0m\u001b[0mself\u001b[0m\u001b[0;34m)\u001b[0m\u001b[0;34m\u001b[0m\u001b[0;34m\u001b[0m\u001b[0m\n\u001b[1;32m   3830\u001b[0m \u001b[0;34m\u001b[0m\u001b[0m\n",
            "\u001b[0;32m/usr/local/lib/python3.6/dist-packages/pandas/core/base.py\u001b[0m in \u001b[0;36m_map_values\u001b[0;34m(self, mapper, na_action)\u001b[0m\n\u001b[1;32m   1298\u001b[0m \u001b[0;34m\u001b[0m\u001b[0m\n\u001b[1;32m   1299\u001b[0m         \u001b[0;31m# mapper is a function\u001b[0m\u001b[0;34m\u001b[0m\u001b[0;34m\u001b[0m\u001b[0;34m\u001b[0m\u001b[0m\n\u001b[0;32m-> 1300\u001b[0;31m         \u001b[0mnew_values\u001b[0m \u001b[0;34m=\u001b[0m \u001b[0mmap_f\u001b[0m\u001b[0;34m(\u001b[0m\u001b[0mvalues\u001b[0m\u001b[0;34m,\u001b[0m \u001b[0mmapper\u001b[0m\u001b[0;34m)\u001b[0m\u001b[0;34m\u001b[0m\u001b[0;34m\u001b[0m\u001b[0m\n\u001b[0m\u001b[1;32m   1301\u001b[0m \u001b[0;34m\u001b[0m\u001b[0m\n\u001b[1;32m   1302\u001b[0m         \u001b[0;32mreturn\u001b[0m \u001b[0mnew_values\u001b[0m\u001b[0;34m\u001b[0m\u001b[0;34m\u001b[0m\u001b[0m\n",
            "\u001b[0;32mpandas/_libs/lib.pyx\u001b[0m in \u001b[0;36mpandas._libs.lib.map_infer\u001b[0;34m()\u001b[0m\n",
            "\u001b[0;32m<ipython-input-5-655cbe32f417>\u001b[0m in \u001b[0;36mload_image\u001b[0;34m(img_path)\u001b[0m\n\u001b[1;32m      2\u001b[0m \u001b[0;34m\u001b[0m\u001b[0m\n\u001b[1;32m      3\u001b[0m \u001b[0;32mdef\u001b[0m \u001b[0mload_image\u001b[0m\u001b[0;34m(\u001b[0m\u001b[0mimg_path\u001b[0m\u001b[0;34m)\u001b[0m\u001b[0;34m:\u001b[0m\u001b[0;34m\u001b[0m\u001b[0;34m\u001b[0m\u001b[0m\n\u001b[0;32m----> 4\u001b[0;31m     \u001b[0mimg\u001b[0m \u001b[0;34m=\u001b[0m \u001b[0mtf\u001b[0m\u001b[0;34m.\u001b[0m\u001b[0mio\u001b[0m\u001b[0;34m.\u001b[0m\u001b[0mread_file\u001b[0m\u001b[0;34m(\u001b[0m\u001b[0mimg_path\u001b[0m\u001b[0;34m)\u001b[0m\u001b[0;34m\u001b[0m\u001b[0;34m\u001b[0m\u001b[0m\n\u001b[0m\u001b[1;32m      5\u001b[0m     \u001b[0mimg\u001b[0m \u001b[0;34m=\u001b[0m \u001b[0mtf\u001b[0m\u001b[0;34m.\u001b[0m\u001b[0mimage\u001b[0m\u001b[0;34m.\u001b[0m\u001b[0mdecode_jpeg\u001b[0m\u001b[0;34m(\u001b[0m\u001b[0mimg\u001b[0m\u001b[0;34m,\u001b[0m \u001b[0mchannels\u001b[0m\u001b[0;34m=\u001b[0m\u001b[0;36m3\u001b[0m\u001b[0;34m)\u001b[0m\u001b[0;34m\u001b[0m\u001b[0;34m\u001b[0m\u001b[0m\n\u001b[1;32m      6\u001b[0m     \u001b[0mimg\u001b[0m \u001b[0;34m=\u001b[0m \u001b[0mtf\u001b[0m\u001b[0;34m.\u001b[0m\u001b[0mimage\u001b[0m\u001b[0;34m.\u001b[0m\u001b[0mresize\u001b[0m\u001b[0;34m(\u001b[0m\u001b[0mimg\u001b[0m\u001b[0;34m,\u001b[0m \u001b[0;34m[\u001b[0m\u001b[0mIMG_HEIGHT\u001b[0m\u001b[0;34m,\u001b[0m \u001b[0mIMG_WIDTH\u001b[0m\u001b[0;34m]\u001b[0m\u001b[0;34m)\u001b[0m  \u001b[0;31m# Resize image to 224x224 pixels\u001b[0m\u001b[0;34m\u001b[0m\u001b[0;34m\u001b[0m\u001b[0m\n",
            "\u001b[0;32m/usr/local/lib/python3.6/dist-packages/tensorflow_core/python/ops/gen_io_ops.py\u001b[0m in \u001b[0;36mread_file\u001b[0;34m(filename, name)\u001b[0m\n\u001b[1;32m    624\u001b[0m   \u001b[0;32mtry\u001b[0m\u001b[0;34m:\u001b[0m\u001b[0;34m\u001b[0m\u001b[0;34m\u001b[0m\u001b[0m\n\u001b[1;32m    625\u001b[0m     _, _, _op = _op_def_lib._apply_op_helper(\n\u001b[0;32m--> 626\u001b[0;31m         \"ReadFile\", filename=filename, name=name)\n\u001b[0m\u001b[1;32m    627\u001b[0m   \u001b[0;32mexcept\u001b[0m \u001b[0;34m(\u001b[0m\u001b[0mTypeError\u001b[0m\u001b[0;34m,\u001b[0m \u001b[0mValueError\u001b[0m\u001b[0;34m)\u001b[0m\u001b[0;34m:\u001b[0m\u001b[0;34m\u001b[0m\u001b[0;34m\u001b[0m\u001b[0m\n\u001b[1;32m    628\u001b[0m     result = _dispatch.dispatch(\n",
            "\u001b[0;32m/usr/local/lib/python3.6/dist-packages/tensorflow_core/python/framework/op_def_library.py\u001b[0m in \u001b[0;36m_apply_op_helper\u001b[0;34m(self, op_type_name, name, **keywords)\u001b[0m\n\u001b[1;32m    535\u001b[0m                   \u001b[0;34m\"type '%s' instead. Error: %s\"\u001b[0m \u001b[0;34m%\u001b[0m\u001b[0;34m\u001b[0m\u001b[0;34m\u001b[0m\u001b[0m\n\u001b[1;32m    536\u001b[0m                   (dtypes.as_dtype(dtype).name, input_arg.name, op_type_name,\n\u001b[0;32m--> 537\u001b[0;31m                    repr(values), type(values).__name__, err))\n\u001b[0m\u001b[1;32m    538\u001b[0m           \u001b[0;32mexcept\u001b[0m \u001b[0mValueError\u001b[0m\u001b[0;34m:\u001b[0m\u001b[0;34m\u001b[0m\u001b[0;34m\u001b[0m\u001b[0m\n\u001b[1;32m    539\u001b[0m             \u001b[0;31m# What type does convert_to_tensor think it has?\u001b[0m\u001b[0;34m\u001b[0m\u001b[0;34m\u001b[0m\u001b[0;34m\u001b[0m\u001b[0m\n",
            "\u001b[0;31mTypeError\u001b[0m: Expected string passed to parameter 'filename' of op 'ReadFile', got <DatasetV1Adapter shapes: (), types: tf.string> of type 'DatasetV1Adapter' instead. Error: Expected string, got <DatasetV1Adapter shapes: (), types: tf.string> of type 'DatasetV1Adapter' instead."
          ]
        }
      ]
    },
    {
      "cell_type": "markdown",
      "metadata": {
        "id": "a14J4iW3Iioc",
        "colab_type": "text"
      },
      "source": [
        "To calculate the embeddings we use the Mobilenet. This will take a while, so time to grab a coffe while this is running :) "
      ]
    },
    {
      "cell_type": "code",
      "metadata": {
        "id": "OmVBSD91Iioc",
        "colab_type": "code",
        "colab": {
          "base_uri": "https://localhost:8080/",
          "height": 1000
        },
        "outputId": "79784e06-dbf0-42ff-caa9-d9c31144ee17"
      },
      "source": [
        "%%time\n",
        "embed_train = mobilenet.predict(df['vector'], batch_size=32)\n",
        "# embed_test = mobilenet.predict(test_ds)"
      ],
      "execution_count": 24,
      "outputs": [
        {
          "output_type": "error",
          "ename": "ValueError",
          "evalue": "ignored",
          "traceback": [
            "\u001b[0;31m---------------------------------------------------------------------------\u001b[0m",
            "\u001b[0;31mValueError\u001b[0m                                Traceback (most recent call last)",
            "\u001b[0;32m<ipython-input-24-a5c7cdb4b8e8>\u001b[0m in \u001b[0;36m<module>\u001b[0;34m()\u001b[0m\n\u001b[0;32m----> 1\u001b[0;31m \u001b[0mget_ipython\u001b[0m\u001b[0;34m(\u001b[0m\u001b[0;34m)\u001b[0m\u001b[0;34m.\u001b[0m\u001b[0mrun_cell_magic\u001b[0m\u001b[0;34m(\u001b[0m\u001b[0;34m'time'\u001b[0m\u001b[0;34m,\u001b[0m \u001b[0;34m''\u001b[0m\u001b[0;34m,\u001b[0m \u001b[0;34m\"embed_train = mobilenet.predict(df['vector'], batch_size=32)\\n# embed_test = mobilenet.predict(test_ds)\"\u001b[0m\u001b[0;34m)\u001b[0m\u001b[0;34m\u001b[0m\u001b[0;34m\u001b[0m\u001b[0m\n\u001b[0m",
            "\u001b[0;32m/usr/local/lib/python3.6/dist-packages/IPython/core/interactiveshell.py\u001b[0m in \u001b[0;36mrun_cell_magic\u001b[0;34m(self, magic_name, line, cell)\u001b[0m\n\u001b[1;32m   2115\u001b[0m             \u001b[0mmagic_arg_s\u001b[0m \u001b[0;34m=\u001b[0m \u001b[0mself\u001b[0m\u001b[0;34m.\u001b[0m\u001b[0mvar_expand\u001b[0m\u001b[0;34m(\u001b[0m\u001b[0mline\u001b[0m\u001b[0;34m,\u001b[0m \u001b[0mstack_depth\u001b[0m\u001b[0;34m)\u001b[0m\u001b[0;34m\u001b[0m\u001b[0;34m\u001b[0m\u001b[0m\n\u001b[1;32m   2116\u001b[0m             \u001b[0;32mwith\u001b[0m \u001b[0mself\u001b[0m\u001b[0;34m.\u001b[0m\u001b[0mbuiltin_trap\u001b[0m\u001b[0;34m:\u001b[0m\u001b[0;34m\u001b[0m\u001b[0;34m\u001b[0m\u001b[0m\n\u001b[0;32m-> 2117\u001b[0;31m                 \u001b[0mresult\u001b[0m \u001b[0;34m=\u001b[0m \u001b[0mfn\u001b[0m\u001b[0;34m(\u001b[0m\u001b[0mmagic_arg_s\u001b[0m\u001b[0;34m,\u001b[0m \u001b[0mcell\u001b[0m\u001b[0;34m)\u001b[0m\u001b[0;34m\u001b[0m\u001b[0;34m\u001b[0m\u001b[0m\n\u001b[0m\u001b[1;32m   2118\u001b[0m             \u001b[0;32mreturn\u001b[0m \u001b[0mresult\u001b[0m\u001b[0;34m\u001b[0m\u001b[0;34m\u001b[0m\u001b[0m\n\u001b[1;32m   2119\u001b[0m \u001b[0;34m\u001b[0m\u001b[0m\n",
            "\u001b[0;32m</usr/local/lib/python3.6/dist-packages/decorator.py:decorator-gen-60>\u001b[0m in \u001b[0;36mtime\u001b[0;34m(self, line, cell, local_ns)\u001b[0m\n",
            "\u001b[0;32m/usr/local/lib/python3.6/dist-packages/IPython/core/magic.py\u001b[0m in \u001b[0;36m<lambda>\u001b[0;34m(f, *a, **k)\u001b[0m\n\u001b[1;32m    186\u001b[0m     \u001b[0;31m# but it's overkill for just that one bit of state.\u001b[0m\u001b[0;34m\u001b[0m\u001b[0;34m\u001b[0m\u001b[0;34m\u001b[0m\u001b[0m\n\u001b[1;32m    187\u001b[0m     \u001b[0;32mdef\u001b[0m \u001b[0mmagic_deco\u001b[0m\u001b[0;34m(\u001b[0m\u001b[0marg\u001b[0m\u001b[0;34m)\u001b[0m\u001b[0;34m:\u001b[0m\u001b[0;34m\u001b[0m\u001b[0;34m\u001b[0m\u001b[0m\n\u001b[0;32m--> 188\u001b[0;31m         \u001b[0mcall\u001b[0m \u001b[0;34m=\u001b[0m \u001b[0;32mlambda\u001b[0m \u001b[0mf\u001b[0m\u001b[0;34m,\u001b[0m \u001b[0;34m*\u001b[0m\u001b[0ma\u001b[0m\u001b[0;34m,\u001b[0m \u001b[0;34m**\u001b[0m\u001b[0mk\u001b[0m\u001b[0;34m:\u001b[0m \u001b[0mf\u001b[0m\u001b[0;34m(\u001b[0m\u001b[0;34m*\u001b[0m\u001b[0ma\u001b[0m\u001b[0;34m,\u001b[0m \u001b[0;34m**\u001b[0m\u001b[0mk\u001b[0m\u001b[0;34m)\u001b[0m\u001b[0;34m\u001b[0m\u001b[0;34m\u001b[0m\u001b[0m\n\u001b[0m\u001b[1;32m    189\u001b[0m \u001b[0;34m\u001b[0m\u001b[0m\n\u001b[1;32m    190\u001b[0m         \u001b[0;32mif\u001b[0m \u001b[0mcallable\u001b[0m\u001b[0;34m(\u001b[0m\u001b[0marg\u001b[0m\u001b[0;34m)\u001b[0m\u001b[0;34m:\u001b[0m\u001b[0;34m\u001b[0m\u001b[0;34m\u001b[0m\u001b[0m\n",
            "\u001b[0;32m/usr/local/lib/python3.6/dist-packages/IPython/core/magics/execution.py\u001b[0m in \u001b[0;36mtime\u001b[0;34m(self, line, cell, local_ns)\u001b[0m\n\u001b[1;32m   1191\u001b[0m         \u001b[0;32melse\u001b[0m\u001b[0;34m:\u001b[0m\u001b[0;34m\u001b[0m\u001b[0;34m\u001b[0m\u001b[0m\n\u001b[1;32m   1192\u001b[0m             \u001b[0mst\u001b[0m \u001b[0;34m=\u001b[0m \u001b[0mclock2\u001b[0m\u001b[0;34m(\u001b[0m\u001b[0;34m)\u001b[0m\u001b[0;34m\u001b[0m\u001b[0;34m\u001b[0m\u001b[0m\n\u001b[0;32m-> 1193\u001b[0;31m             \u001b[0mexec\u001b[0m\u001b[0;34m(\u001b[0m\u001b[0mcode\u001b[0m\u001b[0;34m,\u001b[0m \u001b[0mglob\u001b[0m\u001b[0;34m,\u001b[0m \u001b[0mlocal_ns\u001b[0m\u001b[0;34m)\u001b[0m\u001b[0;34m\u001b[0m\u001b[0;34m\u001b[0m\u001b[0m\n\u001b[0m\u001b[1;32m   1194\u001b[0m             \u001b[0mend\u001b[0m \u001b[0;34m=\u001b[0m \u001b[0mclock2\u001b[0m\u001b[0;34m(\u001b[0m\u001b[0;34m)\u001b[0m\u001b[0;34m\u001b[0m\u001b[0;34m\u001b[0m\u001b[0m\n\u001b[1;32m   1195\u001b[0m             \u001b[0mout\u001b[0m \u001b[0;34m=\u001b[0m \u001b[0;32mNone\u001b[0m\u001b[0;34m\u001b[0m\u001b[0;34m\u001b[0m\u001b[0m\n",
            "\u001b[0;32m<timed exec>\u001b[0m in \u001b[0;36m<module>\u001b[0;34m()\u001b[0m\n",
            "\u001b[0;32m/usr/local/lib/python3.6/dist-packages/tensorflow_core/python/keras/engine/training.py\u001b[0m in \u001b[0;36mpredict\u001b[0;34m(self, x, batch_size, verbose, steps, callbacks, max_queue_size, workers, use_multiprocessing)\u001b[0m\n\u001b[1;32m    906\u001b[0m         \u001b[0mmax_queue_size\u001b[0m\u001b[0;34m=\u001b[0m\u001b[0mmax_queue_size\u001b[0m\u001b[0;34m,\u001b[0m\u001b[0;34m\u001b[0m\u001b[0;34m\u001b[0m\u001b[0m\n\u001b[1;32m    907\u001b[0m         \u001b[0mworkers\u001b[0m\u001b[0;34m=\u001b[0m\u001b[0mworkers\u001b[0m\u001b[0;34m,\u001b[0m\u001b[0;34m\u001b[0m\u001b[0;34m\u001b[0m\u001b[0m\n\u001b[0;32m--> 908\u001b[0;31m         use_multiprocessing=use_multiprocessing)\n\u001b[0m\u001b[1;32m    909\u001b[0m \u001b[0;34m\u001b[0m\u001b[0m\n\u001b[1;32m    910\u001b[0m   \u001b[0;32mdef\u001b[0m \u001b[0mreset_metrics\u001b[0m\u001b[0;34m(\u001b[0m\u001b[0mself\u001b[0m\u001b[0;34m)\u001b[0m\u001b[0;34m:\u001b[0m\u001b[0;34m\u001b[0m\u001b[0;34m\u001b[0m\u001b[0m\n",
            "\u001b[0;32m/usr/local/lib/python3.6/dist-packages/tensorflow_core/python/keras/engine/training_arrays.py\u001b[0m in \u001b[0;36mpredict\u001b[0;34m(self, model, x, batch_size, verbose, steps, callbacks, **kwargs)\u001b[0m\n\u001b[1;32m    714\u001b[0m     \u001b[0mbatch_size\u001b[0m \u001b[0;34m=\u001b[0m \u001b[0mmodel\u001b[0m\u001b[0;34m.\u001b[0m\u001b[0m_validate_or_infer_batch_size\u001b[0m\u001b[0;34m(\u001b[0m\u001b[0mbatch_size\u001b[0m\u001b[0;34m,\u001b[0m \u001b[0msteps\u001b[0m\u001b[0;34m,\u001b[0m \u001b[0mx\u001b[0m\u001b[0;34m)\u001b[0m\u001b[0;34m\u001b[0m\u001b[0;34m\u001b[0m\u001b[0m\n\u001b[1;32m    715\u001b[0m     x, _, _ = model._standardize_user_data(\n\u001b[0;32m--> 716\u001b[0;31m         x, check_steps=True, steps_name='steps', steps=steps)\n\u001b[0m\u001b[1;32m    717\u001b[0m     return predict_loop(\n\u001b[1;32m    718\u001b[0m         \u001b[0mmodel\u001b[0m\u001b[0;34m,\u001b[0m\u001b[0;34m\u001b[0m\u001b[0;34m\u001b[0m\u001b[0m\n",
            "\u001b[0;32m/usr/local/lib/python3.6/dist-packages/tensorflow_core/python/keras/engine/training.py\u001b[0m in \u001b[0;36m_standardize_user_data\u001b[0;34m(self, x, y, sample_weight, class_weight, batch_size, check_steps, steps_name, steps, validation_split, shuffle, extract_tensors_from_dataset)\u001b[0m\n\u001b[1;32m   2469\u001b[0m           \u001b[0mfeed_input_shapes\u001b[0m\u001b[0;34m,\u001b[0m\u001b[0;34m\u001b[0m\u001b[0;34m\u001b[0m\u001b[0m\n\u001b[1;32m   2470\u001b[0m           \u001b[0mcheck_batch_axis\u001b[0m\u001b[0;34m=\u001b[0m\u001b[0;32mFalse\u001b[0m\u001b[0;34m,\u001b[0m  \u001b[0;31m# Don't enforce the batch size.\u001b[0m\u001b[0;34m\u001b[0m\u001b[0;34m\u001b[0m\u001b[0m\n\u001b[0;32m-> 2471\u001b[0;31m           exception_prefix='input')\n\u001b[0m\u001b[1;32m   2472\u001b[0m \u001b[0;34m\u001b[0m\u001b[0m\n\u001b[1;32m   2473\u001b[0m     \u001b[0;31m# Get typespecs for the input data and sanitize it if necessary.\u001b[0m\u001b[0;34m\u001b[0m\u001b[0;34m\u001b[0m\u001b[0;34m\u001b[0m\u001b[0m\n",
            "\u001b[0;32m/usr/local/lib/python3.6/dist-packages/tensorflow_core/python/keras/engine/training_utils.py\u001b[0m in \u001b[0;36mstandardize_input_data\u001b[0;34m(data, names, shapes, check_batch_axis, exception_prefix)\u001b[0m\n\u001b[1;32m    561\u001b[0m                            \u001b[0;34m': expected '\u001b[0m \u001b[0;34m+\u001b[0m \u001b[0mnames\u001b[0m\u001b[0;34m[\u001b[0m\u001b[0mi\u001b[0m\u001b[0;34m]\u001b[0m \u001b[0;34m+\u001b[0m \u001b[0;34m' to have '\u001b[0m \u001b[0;34m+\u001b[0m\u001b[0;34m\u001b[0m\u001b[0;34m\u001b[0m\u001b[0m\n\u001b[1;32m    562\u001b[0m                            \u001b[0mstr\u001b[0m\u001b[0;34m(\u001b[0m\u001b[0mlen\u001b[0m\u001b[0;34m(\u001b[0m\u001b[0mshape\u001b[0m\u001b[0;34m)\u001b[0m\u001b[0;34m)\u001b[0m \u001b[0;34m+\u001b[0m \u001b[0;34m' dimensions, but got array '\u001b[0m\u001b[0;34m\u001b[0m\u001b[0;34m\u001b[0m\u001b[0m\n\u001b[0;32m--> 563\u001b[0;31m                            'with shape ' + str(data_shape))\n\u001b[0m\u001b[1;32m    564\u001b[0m         \u001b[0;32mif\u001b[0m \u001b[0;32mnot\u001b[0m \u001b[0mcheck_batch_axis\u001b[0m\u001b[0;34m:\u001b[0m\u001b[0;34m\u001b[0m\u001b[0;34m\u001b[0m\u001b[0m\n\u001b[1;32m    565\u001b[0m           \u001b[0mdata_shape\u001b[0m \u001b[0;34m=\u001b[0m \u001b[0mdata_shape\u001b[0m\u001b[0;34m[\u001b[0m\u001b[0;36m1\u001b[0m\u001b[0;34m:\u001b[0m\u001b[0;34m]\u001b[0m\u001b[0;34m\u001b[0m\u001b[0;34m\u001b[0m\u001b[0m\n",
            "\u001b[0;31mValueError\u001b[0m: Error when checking input: expected input_1 to have 4 dimensions, but got array with shape (15026, 1)"
          ]
        }
      ]
    },
    {
      "cell_type": "code",
      "metadata": {
        "id": "8cGD-NU7O7Tb",
        "colab_type": "code",
        "colab": {
          "base_uri": "https://localhost:8080/",
          "height": 387
        },
        "outputId": "d5b471c1-4746-4f2c-ee55-204a723dddde"
      },
      "source": [
        "k = df['vector'].apply(_pred)"
      ],
      "execution_count": 22,
      "outputs": [
        {
          "output_type": "error",
          "ename": "ValueError",
          "evalue": "ignored",
          "traceback": [
            "\u001b[0;31m---------------------------------------------------------------------------\u001b[0m",
            "\u001b[0;31mValueError\u001b[0m                                Traceback (most recent call last)",
            "\u001b[0;32m<ipython-input-22-f2bc66447d6f>\u001b[0m in \u001b[0;36m<module>\u001b[0;34m()\u001b[0m\n\u001b[0;32m----> 1\u001b[0;31m \u001b[0mk\u001b[0m \u001b[0;34m=\u001b[0m \u001b[0mdf\u001b[0m\u001b[0;34m[\u001b[0m\u001b[0;34m'vector'\u001b[0m\u001b[0;34m]\u001b[0m\u001b[0;34m.\u001b[0m\u001b[0mapply\u001b[0m\u001b[0;34m(\u001b[0m\u001b[0m_pred\u001b[0m\u001b[0;34m)\u001b[0m\u001b[0;34m\u001b[0m\u001b[0;34m\u001b[0m\u001b[0m\n\u001b[0m",
            "\u001b[0;32m/usr/local/lib/python3.6/dist-packages/pandas/core/series.py\u001b[0m in \u001b[0;36mapply\u001b[0;34m(self, func, convert_dtype, args, **kwds)\u001b[0m\n\u001b[1;32m   4043\u001b[0m             \u001b[0;32melse\u001b[0m\u001b[0;34m:\u001b[0m\u001b[0;34m\u001b[0m\u001b[0;34m\u001b[0m\u001b[0m\n\u001b[1;32m   4044\u001b[0m                 \u001b[0mvalues\u001b[0m \u001b[0;34m=\u001b[0m \u001b[0mself\u001b[0m\u001b[0;34m.\u001b[0m\u001b[0mastype\u001b[0m\u001b[0;34m(\u001b[0m\u001b[0mobject\u001b[0m\u001b[0;34m)\u001b[0m\u001b[0;34m.\u001b[0m\u001b[0mvalues\u001b[0m\u001b[0;34m\u001b[0m\u001b[0;34m\u001b[0m\u001b[0m\n\u001b[0;32m-> 4045\u001b[0;31m                 \u001b[0mmapped\u001b[0m \u001b[0;34m=\u001b[0m \u001b[0mlib\u001b[0m\u001b[0;34m.\u001b[0m\u001b[0mmap_infer\u001b[0m\u001b[0;34m(\u001b[0m\u001b[0mvalues\u001b[0m\u001b[0;34m,\u001b[0m \u001b[0mf\u001b[0m\u001b[0;34m,\u001b[0m \u001b[0mconvert\u001b[0m\u001b[0;34m=\u001b[0m\u001b[0mconvert_dtype\u001b[0m\u001b[0;34m)\u001b[0m\u001b[0;34m\u001b[0m\u001b[0;34m\u001b[0m\u001b[0m\n\u001b[0m\u001b[1;32m   4046\u001b[0m \u001b[0;34m\u001b[0m\u001b[0m\n\u001b[1;32m   4047\u001b[0m         \u001b[0;32mif\u001b[0m \u001b[0mlen\u001b[0m\u001b[0;34m(\u001b[0m\u001b[0mmapped\u001b[0m\u001b[0;34m)\u001b[0m \u001b[0;32mand\u001b[0m \u001b[0misinstance\u001b[0m\u001b[0;34m(\u001b[0m\u001b[0mmapped\u001b[0m\u001b[0;34m[\u001b[0m\u001b[0;36m0\u001b[0m\u001b[0;34m]\u001b[0m\u001b[0;34m,\u001b[0m \u001b[0mSeries\u001b[0m\u001b[0;34m)\u001b[0m\u001b[0;34m:\u001b[0m\u001b[0;34m\u001b[0m\u001b[0;34m\u001b[0m\u001b[0m\n",
            "\u001b[0;32mpandas/_libs/lib.pyx\u001b[0m in \u001b[0;36mpandas._libs.lib.map_infer\u001b[0;34m()\u001b[0m\n",
            "\u001b[0;32m<timed exec>\u001b[0m in \u001b[0;36m_pred\u001b[0;34m(df)\u001b[0m\n",
            "\u001b[0;32m/usr/local/lib/python3.6/dist-packages/tensorflow_core/python/keras/engine/training.py\u001b[0m in \u001b[0;36mpredict\u001b[0;34m(self, x, batch_size, verbose, steps, callbacks, max_queue_size, workers, use_multiprocessing)\u001b[0m\n\u001b[1;32m    906\u001b[0m         \u001b[0mmax_queue_size\u001b[0m\u001b[0;34m=\u001b[0m\u001b[0mmax_queue_size\u001b[0m\u001b[0;34m,\u001b[0m\u001b[0;34m\u001b[0m\u001b[0;34m\u001b[0m\u001b[0m\n\u001b[1;32m    907\u001b[0m         \u001b[0mworkers\u001b[0m\u001b[0;34m=\u001b[0m\u001b[0mworkers\u001b[0m\u001b[0;34m,\u001b[0m\u001b[0;34m\u001b[0m\u001b[0;34m\u001b[0m\u001b[0m\n\u001b[0;32m--> 908\u001b[0;31m         use_multiprocessing=use_multiprocessing)\n\u001b[0m\u001b[1;32m    909\u001b[0m \u001b[0;34m\u001b[0m\u001b[0m\n\u001b[1;32m    910\u001b[0m   \u001b[0;32mdef\u001b[0m \u001b[0mreset_metrics\u001b[0m\u001b[0;34m(\u001b[0m\u001b[0mself\u001b[0m\u001b[0;34m)\u001b[0m\u001b[0;34m:\u001b[0m\u001b[0;34m\u001b[0m\u001b[0;34m\u001b[0m\u001b[0m\n",
            "\u001b[0;32m/usr/local/lib/python3.6/dist-packages/tensorflow_core/python/keras/engine/training_arrays.py\u001b[0m in \u001b[0;36mpredict\u001b[0;34m(self, model, x, batch_size, verbose, steps, callbacks, **kwargs)\u001b[0m\n\u001b[1;32m    714\u001b[0m     \u001b[0mbatch_size\u001b[0m \u001b[0;34m=\u001b[0m \u001b[0mmodel\u001b[0m\u001b[0;34m.\u001b[0m\u001b[0m_validate_or_infer_batch_size\u001b[0m\u001b[0;34m(\u001b[0m\u001b[0mbatch_size\u001b[0m\u001b[0;34m,\u001b[0m \u001b[0msteps\u001b[0m\u001b[0;34m,\u001b[0m \u001b[0mx\u001b[0m\u001b[0;34m)\u001b[0m\u001b[0;34m\u001b[0m\u001b[0;34m\u001b[0m\u001b[0m\n\u001b[1;32m    715\u001b[0m     x, _, _ = model._standardize_user_data(\n\u001b[0;32m--> 716\u001b[0;31m         x, check_steps=True, steps_name='steps', steps=steps)\n\u001b[0m\u001b[1;32m    717\u001b[0m     return predict_loop(\n\u001b[1;32m    718\u001b[0m         \u001b[0mmodel\u001b[0m\u001b[0;34m,\u001b[0m\u001b[0;34m\u001b[0m\u001b[0;34m\u001b[0m\u001b[0m\n",
            "\u001b[0;32m/usr/local/lib/python3.6/dist-packages/tensorflow_core/python/keras/engine/training.py\u001b[0m in \u001b[0;36m_standardize_user_data\u001b[0;34m(self, x, y, sample_weight, class_weight, batch_size, check_steps, steps_name, steps, validation_split, shuffle, extract_tensors_from_dataset)\u001b[0m\n\u001b[1;32m   2412\u001b[0m     \u001b[0;31m# Validates `steps` argument based on x's type.\u001b[0m\u001b[0;34m\u001b[0m\u001b[0;34m\u001b[0m\u001b[0;34m\u001b[0m\u001b[0m\n\u001b[1;32m   2413\u001b[0m     \u001b[0;32mif\u001b[0m \u001b[0mcheck_steps\u001b[0m\u001b[0;34m:\u001b[0m\u001b[0;34m\u001b[0m\u001b[0;34m\u001b[0m\u001b[0m\n\u001b[0;32m-> 2414\u001b[0;31m       \u001b[0mtraining_utils\u001b[0m\u001b[0;34m.\u001b[0m\u001b[0mcheck_steps_argument\u001b[0m\u001b[0;34m(\u001b[0m\u001b[0mx\u001b[0m\u001b[0;34m,\u001b[0m \u001b[0msteps\u001b[0m\u001b[0;34m,\u001b[0m \u001b[0msteps_name\u001b[0m\u001b[0;34m)\u001b[0m\u001b[0;34m\u001b[0m\u001b[0;34m\u001b[0m\u001b[0m\n\u001b[0m\u001b[1;32m   2415\u001b[0m \u001b[0;34m\u001b[0m\u001b[0m\n\u001b[1;32m   2416\u001b[0m     \u001b[0;31m# First, we build the model on the fly if necessary.\u001b[0m\u001b[0;34m\u001b[0m\u001b[0;34m\u001b[0m\u001b[0;34m\u001b[0m\u001b[0m\n",
            "\u001b[0;32m/usr/local/lib/python3.6/dist-packages/tensorflow_core/python/keras/engine/training_utils.py\u001b[0m in \u001b[0;36mcheck_steps_argument\u001b[0;34m(input_data, steps, steps_name)\u001b[0m\n\u001b[1;32m   1197\u001b[0m       raise ValueError('When using {input_type} as input to a model, you should'\n\u001b[1;32m   1198\u001b[0m                        ' specify the `{steps_name}` argument.'.format(\n\u001b[0;32m-> 1199\u001b[0;31m                            input_type=input_type_str, steps_name=steps_name))\n\u001b[0m\u001b[1;32m   1200\u001b[0m     \u001b[0;32mreturn\u001b[0m \u001b[0;32mTrue\u001b[0m\u001b[0;34m\u001b[0m\u001b[0;34m\u001b[0m\u001b[0m\n\u001b[1;32m   1201\u001b[0m \u001b[0;34m\u001b[0m\u001b[0m\n",
            "\u001b[0;31mValueError\u001b[0m: When using data tensors as input to a model, you should specify the `steps` argument."
          ]
        }
      ]
    },
    {
      "cell_type": "code",
      "metadata": {
        "id": "4ppI6oOsIiof",
        "colab_type": "code",
        "colab": {},
        "outputId": "9a110f4a-3f76-48ce-cfb3-3a05ff85a81b"
      },
      "source": [
        "print(f'Shape of training embeddings {embed_train.shape}')\n",
        "print(f'Shape of test embeddings {embed_test.shape}')"
      ],
      "execution_count": 0,
      "outputs": [
        {
          "output_type": "stream",
          "text": [
            "Shape of training embeddings (4532, 1024)\n",
            "Shape of test embeddings (808, 1024)\n"
          ],
          "name": "stdout"
        }
      ]
    },
    {
      "cell_type": "markdown",
      "metadata": {
        "id": "HXb5P66CIioj",
        "colab_type": "text"
      },
      "source": [
        "For every picture we have now the representation as a vector with a size of 1024. We can calculate the cosine similarity between all of them."
      ]
    },
    {
      "cell_type": "code",
      "metadata": {
        "id": "B2G3SS1MIiok",
        "colab_type": "code",
        "colab": {},
        "outputId": "fd6053aa-6b2b-42e6-b18f-2b3353aca344"
      },
      "source": [
        "all_names = np.concatenate((train_files_names, test_files_names))  # Combine the train and test data\n",
        "all_paths = np.concatenate((train_files_paths, test_files_paths))\n",
        "embed_all = np.concatenate((embed_train, embed_test))\n",
        "print(f'Shape of all embeddings {embed_all.shape}')"
      ],
      "execution_count": 0,
      "outputs": [
        {
          "output_type": "stream",
          "text": [
            "Shape of all embeddings (5340, 1024)\n"
          ],
          "name": "stdout"
        }
      ]
    },
    {
      "cell_type": "code",
      "metadata": {
        "id": "eof_hxh5Iion",
        "colab_type": "code",
        "colab": {},
        "outputId": "8580230a-b1c6-4a9f-f630-ab7b1338188e"
      },
      "source": [
        "similarity_matrix = cosine_similarity(embed_test, embed_all)\n",
        "print(f'Shape of the similarity matrix {similarity_matrix.shape}')"
      ],
      "execution_count": 0,
      "outputs": [
        {
          "output_type": "stream",
          "text": [
            "Shape of the similarity matrix (808, 5340)\n"
          ],
          "name": "stdout"
        }
      ]
    },
    {
      "cell_type": "markdown",
      "metadata": {
        "id": "R1lfBNLrIioq",
        "colab_type": "text"
      },
      "source": [
        "For each of the 808 pictures in the test dataset we have the similarity to each of the 5340 other picutres. Let us take a look at one example."
      ]
    },
    {
      "cell_type": "code",
      "metadata": {
        "id": "mpWDsLEoIioq",
        "colab_type": "code",
        "colab": {},
        "outputId": "67ea97ff-6fbf-4540-af3e-c9a295483e7f"
      },
      "source": [
        "index_1 = 666\n",
        "index_2 = 2656\n",
        "print(f'The cosine similarity of picture {index_1} and {index_2} is {similarity_matrix[index_1, index_2]}')"
      ],
      "execution_count": 0,
      "outputs": [
        {
          "output_type": "stream",
          "text": [
            "The cosine similarity of picture 666 and 2656 is 0.5091471076011658\n"
          ],
          "name": "stdout"
        }
      ]
    },
    {
      "cell_type": "markdown",
      "metadata": {
        "id": "1jRjxDstIiot",
        "colab_type": "text"
      },
      "source": [
        "And also at the two respective pictures"
      ]
    },
    {
      "cell_type": "code",
      "metadata": {
        "id": "yed-PkVuIiou",
        "colab_type": "code",
        "colab": {}
      },
      "source": [
        "def show_images(img_paths):\n",
        "    plt.figure(figsize=(30, 30))\n",
        "    image_count = len(img_paths)\n",
        "    for path, n in zip(img_paths, range(image_count)):\n",
        "        ax = plt.subplot(image_count, 4, n + 1)\n",
        "        img = load_img(path)\n",
        "        plt.imshow(img)\n",
        "        plt.title(f'{path.name}, class: {path.parent.name}')"
      ],
      "execution_count": 0,
      "outputs": []
    },
    {
      "cell_type": "code",
      "metadata": {
        "id": "g4vB3CEUIiox",
        "colab_type": "code",
        "colab": {},
        "outputId": "3f83a457-4cea-4a63-febf-8bc5e62e1621"
      },
      "source": [
        "show_images([all_paths[index_1], all_paths[index_2]])"
      ],
      "execution_count": 0,
      "outputs": [
        {
          "output_type": "display_data",
          "data": {
            "image/png": "[encoded data removed]",
            "text/plain": [
              "<Figure size 2160x2160 with 2 Axes>"
            ]
          },
          "metadata": {
            "tags": [],
            "needs_background": "light"
          }
        }
      ]
    },
    {
      "cell_type": "markdown",
      "metadata": {
        "id": "ryyDJ-iuIio2",
        "colab_type": "text"
      },
      "source": [
        "To create a submission, we sort the similarities in descending order and write the twenty most similar pictures in to a file. We use the [np.argsort](https://docs.scipy.org/doc/numpy/reference/generated/numpy.argsort.html) function, which will return the indices to sort our matrix column-wise in ascending order. Since we want to have the direction descending, we will put a **-** before the similarity matrix."
      ]
    },
    {
      "cell_type": "code",
      "metadata": {
        "id": "r-yvHky2Iio2",
        "colab_type": "code",
        "colab": {}
      },
      "source": [
        "indices = np.argsort(-similarity_matrix, axis=1)"
      ],
      "execution_count": 0,
      "outputs": []
    },
    {
      "cell_type": "markdown",
      "metadata": {
        "id": "vgzYj7lsIio5",
        "colab_type": "text"
      },
      "source": [
        "Recall that the format for a submissions is\n",
        "\n",
        "*test_pic, predicted_pic_1, predicted_pic_2, ...., predicted_pic_20*\n",
        "\n",
        "The cosine similarity between a picture and itself is always 1.0. Hence the most similar image is always the image itself and we can create a submission as follows:"
      ]
    },
    {
      "cell_type": "code",
      "metadata": {
        "id": "CfetDF4sIio8",
        "colab_type": "code",
        "colab": {}
      },
      "source": [
        "with open('cosine_preds.csv', 'w') as f:\n",
        "    for i in range(len(test_files_names)):\n",
        "        indices_of_top_predictions = indices[i,:21]  # Get the indices of the 21 most similar images\n",
        "        names_of_top_predictions = all_names[indices_of_top_predictions]  # Get the file names of the 21 most similar images\n",
        "        preds = ','.join(names_of_top_predictions)  # Put a , between the image names\n",
        "        f.write(preds + '\\n')  # Write it in a new line"
      ],
      "execution_count": 0,
      "outputs": []
    },
    {
      "cell_type": "markdown",
      "metadata": {
        "id": "eCIj3Y7rIipA",
        "colab_type": "text"
      },
      "source": [
        "When we upload the submission we get a score of *83.00*. "
      ]
    },
    {
      "cell_type": "markdown",
      "metadata": {
        "id": "8g6DgDr9IipB",
        "colab_type": "text"
      },
      "source": [
        "<font color='blue'>\n",
        "\n",
        "**Best practice:** \n",
        "- Deep Learning models are state-of-the-art for almost every image-type problem\n",
        "- You can use pretrained models to compress the data in an image\n",
        "- The cosine is an good baseline for similarity between vectors\n",
        "- When tackling an AI problem, always start with a simple model. This is called the baseline model"
      ]
    },
    {
      "cell_type": "markdown",
      "metadata": {
        "id": "c8mkHJZtIipB",
        "colab_type": "text"
      },
      "source": [
        "<a id='section6'></a>\n",
        "# Learn, don't define: A better similarity measure\n",
        "\n",
        "The baseline model took existing concepts and applied them to our problem. In other words, we took a standard software-engineering approach. The drawback of this approach is that that we have to manually define every single step. \n",
        "\n",
        "Now let us solve the problem with artificial intelligence, or rather machine learning. Here's the battle plan:\n",
        "\n",
        "- Goal: Our model should learn whether or not two images show the same whale.\n",
        "- Data: Create a dataset of images pairs and a label that denotes if the two images show the same whale.\n",
        "- Architecture: A [Siamese Twin Network](https://towardsdatascience.com/one-shot-learning-with-siamese-networks-using-keras-17f34e75bb3d) fits perfectly to our use case\n",
        "\n",
        "![siamese](https://miro.medium.com/max/1531/1*dFY5gx-Vze3micJ0AMVp0A.jpeg)\n",
        "\n",
        "As the image illustrates, a Siamese Twin Network \n",
        "\n",
        "- takes two images as input\n",
        "- embeds them via a convolutional neural network\n",
        "- computes the absolute difference between the two embeddings\n",
        "- predicts whether or not the images are equal based on the difference.\n",
        "\n",
        "Note that our baseline model is very similar to the siamese twin approach. We computed embeddings with MobileNet and instead of learning the similarity from the absolute difference of the embeddings we used the cosine similarity.\n",
        "\n",
        "*For our next model, we'll keep the MobileNet embeddings and replace the cosine similarity with a learned distance function.*"
      ]
    },
    {
      "cell_type": "markdown",
      "metadata": {
        "id": "coj8MPaGIipC",
        "colab_type": "text"
      },
      "source": [
        "<font color='blue'>\n",
        "    \n",
        "**Best practice:** \n",
        "    \n",
        "- Create an architecture image to illustrate and discuss deep learning models\n",
        "- Learn the different types of layers and when to use them"
      ]
    },
    {
      "cell_type": "markdown",
      "metadata": {
        "id": "zn9A_R54IipD",
        "colab_type": "text"
      },
      "source": [
        "<a id='section6.1'></a>\n",
        "## Examples for the AI: Creating image pairs \n",
        "\n",
        "For the input we need to create pairs of images with a label that is *1* if the images show the same whale and *0* if the images show a different whale. First we create pairs of images with the [combinations](https://stackoverflow.com/questions/942543/operation-on-every-pair-of-element-in-a-list) function.\n",
        "\n",
        "**Exercise:** Read up on how exactly the *combinations* works. Is this the best way to create image pairs? "
      ]
    },
    {
      "cell_type": "code",
      "metadata": {
        "id": "AEKEWJKlIipD",
        "colab_type": "code",
        "colab": {}
      },
      "source": [
        "train_pairs = list(combinations(zip(train_files_names, train_files_classes), 2))"
      ],
      "execution_count": 0,
      "outputs": []
    },
    {
      "cell_type": "markdown",
      "metadata": {
        "id": "gh5Njzq7IipG",
        "colab_type": "text"
      },
      "source": [
        "*train_pairs* consists of tuples where the first entry is the name of the file and the second the corresponding class. E.g."
      ]
    },
    {
      "cell_type": "code",
      "metadata": {
        "id": "UFw54VFZIipH",
        "colab_type": "code",
        "colab": {},
        "outputId": "f80a4645-241a-400b-db79-1478f144507e"
      },
      "source": [
        "train_pairs[0]"
      ],
      "execution_count": 0,
      "outputs": [
        {
          "output_type": "execute_result",
          "data": {
            "text/plain": [
              "(('PM-WWA-20050416-037.jpg', '-1'), ('PM-WWA-20050513-229.jpg', '-1'))"
            ]
          },
          "metadata": {
            "tags": []
          },
          "execution_count": 25
        }
      ]
    },
    {
      "cell_type": "markdown",
      "metadata": {
        "id": "2YZeTGm_IipJ",
        "colab_type": "text"
      },
      "source": [
        "Now we can add the information about the similarity. Two images are similar [iff](https://en.wikipedia.org/wiki/If_and_only_if) they have the same class."
      ]
    },
    {
      "cell_type": "code",
      "metadata": {
        "id": "4umC6uypIipK",
        "colab_type": "code",
        "colab": {}
      },
      "source": [
        "def is_similar(pair):\n",
        "    image_one_class = pair[0][1]\n",
        "    image_two_class = pair[1][1]\n",
        "    if image_one_class == image_two_class:\n",
        "        return 1\n",
        "    else:\n",
        "        return 0"
      ],
      "execution_count": 0,
      "outputs": []
    },
    {
      "cell_type": "code",
      "metadata": {
        "id": "mxt3A4w9IipN",
        "colab_type": "code",
        "colab": {}
      },
      "source": [
        "train_labels = {pair: is_similar(pair) for pair in train_pairs}"
      ],
      "execution_count": 0,
      "outputs": []
    },
    {
      "cell_type": "markdown",
      "metadata": {
        "id": "YWU66FHzIipQ",
        "colab_type": "text"
      },
      "source": [
        "In the example pair from above, both images have the class *-1*. Hence the corresponding label is *1*."
      ]
    },
    {
      "cell_type": "code",
      "metadata": {
        "id": "bHonVSNlIipR",
        "colab_type": "code",
        "colab": {},
        "outputId": "d70adce5-0d45-4260-f5be-c9fd606d3434"
      },
      "source": [
        "train_labels[train_pairs[0]]"
      ],
      "execution_count": 0,
      "outputs": [
        {
          "output_type": "execute_result",
          "data": {
            "text/plain": [
              "1"
            ]
          },
          "metadata": {
            "tags": []
          },
          "execution_count": 28
        }
      ]
    },
    {
      "cell_type": "markdown",
      "metadata": {
        "id": "NjHwTs3jIipT",
        "colab_type": "text"
      },
      "source": [
        "<a id='section6.2'></a>\n",
        "## Feeding examples to the AI\n",
        "Now we have all the information we need and we can start loading the pictures. Since the size of our data might not fit into RAM all at once, we are using the [DataGenerator](https://stanford.edu/~shervine/blog/keras-how-to-generate-data-on-the-fly) class that Keras offers. The DataGenerator class continuously loads our data during the training process.\n",
        "In order to do modelling, we have to define on which data our model can train on. "
      ]
    },
    {
      "cell_type": "code",
      "metadata": {
        "id": "cPT4pAKSIipU",
        "colab_type": "code",
        "colab": {}
      },
      "source": [
        "train_embeddings = {img: embedding for img, embedding in zip(train_files_names, embed_train)}"
      ],
      "execution_count": 0,
      "outputs": []
    },
    {
      "cell_type": "markdown",
      "metadata": {
        "id": "p32HU0QoIipX",
        "colab_type": "text"
      },
      "source": [
        "To speed up the computations, we create a dictionary, i.e. a lookup table, that given the name of a image file returns the precomputed embedding. Together with the pairs and labels we created in the previous section, we can create our own *DataGenerator*.\n",
        "The details will be covered in the next tutorial. If you can't wait, the source code lies in *src.data.process_dataset.py*."
      ]
    },
    {
      "cell_type": "code",
      "metadata": {
        "id": "XNGEbPnBIipY",
        "colab_type": "code",
        "colab": {}
      },
      "source": [
        "train_generator = DataGeneratorFromEmbeddings(train_pairs, train_embeddings, train_labels)"
      ],
      "execution_count": 0,
      "outputs": []
    },
    {
      "cell_type": "markdown",
      "metadata": {
        "id": "RLdb_awfIipe",
        "colab_type": "text"
      },
      "source": [
        "A *DataGenerator* creates tupels of inputs (i.e. embeddings) and expected outputs (i.e. labels) that we can use to train our model. Let us take a look on one example. Per default, one sample consists of 32 embeddings and labels."
      ]
    },
    {
      "cell_type": "code",
      "metadata": {
        "id": "oKYlA3XfIipe",
        "colab_type": "code",
        "colab": {},
        "outputId": "ad5ca6c1-d14f-4530-9c96-2a03775e01bb"
      },
      "source": [
        "embeddings, labels = train_generator.get_sample(0)\n",
        "print(f'The loaded pictures are in shape {embeddings[0].shape}')\n",
        "print(f'The loaded labels are in shape {labels.shape}')"
      ],
      "execution_count": 0,
      "outputs": [
        {
          "output_type": "stream",
          "text": [
            "The loaded pictures are in shape (32, 1024)\n",
            "The loaded labels are in shape (32,)\n"
          ],
          "name": "stdout"
        }
      ]
    },
    {
      "cell_type": "markdown",
      "metadata": {
        "id": "XyExpngCIipg",
        "colab_type": "text"
      },
      "source": [
        "<font color='blue'>\n",
        "    \n",
        "**Best practice:** \n",
        "    \n",
        "- Use a DataGenerator to feed data into your model. \n",
        "- Deep Learning uses a lot of resources. Precomputing and caching data can save a lot of time.\n",
        "- Split the data into a [train and validation subset](https://en.wikipedia.org/wiki/Training,_validation,_and_test_sets) to evaluate the performance of your model during the training."
      ]
    },
    {
      "cell_type": "markdown",
      "metadata": {
        "id": "TMsY00hMIiph",
        "colab_type": "text"
      },
      "source": [
        "**Exercise:** Split the data into train and test set."
      ]
    },
    {
      "cell_type": "markdown",
      "metadata": {
        "id": "YFYLYtzpIipj",
        "colab_type": "text"
      },
      "source": [
        "<a id='section6.3'></a>\n",
        "## Defining the model\n",
        "The next step in our process is the turn the image into an actual model. The following code defines a model that implements the siamese twin network shown above and compiles it.\n",
        "\n",
        "*Note: Usually, you do not need to compile Python code. Tensorflow models are an exception since they are focussed on performance.*"
      ]
    },
    {
      "cell_type": "code",
      "metadata": {
        "id": "gIeADagFIipj",
        "colab_type": "code",
        "colab": {}
      },
      "source": [
        "EMBED_LENGTH = 1024\n",
        "\n",
        "def siamese_net_from_embeddings(learning_rate):    \n",
        "    \"\"\"\n",
        "    Model architecture based on the one provided in: http://www.cs.utoronto.ca/~gkoch/files/msc-thesis.pdf\n",
        "    \"\"\"\n",
        "    input_shape = [EMBED_LENGTH]\n",
        "    embeddings_1 = Input(input_shape)\n",
        "    embeddings_2 = Input(input_shape)\n",
        "\n",
        "    # Add a customized layer to compute the absolute difference between the encodings \n",
        "    absolute_difference = tf.math.abs(embeddings_1 - embeddings_2)\n",
        "    \n",
        "    # Add a dense layer with a sigmoid unit to generate the similarity score\n",
        "    similarity_score = Dense(1, activation='sigmoid', \n",
        "                       bias_initializer=RandomNormal(mean=0.5, stddev=0.01, seed=None))(absolute_difference)\n",
        "    \n",
        "    siamese_net = Model(inputs=[embeddings_1,embeddings_2], outputs=similarity_score)\n",
        "    optimizer = tf.keras.optimizers.Adam(learning_rate)\n",
        "    siamese_net.compile(loss=\"binary_crossentropy\", optimizer=optimizer, metrics=['accuracy'])\n",
        "    return siamese_net"
      ],
      "execution_count": 0,
      "outputs": []
    },
    {
      "cell_type": "markdown",
      "metadata": {
        "id": "h9Vq_gmGIipm",
        "colab_type": "text"
      },
      "source": [
        "To create an actual instance of the model, we only need to specify the [learning rate](https://towardsdatascience.com/understanding-learning-rates-and-how-it-improves-performance-in-deep-learning-d0d4059c1c10). The *summary* function gives an overview of our creation."
      ]
    },
    {
      "cell_type": "code",
      "metadata": {
        "id": "8Tk5n8p1Iipn",
        "colab_type": "code",
        "colab": {},
        "outputId": "81162597-311d-4dda-c0c4-268405e4c710"
      },
      "source": [
        "learning_rate = 0.0001\n",
        "model = siamese_net_from_embeddings(learning_rate)\n",
        "model.summary()"
      ],
      "execution_count": 0,
      "outputs": [
        {
          "output_type": "stream",
          "text": [
            "WARNING:tensorflow:From c:\\users\\dkuehlwe\\pycharmprojects\\global_data_science_challenge_3\\venv\\lib\\site-packages\\tensorflow_core\\python\\keras\\initializers.py:143: calling RandomNormal.__init__ (from tensorflow.python.ops.init_ops) with dtype is deprecated and will be removed in a future version.\n",
            "Instructions for updating:\n",
            "Call initializer instance with the dtype argument instead of passing it to the constructor\n"
          ],
          "name": "stdout"
        },
        {
          "output_type": "stream",
          "text": [
            "2020-02-24 23:33:34,710 deprecation new_func line 506 From c:\\users\\dkuehlwe\\pycharmprojects\\global_data_science_challenge_3\\venv\\lib\\site-packages\\tensorflow_core\\python\\keras\\initializers.py:143: calling RandomNormal.__init__ (from tensorflow.python.ops.init_ops) with dtype is deprecated and will be removed in a future version.\n",
            "Instructions for updating:\n",
            "Call initializer instance with the dtype argument instead of passing it to the constructor\n"
          ],
          "name": "stderr"
        },
        {
          "output_type": "stream",
          "text": [
            "WARNING:tensorflow:From c:\\users\\dkuehlwe\\pycharmprojects\\global_data_science_challenge_3\\venv\\lib\\site-packages\\tensorflow_core\\python\\ops\\nn_impl.py:183: where (from tensorflow.python.ops.array_ops) is deprecated and will be removed in a future version.\n",
            "Instructions for updating:\n",
            "Use tf.where in 2.0, which has the same broadcast rule as np.where\n"
          ],
          "name": "stdout"
        },
        {
          "output_type": "stream",
          "text": [
            "2020-02-24 23:33:34,785 deprecation new_func line 323 From c:\\users\\dkuehlwe\\pycharmprojects\\global_data_science_challenge_3\\venv\\lib\\site-packages\\tensorflow_core\\python\\ops\\nn_impl.py:183: where (from tensorflow.python.ops.array_ops) is deprecated and will be removed in a future version.\n",
            "Instructions for updating:\n",
            "Use tf.where in 2.0, which has the same broadcast rule as np.where\n"
          ],
          "name": "stderr"
        },
        {
          "output_type": "stream",
          "text": [
            "Model: \"model\"\n",
            "__________________________________________________________________________________________________\n",
            "Layer (type)                    Output Shape         Param #     Connected to                     \n",
            "==================================================================================================\n",
            "input_2 (InputLayer)            [(None, 1024)]       0                                            \n",
            "__________________________________________________________________________________________________\n",
            "input_3 (InputLayer)            [(None, 1024)]       0                                            \n",
            "__________________________________________________________________________________________________\n",
            "tf_op_layer_sub (TensorFlowOpLa [(None, 1024)]       0           input_2[0][0]                    \n",
            "                                                                 input_3[0][0]                    \n",
            "__________________________________________________________________________________________________\n",
            "tf_op_layer_Abs (TensorFlowOpLa [(None, 1024)]       0           tf_op_layer_sub[0][0]            \n",
            "__________________________________________________________________________________________________\n",
            "dense (Dense)                   (None, 1)            1025        tf_op_layer_Abs[0][0]            \n",
            "==================================================================================================\n",
            "Total params: 1,025\n",
            "Trainable params: 1,025\n",
            "Non-trainable params: 0\n",
            "__________________________________________________________________________________________________\n"
          ],
          "name": "stdout"
        }
      ]
    },
    {
      "cell_type": "markdown",
      "metadata": {
        "id": "yQYU8ZrqIipp",
        "colab_type": "text"
      },
      "source": [
        "Et voila, we just created our first deep learning model with a measly 1025 different parameters that need to be learned."
      ]
    },
    {
      "cell_type": "markdown",
      "metadata": {
        "id": "7FsowGffIipp",
        "colab_type": "text"
      },
      "source": [
        "<a id='section6.4'></a>\n",
        "## Training the model\n",
        "To make the model learn, we pass image, label pairs to the model. We just have to define the number of times the model is trained with our pairs. This is done with the following parameters\n",
        "\n",
        "* *batch size* is the number of examples used in one training iteration. A higher number leads to more robust results. \n",
        "* *epochs* is the number of iterations\n",
        "* *steps_per_epoch* is the number of batches the model considers per epoch\n",
        "\n",
        "Recall that, we are giving the images as the input to our model and compare the output with the expected output (our label). To measure how good the model is in the current training period, we are using the [binary cross-entropy](https://towardsdatascience.com/understanding-binary-cross-entropy-log-loss-a-visual-explanation-a3ac6025181a) loss. "
      ]
    },
    {
      "cell_type": "code",
      "metadata": {
        "id": "wnkv2FopIipq",
        "colab_type": "code",
        "colab": {},
        "outputId": "bf9dea67-3752-4230-ced6-0a0eba53c06f"
      },
      "source": [
        "model.fit_generator(train_generator, steps_per_epoch=100, epochs=10)"
      ],
      "execution_count": 0,
      "outputs": [
        {
          "output_type": "stream",
          "text": [
            "Epoch 1/10\n",
            "100/100 [==============================] - 1s 10ms/step - loss: 0.2101 - acc: 0.9509\n",
            "Epoch 2/10\n",
            "100/100 [==============================] - 0s 4ms/step - loss: 0.0965 - acc: 0.9834\n",
            "Epoch 3/10\n",
            "100/100 [==============================] - 0s 4ms/step - loss: 0.1108 - acc: 0.9791\n",
            "Epoch 4/10\n",
            "100/100 [==============================] - 0s 5ms/step - loss: 0.0826 - acc: 0.9850\n",
            "Epoch 5/10\n",
            "100/100 [==============================] - 0s 4ms/step - loss: 0.0783 - acc: 0.9859\n",
            "Epoch 6/10\n",
            "100/100 [==============================] - 0s 3ms/step - loss: 0.0937 - acc: 0.9806\n",
            "Epoch 7/10\n",
            "100/100 [==============================] - 0s 4ms/step - loss: 0.0685 - acc: 0.9869\n",
            "Epoch 8/10\n",
            "100/100 [==============================] - 0s 5ms/step - loss: 0.0763 - acc: 0.9850\n",
            "Epoch 9/10\n",
            "100/100 [==============================] - 0s 4ms/step - loss: 0.0847 - acc: 0.9822\n",
            "Epoch 10/10\n",
            "100/100 [==============================] - 0s 3ms/step - loss: 0.0765 - acc: 0.9834\n"
          ],
          "name": "stdout"
        },
        {
          "output_type": "execute_result",
          "data": {
            "text/plain": [
              "<tensorflow.python.keras.callbacks.History at 0x537e1048>"
            ]
          },
          "metadata": {
            "tags": []
          },
          "execution_count": 34
        }
      ]
    },
    {
      "cell_type": "markdown",
      "metadata": {
        "id": "xAvwfYRCIips",
        "colab_type": "text"
      },
      "source": [
        "Figuring out the right now for *epochs*, *steps_per_epoch* and *batch_size* and *learning_rate* is a science in itself.\n",
        "In general, when there are only minor changes in loss and acc, either stop the training or decrease the learning rate."
      ]
    },
    {
      "cell_type": "markdown",
      "metadata": {
        "id": "aExlLel6Iipt",
        "colab_type": "text"
      },
      "source": [
        "<font color='blue'>\n",
        "    \n",
        "**Best practice:** \n",
        "    \n",
        "- When there are only minor changes in loss and acc, either stop the training or decrease the learning rate.\n",
        "- When you set up a separate validation, stop training once the loss and acc is worse on validation than on the training data set. In this case you started to [overfit](https://en.wikipedia.org/wiki/Overfitting)\n",
        "- Keep track of all the results you get!"
      ]
    },
    {
      "cell_type": "markdown",
      "metadata": {
        "id": "bdP6j2X2Iipw",
        "colab_type": "text"
      },
      "source": [
        "<a id='section6.5'></a>\n",
        "## Creating predictions \n",
        "Our model is trained and we can now use it to make predictions to the *test_val* dataset. "
      ]
    },
    {
      "cell_type": "code",
      "metadata": {
        "id": "_A5Wo_-wIipx",
        "colab_type": "code",
        "colab": {}
      },
      "source": [
        "all_embeddings = {img: embedding for img, embedding in zip(all_names, embed_all)}\n",
        "all_file_count = len(all_embeddings)"
      ],
      "execution_count": 0,
      "outputs": []
    },
    {
      "cell_type": "markdown",
      "metadata": {
        "id": "k_5xKKQLIip0",
        "colab_type": "text"
      },
      "source": [
        "The compute the predictions for a single image, we need to pair it with every other image"
      ]
    },
    {
      "cell_type": "code",
      "metadata": {
        "id": "KU00-6hhIip1",
        "colab_type": "code",
        "colab": {}
      },
      "source": [
        "test_file_name = test_files_names[0]\n",
        "mask = all_names != test_file_name  \n",
        "all_other_images = all_names[mask]  # Filter out the test_file_name with the mask\n",
        "assert len(all_other_images) == (all_file_count - 1)  # Use asserts to quickly check assumptions  \n",
        "test_file_pairs = [(test_file_name, other_image) for other_image in all_other_images]  "
      ],
      "execution_count": 0,
      "outputs": []
    },
    {
      "cell_type": "markdown",
      "metadata": {
        "id": "c8UpnkWkIip4",
        "colab_type": "text"
      },
      "source": [
        "And then create a new DataGenerator to create the actual predictions. \n",
        "\n",
        "**Important**: To ensure, that we are predicting for each pair only one similarity, the batch size has to be a multiple of the number of pairs."
      ]
    },
    {
      "cell_type": "code",
      "metadata": {
        "id": "0caBu1faIip6",
        "colab_type": "code",
        "colab": {},
        "outputId": "616ecb8e-42f2-4bcf-ecd7-6c1235ca1ef4"
      },
      "source": [
        "%%time\n",
        "prediction_generator = DataGeneratorFromEmbeddings(test_file_pairs, all_embeddings, labels=None, batch_size=19, shuffle=False)\n",
        "predictions = model.predict_generator(prediction_generator)"
      ],
      "execution_count": 0,
      "outputs": [
        {
          "output_type": "stream",
          "text": [
            "Wall time: 808 ms\n"
          ],
          "name": "stdout"
        }
      ]
    },
    {
      "cell_type": "markdown",
      "metadata": {
        "id": "0yyGCYdyIip9",
        "colab_type": "text"
      },
      "source": [
        "As before, we use *argsort* to sort the results and extract the top 20 predictions"
      ]
    },
    {
      "cell_type": "code",
      "metadata": {
        "id": "ThOvQ9_YIip_",
        "colab_type": "code",
        "colab": {}
      },
      "source": [
        "indices = np.argsort(-predictions, axis=0)\n",
        "names_of_top_predictions = all_other_images[indices[:20]]"
      ],
      "execution_count": 0,
      "outputs": []
    },
    {
      "cell_type": "markdown",
      "metadata": {
        "id": "FssPITrpIiqF",
        "colab_type": "text"
      },
      "source": [
        "With the individual steps working, we can now compute the predictions for every test image"
      ]
    },
    {
      "cell_type": "code",
      "metadata": {
        "id": "NxgDqxGCIiqG",
        "colab_type": "code",
        "colab": {},
        "outputId": "a67cd046-30c7-477c-a8fc-d71b25e4e2ad"
      },
      "source": [
        "%%time\n",
        "siamese_distance_only_preds = []\n",
        "for test_file_name in test_files_names:\n",
        "    mask = all_names != test_file_name\n",
        "    all_other_images = all_names[mask]  \n",
        "    assert len(all_other_images) == (all_file_count - 1)   \n",
        "    test_file_pairs = [(test_file_name, other_image) for other_image in all_other_images]  \n",
        "    \n",
        "    prediction_generator = DataGeneratorFromEmbeddings(test_file_pairs, all_embeddings, labels=None, batch_size=19, shuffle=False)\n",
        "    predictions = model.predict_generator(prediction_generator)\n",
        "    \n",
        "    indices = np.argsort(-predictions, axis=0)\n",
        "    names_of_top_predictions = all_other_images[indices[:20].reshape(-1)]\n",
        "    siamese_distance_only_preds.append(np.concatenate(([test_file_name], names_of_top_predictions)))"
      ],
      "execution_count": 0,
      "outputs": [
        {
          "output_type": "stream",
          "text": [
            "Wall time: 10min 56s\n"
          ],
          "name": "stdout"
        }
      ]
    },
    {
      "cell_type": "markdown",
      "metadata": {
        "id": "wsD9kvjnIiqI",
        "colab_type": "text"
      },
      "source": [
        "And create a new submission file"
      ]
    },
    {
      "cell_type": "code",
      "metadata": {
        "id": "C0hWdTwWIiqI",
        "colab_type": "code",
        "colab": {}
      },
      "source": [
        "with open('siamese_distance_only_preds.csv', 'w') as f:\n",
        "    for entry in siamese_distance_only_preds:\n",
        "        preds = ','.join(entry)  \n",
        "        f.write(preds + '\\n')  "
      ],
      "execution_count": 0,
      "outputs": []
    },
    {
      "cell_type": "markdown",
      "metadata": {
        "id": "PlAnQ3tdIiqK",
        "colab_type": "text"
      },
      "source": [
        "Upon uploading the file, we get a score of *16.01* which is **worse than our baseline**.\n",
        "What is going on?\n",
        "\n",
        "**Excercise:**\n",
        "- Figure out the mistakes we did when training the model and fix them."
      ]
    },
    {
      "cell_type": "markdown",
      "metadata": {
        "id": "hKCapFQ_IiqK",
        "colab_type": "text"
      },
      "source": [
        "<font color='blue'>\n",
        "    \n",
        "**Best practice:** \n",
        "    \n",
        "- If your results are worse than your baseline, you probably made a very basic mistake."
      ]
    },
    {
      "cell_type": "markdown",
      "metadata": {
        "id": "SrKQAtlxIiqL",
        "colab_type": "text"
      },
      "source": [
        "# Summary\n",
        "In this tutorial we learned about deep learning and how it revolutionized image processing.\n",
        "We build a baseline model based on image embeddings and the cosine similarity and finally trained a first deep learning model.\n",
        "Unfortunately, the results we got were worse than our baseline.\n",
        "\n",
        "In the next tutorial we will\n",
        "- Analyse and fix the problems in our current model\n",
        "- Learn how to use AWS to train larger and better models\n",
        "- Discuss potential further improvements"
      ]
    }
  ]
}