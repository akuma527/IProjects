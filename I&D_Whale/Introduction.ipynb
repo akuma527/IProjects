{
  "nbformat": 4,
  "nbformat_minor": 0,
  "metadata": {
    "colab": {
      "name": "Introduction.ipynb",
      "provenance": [],
      "mount_file_id": "18ijYzGDeFSf3OdNi6YdlJU1JU25W2o3r",
      "authorship_tag": "ABX9TyNgq1o7UGcPAstRB4dOn9jT"
    },
    "kernelspec": {
      "name": "python3",
      "display_name": "Python 3"
    },
    "accelerator": "TPU",
    "widgets": {
      "application/vnd.jupyter.widget-state+json": {
        "845bd778d637431193bab79d6c32df8a": {
          "model_module": "@jupyter-widgets/controls",
          "model_name": "HBoxModel",
          "state": {
            "_view_name": "HBoxView",
            "_dom_classes": [],
            "_model_name": "HBoxModel",
            "_view_module": "@jupyter-widgets/controls",
            "_model_module_version": "1.5.0",
            "_view_count": null,
            "_view_module_version": "1.5.0",
            "box_style": "",
            "layout": "IPY_MODEL_7d223394864745ada1e7f87ca9b03fa7",
            "_model_module": "@jupyter-widgets/controls",
            "children": [
              "IPY_MODEL_4224cea2919e4c6d849974f1a7326adf",
              "IPY_MODEL_9771b2f289744b599e19d710c1b90c0b"
            ]
          }
        },
        "7d223394864745ada1e7f87ca9b03fa7": {
          "model_module": "@jupyter-widgets/base",
          "model_name": "LayoutModel",
          "state": {
            "_view_name": "LayoutView",
            "grid_template_rows": null,
            "right": null,
            "justify_content": null,
            "_view_module": "@jupyter-widgets/base",
            "overflow": null,
            "_model_module_version": "1.2.0",
            "_view_count": null,
            "flex_flow": null,
            "width": null,
            "min_width": null,
            "border": null,
            "align_items": null,
            "bottom": null,
            "_model_module": "@jupyter-widgets/base",
            "top": null,
            "grid_column": null,
            "overflow_y": null,
            "overflow_x": null,
            "grid_auto_flow": null,
            "grid_area": null,
            "grid_template_columns": null,
            "flex": null,
            "_model_name": "LayoutModel",
            "justify_items": null,
            "grid_row": null,
            "max_height": null,
            "align_content": null,
            "visibility": null,
            "align_self": null,
            "height": null,
            "min_height": null,
            "padding": null,
            "grid_auto_rows": null,
            "grid_gap": null,
            "max_width": null,
            "order": null,
            "_view_module_version": "1.2.0",
            "grid_template_areas": null,
            "object_position": null,
            "object_fit": null,
            "grid_auto_columns": null,
            "margin": null,
            "display": null,
            "left": null
          }
        },
        "4224cea2919e4c6d849974f1a7326adf": {
          "model_module": "@jupyter-widgets/controls",
          "model_name": "IntProgressModel",
          "state": {
            "_view_name": "ProgressView",
            "style": "IPY_MODEL_48c100f6242143fba177c646c16f4af2",
            "_dom_classes": [],
            "description": "",
            "_model_name": "IntProgressModel",
            "bar_style": "success",
            "max": 5347,
            "_view_module": "@jupyter-widgets/controls",
            "_model_module_version": "1.5.0",
            "value": 5347,
            "_view_count": null,
            "_view_module_version": "1.5.0",
            "orientation": "horizontal",
            "min": 0,
            "description_tooltip": null,
            "_model_module": "@jupyter-widgets/controls",
            "layout": "IPY_MODEL_8ca111b9c84b4bfb95afc181c3c22fc8"
          }
        },
        "9771b2f289744b599e19d710c1b90c0b": {
          "model_module": "@jupyter-widgets/controls",
          "model_name": "HTMLModel",
          "state": {
            "_view_name": "HTMLView",
            "style": "IPY_MODEL_98b9b0850f924432b155d8a79dec5b40",
            "_dom_classes": [],
            "description": "",
            "_model_name": "HTMLModel",
            "placeholder": "​",
            "_view_module": "@jupyter-widgets/controls",
            "_model_module_version": "1.5.0",
            "value": "100% 5347/5347 [00:08&lt;00:00, 656.68it/s]",
            "_view_count": null,
            "_view_module_version": "1.5.0",
            "description_tooltip": null,
            "_model_module": "@jupyter-widgets/controls",
            "layout": "IPY_MODEL_1cb9b0948b0446eca7d331e7d3797308"
          }
        },
        "48c100f6242143fba177c646c16f4af2": {
          "model_module": "@jupyter-widgets/controls",
          "model_name": "ProgressStyleModel",
          "state": {
            "_view_name": "StyleView",
            "_model_name": "ProgressStyleModel",
            "description_width": "",
            "_view_module": "@jupyter-widgets/base",
            "_model_module_version": "1.5.0",
            "_view_count": null,
            "_view_module_version": "1.2.0",
            "bar_color": null,
            "_model_module": "@jupyter-widgets/controls"
          }
        },
        "8ca111b9c84b4bfb95afc181c3c22fc8": {
          "model_module": "@jupyter-widgets/base",
          "model_name": "LayoutModel",
          "state": {
            "_view_name": "LayoutView",
            "grid_template_rows": null,
            "right": null,
            "justify_content": null,
            "_view_module": "@jupyter-widgets/base",
            "overflow": null,
            "_model_module_version": "1.2.0",
            "_view_count": null,
            "flex_flow": null,
            "width": null,
            "min_width": null,
            "border": null,
            "align_items": null,
            "bottom": null,
            "_model_module": "@jupyter-widgets/base",
            "top": null,
            "grid_column": null,
            "overflow_y": null,
            "overflow_x": null,
            "grid_auto_flow": null,
            "grid_area": null,
            "grid_template_columns": null,
            "flex": null,
            "_model_name": "LayoutModel",
            "justify_items": null,
            "grid_row": null,
            "max_height": null,
            "align_content": null,
            "visibility": null,
            "align_self": null,
            "height": null,
            "min_height": null,
            "padding": null,
            "grid_auto_rows": null,
            "grid_gap": null,
            "max_width": null,
            "order": null,
            "_view_module_version": "1.2.0",
            "grid_template_areas": null,
            "object_position": null,
            "object_fit": null,
            "grid_auto_columns": null,
            "margin": null,
            "display": null,
            "left": null
          }
        },
        "98b9b0850f924432b155d8a79dec5b40": {
          "model_module": "@jupyter-widgets/controls",
          "model_name": "DescriptionStyleModel",
          "state": {
            "_view_name": "StyleView",
            "_model_name": "DescriptionStyleModel",
            "description_width": "",
            "_view_module": "@jupyter-widgets/base",
            "_model_module_version": "1.5.0",
            "_view_count": null,
            "_view_module_version": "1.2.0",
            "_model_module": "@jupyter-widgets/controls"
          }
        },
        "1cb9b0948b0446eca7d331e7d3797308": {
          "model_module": "@jupyter-widgets/base",
          "model_name": "LayoutModel",
          "state": {
            "_view_name": "LayoutView",
            "grid_template_rows": null,
            "right": null,
            "justify_content": null,
            "_view_module": "@jupyter-widgets/base",
            "overflow": null,
            "_model_module_version": "1.2.0",
            "_view_count": null,
            "flex_flow": null,
            "width": null,
            "min_width": null,
            "border": null,
            "align_items": null,
            "bottom": null,
            "_model_module": "@jupyter-widgets/base",
            "top": null,
            "grid_column": null,
            "overflow_y": null,
            "overflow_x": null,
            "grid_auto_flow": null,
            "grid_area": null,
            "grid_template_columns": null,
            "flex": null,
            "_model_name": "LayoutModel",
            "justify_items": null,
            "grid_row": null,
            "max_height": null,
            "align_content": null,
            "visibility": null,
            "align_self": null,
            "height": null,
            "min_height": null,
            "padding": null,
            "grid_auto_rows": null,
            "grid_gap": null,
            "max_width": null,
            "order": null,
            "_view_module_version": "1.2.0",
            "grid_template_areas": null,
            "object_position": null,
            "object_fit": null,
            "grid_auto_columns": null,
            "margin": null,
            "display": null,
            "left": null
          }
        }
      }
    }
  },
  "cells": [
    {
      "cell_type": "markdown",
      "metadata": {
        "id": "cOeKdfmU9S8b",
        "colab_type": "text"
      },
      "source": [
        "## Package Import"
      ]
    },
    {
      "cell_type": "code",
      "metadata": {
        "id": "iv3ygbr1vqZT",
        "colab_type": "code",
        "colab": {}
      },
      "source": [
        "import cv2\n",
        "import os\n",
        "import pandas as pd"
      ],
      "execution_count": 0,
      "outputs": []
    },
    {
      "cell_type": "markdown",
      "metadata": {
        "id": "mlFGs2hW9XuQ",
        "colab_type": "text"
      },
      "source": [
        "## Setting Up GDrive"
      ]
    },
    {
      "cell_type": "code",
      "metadata": {
        "id": "_Uv1p3I69Cnx",
        "colab_type": "code",
        "colab": {
          "base_uri": "https://localhost:8080/",
          "height": 126
        },
        "outputId": "dd2034d7-ca9c-4933-aed2-02efe4d82581"
      },
      "source": [
        "from google.colab import drive\n",
        "drive.mount('/content/drive')"
      ],
      "execution_count": 2,
      "outputs": [
        {
          "output_type": "stream",
          "text": [
            "Go to this URL in a browser: https://accounts.google.com/o/oauth2/auth?client_id=947318989803-6bn6qk8qdgf4n4g3pfee6491hc0brc4i.apps.googleusercontent.com&redirect_uri=urn%3aietf%3awg%3aoauth%3a2.0%3aoob&response_type=code&scope=email%20https%3a%2f%2fwww.googleapis.com%2fauth%2fdocs.test%20https%3a%2f%2fwww.googleapis.com%2fauth%2fdrive%20https%3a%2f%2fwww.googleapis.com%2fauth%2fdrive.photos.readonly%20https%3a%2f%2fwww.googleapis.com%2fauth%2fpeopleapi.readonly\n",
            "\n",
            "Enter your authorization code:\n",
            "··········\n",
            "Mounted at /content/drive\n"
          ],
          "name": "stdout"
        }
      ]
    },
    {
      "cell_type": "code",
      "metadata": {
        "id": "dsNG8QLaJ6y4",
        "colab_type": "code",
        "colab": {
          "base_uri": "https://localhost:8080/",
          "height": 35
        },
        "outputId": "03746552-48d2-402a-c640-8dd343d84da6"
      },
      "source": [
        "%cd /content/drive/My Drive/Colab Notebooks/I&D_Whale/data/"
      ],
      "execution_count": 5,
      "outputs": [
        {
          "output_type": "stream",
          "text": [
            "/content/drive/My Drive/Colab Notebooks/I&D_Whale/data\n"
          ],
          "name": "stdout"
        }
      ]
    },
    {
      "cell_type": "code",
      "metadata": {
        "id": "e5Z6dvaZ9REJ",
        "colab_type": "code",
        "colab": {}
      },
      "source": [
        "# !unzip train.zip\n",
        "# !unzip test.zip "
      ],
      "execution_count": 0,
      "outputs": []
    },
    {
      "cell_type": "markdown",
      "metadata": {
        "id": "JS-q6KVFVTCF",
        "colab_type": "text"
      },
      "source": [
        "## Creating train.csv and test.csv"
      ]
    },
    {
      "cell_type": "code",
      "metadata": {
        "id": "bmTslHbpXmll",
        "colab_type": "code",
        "colab": {}
      },
      "source": [
        "train = []\n",
        "for path, subdirs, files in os.walk('train/train/'):\n",
        "    for name in files:\n",
        "        train.append(os.path.join(path, name))\n",
        "\n",
        "test = []\n",
        "for path, subdirs, files in os.walk('test/'):\n",
        "    for name in files:\n",
        "        test.append(os.path.join(path, name))"
      ],
      "execution_count": 0,
      "outputs": []
    },
    {
      "cell_type": "code",
      "metadata": {
        "id": "IfowDDDaS64U",
        "colab_type": "code",
        "colab": {}
      },
      "source": [
        "# # For Train\n",
        "# df = pd.DataFrame([(os.listdir(f'train/train/{x}'), x) for x in os.listdir('train/train/')], \n",
        "#                   columns=['Image', 'Id'])\n",
        "# lst_col = 'Image'\n",
        "\n",
        "# df = pd.DataFrame({\n",
        "#       col:np.repeat(df[col].values, df[lst_col].str.len())\n",
        "#       for col in df.columns.drop(lst_col)}\n",
        "#     ).assign(**{lst_col:np.concatenate(df[lst_col].values)})[df.columns]\n",
        "\n",
        "# df['fil_path'] = train\n",
        "# df.to_csv('train.csv', index=False)\n",
        "\n",
        "# # For Test\n",
        "# df = pd.DataFrame([(x, 0) for x in os.listdir('test/')], \n",
        "#                   columns=['Image', 'Id'])\n",
        "# df['fil_path'] = test\n",
        "# df.to_csv('test.csv', index=False)"
      ],
      "execution_count": 0,
      "outputs": []
    },
    {
      "cell_type": "code",
      "metadata": {
        "id": "zPaHqXgCVrHr",
        "colab_type": "code",
        "colab": {
          "base_uri": "https://localhost:8080/",
          "height": 200
        },
        "outputId": "a10ed259-fe76-4cc5-bd07-60e62a56a1cf"
      },
      "source": [
        "df.head()"
      ],
      "execution_count": 97,
      "outputs": [
        {
          "output_type": "execute_result",
          "data": {
            "text/html": [
              "<div>\n",
              "<style scoped>\n",
              "    .dataframe tbody tr th:only-of-type {\n",
              "        vertical-align: middle;\n",
              "    }\n",
              "\n",
              "    .dataframe tbody tr th {\n",
              "        vertical-align: top;\n",
              "    }\n",
              "\n",
              "    .dataframe thead th {\n",
              "        text-align: right;\n",
              "    }\n",
              "</style>\n",
              "<table border=\"1\" class=\"dataframe\">\n",
              "  <thead>\n",
              "    <tr style=\"text-align: right;\">\n",
              "      <th></th>\n",
              "      <th>Image</th>\n",
              "      <th>Id</th>\n",
              "      <th>fil_path</th>\n",
              "    </tr>\n",
              "  </thead>\n",
              "  <tbody>\n",
              "    <tr>\n",
              "      <th>0</th>\n",
              "      <td>PM-WWA-20170321-046.jpg</td>\n",
              "      <td>0</td>\n",
              "      <td>test/PM-WWA-20170321-046.jpg</td>\n",
              "    </tr>\n",
              "    <tr>\n",
              "      <th>1</th>\n",
              "      <td>PM-WWA-20170321-053.jpg</td>\n",
              "      <td>0</td>\n",
              "      <td>test/PM-WWA-20170321-053.jpg</td>\n",
              "    </tr>\n",
              "    <tr>\n",
              "      <th>2</th>\n",
              "      <td>PM-WWA-20170321-322.jpg</td>\n",
              "      <td>0</td>\n",
              "      <td>test/PM-WWA-20170321-322.jpg</td>\n",
              "    </tr>\n",
              "    <tr>\n",
              "      <th>3</th>\n",
              "      <td>PM-WWA-20170321-332.jpg</td>\n",
              "      <td>0</td>\n",
              "      <td>test/PM-WWA-20170321-332.jpg</td>\n",
              "    </tr>\n",
              "    <tr>\n",
              "      <th>4</th>\n",
              "      <td>PM-WWA-20170321-344.jpg</td>\n",
              "      <td>0</td>\n",
              "      <td>test/PM-WWA-20170321-344.jpg</td>\n",
              "    </tr>\n",
              "  </tbody>\n",
              "</table>\n",
              "</div>"
            ],
            "text/plain": [
              "                     Image  Id                      fil_path\n",
              "0  PM-WWA-20170321-046.jpg   0  test/PM-WWA-20170321-046.jpg\n",
              "1  PM-WWA-20170321-053.jpg   0  test/PM-WWA-20170321-053.jpg\n",
              "2  PM-WWA-20170321-322.jpg   0  test/PM-WWA-20170321-322.jpg\n",
              "3  PM-WWA-20170321-332.jpg   0  test/PM-WWA-20170321-332.jpg\n",
              "4  PM-WWA-20170321-344.jpg   0  test/PM-WWA-20170321-344.jpg"
            ]
          },
          "metadata": {
            "tags": []
          },
          "execution_count": 97
        }
      ]
    },
    {
      "cell_type": "code",
      "metadata": {
        "id": "j509BgP6ZOLF",
        "colab_type": "code",
        "colab": {
          "base_uri": "https://localhost:8080/",
          "height": 35
        },
        "outputId": "34468d30-ae0f-4499-fa53-f4c85a6239b2"
      },
      "source": [
        "train = pd.read_csv('train.csv')\n",
        "test = pd.read_csv('test.csv')\n",
        "tr_list = [(x,p) for _,x,p in train[['Image', 'fil_path']].to_records()]\n",
        "te_list = [(x,p) for _,x,p in test[['Image', 'fil_path']].to_records()]\n",
        "join = dict(tr_list + te_list)\n",
        "len(join), len(tr_list), len(te_list)"
      ],
      "execution_count": 128,
      "outputs": [
        {
          "output_type": "execute_result",
          "data": {
            "text/plain": [
              "(5347, 4539, 808)"
            ]
          },
          "metadata": {
            "tags": []
          },
          "execution_count": 128
        }
      ]
    },
    {
      "cell_type": "code",
      "metadata": {
        "id": "gw1QmaSobb_M",
        "colab_type": "code",
        "colab": {
          "base_uri": "https://localhost:8080/",
          "height": 35
        },
        "outputId": "4e5eb873-89c3-460d-ba45-7567152ac6ad"
      },
      "source": [
        "for p in join:\n",
        "    print(p, join[p])\n",
        "    break"
      ],
      "execution_count": 137,
      "outputs": [
        {
          "output_type": "stream",
          "text": [
            "PM-WWA-20050416-037.jpg train/train/-1/PM-WWA-20050416-037.jpg\n"
          ],
          "name": "stdout"
        }
      ]
    },
    {
      "cell_type": "code",
      "metadata": {
        "id": "6QOsgVi5AfRJ",
        "colab_type": "code",
        "colab": {
          "base_uri": "https://localhost:8080/",
          "height": 173,
          "referenced_widgets": [
            "845bd778d637431193bab79d6c32df8a",
            "7d223394864745ada1e7f87ca9b03fa7",
            "4224cea2919e4c6d849974f1a7326adf",
            "9771b2f289744b599e19d710c1b90c0b",
            "48c100f6242143fba177c646c16f4af2",
            "8ca111b9c84b4bfb95afc181c3c22fc8",
            "98b9b0850f924432b155d8a79dec5b40",
            "1cb9b0948b0446eca7d331e7d3797308"
          ]
        },
        "outputId": "0044f53f-f7db-43c9-c637-388a06b9bb2c"
      },
      "source": [
        "# Determise the size of each image\n",
        "from os.path import isfile\n",
        "from PIL import Image as pil_image\n",
        "from tqdm import tqdm_notebook\n",
        "\n",
        "def expand_path(p):\n",
        "    if isfile(join[p]):\n",
        "        return join[p]\n",
        "    \n",
        "p2size = {}\n",
        "for p in tqdm_notebook(join):\n",
        "    size      = pil_image.open(expand_path(p)).size\n",
        "    p2size[p] = size\n",
        "len(p2size), list(p2size.items())[:5]"
      ],
      "execution_count": 141,
      "outputs": [
        {
          "output_type": "display_data",
          "data": {
            "application/vnd.jupyter.widget-view+json": {
              "model_id": "845bd778d637431193bab79d6c32df8a",
              "version_minor": 0,
              "version_major": 2
            },
            "text/plain": [
              "HBox(children=(IntProgress(value=0, max=5347), HTML(value='')))"
            ]
          },
          "metadata": {
            "tags": []
          }
        },
        {
          "output_type": "stream",
          "text": [
            "\n"
          ],
          "name": "stdout"
        },
        {
          "output_type": "execute_result",
          "data": {
            "text/plain": [
              "(5347,\n",
              " [('PM-WWA-20050416-037.jpg', (3072, 2048)),\n",
              "  ('PM-WWA-20050513-229.jpg', (504, 356)),\n",
              "  ('PM-WWA-20050513-243.jpg', (852, 496)),\n",
              "  ('PM-WWA-20050520-134.jpg', (367, 181)),\n",
              "  ('PM-WWA-20050612-047.jpg', (932, 584))])"
            ]
          },
          "metadata": {
            "tags": []
          },
          "execution_count": 141
        }
      ]
    },
    {
      "cell_type": "code",
      "metadata": {
        "id": "mAAq_QjtCeRy",
        "colab_type": "code",
        "colab": {
          "base_uri": "https://localhost:8080/",
          "height": 124
        },
        "outputId": "2d775490-1450-4f06-b13a-320d5c0abd80"
      },
      "source": [
        "!pip install imagehash"
      ],
      "execution_count": 139,
      "outputs": [
        {
          "output_type": "stream",
          "text": [
            "Requirement already satisfied: imagehash in /usr/local/lib/python3.6/dist-packages (4.0)\n",
            "Requirement already satisfied: pillow in /usr/local/lib/python3.6/dist-packages (from imagehash) (6.2.2)\n",
            "Requirement already satisfied: pywavelets in /usr/local/lib/python3.6/dist-packages (from imagehash) (1.1.1)\n",
            "Requirement already satisfied: numpy in /usr/local/lib/python3.6/dist-packages (from imagehash) (1.17.5)\n",
            "Requirement already satisfied: six in /usr/local/lib/python3.6/dist-packages (from imagehash) (1.12.0)\n",
            "Requirement already satisfied: scipy in /usr/local/lib/python3.6/dist-packages (from imagehash) (1.4.1)\n"
          ],
          "name": "stdout"
        }
      ]
    },
    {
      "cell_type": "markdown",
      "metadata": {
        "id": "7FXd59wCrhO3",
        "colab_type": "text"
      },
      "source": [
        "# A Heuristic Based Approach to identify Duplicate Images"
      ]
    },
    {
      "cell_type": "code",
      "metadata": {
        "id": "u1uAFPUbA33I",
        "colab_type": "code",
        "colab": {}
      },
      "source": [
        "# # Read or generate p2h, a dictionary of image name to image id (picture to hash)\n",
        "# import pickle\n",
        "# import numpy as np\n",
        "# from imagehash import phash\n",
        "# from math import sqrt\n",
        "\n",
        "\n",
        "# # Two phash values are considered duplicate if, for all associated image pairs:\n",
        "# # 1) They have the same mode and size;\n",
        "# # 2) After normalizing the pixel to zero mean and variance 1.0, the mean square error does not exceed 0.1\n",
        "# def match(h1,h2):\n",
        "#     for p1 in h2ps[h1]:\n",
        "#         for p2 in h2ps[h2]:\n",
        "#             i1 =  pil_image.open(expand_path(p1))\n",
        "#             i2 =  pil_image.open(expand_path(p2))\n",
        "#             if i1.mode != i2.mode or i1.size != i2.size: return False, None\n",
        "#             a1 = np.array(i1)\n",
        "#             a1 = a1 - a1.mean()\n",
        "#             a1 = a1/sqrt((a1**2).mean())\n",
        "#             a2 = np.array(i2)\n",
        "#             a2 = a2 - a2.mean()\n",
        "#             a2 = a2/sqrt((a2**2).mean())\n",
        "#             a  = ((a1 - a2)**2).mean()\n",
        "#             # print(a)\n",
        "#             if a > -1: return False, a\n",
        "#     return True, a\n",
        "\n",
        "\n",
        "# if isfile('pickled_obj/p1.pickle'):\n",
        "#     with open('pickled_obj/p2h.pickle', 'rb') as f:\n",
        "#         p2h = pickle.load(f)\n",
        "# else:\n",
        "#     # Compute phash for each image in the training and test set.\n",
        "#     p2h = {}\n",
        "#     for p in tqdm_notebook(join):\n",
        "#         img    = pil_image.open(expand_path(p))\n",
        "#         h      = phash(img)\n",
        "#         p2h[p] = h\n",
        "\n",
        "#     # Find all images associated with a given phash value.\n",
        "#     h2ps = {}\n",
        "#     for p,h in p2h.items():\n",
        "#         if h not in h2ps: h2ps[h] = []\n",
        "#         if p not in h2ps[h]: h2ps[h].append(p)\n",
        "\n",
        "#     # Find all distinct phash values\n",
        "#     hs = list(h2ps.keys())\n",
        "\n",
        "#     # If the images are close enough, associate the two phash values (this is the slow part: n^2 algorithm)\n",
        "#     h2h = {}\n",
        "#     h1_h2 = []\n",
        "#     a_val = []\n",
        "#     for i,h1 in enumerate(tqdm_notebook(hs)):\n",
        "#         for h2 in hs[:i]:\n",
        "#             # print(match(h1, h2))\n",
        "#             flag, a = match(h1, h2)\n",
        "#             a_val.append(a)\n",
        "#             h1_h2.append(h1-h2)\n",
        "#             if (h1-h2 <= 6) and (flag=='True'):\n",
        "#                 s1 = str(h1)\n",
        "#                 s2 = str(h2)\n",
        "#                 if s1 < s2: s1,s2 = s2,s1\n",
        "#                 h2h[s1] = s2\n",
        "\n",
        "#     # Group together images with equivalent phash, and replace by string format of phash (faster and more readable)\n",
        "#     for p,h in p2h.items():\n",
        "#         h = str(h)\n",
        "#         if h in h2h: h = h2h[h]\n",
        "#         p2h[p] = h\n",
        "\n",
        "# len(p2h), list(p2h.items())[:5]"
      ],
      "execution_count": 0,
      "outputs": []
    },
    {
      "cell_type": "code",
      "metadata": {
        "id": "Khe0LtS9CcRY",
        "colab_type": "code",
        "colab": {}
      },
      "source": [
        "# os.mkdir('pickled_obj')      #Open this only if you don't have a folder called 'pickled_obj'\n",
        "# with open('pickled_obj/p2h.pickle', 'wb') as fp:\n",
        "#     pickle.dump(p2h, fp)"
      ],
      "execution_count": 0,
      "outputs": []
    },
    {
      "cell_type": "code",
      "metadata": {
        "id": "GWkcdFlgEqP2",
        "colab_type": "code",
        "colab": {
          "base_uri": "https://localhost:8080/",
          "height": 124
        },
        "outputId": "8b0a2604-bc2f-4837-f5fe-9cd3f860ca4d"
      },
      "source": [
        "# For each image id, determine the list of pictures\n",
        "h2ps = {}\n",
        "for p,h in p2h.items():\n",
        "    if h not in h2ps: h2ps[h] = []\n",
        "    if p not in h2ps[h]: h2ps[h].append(p)\n",
        "# Notice how 25460 images use only 20913 distinct image ids.\n",
        "len(h2ps),list(h2ps.items())[:5]"
      ],
      "execution_count": 147,
      "outputs": [
        {
          "output_type": "execute_result",
          "data": {
            "text/plain": [
              "(5347,\n",
              " [('c186fc81c3dca3e3', ['PM-WWA-20050416-037.jpg']),\n",
              "  ('f69588d7660198ee', ['PM-WWA-20050513-229.jpg']),\n",
              "  ('e3289cc3b73c2cc3', ['PM-WWA-20050513-243.jpg']),\n",
              "  ('f9929c78c369a436', ['PM-WWA-20050520-134.jpg']),\n",
              "  ('b3eccc23722c8c97', ['PM-WWA-20050612-047.jpg'])])"
            ]
          },
          "metadata": {
            "tags": []
          },
          "execution_count": 147
        }
      ]
    },
    {
      "cell_type": "code",
      "metadata": {
        "id": "1kokUtu6g-fY",
        "colab_type": "code",
        "colab": {
          "base_uri": "https://localhost:8080/",
          "height": 48
        },
        "outputId": "547a5db7-6274-47d8-f859-0bac40316fca"
      },
      "source": [
        "df = pd.DataFrame(h2ps.items(), columns=['hash', 'imgs'])\n",
        "df['cc'] = df['imgs'].apply(lambda x: len(x))\n",
        "df[df['cc']>1]"
      ],
      "execution_count": 154,
      "outputs": [
        {
          "output_type": "execute_result",
          "data": {
            "text/html": [
              "<div>\n",
              "<style scoped>\n",
              "    .dataframe tbody tr th:only-of-type {\n",
              "        vertical-align: middle;\n",
              "    }\n",
              "\n",
              "    .dataframe tbody tr th {\n",
              "        vertical-align: top;\n",
              "    }\n",
              "\n",
              "    .dataframe thead th {\n",
              "        text-align: right;\n",
              "    }\n",
              "</style>\n",
              "<table border=\"1\" class=\"dataframe\">\n",
              "  <thead>\n",
              "    <tr style=\"text-align: right;\">\n",
              "      <th></th>\n",
              "      <th>hash</th>\n",
              "      <th>imgs</th>\n",
              "      <th>cc</th>\n",
              "    </tr>\n",
              "  </thead>\n",
              "  <tbody>\n",
              "  </tbody>\n",
              "</table>\n",
              "</div>"
            ],
            "text/plain": [
              "Empty DataFrame\n",
              "Columns: [hash, imgs, cc]\n",
              "Index: []"
            ]
          },
          "metadata": {
            "tags": []
          },
          "execution_count": 154
        }
      ]
    },
    {
      "cell_type": "code",
      "metadata": {
        "id": "5MxjtsB3FHGx",
        "colab_type": "code",
        "colab": {}
      },
      "source": [
        "# Show an example of a duplicate image (from training of test set)\n",
        "import matplotlib.pyplot as plt\n",
        "\n",
        "def show_whale(imgs, per_row=2):\n",
        "    n         = len(imgs)\n",
        "    rows      = (n + per_row - 1)//per_row\n",
        "    cols      = min(per_row, n)\n",
        "    fig, axes = plt.subplots(rows,cols, figsize=(24//per_row*cols,24//per_row*rows))\n",
        "    for ax in axes.flatten(): ax.axis('off')\n",
        "    for i,(img,ax) in enumerate(zip(imgs, axes.flatten())): ax.imshow(img.convert('RGB'))\n",
        "\n",
        "for h, ps in h2ps.items():\n",
        "    if len(ps) > 2:\n",
        "        print('Images:', ps)\n",
        "        imgs = [pil_image.open(expand_path(p)) for p in ps]\n",
        "        show_whale(imgs, per_row=len(ps))\n",
        "        break"
      ],
      "execution_count": 0,
      "outputs": []
    },
    {
      "cell_type": "code",
      "metadata": {
        "id": "Sj4y8FGBGJAz",
        "colab_type": "code",
        "colab": {}
      },
      "source": [
        ""
      ],
      "execution_count": 0,
      "outputs": []
    }
  ]
}