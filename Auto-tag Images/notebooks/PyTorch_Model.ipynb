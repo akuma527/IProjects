{
 "cells": [
  {
   "cell_type": "code",
   "execution_count": 1,
   "metadata": {
    "ExecuteTime": {
     "end_time": "2020-03-14T07:43:01.901490Z",
     "start_time": "2020-03-14T07:42:23.760181Z"
    },
    "colab": {},
    "colab_type": "code",
    "id": "_AFSb318cKKG"
   },
   "outputs": [],
   "source": [
    "import pandas as pd\n",
    "from PIL import Image\n",
    "from torchvision.transforms import ToTensor, ToPILImage\n",
    "import numpy as np\n",
    "import random\n",
    "import tarfile\n",
    "import io\n",
    "import os\n",
    "from torch.utils.data import Dataset\n",
    "import torch\n",
    "from torch.autograd import Variable\n",
    "import cv2\n",
    "from sklearn.preprocessing import LabelEncoder\n",
    "%matplotlib inline"
   ]
  },
  {
   "cell_type": "code",
   "execution_count": 2,
   "metadata": {
    "ExecuteTime": {
     "end_time": "2020-03-14T07:43:29.527471Z",
     "start_time": "2020-03-14T07:43:29.514176Z"
    },
    "colab": {
     "base_uri": "https://localhost:8080/",
     "height": 35
    },
    "colab_type": "code",
    "id": "yVVAHOAvjpq0",
    "outputId": "0760eb9a-b2ce-4b41-a01f-e6f4b2feb3cf"
   },
   "outputs": [
    {
     "data": {
      "text/plain": [
       "['.ipynb_checkpoints', 'DataLoaderClass_PyTorch.ipynb', 'PyTorch_Model.ipynb']"
      ]
     },
     "execution_count": 2,
     "metadata": {},
     "output_type": "execute_result"
    }
   ],
   "source": [
    "import os\n",
    "os.listdir()"
   ]
  },
  {
   "cell_type": "code",
   "execution_count": 3,
   "metadata": {
    "ExecuteTime": {
     "end_time": "2020-03-14T07:43:50.179223Z",
     "start_time": "2020-03-14T07:43:49.969155Z"
    },
    "colab": {
     "base_uri": "https://localhost:8080/",
     "height": 35
    },
    "colab_type": "code",
    "id": "z0yQGgxZEclJ",
    "outputId": "5dd3d06b-3259-4f48-d705-de85d2a7ff6e"
   },
   "outputs": [
    {
     "data": {
      "text/plain": [
       "LabelEncoder()"
      ]
     },
     "execution_count": 3,
     "metadata": {},
     "output_type": "execute_result"
    }
   ],
   "source": [
    "la = LabelEncoder()\n",
    "la.fit(pd.read_csv('../dataset/train.csv')['Class'])"
   ]
  },
  {
   "cell_type": "code",
   "execution_count": 34,
   "metadata": {
    "ExecuteTime": {
     "end_time": "2020-03-14T08:48:08.546172Z",
     "start_time": "2020-03-14T08:48:08.531210Z"
    },
    "colab": {},
    "colab_type": "code",
    "id": "8sLNKc05j3YV"
   },
   "outputs": [],
   "source": [
    "class YourDataset(Dataset):\n",
    "    def __init__(self, txt_path='filelist.txt', img_dir='data', testdata=False, transform=None):\n",
    "        \"\"\"\n",
    "        Initialize data set as a list of IDs corresponding to each item of data set\n",
    "\n",
    "        :param img_dir: path to image files as a uncompressed tar archive\n",
    "        :param txt_path: a text file containing names of all of images line by line\n",
    "        :param transform: apply some transforms like cropping, rotating, etc on input image\n",
    "        \"\"\"\n",
    "\n",
    "        df = pd.read_csv(txt_path)\n",
    "        self.img_names = df.Image.values\n",
    "        self.testdata = testdata\n",
    "        if not self.testdata:\n",
    "            self.target =(la.transform(df['Class']).reshape(-1,1))\n",
    "        self.txt_path = txt_path\n",
    "        self.img_dir = img_dir\n",
    "        self.transform = transform\n",
    "        self.to_tensor = ToTensor()\n",
    "        self.to_pil = ToPILImage()\n",
    "        self.get_image_selector = True if img_dir.__contains__('tar') else False\n",
    "        self.tf = tarfile.open(self.img_dir) if self.get_image_selector else None\n",
    "\n",
    "    def get_image_from_tar(self, name):\n",
    "        \"\"\"\n",
    "        Gets a image by a name gathered from file list csv file\n",
    "\n",
    "        :param name: name of targeted image\n",
    "        :return: a PIL image\n",
    "        \"\"\"\n",
    "        image = self.tf.extractfile(name)\n",
    "        image = image.read()\n",
    "        image = Image.open(io.BytesIO(image))\n",
    "        return image\n",
    "\n",
    "    def get_image_from_folder(self, name):\n",
    "        \"\"\"\n",
    "        gets a image by a name gathered from file list text file\n",
    "\n",
    "        :param name: name of targeted image\n",
    "        :return: a PIL image\n",
    "        \"\"\"\n",
    "        image = cv2.imread(os.path.join(self.img_dir, name))\n",
    "        myimage = Image.fromarray(image)\n",
    "        # image = Image.open(os.path.join(self.img_dir, name))\n",
    "        return myimage\n",
    "\n",
    "    def __len__(self):\n",
    "        \"\"\"\n",
    "        Return the length of data set using list of IDs\n",
    "\n",
    "        :return: number of samples in data set\n",
    "        \"\"\"\n",
    "        return len(self.img_names)\n",
    "\n",
    "    def __getitem__(self, index):\n",
    "        \"\"\"\n",
    "        Generate one item of data set.\n",
    "\n",
    "        :param index: index of item in IDs list\n",
    "\n",
    "        :return: a sample of data as a dict\n",
    "        \"\"\"\n",
    "\n",
    "        if index == (self.__len__() - 1) and self.get_image_selector:  # close tarfile opened in __init__\n",
    "            self.tf.close()\n",
    "\n",
    "        if self.get_image_selector:  # note: we prefer to extract then process!\n",
    "            X = self.get_image_from_tar(self.img_names[index])\n",
    "        else:\n",
    "            X = self.get_image_from_folder(self.img_names[index])\n",
    "            \n",
    "            if not self.testdata:\n",
    "                Y = self.target[index]\n",
    "\n",
    "        if self.transform is not None:\n",
    "            X = self.transform(X)\n",
    "\n",
    "        if not self.testdata:\n",
    "            sample = {'X': X,\n",
    "                      'Y': Y}\n",
    "        if self.testdata:\n",
    "            sample = {'X': X}\n",
    "\n",
    "        return sample"
   ]
  },
  {
   "cell_type": "markdown",
   "metadata": {
    "colab_type": "text",
    "id": "M9whwwyWcKKi"
   },
   "source": [
    "# Pytorch Model"
   ]
  },
  {
   "cell_type": "code",
   "execution_count": 35,
   "metadata": {
    "ExecuteTime": {
     "end_time": "2020-03-14T08:48:09.424627Z",
     "start_time": "2020-03-14T08:48:09.420632Z"
    },
    "colab": {},
    "colab_type": "code",
    "id": "AybH6S6AcKKk"
   },
   "outputs": [],
   "source": [
    "import torch\n",
    "from torch import nn"
   ]
  },
  {
   "cell_type": "code",
   "execution_count": 36,
   "metadata": {
    "ExecuteTime": {
     "end_time": "2020-03-14T08:48:09.691479Z",
     "start_time": "2020-03-14T08:48:09.687489Z"
    },
    "colab": {},
    "colab_type": "code",
    "id": "kXukkolEcKKo"
   },
   "outputs": [],
   "source": [
    "from torchvision import models"
   ]
  },
  {
   "cell_type": "markdown",
   "metadata": {
    "colab_type": "text",
    "id": "dF2JQTIrcKKr"
   },
   "source": [
    "# Defining Model Architecture"
   ]
  },
  {
   "cell_type": "code",
   "execution_count": 37,
   "metadata": {
    "ExecuteTime": {
     "end_time": "2020-03-14T08:48:14.201026Z",
     "start_time": "2020-03-14T08:48:12.277172Z"
    },
    "colab": {
     "base_uri": "https://localhost:8080/",
     "height": 84,
     "referenced_widgets": [
      "ed2033211f8043bebff02798d2a97d93",
      "9cdf2c3d8ea34377beab36de6e65e887",
      "7624e04c5e2847fc8d0c9675573e5b23",
      "127ae632cc0f4dde82892fde6c75018b",
      "54fd29ef2f0242369ad444df7efa5349",
      "7246166dbe8f43cc9fa1d02fec4dbc7d",
      "effafc8c76434513943549b7031e1c8a",
      "ba2ac4394f1d46619467026a66614fdd"
     ]
    },
    "colab_type": "code",
    "id": "OMUSa_rjcKKs",
    "outputId": "8b282d88-15bf-4783-f2fd-eb4a8a81d16f"
   },
   "outputs": [],
   "source": [
    "model = models.vgg16(pretrained=True, progress=True)"
   ]
  },
  {
   "cell_type": "code",
   "execution_count": 38,
   "metadata": {
    "ExecuteTime": {
     "end_time": "2020-03-14T08:48:14.209007Z",
     "start_time": "2020-03-14T08:48:14.203022Z"
    },
    "colab": {},
    "colab_type": "code",
    "id": "5PugeIHfcKKv"
   },
   "outputs": [],
   "source": [
    "# Freezing other layers of the model\n",
    "for p in model.parameters():\n",
    "    p.requires_grad = False"
   ]
  },
  {
   "cell_type": "code",
   "execution_count": 39,
   "metadata": {
    "ExecuteTime": {
     "end_time": "2020-03-14T08:48:14.780600Z",
     "start_time": "2020-03-14T08:48:14.773621Z"
    },
    "colab": {},
    "colab_type": "code",
    "id": "jNHLx4TzcKK5"
   },
   "outputs": [],
   "source": [
    "model.classifier._modules['6'] = torch.nn.Linear(4096, 4)"
   ]
  },
  {
   "cell_type": "code",
   "execution_count": 40,
   "metadata": {
    "ExecuteTime": {
     "end_time": "2020-03-14T08:48:15.781924Z",
     "start_time": "2020-03-14T08:48:15.775939Z"
    },
    "colab": {
     "base_uri": "https://localhost:8080/",
     "height": 35
    },
    "colab_type": "code",
    "id": "F-v8EdwNfRvO",
    "outputId": "d71c1be5-7311-4b58-bd84-46890ee717ea"
   },
   "outputs": [
    {
     "name": "stdout",
     "output_type": "stream",
     "text": [
      "Running on the GPU\n"
     ]
    }
   ],
   "source": [
    "if torch.cuda.is_available():\n",
    "    device = torch.device(\"cuda:0\")  # you can continue going on here, like cuda:1 cuda:2....etc. \n",
    "    print(\"Running on the GPU\")"
   ]
  },
  {
   "cell_type": "code",
   "execution_count": 41,
   "metadata": {
    "ExecuteTime": {
     "end_time": "2020-03-14T08:48:17.287848Z",
     "start_time": "2020-03-14T08:48:16.491849Z"
    },
    "colab": {
     "base_uri": "https://localhost:8080/",
     "height": 817
    },
    "colab_type": "code",
    "id": "yhR83q_mfndm",
    "outputId": "76f04594-ee81-435b-8210-9ff8479c5c89"
   },
   "outputs": [
    {
     "data": {
      "text/plain": [
       "VGG(\n",
       "  (features): Sequential(\n",
       "    (0): Conv2d(3, 64, kernel_size=(3, 3), stride=(1, 1), padding=(1, 1))\n",
       "    (1): ReLU(inplace=True)\n",
       "    (2): Conv2d(64, 64, kernel_size=(3, 3), stride=(1, 1), padding=(1, 1))\n",
       "    (3): ReLU(inplace=True)\n",
       "    (4): MaxPool2d(kernel_size=2, stride=2, padding=0, dilation=1, ceil_mode=False)\n",
       "    (5): Conv2d(64, 128, kernel_size=(3, 3), stride=(1, 1), padding=(1, 1))\n",
       "    (6): ReLU(inplace=True)\n",
       "    (7): Conv2d(128, 128, kernel_size=(3, 3), stride=(1, 1), padding=(1, 1))\n",
       "    (8): ReLU(inplace=True)\n",
       "    (9): MaxPool2d(kernel_size=2, stride=2, padding=0, dilation=1, ceil_mode=False)\n",
       "    (10): Conv2d(128, 256, kernel_size=(3, 3), stride=(1, 1), padding=(1, 1))\n",
       "    (11): ReLU(inplace=True)\n",
       "    (12): Conv2d(256, 256, kernel_size=(3, 3), stride=(1, 1), padding=(1, 1))\n",
       "    (13): ReLU(inplace=True)\n",
       "    (14): Conv2d(256, 256, kernel_size=(3, 3), stride=(1, 1), padding=(1, 1))\n",
       "    (15): ReLU(inplace=True)\n",
       "    (16): MaxPool2d(kernel_size=2, stride=2, padding=0, dilation=1, ceil_mode=False)\n",
       "    (17): Conv2d(256, 512, kernel_size=(3, 3), stride=(1, 1), padding=(1, 1))\n",
       "    (18): ReLU(inplace=True)\n",
       "    (19): Conv2d(512, 512, kernel_size=(3, 3), stride=(1, 1), padding=(1, 1))\n",
       "    (20): ReLU(inplace=True)\n",
       "    (21): Conv2d(512, 512, kernel_size=(3, 3), stride=(1, 1), padding=(1, 1))\n",
       "    (22): ReLU(inplace=True)\n",
       "    (23): MaxPool2d(kernel_size=2, stride=2, padding=0, dilation=1, ceil_mode=False)\n",
       "    (24): Conv2d(512, 512, kernel_size=(3, 3), stride=(1, 1), padding=(1, 1))\n",
       "    (25): ReLU(inplace=True)\n",
       "    (26): Conv2d(512, 512, kernel_size=(3, 3), stride=(1, 1), padding=(1, 1))\n",
       "    (27): ReLU(inplace=True)\n",
       "    (28): Conv2d(512, 512, kernel_size=(3, 3), stride=(1, 1), padding=(1, 1))\n",
       "    (29): ReLU(inplace=True)\n",
       "    (30): MaxPool2d(kernel_size=2, stride=2, padding=0, dilation=1, ceil_mode=False)\n",
       "  )\n",
       "  (avgpool): AdaptiveAvgPool2d(output_size=(7, 7))\n",
       "  (classifier): Sequential(\n",
       "    (0): Linear(in_features=25088, out_features=4096, bias=True)\n",
       "    (1): ReLU(inplace=True)\n",
       "    (2): Dropout(p=0.5, inplace=False)\n",
       "    (3): Linear(in_features=4096, out_features=4096, bias=True)\n",
       "    (4): ReLU(inplace=True)\n",
       "    (5): Dropout(p=0.5, inplace=False)\n",
       "    (6): Linear(in_features=4096, out_features=4, bias=True)\n",
       "  )\n",
       ")"
      ]
     },
     "execution_count": 41,
     "metadata": {},
     "output_type": "execute_result"
    }
   ],
   "source": [
    "model.to(device)"
   ]
  },
  {
   "cell_type": "code",
   "execution_count": 42,
   "metadata": {
    "ExecuteTime": {
     "end_time": "2020-03-14T08:48:19.678587Z",
     "start_time": "2020-03-14T08:48:19.672601Z"
    },
    "colab": {},
    "colab_type": "code",
    "id": "euW3scSJcKK9"
   },
   "outputs": [],
   "source": [
    "import torch.optim as optim\n",
    "criterion = nn.CrossEntropyLoss() \n",
    "optimizer = optim.SGD(model.classifier.parameters(), lr=0.001, momentum=0.9)#lr 0.001"
   ]
  },
  {
   "cell_type": "markdown",
   "metadata": {
    "colab_type": "text",
    "id": "VSxh9hqycKLB"
   },
   "source": [
    "# Defining Transformations"
   ]
  },
  {
   "cell_type": "code",
   "execution_count": 43,
   "metadata": {
    "ExecuteTime": {
     "end_time": "2020-03-14T08:48:20.816167Z",
     "start_time": "2020-03-14T08:48:20.807223Z"
    },
    "colab": {},
    "colab_type": "code",
    "id": "uDldrcjRcKLD"
   },
   "outputs": [],
   "source": [
    "from torchvision import transforms\n",
    "\n",
    "# Define train transforms\n",
    "train_transforms = transforms.Compose([\n",
    "    transforms.RandomRotation(30),\n",
    "    transforms.RandomResizedCrop(224),\n",
    "    transforms.RandomHorizontalFlip(),\n",
    "    transforms.ToTensor(),\n",
    "    transforms.Normalize([0.5, 0.5, 0.5],  # 3 channels (RGB) for colored images\n",
    "                         [0.5, 0.5, 0.5])\n",
    "])\n",
    "\n",
    "# Define test transforms\n",
    "test_transforms = transforms.Compose([\n",
    "    transforms.ToTensor(),\n",
    "    transforms.Normalize([0.5, 0.5, 0.5],  # 3 channels (RGB) for colored images\n",
    "                         [0.5, 0.5, 0.5])\n",
    "])"
   ]
  },
  {
   "cell_type": "code",
   "execution_count": 44,
   "metadata": {
    "ExecuteTime": {
     "end_time": "2020-03-14T08:48:21.784374Z",
     "start_time": "2020-03-14T08:48:21.761445Z"
    },
    "colab": {},
    "colab_type": "code",
    "id": "-4-3qBP1cKLH"
   },
   "outputs": [],
   "source": [
    "from torchvision import datasets\n",
    "\n",
    "train_data = YourDataset(txt_path='../dataset/train.csv', img_dir='../dataset/train_images/', transform=train_transforms)\n",
    "test_data = YourDataset(txt_path='../dataset/test.csv', img_dir='../dataset/test_images/', testdata=True, transform=test_transforms)"
   ]
  },
  {
   "cell_type": "code",
   "execution_count": 45,
   "metadata": {
    "ExecuteTime": {
     "end_time": "2020-03-14T08:48:22.390763Z",
     "start_time": "2020-03-14T08:48:22.386739Z"
    },
    "colab": {},
    "colab_type": "code",
    "id": "AzVbOeqIltJQ"
   },
   "outputs": [],
   "source": [
    "# from torchsummary import summary\n",
    "# summary(model, (3, 224, 224))"
   ]
  },
  {
   "cell_type": "code",
   "execution_count": 46,
   "metadata": {
    "ExecuteTime": {
     "end_time": "2020-03-14T08:48:22.831054Z",
     "start_time": "2020-03-14T08:48:22.825069Z"
    },
    "colab": {},
    "colab_type": "code",
    "id": "0dzjLDCncKLK"
   },
   "outputs": [],
   "source": [
    "from torch.utils.data import random_split\n",
    "\n",
    "# calculate size of train and validation sets\n",
    "train_size = int(0.8 * len(train_data))\n",
    "valid_size = len(train_data) - train_size\n",
    "partial_train_ds, valid_ds = random_split(train_data, [train_size, valid_size])"
   ]
  },
  {
   "cell_type": "code",
   "execution_count": 47,
   "metadata": {
    "ExecuteTime": {
     "end_time": "2020-03-14T08:48:23.351597Z",
     "start_time": "2020-03-14T08:48:23.345607Z"
    },
    "colab": {},
    "colab_type": "code",
    "id": "D1yF61dBcKLO"
   },
   "outputs": [],
   "source": [
    "from torch.utils.data import DataLoader\n",
    "\n",
    "# replace XX and YY with batch_size and number of workers, respectively\n",
    "train_loader = DataLoader(partial_train_ds, batch_size=256, num_workers=8)\n",
    "valid_loader = DataLoader(valid_ds, batch_size=256, num_workers=8)\n",
    "test_loader = DataLoader(test_data, batch_size=256, num_workers=8)"
   ]
  },
  {
   "cell_type": "code",
   "execution_count": 48,
   "metadata": {
    "ExecuteTime": {
     "end_time": "2020-03-14T08:48:24.993428Z",
     "start_time": "2020-03-14T08:48:24.989438Z"
    },
    "colab": {},
    "colab_type": "code",
    "id": "UK3ZIyHmKS6l"
   },
   "outputs": [],
   "source": [
    "from tqdm import tqdm_notebook"
   ]
  },
  {
   "cell_type": "code",
   "execution_count": 50,
   "metadata": {
    "ExecuteTime": {
     "end_time": "2020-03-14T11:30:20.113680Z",
     "start_time": "2020-03-14T08:54:39.257061Z"
    },
    "colab": {
     "base_uri": "https://localhost:8080/",
     "height": 49,
     "referenced_widgets": [
      "687021bea20146138ae45d2ba57d0cd9",
      "595be5b4dad14fe4bbd68b4dd2c3aecf",
      "717b3f5b4367468ebf7ec38b55189e0a",
      "0de9c30a65ad476fb92478847181d9a7",
      "ccd584ce28e04532a468b8519a9114b4",
      "c5b17d8484664d939e4202b3916c395b",
      "9c503dd3b5264fd1b2bd9f279c69f3b2",
      "af3e1071500648bbaba3c30eada519aa"
     ]
    },
    "colab_type": "code",
    "id": "_Wzh02G3K6Nc",
    "outputId": "fd5eb34d-9f68-4806-cf37-0f18b39ba429"
   },
   "outputs": [
    {
     "data": {
      "application/vnd.jupyter.widget-view+json": {
       "model_id": "6761d53a85ef4a41be307603d31d1fc2",
       "version_major": 2,
       "version_minor": 0
      },
      "text/plain": [
       "HBox(children=(IntProgress(value=0, max=4786), HTML(value='')))"
      ]
     },
     "metadata": {},
     "output_type": "display_data"
    },
    {
     "data": {
      "application/vnd.jupyter.widget-view+json": {
       "model_id": "a87ab8dafa1840099865c59fed489588",
       "version_major": 2,
       "version_minor": 0
      },
      "text/plain": [
       "HBox(children=(IntProgress(value=0, max=1197), HTML(value='')))"
      ]
     },
     "metadata": {},
     "output_type": "display_data"
    },
    {
     "data": {
      "application/vnd.jupyter.widget-view+json": {
       "model_id": "f54e4866f2d54cbba47e8a30d1795a23",
       "version_major": 2,
       "version_minor": 0
      },
      "text/plain": [
       "HBox(children=(IntProgress(value=0, max=4786), HTML(value='')))"
      ]
     },
     "metadata": {},
     "output_type": "display_data"
    },
    {
     "data": {
      "application/vnd.jupyter.widget-view+json": {
       "model_id": "389a53f89c774228abb4b227e3d98d19",
       "version_major": 2,
       "version_minor": 0
      },
      "text/plain": [
       "HBox(children=(IntProgress(value=0, max=1197), HTML(value='')))"
      ]
     },
     "metadata": {},
     "output_type": "display_data"
    },
    {
     "data": {
      "application/vnd.jupyter.widget-view+json": {
       "model_id": "1f48ba0e75034e09871c88133d47eb19",
       "version_major": 2,
       "version_minor": 0
      },
      "text/plain": [
       "HBox(children=(IntProgress(value=0, max=4786), HTML(value='')))"
      ]
     },
     "metadata": {},
     "output_type": "display_data"
    },
    {
     "data": {
      "application/vnd.jupyter.widget-view+json": {
       "model_id": "8a1b5d2ab70045768a56f4606cd1e4f5",
       "version_major": 2,
       "version_minor": 0
      },
      "text/plain": [
       "HBox(children=(IntProgress(value=0, max=1197), HTML(value='')))"
      ]
     },
     "metadata": {},
     "output_type": "display_data"
    },
    {
     "data": {
      "application/vnd.jupyter.widget-view+json": {
       "model_id": "1302968dc18d4959b0cc127cd3a1f093",
       "version_major": 2,
       "version_minor": 0
      },
      "text/plain": [
       "HBox(children=(IntProgress(value=0, max=4786), HTML(value='')))"
      ]
     },
     "metadata": {},
     "output_type": "display_data"
    },
    {
     "data": {
      "application/vnd.jupyter.widget-view+json": {
       "model_id": "6059c598bd01463bbf39bf51f17ab1a0",
       "version_major": 2,
       "version_minor": 0
      },
      "text/plain": [
       "HBox(children=(IntProgress(value=0, max=1197), HTML(value='')))"
      ]
     },
     "metadata": {},
     "output_type": "display_data"
    },
    {
     "data": {
      "application/vnd.jupyter.widget-view+json": {
       "model_id": "19073ee2237045b3b71adcc5def9d9e9",
       "version_major": 2,
       "version_minor": 0
      },
      "text/plain": [
       "HBox(children=(IntProgress(value=0, max=4786), HTML(value='')))"
      ]
     },
     "metadata": {},
     "output_type": "display_data"
    },
    {
     "data": {
      "application/vnd.jupyter.widget-view+json": {
       "model_id": "4aa4de012cdf41abb69ffbbdcc10c894",
       "version_major": 2,
       "version_minor": 0
      },
      "text/plain": [
       "HBox(children=(IntProgress(value=0, max=1197), HTML(value='')))"
      ]
     },
     "metadata": {},
     "output_type": "display_data"
    },
    {
     "data": {
      "application/vnd.jupyter.widget-view+json": {
       "model_id": "6da71a5e64b04023bb73b8514bd4a167",
       "version_major": 2,
       "version_minor": 0
      },
      "text/plain": [
       "HBox(children=(IntProgress(value=0, max=4786), HTML(value='')))"
      ]
     },
     "metadata": {},
     "output_type": "display_data"
    },
    {
     "data": {
      "application/vnd.jupyter.widget-view+json": {
       "model_id": "836242b30dcf47e4b62a80bf458811e4",
       "version_major": 2,
       "version_minor": 0
      },
      "text/plain": [
       "HBox(children=(IntProgress(value=0, max=1197), HTML(value='')))"
      ]
     },
     "metadata": {},
     "output_type": "display_data"
    },
    {
     "data": {
      "application/vnd.jupyter.widget-view+json": {
       "model_id": "ae4953258dd94f8f95987145a8f9cad9",
       "version_major": 2,
       "version_minor": 0
      },
      "text/plain": [
       "HBox(children=(IntProgress(value=0, max=4786), HTML(value='')))"
      ]
     },
     "metadata": {},
     "output_type": "display_data"
    },
    {
     "data": {
      "application/vnd.jupyter.widget-view+json": {
       "model_id": "e77c089617a147229e192991d8b1ce49",
       "version_major": 2,
       "version_minor": 0
      },
      "text/plain": [
       "HBox(children=(IntProgress(value=0, max=1197), HTML(value='')))"
      ]
     },
     "metadata": {},
     "output_type": "display_data"
    },
    {
     "data": {
      "application/vnd.jupyter.widget-view+json": {
       "model_id": "39e67003befa463daf597afe0367ef11",
       "version_major": 2,
       "version_minor": 0
      },
      "text/plain": [
       "HBox(children=(IntProgress(value=0, max=4786), HTML(value='')))"
      ]
     },
     "metadata": {},
     "output_type": "display_data"
    },
    {
     "data": {
      "application/vnd.jupyter.widget-view+json": {
       "model_id": "56c3590e461d443cb05a6a81ea6d5e46",
       "version_major": 2,
       "version_minor": 0
      },
      "text/plain": [
       "HBox(children=(IntProgress(value=0, max=1197), HTML(value='')))"
      ]
     },
     "metadata": {},
     "output_type": "display_data"
    },
    {
     "data": {
      "application/vnd.jupyter.widget-view+json": {
       "model_id": "aa6864a661824a9b894036cb56af1f92",
       "version_major": 2,
       "version_minor": 0
      },
      "text/plain": [
       "HBox(children=(IntProgress(value=0, max=4786), HTML(value='')))"
      ]
     },
     "metadata": {},
     "output_type": "display_data"
    },
    {
     "data": {
      "application/vnd.jupyter.widget-view+json": {
       "model_id": "99174a7cd3fa44318c76226ceb36606b",
       "version_major": 2,
       "version_minor": 0
      },
      "text/plain": [
       "HBox(children=(IntProgress(value=0, max=1197), HTML(value='')))"
      ]
     },
     "metadata": {},
     "output_type": "display_data"
    },
    {
     "data": {
      "application/vnd.jupyter.widget-view+json": {
       "model_id": "7a845765e1b548eeb2191f6d09c81450",
       "version_major": 2,
       "version_minor": 0
      },
      "text/plain": [
       "HBox(children=(IntProgress(value=0, max=4786), HTML(value='')))"
      ]
     },
     "metadata": {},
     "output_type": "display_data"
    },
    {
     "data": {
      "application/vnd.jupyter.widget-view+json": {
       "model_id": "1203c655717044b38aaf3320a2043b8a",
       "version_major": 2,
       "version_minor": 0
      },
      "text/plain": [
       "HBox(children=(IntProgress(value=0, max=1197), HTML(value='')))"
      ]
     },
     "metadata": {},
     "output_type": "display_data"
    }
   ],
   "source": [
    "n_epochs = 10 # this is a hyperparameter you'll need to define\n",
    "k = []\n",
    "for epoch in (range(n_epochs)):\n",
    "    ##################\n",
    "    ### TRAIN LOOP ###\n",
    "    ##################\n",
    "    # set the model to train mode\n",
    "    model.train()\n",
    "    train_loss = 0\n",
    "    total = 0\n",
    "    correct = 0\n",
    "    for i in tqdm_notebook(train_loader.dataset):\n",
    "        # clear the old gradients from optimized variables\n",
    "        optimizer.zero_grad()\n",
    "        # forward pass: feed inputs to the model to get outputs\n",
    "        data, target = i['X'], i['Y']\n",
    "        # target = torch.autograd.Variable(torch.tensor(target))\n",
    "        data = data.view(-1, 3, 224, 224).to(device)\n",
    "        target = Variable(torch.tensor(target, dtype=torch.long)).to(device)\n",
    "        output = model(data)\n",
    "        # calculate the training batch loss\n",
    "        loss = criterion(output, target)\n",
    "        # print(output, target)\n",
    "        # backward: perform gradient descent of the loss w.r. to the model params\n",
    "        loss.backward()\n",
    "        # update the model parameters by performing a single optimization step\n",
    "        optimizer.step()\n",
    "        # accumulate the training loss\n",
    "        _, predicted = torch.max(output, 1)\n",
    "        total += labels.size(0)\n",
    "        correct += (predicted == target).sum().item()\n",
    "        print(f'Accuracy of the network on the 256 images:({100 * correct / total}))\n",
    "        train_loss += loss.item()\n",
    "        # k+=1\n",
    "        # print(k)\n",
    "\n",
    "    #######################\n",
    "    ### VALIDATION LOOP ###\n",
    "    #######################\n",
    "    # set the model to eval mode\n",
    "    model.eval()\n",
    "    valid_loss = 0\n",
    "    # turn off gradients for validation\n",
    "    with torch.no_grad():\n",
    "        for i in tqdm_notebook(valid_loader.dataset):\n",
    "            # forward pass\n",
    "            data, target = i['X'], i['Y']\n",
    "            data = data.view(-1, 3, 224, 224).to(device)\n",
    "            target = Variable(torch.tensor(target, dtype=torch.long)).to(device)\n",
    "            output = model(data)\n",
    "            # validation batch loss\n",
    "            loss = criterion(output, target) \n",
    "            # accumulate the valid_loss\n",
    "            valid_loss += loss.item()\n",
    "            \n",
    "    #########################\n",
    "    ## PRINT EPOCH RESULTS ##\n",
    "    #########################\n",
    "    train_loss /= len(train_loader)\n",
    "    valid_loss /= len(valid_loader)\n",
    "    k.append(f'Epoch: {epoch+1}/{n_epochs}.. Training loss: {train_loss}.. Validation Loss: {valid_loss}')\n"
   ]
  },
  {
   "cell_type": "code",
   "execution_count": 51,
   "metadata": {
    "ExecuteTime": {
     "end_time": "2020-03-14T11:32:51.420724Z",
     "start_time": "2020-03-14T11:32:51.410754Z"
    },
    "colab": {},
    "colab_type": "code",
    "id": "xScRSrvVfDkl"
   },
   "outputs": [],
   "source": [
    "import pickle\n",
    "with open('epochs.obj', 'wb') as fp:\n",
    "    pickle.dump(k, fp)"
   ]
  },
  {
   "cell_type": "code",
   "execution_count": 52,
   "metadata": {
    "ExecuteTime": {
     "end_time": "2020-03-14T11:33:06.087157Z",
     "start_time": "2020-03-14T11:33:06.078181Z"
    },
    "colab": {},
    "colab_type": "code",
    "id": "O-O61jPQJXX-"
   },
   "outputs": [
    {
     "data": {
      "text/plain": [
       "['Epoch: 1/10.. Training loss: 1434.3400849794086.. Validation Loss: 788.6724471330642',\n",
       " 'Epoch: 2/10.. Training loss: 1786.851765475775.. Validation Loss: 1204.8966781854629',\n",
       " 'Epoch: 3/10.. Training loss: 1847.8155820118754.. Validation Loss: 1197.5632420778275',\n",
       " 'Epoch: 4/10.. Training loss: 1883.0194738852351.. Validation Loss: 1168.2561626195907',\n",
       " 'Epoch: 5/10.. Training loss: 1926.4888064108397.. Validation Loss: 1005.7937820196152',\n",
       " 'Epoch: 6/10.. Training loss: 1936.6227466150333.. Validation Loss: 893.9331599116325',\n",
       " 'Epoch: 7/10.. Training loss: 1923.3753650596268.. Validation Loss: 1003.6179736614228',\n",
       " 'Epoch: 8/10.. Training loss: 1952.5069659509156.. Validation Loss: 1150.396275639534',\n",
       " 'Epoch: 9/10.. Training loss: 1962.917996757909.. Validation Loss: 997.3310500860214',\n",
       " 'Epoch: 10/10.. Training loss: 1945.9641763913005.. Validation Loss: 2298.1456331729887']"
      ]
     },
     "execution_count": 52,
     "metadata": {},
     "output_type": "execute_result"
    }
   ],
   "source": [
    "k"
   ]
  },
  {
   "cell_type": "code",
   "execution_count": null,
   "metadata": {},
   "outputs": [],
   "source": [
    "model."
   ]
  }
 ],
 "metadata": {
  "accelerator": "GPU",
  "colab": {
   "name": "PyTorch_Model.ipynb",
   "provenance": [],
   "toc_visible": true
  },
  "kernelspec": {
   "display_name": "Python 3",
   "language": "python",
   "name": "python3"
  },
  "language_info": {
   "codemirror_mode": {
    "name": "ipython",
    "version": 3
   },
   "file_extension": ".py",
   "mimetype": "text/x-python",
   "name": "python",
   "nbconvert_exporter": "python",
   "pygments_lexer": "ipython3",
   "version": "3.6.5"
  },
  "widgets": {
   "application/vnd.jupyter.widget-state+json": {
    "0de9c30a65ad476fb92478847181d9a7": {
     "model_module": "@jupyter-widgets/controls",
     "model_name": "HTMLModel",
     "state": {
      "_dom_classes": [],
      "_model_module": "@jupyter-widgets/controls",
      "_model_module_version": "1.5.0",
      "_model_name": "HTMLModel",
      "_view_count": null,
      "_view_module": "@jupyter-widgets/controls",
      "_view_module_version": "1.5.0",
      "_view_name": "HTMLView",
      "description": "",
      "description_tooltip": null,
      "layout": "IPY_MODEL_af3e1071500648bbaba3c30eada519aa",
      "placeholder": "​",
      "style": "IPY_MODEL_9c503dd3b5264fd1b2bd9f279c69f3b2",
      "value": "  4% 176/4786 [01:25&lt;21:57,  3.50it/s]"
     }
    },
    "127ae632cc0f4dde82892fde6c75018b": {
     "model_module": "@jupyter-widgets/controls",
     "model_name": "HTMLModel",
     "state": {
      "_dom_classes": [],
      "_model_module": "@jupyter-widgets/controls",
      "_model_module_version": "1.5.0",
      "_model_name": "HTMLModel",
      "_view_count": null,
      "_view_module": "@jupyter-widgets/controls",
      "_view_module_version": "1.5.0",
      "_view_name": "HTMLView",
      "description": "",
      "description_tooltip": null,
      "layout": "IPY_MODEL_ba2ac4394f1d46619467026a66614fdd",
      "placeholder": "​",
      "style": "IPY_MODEL_effafc8c76434513943549b7031e1c8a",
      "value": "100% 528M/528M [00:05&lt;00:00, 106MB/s]"
     }
    },
    "54fd29ef2f0242369ad444df7efa5349": {
     "model_module": "@jupyter-widgets/controls",
     "model_name": "ProgressStyleModel",
     "state": {
      "_model_module": "@jupyter-widgets/controls",
      "_model_module_version": "1.5.0",
      "_model_name": "ProgressStyleModel",
      "_view_count": null,
      "_view_module": "@jupyter-widgets/base",
      "_view_module_version": "1.2.0",
      "_view_name": "StyleView",
      "bar_color": null,
      "description_width": ""
     }
    },
    "595be5b4dad14fe4bbd68b4dd2c3aecf": {
     "model_module": "@jupyter-widgets/base",
     "model_name": "LayoutModel",
     "state": {
      "_model_module": "@jupyter-widgets/base",
      "_model_module_version": "1.2.0",
      "_model_name": "LayoutModel",
      "_view_count": null,
      "_view_module": "@jupyter-widgets/base",
      "_view_module_version": "1.2.0",
      "_view_name": "LayoutView",
      "align_content": null,
      "align_items": null,
      "align_self": null,
      "border": null,
      "bottom": null,
      "display": null,
      "flex": null,
      "flex_flow": null,
      "grid_area": null,
      "grid_auto_columns": null,
      "grid_auto_flow": null,
      "grid_auto_rows": null,
      "grid_column": null,
      "grid_gap": null,
      "grid_row": null,
      "grid_template_areas": null,
      "grid_template_columns": null,
      "grid_template_rows": null,
      "height": null,
      "justify_content": null,
      "justify_items": null,
      "left": null,
      "margin": null,
      "max_height": null,
      "max_width": null,
      "min_height": null,
      "min_width": null,
      "object_fit": null,
      "object_position": null,
      "order": null,
      "overflow": null,
      "overflow_x": null,
      "overflow_y": null,
      "padding": null,
      "right": null,
      "top": null,
      "visibility": null,
      "width": null
     }
    },
    "687021bea20146138ae45d2ba57d0cd9": {
     "model_module": "@jupyter-widgets/controls",
     "model_name": "HBoxModel",
     "state": {
      "_dom_classes": [],
      "_model_module": "@jupyter-widgets/controls",
      "_model_module_version": "1.5.0",
      "_model_name": "HBoxModel",
      "_view_count": null,
      "_view_module": "@jupyter-widgets/controls",
      "_view_module_version": "1.5.0",
      "_view_name": "HBoxView",
      "box_style": "",
      "children": [
       "IPY_MODEL_717b3f5b4367468ebf7ec38b55189e0a",
       "IPY_MODEL_0de9c30a65ad476fb92478847181d9a7"
      ],
      "layout": "IPY_MODEL_595be5b4dad14fe4bbd68b4dd2c3aecf"
     }
    },
    "717b3f5b4367468ebf7ec38b55189e0a": {
     "model_module": "@jupyter-widgets/controls",
     "model_name": "IntProgressModel",
     "state": {
      "_dom_classes": [],
      "_model_module": "@jupyter-widgets/controls",
      "_model_module_version": "1.5.0",
      "_model_name": "IntProgressModel",
      "_view_count": null,
      "_view_module": "@jupyter-widgets/controls",
      "_view_module_version": "1.5.0",
      "_view_name": "ProgressView",
      "bar_style": "",
      "description": "",
      "description_tooltip": null,
      "layout": "IPY_MODEL_c5b17d8484664d939e4202b3916c395b",
      "max": 4786,
      "min": 0,
      "orientation": "horizontal",
      "style": "IPY_MODEL_ccd584ce28e04532a468b8519a9114b4",
      "value": 176
     }
    },
    "7246166dbe8f43cc9fa1d02fec4dbc7d": {
     "model_module": "@jupyter-widgets/base",
     "model_name": "LayoutModel",
     "state": {
      "_model_module": "@jupyter-widgets/base",
      "_model_module_version": "1.2.0",
      "_model_name": "LayoutModel",
      "_view_count": null,
      "_view_module": "@jupyter-widgets/base",
      "_view_module_version": "1.2.0",
      "_view_name": "LayoutView",
      "align_content": null,
      "align_items": null,
      "align_self": null,
      "border": null,
      "bottom": null,
      "display": null,
      "flex": null,
      "flex_flow": null,
      "grid_area": null,
      "grid_auto_columns": null,
      "grid_auto_flow": null,
      "grid_auto_rows": null,
      "grid_column": null,
      "grid_gap": null,
      "grid_row": null,
      "grid_template_areas": null,
      "grid_template_columns": null,
      "grid_template_rows": null,
      "height": null,
      "justify_content": null,
      "justify_items": null,
      "left": null,
      "margin": null,
      "max_height": null,
      "max_width": null,
      "min_height": null,
      "min_width": null,
      "object_fit": null,
      "object_position": null,
      "order": null,
      "overflow": null,
      "overflow_x": null,
      "overflow_y": null,
      "padding": null,
      "right": null,
      "top": null,
      "visibility": null,
      "width": null
     }
    },
    "7624e04c5e2847fc8d0c9675573e5b23": {
     "model_module": "@jupyter-widgets/controls",
     "model_name": "IntProgressModel",
     "state": {
      "_dom_classes": [],
      "_model_module": "@jupyter-widgets/controls",
      "_model_module_version": "1.5.0",
      "_model_name": "IntProgressModel",
      "_view_count": null,
      "_view_module": "@jupyter-widgets/controls",
      "_view_module_version": "1.5.0",
      "_view_name": "ProgressView",
      "bar_style": "success",
      "description": "",
      "description_tooltip": null,
      "layout": "IPY_MODEL_7246166dbe8f43cc9fa1d02fec4dbc7d",
      "max": 553433881,
      "min": 0,
      "orientation": "horizontal",
      "style": "IPY_MODEL_54fd29ef2f0242369ad444df7efa5349",
      "value": 553433881
     }
    },
    "9c503dd3b5264fd1b2bd9f279c69f3b2": {
     "model_module": "@jupyter-widgets/controls",
     "model_name": "DescriptionStyleModel",
     "state": {
      "_model_module": "@jupyter-widgets/controls",
      "_model_module_version": "1.5.0",
      "_model_name": "DescriptionStyleModel",
      "_view_count": null,
      "_view_module": "@jupyter-widgets/base",
      "_view_module_version": "1.2.0",
      "_view_name": "StyleView",
      "description_width": ""
     }
    },
    "9cdf2c3d8ea34377beab36de6e65e887": {
     "model_module": "@jupyter-widgets/base",
     "model_name": "LayoutModel",
     "state": {
      "_model_module": "@jupyter-widgets/base",
      "_model_module_version": "1.2.0",
      "_model_name": "LayoutModel",
      "_view_count": null,
      "_view_module": "@jupyter-widgets/base",
      "_view_module_version": "1.2.0",
      "_view_name": "LayoutView",
      "align_content": null,
      "align_items": null,
      "align_self": null,
      "border": null,
      "bottom": null,
      "display": null,
      "flex": null,
      "flex_flow": null,
      "grid_area": null,
      "grid_auto_columns": null,
      "grid_auto_flow": null,
      "grid_auto_rows": null,
      "grid_column": null,
      "grid_gap": null,
      "grid_row": null,
      "grid_template_areas": null,
      "grid_template_columns": null,
      "grid_template_rows": null,
      "height": null,
      "justify_content": null,
      "justify_items": null,
      "left": null,
      "margin": null,
      "max_height": null,
      "max_width": null,
      "min_height": null,
      "min_width": null,
      "object_fit": null,
      "object_position": null,
      "order": null,
      "overflow": null,
      "overflow_x": null,
      "overflow_y": null,
      "padding": null,
      "right": null,
      "top": null,
      "visibility": null,
      "width": null
     }
    },
    "af3e1071500648bbaba3c30eada519aa": {
     "model_module": "@jupyter-widgets/base",
     "model_name": "LayoutModel",
     "state": {
      "_model_module": "@jupyter-widgets/base",
      "_model_module_version": "1.2.0",
      "_model_name": "LayoutModel",
      "_view_count": null,
      "_view_module": "@jupyter-widgets/base",
      "_view_module_version": "1.2.0",
      "_view_name": "LayoutView",
      "align_content": null,
      "align_items": null,
      "align_self": null,
      "border": null,
      "bottom": null,
      "display": null,
      "flex": null,
      "flex_flow": null,
      "grid_area": null,
      "grid_auto_columns": null,
      "grid_auto_flow": null,
      "grid_auto_rows": null,
      "grid_column": null,
      "grid_gap": null,
      "grid_row": null,
      "grid_template_areas": null,
      "grid_template_columns": null,
      "grid_template_rows": null,
      "height": null,
      "justify_content": null,
      "justify_items": null,
      "left": null,
      "margin": null,
      "max_height": null,
      "max_width": null,
      "min_height": null,
      "min_width": null,
      "object_fit": null,
      "object_position": null,
      "order": null,
      "overflow": null,
      "overflow_x": null,
      "overflow_y": null,
      "padding": null,
      "right": null,
      "top": null,
      "visibility": null,
      "width": null
     }
    },
    "ba2ac4394f1d46619467026a66614fdd": {
     "model_module": "@jupyter-widgets/base",
     "model_name": "LayoutModel",
     "state": {
      "_model_module": "@jupyter-widgets/base",
      "_model_module_version": "1.2.0",
      "_model_name": "LayoutModel",
      "_view_count": null,
      "_view_module": "@jupyter-widgets/base",
      "_view_module_version": "1.2.0",
      "_view_name": "LayoutView",
      "align_content": null,
      "align_items": null,
      "align_self": null,
      "border": null,
      "bottom": null,
      "display": null,
      "flex": null,
      "flex_flow": null,
      "grid_area": null,
      "grid_auto_columns": null,
      "grid_auto_flow": null,
      "grid_auto_rows": null,
      "grid_column": null,
      "grid_gap": null,
      "grid_row": null,
      "grid_template_areas": null,
      "grid_template_columns": null,
      "grid_template_rows": null,
      "height": null,
      "justify_content": null,
      "justify_items": null,
      "left": null,
      "margin": null,
      "max_height": null,
      "max_width": null,
      "min_height": null,
      "min_width": null,
      "object_fit": null,
      "object_position": null,
      "order": null,
      "overflow": null,
      "overflow_x": null,
      "overflow_y": null,
      "padding": null,
      "right": null,
      "top": null,
      "visibility": null,
      "width": null
     }
    },
    "c5b17d8484664d939e4202b3916c395b": {
     "model_module": "@jupyter-widgets/base",
     "model_name": "LayoutModel",
     "state": {
      "_model_module": "@jupyter-widgets/base",
      "_model_module_version": "1.2.0",
      "_model_name": "LayoutModel",
      "_view_count": null,
      "_view_module": "@jupyter-widgets/base",
      "_view_module_version": "1.2.0",
      "_view_name": "LayoutView",
      "align_content": null,
      "align_items": null,
      "align_self": null,
      "border": null,
      "bottom": null,
      "display": null,
      "flex": null,
      "flex_flow": null,
      "grid_area": null,
      "grid_auto_columns": null,
      "grid_auto_flow": null,
      "grid_auto_rows": null,
      "grid_column": null,
      "grid_gap": null,
      "grid_row": null,
      "grid_template_areas": null,
      "grid_template_columns": null,
      "grid_template_rows": null,
      "height": null,
      "justify_content": null,
      "justify_items": null,
      "left": null,
      "margin": null,
      "max_height": null,
      "max_width": null,
      "min_height": null,
      "min_width": null,
      "object_fit": null,
      "object_position": null,
      "order": null,
      "overflow": null,
      "overflow_x": null,
      "overflow_y": null,
      "padding": null,
      "right": null,
      "top": null,
      "visibility": null,
      "width": null
     }
    },
    "ccd584ce28e04532a468b8519a9114b4": {
     "model_module": "@jupyter-widgets/controls",
     "model_name": "ProgressStyleModel",
     "state": {
      "_model_module": "@jupyter-widgets/controls",
      "_model_module_version": "1.5.0",
      "_model_name": "ProgressStyleModel",
      "_view_count": null,
      "_view_module": "@jupyter-widgets/base",
      "_view_module_version": "1.2.0",
      "_view_name": "StyleView",
      "bar_color": null,
      "description_width": ""
     }
    },
    "ed2033211f8043bebff02798d2a97d93": {
     "model_module": "@jupyter-widgets/controls",
     "model_name": "HBoxModel",
     "state": {
      "_dom_classes": [],
      "_model_module": "@jupyter-widgets/controls",
      "_model_module_version": "1.5.0",
      "_model_name": "HBoxModel",
      "_view_count": null,
      "_view_module": "@jupyter-widgets/controls",
      "_view_module_version": "1.5.0",
      "_view_name": "HBoxView",
      "box_style": "",
      "children": [
       "IPY_MODEL_7624e04c5e2847fc8d0c9675573e5b23",
       "IPY_MODEL_127ae632cc0f4dde82892fde6c75018b"
      ],
      "layout": "IPY_MODEL_9cdf2c3d8ea34377beab36de6e65e887"
     }
    },
    "effafc8c76434513943549b7031e1c8a": {
     "model_module": "@jupyter-widgets/controls",
     "model_name": "DescriptionStyleModel",
     "state": {
      "_model_module": "@jupyter-widgets/controls",
      "_model_module_version": "1.5.0",
      "_model_name": "DescriptionStyleModel",
      "_view_count": null,
      "_view_module": "@jupyter-widgets/base",
      "_view_module_version": "1.2.0",
      "_view_name": "StyleView",
      "description_width": ""
     }
    }
   }
  }
 },
 "nbformat": 4,
 "nbformat_minor": 1
}
