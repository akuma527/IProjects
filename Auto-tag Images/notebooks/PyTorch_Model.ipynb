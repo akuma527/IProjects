{
  "nbformat": 4,
  "nbformat_minor": 0,
  "metadata": {
    "kernelspec": {
      "name": "python3",
      "display_name": "Python 3"
    },
    "language_info": {
      "codemirror_mode": {
        "name": "ipython",
        "version": 3
      },
      "file_extension": ".py",
      "mimetype": "text/x-python",
      "name": "python",
      "nbconvert_exporter": "python",
      "pygments_lexer": "ipython3",
      "version": "3.6.5"
    },
    "colab": {
      "name": "PyTorch_Model.ipynb",
      "provenance": [],
      "toc_visible": true
    },
    "widgets": {
      "application/vnd.jupyter.widget-state+json": {
        "40e1c56440e04a98a4bd05f7970ccd0d": {
          "model_module": "@jupyter-widgets/controls",
          "model_name": "HBoxModel",
          "state": {
            "_view_name": "HBoxView",
            "_dom_classes": [],
            "_model_name": "HBoxModel",
            "_view_module": "@jupyter-widgets/controls",
            "_model_module_version": "1.5.0",
            "_view_count": null,
            "_view_module_version": "1.5.0",
            "box_style": "",
            "layout": "IPY_MODEL_093bb658b321413eac62de5758e7731e",
            "_model_module": "@jupyter-widgets/controls",
            "children": [
              "IPY_MODEL_657ab64b4eca41fc8b4eaa6af2dc0bac",
              "IPY_MODEL_6e16e2867a80478cb3250f1f40e97ade"
            ]
          }
        },
        "093bb658b321413eac62de5758e7731e": {
          "model_module": "@jupyter-widgets/base",
          "model_name": "LayoutModel",
          "state": {
            "_view_name": "LayoutView",
            "grid_template_rows": null,
            "right": null,
            "justify_content": null,
            "_view_module": "@jupyter-widgets/base",
            "overflow": null,
            "_model_module_version": "1.2.0",
            "_view_count": null,
            "flex_flow": null,
            "width": null,
            "min_width": null,
            "border": null,
            "align_items": null,
            "bottom": null,
            "_model_module": "@jupyter-widgets/base",
            "top": null,
            "grid_column": null,
            "overflow_y": null,
            "overflow_x": null,
            "grid_auto_flow": null,
            "grid_area": null,
            "grid_template_columns": null,
            "flex": null,
            "_model_name": "LayoutModel",
            "justify_items": null,
            "grid_row": null,
            "max_height": null,
            "align_content": null,
            "visibility": null,
            "align_self": null,
            "height": null,
            "min_height": null,
            "padding": null,
            "grid_auto_rows": null,
            "grid_gap": null,
            "max_width": null,
            "order": null,
            "_view_module_version": "1.2.0",
            "grid_template_areas": null,
            "object_position": null,
            "object_fit": null,
            "grid_auto_columns": null,
            "margin": null,
            "display": null,
            "left": null
          }
        },
        "657ab64b4eca41fc8b4eaa6af2dc0bac": {
          "model_module": "@jupyter-widgets/controls",
          "model_name": "IntProgressModel",
          "state": {
            "_view_name": "ProgressView",
            "style": "IPY_MODEL_b6d452838c0b43eaa0c73aa0e02091d3",
            "_dom_classes": [],
            "description": "",
            "_model_name": "IntProgressModel",
            "bar_style": "",
            "max": 4786,
            "_view_module": "@jupyter-widgets/controls",
            "_model_module_version": "1.5.0",
            "value": 240,
            "_view_count": null,
            "_view_module_version": "1.5.0",
            "orientation": "horizontal",
            "min": 0,
            "description_tooltip": null,
            "_model_module": "@jupyter-widgets/controls",
            "layout": "IPY_MODEL_9f3c4652de884234b3d33244a9640076"
          }
        },
        "6e16e2867a80478cb3250f1f40e97ade": {
          "model_module": "@jupyter-widgets/controls",
          "model_name": "HTMLModel",
          "state": {
            "_view_name": "HTMLView",
            "style": "IPY_MODEL_dcc9b34b6d89473182ab1759534c2133",
            "_dom_classes": [],
            "description": "",
            "_model_name": "HTMLModel",
            "placeholder": "​",
            "_view_module": "@jupyter-widgets/controls",
            "_model_module_version": "1.5.0",
            "value": "  5% 240/4786 [00:42&lt;33:45,  2.24it/s]",
            "_view_count": null,
            "_view_module_version": "1.5.0",
            "description_tooltip": null,
            "_model_module": "@jupyter-widgets/controls",
            "layout": "IPY_MODEL_66de0d7168a1496d90d5c025608dbac7"
          }
        },
        "b6d452838c0b43eaa0c73aa0e02091d3": {
          "model_module": "@jupyter-widgets/controls",
          "model_name": "ProgressStyleModel",
          "state": {
            "_view_name": "StyleView",
            "_model_name": "ProgressStyleModel",
            "description_width": "",
            "_view_module": "@jupyter-widgets/base",
            "_model_module_version": "1.5.0",
            "_view_count": null,
            "_view_module_version": "1.2.0",
            "bar_color": null,
            "_model_module": "@jupyter-widgets/controls"
          }
        },
        "9f3c4652de884234b3d33244a9640076": {
          "model_module": "@jupyter-widgets/base",
          "model_name": "LayoutModel",
          "state": {
            "_view_name": "LayoutView",
            "grid_template_rows": null,
            "right": null,
            "justify_content": null,
            "_view_module": "@jupyter-widgets/base",
            "overflow": null,
            "_model_module_version": "1.2.0",
            "_view_count": null,
            "flex_flow": null,
            "width": null,
            "min_width": null,
            "border": null,
            "align_items": null,
            "bottom": null,
            "_model_module": "@jupyter-widgets/base",
            "top": null,
            "grid_column": null,
            "overflow_y": null,
            "overflow_x": null,
            "grid_auto_flow": null,
            "grid_area": null,
            "grid_template_columns": null,
            "flex": null,
            "_model_name": "LayoutModel",
            "justify_items": null,
            "grid_row": null,
            "max_height": null,
            "align_content": null,
            "visibility": null,
            "align_self": null,
            "height": null,
            "min_height": null,
            "padding": null,
            "grid_auto_rows": null,
            "grid_gap": null,
            "max_width": null,
            "order": null,
            "_view_module_version": "1.2.0",
            "grid_template_areas": null,
            "object_position": null,
            "object_fit": null,
            "grid_auto_columns": null,
            "margin": null,
            "display": null,
            "left": null
          }
        },
        "dcc9b34b6d89473182ab1759534c2133": {
          "model_module": "@jupyter-widgets/controls",
          "model_name": "DescriptionStyleModel",
          "state": {
            "_view_name": "StyleView",
            "_model_name": "DescriptionStyleModel",
            "description_width": "",
            "_view_module": "@jupyter-widgets/base",
            "_model_module_version": "1.5.0",
            "_view_count": null,
            "_view_module_version": "1.2.0",
            "_model_module": "@jupyter-widgets/controls"
          }
        },
        "66de0d7168a1496d90d5c025608dbac7": {
          "model_module": "@jupyter-widgets/base",
          "model_name": "LayoutModel",
          "state": {
            "_view_name": "LayoutView",
            "grid_template_rows": null,
            "right": null,
            "justify_content": null,
            "_view_module": "@jupyter-widgets/base",
            "overflow": null,
            "_model_module_version": "1.2.0",
            "_view_count": null,
            "flex_flow": null,
            "width": null,
            "min_width": null,
            "border": null,
            "align_items": null,
            "bottom": null,
            "_model_module": "@jupyter-widgets/base",
            "top": null,
            "grid_column": null,
            "overflow_y": null,
            "overflow_x": null,
            "grid_auto_flow": null,
            "grid_area": null,
            "grid_template_columns": null,
            "flex": null,
            "_model_name": "LayoutModel",
            "justify_items": null,
            "grid_row": null,
            "max_height": null,
            "align_content": null,
            "visibility": null,
            "align_self": null,
            "height": null,
            "min_height": null,
            "padding": null,
            "grid_auto_rows": null,
            "grid_gap": null,
            "max_width": null,
            "order": null,
            "_view_module_version": "1.2.0",
            "grid_template_areas": null,
            "object_position": null,
            "object_fit": null,
            "grid_auto_columns": null,
            "margin": null,
            "display": null,
            "left": null
          }
        }
      }
    },
    "accelerator": "GPU"
  },
  "cells": [
    {
      "cell_type": "code",
      "metadata": {
        "id": "cK94pQztdK5s",
        "colab_type": "code",
        "outputId": "56596269-ff4b-4da0-feac-56aecf064581",
        "colab": {
          "base_uri": "https://localhost:8080/",
          "height": 35
        }
      },
      "source": [
        "from google.colab import drive\n",
        "drive.mount('/content/drive')"
      ],
      "execution_count": 32,
      "outputs": [
        {
          "output_type": "stream",
          "text": [
            "Drive already mounted at /content/drive; to attempt to forcibly remount, call drive.mount(\"/content/drive\", force_remount=True).\n"
          ],
          "name": "stdout"
        }
      ]
    },
    {
      "cell_type": "code",
      "metadata": {
        "id": "_AFSb318cKKG",
        "colab_type": "code",
        "colab": {}
      },
      "source": [
        "import pandas as pd\n",
        "from PIL import Image\n",
        "from torchvision.transforms import ToTensor, ToPILImage\n",
        "import numpy as np\n",
        "import random\n",
        "import tarfile\n",
        "import io\n",
        "import os\n",
        "from torch.utils.data import Dataset\n",
        "import torch\n",
        "from torch.autograd import Variable\n",
        "import cv2\n",
        "from sklearn.preprocessing import LabelEncoder\n",
        "%matplotlib inline"
      ],
      "execution_count": 0,
      "outputs": []
    },
    {
      "cell_type": "code",
      "metadata": {
        "id": "8rvCJnn7jeQU",
        "colab_type": "code",
        "outputId": "a4751e89-bbee-414b-879d-7062987ea5ca",
        "colab": {
          "base_uri": "https://localhost:8080/",
          "height": 35
        }
      },
      "source": [
        "%cd /content/drive/My Drive/Colab Notebooks/AutoTagImages/dataset/"
      ],
      "execution_count": 34,
      "outputs": [
        {
          "output_type": "stream",
          "text": [
            "/content/drive/My Drive/Colab Notebooks/AutoTagImages/dataset\n"
          ],
          "name": "stdout"
        }
      ]
    },
    {
      "cell_type": "code",
      "metadata": {
        "id": "yVVAHOAvjpq0",
        "colab_type": "code",
        "outputId": "72efb3fe-c8e9-4f3a-b63b-36590136ec82",
        "colab": {
          "base_uri": "https://localhost:8080/",
          "height": 35
        }
      },
      "source": [
        "import os\n",
        "os.listdir()"
      ],
      "execution_count": 35,
      "outputs": [
        {
          "output_type": "execute_result",
          "data": {
            "text/plain": [
              "['train_images', 'test_images', 'test.csv', 'train.csv']"
            ]
          },
          "metadata": {
            "tags": []
          },
          "execution_count": 35
        }
      ]
    },
    {
      "cell_type": "code",
      "metadata": {
        "id": "NsrLcQ1Exj-9",
        "colab_type": "code",
        "colab": {}
      },
      "source": [
        "idx_label = {\n",
        "    0: 'Food',\n",
        "    1: 'misc',\n",
        "    2: 'Attire',\n",
        "    3: 'Decorationandsignage'\n",
        "}\n",
        "\n",
        "label_idx = {\n",
        "    'Food': 0,\n",
        "    'misc': 1,\n",
        "    'Attire': 2,\n",
        "    'Decorationandsignage': 3\n",
        "}"
      ],
      "execution_count": 0,
      "outputs": []
    },
    {
      "cell_type": "code",
      "metadata": {
        "id": "8sLNKc05j3YV",
        "colab_type": "code",
        "colab": {}
      },
      "source": [
        "class YourDataset(Dataset):\n",
        "    def __init__(self, txt_path='filelist.txt', img_dir='data', testdata=False, transform=None):\n",
        "        \"\"\"\n",
        "        Initialize data set as a list of IDs corresponding to each item of data set\n",
        "\n",
        "        :param img_dir: path to image files as a uncompressed tar archive\n",
        "        :param txt_path: a text file containing names of all of images line by line\n",
        "        :param transform: apply some transforms like cropping, rotating, etc on input image\n",
        "        \"\"\"\n",
        "\n",
        "        df = pd.read_csv(txt_path)\n",
        "        self.img_names = df.Image.values\n",
        "        self.testdata = testdata\n",
        "        if not self.testdata:\n",
        "            la = LabelEncoder()\n",
        "            self.target =(la.fit_transform(df['Class']).reshape(-1,1))\n",
        "        self.txt_path = txt_path\n",
        "        self.img_dir = img_dir\n",
        "        self.transform = transform\n",
        "        self.to_tensor = ToTensor()\n",
        "        self.to_pil = ToPILImage()\n",
        "        self.get_image_selector = True if img_dir.__contains__('tar') else False\n",
        "        self.tf = tarfile.open(self.img_dir) if self.get_image_selector else None\n",
        "\n",
        "    def get_image_from_tar(self, name):\n",
        "        \"\"\"\n",
        "        Gets a image by a name gathered from file list csv file\n",
        "\n",
        "        :param name: name of targeted image\n",
        "        :return: a PIL image\n",
        "        \"\"\"\n",
        "        image = self.tf.extractfile(name)\n",
        "        image = image.read()\n",
        "        image = Image.open(io.BytesIO(image))\n",
        "        return image\n",
        "\n",
        "    def get_image_from_folder(self, name):\n",
        "        \"\"\"\n",
        "        gets a image by a name gathered from file list text file\n",
        "\n",
        "        :param name: name of targeted image\n",
        "        :return: a PIL image\n",
        "        \"\"\"\n",
        "        image = cv2.imread(os.path.join(self.img_dir, name))\n",
        "        myimage = Image.fromarray(image)\n",
        "        # image = Image.open(os.path.join(self.img_dir, name))\n",
        "        return myimage\n",
        "\n",
        "    def __len__(self):\n",
        "        \"\"\"\n",
        "        Return the length of data set using list of IDs\n",
        "\n",
        "        :return: number of samples in data set\n",
        "        \"\"\"\n",
        "        return len(self.img_names)\n",
        "\n",
        "    def __getitem__(self, index):\n",
        "        \"\"\"\n",
        "        Generate one item of data set.\n",
        "\n",
        "        :param index: index of item in IDs list\n",
        "\n",
        "        :return: a sample of data as a dict\n",
        "        \"\"\"\n",
        "\n",
        "        if index == (self.__len__() - 1) and self.get_image_selector:  # close tarfile opened in __init__\n",
        "            self.tf.close()\n",
        "\n",
        "        if self.get_image_selector:  # note: we prefer to extract then process!\n",
        "            X = self.get_image_from_tar(self.img_names[index])\n",
        "        else:\n",
        "            X = self.get_image_from_folder(self.img_names[index])\n",
        "            \n",
        "            if not self.testdata:\n",
        "                Y = self.target[index]\n",
        "\n",
        "        if self.transform is not None:\n",
        "            X = self.transform(X)\n",
        "\n",
        "        if not self.testdata:\n",
        "            sample = {'X': X,\n",
        "                      'Y': Y}\n",
        "        if self.testdata:\n",
        "            sample = {'X': X}\n",
        "\n",
        "        return sample"
      ],
      "execution_count": 0,
      "outputs": []
    },
    {
      "cell_type": "markdown",
      "metadata": {
        "id": "M9whwwyWcKKi",
        "colab_type": "text"
      },
      "source": [
        "# Pytorch Model"
      ]
    },
    {
      "cell_type": "code",
      "metadata": {
        "id": "AybH6S6AcKKk",
        "colab_type": "code",
        "colab": {}
      },
      "source": [
        "import torch\n",
        "from torch import nn"
      ],
      "execution_count": 0,
      "outputs": []
    },
    {
      "cell_type": "code",
      "metadata": {
        "id": "kXukkolEcKKo",
        "colab_type": "code",
        "colab": {}
      },
      "source": [
        "from torchvision import models"
      ],
      "execution_count": 0,
      "outputs": []
    },
    {
      "cell_type": "markdown",
      "metadata": {
        "id": "dF2JQTIrcKKr",
        "colab_type": "text"
      },
      "source": [
        "# Defining Model Architecture"
      ]
    },
    {
      "cell_type": "code",
      "metadata": {
        "id": "OMUSa_rjcKKs",
        "colab_type": "code",
        "colab": {}
      },
      "source": [
        "model = models.vgg16(pretrained=True, progress=True)"
      ],
      "execution_count": 0,
      "outputs": []
    },
    {
      "cell_type": "code",
      "metadata": {
        "id": "5PugeIHfcKKv",
        "colab_type": "code",
        "colab": {}
      },
      "source": [
        "# Freezing other layers of the model\n",
        "for p in model.parameters():\n",
        "    p.requires_grad = False"
      ],
      "execution_count": 0,
      "outputs": []
    },
    {
      "cell_type": "code",
      "metadata": {
        "id": "jNHLx4TzcKK5",
        "colab_type": "code",
        "colab": {}
      },
      "source": [
        "model.classifier._modules['6'] = torch.nn.Linear(4096, 4)"
      ],
      "execution_count": 0,
      "outputs": []
    },
    {
      "cell_type": "code",
      "metadata": {
        "id": "F-v8EdwNfRvO",
        "colab_type": "code",
        "colab": {
          "base_uri": "https://localhost:8080/",
          "height": 35
        },
        "outputId": "fed3b6cc-7804-46f1-bcce-3d0d98bf9534"
      },
      "source": [
        "if torch.cuda.is_available():\n",
        "    device = torch.device(\"cuda:0\")  # you can continue going on here, like cuda:1 cuda:2....etc. \n",
        "    print(\"Running on the GPU\")"
      ],
      "execution_count": 56,
      "outputs": [
        {
          "output_type": "stream",
          "text": [
            "Running on the GPU\n"
          ],
          "name": "stdout"
        }
      ]
    },
    {
      "cell_type": "code",
      "metadata": {
        "id": "yhR83q_mfndm",
        "colab_type": "code",
        "colab": {
          "base_uri": "https://localhost:8080/",
          "height": 817
        },
        "outputId": "a3219464-b0c4-4c92-b8b8-dbc6764032c4"
      },
      "source": [
        "model.to(device)"
      ],
      "execution_count": 57,
      "outputs": [
        {
          "output_type": "execute_result",
          "data": {
            "text/plain": [
              "VGG(\n",
              "  (features): Sequential(\n",
              "    (0): Conv2d(3, 64, kernel_size=(3, 3), stride=(1, 1), padding=(1, 1))\n",
              "    (1): ReLU(inplace=True)\n",
              "    (2): Conv2d(64, 64, kernel_size=(3, 3), stride=(1, 1), padding=(1, 1))\n",
              "    (3): ReLU(inplace=True)\n",
              "    (4): MaxPool2d(kernel_size=2, stride=2, padding=0, dilation=1, ceil_mode=False)\n",
              "    (5): Conv2d(64, 128, kernel_size=(3, 3), stride=(1, 1), padding=(1, 1))\n",
              "    (6): ReLU(inplace=True)\n",
              "    (7): Conv2d(128, 128, kernel_size=(3, 3), stride=(1, 1), padding=(1, 1))\n",
              "    (8): ReLU(inplace=True)\n",
              "    (9): MaxPool2d(kernel_size=2, stride=2, padding=0, dilation=1, ceil_mode=False)\n",
              "    (10): Conv2d(128, 256, kernel_size=(3, 3), stride=(1, 1), padding=(1, 1))\n",
              "    (11): ReLU(inplace=True)\n",
              "    (12): Conv2d(256, 256, kernel_size=(3, 3), stride=(1, 1), padding=(1, 1))\n",
              "    (13): ReLU(inplace=True)\n",
              "    (14): Conv2d(256, 256, kernel_size=(3, 3), stride=(1, 1), padding=(1, 1))\n",
              "    (15): ReLU(inplace=True)\n",
              "    (16): MaxPool2d(kernel_size=2, stride=2, padding=0, dilation=1, ceil_mode=False)\n",
              "    (17): Conv2d(256, 512, kernel_size=(3, 3), stride=(1, 1), padding=(1, 1))\n",
              "    (18): ReLU(inplace=True)\n",
              "    (19): Conv2d(512, 512, kernel_size=(3, 3), stride=(1, 1), padding=(1, 1))\n",
              "    (20): ReLU(inplace=True)\n",
              "    (21): Conv2d(512, 512, kernel_size=(3, 3), stride=(1, 1), padding=(1, 1))\n",
              "    (22): ReLU(inplace=True)\n",
              "    (23): MaxPool2d(kernel_size=2, stride=2, padding=0, dilation=1, ceil_mode=False)\n",
              "    (24): Conv2d(512, 512, kernel_size=(3, 3), stride=(1, 1), padding=(1, 1))\n",
              "    (25): ReLU(inplace=True)\n",
              "    (26): Conv2d(512, 512, kernel_size=(3, 3), stride=(1, 1), padding=(1, 1))\n",
              "    (27): ReLU(inplace=True)\n",
              "    (28): Conv2d(512, 512, kernel_size=(3, 3), stride=(1, 1), padding=(1, 1))\n",
              "    (29): ReLU(inplace=True)\n",
              "    (30): MaxPool2d(kernel_size=2, stride=2, padding=0, dilation=1, ceil_mode=False)\n",
              "  )\n",
              "  (avgpool): AdaptiveAvgPool2d(output_size=(7, 7))\n",
              "  (classifier): Sequential(\n",
              "    (0): Linear(in_features=25088, out_features=4096, bias=True)\n",
              "    (1): ReLU(inplace=True)\n",
              "    (2): Dropout(p=0.5, inplace=False)\n",
              "    (3): Linear(in_features=4096, out_features=4096, bias=True)\n",
              "    (4): ReLU(inplace=True)\n",
              "    (5): Dropout(p=0.5, inplace=False)\n",
              "    (6): Linear(in_features=4096, out_features=4, bias=True)\n",
              "  )\n",
              ")"
            ]
          },
          "metadata": {
            "tags": []
          },
          "execution_count": 57
        }
      ]
    },
    {
      "cell_type": "code",
      "metadata": {
        "id": "euW3scSJcKK9",
        "colab_type": "code",
        "colab": {}
      },
      "source": [
        "import torch.optim as optim\n",
        "criterion = nn.CrossEntropyLoss() \n",
        "optimizer = optim.SGD(model.classifier.parameters(), lr=0.001, momentum=0.9)#lr 0.001"
      ],
      "execution_count": 0,
      "outputs": []
    },
    {
      "cell_type": "markdown",
      "metadata": {
        "id": "VSxh9hqycKLB",
        "colab_type": "text"
      },
      "source": [
        "# Defining Transformations"
      ]
    },
    {
      "cell_type": "code",
      "metadata": {
        "id": "uDldrcjRcKLD",
        "colab_type": "code",
        "colab": {}
      },
      "source": [
        "from torchvision import transforms\n",
        "\n",
        "# Define train transforms\n",
        "train_transforms = transforms.Compose([\n",
        "    transforms.RandomRotation(30),\n",
        "    transforms.RandomResizedCrop(224),\n",
        "    transforms.RandomHorizontalFlip(),\n",
        "    transforms.ToTensor(),\n",
        "    transforms.Normalize([0.5, 0.5, 0.5],  # 3 channels (RGB) for colored images\n",
        "                         [0.5, 0.5, 0.5])\n",
        "])\n",
        "\n",
        "# Define test transforms\n",
        "test_transforms = transforms.Compose([\n",
        "    transforms.ToTensor(),\n",
        "    transforms.Normalize([0.5, 0.5, 0.5],  # 3 channels (RGB) for colored images\n",
        "                         [0.5, 0.5, 0.5])\n",
        "])"
      ],
      "execution_count": 0,
      "outputs": []
    },
    {
      "cell_type": "code",
      "metadata": {
        "id": "-4-3qBP1cKLH",
        "colab_type": "code",
        "colab": {}
      },
      "source": [
        "from torchvision import datasets\n",
        "\n",
        "train_data = YourDataset(txt_path='train.csv', img_dir='train_images/1/', transform=train_transforms)\n",
        "test_data = YourDataset(txt_path='test.csv', img_dir='test_images/1/', testdata=True, transform=test_transforms)"
      ],
      "execution_count": 0,
      "outputs": []
    },
    {
      "cell_type": "code",
      "metadata": {
        "id": "AzVbOeqIltJQ",
        "colab_type": "code",
        "colab": {}
      },
      "source": [
        "# from torchsummary import summary\n",
        "# summary(model, (3, 224, 224))"
      ],
      "execution_count": 0,
      "outputs": []
    },
    {
      "cell_type": "code",
      "metadata": {
        "id": "0dzjLDCncKLK",
        "colab_type": "code",
        "colab": {}
      },
      "source": [
        "from torch.utils.data import random_split\n",
        "\n",
        "# calculate size of train and validation sets\n",
        "train_size = int(0.8 * len(train_data))\n",
        "valid_size = len(train_data) - train_size\n",
        "partial_train_ds, valid_ds = random_split(train_data, [train_size, valid_size])"
      ],
      "execution_count": 0,
      "outputs": []
    },
    {
      "cell_type": "code",
      "metadata": {
        "id": "D1yF61dBcKLO",
        "colab_type": "code",
        "colab": {}
      },
      "source": [
        "from torch.utils.data import DataLoader\n",
        "\n",
        "# replace XX and YY with batch_size and number of workers, respectively\n",
        "train_loader = DataLoader(partial_train_ds, batch_size=32, num_workers=0)\n",
        "valid_loader = DataLoader(valid_ds, batch_size=32, num_workers=0)\n",
        "test_loader = DataLoader(test_data, batch_size=32, num_workers=0)"
      ],
      "execution_count": 0,
      "outputs": []
    },
    {
      "cell_type": "code",
      "metadata": {
        "id": "UK3ZIyHmKS6l",
        "colab_type": "code",
        "colab": {}
      },
      "source": [
        "from tqdm import tqdm_notebook"
      ],
      "execution_count": 0,
      "outputs": []
    },
    {
      "cell_type": "code",
      "metadata": {
        "colab_type": "code",
        "outputId": "4aef13fd-47a1-4bde-c7b1-f0ded2d11048",
        "id": "_Wzh02G3K6Nc",
        "colab": {
          "base_uri": "https://localhost:8080/",
          "height": 49,
          "referenced_widgets": [
            "40e1c56440e04a98a4bd05f7970ccd0d",
            "093bb658b321413eac62de5758e7731e",
            "657ab64b4eca41fc8b4eaa6af2dc0bac",
            "6e16e2867a80478cb3250f1f40e97ade",
            "b6d452838c0b43eaa0c73aa0e02091d3",
            "9f3c4652de884234b3d33244a9640076",
            "dcc9b34b6d89473182ab1759534c2133",
            "66de0d7168a1496d90d5c025608dbac7"
          ]
        }
      },
      "source": [
        "n_epochs = 1 # this is a hyperparameter you'll need to define\n",
        "\n",
        "for epoch in (range(n_epochs)):\n",
        "    ##################\n",
        "    ### TRAIN LOOP ###\n",
        "    ##################\n",
        "    # set the model to train mode\n",
        "    model.train()\n",
        "    train_loss = 0\n",
        "    # k = 0\n",
        "    for i in tqdm_notebook(train_loader.dataset):\n",
        "        # clear the old gradients from optimized variables\n",
        "        optimizer.zero_grad()\n",
        "        # forward pass: feed inputs to the model to get outputs\n",
        "        data, target = i['X'], i['Y']\n",
        "        # target = torch.autograd.Variable(torch.tensor(target))\n",
        "        data = data.view(-1, 3, 224, 224).to(device)\n",
        "        target = Variable(torch.tensor(target)).to(device)\n",
        "        output = model(data)\n",
        "        # calculate the training batch loss\n",
        "        loss = criterion(output, target)\n",
        "        # print(output, target)\n",
        "        # backward: perform gradient descent of the loss w.r. to the model params\n",
        "        loss.backward()\n",
        "        # update the model parameters by performing a single optimization step\n",
        "        optimizer.step()\n",
        "        # accumulate the training loss\n",
        "        train_loss += loss.item()\n",
        "        # k+=1\n",
        "        # print(k)\n",
        "\n",
        "    #######################\n",
        "    ### VALIDATION LOOP ###\n",
        "    #######################\n",
        "    # set the model to eval mode\n",
        "    model.eval()\n",
        "    valid_loss = 0\n",
        "    # turn off gradients for validation\n",
        "    with torch.no_grad():\n",
        "        for i in tqdm_notebook(valid_loader.dataset):\n",
        "            # forward pass\n",
        "            data, target = i['X'], i['Y']\n",
        "            data = data.view(-1, 3, 224, 224).to(device)\n",
        "            target = Variable(torch.tensor(target)).to(device)\n",
        "            output = model(data)\n",
        "            # validation batch loss\n",
        "            loss = criterion(output, target) \n",
        "            # accumulate the valid_loss\n",
        "            valid_loss += loss.item()\n",
        "            \n",
        "    #########################\n",
        "    ## PRINT EPOCH RESULTS ##\n",
        "    #########################\n",
        "    train_loss /= len(train_loader)\n",
        "    valid_loss /= len(valid_loader)\n",
        "    print(f'Epoch: {epoch+1}/{n_epochs}.. Training loss: {train_loss}.. Validation Loss: {valid_loss}')\n"
      ],
      "execution_count": 0,
      "outputs": [
        {
          "output_type": "display_data",
          "data": {
            "application/vnd.jupyter.widget-view+json": {
              "model_id": "40e1c56440e04a98a4bd05f7970ccd0d",
              "version_minor": 0,
              "version_major": 2
            },
            "text/plain": [
              "HBox(children=(IntProgress(value=0, max=4786), HTML(value='')))"
            ]
          },
          "metadata": {
            "tags": []
          }
        }
      ]
    },
    {
      "cell_type": "code",
      "metadata": {
        "id": "xScRSrvVfDkl",
        "colab_type": "code",
        "colab": {}
      },
      "source": [
        ""
      ],
      "execution_count": 0,
      "outputs": []
    }
  ]
}