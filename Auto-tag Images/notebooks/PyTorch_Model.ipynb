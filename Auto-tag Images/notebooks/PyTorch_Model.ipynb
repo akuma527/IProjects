{
  "nbformat": 4,
  "nbformat_minor": 0,
  "metadata": {
    "accelerator": "GPU",
    "colab": {
      "name": "PyTorch_Model.ipynb",
      "provenance": [],
      "toc_visible": true
    },
    "kernelspec": {
      "display_name": "Python 3",
      "language": "python",
      "name": "python3"
    },
    "language_info": {
      "codemirror_mode": {
        "name": "ipython",
        "version": 3
      },
      "file_extension": ".py",
      "mimetype": "text/x-python",
      "name": "python",
      "nbconvert_exporter": "python",
      "pygments_lexer": "ipython3",
      "version": "3.6.5"
    },
    "widgets": {
      "application/vnd.jupyter.widget-state+json": {
        "e46caafb081b4a488c6c49ca587d8b2e": {
          "model_module": "@jupyter-widgets/controls",
          "model_name": "HBoxModel",
          "state": {
            "_view_name": "HBoxView",
            "_dom_classes": [],
            "_model_name": "HBoxModel",
            "_view_module": "@jupyter-widgets/controls",
            "_model_module_version": "1.5.0",
            "_view_count": null,
            "_view_module_version": "1.5.0",
            "box_style": "",
            "layout": "IPY_MODEL_b3416dd9611449ea8e78be5418e701f6",
            "_model_module": "@jupyter-widgets/controls",
            "children": [
              "IPY_MODEL_c9662366d3d64b6d9dda0099ab2fafed",
              "IPY_MODEL_29a9e0b384524782b1fc8e2d4180a00c"
            ]
          }
        },
        "b3416dd9611449ea8e78be5418e701f6": {
          "model_module": "@jupyter-widgets/base",
          "model_name": "LayoutModel",
          "state": {
            "_view_name": "LayoutView",
            "grid_template_rows": null,
            "right": null,
            "justify_content": null,
            "_view_module": "@jupyter-widgets/base",
            "overflow": null,
            "_model_module_version": "1.2.0",
            "_view_count": null,
            "flex_flow": null,
            "width": null,
            "min_width": null,
            "border": null,
            "align_items": null,
            "bottom": null,
            "_model_module": "@jupyter-widgets/base",
            "top": null,
            "grid_column": null,
            "overflow_y": null,
            "overflow_x": null,
            "grid_auto_flow": null,
            "grid_area": null,
            "grid_template_columns": null,
            "flex": null,
            "_model_name": "LayoutModel",
            "justify_items": null,
            "grid_row": null,
            "max_height": null,
            "align_content": null,
            "visibility": null,
            "align_self": null,
            "height": null,
            "min_height": null,
            "padding": null,
            "grid_auto_rows": null,
            "grid_gap": null,
            "max_width": null,
            "order": null,
            "_view_module_version": "1.2.0",
            "grid_template_areas": null,
            "object_position": null,
            "object_fit": null,
            "grid_auto_columns": null,
            "margin": null,
            "display": null,
            "left": null
          }
        },
        "c9662366d3d64b6d9dda0099ab2fafed": {
          "model_module": "@jupyter-widgets/controls",
          "model_name": "IntProgressModel",
          "state": {
            "_view_name": "ProgressView",
            "style": "IPY_MODEL_45414d7f5f8f47b8b9628c1677e38aaf",
            "_dom_classes": [],
            "description": "",
            "_model_name": "IntProgressModel",
            "bar_style": "success",
            "max": 30,
            "_view_module": "@jupyter-widgets/controls",
            "_model_module_version": "1.5.0",
            "value": 30,
            "_view_count": null,
            "_view_module_version": "1.5.0",
            "orientation": "horizontal",
            "min": 0,
            "description_tooltip": null,
            "_model_module": "@jupyter-widgets/controls",
            "layout": "IPY_MODEL_1d6701a2f0364cc1899782c5cef435d6"
          }
        },
        "29a9e0b384524782b1fc8e2d4180a00c": {
          "model_module": "@jupyter-widgets/controls",
          "model_name": "HTMLModel",
          "state": {
            "_view_name": "HTMLView",
            "style": "IPY_MODEL_88ce7b7c3805478582aaa7114f034afd",
            "_dom_classes": [],
            "description": "",
            "_model_name": "HTMLModel",
            "placeholder": "​",
            "_view_module": "@jupyter-widgets/controls",
            "_model_module_version": "1.5.0",
            "value": "100% 30/30 [35:04&lt;00:00, 70.41s/it]",
            "_view_count": null,
            "_view_module_version": "1.5.0",
            "description_tooltip": null,
            "_model_module": "@jupyter-widgets/controls",
            "layout": "IPY_MODEL_bdf5af6699164258985eb83f003020a6"
          }
        },
        "45414d7f5f8f47b8b9628c1677e38aaf": {
          "model_module": "@jupyter-widgets/controls",
          "model_name": "ProgressStyleModel",
          "state": {
            "_view_name": "StyleView",
            "_model_name": "ProgressStyleModel",
            "description_width": "",
            "_view_module": "@jupyter-widgets/base",
            "_model_module_version": "1.5.0",
            "_view_count": null,
            "_view_module_version": "1.2.0",
            "bar_color": null,
            "_model_module": "@jupyter-widgets/controls"
          }
        },
        "1d6701a2f0364cc1899782c5cef435d6": {
          "model_module": "@jupyter-widgets/base",
          "model_name": "LayoutModel",
          "state": {
            "_view_name": "LayoutView",
            "grid_template_rows": null,
            "right": null,
            "justify_content": null,
            "_view_module": "@jupyter-widgets/base",
            "overflow": null,
            "_model_module_version": "1.2.0",
            "_view_count": null,
            "flex_flow": null,
            "width": null,
            "min_width": null,
            "border": null,
            "align_items": null,
            "bottom": null,
            "_model_module": "@jupyter-widgets/base",
            "top": null,
            "grid_column": null,
            "overflow_y": null,
            "overflow_x": null,
            "grid_auto_flow": null,
            "grid_area": null,
            "grid_template_columns": null,
            "flex": null,
            "_model_name": "LayoutModel",
            "justify_items": null,
            "grid_row": null,
            "max_height": null,
            "align_content": null,
            "visibility": null,
            "align_self": null,
            "height": null,
            "min_height": null,
            "padding": null,
            "grid_auto_rows": null,
            "grid_gap": null,
            "max_width": null,
            "order": null,
            "_view_module_version": "1.2.0",
            "grid_template_areas": null,
            "object_position": null,
            "object_fit": null,
            "grid_auto_columns": null,
            "margin": null,
            "display": null,
            "left": null
          }
        },
        "88ce7b7c3805478582aaa7114f034afd": {
          "model_module": "@jupyter-widgets/controls",
          "model_name": "DescriptionStyleModel",
          "state": {
            "_view_name": "StyleView",
            "_model_name": "DescriptionStyleModel",
            "description_width": "",
            "_view_module": "@jupyter-widgets/base",
            "_model_module_version": "1.5.0",
            "_view_count": null,
            "_view_module_version": "1.2.0",
            "_model_module": "@jupyter-widgets/controls"
          }
        },
        "bdf5af6699164258985eb83f003020a6": {
          "model_module": "@jupyter-widgets/base",
          "model_name": "LayoutModel",
          "state": {
            "_view_name": "LayoutView",
            "grid_template_rows": null,
            "right": null,
            "justify_content": null,
            "_view_module": "@jupyter-widgets/base",
            "overflow": null,
            "_model_module_version": "1.2.0",
            "_view_count": null,
            "flex_flow": null,
            "width": null,
            "min_width": null,
            "border": null,
            "align_items": null,
            "bottom": null,
            "_model_module": "@jupyter-widgets/base",
            "top": null,
            "grid_column": null,
            "overflow_y": null,
            "overflow_x": null,
            "grid_auto_flow": null,
            "grid_area": null,
            "grid_template_columns": null,
            "flex": null,
            "_model_name": "LayoutModel",
            "justify_items": null,
            "grid_row": null,
            "max_height": null,
            "align_content": null,
            "visibility": null,
            "align_self": null,
            "height": null,
            "min_height": null,
            "padding": null,
            "grid_auto_rows": null,
            "grid_gap": null,
            "max_width": null,
            "order": null,
            "_view_module_version": "1.2.0",
            "grid_template_areas": null,
            "object_position": null,
            "object_fit": null,
            "grid_auto_columns": null,
            "margin": null,
            "display": null,
            "left": null
          }
        }
      }
    }
  },
  "cells": [
    {
      "cell_type": "code",
      "metadata": {
        "ExecuteTime": {
          "end_time": "2020-03-14T07:43:01.901490Z",
          "start_time": "2020-03-14T07:42:23.760181Z"
        },
        "colab_type": "code",
        "id": "_AFSb318cKKG",
        "colab": {}
      },
      "source": [
        "import pandas as pd\n",
        "from PIL import Image\n",
        "from torchvision.transforms import ToTensor, ToPILImage\n",
        "import numpy as np\n",
        "import random\n",
        "import tarfile\n",
        "import io\n",
        "import os\n",
        "from torch.utils.data import Dataset\n",
        "import torch\n",
        "from torch.autograd import Variable\n",
        "import cv2\n",
        "from sklearn.preprocessing import LabelEncoder\n",
        "%matplotlib inline"
      ],
      "execution_count": 0,
      "outputs": []
    },
    {
      "cell_type": "code",
      "metadata": {
        "id": "tPGfyzqasHOW",
        "colab_type": "code",
        "colab": {
          "base_uri": "https://localhost:8080/",
          "height": 126
        },
        "outputId": "1e6479eb-6f56-4a22-91e8-1afbf7728c01"
      },
      "source": [
        "from google.colab import drive\n",
        "drive.mount('/content/drive')"
      ],
      "execution_count": 2,
      "outputs": [
        {
          "output_type": "stream",
          "text": [
            "Go to this URL in a browser: https://accounts.google.com/o/oauth2/auth?client_id=947318989803-6bn6qk8qdgf4n4g3pfee6491hc0brc4i.apps.googleusercontent.com&redirect_uri=urn%3aietf%3awg%3aoauth%3a2.0%3aoob&response_type=code&scope=email%20https%3a%2f%2fwww.googleapis.com%2fauth%2fdocs.test%20https%3a%2f%2fwww.googleapis.com%2fauth%2fdrive%20https%3a%2f%2fwww.googleapis.com%2fauth%2fdrive.photos.readonly%20https%3a%2f%2fwww.googleapis.com%2fauth%2fpeopleapi.readonly\n",
            "\n",
            "Enter your authorization code:\n",
            "··········\n",
            "Mounted at /content/drive\n"
          ],
          "name": "stdout"
        }
      ]
    },
    {
      "cell_type": "code",
      "metadata": {
        "id": "owSngYsxsTzI",
        "colab_type": "code",
        "colab": {
          "base_uri": "https://localhost:8080/",
          "height": 35
        },
        "outputId": "fc6908ee-14a1-4f82-cbd3-3bbd79b4182b"
      },
      "source": [
        "%cd /content/drive/My Drive/Colab Notebooks/AutoTagImages/dataset/"
      ],
      "execution_count": 7,
      "outputs": [
        {
          "output_type": "stream",
          "text": [
            "/content/drive/My Drive/Colab Notebooks/AutoTagImages/dataset\n"
          ],
          "name": "stdout"
        }
      ]
    },
    {
      "cell_type": "code",
      "metadata": {
        "ExecuteTime": {
          "end_time": "2020-03-14T07:43:29.527471Z",
          "start_time": "2020-03-14T07:43:29.514176Z"
        },
        "colab_type": "code",
        "id": "yVVAHOAvjpq0",
        "outputId": "7c4300e7-6f81-4b28-a12e-f8165d92f604",
        "colab": {
          "base_uri": "https://localhost:8080/",
          "height": 35
        }
      },
      "source": [
        "import os\n",
        "os.listdir('train_images/')"
      ],
      "execution_count": 86,
      "outputs": [
        {
          "output_type": "execute_result",
          "data": {
            "text/plain": [
              "['1']"
            ]
          },
          "metadata": {
            "tags": []
          },
          "execution_count": 86
        }
      ]
    },
    {
      "cell_type": "code",
      "metadata": {
        "ExecuteTime": {
          "end_time": "2020-03-14T07:43:50.179223Z",
          "start_time": "2020-03-14T07:43:49.969155Z"
        },
        "colab_type": "code",
        "id": "z0yQGgxZEclJ",
        "outputId": "5d4e8d5a-4203-43cd-fcc5-ea21fec68b80",
        "colab": {
          "base_uri": "https://localhost:8080/",
          "height": 35
        }
      },
      "source": [
        "la = LabelEncoder()\n",
        "la.fit(pd.read_csv('train.csv')['Class'])"
      ],
      "execution_count": 38,
      "outputs": [
        {
          "output_type": "execute_result",
          "data": {
            "text/plain": [
              "LabelEncoder()"
            ]
          },
          "metadata": {
            "tags": []
          },
          "execution_count": 38
        }
      ]
    },
    {
      "cell_type": "code",
      "metadata": {
        "ExecuteTime": {
          "end_time": "2020-03-14T08:48:08.546172Z",
          "start_time": "2020-03-14T08:48:08.531210Z"
        },
        "colab_type": "code",
        "id": "8sLNKc05j3YV",
        "colab": {}
      },
      "source": [
        "class YourDataset(Dataset):\n",
        "    def __init__(self, txt_path='filelist.txt', img_dir='data', testdata=False, transform=None):\n",
        "        \"\"\"\n",
        "        Initialize data set as a list of IDs corresponding to each item of data set\n",
        "\n",
        "        :param img_dir: path to image files as a uncompressed tar archive\n",
        "        :param txt_path: a text file containing names of all of images line by line\n",
        "        :param transform: apply some transforms like cropping, rotating, etc on input image\n",
        "        \"\"\"\n",
        "\n",
        "        df = pd.read_csv(txt_path)\n",
        "        self.img_names = df.Image.values\n",
        "        self.testdata = testdata\n",
        "        if not self.testdata:\n",
        "            self.target =(la.transform(df['Class']).reshape(-1,1))\n",
        "        self.txt_path = txt_path\n",
        "        self.img_dir = img_dir\n",
        "        self.transform = transform\n",
        "        self.to_tensor = ToTensor()\n",
        "        self.to_pil = ToPILImage()\n",
        "        self.get_image_selector = True if img_dir.__contains__('tar') else False\n",
        "        self.tf = tarfile.open(self.img_dir) if self.get_image_selector else None\n",
        "\n",
        "    def get_image_from_tar(self, name):\n",
        "        \"\"\"\n",
        "        Gets a image by a name gathered from file list csv file\n",
        "\n",
        "        :param name: name of targeted image\n",
        "        :return: a PIL image\n",
        "        \"\"\"\n",
        "        image = self.tf.extractfile(name)\n",
        "        image = image.read()\n",
        "        image = Image.open(io.BytesIO(image))\n",
        "        return image\n",
        "\n",
        "    def get_image_from_folder(self, name):\n",
        "        \"\"\"\n",
        "        gets a image by a name gathered from file list text file\n",
        "\n",
        "        :param name: name of targeted image\n",
        "        :return: a PIL image\n",
        "        \"\"\"\n",
        "        image = cv2.imread(os.path.join(self.img_dir, name))\n",
        "        # print(self.img_dir, name)\n",
        "        # image = Image.open(os.path.join(self.img_dir, name))\n",
        "        myimage = Image.fromarray(image)\n",
        "        return myimage\n",
        "\n",
        "    def __len__(self):\n",
        "        \"\"\"\n",
        "        Return the length of data set using list of IDs\n",
        "\n",
        "        :return: number of samples in data set\n",
        "        \"\"\"\n",
        "        return len(self.img_names)\n",
        "\n",
        "    def __getitem__(self, index):\n",
        "        \"\"\"\n",
        "        Generate one item of data set.\n",
        "\n",
        "        :param index: index of item in IDs list\n",
        "\n",
        "        :return: a sample of data as a dict\n",
        "        \"\"\"\n",
        "\n",
        "        if index == (self.__len__() - 1) and self.get_image_selector:  # close tarfile opened in __init__\n",
        "            self.tf.close()\n",
        "\n",
        "        if self.get_image_selector:  # note: we prefer to extract then process!\n",
        "            X = self.get_image_from_tar(self.img_names[index])\n",
        "        else:\n",
        "            X = self.get_image_from_folder(self.img_names[index])\n",
        "            \n",
        "            if not self.testdata:\n",
        "                Y = self.target[index]\n",
        "\n",
        "        if self.transform is not None:\n",
        "            X = self.transform(X)\n",
        "\n",
        "        if not self.testdata:\n",
        "            sample = {'X': X,\n",
        "                      'Y': Y}\n",
        "        if self.testdata:\n",
        "            sample = {'X': X}\n",
        "\n",
        "        return sample"
      ],
      "execution_count": 0,
      "outputs": []
    },
    {
      "cell_type": "markdown",
      "metadata": {
        "colab_type": "text",
        "id": "M9whwwyWcKKi"
      },
      "source": [
        "# Pytorch Model"
      ]
    },
    {
      "cell_type": "code",
      "metadata": {
        "ExecuteTime": {
          "end_time": "2020-03-14T08:48:09.424627Z",
          "start_time": "2020-03-14T08:48:09.420632Z"
        },
        "colab_type": "code",
        "id": "AybH6S6AcKKk",
        "colab": {}
      },
      "source": [
        "import torch\n",
        "from torch import nn"
      ],
      "execution_count": 0,
      "outputs": []
    },
    {
      "cell_type": "code",
      "metadata": {
        "ExecuteTime": {
          "end_time": "2020-03-14T08:48:09.691479Z",
          "start_time": "2020-03-14T08:48:09.687489Z"
        },
        "colab_type": "code",
        "id": "kXukkolEcKKo",
        "colab": {}
      },
      "source": [
        "from torchvision import models"
      ],
      "execution_count": 0,
      "outputs": []
    },
    {
      "cell_type": "markdown",
      "metadata": {
        "colab_type": "text",
        "id": "dF2JQTIrcKKr"
      },
      "source": [
        "# Defining Model Architecture"
      ]
    },
    {
      "cell_type": "code",
      "metadata": {
        "ExecuteTime": {
          "end_time": "2020-03-14T08:48:14.201026Z",
          "start_time": "2020-03-14T08:48:12.277172Z"
        },
        "colab_type": "code",
        "id": "OMUSa_rjcKKs",
        "colab": {}
      },
      "source": [
        "model = models.vgg16(pretrained=True, progress=True)"
      ],
      "execution_count": 0,
      "outputs": []
    },
    {
      "cell_type": "code",
      "metadata": {
        "ExecuteTime": {
          "end_time": "2020-03-14T08:48:14.209007Z",
          "start_time": "2020-03-14T08:48:14.203022Z"
        },
        "colab_type": "code",
        "id": "5PugeIHfcKKv",
        "colab": {}
      },
      "source": [
        "# Freezing other layers of the model\n",
        "for p in model.parameters():\n",
        "    p.requires_grad = False"
      ],
      "execution_count": 0,
      "outputs": []
    },
    {
      "cell_type": "code",
      "metadata": {
        "ExecuteTime": {
          "end_time": "2020-03-14T08:48:14.780600Z",
          "start_time": "2020-03-14T08:48:14.773621Z"
        },
        "colab_type": "code",
        "id": "jNHLx4TzcKK5",
        "colab": {}
      },
      "source": [
        "model.classifier._modules['6'] = torch.nn.Linear(4096, 4)"
      ],
      "execution_count": 0,
      "outputs": []
    },
    {
      "cell_type": "code",
      "metadata": {
        "ExecuteTime": {
          "end_time": "2020-03-14T08:48:15.781924Z",
          "start_time": "2020-03-14T08:48:15.775939Z"
        },
        "colab_type": "code",
        "id": "F-v8EdwNfRvO",
        "outputId": "0475a808-b7b8-4a76-c7d4-6a21fa3826c1",
        "colab": {
          "base_uri": "https://localhost:8080/",
          "height": 35
        }
      },
      "source": [
        "if torch.cuda.is_available():\n",
        "    device = torch.device(\"cuda:0\")  # you can continue going on here, like cuda:1 cuda:2....etc. \n",
        "    print(\"Running on the GPU\")"
      ],
      "execution_count": 45,
      "outputs": [
        {
          "output_type": "stream",
          "text": [
            "Running on the GPU\n"
          ],
          "name": "stdout"
        }
      ]
    },
    {
      "cell_type": "code",
      "metadata": {
        "ExecuteTime": {
          "end_time": "2020-03-14T08:48:17.287848Z",
          "start_time": "2020-03-14T08:48:16.491849Z"
        },
        "colab_type": "code",
        "id": "yhR83q_mfndm",
        "outputId": "1482072a-1515-487a-a7dc-046515fd1d47",
        "colab": {
          "base_uri": "https://localhost:8080/",
          "height": 817
        }
      },
      "source": [
        "model.to(device)"
      ],
      "execution_count": 46,
      "outputs": [
        {
          "output_type": "execute_result",
          "data": {
            "text/plain": [
              "VGG(\n",
              "  (features): Sequential(\n",
              "    (0): Conv2d(3, 64, kernel_size=(3, 3), stride=(1, 1), padding=(1, 1))\n",
              "    (1): ReLU(inplace=True)\n",
              "    (2): Conv2d(64, 64, kernel_size=(3, 3), stride=(1, 1), padding=(1, 1))\n",
              "    (3): ReLU(inplace=True)\n",
              "    (4): MaxPool2d(kernel_size=2, stride=2, padding=0, dilation=1, ceil_mode=False)\n",
              "    (5): Conv2d(64, 128, kernel_size=(3, 3), stride=(1, 1), padding=(1, 1))\n",
              "    (6): ReLU(inplace=True)\n",
              "    (7): Conv2d(128, 128, kernel_size=(3, 3), stride=(1, 1), padding=(1, 1))\n",
              "    (8): ReLU(inplace=True)\n",
              "    (9): MaxPool2d(kernel_size=2, stride=2, padding=0, dilation=1, ceil_mode=False)\n",
              "    (10): Conv2d(128, 256, kernel_size=(3, 3), stride=(1, 1), padding=(1, 1))\n",
              "    (11): ReLU(inplace=True)\n",
              "    (12): Conv2d(256, 256, kernel_size=(3, 3), stride=(1, 1), padding=(1, 1))\n",
              "    (13): ReLU(inplace=True)\n",
              "    (14): Conv2d(256, 256, kernel_size=(3, 3), stride=(1, 1), padding=(1, 1))\n",
              "    (15): ReLU(inplace=True)\n",
              "    (16): MaxPool2d(kernel_size=2, stride=2, padding=0, dilation=1, ceil_mode=False)\n",
              "    (17): Conv2d(256, 512, kernel_size=(3, 3), stride=(1, 1), padding=(1, 1))\n",
              "    (18): ReLU(inplace=True)\n",
              "    (19): Conv2d(512, 512, kernel_size=(3, 3), stride=(1, 1), padding=(1, 1))\n",
              "    (20): ReLU(inplace=True)\n",
              "    (21): Conv2d(512, 512, kernel_size=(3, 3), stride=(1, 1), padding=(1, 1))\n",
              "    (22): ReLU(inplace=True)\n",
              "    (23): MaxPool2d(kernel_size=2, stride=2, padding=0, dilation=1, ceil_mode=False)\n",
              "    (24): Conv2d(512, 512, kernel_size=(3, 3), stride=(1, 1), padding=(1, 1))\n",
              "    (25): ReLU(inplace=True)\n",
              "    (26): Conv2d(512, 512, kernel_size=(3, 3), stride=(1, 1), padding=(1, 1))\n",
              "    (27): ReLU(inplace=True)\n",
              "    (28): Conv2d(512, 512, kernel_size=(3, 3), stride=(1, 1), padding=(1, 1))\n",
              "    (29): ReLU(inplace=True)\n",
              "    (30): MaxPool2d(kernel_size=2, stride=2, padding=0, dilation=1, ceil_mode=False)\n",
              "  )\n",
              "  (avgpool): AdaptiveAvgPool2d(output_size=(7, 7))\n",
              "  (classifier): Sequential(\n",
              "    (0): Linear(in_features=25088, out_features=4096, bias=True)\n",
              "    (1): ReLU(inplace=True)\n",
              "    (2): Dropout(p=0.5, inplace=False)\n",
              "    (3): Linear(in_features=4096, out_features=4096, bias=True)\n",
              "    (4): ReLU(inplace=True)\n",
              "    (5): Dropout(p=0.5, inplace=False)\n",
              "    (6): Linear(in_features=4096, out_features=4, bias=True)\n",
              "  )\n",
              ")"
            ]
          },
          "metadata": {
            "tags": []
          },
          "execution_count": 46
        }
      ]
    },
    {
      "cell_type": "code",
      "metadata": {
        "ExecuteTime": {
          "end_time": "2020-03-14T08:48:19.678587Z",
          "start_time": "2020-03-14T08:48:19.672601Z"
        },
        "colab_type": "code",
        "id": "euW3scSJcKK9",
        "colab": {}
      },
      "source": [
        "import torch.optim as optim\n",
        "criterion = nn.CrossEntropyLoss() \n",
        "optimizer = optim.Adam(model.classifier.parameters(), lr=0.001)\n",
        "# optimizer = optim.SGD(model.classifier.parameters(), lr=0.001, momentum=0.9)#lr 0.001"
      ],
      "execution_count": 0,
      "outputs": []
    },
    {
      "cell_type": "markdown",
      "metadata": {
        "colab_type": "text",
        "id": "VSxh9hqycKLB"
      },
      "source": [
        "# Defining Transformations"
      ]
    },
    {
      "cell_type": "code",
      "metadata": {
        "ExecuteTime": {
          "end_time": "2020-03-14T08:48:20.816167Z",
          "start_time": "2020-03-14T08:48:20.807223Z"
        },
        "colab_type": "code",
        "id": "uDldrcjRcKLD",
        "colab": {}
      },
      "source": [
        "from torchvision import transforms\n",
        "\n",
        "# Define train transforms\n",
        "train_transforms = transforms.Compose([\n",
        "    transforms.RandomRotation(30),\n",
        "    transforms.RandomResizedCrop(224),\n",
        "    transforms.RandomHorizontalFlip(),\n",
        "    transforms.ToTensor(),\n",
        "    transforms.Normalize([0.5, 0.5, 0.5],  # 3 channels (RGB) for colored images\n",
        "                         [0.5, 0.5, 0.5])\n",
        "])\n",
        "\n",
        "# Define test transforms\n",
        "test_transforms = transforms.Compose([\n",
        "    transforms.ToTensor(),\n",
        "    transforms.Normalize([0.5, 0.5, 0.5],  # 3 channels (RGB) for colored images\n",
        "                         [0.5, 0.5, 0.5])\n",
        "])"
      ],
      "execution_count": 0,
      "outputs": []
    },
    {
      "cell_type": "code",
      "metadata": {
        "ExecuteTime": {
          "end_time": "2020-03-14T08:48:21.784374Z",
          "start_time": "2020-03-14T08:48:21.761445Z"
        },
        "colab_type": "code",
        "id": "-4-3qBP1cKLH",
        "colab": {}
      },
      "source": [
        "from torchvision import datasets\n",
        "\n",
        "train_data = YourDataset(txt_path='train.csv', img_dir='train_images/1/', transform=train_transforms)\n",
        "test_data = YourDataset(txt_path='test.csv', img_dir='test_images/1/', testdata=True, transform=test_transforms)"
      ],
      "execution_count": 0,
      "outputs": []
    },
    {
      "cell_type": "code",
      "metadata": {
        "ExecuteTime": {
          "end_time": "2020-03-14T08:48:22.390763Z",
          "start_time": "2020-03-14T08:48:22.386739Z"
        },
        "colab_type": "code",
        "id": "AzVbOeqIltJQ",
        "colab": {}
      },
      "source": [
        "# from torchsummary import summary\n",
        "# summary(model, (3, 224, 224))"
      ],
      "execution_count": 0,
      "outputs": []
    },
    {
      "cell_type": "code",
      "metadata": {
        "ExecuteTime": {
          "end_time": "2020-03-14T08:48:22.831054Z",
          "start_time": "2020-03-14T08:48:22.825069Z"
        },
        "colab_type": "code",
        "id": "0dzjLDCncKLK",
        "colab": {
          "base_uri": "https://localhost:8080/",
          "height": 203
        },
        "outputId": "c94ee14c-73aa-44ff-ce42-7392fa08e45a"
      },
      "source": [
        "from torch.utils.data import random_split, distributed\n",
        "from torchsample import \n",
        "\n",
        "# calculate size of train and validation sets\n",
        "train_size = int(0.8 * len(train_data))\n",
        "valid_size = len(train_data) - train_size\n",
        "partial_train_ds, valid_ds = distributed(train_data, [train_size, valid_size])"
      ],
      "execution_count": 112,
      "outputs": [
        {
          "output_type": "error",
          "ename": "TypeError",
          "evalue": "ignored",
          "traceback": [
            "\u001b[0;31m---------------------------------------------------------------------------\u001b[0m",
            "\u001b[0;31mTypeError\u001b[0m                                 Traceback (most recent call last)",
            "\u001b[0;32m<ipython-input-112-399112d1da14>\u001b[0m in \u001b[0;36m<module>\u001b[0;34m()\u001b[0m\n\u001b[1;32m      4\u001b[0m \u001b[0mtrain_size\u001b[0m \u001b[0;34m=\u001b[0m \u001b[0mint\u001b[0m\u001b[0;34m(\u001b[0m\u001b[0;36m0.8\u001b[0m \u001b[0;34m*\u001b[0m \u001b[0mlen\u001b[0m\u001b[0;34m(\u001b[0m\u001b[0mtrain_data\u001b[0m\u001b[0;34m)\u001b[0m\u001b[0;34m)\u001b[0m\u001b[0;34m\u001b[0m\u001b[0;34m\u001b[0m\u001b[0m\n\u001b[1;32m      5\u001b[0m \u001b[0mvalid_size\u001b[0m \u001b[0;34m=\u001b[0m \u001b[0mlen\u001b[0m\u001b[0;34m(\u001b[0m\u001b[0mtrain_data\u001b[0m\u001b[0;34m)\u001b[0m \u001b[0;34m-\u001b[0m \u001b[0mtrain_size\u001b[0m\u001b[0;34m\u001b[0m\u001b[0;34m\u001b[0m\u001b[0m\n\u001b[0;32m----> 6\u001b[0;31m \u001b[0mpartial_train_ds\u001b[0m\u001b[0;34m,\u001b[0m \u001b[0mvalid_ds\u001b[0m \u001b[0;34m=\u001b[0m \u001b[0mdistributed\u001b[0m\u001b[0;34m(\u001b[0m\u001b[0mtrain_data\u001b[0m\u001b[0;34m,\u001b[0m \u001b[0;34m[\u001b[0m\u001b[0mtrain_size\u001b[0m\u001b[0;34m,\u001b[0m \u001b[0mvalid_size\u001b[0m\u001b[0;34m]\u001b[0m\u001b[0;34m)\u001b[0m\u001b[0;34m\u001b[0m\u001b[0;34m\u001b[0m\u001b[0m\n\u001b[0m",
            "\u001b[0;31mTypeError\u001b[0m: 'module' object is not callable"
          ]
        }
      ]
    },
    {
      "cell_type": "code",
      "metadata": {
        "ExecuteTime": {
          "end_time": "2020-03-14T08:48:23.351597Z",
          "start_time": "2020-03-14T08:48:23.345607Z"
        },
        "colab_type": "code",
        "id": "D1yF61dBcKLO",
        "colab": {}
      },
      "source": [
        "from torch.utils.data import DataLoader\n",
        "\n",
        "# replace XX and YY with batch_size and number of workers, respectively\n",
        "train_loader = DataLoader(partial_train_ds, batch_size=256, num_workers=8)\n",
        "valid_loader = DataLoader(valid_ds, batch_size=256, num_workers=8)\n",
        "test_loader = DataLoader(test_data, batch_size=256, num_workers=8)"
      ],
      "execution_count": 0,
      "outputs": []
    },
    {
      "cell_type": "code",
      "metadata": {
        "ExecuteTime": {
          "end_time": "2020-03-14T08:48:24.993428Z",
          "start_time": "2020-03-14T08:48:24.989438Z"
        },
        "colab_type": "code",
        "id": "UK3ZIyHmKS6l",
        "colab": {}
      },
      "source": [
        "from tqdm import tqdm_notebook"
      ],
      "execution_count": 0,
      "outputs": []
    },
    {
      "cell_type": "code",
      "metadata": {
        "ExecuteTime": {
          "end_time": "2020-03-14T11:30:20.113680Z",
          "start_time": "2020-03-14T08:54:39.257061Z"
        },
        "colab_type": "code",
        "id": "_Wzh02G3K6Nc",
        "outputId": "42f2bea2-7a38-411e-b2b6-806810cb9c59",
        "colab": {
          "base_uri": "https://localhost:8080/",
          "height": 1000,
          "referenced_widgets": [
            "e46caafb081b4a488c6c49ca587d8b2e",
            "b3416dd9611449ea8e78be5418e701f6",
            "c9662366d3d64b6d9dda0099ab2fafed",
            "29a9e0b384524782b1fc8e2d4180a00c",
            "45414d7f5f8f47b8b9628c1677e38aaf",
            "1d6701a2f0364cc1899782c5cef435d6",
            "88ce7b7c3805478582aaa7114f034afd",
            "bdf5af6699164258985eb83f003020a6"
          ]
        }
      },
      "source": [
        "n_epochs = 30 # this is a hyperparameter you'll need to define\n",
        "k = []\n",
        "for epoch in tqdm_notebook(range(n_epochs)):\n",
        "    ##################\n",
        "    ### TRAIN LOOP ###\n",
        "    ##################\n",
        "    # set the model to train mode\n",
        "    model.train()\n",
        "    train_loss = 0\n",
        "    total = 0\n",
        "    correct = 0\n",
        "    for i in (train_loader.dataset):\n",
        "        # clear the old gradients from optimized variables\n",
        "        optimizer.zero_grad()\n",
        "        # forward pass: feed inputs to the model to get outputs\n",
        "        data, target = i['X'], i['Y']\n",
        "        # target = torch.autograd.Variable(torch.tensor(target))\n",
        "        data = data.view(-1, 3, 224, 224).to(device)\n",
        "        target = Variable(torch.tensor(target, dtype=torch.long)).to(device)\n",
        "        output = model(data)\n",
        "        # calculate the training batch loss\n",
        "        loss = criterion(output, target)\n",
        "        # print(output, target)\n",
        "        # backward: perform gradient descent of the loss w.r. to the model params\n",
        "        loss.backward()\n",
        "        # update the model parameters by performing a single optimization step\n",
        "        optimizer.step()\n",
        "        # accumulate the training loss\n",
        "        _, predicted = torch.max(output, 1)\n",
        "        total += target.size(0)\n",
        "        correct += (predicted == target).sum().item()\n",
        "        \n",
        "        train_loss += loss.item()\n",
        "        # k+=1\n",
        "        # print(k)\n",
        "\n",
        "    #######################\n",
        "    ### VALIDATION LOOP ###\n",
        "    #######################\n",
        "    # set the model to eval mode\n",
        "    model.eval()\n",
        "    valid_loss = 0\n",
        "    # turn off gradients for validation\n",
        "    with torch.no_grad():\n",
        "        for i in (valid_loader.dataset):\n",
        "            # forward pass\n",
        "            data, target = i['X'], i['Y']\n",
        "            data = data.view(-1, 3, 224, 224).to(device)\n",
        "            target = Variable(torch.tensor(target, dtype=torch.long)).to(device)\n",
        "            output = model(data)\n",
        "            # validation batch loss\n",
        "            loss = criterion(output, target) \n",
        "            # accumulate the valid_loss\n",
        "            valid_loss += loss.item()\n",
        "            \n",
        "    #########################\n",
        "    ## PRINT EPOCH RESULTS ##\n",
        "    #########################\n",
        "    train_loss /= len(train_loader)\n",
        "    valid_loss /= len(valid_loader)\n",
        "    print(f'Epoch: {epoch+1}/{n_epochs}.. Training loss: {train_loss}.. Validation Loss: {valid_loss}')\n",
        "    print(f'Accuracy of the network on the images Training accuracy: {100 * correct / total}')\n",
        "    "
      ],
      "execution_count": 110,
      "outputs": [
        {
          "output_type": "display_data",
          "data": {
            "application/vnd.jupyter.widget-view+json": {
              "model_id": "e46caafb081b4a488c6c49ca587d8b2e",
              "version_minor": 0,
              "version_major": 2
            },
            "text/plain": [
              "HBox(children=(IntProgress(value=0, max=30), HTML(value='')))"
            ]
          },
          "metadata": {
            "tags": []
          }
        },
        {
          "output_type": "stream",
          "text": [
            "Epoch: 1/30.. Training loss: 1685.0807461550362.. Validation Loss: 663.7950643658638\n",
            "Accuracy of the network on the images Training accuracy: 49.58211450062683\n",
            "Epoch: 2/30.. Training loss: 1462.2369252506055.. Validation Loss: 670.2284049153328\n",
            "Accuracy of the network on the images Training accuracy: 51.211867948182196\n",
            "Epoch: 3/30.. Training loss: 1305.1548585828982.. Validation Loss: 571.9942122340202\n",
            "Accuracy of the network on the images Training accuracy: 49.811951525282076\n",
            "Epoch: 4/30.. Training loss: 1194.622053391055.. Validation Loss: 534.4019191265106\n",
            "Accuracy of the network on the images Training accuracy: 50.877559548683664\n",
            "Epoch: 5/30.. Training loss: 1068.8449325530153.. Validation Loss: 487.35296857357025\n",
            "Accuracy of the network on the images Training accuracy: 51.31633932302549\n",
            "Epoch: 6/30.. Training loss: 1026.3402028538678.. Validation Loss: 496.1283258199692\n",
            "Accuracy of the network on the images Training accuracy: 49.289594651065606\n",
            "Epoch: 7/30.. Training loss: 920.3539049586183.. Validation Loss: 480.2201187133789\n",
            "Accuracy of the network on the images Training accuracy: 51.734224822398666\n",
            "Epoch: 8/30.. Training loss: 889.6740415566846.. Validation Loss: 427.498091506958\n",
            "Accuracy of the network on the images Training accuracy: 50.91934809862098\n",
            "Epoch: 9/30.. Training loss: 837.326092616998.. Validation Loss: 397.98516355752946\n",
            "Accuracy of the network on the images Training accuracy: 50.68951107396573\n",
            "Epoch: 10/30.. Training loss: 761.4210556149483.. Validation Loss: 413.2213318228722\n",
            "Accuracy of the network on the images Training accuracy: 51.27455077308817\n",
            "Epoch: 11/30.. Training loss: 747.8544769906684.. Validation Loss: 405.4344394519925\n",
            "Accuracy of the network on the images Training accuracy: 50.961136648558295\n",
            "Epoch: 12/30.. Training loss: 713.9611467228908.. Validation Loss: 375.9351290717721\n",
            "Accuracy of the network on the images Training accuracy: 51.149185123276226\n",
            "Epoch: 13/30.. Training loss: 700.8460551137595.. Validation Loss: 386.7975430637598\n",
            "Accuracy of the network on the images Training accuracy: 50.52235687421646\n",
            "Epoch: 14/30.. Training loss: 662.9455402585629.. Validation Loss: 359.2167329773307\n",
            "Accuracy of the network on the images Training accuracy: 50.125365649811954\n",
            "Epoch: 15/30.. Training loss: 670.2793416882816.. Validation Loss: 395.4371960401535\n",
            "Accuracy of the network on the images Training accuracy: 49.64479732553281\n",
            "Epoch: 16/30.. Training loss: 639.9297876056088.. Validation Loss: 389.6083437927067\n",
            "Accuracy of the network on the images Training accuracy: 51.128290848307564\n",
            "Epoch: 17/30.. Training loss: 642.2183345996432.. Validation Loss: 364.2533515382558\n",
            "Accuracy of the network on the images Training accuracy: 49.72837442540744\n",
            "Epoch: 18/30.. Training loss: 607.9967284552312.. Validation Loss: 384.4289419978857\n",
            "Accuracy of the network on the images Training accuracy: 51.23276222315086\n",
            "Epoch: 19/30.. Training loss: 595.8836832548443.. Validation Loss: 377.7697035714984\n",
            "Accuracy of the network on the images Training accuracy: 51.08650229837025\n",
            "Epoch: 20/30.. Training loss: 600.8793166025395.. Validation Loss: 330.9044175732881\n",
            "Accuracy of the network on the images Training accuracy: 50.376096949435855\n",
            "Epoch: 21/30.. Training loss: 581.3650126225425.. Validation Loss: 407.4657506294549\n",
            "Accuracy of the network on the images Training accuracy: 50.35520267446719\n",
            "Epoch: 22/30.. Training loss: 589.4776044305733.. Validation Loss: 360.03365025892856\n",
            "Accuracy of the network on the images Training accuracy: 50.73129962390305\n",
            "Epoch: 23/30.. Training loss: 581.1879273090193.. Validation Loss: 336.06964850774966\n",
            "Accuracy of the network on the images Training accuracy: 50.06268282490598\n",
            "Epoch: 24/30.. Training loss: 572.2138771640235.. Validation Loss: 350.95877829622475\n",
            "Accuracy of the network on the images Training accuracy: 49.97910572503134\n",
            "Epoch: 25/30.. Training loss: 598.4274035742702.. Validation Loss: 359.9077866980806\n",
            "Accuracy of the network on the images Training accuracy: 48.97618052653573\n",
            "Epoch: 26/30.. Training loss: 563.0558901006037.. Validation Loss: 351.2855184406042\n",
            "Accuracy of the network on the images Training accuracy: 51.60885917258671\n",
            "Epoch: 27/30.. Training loss: 560.5017945818897.. Validation Loss: 344.71307315151205\n",
            "Accuracy of the network on the images Training accuracy: 50.89845382365232\n",
            "Epoch: 28/30.. Training loss: 591.4869884367125.. Validation Loss: 315.8739679083228\n",
            "Accuracy of the network on the images Training accuracy: 49.91642290012537\n",
            "Epoch: 29/30.. Training loss: 570.5416002263266.. Validation Loss: 352.22780231833457\n",
            "Accuracy of the network on the images Training accuracy: 49.83284580025073\n",
            "Epoch: 30/30.. Training loss: 563.0611774200868.. Validation Loss: 327.89866971969604\n",
            "Accuracy of the network on the images Training accuracy: 50.35520267446719\n"
          ],
          "name": "stdout"
        }
      ]
    },
    {
      "cell_type": "code",
      "metadata": {
        "ExecuteTime": {
          "end_time": "2020-03-14T11:33:06.087157Z",
          "start_time": "2020-03-14T11:33:06.078181Z"
        },
        "colab_type": "code",
        "id": "O-O61jPQJXX-",
        "colab": {},
        "outputId": "eafd96ec-f051-49b3-c524-30524ec290d2"
      },
      "source": [
        "k"
      ],
      "execution_count": 0,
      "outputs": [
        {
          "output_type": "execute_result",
          "data": {
            "text/plain": [
              "['Epoch: 1/10.. Training loss: 1434.3400849794086.. Validation Loss: 788.6724471330642',\n",
              " 'Epoch: 2/10.. Training loss: 1786.851765475775.. Validation Loss: 1204.8966781854629',\n",
              " 'Epoch: 3/10.. Training loss: 1847.8155820118754.. Validation Loss: 1197.5632420778275',\n",
              " 'Epoch: 4/10.. Training loss: 1883.0194738852351.. Validation Loss: 1168.2561626195907',\n",
              " 'Epoch: 5/10.. Training loss: 1926.4888064108397.. Validation Loss: 1005.7937820196152',\n",
              " 'Epoch: 6/10.. Training loss: 1936.6227466150333.. Validation Loss: 893.9331599116325',\n",
              " 'Epoch: 7/10.. Training loss: 1923.3753650596268.. Validation Loss: 1003.6179736614228',\n",
              " 'Epoch: 8/10.. Training loss: 1952.5069659509156.. Validation Loss: 1150.396275639534',\n",
              " 'Epoch: 9/10.. Training loss: 1962.917996757909.. Validation Loss: 997.3310500860214',\n",
              " 'Epoch: 10/10.. Training loss: 1945.9641763913005.. Validation Loss: 2298.1456331729887']"
            ]
          },
          "metadata": {
            "tags": []
          },
          "execution_count": 52
        }
      ]
    },
    {
      "cell_type": "code",
      "metadata": {
        "id": "hNZBUnuLlapf",
        "colab_type": "code",
        "colab": {
          "base_uri": "https://localhost:8080/",
          "height": 52
        },
        "outputId": "a5193052-230e-44d6-b677-a107bfe696f9"
      },
      "source": [
        "for name,param in model.named_parameters():\n",
        "    if param.requires_grad == True:\n",
        "        print(\"\\t\",name)"
      ],
      "execution_count": 101,
      "outputs": [
        {
          "output_type": "stream",
          "text": [
            "\t classifier.6.weight\n",
            "\t classifier.6.bias\n"
          ],
          "name": "stdout"
        }
      ]
    },
    {
      "cell_type": "code",
      "metadata": {
        "id": "bJXcZ49yFyq4",
        "colab_type": "code",
        "colab": {}
      },
      "source": [
        ""
      ],
      "execution_count": 0,
      "outputs": []
    }
  ]
}