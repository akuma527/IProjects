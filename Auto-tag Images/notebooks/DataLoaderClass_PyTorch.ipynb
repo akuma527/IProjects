{
 "cells": [
  {
   "cell_type": "code",
   "execution_count": null,
   "metadata": {},
   "outputs": [],
   "source": []
  },
  {
   "cell_type": "code",
   "execution_count": 79,
   "metadata": {},
   "outputs": [],
   "source": [
    "from PIL import Image\n",
    "from torchvision.transforms import ToTensor, ToPILImage\n",
    "import numpy as np\n",
    "import random\n",
    "\n",
    "import tarfile\n",
    "import io\n",
    "import os\n",
    "import pandas as pd\n",
    "\n",
    "from torch.utils.data import Dataset\n",
    "import torch\n",
    "\n",
    "\n",
    "class YourDataset(Dataset):\n",
    "    def __init__(self, txt_path='filelist.txt', img_dir='data', testdata=False, transform=None):\n",
    "        \"\"\"\n",
    "        Initialize data set as a list of IDs corresponding to each item of data set\n",
    "\n",
    "        :param img_dir: path to image files as a uncompressed tar archive\n",
    "        :param txt_path: a text file containing names of all of images line by line\n",
    "        :param transform: apply some transforms like cropping, rotating, etc on input image\n",
    "        \"\"\"\n",
    "\n",
    "        df = pd.read_csv(txt_path)\n",
    "        self.img_names = df.Image.values\n",
    "        self.testdata = testdata\n",
    "        if not self.testdata:\n",
    "            self.target = df.Class.values\n",
    "        self.txt_path = txt_path\n",
    "        self.img_dir = img_dir\n",
    "        self.transform = transform\n",
    "        self.to_tensor = ToTensor()\n",
    "        self.to_pil = ToPILImage()\n",
    "        self.get_image_selector = True if img_dir.__contains__('tar') else False\n",
    "        self.tf = tarfile.open(self.img_dir) if self.get_image_selector else None\n",
    "\n",
    "    def get_image_from_tar(self, name):\n",
    "        \"\"\"\n",
    "        Gets a image by a name gathered from file list csv file\n",
    "\n",
    "        :param name: name of targeted image\n",
    "        :return: a PIL image\n",
    "        \"\"\"\n",
    "        image = self.tf.extractfile(name)\n",
    "        image = image.read()\n",
    "        image = Image.open(io.BytesIO(image))\n",
    "        return image\n",
    "\n",
    "    def get_image_from_folder(self, name):\n",
    "        \"\"\"\n",
    "        gets a image by a name gathered from file list text file\n",
    "\n",
    "        :param name: name of targeted image\n",
    "        :return: a PIL image\n",
    "        \"\"\"\n",
    "\n",
    "        image = Image.open(os.path.join(self.img_dir, name))\n",
    "        return image\n",
    "\n",
    "    def __len__(self):\n",
    "        \"\"\"\n",
    "        Return the length of data set using list of IDs\n",
    "\n",
    "        :return: number of samples in data set\n",
    "        \"\"\"\n",
    "        return len(self.img_names)\n",
    "\n",
    "    def __getitem__(self, index):\n",
    "        \"\"\"\n",
    "        Generate one item of data set.\n",
    "\n",
    "        :param index: index of item in IDs list\n",
    "\n",
    "        :return: a sample of data as a dict\n",
    "        \"\"\"\n",
    "\n",
    "        if index == (self.__len__() - 1) and self.get_image_selector:  # close tarfile opened in __init__\n",
    "            self.tf.close()\n",
    "\n",
    "        if self.get_image_selector:  # note: we prefer to extract then process!\n",
    "            X = self.get_image_from_tar(self.img_names[index])\n",
    "        else:\n",
    "            X = self.get_image_from_folder(self.img_names[index])\n",
    "            \n",
    "            if not self.testdata:\n",
    "                Y = self.target[index]\n",
    "\n",
    "        if self.transform is not None:\n",
    "            X = self.transform(X)\n",
    "\n",
    "        if not self.testdata:\n",
    "            sample = {'X': X,\n",
    "                      'Y': Y}\n",
    "        if self.testdata:\n",
    "            sample = {'X': X}\n",
    "\n",
    "        return sample"
   ]
  },
  {
   "cell_type": "code",
   "execution_count": 80,
   "metadata": {},
   "outputs": [],
   "source": [
    "train = YourDataset(txt_path='../dataset/train.csv', img_dir='../dataset/train_images/1/')"
   ]
  },
  {
   "cell_type": "code",
   "execution_count": 81,
   "metadata": {},
   "outputs": [],
   "source": [
    "test = YourDataset(txt_path='../dataset/test.csv', img_dir='../dataset/test_images/1/', testdata=True)"
   ]
  },
  {
   "cell_type": "code",
   "execution_count": 83,
   "metadata": {},
   "outputs": [
    {
     "data": {
      "image/png": "[encoded data removed]",
      "text/plain": [
       "<PIL.JpegImagePlugin.JpegImageFile image mode=RGB size=80x80 at 0x17708C169E8>"
      ]
     },
     "execution_count": 83,
     "metadata": {},
     "output_type": "execute_result"
    }
   ],
   "source": [
    "test[0]['X']"
   ]
  },
  {
   "cell_type": "code",
   "execution_count": null,
   "metadata": {},
   "outputs": [],
   "source": []
  }
 ],
 "metadata": {
  "kernelspec": {
   "display_name": "Python 3",
   "language": "python",
   "name": "python3"
  },
  "language_info": {
   "codemirror_mode": {
    "name": "ipython",
    "version": 3
   },
   "file_extension": ".py",
   "mimetype": "text/x-python",
   "name": "python",
   "nbconvert_exporter": "python",
   "pygments_lexer": "ipython3",
   "version": "3.6.5"
  }
 },
 "nbformat": 4,
 "nbformat_minor": 2
}
