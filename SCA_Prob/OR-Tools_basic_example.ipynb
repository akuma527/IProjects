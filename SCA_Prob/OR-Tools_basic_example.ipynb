{
 "cells": [
  {
   "cell_type": "code",
   "execution_count": 4,
   "metadata": {},
   "outputs": [],
   "source": [
    "from ortools.linear_solver import pywraplp\n",
    "solver = pywraplp.Solver('SolveSimpleSystem',pywraplp.Solver.GLOP_LINEAR_PROGRAMMING)"
   ]
  },
  {
   "cell_type": "code",
   "execution_count": 5,
   "metadata": {},
   "outputs": [],
   "source": [
    "food = [['ham',650, 4],\n",
    " ['lettuce',70,1.5],\n",
    " ['cheese',1670,5],\n",
    " ['tuna',830,20],\n",
    " ['bread',1300,1.20]]"
   ]
  },
  {
   "cell_type": "code",
   "execution_count": 6,
   "metadata": {},
   "outputs": [],
   "source": [
    "#food is a list of groceries, calories and prices\n",
    "variable_list = [[]] * len(food)\n",
    "for i in range(0, len(food)):\n",
    "    #you must buy at least minShop of each\n",
    "    variable_list[i] = solver.NumVar(4/16.0, solver.infinity(), str(food[i][0]))"
   ]
  },
  {
   "cell_type": "code",
   "execution_count": 7,
   "metadata": {},
   "outputs": [
    {
     "data": {
      "text/plain": [
       "[ham, lettuce, cheese, tuna, bread]"
      ]
     },
     "execution_count": 7,
     "metadata": {},
     "output_type": "execute_result"
    }
   ],
   "source": [
    "variable_list"
   ]
  },
  {
   "cell_type": "code",
   "execution_count": 8,
   "metadata": {},
   "outputs": [],
   "source": [
    "#same thing but with comprehension\n",
    "# variable_list=[solver.NumVar(minShop, solver.infinity(), str(food[i][0])) for i in range(0, len(food))]"
   ]
  },
  {
   "cell_type": "code",
   "execution_count": 9,
   "metadata": {},
   "outputs": [],
   "source": [
    "# Define the constraints   \n",
    "constraint_list=[]\n",
    "# Constraint 1: totalWeight<maxWeight\n",
    "# ham + lettuce + cheese + tuna + bread <= maxWeight\n",
    "constraint_list.append(solver.Constraint(0, 10))\n",
    "for i in range(0, len(food)):\n",
    "    constraint_list[0].SetCoefficient(variable_list[i],1)\n",
    "\n",
    "# Constraint 2: totalPrice<=maxCost\n",
    "constraint_list.append(solver.Constraint(0, 100))\n",
    "for i in range(0, len(food)):\n",
    "    constraint_list[1].SetCoefficient(variable_list[i],food[i][2])\n",
    "\n",
    "# Constraint 3: totalCalories>=minCals\n",
    "constraint_list.append(solver.Constraint(14000, 14000 + 100))\n",
    "for i in range(0, len(food)):\n",
    "    constraint_list[2].SetCoefficient(variable_list[i],food[i][1])"
   ]
  },
  {
   "cell_type": "code",
   "execution_count": 10,
   "metadata": {},
   "outputs": [],
   "source": [
    "objective = solver.Objective()"
   ]
  },
  {
   "cell_type": "code",
   "execution_count": 11,
   "metadata": {},
   "outputs": [],
   "source": [
    "# Define our objective: maximizing calories\n",
    "for i in range(0, len(food)):\n",
    "    objective.SetCoefficient(variable_list[i], food[i][1])\n",
    "objective.SetMaximization()"
   ]
  },
  {
   "cell_type": "code",
   "execution_count": 12,
   "metadata": {},
   "outputs": [
    {
     "name": "stdout",
     "output_type": "stream",
     "text": [
      "Successful solve.\n",
      "Problem solved in 51809.000000 milliseconds\n",
      "Optimal objective value = 14100.000000\n",
      "ham = 0.250000\n",
      "lettuce = 0.250000\n",
      "cheese = 4.560811\n",
      "tuna = 0.250000\n",
      "bread = 4.689189\n",
      "Variable sum = 10.000000\n",
      "Advanced usage:\n",
      "Problem solved in 3 iterations\n",
      "ham: reduced cost = 0.000000\n",
      "lettuce: reduced cost = 0.000000\n",
      "cheese: reduced cost = 0.000000\n",
      "tuna: reduced cost = 0.000000\n",
      "bread: reduced cost = 0.000000\n",
      "constraint 0: dual value = -0.000000\n",
      "               activity = 10.000000\n",
      "constraint 1: dual value = -0.000000\n",
      "               activity = 34.806081\n",
      "constraint 2: dual value = 1.000000\n",
      "               activity = 14100.000000\n"
     ]
    }
   ],
   "source": [
    "result_status = solver.Solve()\n",
    " \n",
    "if result_status == solver.OPTIMAL:\n",
    "    print('Successful solve.')\n",
    "    # The problem has an optimal solution.\n",
    "    print(('Problem solved in %f milliseconds' % solver.wall_time()))\n",
    "    # The objective value of the solution.\n",
    "    print(('Optimal objective value = %f' % solver.Objective().Value()))\n",
    "    # The value of each variable in the solution.\n",
    "    var_sum=0\n",
    "    for variable in variable_list:\n",
    "        print(('%s = %f' % (variable.name(), variable.solution_value())))\n",
    "        var_sum+=variable.solution_value()\n",
    "    print(('Variable sum = %f' % var_sum));\n",
    " \n",
    "    print('Advanced usage:')\n",
    "    print(('Problem solved in %d iterations' % solver.iterations()))\n",
    " \n",
    "    for variable in variable_list:\n",
    "        print(('%s: reduced cost = %f' % (variable.name(), variable.reduced_cost())))\n",
    "     \n",
    "    activities = solver.ComputeConstraintActivities()\n",
    "    for i, constraint in enumerate(constraint_list):\n",
    "        print(('constraint %d: dual value = %f\\n'\n",
    "          '               activity = %f' %\n",
    "          (i, constraint.dual_value(), activities[constraint.index()])))\n",
    " \n",
    "elif result_status == solver.INFEASIBLE:\n",
    "    print('No solution found.')\n",
    "elif result_status == solver.POSSIBLE_OVERFLOW:\n",
    "    print('Some inputs are too large and may cause an integer overflow.')\n",
    " "
   ]
  },
  {
   "cell_type": "code",
   "execution_count": null,
   "metadata": {},
   "outputs": [],
   "source": []
  },
  {
   "cell_type": "code",
   "execution_count": null,
   "metadata": {},
   "outputs": [],
   "source": []
  }
 ],
 "metadata": {
  "kernelspec": {
   "display_name": "Python 3",
   "language": "python",
   "name": "python3"
  },
  "language_info": {
   "codemirror_mode": {
    "name": "ipython",
    "version": 3
   },
   "file_extension": ".py",
   "mimetype": "text/x-python",
   "name": "python",
   "nbconvert_exporter": "python",
   "pygments_lexer": "ipython3",
   "version": "3.6.5"
  }
 },
 "nbformat": 4,
 "nbformat_minor": 2
}
