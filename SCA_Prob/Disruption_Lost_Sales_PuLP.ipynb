{
 "cells": [
  {
   "cell_type": "code",
   "execution_count": 1,
   "metadata": {
    "ExecuteTime": {
     "end_time": "2020-03-22T06:08:05.414568Z",
     "start_time": "2020-03-22T06:08:05.406568Z"
    }
   },
   "outputs": [],
   "source": [
    "import pandas as pd \n",
    "from pulp import *\n",
    "import re\n",
    "import numpy as np"
   ]
  },
  {
   "cell_type": "markdown",
   "metadata": {},
   "source": [
    "# Data Preparation"
   ]
  },
  {
   "cell_type": "code",
   "execution_count": 2,
   "metadata": {
    "ExecuteTime": {
     "end_time": "2020-03-22T06:32:18.639102Z",
     "start_time": "2020-03-22T06:32:18.631141Z"
    }
   },
   "outputs": [],
   "source": [
    "with open('data_1.txt', 'r') as fp:\n",
    "    x1 = fp.readlines()\n",
    "\n",
    "with open('data_2.txt', 'r') as fp:\n",
    "    x2 = fp.readlines()\n",
    "\n",
    "x1 = [re.sub('\\n','',i) for i in x1]\n",
    "x2 = [re.sub('\\n','',i) for i in x2]"
   ]
  },
  {
   "cell_type": "code",
   "execution_count": 3,
   "metadata": {
    "ExecuteTime": {
     "end_time": "2020-03-22T06:32:55.238130Z",
     "start_time": "2020-03-22T06:32:55.222129Z"
    }
   },
   "outputs": [],
   "source": [
    "df = pd.DataFrame([tuple(re.split(',',i)) for i in x1])\n",
    "df.columns = df.iloc[0]\n",
    "df.drop(df.index[0], inplace=True)\n",
    "df.reset_index(drop=True, inplace=True)\n",
    "\n",
    "df_2 = pd.DataFrame([tuple(re.split(',',i)) for i in x2])\n",
    "df_2.columns = df_2.iloc[0]\n",
    "df_2.drop(df_2.index[0], inplace=True)\n",
    "df_2.reset_index(drop=True, inplace=True)"
   ]
  },
  {
   "cell_type": "code",
   "execution_count": 4,
   "metadata": {
    "ExecuteTime": {
     "end_time": "2020-03-22T06:56:18.894076Z",
     "start_time": "2020-03-22T06:56:18.874071Z"
    }
   },
   "outputs": [],
   "source": [
    "df[' Inventory Cost(100 units)']=df[' Inventory Cost(100 units)'].astype(int)"
   ]
  },
  {
   "cell_type": "code",
   "execution_count": 5,
   "metadata": {},
   "outputs": [
    {
     "data": {
      "text/html": [
       "<div>\n",
       "<style scoped>\n",
       "    .dataframe tbody tr th:only-of-type {\n",
       "        vertical-align: middle;\n",
       "    }\n",
       "\n",
       "    .dataframe tbody tr th {\n",
       "        vertical-align: top;\n",
       "    }\n",
       "\n",
       "    .dataframe thead th {\n",
       "        text-align: right;\n",
       "    }\n",
       "</style>\n",
       "<table border=\"1\" class=\"dataframe\">\n",
       "  <thead>\n",
       "    <tr style=\"text-align: right;\">\n",
       "      <th></th>\n",
       "      <th>Plant</th>\n",
       "      <th>Inventory Cost(100 units)</th>\n",
       "      <th>Vendor</th>\n",
       "      <th>Capacity</th>\n",
       "      <th>Disruption Probability(1 - µ)</th>\n",
       "      <th>TTR of vendor</th>\n",
       "    </tr>\n",
       "  </thead>\n",
       "  <tbody>\n",
       "    <tr>\n",
       "      <th>0</th>\n",
       "      <td>ABX</td>\n",
       "      <td>31</td>\n",
       "      <td>1</td>\n",
       "      <td>1.2</td>\n",
       "      <td>0.0667</td>\n",
       "      <td>1</td>\n",
       "    </tr>\n",
       "    <tr>\n",
       "      <th>1</th>\n",
       "      <td>ABN</td>\n",
       "      <td>30</td>\n",
       "      <td>1</td>\n",
       "      <td>1.2</td>\n",
       "      <td>0.0667</td>\n",
       "      <td>1</td>\n",
       "    </tr>\n",
       "    <tr>\n",
       "      <th>2</th>\n",
       "      <td>GHY</td>\n",
       "      <td>32</td>\n",
       "      <td>2</td>\n",
       "      <td>0.9</td>\n",
       "      <td>0.1333</td>\n",
       "      <td>1.2</td>\n",
       "    </tr>\n",
       "    <tr>\n",
       "      <th>3</th>\n",
       "      <td>KJU</td>\n",
       "      <td>29</td>\n",
       "      <td>3</td>\n",
       "      <td>0.5</td>\n",
       "      <td>0.2000</td>\n",
       "      <td>1.4</td>\n",
       "    </tr>\n",
       "    <tr>\n",
       "      <th>4</th>\n",
       "      <td>PFR</td>\n",
       "      <td>30</td>\n",
       "      <td>4</td>\n",
       "      <td>0.5</td>\n",
       "      <td>0.1667</td>\n",
       "      <td>1.6</td>\n",
       "    </tr>\n",
       "    <tr>\n",
       "      <th>5</th>\n",
       "      <td>JKI1</td>\n",
       "      <td>30</td>\n",
       "      <td>5</td>\n",
       "      <td>2.4</td>\n",
       "      <td>0.0667</td>\n",
       "      <td>1.8</td>\n",
       "    </tr>\n",
       "    <tr>\n",
       "      <th>6</th>\n",
       "      <td>JKI2</td>\n",
       "      <td>33</td>\n",
       "      <td>5</td>\n",
       "      <td>2.4</td>\n",
       "      <td>0.0667</td>\n",
       "      <td>1.8</td>\n",
       "    </tr>\n",
       "    <tr>\n",
       "      <th>7</th>\n",
       "      <td>JKI3</td>\n",
       "      <td>31</td>\n",
       "      <td>5</td>\n",
       "      <td>2.4</td>\n",
       "      <td>0.0667</td>\n",
       "      <td>1.8</td>\n",
       "    </tr>\n",
       "    <tr>\n",
       "      <th>8</th>\n",
       "      <td>CFG1</td>\n",
       "      <td>500</td>\n",
       "      <td>6</td>\n",
       "      <td>0.2</td>\n",
       "      <td>0.0667</td>\n",
       "      <td>2</td>\n",
       "    </tr>\n",
       "    <tr>\n",
       "      <th>9</th>\n",
       "      <td>CFG2</td>\n",
       "      <td>550</td>\n",
       "      <td>7</td>\n",
       "      <td>0.4</td>\n",
       "      <td>0.1667</td>\n",
       "      <td>2.2</td>\n",
       "    </tr>\n",
       "    <tr>\n",
       "      <th>10</th>\n",
       "      <td>CFG3</td>\n",
       "      <td>600</td>\n",
       "      <td>8</td>\n",
       "      <td>0.3</td>\n",
       "      <td>0.0667</td>\n",
       "      <td>2.4</td>\n",
       "    </tr>\n",
       "    <tr>\n",
       "      <th>11</th>\n",
       "      <td>CFG4</td>\n",
       "      <td>505</td>\n",
       "      <td>9</td>\n",
       "      <td>0.2</td>\n",
       "      <td>0.0667</td>\n",
       "      <td>2.6</td>\n",
       "    </tr>\n",
       "  </tbody>\n",
       "</table>\n",
       "</div>"
      ],
      "text/plain": [
       "0  Plant   Inventory Cost(100 units)  Vendor  Capacity  \\\n",
       "0    ABX                          31       1       1.2   \n",
       "1    ABN                          30       1       1.2   \n",
       "2    GHY                          32       2       0.9   \n",
       "3    KJU                          29       3       0.5   \n",
       "4    PFR                          30       4       0.5   \n",
       "5   JKI1                          30       5       2.4   \n",
       "6   JKI2                          33       5       2.4   \n",
       "7   JKI3                          31       5       2.4   \n",
       "8   CFG1                         500       6       0.2   \n",
       "9   CFG2                         550       7       0.4   \n",
       "10  CFG3                         600       8       0.3   \n",
       "11  CFG4                         505       9       0.2   \n",
       "\n",
       "0   Disruption Probability(1 - µ)  TTR of vendor  \n",
       "0                          0.0667              1  \n",
       "1                          0.0667              1  \n",
       "2                          0.1333            1.2  \n",
       "3                          0.2000            1.4  \n",
       "4                          0.1667            1.6  \n",
       "5                          0.0667            1.8  \n",
       "6                          0.0667            1.8  \n",
       "7                          0.0667            1.8  \n",
       "8                          0.0667              2  \n",
       "9                          0.1667            2.2  \n",
       "10                         0.0667            2.4  \n",
       "11                         0.0667            2.6  "
      ]
     },
     "execution_count": 5,
     "metadata": {},
     "output_type": "execute_result"
    }
   ],
   "source": [
    "df"
   ]
  },
  {
   "cell_type": "code",
   "execution_count": 6,
   "metadata": {
    "ExecuteTime": {
     "end_time": "2020-03-22T06:56:07.719402Z",
     "start_time": "2020-03-22T06:56:07.699400Z"
    },
    "scrolled": false
   },
   "outputs": [
    {
     "data": {
      "text/html": [
       "<div>\n",
       "<style scoped>\n",
       "    .dataframe tbody tr th:only-of-type {\n",
       "        vertical-align: middle;\n",
       "    }\n",
       "\n",
       "    .dataframe tbody tr th {\n",
       "        vertical-align: top;\n",
       "    }\n",
       "\n",
       "    .dataframe thead th {\n",
       "        text-align: right;\n",
       "    }\n",
       "</style>\n",
       "<table border=\"1\" class=\"dataframe\">\n",
       "  <thead>\n",
       "    <tr style=\"text-align: right;\">\n",
       "      <th></th>\n",
       "      <th>ItemID</th>\n",
       "      <th>Vendor</th>\n",
       "      <th>Geographic Location</th>\n",
       "      <th>CFG1</th>\n",
       "      <th>CFG2</th>\n",
       "      <th>CFG3</th>\n",
       "      <th>CFG4</th>\n",
       "    </tr>\n",
       "  </thead>\n",
       "  <tbody>\n",
       "    <tr>\n",
       "      <th>0</th>\n",
       "      <td>ABX</td>\n",
       "      <td>1</td>\n",
       "      <td>US</td>\n",
       "      <td>1</td>\n",
       "      <td>1</td>\n",
       "      <td>1</td>\n",
       "      <td>0</td>\n",
       "    </tr>\n",
       "    <tr>\n",
       "      <th>1</th>\n",
       "      <td>ABN</td>\n",
       "      <td>1</td>\n",
       "      <td>US</td>\n",
       "      <td>1</td>\n",
       "      <td>1</td>\n",
       "      <td>1</td>\n",
       "      <td>0</td>\n",
       "    </tr>\n",
       "    <tr>\n",
       "      <th>2</th>\n",
       "      <td>GHY</td>\n",
       "      <td>2</td>\n",
       "      <td>Mexico</td>\n",
       "      <td>1</td>\n",
       "      <td>1</td>\n",
       "      <td>2</td>\n",
       "      <td>1</td>\n",
       "    </tr>\n",
       "    <tr>\n",
       "      <th>3</th>\n",
       "      <td>KJU</td>\n",
       "      <td>3</td>\n",
       "      <td>Mexico</td>\n",
       "      <td>1</td>\n",
       "      <td>0</td>\n",
       "      <td>1</td>\n",
       "      <td>0</td>\n",
       "    </tr>\n",
       "    <tr>\n",
       "      <th>4</th>\n",
       "      <td>PFR</td>\n",
       "      <td>4</td>\n",
       "      <td>US</td>\n",
       "      <td>1</td>\n",
       "      <td>0</td>\n",
       "      <td>1</td>\n",
       "      <td>0</td>\n",
       "    </tr>\n",
       "    <tr>\n",
       "      <th>5</th>\n",
       "      <td>JKI1</td>\n",
       "      <td>5</td>\n",
       "      <td>Mexico</td>\n",
       "      <td>0</td>\n",
       "      <td>3</td>\n",
       "      <td>0</td>\n",
       "      <td>0</td>\n",
       "    </tr>\n",
       "    <tr>\n",
       "      <th>6</th>\n",
       "      <td>JKI2</td>\n",
       "      <td>5</td>\n",
       "      <td>Mexico</td>\n",
       "      <td>3</td>\n",
       "      <td>0</td>\n",
       "      <td>0</td>\n",
       "      <td>0</td>\n",
       "    </tr>\n",
       "    <tr>\n",
       "      <th>7</th>\n",
       "      <td>JKI3</td>\n",
       "      <td>5</td>\n",
       "      <td>Mexico</td>\n",
       "      <td>2</td>\n",
       "      <td>0</td>\n",
       "      <td>3</td>\n",
       "      <td>2</td>\n",
       "    </tr>\n",
       "    <tr>\n",
       "      <th>8</th>\n",
       "      <td>CFG1</td>\n",
       "      <td>6</td>\n",
       "      <td>US</td>\n",
       "      <td>1</td>\n",
       "      <td>0</td>\n",
       "      <td>0</td>\n",
       "      <td>0</td>\n",
       "    </tr>\n",
       "    <tr>\n",
       "      <th>9</th>\n",
       "      <td>CFG2</td>\n",
       "      <td>7</td>\n",
       "      <td>US</td>\n",
       "      <td>0</td>\n",
       "      <td>1</td>\n",
       "      <td>0</td>\n",
       "      <td>0</td>\n",
       "    </tr>\n",
       "    <tr>\n",
       "      <th>10</th>\n",
       "      <td>CFG3</td>\n",
       "      <td>8</td>\n",
       "      <td>US</td>\n",
       "      <td>0</td>\n",
       "      <td>0</td>\n",
       "      <td>1</td>\n",
       "      <td>0</td>\n",
       "    </tr>\n",
       "    <tr>\n",
       "      <th>11</th>\n",
       "      <td>CFG4</td>\n",
       "      <td>9</td>\n",
       "      <td>US</td>\n",
       "      <td>0</td>\n",
       "      <td>0</td>\n",
       "      <td>0</td>\n",
       "      <td>1</td>\n",
       "    </tr>\n",
       "  </tbody>\n",
       "</table>\n",
       "</div>"
      ],
      "text/plain": [
       "0  ItemID  Vendor  Geographic Location  CFG1  CFG2  CFG3  CFG4\n",
       "0     ABX       1                   US     1     1     1     0\n",
       "1     ABN       1                   US     1     1     1     0\n",
       "2     GHY       2               Mexico     1     1     2     1\n",
       "3     KJU       3               Mexico     1     0     1     0\n",
       "4     PFR       4                   US     1     0     1     0\n",
       "5    JKI1       5               Mexico     0     3     0     0\n",
       "6    JKI2       5               Mexico     3     0     0     0\n",
       "7    JKI3       5               Mexico     2     0     3     2\n",
       "8    CFG1       6                   US     1     0     0     0\n",
       "9    CFG2       7                   US     0     1     0     0\n",
       "10   CFG3       8                   US     0     0     1     0\n",
       "11   CFG4       9                   US     0     0     0     1"
      ]
     },
     "execution_count": 6,
     "metadata": {},
     "output_type": "execute_result"
    }
   ],
   "source": [
    "df_2"
   ]
  },
  {
   "cell_type": "code",
   "execution_count": 7,
   "metadata": {},
   "outputs": [],
   "source": [
    "d = {}\n",
    "for i in range(8):\n",
    "    item = df_2['ItemID'].iloc[i]\n",
    "    cfg1 = df_2[' CFG1'].iloc[i] \n",
    "    cfg2 = df_2[' CFG2'].iloc[i]\n",
    "    cfg3 = df_2[' CFG3'].iloc[i]\n",
    "    cfg4 = df_2[' CFG4'].iloc[i]\n",
    "    d[(item,'CFG1')] = int(cfg1)\n",
    "    d[(item,'CFG2')] = int(cfg2)\n",
    "    d[(item,'CFG3')] = int(cfg3)\n",
    "    d[(item,'CFG4')] = int(cfg4)\n",
    "B = d"
   ]
  },
  {
   "cell_type": "markdown",
   "metadata": {},
   "source": [
    "# Defining Parameters"
   ]
  },
  {
   "cell_type": "code",
   "execution_count": 170,
   "metadata": {},
   "outputs": [],
   "source": [
    "# Create a list of the Plant Nodes\n",
    "M = df['Plant'].tolist()\n",
    "M1 = df['Plant'].tolist()[0:8]\n",
    "M2 = df['Plant'].tolist()[8:]\n",
    "N = [f'C{i}' for i in range(10)]\n",
    "\n",
    "# Create a dictionary of capacity for all Plant nodes\n",
    "capacity = dict(zip(M1,df[' Capacity']))\n",
    "\n",
    "# Create a dictionary of disruption probability for all Plant nodes\n",
    "dis_prob = dict(zip(M2,df[' Disruption Probability(1 - µ)']))\n",
    "\n",
    "# Create a dictionary of inventory costs\n",
    "inv_cost_x = dict(zip(M1,df[' Inventory Cost(100 units)'].iloc[0:8]))\n",
    "inv_cost_y = dict(zip(M2,df[' Inventory Cost(100 units)'].iloc[8:]))\n",
    "\n",
    "\n",
    "# Demand from all customers for different products\n",
    "demand = {\n",
    "    'C0':{'CFG1':20, 'CFG2':10, 'CFG3':0, 'CFG4':0},\n",
    "    'C1':{'CFG1':20, 'CFG2':0, 'CFG3':20, 'CFG4':40},\n",
    "    'C2':{'CFG1':10, 'CFG2':50, 'CFG3':0, 'CFG4':0},\n",
    "    'C3':{'CFG1':10, 'CFG2':10, 'CFG3':10, 'CFG4':0},\n",
    "    'C4':{'CFG1':60, 'CFG2':0, 'CFG3':20, 'CFG4':20},\n",
    "    'C5':{'CFG1':40, 'CFG2':0, 'CFG3':0, 'CFG4':30},\n",
    "    'C6':{'CFG1':40, 'CFG2':10, 'CFG3':20, 'CFG4':10},\n",
    "    'C7':{'CFG1':20, 'CFG2':0, 'CFG3':10, 'CFG4':0},\n",
    "    'C8':{'CFG1':10, 'CFG2':20, 'CFG3':10, 'CFG4':0},\n",
    "    'C9':{'CFG1':30, 'CFG2':0, 'CFG3':10, 'CFG4':20},\n",
    "    }\n",
    "\n",
    "# Lost Sales Penalty\n",
    "f = {\n",
    "    'C0':2.7, 'C1':1.7, 'C2':2.3, 'C3':1.5, \n",
    "    'C4':2.7, 'C5':1.7, 'C6':2.3, 'C7':1.5, \n",
    "    'C8':2.7, 'C9':1.7\n",
    "    }"
   ]
  },
  {
   "cell_type": "markdown",
   "metadata": {},
   "source": [
    "# Defining Random Variables"
   ]
  },
  {
   "cell_type": "code",
   "execution_count": 171,
   "metadata": {},
   "outputs": [
    {
     "data": {
      "text/plain": [
       "array([0, 0, 0, 1, 0, 0, 1, 0, 1, 1])"
      ]
     },
     "execution_count": 171,
     "metadata": {},
     "output_type": "execute_result"
    }
   ],
   "source": [
    "np.random.seed(9)\n",
    "v = np.random.randint(0,2,10)\n",
    "v"
   ]
  },
  {
   "cell_type": "code",
   "execution_count": 172,
   "metadata": {},
   "outputs": [],
   "source": [
    "TR = -1"
   ]
  },
  {
   "cell_type": "markdown",
   "metadata": {},
   "source": [
    "# Problem Definition"
   ]
  },
  {
   "cell_type": "code",
   "execution_count": 242,
   "metadata": {},
   "outputs": [],
   "source": [
    "obj = LpProblem(\"Disruption_Risk_Mitigation\",LpMinimize)"
   ]
  },
  {
   "cell_type": "markdown",
   "metadata": {},
   "source": [
    "# Defining Decision Variables"
   ]
  },
  {
   "cell_type": "code",
   "execution_count": 243,
   "metadata": {},
   "outputs": [],
   "source": [
    "# Since x is Continuous\n",
    "x  = {(i,j):\n",
    "           LpVariable(cat=LpContinuous, \n",
    "               lowBound=0, \n",
    "               name=\"x_{0}_{1}\".format(i,j)) \n",
    "for i in M1 for j in M2}\n"
   ]
  },
  {
   "cell_type": "code",
   "execution_count": 244,
   "metadata": {},
   "outputs": [],
   "source": [
    "# Since x is Continuous\n",
    "y = {(j,k):\n",
    "           LpVariable(cat=LpContinuous, \n",
    "               lowBound=0, \n",
    "               name=\"y_{0}_{1}\".format(j,k)) \n",
    "for j in M2 for k in N}"
   ]
  },
  {
   "cell_type": "code",
   "execution_count": 245,
   "metadata": {},
   "outputs": [],
   "source": [
    "# Since x is Continuous\n",
    "l = {(j,k):\n",
    "           LpVariable(cat=LpContinuous, \n",
    "               lowBound=0, \n",
    "               name=\"l_{0}_{1}\".format(j,k)) \n",
    "for j in M2 for k in N}"
   ]
  },
  {
   "cell_type": "code",
   "execution_count": 246,
   "metadata": {},
   "outputs": [],
   "source": [
    "# # This variable indicates lost sales\n",
    "# l = LpVariable.dict(\"lost_sales\", N, lowBound=0, cat='Continuous')"
   ]
  },
  {
   "cell_type": "code",
   "execution_count": 247,
   "metadata": {},
   "outputs": [],
   "source": [
    "# Since x is Continuous\n",
    "X  = {(i,j):\n",
    "           LpVariable(cat=LpInteger, \n",
    "               lowBound=0, upBound=1, \n",
    "               name=\"X_{0}_{1}\".format(i,j)) \n",
    "for i in M1 for j in M2}\n"
   ]
  },
  {
   "cell_type": "code",
   "execution_count": 248,
   "metadata": {},
   "outputs": [],
   "source": [
    "r_x = LpVariable.dicts(\"inventory_prod_x\", M1, lowBound=0, upBound=100, cat=LpContinuous)\n",
    "r_y = LpVariable.dicts(\"inventory_prod_y\", M2, lowBound=0, upBound=100, cat=LpContinuous)"
   ]
  },
  {
   "cell_type": "markdown",
   "metadata": {},
   "source": [
    "# Defining Objective"
   ]
  },
  {
   "cell_type": "code",
   "execution_count": 271,
   "metadata": {},
   "outputs": [
    {
     "name": "stderr",
     "output_type": "stream",
     "text": [
      "c:\\programs files\\python\\python36\\lib\\site-packages\\pulp\\pulp.py:1380: UserWarning: Overwriting previously set objective.\n",
      "  warnings.warn(\"Overwriting previously set objective.\")\n"
     ]
    }
   ],
   "source": [
    "obj += lpSum([f[k]*l[(j,k)]*100 for j in M2 for k in N] +                   # Overall Lost Sales Cost\n",
    "             [inv_cost_x[i]*r_x[i]*0.01 for i in M1] +                      # Inventory Cost @ Stage 1\n",
    "             [inv_cost_y[i]*r_y[i] for i in M2] +                           # Inventory Cost @ Stage 2\n",
    "             [inv_cost_x[i]*x[(i,j)] for i in M1 for j in M2] +             # Processing Cost @ Stage 1\n",
    "             [inv_cost_y[j]*y[(j,k)]*0.01 for j in M2 for k in N]           # Processing Cost @ Stage 2\n",
    "             )"
   ]
  },
  {
   "cell_type": "markdown",
   "metadata": {},
   "source": [
    "# Defining Constraints"
   ]
  },
  {
   "cell_type": "code",
   "execution_count": 272,
   "metadata": {},
   "outputs": [],
   "source": [
    "# # Capacity Constraint of x\n",
    "# for i in M1:\n",
    "#     obj += lpSum(x[(i,j)] for j in M2) >= capacity[i]"
   ]
  },
  {
   "cell_type": "code",
   "execution_count": 273,
   "metadata": {},
   "outputs": [],
   "source": [
    "# Constraint #1\n",
    "for j in M2:\n",
    "    obj += lpSum(x[(i,j)] for i in M1) >= lpSum(y[(j,k)] for k in N)"
   ]
  },
  {
   "cell_type": "code",
   "execution_count": 274,
   "metadata": {},
   "outputs": [],
   "source": [
    "# Constraint #2\n",
    "for k in N:\n",
    "    for j in M2:\n",
    "        obj += (demand[k][j]) <= l[(j,k)] + (y[(j,k)])"
   ]
  },
  {
   "cell_type": "code",
   "execution_count": 275,
   "metadata": {},
   "outputs": [],
   "source": [
    "# Constraint #3\n",
    "for i in M1:\n",
    "    obj += lpSum(x[(i,j)] for j in M2) - lpSum(y[(j,k)] for k in N for j in M2) <= r_x[i]"
   ]
  },
  {
   "cell_type": "code",
   "execution_count": 285,
   "metadata": {},
   "outputs": [],
   "source": [
    "# Constraint #4\n",
    "for j in M2:\n",
    "    obj += lpSum(y[(j,k)] for k in N) - lpSum(demand[k][j] for k in N) <= r_y[j]"
   ]
  },
  {
   "cell_type": "code",
   "execution_count": 286,
   "metadata": {},
   "outputs": [
    {
     "data": {
      "text/plain": [
       "1"
      ]
     },
     "execution_count": 286,
     "metadata": {},
     "output_type": "execute_result"
    }
   ],
   "source": [
    "obj.solve()"
   ]
  },
  {
   "cell_type": "code",
   "execution_count": 287,
   "metadata": {
    "scrolled": true
   },
   "outputs": [
    {
     "name": "stdout",
     "output_type": "stream",
     "text": [
      "x_KJU_CFG1 = 260.0\n",
      "x_KJU_CFG2 = 100.0\n",
      "x_KJU_CFG3 = 100.0\n",
      "x_KJU_CFG4 = 120.0\n",
      "y_CFG1_C0 = 20.0\n",
      "y_CFG1_C1 = 20.0\n",
      "y_CFG1_C2 = 10.0\n",
      "y_CFG1_C3 = 10.0\n",
      "y_CFG1_C4 = 60.0\n",
      "y_CFG1_C5 = 40.0\n",
      "y_CFG1_C6 = 40.0\n",
      "y_CFG1_C7 = 20.0\n",
      "y_CFG1_C8 = 10.0\n",
      "y_CFG1_C9 = 30.0\n",
      "y_CFG2_C0 = 10.0\n",
      "y_CFG2_C2 = 50.0\n",
      "y_CFG2_C3 = 10.0\n",
      "y_CFG2_C6 = 10.0\n",
      "y_CFG2_C8 = 20.0\n",
      "y_CFG3_C1 = 20.0\n",
      "y_CFG3_C3 = 10.0\n",
      "y_CFG3_C4 = 20.0\n",
      "y_CFG3_C6 = 20.0\n",
      "y_CFG3_C7 = 10.0\n",
      "y_CFG3_C8 = 10.0\n",
      "y_CFG3_C9 = 10.0\n",
      "y_CFG4_C1 = 40.0\n",
      "y_CFG4_C4 = 20.0\n",
      "y_CFG4_C5 = 30.0\n",
      "y_CFG4_C6 = 10.0\n",
      "y_CFG4_C9 = 20.0\n"
     ]
    }
   ],
   "source": [
    "for v in obj.variables():\n",
    "    if v.varValue>0:\n",
    "        print(v.name, \"=\", v.varValue)"
   ]
  },
  {
   "cell_type": "code",
   "execution_count": 288,
   "metadata": {},
   "outputs": [
    {
     "data": {
      "text/plain": [
       "19876.0"
      ]
     },
     "execution_count": 288,
     "metadata": {},
     "output_type": "execute_result"
    }
   ],
   "source": [
    "value(obj.objective)"
   ]
  },
  {
   "cell_type": "code",
   "execution_count": 166,
   "metadata": {},
   "outputs": [
    {
     "data": {
      "text/plain": [
       "10.0"
      ]
     },
     "execution_count": 166,
     "metadata": {},
     "output_type": "execute_result"
    }
   ],
   "source": []
  },
  {
   "cell_type": "code",
   "execution_count": null,
   "metadata": {},
   "outputs": [],
   "source": []
  }
 ],
 "metadata": {
  "kernelspec": {
   "display_name": "Python 3",
   "language": "python",
   "name": "python3"
  },
  "language_info": {
   "codemirror_mode": {
    "name": "ipython",
    "version": 3
   },
   "file_extension": ".py",
   "mimetype": "text/x-python",
   "name": "python",
   "nbconvert_exporter": "python",
   "pygments_lexer": "ipython3",
   "version": "3.6.5"
  }
 },
 "nbformat": 4,
 "nbformat_minor": 2
}
