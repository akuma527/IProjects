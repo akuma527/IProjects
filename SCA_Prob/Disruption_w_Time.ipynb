{
 "cells": [
  {
   "cell_type": "code",
   "execution_count": 1,
   "metadata": {
    "ExecuteTime": {
     "end_time": "2020-03-22T06:08:05.414568Z",
     "start_time": "2020-03-22T06:08:05.406568Z"
    }
   },
   "outputs": [],
   "source": [
    "import pandas as pd \n",
    "from pulp import *\n",
    "import re\n",
    "import numpy as np"
   ]
  },
  {
   "cell_type": "markdown",
   "metadata": {},
   "source": [
    "# Data Preparation"
   ]
  },
  {
   "cell_type": "code",
   "execution_count": 2,
   "metadata": {
    "ExecuteTime": {
     "end_time": "2020-03-22T06:32:18.639102Z",
     "start_time": "2020-03-22T06:32:18.631141Z"
    }
   },
   "outputs": [],
   "source": [
    "with open('data_1.txt', 'r') as fp:\n",
    "    x1 = fp.readlines()\n",
    "\n",
    "with open('data_2.txt', 'r') as fp:\n",
    "    x2 = fp.readlines()\n",
    "\n",
    "x1 = [re.sub('\\n','',i) for i in x1]\n",
    "x2 = [re.sub('\\n','',i) for i in x2]"
   ]
  },
  {
   "cell_type": "code",
   "execution_count": 3,
   "metadata": {
    "ExecuteTime": {
     "end_time": "2020-03-22T06:32:55.238130Z",
     "start_time": "2020-03-22T06:32:55.222129Z"
    }
   },
   "outputs": [],
   "source": [
    "df = pd.DataFrame([tuple(re.split(',',i)) for i in x1])\n",
    "df.columns = df.iloc[0]\n",
    "df.drop(df.index[0], inplace=True)\n",
    "df.reset_index(drop=True, inplace=True)\n",
    "\n",
    "df_2 = pd.DataFrame([tuple(re.split(',',i)) for i in x2])\n",
    "df_2.columns = df_2.iloc[0]\n",
    "df_2.drop(df_2.index[0], inplace=True)\n",
    "df_2.reset_index(drop=True, inplace=True)"
   ]
  },
  {
   "cell_type": "code",
   "execution_count": 30,
   "metadata": {
    "ExecuteTime": {
     "end_time": "2020-03-22T06:56:18.894076Z",
     "start_time": "2020-03-22T06:56:18.874071Z"
    }
   },
   "outputs": [],
   "source": [
    "df[' Inventory Cost(100 units)']=df[' Inventory Cost(100 units)'].astype(int)\n",
    "df[' Capacity'] = df[' Capacity'].astype(float)\n",
    "df[' Disruption Probability(1 - µ)'] = df[' Disruption Probability(1 - µ)'].astype(float)\n",
    "df[' TTR of vendor']=df[' TTR of vendor'].astype(float)"
   ]
  },
  {
   "cell_type": "code",
   "execution_count": 31,
   "metadata": {},
   "outputs": [
    {
     "data": {
      "text/html": [
       "<div>\n",
       "<style scoped>\n",
       "    .dataframe tbody tr th:only-of-type {\n",
       "        vertical-align: middle;\n",
       "    }\n",
       "\n",
       "    .dataframe tbody tr th {\n",
       "        vertical-align: top;\n",
       "    }\n",
       "\n",
       "    .dataframe thead th {\n",
       "        text-align: right;\n",
       "    }\n",
       "</style>\n",
       "<table border=\"1\" class=\"dataframe\">\n",
       "  <thead>\n",
       "    <tr style=\"text-align: right;\">\n",
       "      <th></th>\n",
       "      <th>Plant</th>\n",
       "      <th>Inventory Cost(100 units)</th>\n",
       "      <th>Vendor</th>\n",
       "      <th>Capacity</th>\n",
       "      <th>Disruption Probability(1 - µ)</th>\n",
       "      <th>TTR of vendor</th>\n",
       "    </tr>\n",
       "  </thead>\n",
       "  <tbody>\n",
       "    <tr>\n",
       "      <th>0</th>\n",
       "      <td>ABX</td>\n",
       "      <td>31</td>\n",
       "      <td>1</td>\n",
       "      <td>1.2</td>\n",
       "      <td>0.0667</td>\n",
       "      <td>1.0</td>\n",
       "    </tr>\n",
       "    <tr>\n",
       "      <th>1</th>\n",
       "      <td>ABN</td>\n",
       "      <td>30</td>\n",
       "      <td>1</td>\n",
       "      <td>1.2</td>\n",
       "      <td>0.0667</td>\n",
       "      <td>1.0</td>\n",
       "    </tr>\n",
       "    <tr>\n",
       "      <th>2</th>\n",
       "      <td>GHY</td>\n",
       "      <td>32</td>\n",
       "      <td>2</td>\n",
       "      <td>0.9</td>\n",
       "      <td>0.1333</td>\n",
       "      <td>1.2</td>\n",
       "    </tr>\n",
       "    <tr>\n",
       "      <th>3</th>\n",
       "      <td>KJU</td>\n",
       "      <td>29</td>\n",
       "      <td>3</td>\n",
       "      <td>0.5</td>\n",
       "      <td>0.2000</td>\n",
       "      <td>1.4</td>\n",
       "    </tr>\n",
       "    <tr>\n",
       "      <th>4</th>\n",
       "      <td>PFR</td>\n",
       "      <td>30</td>\n",
       "      <td>4</td>\n",
       "      <td>0.5</td>\n",
       "      <td>0.1667</td>\n",
       "      <td>1.6</td>\n",
       "    </tr>\n",
       "    <tr>\n",
       "      <th>5</th>\n",
       "      <td>JKI1</td>\n",
       "      <td>30</td>\n",
       "      <td>5</td>\n",
       "      <td>2.4</td>\n",
       "      <td>0.0667</td>\n",
       "      <td>1.8</td>\n",
       "    </tr>\n",
       "    <tr>\n",
       "      <th>6</th>\n",
       "      <td>JKI2</td>\n",
       "      <td>33</td>\n",
       "      <td>5</td>\n",
       "      <td>2.4</td>\n",
       "      <td>0.0667</td>\n",
       "      <td>1.8</td>\n",
       "    </tr>\n",
       "    <tr>\n",
       "      <th>7</th>\n",
       "      <td>JKI3</td>\n",
       "      <td>31</td>\n",
       "      <td>5</td>\n",
       "      <td>2.4</td>\n",
       "      <td>0.0667</td>\n",
       "      <td>1.8</td>\n",
       "    </tr>\n",
       "    <tr>\n",
       "      <th>8</th>\n",
       "      <td>CFG1</td>\n",
       "      <td>500</td>\n",
       "      <td>6</td>\n",
       "      <td>0.2</td>\n",
       "      <td>0.0667</td>\n",
       "      <td>2.0</td>\n",
       "    </tr>\n",
       "    <tr>\n",
       "      <th>9</th>\n",
       "      <td>CFG2</td>\n",
       "      <td>550</td>\n",
       "      <td>7</td>\n",
       "      <td>0.4</td>\n",
       "      <td>0.1667</td>\n",
       "      <td>2.2</td>\n",
       "    </tr>\n",
       "    <tr>\n",
       "      <th>10</th>\n",
       "      <td>CFG3</td>\n",
       "      <td>600</td>\n",
       "      <td>8</td>\n",
       "      <td>0.3</td>\n",
       "      <td>0.0667</td>\n",
       "      <td>2.4</td>\n",
       "    </tr>\n",
       "    <tr>\n",
       "      <th>11</th>\n",
       "      <td>CFG4</td>\n",
       "      <td>505</td>\n",
       "      <td>9</td>\n",
       "      <td>0.2</td>\n",
       "      <td>0.0667</td>\n",
       "      <td>2.6</td>\n",
       "    </tr>\n",
       "  </tbody>\n",
       "</table>\n",
       "</div>"
      ],
      "text/plain": [
       "0  Plant   Inventory Cost(100 units)  Vendor   Capacity  \\\n",
       "0    ABX                          31       1        1.2   \n",
       "1    ABN                          30       1        1.2   \n",
       "2    GHY                          32       2        0.9   \n",
       "3    KJU                          29       3        0.5   \n",
       "4    PFR                          30       4        0.5   \n",
       "5   JKI1                          30       5        2.4   \n",
       "6   JKI2                          33       5        2.4   \n",
       "7   JKI3                          31       5        2.4   \n",
       "8   CFG1                         500       6        0.2   \n",
       "9   CFG2                         550       7        0.4   \n",
       "10  CFG3                         600       8        0.3   \n",
       "11  CFG4                         505       9        0.2   \n",
       "\n",
       "0    Disruption Probability(1 - µ)   TTR of vendor  \n",
       "0                           0.0667             1.0  \n",
       "1                           0.0667             1.0  \n",
       "2                           0.1333             1.2  \n",
       "3                           0.2000             1.4  \n",
       "4                           0.1667             1.6  \n",
       "5                           0.0667             1.8  \n",
       "6                           0.0667             1.8  \n",
       "7                           0.0667             1.8  \n",
       "8                           0.0667             2.0  \n",
       "9                           0.1667             2.2  \n",
       "10                          0.0667             2.4  \n",
       "11                          0.0667             2.6  "
      ]
     },
     "execution_count": 31,
     "metadata": {},
     "output_type": "execute_result"
    }
   ],
   "source": [
    "df"
   ]
  },
  {
   "cell_type": "code",
   "execution_count": 6,
   "metadata": {
    "ExecuteTime": {
     "end_time": "2020-03-22T06:56:07.719402Z",
     "start_time": "2020-03-22T06:56:07.699400Z"
    },
    "scrolled": false
   },
   "outputs": [
    {
     "data": {
      "text/html": [
       "<div>\n",
       "<style scoped>\n",
       "    .dataframe tbody tr th:only-of-type {\n",
       "        vertical-align: middle;\n",
       "    }\n",
       "\n",
       "    .dataframe tbody tr th {\n",
       "        vertical-align: top;\n",
       "    }\n",
       "\n",
       "    .dataframe thead th {\n",
       "        text-align: right;\n",
       "    }\n",
       "</style>\n",
       "<table border=\"1\" class=\"dataframe\">\n",
       "  <thead>\n",
       "    <tr style=\"text-align: right;\">\n",
       "      <th></th>\n",
       "      <th>ItemID</th>\n",
       "      <th>Vendor</th>\n",
       "      <th>Geographic Location</th>\n",
       "      <th>CFG1</th>\n",
       "      <th>CFG2</th>\n",
       "      <th>CFG3</th>\n",
       "      <th>CFG4</th>\n",
       "    </tr>\n",
       "  </thead>\n",
       "  <tbody>\n",
       "    <tr>\n",
       "      <th>0</th>\n",
       "      <td>ABX</td>\n",
       "      <td>1</td>\n",
       "      <td>US</td>\n",
       "      <td>1</td>\n",
       "      <td>1</td>\n",
       "      <td>1</td>\n",
       "      <td>0</td>\n",
       "    </tr>\n",
       "    <tr>\n",
       "      <th>1</th>\n",
       "      <td>ABN</td>\n",
       "      <td>1</td>\n",
       "      <td>US</td>\n",
       "      <td>1</td>\n",
       "      <td>1</td>\n",
       "      <td>1</td>\n",
       "      <td>0</td>\n",
       "    </tr>\n",
       "    <tr>\n",
       "      <th>2</th>\n",
       "      <td>GHY</td>\n",
       "      <td>2</td>\n",
       "      <td>Mexico</td>\n",
       "      <td>1</td>\n",
       "      <td>1</td>\n",
       "      <td>2</td>\n",
       "      <td>1</td>\n",
       "    </tr>\n",
       "    <tr>\n",
       "      <th>3</th>\n",
       "      <td>KJU</td>\n",
       "      <td>3</td>\n",
       "      <td>Mexico</td>\n",
       "      <td>1</td>\n",
       "      <td>0</td>\n",
       "      <td>1</td>\n",
       "      <td>0</td>\n",
       "    </tr>\n",
       "    <tr>\n",
       "      <th>4</th>\n",
       "      <td>PFR</td>\n",
       "      <td>4</td>\n",
       "      <td>US</td>\n",
       "      <td>1</td>\n",
       "      <td>0</td>\n",
       "      <td>1</td>\n",
       "      <td>0</td>\n",
       "    </tr>\n",
       "    <tr>\n",
       "      <th>5</th>\n",
       "      <td>JKI1</td>\n",
       "      <td>5</td>\n",
       "      <td>Mexico</td>\n",
       "      <td>0</td>\n",
       "      <td>3</td>\n",
       "      <td>0</td>\n",
       "      <td>0</td>\n",
       "    </tr>\n",
       "    <tr>\n",
       "      <th>6</th>\n",
       "      <td>JKI2</td>\n",
       "      <td>5</td>\n",
       "      <td>Mexico</td>\n",
       "      <td>3</td>\n",
       "      <td>0</td>\n",
       "      <td>0</td>\n",
       "      <td>0</td>\n",
       "    </tr>\n",
       "    <tr>\n",
       "      <th>7</th>\n",
       "      <td>JKI3</td>\n",
       "      <td>5</td>\n",
       "      <td>Mexico</td>\n",
       "      <td>2</td>\n",
       "      <td>0</td>\n",
       "      <td>3</td>\n",
       "      <td>2</td>\n",
       "    </tr>\n",
       "    <tr>\n",
       "      <th>8</th>\n",
       "      <td>CFG1</td>\n",
       "      <td>6</td>\n",
       "      <td>US</td>\n",
       "      <td>1</td>\n",
       "      <td>0</td>\n",
       "      <td>0</td>\n",
       "      <td>0</td>\n",
       "    </tr>\n",
       "    <tr>\n",
       "      <th>9</th>\n",
       "      <td>CFG2</td>\n",
       "      <td>7</td>\n",
       "      <td>US</td>\n",
       "      <td>0</td>\n",
       "      <td>1</td>\n",
       "      <td>0</td>\n",
       "      <td>0</td>\n",
       "    </tr>\n",
       "    <tr>\n",
       "      <th>10</th>\n",
       "      <td>CFG3</td>\n",
       "      <td>8</td>\n",
       "      <td>US</td>\n",
       "      <td>0</td>\n",
       "      <td>0</td>\n",
       "      <td>1</td>\n",
       "      <td>0</td>\n",
       "    </tr>\n",
       "    <tr>\n",
       "      <th>11</th>\n",
       "      <td>CFG4</td>\n",
       "      <td>9</td>\n",
       "      <td>US</td>\n",
       "      <td>0</td>\n",
       "      <td>0</td>\n",
       "      <td>0</td>\n",
       "      <td>1</td>\n",
       "    </tr>\n",
       "  </tbody>\n",
       "</table>\n",
       "</div>"
      ],
      "text/plain": [
       "0  ItemID  Vendor  Geographic Location  CFG1  CFG2  CFG3  CFG4\n",
       "0     ABX       1                   US     1     1     1     0\n",
       "1     ABN       1                   US     1     1     1     0\n",
       "2     GHY       2               Mexico     1     1     2     1\n",
       "3     KJU       3               Mexico     1     0     1     0\n",
       "4     PFR       4                   US     1     0     1     0\n",
       "5    JKI1       5               Mexico     0     3     0     0\n",
       "6    JKI2       5               Mexico     3     0     0     0\n",
       "7    JKI3       5               Mexico     2     0     3     2\n",
       "8    CFG1       6                   US     1     0     0     0\n",
       "9    CFG2       7                   US     0     1     0     0\n",
       "10   CFG3       8                   US     0     0     1     0\n",
       "11   CFG4       9                   US     0     0     0     1"
      ]
     },
     "execution_count": 6,
     "metadata": {},
     "output_type": "execute_result"
    }
   ],
   "source": [
    "df_2"
   ]
  },
  {
   "cell_type": "code",
   "execution_count": 7,
   "metadata": {},
   "outputs": [],
   "source": [
    "d = {}\n",
    "for i in range(8):\n",
    "    item = df_2['ItemID'].iloc[i]\n",
    "    cfg1 = df_2[' CFG1'].iloc[i] \n",
    "    cfg2 = df_2[' CFG2'].iloc[i]\n",
    "    cfg3 = df_2[' CFG3'].iloc[i]\n",
    "    cfg4 = df_2[' CFG4'].iloc[i]\n",
    "    d[(item,'CFG1')] = int(cfg1)\n",
    "    d[(item,'CFG2')] = int(cfg2)\n",
    "    d[(item,'CFG3')] = int(cfg3)\n",
    "    d[(item,'CFG4')] = int(cfg4)\n",
    "B = d"
   ]
  },
  {
   "cell_type": "markdown",
   "metadata": {},
   "source": [
    "# Defining Parameters"
   ]
  },
  {
   "cell_type": "code",
   "execution_count": 32,
   "metadata": {},
   "outputs": [],
   "source": [
    "# Create a list of the Plant Nodes\n",
    "M = df['Plant'].tolist()\n",
    "M1 = df['Plant'].tolist()[0:8]\n",
    "M2 = df['Plant'].tolist()[8:]\n",
    "N = [f'C{i}' for i in range(5)]\n",
    "\n",
    "# Create a dictionary of capacity for all Plant nodes\n",
    "capacity_x = dict(zip(M1,df[' Capacity']))\n",
    "capacity_y = dict(zip(M2,df[' Capacity']))\n",
    "\n",
    "# Create a dictionary of disruption probability for all Plant nodes\n",
    "dis_prob = dict(zip(M1,df[' Disruption Probability(1 - µ)']))\n",
    "\n",
    "# Create a dictionary of inventory costs\n",
    "inv_cost_x = dict(zip(M1,df[' Inventory Cost(100 units)'].iloc[0:8]))\n",
    "inv_cost_y = dict(zip(M2,df[' Inventory Cost(100 units)'].iloc[8:]))\n",
    "\n",
    "\n",
    "# # Demand from all customers for different products\n",
    "# demand = {\n",
    "#     'C0':{'CFG1':20, 'CFG2':10, 'CFG3':0, 'CFG4':0},\n",
    "#     'C1':{'CFG1':20, 'CFG2':0, 'CFG3':20, 'CFG4':40},\n",
    "#     'C2':{'CFG1':10, 'CFG2':50, 'CFG3':0, 'CFG4':0},\n",
    "#     'C3':{'CFG1':10, 'CFG2':10, 'CFG3':10, 'CFG4':0},\n",
    "#     'C4':{'CFG1':60, 'CFG2':0, 'CFG3':20, 'CFG4':20},\n",
    "#     'C5':{'CFG1':40, 'CFG2':0, 'CFG3':0, 'CFG4':30},\n",
    "#     'C6':{'CFG1':40, 'CFG2':10, 'CFG3':20, 'CFG4':10},\n",
    "#     'C7':{'CFG1':20, 'CFG2':0, 'CFG3':10, 'CFG4':0},\n",
    "#     'C8':{'CFG1':10, 'CFG2':20, 'CFG3':10, 'CFG4':0},\n",
    "#     'C9':{'CFG1':30, 'CFG2':0, 'CFG3':10, 'CFG4':20},\n",
    "#     }\n",
    "\n",
    "Tr =  dict(zip(M1,df[' TTR of vendor']))\n",
    "\n",
    "# Lost Sales Penalty\n",
    "f = {\n",
    "    'C0':5, 'C1':7, 'C2':6, 'C3':6, \n",
    "    'C4':8}"
   ]
  },
  {
   "cell_type": "code",
   "execution_count": 33,
   "metadata": {},
   "outputs": [],
   "source": [
    "demand = {\n",
    "    'C0':{'W1':{'CFG1':0, 'CFG2':0, 'CFG3':10, 'CFG4':0},\n",
    "          'W2':{'CFG1':0, 'CFG2':10, 'CFG3':300, 'CFG4':0},\n",
    "          'W3':{'CFG1':0, 'CFG2':100, 'CFG3':0, 'CFG4':0},\n",
    "          'W4':{'CFG1':200, 'CFG2':10, 'CFG3':0, 'CFG4':0}\n",
    "         },\n",
    "    'C1':{'W1':{'CFG1':0, 'CFG2':10, 'CFG3':10, 'CFG4':0},\n",
    "          'W2':{'CFG1':0, 'CFG2':50, 'CFG3':10, 'CFG4':0},\n",
    "          'W3':{'CFG1':0, 'CFG2':10, 'CFG3':0, 'CFG4':0},\n",
    "          'W4':{'CFG1':0, 'CFG2':10, 'CFG3':0, 'CFG4':0}\n",
    "         },\n",
    "    'C2':{'W1':{'CFG1':0, 'CFG2':10, 'CFG3':0, 'CFG4':0},\n",
    "          'W2':{'CFG1':300, 'CFG2':0, 'CFG3':0, 'CFG4':0},\n",
    "          'W3':{'CFG1':0, 'CFG2':0, 'CFG3':500, 'CFG4':0},\n",
    "          'W4':{'CFG1':0, 'CFG2':0, 'CFG3':200, 'CFG4':0}\n",
    "         },\n",
    "    'C3':{'W1':{'CFG1':0, 'CFG2':10, 'CFG3':0, 'CFG4':0},\n",
    "          'W2':{'CFG1':100, 'CFG2':10, 'CFG3':550, 'CFG4':0},\n",
    "          'W3':{'CFG1':0, 'CFG2':10, 'CFG3':0, 'CFG4':0},\n",
    "          'W4':{'CFG1':0, 'CFG2':10, 'CFG3':0, 'CFG4':0}\n",
    "         },\n",
    "    'C4':{'W1':{'CFG1':20, 'CFG2':10, 'CFG3':0, 'CFG4':0},\n",
    "          'W2':{'CFG1':0, 'CFG2':10, 'CFG3':0, 'CFG4':0},\n",
    "          'W3':{'CFG1':600, 'CFG2':10, 'CFG3':0, 'CFG4':0},\n",
    "          'W4':{'CFG1':0, 'CFG2':0, 'CFG3':0, 'CFG4':0}\n",
    "         }\n",
    "    }\n",
    "\n",
    "W = ['W1', 'W2', 'W3', 'W4']"
   ]
  },
  {
   "cell_type": "code",
   "execution_count": 34,
   "metadata": {},
   "outputs": [
    {
     "data": {
      "text/plain": [
       "{'ABX': 0.0667,\n",
       " 'ABN': 0.0667,\n",
       " 'GHY': 0.1333,\n",
       " 'KJU': 0.2,\n",
       " 'PFR': 0.1667,\n",
       " 'JKI1': 0.0667,\n",
       " 'JKI2': 0.0667,\n",
       " 'JKI3': 0.0667}"
      ]
     },
     "execution_count": 34,
     "metadata": {},
     "output_type": "execute_result"
    }
   ],
   "source": [
    "dis_prob"
   ]
  },
  {
   "cell_type": "markdown",
   "metadata": {},
   "source": [
    "# Defining Random Variables"
   ]
  },
  {
   "cell_type": "code",
   "execution_count": 35,
   "metadata": {},
   "outputs": [
    {
     "data": {
      "text/plain": [
       "array([[0.01037415, 0.50187459, 0.49577329, 0.13382953, 0.14211109,\n",
       "        0.21855868, 0.41850818, 0.24810117, 0.08405965, 0.34549864,\n",
       "        0.16677635, 0.87855909, 0.95096403, 0.03874838, 0.69910739,\n",
       "        0.57275982, 0.89800712, 0.66689897, 0.54783778, 0.70242742,\n",
       "        0.38647717, 0.69443868, 0.82487046, 0.46566848, 0.94052441,\n",
       "        0.80373977, 0.98335925, 0.16963626, 0.52108471, 0.94551742,\n",
       "        0.64954046, 0.86083192]])"
      ]
     },
     "execution_count": 35,
     "metadata": {},
     "output_type": "execute_result"
    }
   ],
   "source": [
    "np.random.seed(9)\n",
    "v = np.random.random(size=(1,32))\n",
    "v"
   ]
  },
  {
   "cell_type": "code",
   "execution_count": 36,
   "metadata": {},
   "outputs": [],
   "source": [
    "c = 0\n",
    "d = {}\n",
    "for i in range(len(M1)):\n",
    "    for t in range(len(W)):\n",
    "        d[(M1[i],W[t])] = v[0][c]\n",
    "        c+=1"
   ]
  },
  {
   "cell_type": "code",
   "execution_count": 37,
   "metadata": {},
   "outputs": [
    {
     "data": {
      "text/plain": [
       "{('ABX', 'W1'): 0.010374153885699955,\n",
       " ('ABX', 'W2'): 0.5018745921487388,\n",
       " ('ABX', 'W3'): 0.4957732931341461,\n",
       " ('ABX', 'W4'): 0.13382952895927658,\n",
       " ('ABN', 'W1'): 0.14211108545453854,\n",
       " ('ABN', 'W2'): 0.21855867562607822,\n",
       " ('ABN', 'W3'): 0.41850818051045247,\n",
       " ('ABN', 'W4'): 0.24810116841355911,\n",
       " ('GHY', 'W1'): 0.08405965116535008,\n",
       " ('GHY', 'W2'): 0.3454986400504001,\n",
       " ('GHY', 'W3'): 0.16677634653232143,\n",
       " ('GHY', 'W4'): 0.878559085532659,\n",
       " ('KJU', 'W1'): 0.9509640316267165,\n",
       " ('KJU', 'W2'): 0.038748375832319826,\n",
       " ('KJU', 'W3'): 0.699107391398761,\n",
       " ('KJU', 'W4'): 0.5727598155694092,\n",
       " ('PFR', 'W1'): 0.8980071182251496,\n",
       " ('PFR', 'W2'): 0.6668989729196366,\n",
       " ('PFR', 'W3'): 0.5478377830464816,\n",
       " ('PFR', 'W4'): 0.7024274240680553,\n",
       " ('JKI1', 'W1'): 0.3864771696146654,\n",
       " ('JKI1', 'W2'): 0.6944386777644582,\n",
       " ('JKI1', 'W3'): 0.8248704645005481,\n",
       " ('JKI1', 'W4'): 0.46566847536726585,\n",
       " ('JKI2', 'W1'): 0.9405244095266561,\n",
       " ('JKI2', 'W2'): 0.8037397700123178,\n",
       " ('JKI2', 'W3'): 0.9833592482243325,\n",
       " ('JKI2', 'W4'): 0.1696362575837671,\n",
       " ('JKI3', 'W1'): 0.5210847114597973,\n",
       " ('JKI3', 'W2'): 0.9455174169762407,\n",
       " ('JKI3', 'W3'): 0.6495404631604762,\n",
       " ('JKI3', 'W4'): 0.8608319232256967}"
      ]
     },
     "execution_count": 37,
     "metadata": {},
     "output_type": "execute_result"
    }
   ],
   "source": [
    "d"
   ]
  },
  {
   "cell_type": "markdown",
   "metadata": {},
   "source": [
    "# Problem Definition"
   ]
  },
  {
   "cell_type": "code",
   "execution_count": 89,
   "metadata": {},
   "outputs": [],
   "source": [
    "obj = LpProblem(\"Disruption_Risk_Mitigation\",LpMinimize)"
   ]
  },
  {
   "cell_type": "markdown",
   "metadata": {},
   "source": [
    "# Defining Decision Variables"
   ]
  },
  {
   "cell_type": "code",
   "execution_count": 90,
   "metadata": {},
   "outputs": [],
   "source": [
    "# Since x is Continuous\n",
    "x  = {(i,t,j):\n",
    "           LpVariable(cat=LpContinuous, \n",
    "               lowBound=0,  \n",
    "               name=\"x_{0}_{1}_{2}\".format(i,t,j)) \n",
    "for i in M1 for t in W for j in M2}\n"
   ]
  },
  {
   "cell_type": "code",
   "execution_count": 91,
   "metadata": {},
   "outputs": [],
   "source": [
    "# Since x is Continuous\n",
    "y = {(j,t,k):\n",
    "           LpVariable(cat=LpContinuous, \n",
    "               lowBound=0,\n",
    "               name=\"y_{0}_{1}_{2}\".format(j,t,k)) \n",
    "for j in M2 for t in W for k in N}"
   ]
  },
  {
   "cell_type": "code",
   "execution_count": 92,
   "metadata": {},
   "outputs": [],
   "source": [
    "# Since x is Continuous\n",
    "l = {(j,t,k):\n",
    "           LpVariable(cat=LpContinuous, \n",
    "               lowBound=0, \n",
    "               name=\"l_{0}_{1}_{2}\".format(j,t,k)) \n",
    "for j in M2 for t in W for k in N}"
   ]
  },
  {
   "cell_type": "code",
   "execution_count": 93,
   "metadata": {},
   "outputs": [],
   "source": [
    "# Inventory Decision Variable for Stage 1\n",
    "r_x = {(i,t):\n",
    "           LpVariable(cat=LpContinuous, \n",
    "               lowBound=0, \n",
    "               name=\"inventory_prod_x_{0}_{1}\".format(i,t)) \n",
    "for i in M1 for t in W}\n",
    "\n",
    "# Inventory Decision Variable for Stage 2\n",
    "r_y = {(j,t):\n",
    "           LpVariable(cat=LpContinuous, \n",
    "               lowBound=0, \n",
    "               name=\"inventory_prod_y_{0}_{1}\".format(j,t)) \n",
    "for j in M2 for t in W}\n",
    "\n",
    "# Amount of product sold in each week\n",
    "q = {(j,t,k):\n",
    "           LpVariable(cat=LpContinuous, \n",
    "               lowBound=0, \n",
    "               name=\"amount_sold_{0}_{1}_{2}\".format(j,t,k)) \n",
    "for j in M2 for t in W for k in N}"
   ]
  },
  {
   "cell_type": "code",
   "execution_count": 94,
   "metadata": {},
   "outputs": [],
   "source": [
    "# Disruption Variable for Stage 1\n",
    "d_x = {(i,t):\n",
    "           LpVariable(cat=LpInteger, \n",
    "               lowBound=0, upBound=1,\n",
    "               name=\"disruption_{0}_{1}\".format(i,t)) \n",
    "for i in M1 for t in W}"
   ]
  },
  {
   "cell_type": "code",
   "execution_count": 95,
   "metadata": {},
   "outputs": [],
   "source": [
    "TRV = LpVariable(cat=LpContinuous, lowBound=0, name=\"TRV\")"
   ]
  },
  {
   "cell_type": "markdown",
   "metadata": {},
   "source": [
    "# Defining Objective"
   ]
  },
  {
   "cell_type": "code",
   "execution_count": 96,
   "metadata": {},
   "outputs": [],
   "source": [
    "obj += lpSum([f[k]*l[(j,t,k)]*100 for j in M2 for t in W for k in N] + \n",
    "             [inv_cost_y[j]*r_y[(j,t)]*0.00001 for j in M2 for t in W] + \n",
    "             [inv_cost_x[i]*x[(i,t,j)] for i in M1 for t in W for j in M2]\n",
    "            )"
   ]
  },
  {
   "cell_type": "markdown",
   "metadata": {},
   "source": [
    "# Defining Constraints"
   ]
  },
  {
   "cell_type": "code",
   "execution_count": 97,
   "metadata": {},
   "outputs": [],
   "source": [
    "# Disruption Constraint: If stablity probability > disruption probability then d_x = 0 else 1\n",
    "for i in M1:\n",
    "    for t in W:\n",
    "        if d[(i,t)] > dis_prob[i]:\n",
    "            obj += d_x[(i,t)] == 0 \n",
    "        else:\n",
    "            obj += d_x[(i,t)] == 1"
   ]
  },
  {
   "cell_type": "code",
   "execution_count": 98,
   "metadata": {},
   "outputs": [],
   "source": [
    "# Constraint relating to TTR and TRV\n",
    "for i in M1:\n",
    "    for t in W:\n",
    "        obj += TRV >= max((Tr[i]*(1-d_x[(i,t)])))"
   ]
  },
  {
   "cell_type": "code",
   "execution_count": 99,
   "metadata": {},
   "outputs": [],
   "source": [
    "# Capacity Constraint of x using disruption variable & TTR\n",
    "for i in M1:\n",
    "    for t in W:\n",
    "        obj += lpSum(x[(i,t,j)] for j in M2) <= capacity_x[i]*100*(TRV - (Tr[i]*(1-d_x[(i,t)])))\n",
    "        \n",
    "# Capacity Constraint of y\n",
    "for j in M2:\n",
    "    for t in W:\n",
    "        obj += lpSum(y[(j,t,k)] for k in N) <= capacity_y[j]*100"
   ]
  },
  {
   "cell_type": "code",
   "execution_count": 100,
   "metadata": {},
   "outputs": [],
   "source": [
    "# Constraint #1: Stage 2 Production depends on Stage 1 supply\n",
    "for j in M2:\n",
    "    for t in W:\n",
    "        obj += lpSum(x[(i,t,j)] for i in M1) >= lpSum(y[(j,t,k)] for k in N)"
   ]
  },
  {
   "cell_type": "code",
   "execution_count": 101,
   "metadata": {},
   "outputs": [],
   "source": [
    "# Constraint #2 Inventory today <= invent yest - sold today + prod today\n",
    "for t in range(1, len(W)):\n",
    "    for j in M2:\n",
    "        obj += r_y[(j,W[t])] <= r_y[(j,W[t-1])] + lpSum(y[(j,W[t],k)] for k in N) - lpSum(q[(j,W[t],k)] for k in N)\n",
    "\n",
    "# Constraint for Day 1: Since there is no inventory on day 0\n",
    "for j in M2:\n",
    "    obj += r_y[(j,'W1')] <= lpSum(y[(j,'W1',k)] for k in N) - lpSum(q[(j,'W1',k)] for k in N)"
   ]
  },
  {
   "cell_type": "code",
   "execution_count": 102,
   "metadata": {},
   "outputs": [],
   "source": [
    "# Constraint #3 Demand and Sold Constraint\n",
    "for j in M2:\n",
    "    for t in W:\n",
    "        for k in N:\n",
    "            obj += q[(j,t,k)] <= demand[k][t][j]"
   ]
  },
  {
   "cell_type": "code",
   "execution_count": 103,
   "metadata": {},
   "outputs": [],
   "source": [
    "# Constraint #4 Lost Sales\n",
    "for j in M2:\n",
    "    for t in W:\n",
    "        for k in N:\n",
    "            obj += l[(j,t,k)] == demand[k][t][j] - q[(j,t,k)]"
   ]
  },
  {
   "cell_type": "code",
   "execution_count": 104,
   "metadata": {},
   "outputs": [
    {
     "data": {
      "text/plain": [
       "1"
      ]
     },
     "execution_count": 104,
     "metadata": {},
     "output_type": "execute_result"
    }
   ],
   "source": [
    "obj.solve()"
   ]
  },
  {
   "cell_type": "code",
   "execution_count": 105,
   "metadata": {
    "scrolled": true
   },
   "outputs": [
    {
     "name": "stdout",
     "output_type": "stream",
     "text": [
      "TRV = 8.0\n",
      "amount_sold_CFG1_W1_C4 = 20.0\n",
      "amount_sold_CFG1_W3_C4 = 340.0\n",
      "amount_sold_CFG1_W4_C0 = 120.0\n",
      "amount_sold_CFG2_W1_C1 = 10.0\n",
      "amount_sold_CFG2_W1_C2 = 10.0\n",
      "amount_sold_CFG2_W1_C3 = 10.0\n",
      "amount_sold_CFG2_W1_C4 = 10.0\n",
      "amount_sold_CFG2_W2_C0 = 10.0\n",
      "amount_sold_CFG2_W2_C1 = 50.0\n",
      "amount_sold_CFG2_W2_C3 = 10.0\n",
      "amount_sold_CFG2_W2_C4 = 10.0\n",
      "amount_sold_CFG2_W3_C0 = 100.0\n",
      "amount_sold_CFG2_W3_C1 = 10.0\n",
      "amount_sold_CFG2_W3_C3 = 10.0\n",
      "amount_sold_CFG2_W3_C4 = 10.0\n",
      "amount_sold_CFG2_W4_C0 = 10.0\n",
      "amount_sold_CFG2_W4_C1 = 10.0\n",
      "amount_sold_CFG2_W4_C3 = 10.0\n",
      "amount_sold_CFG3_W1_C1 = 10.0\n",
      "amount_sold_CFG3_W2_C1 = 10.0\n",
      "amount_sold_CFG3_W2_C3 = 160.0\n",
      "amount_sold_CFG3_W3_C2 = 90.0\n",
      "amount_sold_CFG3_W4_C2 = 90.0\n",
      "disruption_ABX_W1 = 1.0\n",
      "disruption_GHY_W1 = 1.0\n",
      "disruption_KJU_W2 = 1.0\n",
      "inventory_prod_y_CFG1_W1 = 100.0\n",
      "inventory_prod_y_CFG1_W2 = 220.0\n",
      "inventory_prod_y_CFG2_W2 = 10.0\n",
      "inventory_prod_y_CFG3_W1 = 80.0\n",
      "l_CFG1_W2_C2 = 300.0\n",
      "l_CFG1_W2_C3 = 100.0\n",
      "l_CFG1_W3_C4 = 260.0\n",
      "l_CFG1_W4_C0 = 80.0\n",
      "l_CFG3_W1_C0 = 10.0\n",
      "l_CFG3_W2_C0 = 300.0\n",
      "l_CFG3_W2_C3 = 390.0\n",
      "l_CFG3_W3_C2 = 410.0\n",
      "l_CFG3_W4_C2 = 110.0\n",
      "x_KJU_W1_CFG1 = 120.0\n",
      "x_KJU_W1_CFG2 = 40.0\n",
      "x_KJU_W1_CFG3 = 90.0\n",
      "x_KJU_W2_CFG1 = 120.0\n",
      "x_KJU_W2_CFG2 = 90.0\n",
      "x_KJU_W2_CFG3 = 90.0\n",
      "x_KJU_W3_CFG1 = 120.0\n",
      "x_KJU_W3_CFG2 = 120.0\n",
      "x_KJU_W3_CFG3 = 90.0\n",
      "x_KJU_W4_CFG1 = 120.0\n",
      "x_KJU_W4_CFG2 = 30.0\n",
      "x_KJU_W4_CFG3 = 90.0\n",
      "y_CFG1_W1_C2 = 120.0\n",
      "y_CFG1_W2_C1 = 120.0\n",
      "y_CFG1_W3_C1 = 120.0\n",
      "y_CFG1_W4_C1 = 120.0\n",
      "y_CFG2_W1_C1 = 40.0\n",
      "y_CFG2_W2_C0 = 90.0\n",
      "y_CFG2_W3_C4 = 120.0\n",
      "y_CFG2_W4_C0 = 30.0\n",
      "y_CFG3_W1_C4 = 90.0\n",
      "y_CFG3_W2_C0 = 90.0\n",
      "y_CFG3_W3_C1 = 90.0\n",
      "y_CFG3_W4_C0 = 90.0\n"
     ]
    }
   ],
   "source": [
    "for v in obj.variables():\n",
    "    if (v.varValue>0):\n",
    "        print(v.name, \"=\", v.varValue)"
   ]
  },
  {
   "cell_type": "code",
   "execution_count": 106,
   "metadata": {},
   "outputs": [
    {
     "data": {
      "text/plain": [
       "1221482.135"
      ]
     },
     "execution_count": 106,
     "metadata": {},
     "output_type": "execute_result"
    }
   ],
   "source": [
    "value(obj.objective)"
   ]
  },
  {
   "cell_type": "markdown",
   "metadata": {},
   "source": [
    "# TTR testing"
   ]
  },
  {
   "cell_type": "code",
   "execution_count": null,
   "metadata": {},
   "outputs": [],
   "source": [
    "T(v) = max()"
   ]
  }
 ],
 "metadata": {
  "kernelspec": {
   "display_name": "Python 3",
   "language": "python",
   "name": "python3"
  },
  "language_info": {
   "codemirror_mode": {
    "name": "ipython",
    "version": 3
   },
   "file_extension": ".py",
   "mimetype": "text/x-python",
   "name": "python",
   "nbconvert_exporter": "python",
   "pygments_lexer": "ipython3",
   "version": "3.6.5"
  }
 },
 "nbformat": 4,
 "nbformat_minor": 2
}
