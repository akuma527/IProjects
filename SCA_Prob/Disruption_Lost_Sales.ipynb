{
 "cells": [
  {
   "cell_type": "code",
   "execution_count": 7,
   "metadata": {
    "ExecuteTime": {
     "end_time": "2020-03-22T06:08:05.414568Z",
     "start_time": "2020-03-22T06:08:05.406568Z"
    }
   },
   "outputs": [],
   "source": [
    "import pandas as pd \n",
    "from pulp import *\n",
    "import re"
   ]
  },
  {
   "cell_type": "markdown",
   "metadata": {},
   "source": [
    "# Data Preparation"
   ]
  },
  {
   "cell_type": "code",
   "execution_count": 31,
   "metadata": {
    "ExecuteTime": {
     "end_time": "2020-03-22T06:32:18.639102Z",
     "start_time": "2020-03-22T06:32:18.631141Z"
    }
   },
   "outputs": [],
   "source": [
    "with open('data_1.txt', 'r') as fp:\n",
    "    x1 = fp.readlines()\n",
    "\n",
    "with open('data_2.txt', 'r') as fp:\n",
    "    x2 = fp.readlines()\n",
    "\n",
    "x1 = [re.sub('\\n','',i) for i in x1]\n",
    "x2 = [re.sub('\\n','',i) for i in x2]"
   ]
  },
  {
   "cell_type": "code",
   "execution_count": 32,
   "metadata": {
    "ExecuteTime": {
     "end_time": "2020-03-22T06:32:55.238130Z",
     "start_time": "2020-03-22T06:32:55.222129Z"
    }
   },
   "outputs": [],
   "source": [
    "df = pd.DataFrame([tuple(re.split(',',i)) for i in x1])\n",
    "df.columns = df.iloc[0]\n",
    "df.drop(df.index[0], inplace=True)\n",
    "df.reset_index(drop=True, inplace=True)\n",
    "\n",
    "df_2 = pd.DataFrame([tuple(re.split(',',i)) for i in x2])\n",
    "df_2.columns = df_2.iloc[0]\n",
    "df_2.drop(df_2.index[0], inplace=True)\n",
    "df_2.reset_index(drop=True, inplace=True)"
   ]
  },
  {
   "cell_type": "code",
   "execution_count": 39,
   "metadata": {
    "ExecuteTime": {
     "end_time": "2020-03-22T06:56:18.894076Z",
     "start_time": "2020-03-22T06:56:18.874071Z"
    }
   },
   "outputs": [
    {
     "data": {
      "text/html": [
       "<div>\n",
       "<style scoped>\n",
       "    .dataframe tbody tr th:only-of-type {\n",
       "        vertical-align: middle;\n",
       "    }\n",
       "\n",
       "    .dataframe tbody tr th {\n",
       "        vertical-align: top;\n",
       "    }\n",
       "\n",
       "    .dataframe thead th {\n",
       "        text-align: right;\n",
       "    }\n",
       "</style>\n",
       "<table border=\"1\" class=\"dataframe\">\n",
       "  <thead>\n",
       "    <tr style=\"text-align: right;\">\n",
       "      <th></th>\n",
       "      <th>Plant</th>\n",
       "      <th>Inventory Cost(100 units)</th>\n",
       "      <th>Vendor</th>\n",
       "      <th>Capacity</th>\n",
       "      <th>Disruption Probability(1 - µ)</th>\n",
       "      <th>TTR of vendor</th>\n",
       "    </tr>\n",
       "  </thead>\n",
       "  <tbody>\n",
       "    <tr>\n",
       "      <th>0</th>\n",
       "      <td>1.ABX</td>\n",
       "      <td>31</td>\n",
       "      <td>1</td>\n",
       "      <td>1.2</td>\n",
       "      <td>0.0667</td>\n",
       "      <td>1</td>\n",
       "    </tr>\n",
       "    <tr>\n",
       "      <th>1</th>\n",
       "      <td>2.ABN</td>\n",
       "      <td>30</td>\n",
       "      <td>1</td>\n",
       "      <td>1.2</td>\n",
       "      <td>0.0667</td>\n",
       "      <td>1</td>\n",
       "    </tr>\n",
       "    <tr>\n",
       "      <th>2</th>\n",
       "      <td>3.GHY</td>\n",
       "      <td>32</td>\n",
       "      <td>2</td>\n",
       "      <td>0.9</td>\n",
       "      <td>0.1333</td>\n",
       "      <td>1.2</td>\n",
       "    </tr>\n",
       "    <tr>\n",
       "      <th>3</th>\n",
       "      <td>4.KJU</td>\n",
       "      <td>29</td>\n",
       "      <td>3</td>\n",
       "      <td>0.5</td>\n",
       "      <td>0.2000</td>\n",
       "      <td>1.4</td>\n",
       "    </tr>\n",
       "    <tr>\n",
       "      <th>4</th>\n",
       "      <td>5.PFR</td>\n",
       "      <td>30</td>\n",
       "      <td>4</td>\n",
       "      <td>0.5</td>\n",
       "      <td>0.1667</td>\n",
       "      <td>1.6</td>\n",
       "    </tr>\n",
       "    <tr>\n",
       "      <th>5</th>\n",
       "      <td>6.JKI1</td>\n",
       "      <td>30</td>\n",
       "      <td>5</td>\n",
       "      <td>2.4</td>\n",
       "      <td>0.0667</td>\n",
       "      <td>1.8</td>\n",
       "    </tr>\n",
       "    <tr>\n",
       "      <th>6</th>\n",
       "      <td>7.JKI2</td>\n",
       "      <td>33</td>\n",
       "      <td>5</td>\n",
       "      <td>2.4</td>\n",
       "      <td>0.0667</td>\n",
       "      <td>1.8</td>\n",
       "    </tr>\n",
       "    <tr>\n",
       "      <th>7</th>\n",
       "      <td>8.JKI3</td>\n",
       "      <td>31</td>\n",
       "      <td>5</td>\n",
       "      <td>2.4</td>\n",
       "      <td>0.0667</td>\n",
       "      <td>1.8</td>\n",
       "    </tr>\n",
       "    <tr>\n",
       "      <th>8</th>\n",
       "      <td>9.CFG1</td>\n",
       "      <td>500</td>\n",
       "      <td>6</td>\n",
       "      <td>0.2</td>\n",
       "      <td>0.0667</td>\n",
       "      <td>2</td>\n",
       "    </tr>\n",
       "    <tr>\n",
       "      <th>9</th>\n",
       "      <td>10.CFG2</td>\n",
       "      <td>550</td>\n",
       "      <td>7</td>\n",
       "      <td>0.4</td>\n",
       "      <td>0.1667</td>\n",
       "      <td>2.2</td>\n",
       "    </tr>\n",
       "    <tr>\n",
       "      <th>10</th>\n",
       "      <td>11.CFG3</td>\n",
       "      <td>600</td>\n",
       "      <td>8</td>\n",
       "      <td>0.3</td>\n",
       "      <td>0.0667</td>\n",
       "      <td>2.4</td>\n",
       "    </tr>\n",
       "    <tr>\n",
       "      <th>11</th>\n",
       "      <td>12.CFG4</td>\n",
       "      <td>505</td>\n",
       "      <td>9</td>\n",
       "      <td>0.2</td>\n",
       "      <td>0.0667</td>\n",
       "      <td>2.6</td>\n",
       "    </tr>\n",
       "  </tbody>\n",
       "</table>\n",
       "</div>"
      ],
      "text/plain": [
       "0     Plant  Inventory Cost(100 units)  Vendor  Capacity  \\\n",
       "0     1.ABX                         31       1       1.2   \n",
       "1     2.ABN                         30       1       1.2   \n",
       "2     3.GHY                         32       2       0.9   \n",
       "3     4.KJU                         29       3       0.5   \n",
       "4     5.PFR                         30       4       0.5   \n",
       "5    6.JKI1                         30       5       2.4   \n",
       "6    7.JKI2                         33       5       2.4   \n",
       "7    8.JKI3                         31       5       2.4   \n",
       "8    9.CFG1                        500       6       0.2   \n",
       "9   10.CFG2                        550       7       0.4   \n",
       "10  11.CFG3                        600       8       0.3   \n",
       "11  12.CFG4                        505       9       0.2   \n",
       "\n",
       "0   Disruption Probability(1 - µ)  TTR of vendor  \n",
       "0                          0.0667              1  \n",
       "1                          0.0667              1  \n",
       "2                          0.1333            1.2  \n",
       "3                          0.2000            1.4  \n",
       "4                          0.1667            1.6  \n",
       "5                          0.0667            1.8  \n",
       "6                          0.0667            1.8  \n",
       "7                          0.0667            1.8  \n",
       "8                          0.0667              2  \n",
       "9                          0.1667            2.2  \n",
       "10                         0.0667            2.4  \n",
       "11                         0.0667            2.6  "
      ]
     },
     "execution_count": 39,
     "metadata": {},
     "output_type": "execute_result"
    }
   ],
   "source": [
    "df"
   ]
  },
  {
   "cell_type": "code",
   "execution_count": 37,
   "metadata": {
    "ExecuteTime": {
     "end_time": "2020-03-22T06:56:07.719402Z",
     "start_time": "2020-03-22T06:56:07.699400Z"
    },
    "scrolled": false
   },
   "outputs": [
    {
     "data": {
      "text/html": [
       "<div>\n",
       "<style scoped>\n",
       "    .dataframe tbody tr th:only-of-type {\n",
       "        vertical-align: middle;\n",
       "    }\n",
       "\n",
       "    .dataframe tbody tr th {\n",
       "        vertical-align: top;\n",
       "    }\n",
       "\n",
       "    .dataframe thead th {\n",
       "        text-align: right;\n",
       "    }\n",
       "</style>\n",
       "<table border=\"1\" class=\"dataframe\">\n",
       "  <thead>\n",
       "    <tr style=\"text-align: right;\">\n",
       "      <th></th>\n",
       "      <th>ItemID</th>\n",
       "      <th>Vendor</th>\n",
       "      <th>Geographic Location</th>\n",
       "      <th>CFG1</th>\n",
       "      <th>CFG2</th>\n",
       "      <th>CFG3</th>\n",
       "      <th>CFG4</th>\n",
       "    </tr>\n",
       "  </thead>\n",
       "  <tbody>\n",
       "    <tr>\n",
       "      <th>0</th>\n",
       "      <td>ABX</td>\n",
       "      <td>1</td>\n",
       "      <td>US</td>\n",
       "      <td>1</td>\n",
       "      <td>1</td>\n",
       "      <td>1</td>\n",
       "      <td>0</td>\n",
       "    </tr>\n",
       "    <tr>\n",
       "      <th>1</th>\n",
       "      <td>ABN</td>\n",
       "      <td>1</td>\n",
       "      <td>US</td>\n",
       "      <td>1</td>\n",
       "      <td>1</td>\n",
       "      <td>1</td>\n",
       "      <td>0</td>\n",
       "    </tr>\n",
       "    <tr>\n",
       "      <th>2</th>\n",
       "      <td>GHY</td>\n",
       "      <td>2</td>\n",
       "      <td>Mexico</td>\n",
       "      <td>1</td>\n",
       "      <td>1</td>\n",
       "      <td>2</td>\n",
       "      <td>1</td>\n",
       "    </tr>\n",
       "    <tr>\n",
       "      <th>3</th>\n",
       "      <td>KIU</td>\n",
       "      <td>3</td>\n",
       "      <td>Mexico</td>\n",
       "      <td>1</td>\n",
       "      <td>0</td>\n",
       "      <td>1</td>\n",
       "      <td>0</td>\n",
       "    </tr>\n",
       "    <tr>\n",
       "      <th>4</th>\n",
       "      <td>PFR</td>\n",
       "      <td>4</td>\n",
       "      <td>US</td>\n",
       "      <td>1</td>\n",
       "      <td>0</td>\n",
       "      <td>1</td>\n",
       "      <td>0</td>\n",
       "    </tr>\n",
       "    <tr>\n",
       "      <th>5</th>\n",
       "      <td>JKI1</td>\n",
       "      <td>5</td>\n",
       "      <td>Mexico</td>\n",
       "      <td>0</td>\n",
       "      <td>3</td>\n",
       "      <td>0</td>\n",
       "      <td>0</td>\n",
       "    </tr>\n",
       "    <tr>\n",
       "      <th>6</th>\n",
       "      <td>JKI2</td>\n",
       "      <td>5</td>\n",
       "      <td>Mexico</td>\n",
       "      <td>3</td>\n",
       "      <td>0</td>\n",
       "      <td>0</td>\n",
       "      <td>0</td>\n",
       "    </tr>\n",
       "    <tr>\n",
       "      <th>7</th>\n",
       "      <td>JKI3</td>\n",
       "      <td>5</td>\n",
       "      <td>Mexico</td>\n",
       "      <td>2</td>\n",
       "      <td>0</td>\n",
       "      <td>3</td>\n",
       "      <td>2</td>\n",
       "    </tr>\n",
       "    <tr>\n",
       "      <th>8</th>\n",
       "      <td>CFG1</td>\n",
       "      <td>6</td>\n",
       "      <td>US</td>\n",
       "      <td>1</td>\n",
       "      <td>0</td>\n",
       "      <td>0</td>\n",
       "      <td>0</td>\n",
       "    </tr>\n",
       "    <tr>\n",
       "      <th>9</th>\n",
       "      <td>CFG2</td>\n",
       "      <td>7</td>\n",
       "      <td>US</td>\n",
       "      <td>0</td>\n",
       "      <td>1</td>\n",
       "      <td>0</td>\n",
       "      <td>0</td>\n",
       "    </tr>\n",
       "    <tr>\n",
       "      <th>10</th>\n",
       "      <td>CFG3</td>\n",
       "      <td>8</td>\n",
       "      <td>US</td>\n",
       "      <td>0</td>\n",
       "      <td>0</td>\n",
       "      <td>1</td>\n",
       "      <td>0</td>\n",
       "    </tr>\n",
       "    <tr>\n",
       "      <th>11</th>\n",
       "      <td>CFG4</td>\n",
       "      <td>9</td>\n",
       "      <td>US</td>\n",
       "      <td>0</td>\n",
       "      <td>0</td>\n",
       "      <td>0</td>\n",
       "      <td>1</td>\n",
       "    </tr>\n",
       "  </tbody>\n",
       "</table>\n",
       "</div>"
      ],
      "text/plain": [
       "0  ItemID  Vendor  Geographic Location  CFG1  CFG2  CFG3  CFG4\n",
       "0     ABX       1                   US     1     1     1     0\n",
       "1     ABN       1                   US     1     1     1     0\n",
       "2     GHY       2               Mexico     1     1     2     1\n",
       "3     KIU       3               Mexico     1     0     1     0\n",
       "4     PFR       4                   US     1     0     1     0\n",
       "5    JKI1       5               Mexico     0     3     0     0\n",
       "6    JKI2       5               Mexico     3     0     0     0\n",
       "7    JKI3       5               Mexico     2     0     3     2\n",
       "8    CFG1       6                   US     1     0     0     0\n",
       "9    CFG2       7                   US     0     1     0     0\n",
       "10   CFG3       8                   US     0     0     1     0\n",
       "11   CFG4       9                   US     0     0     0     1"
      ]
     },
     "execution_count": 37,
     "metadata": {},
     "output_type": "execute_result"
    }
   ],
   "source": [
    "df_2"
   ]
  },
  {
   "cell_type": "markdown",
   "metadata": {},
   "source": [
    "# Model"
   ]
  },
  {
   "cell_type": "code",
   "execution_count": 45,
   "metadata": {},
   "outputs": [],
   "source": [
    "# Create a list of the product items\n",
    "node_1 = ['steel', 'copper', 'rubber']\n",
    "node_2 = ['copper', 'steel', 'rubber']\n",
    "demand = {'steel':2700, 'copper':107, 'rubber':203}"
   ]
  },
  {
   "cell_type": "code",
   "execution_count": 46,
   "metadata": {},
   "outputs": [],
   "source": [
    "f = {'steel':2.7, 'copper':1.7, 'rubber':2.3}"
   ]
  },
  {
   "cell_type": "code",
   "execution_count": 61,
   "metadata": {},
   "outputs": [],
   "source": [
    "prob = LpProblem(\"Disruption_Risk_Mitigation\",LpMinimize)"
   ]
  },
  {
   "cell_type": "code",
   "execution_count": 62,
   "metadata": {},
   "outputs": [],
   "source": [
    "mat_vars = LpVariable.dicts(\"Material_kg\",\n",
    "                                     ((i, j) for i in node_1 for j in node_2),\n",
    "                                     lowBound=0,\n",
    "                                     cat='Continuous')"
   ]
  },
  {
   "cell_type": "code",
   "execution_count": 63,
   "metadata": {},
   "outputs": [],
   "source": [
    "goods_prod = LpVariable.dict(\"good_prod\",node_1,lowBound=0,cat='Continuous')"
   ]
  },
  {
   "cell_type": "code",
   "execution_count": 64,
   "metadata": {},
   "outputs": [],
   "source": [
    "lost_sales = LpVariable.dict(\"lost_sales\",node_1,lowBound=0,cat='Continuous')"
   ]
  },
  {
   "cell_type": "code",
   "execution_count": 65,
   "metadata": {},
   "outputs": [
    {
     "data": {
      "text/plain": [
       "{'steel': lost_sales_steel,\n",
       " 'copper': lost_sales_copper,\n",
       " 'rubber': lost_sales_rubber}"
      ]
     },
     "execution_count": 65,
     "metadata": {},
     "output_type": "execute_result"
    }
   ],
   "source": [
    "lost_sales"
   ]
  },
  {
   "cell_type": "code",
   "execution_count": 66,
   "metadata": {},
   "outputs": [],
   "source": [
    "prob += lpSum([f[i]*lost_sales[i] for i in node_1])"
   ]
  },
  {
   "cell_type": "code",
   "execution_count": 67,
   "metadata": {},
   "outputs": [],
   "source": [
    "for n in node_1:\n",
    "    for m in node_2:\n",
    "        prob += lpSum(mat_vars[(n, m)]) + lost_sales[n] == demand[n]"
   ]
  },
  {
   "cell_type": "code",
   "execution_count": 68,
   "metadata": {
    "scrolled": true
   },
   "outputs": [],
   "source": [
    "for n in node_1:\n",
    "    for m in node_2:\n",
    "        prob += lpSum(mat_vars[(n, m)]) + lost_sales[n] == demand[n]"
   ]
  },
  {
   "cell_type": "code",
   "execution_count": 69,
   "metadata": {},
   "outputs": [
    {
     "data": {
      "text/plain": [
       "1"
      ]
     },
     "execution_count": 69,
     "metadata": {},
     "output_type": "execute_result"
    }
   ],
   "source": [
    "prob.solve()"
   ]
  },
  {
   "cell_type": "code",
   "execution_count": 70,
   "metadata": {},
   "outputs": [
    {
     "name": "stdout",
     "output_type": "stream",
     "text": [
      "Material_kg_('copper',_'copper') = 107.0\n",
      "Material_kg_('copper',_'rubber') = 107.0\n",
      "Material_kg_('copper',_'steel') = 107.0\n",
      "Material_kg_('rubber',_'copper') = 203.0\n",
      "Material_kg_('rubber',_'rubber') = 203.0\n",
      "Material_kg_('rubber',_'steel') = 203.0\n",
      "Material_kg_('steel',_'copper') = 2700.0\n",
      "Material_kg_('steel',_'rubber') = 2700.0\n",
      "Material_kg_('steel',_'steel') = 2700.0\n"
     ]
    }
   ],
   "source": [
    "for v in prob.variables():\n",
    "    if v.varValue>0:\n",
    "        print(v.name, \"=\", v.varValue)"
   ]
  },
  {
   "cell_type": "code",
   "execution_count": 71,
   "metadata": {},
   "outputs": [
    {
     "data": {
      "text/plain": [
       "0.0"
      ]
     },
     "execution_count": 71,
     "metadata": {},
     "output_type": "execute_result"
    }
   ],
   "source": [
    "value(prob.objective)"
   ]
  },
  {
   "cell_type": "code",
   "execution_count": 72,
   "metadata": {},
   "outputs": [
    {
     "data": {
      "text/plain": [
       "[2.7*lost_sales_steel + 0.0,\n",
       " 1.7*lost_sales_copper + 0.0,\n",
       " 2.3*lost_sales_rubber + 0.0]"
      ]
     },
     "execution_count": 72,
     "metadata": {},
     "output_type": "execute_result"
    }
   ],
   "source": [
    "[f[i]*lost_sales[i] for i in node_1]"
   ]
  },
  {
   "cell_type": "code",
   "execution_count": null,
   "metadata": {},
   "outputs": [],
   "source": []
  },
  {
   "cell_type": "code",
   "execution_count": null,
   "metadata": {},
   "outputs": [],
   "source": []
  }
 ],
 "metadata": {
  "kernelspec": {
   "display_name": "Python 3",
   "language": "python",
   "name": "python3"
  },
  "language_info": {
   "codemirror_mode": {
    "name": "ipython",
    "version": 3
   },
   "file_extension": ".py",
   "mimetype": "text/x-python",
   "name": "python",
   "nbconvert_exporter": "python",
   "pygments_lexer": "ipython3",
   "version": "3.6.5"
  }
 },
 "nbformat": 4,
 "nbformat_minor": 2
}
