{
 "cells": [
  {
   "cell_type": "code",
   "execution_count": 1,
   "metadata": {},
   "outputs": [],
   "source": [
    "import pandas as pd "
   ]
  },
  {
   "cell_type": "code",
   "execution_count": 2,
   "metadata": {},
   "outputs": [],
   "source": [
    "df = pd.read_csv('train_final.zip')"
   ]
  },
  {
   "cell_type": "code",
   "execution_count": 3,
   "metadata": {},
   "outputs": [],
   "source": [
    "def _low_mem_mgmt(df):\n",
    "    df[['meter','site_id','building_id','square_feet']] = df[['meter','site_id', 'building_id', 'square_feet']].astype('int32')\n",
    "\n",
    "    # Change the dtypes (float64 -> float32)\n",
    "    df[['meter_reading', 'year_built','floor_count', 'air_temperature', 'cloud_coverage',\n",
    "        'dew_temperature', 'precip_depth_1_hr', 'sea_level_pressure',\n",
    "        'wind_direction','wind_speed']] = df[['meter_reading', 'year_built',\n",
    "        'floor_count', 'air_temperature', 'cloud_coverage',\n",
    "        'dew_temperature', 'precip_depth_1_hr', 'sea_level_pressure',\n",
    "        'wind_direction','wind_speed']].astype('float32')\n",
    "    return df"
   ]
  },
  {
   "cell_type": "code",
   "execution_count": 4,
   "metadata": {},
   "outputs": [],
   "source": [
    "df = _low_mem_mgmt(df)"
   ]
  },
  {
   "cell_type": "code",
   "execution_count": 5,
   "metadata": {},
   "outputs": [],
   "source": [
    "df['timestamp'] = pd.to_datetime(df['timestamp'])"
   ]
  },
  {
   "cell_type": "code",
   "execution_count": 6,
   "metadata": {},
   "outputs": [],
   "source": [
    "df.drop(columns=['year_built', 'floor_count'], inplace=True)"
   ]
  },
  {
   "cell_type": "markdown",
   "metadata": {},
   "source": [
    "# Visualizations"
   ]
  },
  {
   "cell_type": "code",
   "execution_count": 8,
   "metadata": {},
   "outputs": [],
   "source": [
    "import seaborn as sns\n",
    "import matplotlib.pyplot as plt\n",
    "%matplotlib inline\n",
    "sns.set(rc={'figure.figsize':(11.7,8.27)})"
   ]
  },
  {
   "cell_type": "markdown",
   "metadata": {},
   "source": [
    "# Wind Direction and Wind Speed"
   ]
  },
  {
   "cell_type": "code",
   "execution_count": 20,
   "metadata": {},
   "outputs": [],
   "source": [
    "def _create_wind_wind_dr_plot():\n",
    "    sns.set(rc={'figure.figsize':(40, 40)})\n",
    "    %matplotlib agg\n",
    "    %matplotlib agg\n",
    "    fig, axs = plt.subplots(ncols=4, nrows=4)\n",
    "    axs = axs.reshape(-1,1).tolist()\n",
    "    axss = [i for x in axs for i in x]\n",
    "    for i in list(df['site_id'].unique()):\n",
    "        tmp_df = df[df['site_id']==i].copy()\n",
    "        tmp_df.set_index(\"timestamp\", inplace=True)    \n",
    "        sns_plot = sns.scatterplot(x=\"wind_speed\", y=\"wind_direction\", data=tmp_df, ax=axss[i])\n",
    "        axss[i].set_title(f'Site_ID_{i}',  fontdict={'fontsize': 30, 'fontweight': 'bold'})\n",
    "#         k = axss[i].plot(sns_plot)\n",
    "\n",
    "#     k[0].figure.savefig(f\"visual/wind_wind_dr.png\")\n",
    "    axss[i].figure.savefig(f\"visual/wind_wind_dr.png\")\n",
    "    return 'DONE'"
   ]
  },
  {
   "cell_type": "code",
   "execution_count": 21,
   "metadata": {},
   "outputs": [
    {
     "data": {
      "text/plain": [
       "'DONE'"
      ]
     },
     "execution_count": 21,
     "metadata": {},
     "output_type": "execute_result"
    }
   ],
   "source": [
    "_create_wind_wind_dr_plot()"
   ]
  },
  {
   "cell_type": "markdown",
   "metadata": {},
   "source": [
    "# Dew Temperature and Air Temperature"
   ]
  },
  {
   "cell_type": "code",
   "execution_count": 22,
   "metadata": {},
   "outputs": [],
   "source": [
    "def _create_dew_temp_air_temp_plot():\n",
    "    sns.set(rc={'figure.figsize':(40, 40)})\n",
    "    %matplotlib agg\n",
    "    %matplotlib agg\n",
    "    fig, axs = plt.subplots(ncols=4, nrows=4)\n",
    "    axs = axs.reshape(-1,1).tolist()\n",
    "    axss = [i for x in axs for i in x]\n",
    "    for i in list(df['site_id'].unique()):\n",
    "        tmp_df = df[df['site_id']==i].copy()\n",
    "        tmp_df.set_index(\"timestamp\", inplace=True)    \n",
    "        sns_plot = sns.scatterplot(x=\"dew_temperature\", y=\"air_temperature\", data=tmp_df, ax=axss[i])\n",
    "        axss[i].set_title(f'Site_ID_{i}',  fontdict={'fontsize': 30, 'fontweight': 'bold'})\n",
    "    axss[i].figure.savefig(f\"visual/dew_temp_air_temp.png\")\n",
    "    return 'DONE'"
   ]
  },
  {
   "cell_type": "code",
   "execution_count": 23,
   "metadata": {},
   "outputs": [
    {
     "data": {
      "text/plain": [
       "'DONE'"
      ]
     },
     "execution_count": 23,
     "metadata": {},
     "output_type": "execute_result"
    }
   ],
   "source": [
    "_create_dew_temp_air_temp_plot()"
   ]
  },
  {
   "cell_type": "code",
   "execution_count": null,
   "metadata": {},
   "outputs": [],
   "source": []
  }
 ],
 "metadata": {
  "kernelspec": {
   "display_name": "Python 3",
   "language": "python",
   "name": "python3"
  },
  "language_info": {
   "codemirror_mode": {
    "name": "ipython",
    "version": 3
   },
   "file_extension": ".py",
   "mimetype": "text/x-python",
   "name": "python",
   "nbconvert_exporter": "python",
   "pygments_lexer": "ipython3",
   "version": "3.6.5"
  }
 },
 "nbformat": 4,
 "nbformat_minor": 2
}
