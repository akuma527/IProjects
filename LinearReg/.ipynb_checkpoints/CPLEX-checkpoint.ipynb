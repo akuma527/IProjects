{
 "cells": [
  {
   "cell_type": "code",
   "execution_count": 1,
   "metadata": {},
   "outputs": [],
   "source": [
    "import docplex"
   ]
  },
  {
   "cell_type": "code",
   "execution_count": 7,
   "metadata": {},
   "outputs": [],
   "source": [
    "\n",
    "# Teams in 1st division\n",
    "TEAM_DIV1 = [\"Baltimore Ravens\",\"Cincinnati Bengals\", \"Cleveland Browns\",\"Pittsburgh Steelers\",\"Houston Texans\",\n",
    "                \"Indianapolis Colts\",\"Jacksonville Jaguars\",\"Tennessee Titans\",\"Buffalo Bills\",\"Miami Dolphins\",\n",
    "                \"New England Patriots\",\"New York Jets\",\"Denver Broncos\",\"Kansas City Chiefs\",\"Oakland Raiders\",\n",
    "                \"San Diego Chargers\"]\n",
    "\n",
    "# Teams in 2nd division\n",
    "TEAM_DIV2 = [\"Chicago Bears\",\"Detroit Lions\",\"Green Bay Packers\",\"Minnesota Vikings\",\"Atlanta Falcons\",\n",
    "                \"Carolina Panthers\",\"New Orleans Saints\",\"Tampa Bay Buccaneers\",\"Dallas Cowboys\",\"New York Giants\",\n",
    "                \"Philadelphia Eagles\",\"Washington Redskins\",\"Arizona Cardinals\",\"San Francisco 49ers\",\n",
    "                \"Seattle Seahawks\",\"St. Louis Rams\"]"
   ]
  },
  {
   "cell_type": "code",
   "execution_count": 8,
   "metadata": {},
   "outputs": [],
   "source": [
    "from collections import namedtuple\n",
    "NUMBER_OF_MATCHES_TO_PLAY = 2  # Number of match to play between two teams on the league\n",
    "\n",
    "T_SCHEDULE_PARAMS = (namedtuple(\"TScheduleParams\",\n",
    "                                [\"nbTeamsInDivision\",\n",
    "                                 \"maxTeamsInDivision\",\n",
    "                                 \"numberOfMatchesToPlayInsideDivision\",\n",
    "                                 \"numberOfMatchesToPlayOutsideDivision\"\n",
    "                                 ]))\n",
    "# Schedule parameters: depending on their values, you may overreach the Community Edition of CPLEX\n",
    "SCHEDULE_PARAMS = T_SCHEDULE_PARAMS(5,   # nbTeamsInDivision\n",
    "                                    10,  # maxTeamsInDivision\n",
    "                                    NUMBER_OF_MATCHES_TO_PLAY,  # numberOfMatchesToPlayInsideDivision\n",
    "                                    NUMBER_OF_MATCHES_TO_PLAY   # numberOfMatchesToPlayOutsideDivision\n",
    "                                    )"
   ]
  },
  {
   "cell_type": "code",
   "execution_count": 11,
   "metadata": {},
   "outputs": [
    {
     "data": {
      "text/plain": [
       "TScheduleParams(nbTeamsInDivision=5, maxTeamsInDivision=10, numberOfMatchesToPlayInsideDivision=2, numberOfMatchesToPlayOutsideDivision=2)"
      ]
     },
     "execution_count": 11,
     "metadata": {},
     "output_type": "execute_result"
    }
   ],
   "source": [
    "SCHEDULE_PARAMS"
   ]
  },
  {
   "cell_type": "code",
   "execution_count": 12,
   "metadata": {},
   "outputs": [],
   "source": [
    "import pandas as pd\n",
    "\n",
    "team1 = pd.DataFrame(TEAM_DIV1)\n",
    "team2 = pd.DataFrame(TEAM_DIV2)\n",
    "team1.columns = [\"AFC\"]\n",
    "team2.columns = [\"NFC\"]\n",
    "\n",
    "teams = pd.concat([team1,team2], axis=1)"
   ]
  },
  {
   "cell_type": "code",
   "execution_count": 13,
   "metadata": {},
   "outputs": [
    {
     "data": {
      "text/html": [
       "<div>\n",
       "<style scoped>\n",
       "    .dataframe tbody tr th:only-of-type {\n",
       "        vertical-align: middle;\n",
       "    }\n",
       "\n",
       "    .dataframe tbody tr th {\n",
       "        vertical-align: top;\n",
       "    }\n",
       "\n",
       "    .dataframe thead th {\n",
       "        text-align: right;\n",
       "    }\n",
       "</style>\n",
       "<table border=\"1\" class=\"dataframe\">\n",
       "  <thead>\n",
       "    <tr style=\"text-align: right;\">\n",
       "      <th></th>\n",
       "      <th>AFC</th>\n",
       "      <th>NFC</th>\n",
       "    </tr>\n",
       "  </thead>\n",
       "  <tbody>\n",
       "    <tr>\n",
       "      <th>0</th>\n",
       "      <td>Baltimore Ravens</td>\n",
       "      <td>Chicago Bears</td>\n",
       "    </tr>\n",
       "    <tr>\n",
       "      <th>1</th>\n",
       "      <td>Cincinnati Bengals</td>\n",
       "      <td>Detroit Lions</td>\n",
       "    </tr>\n",
       "    <tr>\n",
       "      <th>2</th>\n",
       "      <td>Cleveland Browns</td>\n",
       "      <td>Green Bay Packers</td>\n",
       "    </tr>\n",
       "    <tr>\n",
       "      <th>3</th>\n",
       "      <td>Pittsburgh Steelers</td>\n",
       "      <td>Minnesota Vikings</td>\n",
       "    </tr>\n",
       "    <tr>\n",
       "      <th>4</th>\n",
       "      <td>Houston Texans</td>\n",
       "      <td>Atlanta Falcons</td>\n",
       "    </tr>\n",
       "    <tr>\n",
       "      <th>5</th>\n",
       "      <td>Indianapolis Colts</td>\n",
       "      <td>Carolina Panthers</td>\n",
       "    </tr>\n",
       "    <tr>\n",
       "      <th>6</th>\n",
       "      <td>Jacksonville Jaguars</td>\n",
       "      <td>New Orleans Saints</td>\n",
       "    </tr>\n",
       "    <tr>\n",
       "      <th>7</th>\n",
       "      <td>Tennessee Titans</td>\n",
       "      <td>Tampa Bay Buccaneers</td>\n",
       "    </tr>\n",
       "    <tr>\n",
       "      <th>8</th>\n",
       "      <td>Buffalo Bills</td>\n",
       "      <td>Dallas Cowboys</td>\n",
       "    </tr>\n",
       "    <tr>\n",
       "      <th>9</th>\n",
       "      <td>Miami Dolphins</td>\n",
       "      <td>New York Giants</td>\n",
       "    </tr>\n",
       "    <tr>\n",
       "      <th>10</th>\n",
       "      <td>New England Patriots</td>\n",
       "      <td>Philadelphia Eagles</td>\n",
       "    </tr>\n",
       "    <tr>\n",
       "      <th>11</th>\n",
       "      <td>New York Jets</td>\n",
       "      <td>Washington Redskins</td>\n",
       "    </tr>\n",
       "    <tr>\n",
       "      <th>12</th>\n",
       "      <td>Denver Broncos</td>\n",
       "      <td>Arizona Cardinals</td>\n",
       "    </tr>\n",
       "    <tr>\n",
       "      <th>13</th>\n",
       "      <td>Kansas City Chiefs</td>\n",
       "      <td>San Francisco 49ers</td>\n",
       "    </tr>\n",
       "    <tr>\n",
       "      <th>14</th>\n",
       "      <td>Oakland Raiders</td>\n",
       "      <td>Seattle Seahawks</td>\n",
       "    </tr>\n",
       "    <tr>\n",
       "      <th>15</th>\n",
       "      <td>San Diego Chargers</td>\n",
       "      <td>St. Louis Rams</td>\n",
       "    </tr>\n",
       "  </tbody>\n",
       "</table>\n",
       "</div>"
      ],
      "text/plain": [
       "                     AFC                   NFC\n",
       "0       Baltimore Ravens         Chicago Bears\n",
       "1     Cincinnati Bengals         Detroit Lions\n",
       "2       Cleveland Browns     Green Bay Packers\n",
       "3    Pittsburgh Steelers     Minnesota Vikings\n",
       "4         Houston Texans       Atlanta Falcons\n",
       "5     Indianapolis Colts     Carolina Panthers\n",
       "6   Jacksonville Jaguars    New Orleans Saints\n",
       "7       Tennessee Titans  Tampa Bay Buccaneers\n",
       "8          Buffalo Bills        Dallas Cowboys\n",
       "9         Miami Dolphins       New York Giants\n",
       "10  New England Patriots   Philadelphia Eagles\n",
       "11         New York Jets   Washington Redskins\n",
       "12        Denver Broncos     Arizona Cardinals\n",
       "13    Kansas City Chiefs   San Francisco 49ers\n",
       "14       Oakland Raiders      Seattle Seahawks\n",
       "15    San Diego Chargers        St. Louis Rams"
      ]
     },
     "execution_count": 13,
     "metadata": {},
     "output_type": "execute_result"
    }
   ],
   "source": [
    "teams"
   ]
  },
  {
   "cell_type": "code",
   "execution_count": 14,
   "metadata": {},
   "outputs": [],
   "source": [
    "import numpy as np\n",
    "NB_TEAMS = 2 * SCHEDULE_PARAMS.nbTeamsInDivision\n",
    "TEAMS = range(NB_TEAMS)\n",
    "\n",
    "# Calculate the number of weeks necessary\n",
    "NB_WEEKS = (SCHEDULE_PARAMS.nbTeamsInDivision - 1) * SCHEDULE_PARAMS.numberOfMatchesToPlayInsideDivision \\\n",
    "            + SCHEDULE_PARAMS.nbTeamsInDivision * SCHEDULE_PARAMS.numberOfMatchesToPlayOutsideDivision\n",
    "\n",
    "\n",
    "# Weeks to schedule\n",
    "WEEKS = tuple(range(NB_WEEKS))\n",
    "\n",
    "# Season is split into two halves\n",
    "FIRST_HALF_WEEKS = tuple(range(NB_WEEKS // 2))\n",
    "NB_FIRST_HALS_WEEKS = NB_WEEKS // 3"
   ]
  },
  {
   "cell_type": "code",
   "execution_count": 19,
   "metadata": {},
   "outputs": [
    {
     "data": {
      "text/plain": [
       "6"
      ]
     },
     "execution_count": 19,
     "metadata": {},
     "output_type": "execute_result"
    }
   ],
   "source": [
    "NB_FIRST_HALS_WEEKS"
   ]
  },
  {
   "cell_type": "code",
   "execution_count": 20,
   "metadata": {},
   "outputs": [],
   "source": [
    "from docplex.cp.model import *\n",
    "\n",
    "mdl = CpoModel(name=\"SportsScheduling\")\n",
    "\n",
    "# Variables of the model\n",
    "plays = {}\n",
    "for i in range(NUMBER_OF_MATCHES_TO_PLAY):\n",
    "    for t1 in TEAMS:\n",
    "        for t2 in TEAMS:\n",
    "            if t1 != t2:\n",
    "                plays[(t1, t2, i)] = integer_var(1, NB_WEEKS, name=\"team1_{}_team2_{}_match_{}\".format(t1, t2, i))"
   ]
  },
  {
   "cell_type": "code",
   "execution_count": 21,
   "metadata": {},
   "outputs": [],
   "source": [
    "# Constraints of the model\n",
    "for t1 in TEAMS:\n",
    "    for t2 in TEAMS:\n",
    "        if t2 != t1:\n",
    "            for i in range(NUMBER_OF_MATCHES_TO_PLAY):\n",
    "                mdl.add(plays[(t1, t2, i)] == plays[(t2, t1, i)])  ### symmetrical match t1->t2 = t2->t1 at the ieme match"
   ]
  },
  {
   "cell_type": "code",
   "execution_count": 22,
   "metadata": {},
   "outputs": [],
   "source": [
    "for t1 in TEAMS:\n",
    "    mdl.add(all_diff([plays[(t1, t2, i)] for t2 in TEAMS if t2 != t1 for i in\n",
    "                      range(NUMBER_OF_MATCHES_TO_PLAY)]))  ### team t1 must play one match per week"
   ]
  },
  {
   "cell_type": "code",
   "execution_count": 23,
   "metadata": {},
   "outputs": [],
   "source": [
    "# Function that returns 1 if the two teams are in same division, 0 if not\n",
    "def intra_divisional_pair(t1, t2):\n",
    "    return int((t1 <= SCHEDULE_PARAMS.nbTeamsInDivision and t2 <= SCHEDULE_PARAMS.nbTeamsInDivision) or\n",
    "               (t1 > SCHEDULE_PARAMS.nbTeamsInDivision and t2 > SCHEDULE_PARAMS.nbTeamsInDivision))\n",
    "\n",
    "# Some intradivisional games should be in the first half\n",
    "mdl.add(sum([intra_divisional_pair(t1, t2) * allowed_assignments(plays[(t1, t2, i)], FIRST_HALF_WEEKS) \n",
    "             for t1 in TEAMS for t2 in [a for a in TEAMS if a != t1] \n",
    "             for i in range(NUMBER_OF_MATCHES_TO_PLAY)]) >= NB_FIRST_HALS_WEEKS)"
   ]
  },
  {
   "cell_type": "code",
   "execution_count": 24,
   "metadata": {},
   "outputs": [],
   "source": [
    "# Objective of the model is to schedule intradivisional games to be played late in the schedule\n",
    "sm = []\n",
    "for t1 in TEAMS:\n",
    "    for t2 in TEAMS:\n",
    "        if t1 != t2:\n",
    "            if not intra_divisional_pair(t1, t2):\n",
    "                for i in range(NUMBER_OF_MATCHES_TO_PLAY):\n",
    "                    sm.append(plays[(t1, t2, i)])\n",
    "mdl.add(maximize(sum(sm)))"
   ]
  },
  {
   "cell_type": "code",
   "execution_count": 25,
   "metadata": {},
   "outputs": [],
   "source": [
    "n = 25\n",
    "msol = mdl.solve(TimeLimit=n)\n"
   ]
  },
  {
   "cell_type": "code",
   "execution_count": 26,
   "metadata": {},
   "outputs": [
    {
     "data": {
      "text/html": [
       "<div>\n",
       "<style scoped>\n",
       "    .dataframe tbody tr th:only-of-type {\n",
       "        vertical-align: middle;\n",
       "    }\n",
       "\n",
       "    .dataframe tbody tr th {\n",
       "        vertical-align: top;\n",
       "    }\n",
       "\n",
       "    .dataframe thead th {\n",
       "        text-align: right;\n",
       "    }\n",
       "</style>\n",
       "<table border=\"1\" class=\"dataframe\">\n",
       "  <thead>\n",
       "    <tr style=\"text-align: right;\">\n",
       "      <th></th>\n",
       "      <th>year</th>\n",
       "      <th>team1</th>\n",
       "      <th>team2</th>\n",
       "    </tr>\n",
       "  </thead>\n",
       "  <tbody>\n",
       "    <tr>\n",
       "      <th>0</th>\n",
       "      <td>2014</td>\n",
       "      <td>Patriots</td>\n",
       "      <td>Seahawks</td>\n",
       "    </tr>\n",
       "    <tr>\n",
       "      <th>1</th>\n",
       "      <td>2013</td>\n",
       "      <td>Seahawks</td>\n",
       "      <td>Broncos</td>\n",
       "    </tr>\n",
       "    <tr>\n",
       "      <th>2</th>\n",
       "      <td>2012</td>\n",
       "      <td>Ravens</td>\n",
       "      <td>Patriots</td>\n",
       "    </tr>\n",
       "    <tr>\n",
       "      <th>3</th>\n",
       "      <td>2011</td>\n",
       "      <td>Giants</td>\n",
       "      <td>Patriots</td>\n",
       "    </tr>\n",
       "    <tr>\n",
       "      <th>4</th>\n",
       "      <td>2010</td>\n",
       "      <td>Packers</td>\n",
       "      <td>Steelers</td>\n",
       "    </tr>\n",
       "    <tr>\n",
       "      <th>5</th>\n",
       "      <td>2009</td>\n",
       "      <td>Saints</td>\n",
       "      <td>Colts</td>\n",
       "    </tr>\n",
       "    <tr>\n",
       "      <th>6</th>\n",
       "      <td>2008</td>\n",
       "      <td>Steelers</td>\n",
       "      <td>Cardinals</td>\n",
       "    </tr>\n",
       "    <tr>\n",
       "      <th>7</th>\n",
       "      <td>2007</td>\n",
       "      <td>Giants</td>\n",
       "      <td>Patriots</td>\n",
       "    </tr>\n",
       "    <tr>\n",
       "      <th>8</th>\n",
       "      <td>2006</td>\n",
       "      <td>Colts</td>\n",
       "      <td>Bears</td>\n",
       "    </tr>\n",
       "    <tr>\n",
       "      <th>9</th>\n",
       "      <td>2005</td>\n",
       "      <td>Steelers</td>\n",
       "      <td>Seahawks</td>\n",
       "    </tr>\n",
       "    <tr>\n",
       "      <th>10</th>\n",
       "      <td>2004</td>\n",
       "      <td>Patriots</td>\n",
       "      <td>Eagles</td>\n",
       "    </tr>\n",
       "  </tbody>\n",
       "</table>\n",
       "</div>"
      ],
      "text/plain": [
       "    year     team1      team2\n",
       "0   2014  Patriots   Seahawks\n",
       "1   2013  Seahawks    Broncos\n",
       "2   2012    Ravens   Patriots\n",
       "3   2011    Giants  Patriots \n",
       "4   2010   Packers   Steelers\n",
       "5   2009    Saints      Colts\n",
       "6   2008  Steelers  Cardinals\n",
       "7   2007    Giants   Patriots\n",
       "8   2006     Colts      Bears\n",
       "9   2005  Steelers   Seahawks\n",
       "10  2004  Patriots     Eagles"
      ]
     },
     "metadata": {},
     "output_type": "display_data"
    }
   ],
   "source": [
    "if msol:\n",
    "    abb = [list()  for i in range(NB_WEEKS)]\n",
    "    for t1 in TEAMS:\n",
    "        for t2 in TEAMS:\n",
    "            if t1 != t2:\n",
    "                for i in range(NUMBER_OF_MATCHES_TO_PLAY):\n",
    "                    x = abb[msol.get_value(plays[(t1, t2, i)])-1]\n",
    "                    x.append((TEAM_DIV1[t1], TEAM_DIV2[t2], \"Home\" if i == 1 else \"Back\", intra_divisional_pair(t1, t2)))\n",
    "                \n",
    "    matches = [(week, t1, t2, where, intra) for week in range(NB_WEEKS) for (t1, t2, where, intra) in abb[week]]\n",
    "    matches_bd = pd.DataFrame(matches)\n",
    "    \n",
    "    nfl_finals = [(\"2014\", \"Patriots\", \"Seahawks\"),(\"2013\", \"Seahawks\", \"Broncos\"),\n",
    "                  (\"2012\", \"Ravens\", \"Patriots\"),(\"2011\", \"Giants\", \"Patriots \"),\n",
    "                  (\"2010\", \"Packers\", \"Steelers\"),(\"2009\", \"Saints\", \"Colts\"),\n",
    "                  (\"2008\", \"Steelers\", \"Cardinals\"),(\"2007\", \"Giants\", \"Patriots\"),\n",
    "                  (\"2006\", \"Colts\", \"Bears\"),(\"2005\", \"Steelers\", \"Seahawks\"),\n",
    "                  (\"2004\", \"Patriots\", \"Eagles\")]\n",
    "                \n",
    "    winners_bd = pd.DataFrame(nfl_finals)\n",
    "    winners_bd.columns = [\"year\", \"team1\", \"team2\"]\n",
    "    \n",
    "    display(winners_bd)\n",
    "else:\n",
    "    print(\"No solution found\")"
   ]
  },
  {
   "cell_type": "code",
   "execution_count": 28,
   "metadata": {},
   "outputs": [
    {
     "data": {
      "text/html": [
       "<div>\n",
       "<style scoped>\n",
       "    .dataframe tbody tr th:only-of-type {\n",
       "        vertical-align: middle;\n",
       "    }\n",
       "\n",
       "    .dataframe tbody tr th {\n",
       "        vertical-align: top;\n",
       "    }\n",
       "\n",
       "    .dataframe thead th {\n",
       "        text-align: right;\n",
       "    }\n",
       "</style>\n",
       "<table border=\"1\" class=\"dataframe\">\n",
       "  <thead>\n",
       "    <tr style=\"text-align: right;\">\n",
       "      <th></th>\n",
       "      <th>Month</th>\n",
       "      <th>Team1</th>\n",
       "      <th>Team2</th>\n",
       "    </tr>\n",
       "  </thead>\n",
       "  <tbody>\n",
       "    <tr>\n",
       "      <th>5</th>\n",
       "      <td>February</td>\n",
       "      <td>Indianapolis Colts</td>\n",
       "      <td>Chicago Bears</td>\n",
       "    </tr>\n",
       "    <tr>\n",
       "      <th>1</th>\n",
       "      <td>May</td>\n",
       "      <td>Pittsburgh Steelers</td>\n",
       "      <td>Green Bay Packers</td>\n",
       "    </tr>\n",
       "    <tr>\n",
       "      <th>3</th>\n",
       "      <td>May</td>\n",
       "      <td>Indianapolis Colts</td>\n",
       "      <td>New Orleans Saints</td>\n",
       "    </tr>\n",
       "  </tbody>\n",
       "</table>\n",
       "</div>"
      ],
      "text/plain": [
       "      Month                Team1               Team2\n",
       "5  February   Indianapolis Colts       Chicago Bears\n",
       "1       May  Pittsburgh Steelers   Green Bay Packers\n",
       "3       May   Indianapolis Colts  New Orleans Saints"
      ]
     },
     "metadata": {},
     "output_type": "display_data"
    }
   ],
   "source": [
    "if msol:\n",
    "    months = [\"January\", \"February\", \"March\", \"April\", \"May\", \"June\", \n",
    "              \"July\", \"August\", \"September\", \"October\", \"November\", \"December\"]\n",
    "    report = []\n",
    "    for t in nfl_finals:\n",
    "        for m in matches:\n",
    "            if t[1] in m[1] and t[2] in m[2]:\n",
    "                report.append((m[0], months[m[0]//4], m[1], m[2], m[3]))\n",
    "            if t[2] in m[1] and t[1] in m[2]: \n",
    "                report.append((m[0], months[m[0]//4], m[1], m[2], m[3]))\n",
    "\n",
    "    matches_bd = pd.DataFrame(report)\n",
    "    matches_bd.columns = [\"week\", \"Month\", \"Team1\", \"Team2\", \"location\"]\n",
    "    try: #pandas >= 0.17\n",
    "        display(matches_bd[matches_bd['location'] != \"Home\"].sort_values(by='week').drop(labels=['week', 'location'], axis=1))\n",
    "    except:\n",
    "        display(matches_bd[matches_bd['location'] != \"Home\"].sort('week').drop(labels=['week', 'location'], axis=1))"
   ]
  },
  {
   "cell_type": "code",
   "execution_count": null,
   "metadata": {},
   "outputs": [],
   "source": []
  }
 ],
 "metadata": {
  "kernelspec": {
   "display_name": "Python 3",
   "language": "python",
   "name": "python3"
  },
  "language_info": {
   "codemirror_mode": {
    "name": "ipython",
    "version": 3
   },
   "file_extension": ".py",
   "mimetype": "text/x-python",
   "name": "python",
   "nbconvert_exporter": "python",
   "pygments_lexer": "ipython3",
   "version": "3.6.5"
  }
 },
 "nbformat": 4,
 "nbformat_minor": 2
}
