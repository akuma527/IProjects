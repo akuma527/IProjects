{
 "cells": [
  {
   "cell_type": "markdown",
   "metadata": {
    "_cell_guid": "71f2a957-f15e-4169-9e2c-feb7ee96d708",
    "_uuid": "f1d7845ff30ee0a759ca65317fff69f9392ac7d6"
   },
   "source": [
    "\n",
    "# **Hypothesis test and p-values - Exploring evolution data**\n",
    "\n",
    "\n",
    "**Introduction**\n",
    "\n",
    "Statistics is usually a weak spot for many starting on Data Science, and I don't need to reinforce how fundamental this discipline is on the particular field. The content you will go through on this Kernel comes originally from the \"Statistical Thinking II\" chapter on  [**Data Camp**](http://www.datacamp.com/home), a fantastic platform leading Data Science Education and where I found myself devoted on personal studies to aquire my python skills as well as the \"data logical thinking\". [**Data Camp**](http://www.datacamp.com/home) solves the Data Science curriculum problem for beginner data enthusiasts, in case you are in this position, go check them out!\n",
    "\n",
    "The working dataset here comes from [Dryad](http://datadryad.org/resource/doi:10.5061/dryad.g6g3h) repository. The reaserch conduced by Peter and Rosemary Grant has shown that these changes in populations can happen very quickly. The British couple, both evolutionary biologists at Princeton University, have spent six months every year capturing, tagging, and taking blood samples from finches (small birds) on the island **since 1973**. On this kernel we will use part of the data compiled to assess hypothesis tests while practicing the best practices of exploratory data analysis.\n",
    "\n",
    "Original publication:\n",
    "\n",
    "*         Grant, PR, Grant, BR (2014) 40 years of evolution: Darwin's finches on Daphne Major Island. Princeton: Princeton University Press. http://www.worldcat.org/oclc/854285415\n",
    "\n",
    "**This notebook is structured as follows:**\n",
    "\n",
    "    1. Loading libraries and data\n",
    "    2. Exploratory data analysis (EDA)\n",
    "    3. Statistical analysis\n",
    "    4. Conclusions and references on correlation and p-value analysis\n",
    "    \n",
    "   **Questions to be answered**\n",
    "\n",
    "    1. Estimate the difference of the mean beak depth of the G. scandens samples from 1975 and 2012 and report a 95% confidence interval.\n",
    "    2. Hypothesis test: Are beaks deeper in 2012?\n",
    "    3. Hypothesis test: Are lenght beaks length and depth correlated?"
   ]
  },
  {
   "cell_type": "markdown",
   "metadata": {
    "_cell_guid": "5399f57c-c3bd-4edb-b98c-03896ba222d8",
    "_uuid": "794336532d93fe1583b3f7372f8d2d677023af76"
   },
   "source": [
    "## 1. Loading libraries and data:"
   ]
  },
  {
   "cell_type": "code",
   "execution_count": 1,
   "metadata": {
    "_cell_guid": "b1076dfc-b9ad-4769-8c92-a6c4dae69d19",
    "_kg_hide-input": false,
    "_kg_hide-output": true,
    "_uuid": "8f2839f25d086af736a60e9eeb907d3b93b6e0e5"
   },
   "outputs": [],
   "source": [
    "# This Python 3 environment comes with many helpful analytics libraries installed\n",
    "# It is defined by the kaggle/python docker image: https://github.com/kaggle/docker-python\n",
    "# For example, here's several helpful packages to load in \n",
    "\n",
    "import numpy as np # linear algebra\n",
    "import pandas as pd # data processing, CSV file I/O (e.g. pd.read_csv)\n",
    "import matplotlib.pyplot as plt # data visualization\n",
    "import seaborn as sns # advanced data visualization\n",
    "\n",
    "sns.set() # Using sns graphing style\n",
    "\n",
    "%matplotlib inline\n",
    "\n",
    "# Input data files are available in the \"../input/\" directory.\n",
    "# For example, running this (by clicking run or pressing Shift+Enter) will list the files in the input directory\n",
    "\n",
    "# Any results you write to the current directory are saved as output."
   ]
  },
  {
   "cell_type": "code",
   "execution_count": null,
   "metadata": {
    "_cell_guid": "b28ba265-838b-4bca-ae9a-e8e25bb432c3",
    "_uuid": "a2b543f3fa2be6d47ea16f25f2d8073c308552a4",
    "collapsed": true
   },
   "outputs": [],
   "source": [
    "# Reading data\n",
    "\n",
    "# Compiled data\n",
    "data_1975 = pd.read_csv('../input/beaks-1975/finch_beaks_1975.csv')\n",
    "data_2012 = pd.read_csv('../input/beaks-2012/finch_beaks_2012.csv')\n",
    "\n",
    "# Summarized data\n",
    "df = pd.read_csv('../input/dryad-darwins-finches/Data for Dryad.txt', sep='\\t')"
   ]
  },
  {
   "cell_type": "code",
   "execution_count": null,
   "metadata": {
    "_cell_guid": "f622fda6-9347-4cc9-af6b-01844d3666ec",
    "_uuid": "2e54d17576de966af6456377abcd39ec6a1716d3",
    "collapsed": true
   },
   "outputs": [],
   "source": [
    "# Checking df.head from summarized data\n",
    "df.head()"
   ]
  },
  {
   "cell_type": "code",
   "execution_count": null,
   "metadata": {
    "_cell_guid": "aac74db7-3a5a-4905-9013-84cbf5f05bbc",
    "_uuid": "61ecfa043a7b2376434a6341ef9fdf0df7072922",
    "collapsed": true
   },
   "outputs": [],
   "source": [
    "# Preparing working vectors on subsets selecting scandens species from 1975 and 2012\n",
    "\n",
    "data_2012.columns = data_1975.columns\n",
    "data_2012['year'] = 2012\n",
    "data_1975['year'] = 1975\n",
    "concat_df = pd.concat([data_1975, data_2012])\n",
    "\n",
    "# Generating subsets\n",
    "sc_1975 = concat_df[(concat_df['species'] == 'scandens') & (concat_df['year'] == 1975)]\n",
    "sc_2012 = concat_df[(concat_df['species'] == 'scandens') & (concat_df['year'] == 2012)]"
   ]
  },
  {
   "cell_type": "markdown",
   "metadata": {
    "_cell_guid": "52e40824-3c6e-410f-9762-ee6764308061",
    "_uuid": "8c2db415b9825af3058f12ff3603c5624d4c4c26"
   },
   "source": [
    "## 2. Exploratory data analysis (EDA):"
   ]
  },
  {
   "cell_type": "code",
   "execution_count": null,
   "metadata": {
    "_cell_guid": "f5bc0498-ee95-446b-8a13-3e412f237001",
    "_uuid": "6e1a74b521415b99f1544bceebb383747b196226",
    "collapsed": true
   },
   "outputs": [],
   "source": [
    "# Plotting scandens distributions\n",
    "\n",
    "concat_sc = concat_df[concat_df['species'] == 'scandens']\n",
    "_ = plt.figure(figsize=(8,6))\n",
    "_ = sns.swarmplot(x='year', y='Beak depth, mm', data=concat_sc, size=4);\n",
    "_ = plt.ylabel('Beak depth (mm)')\n",
    "_ = plt.xlabel('Year')\n",
    "plt.tight_layout()"
   ]
  },
  {
   "cell_type": "code",
   "execution_count": null,
   "metadata": {
    "_cell_guid": "66c07c22-02de-43a2-bd2b-64a1dfee26fd",
    "_uuid": "f2ebfb995a7ba197e5fc090d9d460ce4a193c91f",
    "collapsed": true
   },
   "outputs": [],
   "source": [
    "# Plotting fortis distributions\n",
    "concat_sc = concat_df[concat_df['species'] == 'fortis']\n",
    "_ = plt.figure(figsize=(8,6))\n",
    "_ = sns.swarmplot(x='year', y='Beak depth, mm', data=concat_sc, size=4);\n",
    "_ = plt.ylabel('Beak depth (mm)')\n",
    "_ = plt.xlabel('Year')\n",
    "plt.tight_layout()"
   ]
  },
  {
   "cell_type": "code",
   "execution_count": null,
   "metadata": {
    "_cell_guid": "3cd8b696-b7b4-43b0-8a96-975caf7d1ca5",
    "_kg_hide-input": true,
    "_kg_hide-output": true,
    "_uuid": "78fbb268d0ce6158ae36393e833f79b5de367fc6",
    "collapsed": true
   },
   "outputs": [],
   "source": [
    "# Defining our functions from Data Camp's power toolbox\n",
    "\n",
    "# ECDF stands for empirical cumulative distribution function.  \n",
    "def ecdf(data):\n",
    "    \"\"\"\n",
    "    Compute ECDF for a one-dimensional array of measurements.\n",
    "    \n",
    "    It assigns a probability of to each datum (x axis), orders the data from smallest to largest in value, \n",
    "    and calculates the sum of the assigned probabilities up to and including each datum (x axis).\n",
    "    \"\"\"\n",
    "    \n",
    "    # Number of data points: n\n",
    "    n = len(data)\n",
    "    \n",
    "    # x-data for the ECDF: x\n",
    "    x = np.sort(data)\n",
    "    \n",
    "    # y-data for the ECDF: y\n",
    "    y = np.arange(1, n+1) / n\n",
    "    \n",
    "    return x, y\n",
    "\n",
    "def bootstrap_replicate_1d(data, func):\n",
    "    \"\"\"\n",
    "    Compute and return a bootstrap replicate, which is a statistical value according to parameter 'func'\n",
    "    on a randomized numpy array based on the given 'data'\n",
    "    \"\"\"\n",
    "    return func(np.random.choice(data, size=len(data)))\n",
    "\n",
    "def draw_bs_reps(data, func, size=1):\n",
    "    \"\"\"\n",
    "    Draw 'size' numbers of bootstrap replicates.\n",
    "    \"\"\"\n",
    "    \n",
    "    # Initialize array of replicates: bs_replicates\n",
    "    bs_replicates = np.empty(size)\n",
    "\n",
    "    # Generate replicates\n",
    "    for i in range(size):\n",
    "        bs_replicates[i] = bootstrap_replicate_1d(data, func)\n",
    "\n",
    "    return bs_replicates"
   ]
  },
  {
   "cell_type": "code",
   "execution_count": null,
   "metadata": {
    "_cell_guid": "b94d5f0f-3dbe-43b8-b757-d8930cdb3987",
    "_uuid": "9ba45adf89476d7c560016bd7ca19131934c355c",
    "collapsed": true
   },
   "outputs": [],
   "source": [
    "# Plotting an ECDF for years 1975 and 2012\n",
    "x_1975, y_1975 = ecdf(data_1975['Beak depth, mm'])\n",
    "x_2012, y_2012 = ecdf(data_2012['Beak depth, mm'])\n",
    "_ = plt.figure(figsize=(10,8))\n",
    "_ = plt.plot(x_1975, y_1975, marker='.', linestyle='none')\n",
    "_ = plt.plot(x_2012, y_2012, marker='.', linestyle='none')\n",
    "\n",
    "# Set margings\n",
    "plt.margins(0.02)\n",
    "\n",
    "# Add axis labels and legend\n",
    "_ = plt.xlabel('Beak depth (mm)')\n",
    "_ = plt.ylabel('ECDF')\n",
    "_ = plt.legend(('2012', '1975'), loc='lower right')"
   ]
  },
  {
   "cell_type": "markdown",
   "metadata": {
    "_cell_guid": "131301a3-7ba3-4a73-b20c-5106b9963d3c",
    "_uuid": "90d242bb182e05355040f08c78305b61baa64aee"
   },
   "source": [
    "The Beak depth differece is clear after plotting the ECDF. Initial conclusions are that over time the average beak depth increased."
   ]
  },
  {
   "cell_type": "markdown",
   "metadata": {
    "_cell_guid": "f132e0b5-2228-4486-9c2f-5a8a0a823168",
    "_uuid": "5ce6509138b56fd81d4f05d5b8277502bb2492d4"
   },
   "source": [
    "## 3. Statistical analysis (EDA):\n",
    "\n",
    "#### Question 1 - Estimate the difference of the mean beak depth of the G. scandens samples from 1975 and 2012 and report a 95% confidence interval."
   ]
  },
  {
   "cell_type": "code",
   "execution_count": null,
   "metadata": {
    "_cell_guid": "8f3288b5-50db-461d-97dc-ec518764898a",
    "_uuid": "87f0d914dbe619f9ab87a4033e138997086a936c",
    "collapsed": true
   },
   "outputs": [],
   "source": [
    "# Making aliases\n",
    "bd_1975 = np.array(sc_1975['Beak depth, mm'])\n",
    "bd_2012 = np.array(sc_2012['Beak depth, mm'])\n",
    "\n",
    "# Computing confidence intervals\n",
    "\n",
    "\"\"\"if we repeated the measurements over and over again, \n",
    "95% of the observed values would lie withing the 95% confidence interval\"\"\"\n",
    "\n",
    "# Compute the observed difference of the sample means: mean_diff\n",
    "mean_diff = np.mean(bd_2012) - np.mean(bd_1975)\n",
    "\n",
    "# Get bootstrap replicates of means\n",
    "bs_replicates_1975 = draw_bs_reps(bd_1975, np.mean, size=10000)\n",
    "bs_replicates_2012 = draw_bs_reps(bd_2012, np.mean, size=10000)\n",
    "\n",
    "# Compute samples of difference of means: bs_diff_replicates\n",
    "bs_diff_replicates = bs_replicates_2012 - bs_replicates_1975\n",
    "\n",
    "# Compute 95% confidence interval: conf_int\n",
    "conf_int = np.percentile(bs_diff_replicates, [2.5, 97.5])\n",
    "\n",
    "# Print the results\n",
    "print('difference of means =', mean_diff, 'mm')\n",
    "print('95% confidence interval =', conf_int, 'mm')"
   ]
  },
  {
   "cell_type": "markdown",
   "metadata": {
    "_cell_guid": "28e9e414-ff35-4d73-bc65-393c211a9b20",
    "_uuid": "91a5a8751f991424fd27aa449a4bf5212e8ab786"
   },
   "source": [
    "As **Confidence Interval** definition we have: A range of values so defined that there is a specified probability that the value of a parameter lies within it.\n",
    "\n",
    "Therefore, since we're estimating the mean value, our 95% confidence interval (estimated by the np.percentile function) tells us that in case we could gather new samples for this use case there is a 95% probability that the new mean value will lie between 0.061 and 0.391."
   ]
  },
  {
   "cell_type": "markdown",
   "metadata": {
    "_cell_guid": "fd734f53-0471-4113-bde3-2ab17b0ec8e8",
    "_uuid": "47fc5a1934e4a96e1e18431e4ac73a78b42b7ff0"
   },
   "source": [
    "#### Question 2 - Hypothesis test: Are beaks deeper in 2012?\n",
    "\n",
    "For a well conduced Hypothesis Test you need to follow some steps, which I will explain with our practical case:\n",
    "    - Null Hypothesis (Ho): The beak depth means are equal from 1975 and 2012, the different values observed are due to a random chance;\n",
    "    - Test statistics: Different between means;\n",
    "    - P-value: The probability of finding values as similar to the observed mean difference or higher;"
   ]
  },
  {
   "cell_type": "code",
   "execution_count": null,
   "metadata": {
    "_cell_guid": "02f1a757-1180-45e6-b192-ff1f2b0f1e3c",
    "_uuid": "3b2ca3878faced475deacdf41917822806efb73b",
    "collapsed": true
   },
   "outputs": [],
   "source": [
    "# Compute mean of combined data set: combined_mean\n",
    "combined_mean = np.mean(np.concatenate((bd_1975, bd_2012)))\n",
    "\n",
    "# Shift the samples\n",
    "# This is done because we are assuming in our Ho that means are equal!\n",
    "bd_1975_shifted = bd_1975 - np.mean(bd_1975) + combined_mean\n",
    "bd_2012_shifted = bd_2012 - np.mean(bd_2012) + combined_mean\n",
    "\n",
    "# Get bootstrap replicates of shifted data sets\n",
    "bs_replicates_1975 = draw_bs_reps(bd_1975_shifted, np.mean, size=10000)\n",
    "bs_replicates_2012 = draw_bs_reps(bd_2012_shifted, np.mean, size=10000)\n",
    "\n",
    "# Compute replicates of difference of means: bs_diff_replicates\n",
    "bs_diff_replicates = bs_replicates_2012 - bs_replicates_1975\n",
    "\n",
    "# Compute the p-value: p\n",
    "p = np.sum(bs_diff_replicates >= mean_diff) / len(bs_diff_replicates)\n",
    "\n",
    "# Print p-value\n",
    "print('p-value = {0:.4f}'.format(p))"
   ]
  },
  {
   "cell_type": "markdown",
   "metadata": {
    "_cell_guid": "35356c4a-201d-4579-9130-50ce2e7e3e80",
    "_uuid": "2f4a0837680110934568eaeb16a7cb665764bfc9"
   },
   "source": [
    "Having a low p-value leads us against our initial null hypothesis. In other words the probability of finding the same difference between means as observed or higher values is so low that it's more likely to assume that means are not equal at all. This conclusion contributes to our previous data visualization stating that beak depths increased over time (mean shifted to the right on ECDF plot)."
   ]
  },
  {
   "cell_type": "markdown",
   "metadata": {
    "_cell_guid": "5e86e265-0a9c-4fd0-9dc2-e5f24504c90d",
    "_uuid": "f37de3609c1fe294fab7d3aa7831905f48169e9b"
   },
   "source": [
    "#### Question 3 - Hypothesis test: Are lenght beaks length and depth correlated?\n",
    "\n",
    "Following the same steps for a well conduced Hypothesis Test:\n",
    "    - Null Hypothesis (Ho): The beak lenght and depth are not correlated at all in 1975;\n",
    "    - Test statistics: Pearson correlation;\n",
    "    - P-value: The probability of finding values as similar to the observed Pearson correlation or higher;"
   ]
  },
  {
   "cell_type": "markdown",
   "metadata": {
    "_cell_guid": "a2aa6ae7-4571-487d-92ca-48f52dd83553",
    "_uuid": "b3cfea0e50d78eea4471e1ffef4320f2173f764a"
   },
   "source": [
    "#### Starting, as always, with visualization\n",
    "According to the data distribution in a scatter plot we could get an initial sense of the data guessing possible correlations.\n",
    "\n",
    "As expected, it is possible to guess some sort of linear positive correlation for the data."
   ]
  },
  {
   "cell_type": "code",
   "execution_count": null,
   "metadata": {
    "_cell_guid": "4b493460-aacf-41a0-b34a-cb9376fc85b0",
    "_uuid": "d702325735a7dc043734558092526d875706f928",
    "collapsed": true
   },
   "outputs": [],
   "source": [
    "_ = plt.figure(figsize=(10,8))\n",
    "_ = plt.scatter(x=sc_1975['Beak length, mm'], y=sc_1975['Beak depth, mm']);\n",
    "_ = plt.xlabel('Beak length (mm)')\n",
    "_ = plt.ylabel('Beak depth (mm)')\n",
    "\n",
    "# Compute observed correlation: obs_corr_1975\n",
    "obs_corr_1975 = sc_1975[['Beak length, mm', 'Beak depth, mm']].corr().iloc[0, 1]\n",
    "print(\"Pearson correlation =\", obs_corr_1975)"
   ]
  },
  {
   "cell_type": "code",
   "execution_count": null,
   "metadata": {
    "_cell_guid": "d7ae3d23-c14f-43b1-813b-63de6d16d6f4",
    "_uuid": "d62c8ec8209eb2ee01b3b4022bc4d18d6cb89380",
    "collapsed": true
   },
   "outputs": [],
   "source": [
    "# The bootstrap test will be done by permuting Beak depth attribute while keeping Beak lenght the same, good practice for correlation bootstrap\n",
    "# Note that the .iloc[] is used to extract the correlation value ignoring the identity values from the correlation matrix\n",
    "\n",
    "# Initialize permutation replicates: perm_replicates\n",
    "perm_replicates = np.empty(10000)\n",
    "\n",
    "# Draw replicates\n",
    "for i in range(10000):\n",
    "    # Permute illiteracy measurments: illiteracy_permuted\n",
    "    beak_depth_permuted = np.random.permutation(sc_1975['Beak depth, mm'].as_matrix())\n",
    "\n",
    "    # Compute Pearson correlation\n",
    "    # Note that here np.corrcoef is used since we're working with arrays instead with a Data Frame\n",
    "    # Therefore we use [0, 1] to select the correct correlation value from the correlation matrix\n",
    "    perm_replicates[i] = np.corrcoef(beak_depth_permuted, sc_1975['Beak length, mm'].as_matrix())[1, 0]\n",
    "\n",
    "# Compute p-value: p\n",
    "p = np.sum(perm_replicates >= obs_corr_1975)/len(perm_replicates)\n",
    "print('p-val =', p)"
   ]
  },
  {
   "cell_type": "markdown",
   "metadata": {
    "_uuid": "b49c0a9a1233c2ed79c203b190e656536c8f315c"
   },
   "source": [
    "The p-value = 0 means that in 10000 replicates we could not see a single value that is similar or higher than the observed correlation, which goes against our Null Hypothesis (Ho). \n",
    "\n",
    "Therefore, it is possible to conclude that the correlation observed is not random and should be taken into consideration."
   ]
  },
  {
   "cell_type": "markdown",
   "metadata": {
    "_cell_guid": "bc37206f-4626-4934-a60c-22222460d4ee",
    "_uuid": "b500728ffa052526bdb218ea8b63f366eff03652",
    "collapsed": true
   },
   "source": [
    "## 4. Conclusions and references on correlation and p-value analysis:\n",
    "\n",
    "As I mentioned, this was one of my favorite topics so far, and even though most people go directly to machine learning and deep learning the statistical concepts here explored are a crucial part of the foundation to build good models and optimize existing ones.\n",
    "\n",
    "#### P-value:\n",
    "Initially, I thought that p-value analysis was a boolean thing, it's either less than 0.01 or \"statistically significant\" or higher meaning \"it happens due to randomness\". This is stressed more than one time by [**Data Camp**](http://www.datacamp.com/home), such analysis should not be carried in a True or False scenario, the p-value is way more complex than most people think. \n",
    "\n",
    "#### Correlation:\n",
    "After the course, correlation techniques started being part of my Exploratory Data Analysis (EDA) toolbox. Correlations address the necessity of increasing modeling efficience while enhancing the big picture of data understanding when used together with visualizations. Phenomenon such as multicollinearity effects were completely new to me while being simple and powerful concepts.\n",
    "\n",
    "#### References:\n",
    "During my studies I found very good references regarding both topics that I would like to share as a further reading:\n",
    "\n",
    "* [Science Isn't Broken](https://fivethirtyeight.com/features/science-isnt-broken/#part1) article by [FiveThirtyEight](http://fivethirtyeight.com) shown a very complicated scenario where p-values are so determinant for publishing a scientific paper nowadays that scientists are hacking statistical analysis in order to achieve significance. They provide an interactive dashboard where you can try it yourself \"hacking data for being published\". The \"Science's magic number\" is also discussed in the same aspect by [PBS](http://www.pbs.org/wgbh/nova/next/body/rethinking-sciences-magic-number/?utm_campaign=News&utm_medium=Community&utm_source=DataCamp.com).\n",
    "* The \"Introduction to Correlation\" blog from [datascience.com](http://https://www.datascience.com/learn-data-science/fundamentals/introduction-to-correlation-python-data-science) was an outstanding source for going deeper from covariance passing by Pearson and Spearman correlations with simple examples. Special note to their explanation regarding \"Correlation and Causation\" where according to data there was a high correlation for babies in Germany being delivered by storks. \n",
    "The same line of reasoning, and critic joke behind, is explored by [Spurious Correlations](http://www.tylervigen.com/spurious-correlations), in case you haven't heard of them, be mindful of their last analysis where there is a 99.76% correlation between US spendings on science, space, and technology and Suicides by hanging, strangulation, and suffocation. Correlation implies causation? Not always!  \n"
   ]
  }
 ],
 "metadata": {
  "kernelspec": {
   "display_name": "Python 3",
   "language": "python",
   "name": "python3"
  },
  "language_info": {
   "codemirror_mode": {
    "name": "ipython",
    "version": 3
   },
   "file_extension": ".py",
   "mimetype": "text/x-python",
   "name": "python",
   "nbconvert_exporter": "python",
   "pygments_lexer": "ipython3",
   "version": "3.6.5"
  }
 },
 "nbformat": 4,
 "nbformat_minor": 1
}
