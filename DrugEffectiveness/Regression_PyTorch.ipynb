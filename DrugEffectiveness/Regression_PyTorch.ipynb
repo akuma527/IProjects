{
  "nbformat": 4,
  "nbformat_minor": 0,
  "metadata": {
    "colab": {
      "name": "DrugEffectiveness_PyTorch",
      "provenance": [],
      "authorship_tag": "ABX9TyOPr+UgesKQKsc431fZbmYe"
    },
    "kernelspec": {
      "name": "python3",
      "display_name": "Python 3"
    }
  },
  "cells": [
    {
      "cell_type": "code",
      "metadata": {
        "id": "5rJcAaTt2S85",
        "colab_type": "code",
        "colab": {}
      },
      "source": [
        "import pandas as pd\n",
        "import matplotlib.pyplot as plt\n",
        "%matplotlib inline\n",
        "from tqdm import tqdm_notebook\n",
        "from sklearn.model_selection import train_test_split\n",
        "import numpy as np"
      ],
      "execution_count": 0,
      "outputs": []
    },
    {
      "cell_type": "code",
      "metadata": {
        "id": "x2e3acyI2XaO",
        "colab_type": "code",
        "colab": {}
      },
      "source": [
        "df = pd.read_csv('train.csv')\n",
        "test = pd.read_csv('test.csv')"
      ],
      "execution_count": 0,
      "outputs": []
    },
    {
      "cell_type": "code",
      "metadata": {
        "id": "pW7pCJbz2b4s",
        "colab_type": "code",
        "colab": {}
      },
      "source": [
        "from sklearn.preprocessing import LabelEncoder, StandardScaler"
      ],
      "execution_count": 0,
      "outputs": []
    },
    {
      "cell_type": "code",
      "metadata": {
        "id": "M2Zj7-eJ2weV",
        "colab_type": "code",
        "colab": {}
      },
      "source": [
        "la = LabelEncoder()\n",
        "la2 = LabelEncoder()\n",
        "std = StandardScaler()"
      ],
      "execution_count": 0,
      "outputs": []
    },
    {
      "cell_type": "code",
      "metadata": {
        "id": "fvRLPQY42ypr",
        "colab_type": "code",
        "outputId": "a85c124b-c5f3-457b-e030-cc30298fd2fe",
        "colab": {
          "base_uri": "https://localhost:8080/",
          "height": 390
        }
      },
      "source": [
        "total = df.append(test)\n",
        "total.head()"
      ],
      "execution_count": 5,
      "outputs": [
        {
          "output_type": "execute_result",
          "data": {
            "text/html": [
              "<div>\n",
              "<style scoped>\n",
              "    .dataframe tbody tr th:only-of-type {\n",
              "        vertical-align: middle;\n",
              "    }\n",
              "\n",
              "    .dataframe tbody tr th {\n",
              "        vertical-align: top;\n",
              "    }\n",
              "\n",
              "    .dataframe thead th {\n",
              "        text-align: right;\n",
              "    }\n",
              "</style>\n",
              "<table border=\"1\" class=\"dataframe\">\n",
              "  <thead>\n",
              "    <tr style=\"text-align: right;\">\n",
              "      <th></th>\n",
              "      <th>patient_id</th>\n",
              "      <th>name_of_drug</th>\n",
              "      <th>use_case_for_drug</th>\n",
              "      <th>review_by_patient</th>\n",
              "      <th>effectiveness_rating</th>\n",
              "      <th>drug_approved_by_UIC</th>\n",
              "      <th>number_of_times_prescribed</th>\n",
              "      <th>base_score</th>\n",
              "    </tr>\n",
              "  </thead>\n",
              "  <tbody>\n",
              "    <tr>\n",
              "      <th>0</th>\n",
              "      <td>206461</td>\n",
              "      <td>Valsartan</td>\n",
              "      <td>Left Ventricular Dysfunction</td>\n",
              "      <td>\"It has no side effect, I take it in combinati...</td>\n",
              "      <td>9</td>\n",
              "      <td>20-May-12</td>\n",
              "      <td>27</td>\n",
              "      <td>8.022969</td>\n",
              "    </tr>\n",
              "    <tr>\n",
              "      <th>1</th>\n",
              "      <td>95260</td>\n",
              "      <td>Guanfacine</td>\n",
              "      <td>ADHD</td>\n",
              "      <td>\"My son is halfway through his fourth week of ...</td>\n",
              "      <td>8</td>\n",
              "      <td>27-Apr-10</td>\n",
              "      <td>192</td>\n",
              "      <td>7.858458</td>\n",
              "    </tr>\n",
              "    <tr>\n",
              "      <th>2</th>\n",
              "      <td>92703</td>\n",
              "      <td>Lybrel</td>\n",
              "      <td>Birth Control</td>\n",
              "      <td>\"I used to take another oral contraceptive, wh...</td>\n",
              "      <td>5</td>\n",
              "      <td>14-Dec-09</td>\n",
              "      <td>17</td>\n",
              "      <td>6.341969</td>\n",
              "    </tr>\n",
              "    <tr>\n",
              "      <th>3</th>\n",
              "      <td>35696</td>\n",
              "      <td>Buprenorphine / naloxone</td>\n",
              "      <td>Opiate Dependence</td>\n",
              "      <td>\"Suboxone has completely turned my life around...</td>\n",
              "      <td>9</td>\n",
              "      <td>27-Nov-16</td>\n",
              "      <td>37</td>\n",
              "      <td>6.590176</td>\n",
              "    </tr>\n",
              "    <tr>\n",
              "      <th>4</th>\n",
              "      <td>155963</td>\n",
              "      <td>Cialis</td>\n",
              "      <td>Benign Prostatic Hyperplasia</td>\n",
              "      <td>\"2nd day on 5mg started to work with rock hard...</td>\n",
              "      <td>2</td>\n",
              "      <td>28-Nov-15</td>\n",
              "      <td>43</td>\n",
              "      <td>6.144782</td>\n",
              "    </tr>\n",
              "  </tbody>\n",
              "</table>\n",
              "</div>"
            ],
            "text/plain": [
              "   patient_id              name_of_drug  ... number_of_times_prescribed base_score\n",
              "0      206461                 Valsartan  ...                         27   8.022969\n",
              "1       95260                Guanfacine  ...                        192   7.858458\n",
              "2       92703                    Lybrel  ...                         17   6.341969\n",
              "3       35696  Buprenorphine / naloxone  ...                         37   6.590176\n",
              "4      155963                    Cialis  ...                         43   6.144782\n",
              "\n",
              "[5 rows x 8 columns]"
            ]
          },
          "metadata": {
            "tags": []
          },
          "execution_count": 5
        }
      ]
    },
    {
      "cell_type": "code",
      "metadata": {
        "id": "tO75Xls420wL",
        "colab_type": "code",
        "colab": {}
      },
      "source": [
        "total['enc_ucd'] = la.fit_transform(total['use_case_for_drug'])"
      ],
      "execution_count": 0,
      "outputs": []
    },
    {
      "cell_type": "code",
      "metadata": {
        "id": "bt3tza8N23w0",
        "colab_type": "code",
        "colab": {}
      },
      "source": [
        "total['enc_nod'] = la2.fit_transform(total['name_of_drug'])"
      ],
      "execution_count": 0,
      "outputs": []
    },
    {
      "cell_type": "code",
      "metadata": {
        "id": "llSwo83a25ps",
        "colab_type": "code",
        "colab": {}
      },
      "source": [
        "train = total[~total['base_score'].isna()].reset_index(drop=True)\n",
        "test = total[total['base_score'].isna()].reset_index(drop=True)"
      ],
      "execution_count": 0,
      "outputs": []
    },
    {
      "cell_type": "code",
      "metadata": {
        "id": "mQM5NP_q27ll",
        "colab_type": "code",
        "colab": {}
      },
      "source": [
        "X_train, X_test, y_train, y_test = train_test_split(train[['enc_nod', 'enc_ucd', \n",
        "                                                           'effectiveness_rating',\n",
        "                                                           'number_of_times_prescribed']], train['base_score'], test_size=0.33, random_state=42)"
      ],
      "execution_count": 0,
      "outputs": []
    },
    {
      "cell_type": "code",
      "metadata": {
        "id": "cv7U6qy829JQ",
        "colab_type": "code",
        "colab": {}
      },
      "source": [
        "xar = std.fit_transform(np.array(train[['enc_nod', 'enc_ucd', 'effectiveness_rating', 'number_of_times_prescribed']]))\n",
        "y = np.array(train['base_score'])"
      ],
      "execution_count": 0,
      "outputs": []
    },
    {
      "cell_type": "code",
      "metadata": {
        "id": "PCTd-eVy7-Jo",
        "colab_type": "code",
        "colab": {}
      },
      "source": [
        "import torch\n",
        "import torch.nn as nn\n",
        "from torch.autograd import Variable\n",
        "import torch.functional as F\n",
        "from torch.utils.data import Dataset, DataLoader\n",
        "from torch.utils.data.sampler import SubsetRandomSampler"
      ],
      "execution_count": 0,
      "outputs": []
    },
    {
      "cell_type": "code",
      "metadata": {
        "id": "bzoLuAUv3Dqp",
        "colab_type": "code",
        "colab": {}
      },
      "source": [
        "x =  Variable(torch.from_numpy(xar))\n",
        "y =  Variable(torch.tensor(y, dtype=torch.float))"
      ],
      "execution_count": 0,
      "outputs": []
    },
    {
      "cell_type": "code",
      "metadata": {
        "id": "lfcRbiLG7RHu",
        "colab_type": "code",
        "colab": {}
      },
      "source": [
        "import numpy as np\n",
        "from sklearn.datasets import load_boston\n",
        "from sklearn.preprocessing import StandardScaler\n",
        "from sklearn.model_selection import train_test_split\n",
        "\n",
        "X_train, X_test, y_train, y_test = train_test_split(xar, y, test_size=0.33, random_state=42)\n",
        "\n",
        "\n",
        "input_size = 4\n",
        "h1 = 128\n",
        "h2 = 256\n",
        "h3 = 256\n",
        "h4 = 256\n",
        "learning_rate = 0.000001\n",
        "batch_size = 256\n",
        "num_epochs = 300"
      ],
      "execution_count": 0,
      "outputs": []
    },
    {
      "cell_type": "code",
      "metadata": {
        "id": "2BTny0iyQmIC",
        "colab_type": "code",
        "colab": {}
      },
      "source": [
        "class PrepareData(Dataset):\n",
        "\n",
        "    def __init__(self, X, y, scale_X=True):\n",
        "        if not torch.is_tensor(X):\n",
        "            if scale_X:\n",
        "                X = StandardScaler().fit_transform(X)\n",
        "            self.X = torch.from_numpy(X)\n",
        "        if not torch.is_tensor(y):\n",
        "            self.y = torch.from_numpy(y)\n",
        "\n",
        "    def __len__(self):\n",
        "        return len(self.X)\n",
        "\n",
        "    def __getitem__(self, idx):\n",
        "        return self.X[idx], self.y[idx]\n",
        "\n",
        "train_ds = PrepareData(np.array(X_train), y=np.array(y_train), scale_X=False)\n",
        "test_ds = PrepareData(np.array(X_test), y=np.array(y_test), scale_X=False)\n",
        "\n",
        "train_set = DataLoader(train_ds, batch_size=batch_size,\n",
        "                       shuffle=True)\n",
        "test_set = DataLoader(test_ds, batch_size=batch_size,\n",
        "                      shuffle=True)\n",
        "\n",
        "class RegressionModel(nn.Module):\n",
        "\n",
        "    def __init__(self, input_size, hidden_size1, hidden_size2, hidden_size3, hidden_size4):\n",
        "        super(RegressionModel, self).__init__()\n",
        "        self.dense_h1 = nn.Linear(in_features=input_size, out_features=hidden_size1)\n",
        "        self.relu_h1 = nn.ReLU()\n",
        "        self.dropout1 = nn.Dropout(p=0.3)\n",
        "        self.dense_h2 = nn.Linear(in_features=hidden_size1, out_features=hidden_size2)\n",
        "        self.relu_h2 = nn.ReLU()\n",
        "        self.dropout2 = nn.Dropout(p=0.3)\n",
        "        self.dense_h3 = nn.Linear(in_features=hidden_size2, out_features=hidden_size3)\n",
        "        self.relu_h3 = nn.ReLU()\n",
        "        self.dropout3 = nn.Dropout(p=0.2)\n",
        "        self.dense_h4 = nn.Linear(in_features=hidden_size3, out_features=hidden_size4)\n",
        "        self.relu_h4 = nn.ReLU()\n",
        "        self.dropout4 = nn.Dropout(p=0.2)\n",
        "        self.dense_out = nn.Linear(in_features=hidden_size4, out_features=1)\n",
        "\n",
        "    def forward(self, X):\n",
        "\n",
        "        out = self.relu_h1(self.dense_h1(X))\n",
        "        out = self.dropout1(out)\n",
        "        out = self.relu_h2(self.dense_h2(out))\n",
        "        out = self.dropout2(out)\n",
        "        out = self.relu_h3(self.dense_h3(out))\n",
        "        out = self.dropout3(out)\n",
        "        out = self.relu_h4(self.dense_h4(out))\n",
        "        out = self.dropout4(out)\n",
        "        out = self.dense_out(out)\n",
        "        return out\n",
        "\n",
        "m = RegressionModel(input_size=input_size, hidden_size1=h1, hidden_size2=h2,\n",
        "                    hidden_size3=h3, hidden_size4=h4)\n",
        "\n",
        "cost_func = nn.MSELoss()\n",
        "optimizer = torch.optim.Adam(m.parameters(), lr=learning_rate)\n"
      ],
      "execution_count": 0,
      "outputs": []
    },
    {
      "cell_type": "code",
      "metadata": {
        "id": "i1yrI727Qr0w",
        "colab_type": "code",
        "colab": {}
      },
      "source": [
        "for e in range(num_epochs):\n",
        "    train_loss = 0\n",
        "    m.train()\n",
        "    for i, b in enumerate(train_set):\n",
        "\n",
        "        _X = Variable(b[0]).float()\n",
        "        _y = Variable(b[1]).float()\n",
        "        # print(_y)\n",
        "\n",
        "        #==========Forward pass===============\n",
        "\n",
        "        preds = m(_X)\n",
        "        loss = cost_func(preds, _y)\n",
        "\n",
        "        #==========backward pass==============\n",
        "\n",
        "        optimizer.zero_grad()\n",
        "        loss.backward()\n",
        "        optimizer.step()\n",
        "        train_loss += loss.item()\n",
        "\n",
        "\n",
        "    m.eval()\n",
        "    valid_loss = 0\n",
        "    with torch.no_grad():\n",
        "        for i, b in enumerate(test_set):\n",
        "\n",
        "            _X = Variable(b[0]).float()\n",
        "            _y = Variable(b[1]).float()\n",
        "\n",
        "            #apply model\n",
        "            test_preds = m(_X)\n",
        "            test_loss = cost_func(test_preds, _y)\n",
        "\n",
        "            valid_loss += loss.item()\n",
        "    \n",
        "    #########################\n",
        "    ## PRINT EPOCH RESULTS ##\n",
        "    #########################\n",
        "    train_loss /= len(train_set)\n",
        "    valid_loss /= len(test_set)\n",
        "    print(f'Epoch: {e+1}/{num_epochs}.. Training loss: {train_loss}.. Validation Loss: {valid_loss}')\n",
        "    # print(f'Training accuracy: {100 * score_func(y_train, train_pred)}, Validation accuracy: {100 * score_func(y_test, test_pred)}')\n",
        "    "
      ],
      "execution_count": 0,
      "outputs": []
    },
    {
      "cell_type": "code",
      "metadata": {
        "id": "W9RVRrlsSYGX",
        "colab_type": "code",
        "colab": {}
      },
      "source": [
        "tt = np.array(test[['enc_nod', 'enc_ucd', 'effectiveness_rating', 'number_of_times_prescribed']])"
      ],
      "execution_count": 0,
      "outputs": []
    },
    {
      "cell_type": "code",
      "metadata": {
        "id": "vCXgr7Idfnvr",
        "colab_type": "code",
        "outputId": "fd698f8b-a488-486a-ee9a-7dcef9eced6c",
        "colab": {
          "base_uri": "https://localhost:8080/",
          "height": 141
        }
      },
      "source": [
        "m.eval()\n",
        "xt =  Variable(torch.from_numpy(std.transform(tt))).float()\n",
        "m(xt)"
      ],
      "execution_count": 53,
      "outputs": [
        {
          "output_type": "execute_result",
          "data": {
            "text/plain": [
              "tensor([[5.4460],\n",
              "        [5.7320],\n",
              "        [5.7179],\n",
              "        ...,\n",
              "        [5.7366],\n",
              "        [5.6295],\n",
              "        [5.6030]], grad_fn=<AddmmBackward>)"
            ]
          },
          "metadata": {
            "tags": []
          },
          "execution_count": 53
        }
      ]
    },
    {
      "cell_type": "code",
      "metadata": {
        "id": "Uch405ouiVwO",
        "colab_type": "code",
        "outputId": "475a86e6-b2ca-4ba7-bbc9-4c08a73c481b",
        "colab": {
          "base_uri": "https://localhost:8080/",
          "height": 35
        }
      },
      "source": [
        "xt[0]"
      ],
      "execution_count": 27,
      "outputs": [
        {
          "output_type": "execute_result",
          "data": {
            "text/plain": [
              "tensor([1406.,  193.,   10.,   22.])"
            ]
          },
          "metadata": {
            "tags": []
          },
          "execution_count": 27
        }
      ]
    },
    {
      "cell_type": "code",
      "metadata": {
        "id": "aC0aN7HiCGhj",
        "colab_type": "code",
        "colab": {}
      },
      "source": [
        ""
      ],
      "execution_count": 0,
      "outputs": []
    }
  ]
}