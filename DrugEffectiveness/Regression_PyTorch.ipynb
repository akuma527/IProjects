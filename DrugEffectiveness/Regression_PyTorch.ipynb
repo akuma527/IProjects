{
 "cells": [
  {
   "cell_type": "code",
   "execution_count": 0,
   "metadata": {
    "colab": {},
    "colab_type": "code",
    "id": "5rJcAaTt2S85"
   },
   "outputs": [],
   "source": [
    "import pandas as pd\n",
    "import matplotlib.pyplot as plt\n",
    "%matplotlib inline\n",
    "from tqdm import tqdm_notebook\n",
    "from sklearn.model_selection import train_test_split\n",
    "import numpy as np"
   ]
  },
  {
   "cell_type": "code",
   "execution_count": 0,
   "metadata": {
    "colab": {},
    "colab_type": "code",
    "id": "x2e3acyI2XaO"
   },
   "outputs": [],
   "source": [
    "df = pd.read_csv('train.csv')\n",
    "test = pd.read_csv('test.csv')"
   ]
  },
  {
   "cell_type": "code",
   "execution_count": 0,
   "metadata": {
    "colab": {},
    "colab_type": "code",
    "id": "pW7pCJbz2b4s"
   },
   "outputs": [],
   "source": [
    "from sklearn.preprocessing import LabelEncoder, StandardScaler"
   ]
  },
  {
   "cell_type": "code",
   "execution_count": 0,
   "metadata": {
    "colab": {},
    "colab_type": "code",
    "id": "M2Zj7-eJ2weV"
   },
   "outputs": [],
   "source": [
    "la = LabelEncoder()\n",
    "la2 = LabelEncoder()\n",
    "std = StandardScaler()"
   ]
  },
  {
   "cell_type": "code",
   "execution_count": 5,
   "metadata": {
    "colab": {
     "base_uri": "https://localhost:8080/",
     "height": 390
    },
    "colab_type": "code",
    "id": "fvRLPQY42ypr",
    "outputId": "a85c124b-c5f3-457b-e030-cc30298fd2fe"
   },
   "outputs": [
    {
     "data": {
      "text/html": [
       "<div>\n",
       "<style scoped>\n",
       "    .dataframe tbody tr th:only-of-type {\n",
       "        vertical-align: middle;\n",
       "    }\n",
       "\n",
       "    .dataframe tbody tr th {\n",
       "        vertical-align: top;\n",
       "    }\n",
       "\n",
       "    .dataframe thead th {\n",
       "        text-align: right;\n",
       "    }\n",
       "</style>\n",
       "<table border=\"1\" class=\"dataframe\">\n",
       "  <thead>\n",
       "    <tr style=\"text-align: right;\">\n",
       "      <th></th>\n",
       "      <th>patient_id</th>\n",
       "      <th>name_of_drug</th>\n",
       "      <th>use_case_for_drug</th>\n",
       "      <th>review_by_patient</th>\n",
       "      <th>effectiveness_rating</th>\n",
       "      <th>drug_approved_by_UIC</th>\n",
       "      <th>number_of_times_prescribed</th>\n",
       "      <th>base_score</th>\n",
       "    </tr>\n",
       "  </thead>\n",
       "  <tbody>\n",
       "    <tr>\n",
       "      <th>0</th>\n",
       "      <td>206461</td>\n",
       "      <td>Valsartan</td>\n",
       "      <td>Left Ventricular Dysfunction</td>\n",
       "      <td>\"It has no side effect, I take it in combinati...</td>\n",
       "      <td>9</td>\n",
       "      <td>20-May-12</td>\n",
       "      <td>27</td>\n",
       "      <td>8.022969</td>\n",
       "    </tr>\n",
       "    <tr>\n",
       "      <th>1</th>\n",
       "      <td>95260</td>\n",
       "      <td>Guanfacine</td>\n",
       "      <td>ADHD</td>\n",
       "      <td>\"My son is halfway through his fourth week of ...</td>\n",
       "      <td>8</td>\n",
       "      <td>27-Apr-10</td>\n",
       "      <td>192</td>\n",
       "      <td>7.858458</td>\n",
       "    </tr>\n",
       "    <tr>\n",
       "      <th>2</th>\n",
       "      <td>92703</td>\n",
       "      <td>Lybrel</td>\n",
       "      <td>Birth Control</td>\n",
       "      <td>\"I used to take another oral contraceptive, wh...</td>\n",
       "      <td>5</td>\n",
       "      <td>14-Dec-09</td>\n",
       "      <td>17</td>\n",
       "      <td>6.341969</td>\n",
       "    </tr>\n",
       "    <tr>\n",
       "      <th>3</th>\n",
       "      <td>35696</td>\n",
       "      <td>Buprenorphine / naloxone</td>\n",
       "      <td>Opiate Dependence</td>\n",
       "      <td>\"Suboxone has completely turned my life around...</td>\n",
       "      <td>9</td>\n",
       "      <td>27-Nov-16</td>\n",
       "      <td>37</td>\n",
       "      <td>6.590176</td>\n",
       "    </tr>\n",
       "    <tr>\n",
       "      <th>4</th>\n",
       "      <td>155963</td>\n",
       "      <td>Cialis</td>\n",
       "      <td>Benign Prostatic Hyperplasia</td>\n",
       "      <td>\"2nd day on 5mg started to work with rock hard...</td>\n",
       "      <td>2</td>\n",
       "      <td>28-Nov-15</td>\n",
       "      <td>43</td>\n",
       "      <td>6.144782</td>\n",
       "    </tr>\n",
       "  </tbody>\n",
       "</table>\n",
       "</div>"
      ],
      "text/plain": [
       "   patient_id              name_of_drug  ... number_of_times_prescribed base_score\n",
       "0      206461                 Valsartan  ...                         27   8.022969\n",
       "1       95260                Guanfacine  ...                        192   7.858458\n",
       "2       92703                    Lybrel  ...                         17   6.341969\n",
       "3       35696  Buprenorphine / naloxone  ...                         37   6.590176\n",
       "4      155963                    Cialis  ...                         43   6.144782\n",
       "\n",
       "[5 rows x 8 columns]"
      ]
     },
     "execution_count": 5,
     "metadata": {
      "tags": []
     },
     "output_type": "execute_result"
    }
   ],
   "source": [
    "total = df.append(test)\n",
    "total.head()"
   ]
  },
  {
   "cell_type": "code",
   "execution_count": 0,
   "metadata": {
    "colab": {},
    "colab_type": "code",
    "id": "tO75Xls420wL"
   },
   "outputs": [],
   "source": [
    "total['enc_ucd'] = la.fit_transform(total['use_case_for_drug'])"
   ]
  },
  {
   "cell_type": "code",
   "execution_count": 0,
   "metadata": {
    "colab": {},
    "colab_type": "code",
    "id": "bt3tza8N23w0"
   },
   "outputs": [],
   "source": [
    "total['enc_nod'] = la2.fit_transform(total['name_of_drug'])"
   ]
  },
  {
   "cell_type": "code",
   "execution_count": 0,
   "metadata": {
    "colab": {},
    "colab_type": "code",
    "id": "llSwo83a25ps"
   },
   "outputs": [],
   "source": [
    "train = total[~total['base_score'].isna()].reset_index(drop=True)\n",
    "test = total[total['base_score'].isna()].reset_index(drop=True)"
   ]
  },
  {
   "cell_type": "code",
   "execution_count": 0,
   "metadata": {
    "colab": {},
    "colab_type": "code",
    "id": "mQM5NP_q27ll"
   },
   "outputs": [],
   "source": [
    "X_train, X_test, y_train, y_test = train_test_split(train[['enc_nod', 'enc_ucd', \n",
    "                                                           'effectiveness_rating',\n",
    "                                                           'number_of_times_prescribed']], train['base_score'], test_size=0.33, random_state=42)"
   ]
  },
  {
   "cell_type": "code",
   "execution_count": 0,
   "metadata": {
    "colab": {},
    "colab_type": "code",
    "id": "cv7U6qy829JQ"
   },
   "outputs": [],
   "source": [
    "xar = std.fit_transform(np.array(train[['enc_nod', 'enc_ucd', 'effectiveness_rating', 'number_of_times_prescribed']]))\n",
    "y = np.array(train['base_score'])"
   ]
  },
  {
   "cell_type": "code",
   "execution_count": 0,
   "metadata": {
    "colab": {},
    "colab_type": "code",
    "id": "PCTd-eVy7-Jo"
   },
   "outputs": [],
   "source": [
    "import torch\n",
    "import torch.nn as nn\n",
    "from torch.autograd import Variable\n",
    "import torch.functional as F\n",
    "from torch.utils.data import Dataset, DataLoader\n",
    "from torch.utils.data.sampler import SubsetRandomSampler"
   ]
  },
  {
   "cell_type": "code",
   "execution_count": 0,
   "metadata": {
    "colab": {},
    "colab_type": "code",
    "id": "bzoLuAUv3Dqp"
   },
   "outputs": [],
   "source": [
    "x =  Variable(torch.from_numpy(xar))\n",
    "y =  Variable(torch.tensor(y, dtype=torch.float))"
   ]
  },
  {
   "cell_type": "code",
   "execution_count": 0,
   "metadata": {
    "colab": {},
    "colab_type": "code",
    "id": "lfcRbiLG7RHu"
   },
   "outputs": [],
   "source": [
    "import numpy as np\n",
    "from sklearn.datasets import load_boston\n",
    "from sklearn.preprocessing import StandardScaler\n",
    "from sklearn.model_selection import train_test_split\n",
    "\n",
    "X_train, X_test, y_train, y_test = train_test_split(xar, y, test_size=0.33, random_state=42)\n",
    "\n",
    "\n",
    "input_size = 4\n",
    "h1 = 128\n",
    "h2 = 256\n",
    "h3 = 256\n",
    "h4 = 256\n",
    "learning_rate = 0.000001\n",
    "batch_size = 256\n",
    "num_epochs = 300"
   ]
  },
  {
   "cell_type": "code",
   "execution_count": 0,
   "metadata": {
    "colab": {},
    "colab_type": "code",
    "id": "2BTny0iyQmIC"
   },
   "outputs": [],
   "source": [
    "class PrepareData(Dataset):\n",
    "\n",
    "    def __init__(self, X, y, scale_X=True):\n",
    "        if not torch.is_tensor(X):\n",
    "            if scale_X:\n",
    "                X = StandardScaler().fit_transform(X)\n",
    "            self.X = torch.from_numpy(X)\n",
    "        if not torch.is_tensor(y):\n",
    "            self.y = torch.from_numpy(y)\n",
    "\n",
    "    def __len__(self):\n",
    "        return len(self.X)\n",
    "\n",
    "    def __getitem__(self, idx):\n",
    "        return self.X[idx], self.y[idx]\n",
    "\n",
    "train_ds = PrepareData(np.array(X_train), y=np.array(y_train), scale_X=False)\n",
    "test_ds = PrepareData(np.array(X_test), y=np.array(y_test), scale_X=False)\n",
    "\n",
    "train_set = DataLoader(train_ds, batch_size=batch_size,\n",
    "                       shuffle=True)\n",
    "test_set = DataLoader(test_ds, batch_size=batch_size,\n",
    "                      shuffle=True)\n",
    "\n",
    "class RegressionModel(nn.Module):\n",
    "\n",
    "    def __init__(self, input_size, hidden_size1, hidden_size2, hidden_size3, hidden_size4):\n",
    "        super(RegressionModel, self).__init__()\n",
    "        self.dense_h1 = nn.Linear(in_features=input_size, out_features=hidden_size1)\n",
    "        self.relu_h1 = nn.ReLU()\n",
    "        self.dropout1 = nn.Dropout(p=0.3)\n",
    "        self.dense_h2 = nn.Linear(in_features=hidden_size1, out_features=hidden_size2)\n",
    "        self.relu_h2 = nn.ReLU()\n",
    "        self.dropout2 = nn.Dropout(p=0.3)\n",
    "        self.dense_h3 = nn.Linear(in_features=hidden_size2, out_features=hidden_size3)\n",
    "        self.relu_h3 = nn.ReLU()\n",
    "        self.dropout3 = nn.Dropout(p=0.2)\n",
    "        self.dense_h4 = nn.Linear(in_features=hidden_size3, out_features=hidden_size4)\n",
    "        self.relu_h4 = nn.ReLU()\n",
    "        self.dropout4 = nn.Dropout(p=0.2)\n",
    "        self.dense_out = nn.Linear(in_features=hidden_size4, out_features=1)\n",
    "\n",
    "    def forward(self, X):\n",
    "\n",
    "        out = self.relu_h1(self.dense_h1(X))\n",
    "        out = self.dropout1(out)\n",
    "        out = self.relu_h2(self.dense_h2(out))\n",
    "        out = self.dropout2(out)\n",
    "        out = self.relu_h3(self.dense_h3(out))\n",
    "        out = self.dropout3(out)\n",
    "        out = self.relu_h4(self.dense_h4(out))\n",
    "        out = self.dropout4(out)\n",
    "        out = self.dense_out(out)\n",
    "        return out\n",
    "\n",
    "m = RegressionModel(input_size=input_size, hidden_size1=h1, hidden_size2=h2,\n",
    "                    hidden_size3=h3, hidden_size4=h4)\n",
    "\n",
    "cost_func = nn.MSELoss()\n",
    "optimizer = torch.optim.Adam(m.parameters(), lr=learning_rate)\n"
   ]
  },
  {
   "cell_type": "code",
   "execution_count": 0,
   "metadata": {
    "colab": {},
    "colab_type": "code",
    "id": "i1yrI727Qr0w"
   },
   "outputs": [],
   "source": [
    "for e in range(num_epochs):\n",
    "    train_loss = 0\n",
    "    m.train()\n",
    "    for i, b in enumerate(train_set):\n",
    "\n",
    "        _X = Variable(b[0]).float()\n",
    "        _y = Variable(b[1]).float()\n",
    "        # print(_y)\n",
    "\n",
    "        #==========Forward pass===============\n",
    "\n",
    "        preds = m(_X)\n",
    "        loss = cost_func(preds, _y)\n",
    "\n",
    "        #==========backward pass==============\n",
    "\n",
    "        optimizer.zero_grad()\n",
    "        loss.backward()\n",
    "        optimizer.step()\n",
    "        train_loss += loss.item()\n",
    "\n",
    "\n",
    "    m.eval()\n",
    "    valid_loss = 0\n",
    "    with torch.no_grad():\n",
    "        for i, b in enumerate(test_set):\n",
    "\n",
    "            _X = Variable(b[0]).float()\n",
    "            _y = Variable(b[1]).float()\n",
    "\n",
    "            #apply model\n",
    "            test_preds = m(_X)\n",
    "            test_loss = cost_func(test_preds, _y)\n",
    "\n",
    "            valid_loss += loss.item()\n",
    "    \n",
    "    #########################\n",
    "    ## PRINT EPOCH RESULTS ##\n",
    "    #########################\n",
    "    train_loss /= len(train_set)\n",
    "    valid_loss /= len(test_set)\n",
    "    print(f'Epoch: {e+1}/{num_epochs}.. Training loss: {train_loss}.. Validation Loss: {valid_loss}')\n",
    "    # print(f'Training accuracy: {100 * score_func(y_train, train_pred)}, Validation accuracy: {100 * score_func(y_test, test_pred)}')\n",
    "    "
   ]
  },
  {
   "cell_type": "code",
   "execution_count": 0,
   "metadata": {
    "colab": {},
    "colab_type": "code",
    "id": "W9RVRrlsSYGX"
   },
   "outputs": [],
   "source": [
    "tt = np.array(test[['enc_nod', 'enc_ucd', 'effectiveness_rating', 'number_of_times_prescribed']])"
   ]
  },
  {
   "cell_type": "code",
   "execution_count": 53,
   "metadata": {
    "colab": {
     "base_uri": "https://localhost:8080/",
     "height": 141
    },
    "colab_type": "code",
    "id": "vCXgr7Idfnvr",
    "outputId": "fd698f8b-a488-486a-ee9a-7dcef9eced6c"
   },
   "outputs": [
    {
     "data": {
      "text/plain": [
       "tensor([[5.4460],\n",
       "        [5.7320],\n",
       "        [5.7179],\n",
       "        ...,\n",
       "        [5.7366],\n",
       "        [5.6295],\n",
       "        [5.6030]], grad_fn=<AddmmBackward>)"
      ]
     },
     "execution_count": 53,
     "metadata": {
      "tags": []
     },
     "output_type": "execute_result"
    }
   ],
   "source": [
    "m.eval()\n",
    "xt =  Variable(torch.from_numpy(std.transform(tt))).float()\n",
    "m(xt)"
   ]
  },
  {
   "cell_type": "code",
   "execution_count": 27,
   "metadata": {
    "colab": {
     "base_uri": "https://localhost:8080/",
     "height": 35
    },
    "colab_type": "code",
    "id": "Uch405ouiVwO",
    "outputId": "475a86e6-b2ca-4ba7-bbc9-4c08a73c481b"
   },
   "outputs": [
    {
     "data": {
      "text/plain": [
       "tensor([1406.,  193.,   10.,   22.])"
      ]
     },
     "execution_count": 27,
     "metadata": {
      "tags": []
     },
     "output_type": "execute_result"
    }
   ],
   "source": [
    "xt[0]"
   ]
  },
  {
   "cell_type": "code",
   "execution_count": 0,
   "metadata": {
    "colab": {},
    "colab_type": "code",
    "id": "aC0aN7HiCGhj"
   },
   "outputs": [],
   "source": []
  }
 ],
 "metadata": {
  "colab": {
   "authorship_tag": "ABX9TyOPr+UgesKQKsc431fZbmYe",
   "name": "DrugEffectiveness_PyTorch",
   "provenance": []
  },
  "kernelspec": {
   "display_name": "Python 3",
   "language": "python",
   "name": "python3"
  },
  "language_info": {
   "codemirror_mode": {
    "name": "ipython",
    "version": 3
   },
   "file_extension": ".py",
   "mimetype": "text/x-python",
   "name": "python",
   "nbconvert_exporter": "python",
   "pygments_lexer": "ipython3",
   "version": "3.6.5"
  }
 },
 "nbformat": 4,
 "nbformat_minor": 1
}
